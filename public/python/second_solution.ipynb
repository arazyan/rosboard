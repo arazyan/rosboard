{
 "cells": [
  {
   "cell_type": "code",
   "execution_count": 155,
   "id": "cb1357b5",
   "metadata": {},
   "outputs": [],
   "source": [
    "from sklearn.model_selection import train_test_split\n",
    "\n",
    "import datetime\n",
    "import pandas as pd\n",
    "import numpy as np\n",
    "\n",
    "import panel as pn\n",
    "pn.extension('tabulator', sizing_mode=\"stretch_width\")\n",
    "\n",
    "import hvplot.pandas\n",
    "import holoviews as hv\n",
    "hv.extension('bokeh')\n",
    "\n",
    "\n",
    "import matplotlib.pyplot as plt\n",
    "import seaborn as sns\n",
    "import plotly.express as px\n",
    "\n",
    "from catboost import CatBoostRegressor, CatBoostClassifier\n",
    "\n",
    "from sklearn.model_selection import *\n",
    "from sklearn.metrics import *\n",
    "\n",
    "pd.options.display.float_format = \"{:.1f}\".format\n",
    "sns.set_style(\"whitegrid\")\n",
    "plt.style.use(\"fivethirtyeight\") \n",
    "\n",
    "import warnings\n",
    "warnings.filterwarnings(\"ignore\")"
   ]
  },
  {
   "cell_type": "code",
   "execution_count": 156,
   "id": "66be91c0",
   "metadata": {},
   "outputs": [],
   "source": [
    "# for non-scientific output of floats\n",
    "pd.set_option('display.float_format', lambda x: '%.3f' % x)"
   ]
  },
  {
   "cell_type": "code",
   "execution_count": 157,
   "id": "0880528e",
   "metadata": {},
   "outputs": [],
   "source": [
    "pd.set_option('display.max_columns', None)"
   ]
  },
  {
   "cell_type": "code",
   "execution_count": 158,
   "id": "ab346571",
   "metadata": {},
   "outputs": [
    {
     "data": {
      "text/plain": [
       "'notebook'"
      ]
     },
     "execution_count": 158,
     "metadata": {},
     "output_type": "execute_result"
    }
   ],
   "source": [
    "def environment():\n",
    "    try:\n",
    "        get_ipython()\n",
    "        return \"notebook\"\n",
    "    except:\n",
    "        return \"server\"\n",
    "environment()\n"
   ]
  },
  {
   "cell_type": "code",
   "execution_count": 159,
   "id": "fcdf2afa",
   "metadata": {},
   "outputs": [
    {
     "data": {},
     "metadata": {},
     "output_type": "display_data"
    },
    {
     "data": {
      "application/vnd.holoviews_exec.v0+json": "",
      "text/html": [
       "<div id='2253'>\n",
       "  <div class=\"bk-root\" id=\"c3003c31-b795-4bed-bb25-ff06a2d96b8b\" data-root-id=\"2253\"></div>\n",
       "</div>\n",
       "<script type=\"application/javascript\">(function(root) {\n",
       "  function embed_document(root) {\n",
       "    var docs_json = {\"55d2a9cb-9c4b-46b8-9c50-b4b75a4c19e4\":{\"defs\":[{\"extends\":null,\"module\":null,\"name\":\"ReactiveHTML1\",\"overrides\":[],\"properties\":[]},{\"extends\":null,\"module\":null,\"name\":\"FlexBox1\",\"overrides\":[],\"properties\":[{\"default\":\"flex-start\",\"kind\":null,\"name\":\"align_content\"},{\"default\":\"flex-start\",\"kind\":null,\"name\":\"align_items\"},{\"default\":\"row\",\"kind\":null,\"name\":\"flex_direction\"},{\"default\":\"wrap\",\"kind\":null,\"name\":\"flex_wrap\"},{\"default\":\"flex-start\",\"kind\":null,\"name\":\"justify_content\"}]},{\"extends\":null,\"module\":null,\"name\":\"GridStack1\",\"overrides\":[],\"properties\":[{\"default\":\"warn\",\"kind\":null,\"name\":\"mode\"},{\"default\":null,\"kind\":null,\"name\":\"ncols\"},{\"default\":null,\"kind\":null,\"name\":\"nrows\"},{\"default\":true,\"kind\":null,\"name\":\"allow_resize\"},{\"default\":true,\"kind\":null,\"name\":\"allow_drag\"},{\"default\":[],\"kind\":null,\"name\":\"state\"}]},{\"extends\":null,\"module\":null,\"name\":\"click1\",\"overrides\":[],\"properties\":[{\"default\":\"\",\"kind\":null,\"name\":\"terminal_output\"},{\"default\":\"\",\"kind\":null,\"name\":\"debug_name\"},{\"default\":0,\"kind\":null,\"name\":\"clears\"}]},{\"extends\":null,\"module\":null,\"name\":\"NotificationAreaBase1\",\"overrides\":[],\"properties\":[{\"default\":\"bottom-right\",\"kind\":null,\"name\":\"position\"},{\"default\":0,\"kind\":null,\"name\":\"_clear\"}]},{\"extends\":null,\"module\":null,\"name\":\"NotificationArea1\",\"overrides\":[],\"properties\":[{\"default\":[],\"kind\":null,\"name\":\"notifications\"},{\"default\":\"bottom-right\",\"kind\":null,\"name\":\"position\"},{\"default\":0,\"kind\":null,\"name\":\"_clear\"},{\"default\":[{\"background\":\"#ffc107\",\"icon\":{\"className\":\"fas fa-exclamation-triangle\",\"color\":\"white\",\"tagName\":\"i\"},\"type\":\"warning\"},{\"background\":\"#007bff\",\"icon\":{\"className\":\"fas fa-info-circle\",\"color\":\"white\",\"tagName\":\"i\"},\"type\":\"info\"}],\"kind\":null,\"name\":\"types\"}]},{\"extends\":null,\"module\":null,\"name\":\"Notification\",\"overrides\":[],\"properties\":[{\"default\":null,\"kind\":null,\"name\":\"background\"},{\"default\":3000,\"kind\":null,\"name\":\"duration\"},{\"default\":null,\"kind\":null,\"name\":\"icon\"},{\"default\":\"\",\"kind\":null,\"name\":\"message\"},{\"default\":null,\"kind\":null,\"name\":\"notification_type\"},{\"default\":false,\"kind\":null,\"name\":\"_destroyed\"}]},{\"extends\":null,\"module\":null,\"name\":\"TemplateActions1\",\"overrides\":[],\"properties\":[{\"default\":0,\"kind\":null,\"name\":\"open_modal\"},{\"default\":0,\"kind\":null,\"name\":\"close_modal\"}]},{\"extends\":null,\"module\":null,\"name\":\"MaterialTemplateActions1\",\"overrides\":[],\"properties\":[{\"default\":0,\"kind\":null,\"name\":\"open_modal\"},{\"default\":0,\"kind\":null,\"name\":\"close_modal\"}]}],\"roots\":{\"references\":[{\"attributes\":{\"background\":\"#ff6f69\",\"height\":50,\"margin\":[5,5,5,5],\"name\":\"HSpacer07081\",\"sizing_mode\":\"stretch_width\"},\"id\":\"2254\",\"type\":\"Spacer\"},{\"attributes\":{\"client_comm_id\":\"1398741c68124b428be2e46854016f9d\",\"comm_id\":\"602acc6357e2435abd92b1d3a363152f\",\"plot_id\":\"2253\"},\"id\":\"2257\",\"type\":\"panel.models.comm_manager.CommManager\"},{\"attributes\":{\"background\":\"#ffcc5c\",\"height\":50,\"margin\":[5,5,5,5],\"name\":\"HSpacer07082\",\"sizing_mode\":\"stretch_width\"},\"id\":\"2255\",\"type\":\"Spacer\"},{\"attributes\":{\"background\":\"#88d8b0\",\"height\":50,\"margin\":[5,5,5,5],\"name\":\"HSpacer07083\",\"sizing_mode\":\"stretch_width\"},\"id\":\"2256\",\"type\":\"Spacer\"},{\"attributes\":{\"children\":[{\"id\":\"2254\"},{\"id\":\"2255\"},{\"id\":\"2256\"}],\"margin\":[0,0,0,0],\"name\":\"Row07084\",\"sizing_mode\":\"stretch_width\"},\"id\":\"2253\",\"type\":\"Row\"}],\"root_ids\":[\"2253\",\"2257\"]},\"title\":\"Bokeh Application\",\"version\":\"2.4.3\"}};\n",
       "    var render_items = [{\"docid\":\"55d2a9cb-9c4b-46b8-9c50-b4b75a4c19e4\",\"root_ids\":[\"2253\"],\"roots\":{\"2253\":\"c3003c31-b795-4bed-bb25-ff06a2d96b8b\"}}];\n",
       "    root.Bokeh.embed.embed_items_notebook(docs_json, render_items);\n",
       "    for (const render_item of render_items) {\n",
       "      for (const root_id of render_item.root_ids) {\n",
       "\tconst id_el = document.getElementById(root_id)\n",
       "\tif (id_el.children.length && (id_el.children[0].className === 'bk-root')) {\n",
       "\t  const root_el = id_el.children[0]\n",
       "\t  root_el.id = root_el.id + '-rendered'\n",
       "\t}\n",
       "      }\n",
       "    }\n",
       "  }\n",
       "  if (root.Bokeh !== undefined && root.Bokeh.Panel !== undefined && ( root['Tabulator'] !== undefined) && ( root['Tabulator'] !== undefined) && ( root['Tabulator'] !== undefined)) {\n",
       "    embed_document(root);\n",
       "  } else {\n",
       "    var attempts = 0;\n",
       "    var timer = setInterval(function(root) {\n",
       "      if (root.Bokeh !== undefined && root.Bokeh.Panel !== undefined && (root['Tabulator'] !== undefined) && (root['Tabulator'] !== undefined) && (root['Tabulator'] !== undefined)) {\n",
       "        clearInterval(timer);\n",
       "        embed_document(root);\n",
       "      } else if (document.readyState == \"complete\") {\n",
       "        attempts++;\n",
       "        if (attempts > 200) {\n",
       "          clearInterval(timer);\n",
       "          console.log(\"Bokeh: ERROR: Unable to run BokehJS code because BokehJS library is missing\");\n",
       "        }\n",
       "      }\n",
       "    }, 25, root)\n",
       "  }\n",
       "})(window);</script>"
      ],
      "text/plain": [
       "Row(sizing_mode='stretch_width')\n",
       "    [0] HSpacer(background='#ff6f69', height=50)\n",
       "    [1] HSpacer(background='#ffcc5c', height=50)\n",
       "    [2] HSpacer(background='#88d8b0', height=50)"
      ]
     },
     "execution_count": 159,
     "metadata": {
      "application/vnd.holoviews_exec.v0+json": {
       "id": "2253"
      }
     },
     "output_type": "execute_result"
    }
   ],
   "source": [
    "PALETTE = [\"#ff6f69\", \"#ffcc5c\", \"#88d8b0\", ]\n",
    "pn.Row(\n",
    "    pn.layout.HSpacer(height=50, background=PALETTE[0]),\n",
    "    pn.layout.HSpacer(height=50, background=PALETTE[1]),\n",
    "    pn.layout.HSpacer(height=50, background=PALETTE[2]),\n",
    ")\n"
   ]
  },
  {
   "cell_type": "code",
   "execution_count": 160,
   "id": "2c298392",
   "metadata": {},
   "outputs": [],
   "source": [
    "form_m1 = pd.read_excel('../data/form_m1.xlsx', sheet_name=None)"
   ]
  },
  {
   "cell_type": "code",
   "execution_count": 161,
   "id": "5c0db6f6",
   "metadata": {},
   "outputs": [],
   "source": [
    "df_p1   = form_m1['Р1']\n",
    "df_pp1  = form_m1['Раздел 1']"
   ]
  },
  {
   "cell_type": "code",
   "execution_count": null,
   "id": "54124714",
   "metadata": {},
   "outputs": [],
   "source": []
  },
  {
   "cell_type": "code",
   "execution_count": 162,
   "id": "e2d50e66",
   "metadata": {},
   "outputs": [],
   "source": [
    "# data preprocessing"
   ]
  },
  {
   "cell_type": "code",
   "execution_count": 163,
   "id": "5bdcb314",
   "metadata": {},
   "outputs": [
    {
     "data": {
      "text/html": [
       "<div>\n",
       "<style scoped>\n",
       "    .dataframe tbody tr th:only-of-type {\n",
       "        vertical-align: middle;\n",
       "    }\n",
       "\n",
       "    .dataframe tbody tr th {\n",
       "        vertical-align: top;\n",
       "    }\n",
       "\n",
       "    .dataframe thead th {\n",
       "        text-align: right;\n",
       "    }\n",
       "</style>\n",
       "<table border=\"1\" class=\"dataframe\">\n",
       "  <thead>\n",
       "    <tr style=\"text-align: right;\">\n",
       "      <th></th>\n",
       "      <th>Регион</th>\n",
       "      <th>Округ</th>\n",
       "      <th>Год</th>\n",
       "      <th>Направления реализации государственной молодeжной политики</th>\n",
       "      <th>№ строки</th>\n",
       "      <th>Бюджет СРФ, руб</th>\n",
       "      <th>Бюджет МО, руб</th>\n",
       "      <th>Кол-во грантов</th>\n",
       "      <th>Бюджет грантов, руб</th>\n",
       "      <th>Численность молодeжи, задействованной в программных мероприятиях по направлению</th>\n",
       "      <th>Количество детских и молодeжных общественных объединений, работающих по данному</th>\n",
       "      <th>Unnamed: 11</th>\n",
       "      <th>Unnamed: 12</th>\n",
       "    </tr>\n",
       "  </thead>\n",
       "  <tbody>\n",
       "    <tr>\n",
       "      <th>0</th>\n",
       "      <td>Алтайский край</td>\n",
       "      <td>СФО</td>\n",
       "      <td>2021</td>\n",
       "      <td>Вовлечение молодeжи в инновационную деятельнос...</td>\n",
       "      <td>1</td>\n",
       "      <td>7176890.000</td>\n",
       "      <td>123085.000</td>\n",
       "      <td>4.000</td>\n",
       "      <td>35485.000</td>\n",
       "      <td>3845.000</td>\n",
       "      <td>44.000</td>\n",
       "      <td>NaN</td>\n",
       "      <td>NaN</td>\n",
       "    </tr>\n",
       "    <tr>\n",
       "      <th>1</th>\n",
       "      <td>Алтайский край</td>\n",
       "      <td>СФО</td>\n",
       "      <td>2021</td>\n",
       "      <td>биомедицина</td>\n",
       "      <td>2</td>\n",
       "      <td>0.000</td>\n",
       "      <td>0.000</td>\n",
       "      <td>0.000</td>\n",
       "      <td>0.000</td>\n",
       "      <td>0.000</td>\n",
       "      <td>0.000</td>\n",
       "      <td>NaN</td>\n",
       "      <td>NaN</td>\n",
       "    </tr>\n",
       "    <tr>\n",
       "      <th>2</th>\n",
       "      <td>Алтайский край</td>\n",
       "      <td>СФО</td>\n",
       "      <td>2021</td>\n",
       "      <td>промышленные технологии\\n      (нанотехн...</td>\n",
       "      <td>3</td>\n",
       "      <td>0.000</td>\n",
       "      <td>0.000</td>\n",
       "      <td>0.000</td>\n",
       "      <td>0.000</td>\n",
       "      <td>10.000</td>\n",
       "      <td>0.000</td>\n",
       "      <td>NaN</td>\n",
       "      <td>NaN</td>\n",
       "    </tr>\n",
       "    <tr>\n",
       "      <th>3</th>\n",
       "      <td>Алтайский край</td>\n",
       "      <td>СФО</td>\n",
       "      <td>2021</td>\n",
       "      <td>аэрокосмос</td>\n",
       "      <td>4</td>\n",
       "      <td>0.000</td>\n",
       "      <td>0.000</td>\n",
       "      <td>0.000</td>\n",
       "      <td>0.000</td>\n",
       "      <td>28.000</td>\n",
       "      <td>1.000</td>\n",
       "      <td>NaN</td>\n",
       "      <td>NaN</td>\n",
       "    </tr>\n",
       "    <tr>\n",
       "      <th>4</th>\n",
       "      <td>Алтайский край</td>\n",
       "      <td>СФО</td>\n",
       "      <td>2021</td>\n",
       "      <td>сельское хозяйство</td>\n",
       "      <td>5</td>\n",
       "      <td>0.000</td>\n",
       "      <td>1000.000</td>\n",
       "      <td>0.000</td>\n",
       "      <td>0.000</td>\n",
       "      <td>247.000</td>\n",
       "      <td>0.000</td>\n",
       "      <td>NaN</td>\n",
       "      <td>NaN</td>\n",
       "    </tr>\n",
       "  </tbody>\n",
       "</table>\n",
       "</div>"
      ],
      "text/plain": [
       "           Регион Округ   Год  \\\n",
       "0  Алтайский край   СФО  2021   \n",
       "1  Алтайский край   СФО  2021   \n",
       "2  Алтайский край   СФО  2021   \n",
       "3  Алтайский край   СФО  2021   \n",
       "4  Алтайский край   СФО  2021   \n",
       "\n",
       "  Направления реализации государственной молодeжной политики  № строки  \\\n",
       "0  Вовлечение молодeжи в инновационную деятельнос...                 1   \n",
       "1                                        биомедицина                 2   \n",
       "2        промышленные технологии\\n      (нанотехн...                 3   \n",
       "3                                         аэрокосмос                 4   \n",
       "4                                 сельское хозяйство                 5   \n",
       "\n",
       "   Бюджет СРФ, руб  Бюджет МО, руб  Кол-во грантов  Бюджет грантов, руб  \\\n",
       "0      7176890.000      123085.000           4.000            35485.000   \n",
       "1            0.000           0.000           0.000                0.000   \n",
       "2            0.000           0.000           0.000                0.000   \n",
       "3            0.000           0.000           0.000                0.000   \n",
       "4            0.000        1000.000           0.000                0.000   \n",
       "\n",
       "   Численность молодeжи, задействованной в программных мероприятиях по направлению  \\\n",
       "0                                           3845.000                                 \n",
       "1                                              0.000                                 \n",
       "2                                             10.000                                 \n",
       "3                                             28.000                                 \n",
       "4                                            247.000                                 \n",
       "\n",
       "   Количество детских и молодeжных общественных объединений, работающих по данному   \\\n",
       "0                                             44.000                                  \n",
       "1                                              0.000                                  \n",
       "2                                              0.000                                  \n",
       "3                                              1.000                                  \n",
       "4                                              0.000                                  \n",
       "\n",
       "   Unnamed: 11  Unnamed: 12  \n",
       "0          NaN          NaN  \n",
       "1          NaN          NaN  \n",
       "2          NaN          NaN  \n",
       "3          NaN          NaN  \n",
       "4          NaN          NaN  "
      ]
     },
     "execution_count": 163,
     "metadata": {},
     "output_type": "execute_result"
    }
   ],
   "source": [
    "df_p1.head()"
   ]
  },
  {
   "cell_type": "code",
   "execution_count": 164,
   "id": "cfb1f358",
   "metadata": {
    "scrolled": true
   },
   "outputs": [
    {
     "data": {
      "text/plain": [
       "(2295, 13)"
      ]
     },
     "execution_count": 164,
     "metadata": {},
     "output_type": "execute_result"
    }
   ],
   "source": [
    "df_p1.shape"
   ]
  },
  {
   "cell_type": "code",
   "execution_count": 165,
   "id": "7e67b581",
   "metadata": {},
   "outputs": [],
   "source": [
    "df_p1 = df_p1.drop(columns=['Unnamed: 11', 'Unnamed: 12'])"
   ]
  },
  {
   "cell_type": "code",
   "execution_count": 166,
   "id": "9e4929f3",
   "metadata": {
    "scrolled": true
   },
   "outputs": [
    {
     "data": {
      "text/plain": [
       "Регион                                                                               object\n",
       "Округ                                                                                object\n",
       "Год                                                                                   int64\n",
       "Направления реализации государственной молодeжной политики                           object\n",
       "№ строки                                                                              int64\n",
       "Бюджет СРФ, руб                                                                     float64\n",
       "Бюджет МО, руб                                                                      float64\n",
       "Кол-во грантов                                                                      float64\n",
       "Бюджет грантов, руб                                                                 float64\n",
       "Численность молодeжи, задействованной в программных мероприятиях по направлению     float64\n",
       "Количество детских и молодeжных общественных объединений, работающих по данному     float64\n",
       "dtype: object"
      ]
     },
     "execution_count": 166,
     "metadata": {},
     "output_type": "execute_result"
    }
   ],
   "source": [
    "df_p1.dtypes"
   ]
  },
  {
   "cell_type": "code",
   "execution_count": 167,
   "id": "4ea1a296",
   "metadata": {
    "scrolled": false
   },
   "outputs": [
    {
     "data": {
      "text/plain": [
       "Регион                                                                                0\n",
       "Округ                                                                                 0\n",
       "Год                                                                                   0\n",
       "Направления реализации государственной молодeжной политики                            0\n",
       "№ строки                                                                              0\n",
       "Бюджет СРФ, руб                                                                     385\n",
       "Бюджет МО, руб                                                                      306\n",
       "Кол-во грантов                                                                      442\n",
       "Бюджет грантов, руб                                                                 449\n",
       "Численность молодeжи, задействованной в программных мероприятиях по направлению     147\n",
       "Количество детских и молодeжных общественных объединений, работающих по данному     422\n",
       "dtype: int64"
      ]
     },
     "execution_count": 167,
     "metadata": {},
     "output_type": "execute_result"
    }
   ],
   "source": [
    "df_p1.isna().sum()"
   ]
  },
  {
   "cell_type": "code",
   "execution_count": 168,
   "id": "583668a9",
   "metadata": {},
   "outputs": [],
   "source": [
    "df_p1 = df_p1.fillna(0)"
   ]
  },
  {
   "cell_type": "code",
   "execution_count": 169,
   "id": "43f67094",
   "metadata": {},
   "outputs": [],
   "source": [
    "# make interactive dataframe\n",
    "idf = df_p1.interactive()"
   ]
  },
  {
   "cell_type": "code",
   "execution_count": null,
   "id": "5f693457",
   "metadata": {},
   "outputs": [],
   "source": []
  },
  {
   "cell_type": "markdown",
   "id": "ff0a58f0",
   "metadata": {},
   "source": [
    "### Расходы по разным направлениям с выбором округа (одиночный или множественный)"
   ]
  },
  {
   "cell_type": "code",
   "execution_count": 170,
   "id": "9e2e51c3",
   "metadata": {},
   "outputs": [
    {
     "data": {
      "text/plain": [
       "dtype('int64')"
      ]
     },
     "execution_count": 170,
     "metadata": {},
     "output_type": "execute_result"
    }
   ],
   "source": [
    "df_p1['Год'].dtype"
   ]
  },
  {
   "cell_type": "code",
   "execution_count": 171,
   "id": "319af5ce",
   "metadata": {},
   "outputs": [],
   "source": [
    "# define panel widgets\n",
    "year_slider = pn.widgets.IntSlider(name='Year slider', start=int(df_p1['Год'].min() - 1), end=int(df_p1['Год'].max()), step=1, value=int(df_p1['Год'].min()) - 1)"
   ]
  },
  {
   "cell_type": "code",
   "execution_count": null,
   "id": "c347d2d9",
   "metadata": {},
   "outputs": [],
   "source": []
  },
  {
   "cell_type": "code",
   "execution_count": 172,
   "id": "dee75541",
   "metadata": {},
   "outputs": [],
   "source": [
    "districts = list(df_p1['Округ'].unique())"
   ]
  },
  {
   "cell_type": "code",
   "execution_count": 173,
   "id": "65693b61",
   "metadata": {},
   "outputs": [
    {
     "data": {
      "text/plain": [
       "['СФО', 'ДФО', 'СЗФО', 'ЮФО', 'ЦФО', 'СКФО', 'ПФО', 'УФО']"
      ]
     },
     "execution_count": 173,
     "metadata": {},
     "output_type": "execute_result"
    }
   ],
   "source": [
    "districts"
   ]
  },
  {
   "cell_type": "code",
   "execution_count": null,
   "id": "334ed347",
   "metadata": {},
   "outputs": [],
   "source": []
  },
  {
   "cell_type": "code",
   "execution_count": 174,
   "id": "d34ad948",
   "metadata": {
    "scrolled": true
   },
   "outputs": [],
   "source": [
    "# multiple choice buttons\n",
    "districts_buttons = pn.widgets.ToggleGroup(\n",
    "                        name='dstr_btn',\n",
    "                        options=districts,\n",
    "                        value=[districts],\n",
    "                        button_type='success'\n",
    "                    )"
   ]
  },
  {
   "cell_type": "code",
   "execution_count": null,
   "id": "fc93ee84",
   "metadata": {},
   "outputs": [],
   "source": []
  },
  {
   "cell_type": "code",
   "execution_count": 175,
   "id": "09aa7bae",
   "metadata": {
    "scrolled": false
   },
   "outputs": [
    {
     "data": {},
     "metadata": {},
     "output_type": "display_data"
    },
    {
     "data": {
      "application/vnd.holoviews_exec.v0+json": "",
      "text/html": [
       "<div id='2258'>\n",
       "  <div class=\"bk-root\" id=\"cd23d07c-013c-4d51-accf-e8a4615f3ad3\" data-root-id=\"2258\"></div>\n",
       "</div>\n",
       "<script type=\"application/javascript\">(function(root) {\n",
       "  function embed_document(root) {\n",
       "    var docs_json = {\"9c654ff0-06bc-413f-994a-3d70cd22ef8f\":{\"defs\":[{\"extends\":null,\"module\":null,\"name\":\"ReactiveHTML1\",\"overrides\":[],\"properties\":[]},{\"extends\":null,\"module\":null,\"name\":\"FlexBox1\",\"overrides\":[],\"properties\":[{\"default\":\"flex-start\",\"kind\":null,\"name\":\"align_content\"},{\"default\":\"flex-start\",\"kind\":null,\"name\":\"align_items\"},{\"default\":\"row\",\"kind\":null,\"name\":\"flex_direction\"},{\"default\":\"wrap\",\"kind\":null,\"name\":\"flex_wrap\"},{\"default\":\"flex-start\",\"kind\":null,\"name\":\"justify_content\"}]},{\"extends\":null,\"module\":null,\"name\":\"GridStack1\",\"overrides\":[],\"properties\":[{\"default\":\"warn\",\"kind\":null,\"name\":\"mode\"},{\"default\":null,\"kind\":null,\"name\":\"ncols\"},{\"default\":null,\"kind\":null,\"name\":\"nrows\"},{\"default\":true,\"kind\":null,\"name\":\"allow_resize\"},{\"default\":true,\"kind\":null,\"name\":\"allow_drag\"},{\"default\":[],\"kind\":null,\"name\":\"state\"}]},{\"extends\":null,\"module\":null,\"name\":\"click1\",\"overrides\":[],\"properties\":[{\"default\":\"\",\"kind\":null,\"name\":\"terminal_output\"},{\"default\":\"\",\"kind\":null,\"name\":\"debug_name\"},{\"default\":0,\"kind\":null,\"name\":\"clears\"}]},{\"extends\":null,\"module\":null,\"name\":\"NotificationAreaBase1\",\"overrides\":[],\"properties\":[{\"default\":\"bottom-right\",\"kind\":null,\"name\":\"position\"},{\"default\":0,\"kind\":null,\"name\":\"_clear\"}]},{\"extends\":null,\"module\":null,\"name\":\"NotificationArea1\",\"overrides\":[],\"properties\":[{\"default\":[],\"kind\":null,\"name\":\"notifications\"},{\"default\":\"bottom-right\",\"kind\":null,\"name\":\"position\"},{\"default\":0,\"kind\":null,\"name\":\"_clear\"},{\"default\":[{\"background\":\"#ffc107\",\"icon\":{\"className\":\"fas fa-exclamation-triangle\",\"color\":\"white\",\"tagName\":\"i\"},\"type\":\"warning\"},{\"background\":\"#007bff\",\"icon\":{\"className\":\"fas fa-info-circle\",\"color\":\"white\",\"tagName\":\"i\"},\"type\":\"info\"}],\"kind\":null,\"name\":\"types\"}]},{\"extends\":null,\"module\":null,\"name\":\"Notification\",\"overrides\":[],\"properties\":[{\"default\":null,\"kind\":null,\"name\":\"background\"},{\"default\":3000,\"kind\":null,\"name\":\"duration\"},{\"default\":null,\"kind\":null,\"name\":\"icon\"},{\"default\":\"\",\"kind\":null,\"name\":\"message\"},{\"default\":null,\"kind\":null,\"name\":\"notification_type\"},{\"default\":false,\"kind\":null,\"name\":\"_destroyed\"}]},{\"extends\":null,\"module\":null,\"name\":\"TemplateActions1\",\"overrides\":[],\"properties\":[{\"default\":0,\"kind\":null,\"name\":\"open_modal\"},{\"default\":0,\"kind\":null,\"name\":\"close_modal\"}]},{\"extends\":null,\"module\":null,\"name\":\"MaterialTemplateActions1\",\"overrides\":[],\"properties\":[{\"default\":0,\"kind\":null,\"name\":\"open_modal\"},{\"default\":0,\"kind\":null,\"name\":\"close_modal\"}]}],\"roots\":{\"references\":[{\"attributes\":{\"margin\":[5,5,5,5],\"name\":\"HSpacer07166\",\"sizing_mode\":\"stretch_width\"},\"id\":\"2262\",\"type\":\"Spacer\"},{\"attributes\":{\"margin\":[5,5,5,5],\"name\":\"interactive07142\",\"sizing_mode\":\"stretch_width\",\"text\":\"&lt;pre&gt;Index([&#x27;\\u0420\\u0435\\u0433\\u0438\\u043e\\u043d&#x27;, &#x27;\\u041e\\u043a\\u0440\\u0443\\u0433&#x27;, &#x27;\\u0413\\u043e\\u0434&#x27;,\\n       &#x27;\\u041d\\u0430\\u043f\\u0440\\u0430\\u0432\\u043b\\u0435\\u043d\\u0438\\u044f \\u0440\\u0435\\u0430\\u043b\\u0438\\u0437\\u0430\\u0446\\u0438\\u0438 \\u0433\\u043e\\u0441\\u0443\\u0434\\u0430\\u0440\\u0441\\u0442\\u0432\\u0435\\u043d\\u043d\\u043e\\u0439 \\u043c\\u043e\\u043b\\u043e\\u0434e\\u0436\\u043d\\u043e\\u0439 \\u043f\\u043e\\u043b\\u0438\\u0442\\u0438\\u043a\\u0438&#x27;,\\n       &#x27;\\u2116 \\u0441\\u0442\\u0440\\u043e\\u043a\\u0438&#x27;, &#x27;\\u0411\\u044e\\u0434\\u0436\\u0435\\u0442 \\u0421\\u0420\\u0424, \\u0440\\u0443\\u0431&#x27;, &#x27;\\u0411\\u044e\\u0434\\u0436\\u0435\\u0442 \\u041c\\u041e, \\u0440\\u0443\\u0431&#x27;, &#x27;\\u041a\\u043e\\u043b-\\u0432\\u043e \\u0433\\u0440\\u0430\\u043d\\u0442\\u043e\\u0432&#x27;,\\n       &#x27;\\u0411\\u044e\\u0434\\u0436\\u0435\\u0442 \\u0433\\u0440\\u0430\\u043d\\u0442\\u043e\\u0432, \\u0440\\u0443\\u0431&#x27;,\\n       &#x27;\\u0427\\u0438\\u0441\\u043b\\u0435\\u043d\\u043d\\u043e\\u0441\\u0442\\u044c \\u043c\\u043e\\u043b\\u043e\\u0434e\\u0436\\u0438, \\u0437\\u0430\\u0434\\u0435\\u0439\\u0441\\u0442\\u0432\\u043e\\u0432\\u0430\\u043d\\u043d\\u043e\\u0439 \\u0432 \\u043f\\u0440\\u043e\\u0433\\u0440\\u0430\\u043c\\u043c\\u043d\\u044b\\u0445 \\u043c\\u0435\\u0440\\u043e\\u043f\\u0440\\u0438\\u044f\\u0442\\u0438\\u044f\\u0445 \\u043f\\u043e \\u043d\\u0430\\u043f\\u0440\\u0430\\u0432\\u043b\\u0435\\u043d\\u0438\\u044e&#x27;,\\n       &#x27;\\u041a\\u043e\\u043b\\u0438\\u0447\\u0435\\u0441\\u0442\\u0432\\u043e \\u0434\\u0435\\u0442\\u0441\\u043a\\u0438\\u0445 \\u0438 \\u043c\\u043e\\u043b\\u043e\\u0434e\\u0436\\u043d\\u044b\\u0445 \\u043e\\u0431\\u0449\\u0435\\u0441\\u0442\\u0432\\u0435\\u043d\\u043d\\u044b\\u0445 \\u043e\\u0431\\u044a\\u0435\\u0434\\u0438\\u043d\\u0435\\u043d\\u0438\\u0439, \\u0440\\u0430\\u0431\\u043e\\u0442\\u0430\\u044e\\u0449\\u0438\\u0445 \\u043f\\u043e \\u0434\\u0430\\u043d\\u043d\\u043e\\u043c\\u0443 &#x27;],\\n      dtype=&#x27;object&#x27;)&lt;/pre&gt;\"},\"id\":\"2266\",\"type\":\"panel.models.markup.HTML\"},{\"attributes\":{\"children\":[{\"id\":\"2260\"},{\"id\":\"2263\"}],\"margin\":[0,0,0,0],\"name\":\"Column07168\",\"sizing_mode\":\"stretch_width\"},\"id\":\"2259\",\"type\":\"Column\"},{\"attributes\":{\"margin\":[0,0,0,0],\"name\":\"Column07165\",\"sizing_mode\":\"stretch_width\"},\"id\":\"2264\",\"type\":\"Column\"},{\"attributes\":{\"children\":[{\"id\":\"2266\"}],\"margin\":[0,0,0,0],\"name\":\"Row07164\",\"sizing_mode\":\"stretch_width\"},\"id\":\"2265\",\"type\":\"Row\"},{\"attributes\":{\"children\":[{\"id\":\"2259\"}],\"margin\":[0,0,0,0],\"name\":\"Row07169\",\"sizing_mode\":\"stretch_width\"},\"id\":\"2258\",\"type\":\"Row\"},{\"attributes\":{\"client_comm_id\":\"7bff891b57c54602b68c98bfda580d19\",\"comm_id\":\"5689ae0385914ad2a2923ebc02b68dc7\",\"plot_id\":\"2258\"},\"id\":\"2267\",\"type\":\"panel.models.comm_manager.CommManager\"},{\"attributes\":{\"children\":[{\"id\":\"2261\"},{\"id\":\"2262\"}],\"margin\":[0,0,0,0],\"name\":\"Row07167\",\"sizing_mode\":\"stretch_width\"},\"id\":\"2260\",\"type\":\"Row\"},{\"attributes\":{\"children\":[{\"id\":\"2264\"},{\"id\":\"2265\"}],\"margin\":[0,0,0,0],\"name\":\"Column07143\",\"sizing_mode\":\"stretch_width\"},\"id\":\"2263\",\"type\":\"Column\"},{\"attributes\":{\"margin\":[0,0,0,0],\"name\":\"Column07141\",\"sizing_mode\":\"stretch_width\"},\"id\":\"2261\",\"type\":\"Column\"}],\"root_ids\":[\"2258\",\"2267\"]},\"title\":\"Bokeh Application\",\"version\":\"2.4.3\"}};\n",
       "    var render_items = [{\"docid\":\"9c654ff0-06bc-413f-994a-3d70cd22ef8f\",\"root_ids\":[\"2258\"],\"roots\":{\"2258\":\"cd23d07c-013c-4d51-accf-e8a4615f3ad3\"}}];\n",
       "    root.Bokeh.embed.embed_items_notebook(docs_json, render_items);\n",
       "    for (const render_item of render_items) {\n",
       "      for (const root_id of render_item.root_ids) {\n",
       "\tconst id_el = document.getElementById(root_id)\n",
       "\tif (id_el.children.length && (id_el.children[0].className === 'bk-root')) {\n",
       "\t  const root_el = id_el.children[0]\n",
       "\t  root_el.id = root_el.id + '-rendered'\n",
       "\t}\n",
       "      }\n",
       "    }\n",
       "  }\n",
       "  if (root.Bokeh !== undefined && root.Bokeh.Panel !== undefined && ( root['Tabulator'] !== undefined) && ( root['Tabulator'] !== undefined) && ( root['Tabulator'] !== undefined)) {\n",
       "    embed_document(root);\n",
       "  } else {\n",
       "    var attempts = 0;\n",
       "    var timer = setInterval(function(root) {\n",
       "      if (root.Bokeh !== undefined && root.Bokeh.Panel !== undefined && (root['Tabulator'] !== undefined) && (root['Tabulator'] !== undefined) && (root['Tabulator'] !== undefined)) {\n",
       "        clearInterval(timer);\n",
       "        embed_document(root);\n",
       "      } else if (document.readyState == \"complete\") {\n",
       "        attempts++;\n",
       "        if (attempts > 200) {\n",
       "          clearInterval(timer);\n",
       "          console.log(\"Bokeh: ERROR: Unable to run BokehJS code because BokehJS library is missing\");\n",
       "        }\n",
       "      }\n",
       "    }, 25, root)\n",
       "  }\n",
       "})(window);</script>"
      ],
      "text/plain": [
       "<hvplot.interactive.Interactive at 0x7fb8104a8b20>"
      ]
     },
     "execution_count": 175,
     "metadata": {
      "application/vnd.holoviews_exec.v0+json": {
       "id": "2258"
      }
     },
     "output_type": "execute_result"
    }
   ],
   "source": [
    "idf.columns"
   ]
  },
  {
   "cell_type": "code",
   "execution_count": 176,
   "id": "e4b8ca36",
   "metadata": {
    "scrolled": false
   },
   "outputs": [
    {
     "data": {},
     "metadata": {},
     "output_type": "display_data"
    },
    {
     "data": {
      "application/vnd.holoviews_exec.v0+json": "",
      "text/html": [
       "<div id='2268'>\n",
       "  <div class=\"bk-root\" id=\"3da05819-8969-469e-b25f-6fda03ef5824\" data-root-id=\"2268\"></div>\n",
       "</div>\n",
       "<script type=\"application/javascript\">(function(root) {\n",
       "  function embed_document(root) {\n",
       "    var docs_json = {\"4086f37c-6cee-471b-bfd3-33c88b6e2e9c\":{\"defs\":[{\"extends\":null,\"module\":null,\"name\":\"ReactiveHTML1\",\"overrides\":[],\"properties\":[]},{\"extends\":null,\"module\":null,\"name\":\"FlexBox1\",\"overrides\":[],\"properties\":[{\"default\":\"flex-start\",\"kind\":null,\"name\":\"align_content\"},{\"default\":\"flex-start\",\"kind\":null,\"name\":\"align_items\"},{\"default\":\"row\",\"kind\":null,\"name\":\"flex_direction\"},{\"default\":\"wrap\",\"kind\":null,\"name\":\"flex_wrap\"},{\"default\":\"flex-start\",\"kind\":null,\"name\":\"justify_content\"}]},{\"extends\":null,\"module\":null,\"name\":\"GridStack1\",\"overrides\":[],\"properties\":[{\"default\":\"warn\",\"kind\":null,\"name\":\"mode\"},{\"default\":null,\"kind\":null,\"name\":\"ncols\"},{\"default\":null,\"kind\":null,\"name\":\"nrows\"},{\"default\":true,\"kind\":null,\"name\":\"allow_resize\"},{\"default\":true,\"kind\":null,\"name\":\"allow_drag\"},{\"default\":[],\"kind\":null,\"name\":\"state\"}]},{\"extends\":null,\"module\":null,\"name\":\"click1\",\"overrides\":[],\"properties\":[{\"default\":\"\",\"kind\":null,\"name\":\"terminal_output\"},{\"default\":\"\",\"kind\":null,\"name\":\"debug_name\"},{\"default\":0,\"kind\":null,\"name\":\"clears\"}]},{\"extends\":null,\"module\":null,\"name\":\"NotificationAreaBase1\",\"overrides\":[],\"properties\":[{\"default\":\"bottom-right\",\"kind\":null,\"name\":\"position\"},{\"default\":0,\"kind\":null,\"name\":\"_clear\"}]},{\"extends\":null,\"module\":null,\"name\":\"NotificationArea1\",\"overrides\":[],\"properties\":[{\"default\":[],\"kind\":null,\"name\":\"notifications\"},{\"default\":\"bottom-right\",\"kind\":null,\"name\":\"position\"},{\"default\":0,\"kind\":null,\"name\":\"_clear\"},{\"default\":[{\"background\":\"#ffc107\",\"icon\":{\"className\":\"fas fa-exclamation-triangle\",\"color\":\"white\",\"tagName\":\"i\"},\"type\":\"warning\"},{\"background\":\"#007bff\",\"icon\":{\"className\":\"fas fa-info-circle\",\"color\":\"white\",\"tagName\":\"i\"},\"type\":\"info\"}],\"kind\":null,\"name\":\"types\"}]},{\"extends\":null,\"module\":null,\"name\":\"Notification\",\"overrides\":[],\"properties\":[{\"default\":null,\"kind\":null,\"name\":\"background\"},{\"default\":3000,\"kind\":null,\"name\":\"duration\"},{\"default\":null,\"kind\":null,\"name\":\"icon\"},{\"default\":\"\",\"kind\":null,\"name\":\"message\"},{\"default\":null,\"kind\":null,\"name\":\"notification_type\"},{\"default\":false,\"kind\":null,\"name\":\"_destroyed\"}]},{\"extends\":null,\"module\":null,\"name\":\"TemplateActions1\",\"overrides\":[],\"properties\":[{\"default\":0,\"kind\":null,\"name\":\"open_modal\"},{\"default\":0,\"kind\":null,\"name\":\"close_modal\"}]},{\"extends\":null,\"module\":null,\"name\":\"MaterialTemplateActions1\",\"overrides\":[],\"properties\":[{\"default\":0,\"kind\":null,\"name\":\"open_modal\"},{\"default\":0,\"kind\":null,\"name\":\"close_modal\"}]}],\"roots\":{\"references\":[{\"attributes\":{\"children\":[{\"id\":\"2274\"},{\"id\":\"2275\"}],\"margin\":[0,0,0,0],\"name\":\"Column07225\",\"sizing_mode\":\"stretch_width\"},\"id\":\"2273\",\"type\":\"Column\"},{\"attributes\":{\"margin\":[5,5,5,5],\"name\":\"HSpacer07248\",\"sizing_mode\":\"stretch_width\"},\"id\":\"2272\",\"type\":\"Spacer\"},{\"attributes\":{\"css_classes\":[\"markdown\"],\"margin\":[5,5,5,5],\"name\":\"interactive07224\",\"sizing_mode\":\"stretch_width\",\"text\":\"&lt;p&gt;\\u041d\\u0430\\u043f\\u0440\\u0430\\u0432\\u043b\\u0435\\u043d\\u0438\\u044f \\u0440\\u0435\\u0430\\u043b\\u0438\\u0437\\u0430\\u0446\\u0438\\u0438 \\u0433\\u043e\\u0441\\u0443\\u0434\\u0430\\u0440\\u0441\\u0442\\u0432\\u0435\\u043d\\u043d\\u043e\\u0439 \\u043c\\u043e\\u043b\\u043e\\u0434e\\u0436\\u043d\\u043e\\u0439 \\u043f\\u043e\\u043b\\u0438\\u0442\\u0438\\u043a\\u0438&lt;/p&gt;\"},\"id\":\"2276\",\"type\":\"panel.models.markup.HTML\"},{\"attributes\":{\"children\":[{\"id\":\"2270\"},{\"id\":\"2273\"}],\"margin\":[0,0,0,0],\"name\":\"Column07250\",\"sizing_mode\":\"stretch_width\"},\"id\":\"2269\",\"type\":\"Column\"},{\"attributes\":{\"client_comm_id\":\"8af383684cf2431eb74b0f7768c2562b\",\"comm_id\":\"b4c83da0bcfa4a5c8d465a5641b229ae\",\"plot_id\":\"2268\"},\"id\":\"2277\",\"type\":\"panel.models.comm_manager.CommManager\"},{\"attributes\":{\"children\":[{\"id\":\"2271\"},{\"id\":\"2272\"}],\"margin\":[0,0,0,0],\"name\":\"Row07249\",\"sizing_mode\":\"stretch_width\"},\"id\":\"2270\",\"type\":\"Row\"},{\"attributes\":{\"margin\":[0,0,0,0],\"name\":\"Column07247\",\"sizing_mode\":\"stretch_width\"},\"id\":\"2274\",\"type\":\"Column\"},{\"attributes\":{\"margin\":[0,0,0,0],\"name\":\"Column07223\",\"sizing_mode\":\"stretch_width\"},\"id\":\"2271\",\"type\":\"Column\"},{\"attributes\":{\"children\":[{\"id\":\"2269\"}],\"margin\":[0,0,0,0],\"name\":\"Row07251\",\"sizing_mode\":\"stretch_width\"},\"id\":\"2268\",\"type\":\"Row\"},{\"attributes\":{\"children\":[{\"id\":\"2276\"}],\"margin\":[0,0,0,0],\"name\":\"Row07246\",\"sizing_mode\":\"stretch_width\"},\"id\":\"2275\",\"type\":\"Row\"}],\"root_ids\":[\"2268\",\"2277\"]},\"title\":\"Bokeh Application\",\"version\":\"2.4.3\"}};\n",
       "    var render_items = [{\"docid\":\"4086f37c-6cee-471b-bfd3-33c88b6e2e9c\",\"root_ids\":[\"2268\"],\"roots\":{\"2268\":\"3da05819-8969-469e-b25f-6fda03ef5824\"}}];\n",
       "    root.Bokeh.embed.embed_items_notebook(docs_json, render_items);\n",
       "    for (const render_item of render_items) {\n",
       "      for (const root_id of render_item.root_ids) {\n",
       "\tconst id_el = document.getElementById(root_id)\n",
       "\tif (id_el.children.length && (id_el.children[0].className === 'bk-root')) {\n",
       "\t  const root_el = id_el.children[0]\n",
       "\t  root_el.id = root_el.id + '-rendered'\n",
       "\t}\n",
       "      }\n",
       "    }\n",
       "  }\n",
       "  if (root.Bokeh !== undefined && root.Bokeh.Panel !== undefined && ( root['Tabulator'] !== undefined) && ( root['Tabulator'] !== undefined) && ( root['Tabulator'] !== undefined)) {\n",
       "    embed_document(root);\n",
       "  } else {\n",
       "    var attempts = 0;\n",
       "    var timer = setInterval(function(root) {\n",
       "      if (root.Bokeh !== undefined && root.Bokeh.Panel !== undefined && (root['Tabulator'] !== undefined) && (root['Tabulator'] !== undefined) && (root['Tabulator'] !== undefined)) {\n",
       "        clearInterval(timer);\n",
       "        embed_document(root);\n",
       "      } else if (document.readyState == \"complete\") {\n",
       "        attempts++;\n",
       "        if (attempts > 200) {\n",
       "          clearInterval(timer);\n",
       "          console.log(\"Bokeh: ERROR: Unable to run BokehJS code because BokehJS library is missing\");\n",
       "        }\n",
       "      }\n",
       "    }, 25, root)\n",
       "  }\n",
       "})(window);</script>"
      ],
      "text/plain": [
       "<hvplot.interactive.Interactive at 0x7fb8104a95a0>"
      ]
     },
     "execution_count": 176,
     "metadata": {
      "application/vnd.holoviews_exec.v0+json": {
       "id": "2268"
      }
     },
     "output_type": "execute_result"
    }
   ],
   "source": [
    "idf.columns[3]"
   ]
  },
  {
   "cell_type": "code",
   "execution_count": 177,
   "id": "a4ad3ffd",
   "metadata": {
    "scrolled": true
   },
   "outputs": [],
   "source": [
    "ipipeline_1 = idf[(idf['Округ'].isin(districts_buttons)) & (idf['Год'] == year_slider)] \\\n",
    "                .groupby('Направления реализации государственной молодeжной политики', as_index=True) \\\n",
    "                .agg({   'Бюджет СРФ, руб': 'sum',\n",
    "                         'Бюджет МО, руб': 'sum',\n",
    "                         'Кол-во грантов': 'sum',\n",
    "                         'Бюджет грантов, руб': 'sum',\n",
    "                         'Численность молодeжи, задействованной в программных мероприятиях по направлению': 'sum',\n",
    "                         'Количество детских и молодeжных общественных объединений, работающих по данному ': 'sum'}) \\\n",
    "                .rename(columns={'Направления реализации государственной молодeжной политики' : 'Направления реализации'})"
   ]
  },
  {
   "cell_type": "code",
   "execution_count": null,
   "id": "76a172b9",
   "metadata": {},
   "outputs": [],
   "source": []
  },
  {
   "cell_type": "code",
   "execution_count": 178,
   "id": "b9c9bfd2",
   "metadata": {},
   "outputs": [],
   "source": [
    "# interactive table\n",
    "itable_1 = ipipeline_1.pipe(pn.widgets.Tabulator, pagination='remote', page_size=10)"
   ]
  },
  {
   "cell_type": "code",
   "execution_count": 179,
   "id": "ba5c8012",
   "metadata": {},
   "outputs": [
    {
     "data": {},
     "metadata": {},
     "output_type": "display_data"
    },
    {
     "data": {
      "application/vnd.holoviews_exec.v0+json": "",
      "text/html": [
       "<div id='2278'>\n",
       "  <div class=\"bk-root\" id=\"58b43976-e0b1-4f18-b56e-1ee2853f2d4e\" data-root-id=\"2278\"></div>\n",
       "</div>\n",
       "<script type=\"application/javascript\">(function(root) {\n",
       "  function embed_document(root) {\n",
       "    var docs_json = {\"3693ae81-581b-4796-8acf-04b476d03fcf\":{\"defs\":[{\"extends\":null,\"module\":null,\"name\":\"ReactiveHTML1\",\"overrides\":[],\"properties\":[]},{\"extends\":null,\"module\":null,\"name\":\"FlexBox1\",\"overrides\":[],\"properties\":[{\"default\":\"flex-start\",\"kind\":null,\"name\":\"align_content\"},{\"default\":\"flex-start\",\"kind\":null,\"name\":\"align_items\"},{\"default\":\"row\",\"kind\":null,\"name\":\"flex_direction\"},{\"default\":\"wrap\",\"kind\":null,\"name\":\"flex_wrap\"},{\"default\":\"flex-start\",\"kind\":null,\"name\":\"justify_content\"}]},{\"extends\":null,\"module\":null,\"name\":\"GridStack1\",\"overrides\":[],\"properties\":[{\"default\":\"warn\",\"kind\":null,\"name\":\"mode\"},{\"default\":null,\"kind\":null,\"name\":\"ncols\"},{\"default\":null,\"kind\":null,\"name\":\"nrows\"},{\"default\":true,\"kind\":null,\"name\":\"allow_resize\"},{\"default\":true,\"kind\":null,\"name\":\"allow_drag\"},{\"default\":[],\"kind\":null,\"name\":\"state\"}]},{\"extends\":null,\"module\":null,\"name\":\"click1\",\"overrides\":[],\"properties\":[{\"default\":\"\",\"kind\":null,\"name\":\"terminal_output\"},{\"default\":\"\",\"kind\":null,\"name\":\"debug_name\"},{\"default\":0,\"kind\":null,\"name\":\"clears\"}]},{\"extends\":null,\"module\":null,\"name\":\"NotificationAreaBase1\",\"overrides\":[],\"properties\":[{\"default\":\"bottom-right\",\"kind\":null,\"name\":\"position\"},{\"default\":0,\"kind\":null,\"name\":\"_clear\"}]},{\"extends\":null,\"module\":null,\"name\":\"NotificationArea1\",\"overrides\":[],\"properties\":[{\"default\":[],\"kind\":null,\"name\":\"notifications\"},{\"default\":\"bottom-right\",\"kind\":null,\"name\":\"position\"},{\"default\":0,\"kind\":null,\"name\":\"_clear\"},{\"default\":[{\"background\":\"#ffc107\",\"icon\":{\"className\":\"fas fa-exclamation-triangle\",\"color\":\"white\",\"tagName\":\"i\"},\"type\":\"warning\"},{\"background\":\"#007bff\",\"icon\":{\"className\":\"fas fa-info-circle\",\"color\":\"white\",\"tagName\":\"i\"},\"type\":\"info\"}],\"kind\":null,\"name\":\"types\"}]},{\"extends\":null,\"module\":null,\"name\":\"Notification\",\"overrides\":[],\"properties\":[{\"default\":null,\"kind\":null,\"name\":\"background\"},{\"default\":3000,\"kind\":null,\"name\":\"duration\"},{\"default\":null,\"kind\":null,\"name\":\"icon\"},{\"default\":\"\",\"kind\":null,\"name\":\"message\"},{\"default\":null,\"kind\":null,\"name\":\"notification_type\"},{\"default\":false,\"kind\":null,\"name\":\"_destroyed\"}]},{\"extends\":null,\"module\":null,\"name\":\"TemplateActions1\",\"overrides\":[],\"properties\":[{\"default\":0,\"kind\":null,\"name\":\"open_modal\"},{\"default\":0,\"kind\":null,\"name\":\"close_modal\"}]},{\"extends\":null,\"module\":null,\"name\":\"MaterialTemplateActions1\",\"overrides\":[],\"properties\":[{\"default\":0,\"kind\":null,\"name\":\"open_modal\"},{\"default\":0,\"kind\":null,\"name\":\"close_modal\"}]}],\"roots\":{\"references\":[{\"attributes\":{\"format\":\"0,0.0[00000]\",\"text_align\":\"right\"},\"id\":\"2294\",\"type\":\"NumberFormatter\"},{\"attributes\":{},\"id\":\"2305\",\"type\":\"NumberEditor\"},{\"attributes\":{\"editor\":{\"id\":\"2305\"},\"field\":\"\\u041a\\u043e\\u043b-\\u0432\\u043e \\u0433\\u0440\\u0430\\u043d\\u0442\\u043e\\u0432\",\"formatter\":{\"id\":\"2304\"},\"title\":\"\\u041a\\u043e\\u043b-\\u0432\\u043e \\u0433\\u0440\\u0430\\u043d\\u0442\\u043e\\u0432\",\"width\":0},\"id\":\"2306\",\"type\":\"TableColumn\"},{\"attributes\":{\"data\":{\"\\u0411\\u044e\\u0434\\u0436\\u0435\\u0442 \\u041c\\u041e, \\u0440\\u0443\\u0431\":{\"__ndarray__\":\"\",\"dtype\":\"float64\",\"order\":\"little\",\"shape\":[0]},\"\\u0411\\u044e\\u0434\\u0436\\u0435\\u0442 \\u0421\\u0420\\u0424, \\u0440\\u0443\\u0431\":{\"__ndarray__\":\"\",\"dtype\":\"float64\",\"order\":\"little\",\"shape\":[0]},\"\\u0411\\u044e\\u0434\\u0436\\u0435\\u0442 \\u0433\\u0440\\u0430\\u043d\\u0442\\u043e\\u0432, \\u0440\\u0443\\u0431\":{\"__ndarray__\":\"\",\"dtype\":\"float64\",\"order\":\"little\",\"shape\":[0]},\"\\u041a\\u043e\\u043b-\\u0432\\u043e \\u0433\\u0440\\u0430\\u043d\\u0442\\u043e\\u0432\":{\"__ndarray__\":\"\",\"dtype\":\"float64\",\"order\":\"little\",\"shape\":[0]},\"\\u041a\\u043e\\u043b\\u0438\\u0447\\u0435\\u0441\\u0442\\u0432\\u043e \\u0434\\u0435\\u0442\\u0441\\u043a\\u0438\\u0445 \\u0438 \\u043c\\u043e\\u043b\\u043e\\u0434e\\u0436\\u043d\\u044b\\u0445 \\u043e\\u0431\\u0449\\u0435\\u0441\\u0442\\u0432\\u0435\\u043d\\u043d\\u044b\\u0445 \\u043e\\u0431\\u044a\\u0435\\u0434\\u0438\\u043d\\u0435\\u043d\\u0438\\u0439, \\u0440\\u0430\\u0431\\u043e\\u0442\\u0430\\u044e\\u0449\\u0438\\u0445 \\u043f\\u043e \\u0434\\u0430\\u043d\\u043d\\u043e\\u043c\\u0443 \":{\"__ndarray__\":\"\",\"dtype\":\"float64\",\"order\":\"little\",\"shape\":[0]},\"\\u041d\\u0430\\u043f\\u0440\\u0430\\u0432\\u043b\\u0435\\u043d\\u0438\\u044f \\u0440\\u0435\\u0430\\u043b\\u0438\\u0437\\u0430\\u0446\\u0438\\u0438 \\u0433\\u043e\\u0441\\u0443\\u0434\\u0430\\u0440\\u0441\\u0442\\u0432\\u0435\\u043d\\u043d\\u043e\\u0439 \\u043c\\u043e\\u043b\\u043e\\u0434e\\u0436\\u043d\\u043e\\u0439 \\u043f\\u043e\\u043b\\u0438\\u0442\\u0438\\u043a\\u0438\":[],\"\\u0427\\u0438\\u0441\\u043b\\u0435\\u043d\\u043d\\u043e\\u0441\\u0442\\u044c \\u043c\\u043e\\u043b\\u043e\\u0434e\\u0436\\u0438, \\u0437\\u0430\\u0434\\u0435\\u0439\\u0441\\u0442\\u0432\\u043e\\u0432\\u0430\\u043d\\u043d\\u043e\\u0439 \\u0432 \\u043f\\u0440\\u043e\\u0433\\u0440\\u0430\\u043c\\u043c\\u043d\\u044b\\u0445 \\u043c\\u0435\\u0440\\u043e\\u043f\\u0440\\u0438\\u044f\\u0442\\u0438\\u044f\\u0445 \\u043f\\u043e \\u043d\\u0430\\u043f\\u0440\\u0430\\u0432\\u043b\\u0435\\u043d\\u0438\\u044e\":{\"__ndarray__\":\"\",\"dtype\":\"float64\",\"order\":\"little\",\"shape\":[0]}},\"selected\":{\"id\":\"2287\"},\"selection_policy\":{\"id\":\"2326\"}},\"id\":\"2286\",\"type\":\"ColumnDataSource\"},{\"attributes\":{\"margin\":[5,5,5,5],\"name\":\"HSpacer07724\",\"sizing_mode\":\"stretch_width\"},\"id\":\"2284\",\"type\":\"Spacer\"},{\"attributes\":{\"children\":[{\"id\":\"2324\"}],\"margin\":[0,0,0,0],\"name\":\"Row07698\",\"sizing_mode\":\"stretch_width\"},\"id\":\"2285\",\"type\":\"Row\"},{\"attributes\":{\"client_comm_id\":\"c5b4243470f94d1797102152b2610a2a\",\"comm_id\":\"f8cacbb73de94e80a13ee0f118768e46\",\"plot_id\":\"2278\"},\"id\":\"2332\",\"type\":\"panel.models.comm_manager.CommManager\"},{\"attributes\":{},\"id\":\"2310\",\"type\":\"NumberEditor\"},{\"attributes\":{\"format\":\"0,0.0[00000]\",\"text_align\":\"right\"},\"id\":\"2319\",\"type\":\"NumberFormatter\"},{\"attributes\":{\"editor\":{\"id\":\"2320\"},\"field\":\"\\u041a\\u043e\\u043b\\u0438\\u0447\\u0435\\u0441\\u0442\\u0432\\u043e \\u0434\\u0435\\u0442\\u0441\\u043a\\u0438\\u0445 \\u0438 \\u043c\\u043e\\u043b\\u043e\\u0434e\\u0436\\u043d\\u044b\\u0445 \\u043e\\u0431\\u0449\\u0435\\u0441\\u0442\\u0432\\u0435\\u043d\\u043d\\u044b\\u0445 \\u043e\\u0431\\u044a\\u0435\\u0434\\u0438\\u043d\\u0435\\u043d\\u0438\\u0439, \\u0440\\u0430\\u0431\\u043e\\u0442\\u0430\\u044e\\u0449\\u0438\\u0445 \\u043f\\u043e \\u0434\\u0430\\u043d\\u043d\\u043e\\u043c\\u0443 \",\"formatter\":{\"id\":\"2319\"},\"title\":\"\\u041a\\u043e\\u043b\\u0438\\u0447\\u0435\\u0441\\u0442\\u0432\\u043e \\u0434\\u0435\\u0442\\u0441\\u043a\\u0438\\u0445 \\u0438 \\u043c\\u043e\\u043b\\u043e\\u0434e\\u0436\\u043d\\u044b\\u0445 \\u043e\\u0431\\u0449\\u0435\\u0441\\u0442\\u0432\\u0435\\u043d\\u043d\\u044b\\u0445 \\u043e\\u0431\\u044a\\u0435\\u0434\\u0438\\u043d\\u0435\\u043d\\u0438\\u0439, \\u0440\\u0430\\u0431\\u043e\\u0442\\u0430\\u044e\\u0449\\u0438\\u0445 \\u043f\\u043e \\u0434\\u0430\\u043d\\u043d\\u043e\\u043c\\u0443 \",\"width\":0},\"id\":\"2321\",\"type\":\"TableColumn\"},{\"attributes\":{\"children\":[{\"id\":\"2281\"},{\"id\":\"2284\"}],\"margin\":[0,0,0,0],\"name\":\"Row07725\",\"sizing_mode\":\"stretch_width\"},\"id\":\"2280\",\"type\":\"Row\"},{\"attributes\":{},\"id\":\"2295\",\"type\":\"NumberEditor\"},{\"attributes\":{\"format\":\"0,0.0[00000]\",\"text_align\":\"right\"},\"id\":\"2314\",\"type\":\"NumberFormatter\"},{\"attributes\":{\"end\":2021,\"margin\":[5,10,5,10],\"sizing_mode\":\"stretch_width\",\"start\":2020,\"title\":\"Year slider\",\"value\":2020},\"id\":\"2283\",\"type\":\"Slider\"},{\"attributes\":{\"editor\":{\"id\":\"2290\"},\"field\":\"\\u041d\\u0430\\u043f\\u0440\\u0430\\u0432\\u043b\\u0435\\u043d\\u0438\\u044f \\u0440\\u0435\\u0430\\u043b\\u0438\\u0437\\u0430\\u0446\\u0438\\u0438 \\u0433\\u043e\\u0441\\u0443\\u0434\\u0430\\u0440\\u0441\\u0442\\u0432\\u0435\\u043d\\u043d\\u043e\\u0439 \\u043c\\u043e\\u043b\\u043e\\u0434e\\u0436\\u043d\\u043e\\u0439 \\u043f\\u043e\\u043b\\u0438\\u0442\\u0438\\u043a\\u0438\",\"formatter\":{\"id\":\"2288\"},\"title\":\"\\u041d\\u0430\\u043f\\u0440\\u0430\\u0432\\u043b\\u0435\\u043d\\u0438\\u044f \\u0440\\u0435\\u0430\\u043b\\u0438\\u0437\\u0430\\u0446\\u0438\\u0438 \\u0433\\u043e\\u0441\\u0443\\u0434\\u0430\\u0440\\u0441\\u0442\\u0432\\u0435\\u043d\\u043d\\u043e\\u0439 \\u043c\\u043e\\u043b\\u043e\\u0434e\\u0436\\u043d\\u043e\\u0439 \\u043f\\u043e\\u043b\\u0438\\u0442\\u0438\\u043a\\u0438\",\"width\":0},\"id\":\"2291\",\"type\":\"TableColumn\"},{\"attributes\":{\"columns\":[{\"id\":\"2291\"},{\"id\":\"2296\"},{\"id\":\"2301\"},{\"id\":\"2306\"},{\"id\":\"2311\"},{\"id\":\"2316\"},{\"id\":\"2321\"}],\"configuration\":{\"columns\":[{\"field\":\"\\u041d\\u0430\\u043f\\u0440\\u0430\\u0432\\u043b\\u0435\\u043d\\u0438\\u044f \\u0440\\u0435\\u0430\\u043b\\u0438\\u0437\\u0430\\u0446\\u0438\\u0438 \\u0433\\u043e\\u0441\\u0443\\u0434\\u0430\\u0440\\u0441\\u0442\\u0432\\u0435\\u043d\\u043d\\u043e\\u0439 \\u043c\\u043e\\u043b\\u043e\\u0434e\\u0436\\u043d\\u043e\\u0439 \\u043f\\u043e\\u043b\\u0438\\u0442\\u0438\\u043a\\u0438\"},{\"field\":\"\\u0411\\u044e\\u0434\\u0436\\u0435\\u0442 \\u0421\\u0420\\u0424, \\u0440\\u0443\\u0431\",\"sorter\":\"number\"},{\"field\":\"\\u0411\\u044e\\u0434\\u0436\\u0435\\u0442 \\u041c\\u041e, \\u0440\\u0443\\u0431\",\"sorter\":\"number\"},{\"field\":\"\\u041a\\u043e\\u043b-\\u0432\\u043e \\u0433\\u0440\\u0430\\u043d\\u0442\\u043e\\u0432\",\"sorter\":\"number\"},{\"field\":\"\\u0411\\u044e\\u0434\\u0436\\u0435\\u0442 \\u0433\\u0440\\u0430\\u043d\\u0442\\u043e\\u0432, \\u0440\\u0443\\u0431\",\"sorter\":\"number\"},{\"field\":\"\\u0427\\u0438\\u0441\\u043b\\u0435\\u043d\\u043d\\u043e\\u0441\\u0442\\u044c \\u043c\\u043e\\u043b\\u043e\\u0434e\\u0436\\u0438, \\u0437\\u0430\\u0434\\u0435\\u0439\\u0441\\u0442\\u0432\\u043e\\u0432\\u0430\\u043d\\u043d\\u043e\\u0439 \\u0432 \\u043f\\u0440\\u043e\\u0433\\u0440\\u0430\\u043c\\u043c\\u043d\\u044b\\u0445 \\u043c\\u0435\\u0440\\u043e\\u043f\\u0440\\u0438\\u044f\\u0442\\u0438\\u044f\\u0445 \\u043f\\u043e \\u043d\\u0430\\u043f\\u0440\\u0430\\u0432\\u043b\\u0435\\u043d\\u0438\\u044e\",\"sorter\":\"number\"},{\"field\":\"\\u041a\\u043e\\u043b\\u0438\\u0447\\u0435\\u0441\\u0442\\u0432\\u043e \\u0434\\u0435\\u0442\\u0441\\u043a\\u0438\\u0445 \\u0438 \\u043c\\u043e\\u043b\\u043e\\u0434e\\u0436\\u043d\\u044b\\u0445 \\u043e\\u0431\\u0449\\u0435\\u0441\\u0442\\u0432\\u0435\\u043d\\u043d\\u044b\\u0445 \\u043e\\u0431\\u044a\\u0435\\u0434\\u0438\\u043d\\u0435\\u043d\\u0438\\u0439, \\u0440\\u0430\\u0431\\u043e\\u0442\\u0430\\u044e\\u0449\\u0438\\u0445 \\u043f\\u043e \\u0434\\u0430\\u043d\\u043d\\u043e\\u043c\\u0443 \",\"sorter\":\"number\"}],\"dataTree\":false,\"selectable\":true},\"indexes\":[\"\\u041d\\u0430\\u043f\\u0440\\u0430\\u0432\\u043b\\u0435\\u043d\\u0438\\u044f \\u0440\\u0435\\u0430\\u043b\\u0438\\u0437\\u0430\\u0446\\u0438\\u0438 \\u0433\\u043e\\u0441\\u0443\\u0434\\u0430\\u0440\\u0441\\u0442\\u0432\\u0435\\u043d\\u043d\\u043e\\u0439 \\u043c\\u043e\\u043b\\u043e\\u0434e\\u0436\\u043d\\u043e\\u0439 \\u043f\\u043e\\u043b\\u0438\\u0442\\u0438\\u043a\\u0438\"],\"layout\":\"fit_data_table\",\"margin\":[5,10,5,10],\"max_page\":1,\"name\":\"\",\"page\":1,\"page_size\":10,\"pagination\":\"remote\",\"select_mode\":true,\"selectable_rows\":null,\"sizing_mode\":\"stretch_width\",\"source\":{\"id\":\"2286\"},\"subscribed_events\":[\"cell-click\",\"table-edit\"],\"theme_url\":\"https://cdn.jsdelivr.net/npm/@holoviz/panel@0.14.3/dist/bundled/datatabulator/tabulator-tables@5.3.2/dist/css/\"},\"id\":\"2324\",\"type\":\"panel.models.tabulator.DataTabulator\"},{\"attributes\":{},\"id\":\"2300\",\"type\":\"NumberEditor\"},{\"attributes\":{\"editor\":{\"id\":\"2310\"},\"field\":\"\\u0411\\u044e\\u0434\\u0436\\u0435\\u0442 \\u0433\\u0440\\u0430\\u043d\\u0442\\u043e\\u0432, \\u0440\\u0443\\u0431\",\"formatter\":{\"id\":\"2309\"},\"title\":\"\\u0411\\u044e\\u0434\\u0436\\u0435\\u0442 \\u0433\\u0440\\u0430\\u043d\\u0442\\u043e\\u0432, \\u0440\\u0443\\u0431\",\"width\":0},\"id\":\"2311\",\"type\":\"TableColumn\"},{\"attributes\":{},\"id\":\"2326\",\"type\":\"UnionRenderers\"},{\"attributes\":{\"children\":[{\"id\":\"2282\"},{\"id\":\"2283\"}],\"margin\":[0,0,0,0],\"name\":\"Column07693\",\"sizing_mode\":\"stretch_width\"},\"id\":\"2281\",\"type\":\"Column\"},{\"attributes\":{\"children\":[{\"id\":\"2280\"},{\"id\":\"2285\"}],\"margin\":[0,0,0,0],\"name\":\"Column07726\",\"sizing_mode\":\"stretch_width\"},\"id\":\"2279\",\"type\":\"Column\"},{\"attributes\":{\"format\":\"0,0.0[00000]\",\"text_align\":\"right\"},\"id\":\"2309\",\"type\":\"NumberFormatter\"},{\"attributes\":{\"editor\":{\"id\":\"2300\"},\"field\":\"\\u0411\\u044e\\u0434\\u0436\\u0435\\u0442 \\u041c\\u041e, \\u0440\\u0443\\u0431\",\"formatter\":{\"id\":\"2299\"},\"title\":\"\\u0411\\u044e\\u0434\\u0436\\u0435\\u0442 \\u041c\\u041e, \\u0440\\u0443\\u0431\",\"width\":0},\"id\":\"2301\",\"type\":\"TableColumn\"},{\"attributes\":{},\"id\":\"2290\",\"type\":\"CellEditor\"},{\"attributes\":{\"editor\":{\"id\":\"2315\"},\"field\":\"\\u0427\\u0438\\u0441\\u043b\\u0435\\u043d\\u043d\\u043e\\u0441\\u0442\\u044c \\u043c\\u043e\\u043b\\u043e\\u0434e\\u0436\\u0438, \\u0437\\u0430\\u0434\\u0435\\u0439\\u0441\\u0442\\u0432\\u043e\\u0432\\u0430\\u043d\\u043d\\u043e\\u0439 \\u0432 \\u043f\\u0440\\u043e\\u0433\\u0440\\u0430\\u043c\\u043c\\u043d\\u044b\\u0445 \\u043c\\u0435\\u0440\\u043e\\u043f\\u0440\\u0438\\u044f\\u0442\\u0438\\u044f\\u0445 \\u043f\\u043e \\u043d\\u0430\\u043f\\u0440\\u0430\\u0432\\u043b\\u0435\\u043d\\u0438\\u044e\",\"formatter\":{\"id\":\"2314\"},\"title\":\"\\u0427\\u0438\\u0441\\u043b\\u0435\\u043d\\u043d\\u043e\\u0441\\u0442\\u044c \\u043c\\u043e\\u043b\\u043e\\u0434e\\u0436\\u0438, \\u0437\\u0430\\u0434\\u0435\\u0439\\u0441\\u0442\\u0432\\u043e\\u0432\\u0430\\u043d\\u043d\\u043e\\u0439 \\u0432 \\u043f\\u0440\\u043e\\u0433\\u0440\\u0430\\u043c\\u043c\\u043d\\u044b\\u0445 \\u043c\\u0435\\u0440\\u043e\\u043f\\u0440\\u0438\\u044f\\u0442\\u0438\\u044f\\u0445 \\u043f\\u043e \\u043d\\u0430\\u043f\\u0440\\u0430\\u0432\\u043b\\u0435\\u043d\\u0438\\u044e\",\"width\":0},\"id\":\"2316\",\"type\":\"TableColumn\"},{\"attributes\":{\"children\":[{\"id\":\"2279\"}],\"margin\":[0,0,0,0],\"name\":\"Row07727\",\"sizing_mode\":\"stretch_width\"},\"id\":\"2278\",\"type\":\"Row\"},{\"attributes\":{\"button_type\":\"success\",\"labels\":[\"\\u0421\\u0424\\u041e\",\"\\u0414\\u0424\\u041e\",\"\\u0421\\u0417\\u0424\\u041e\",\"\\u042e\\u0424\\u041e\",\"\\u0426\\u0424\\u041e\",\"\\u0421\\u041a\\u0424\\u041e\",\"\\u041f\\u0424\\u041e\",\"\\u0423\\u0424\\u041e\"],\"margin\":[5,10,5,10],\"sizing_mode\":\"stretch_width\"},\"id\":\"2282\",\"type\":\"CheckboxButtonGroup\"},{\"attributes\":{},\"id\":\"2320\",\"type\":\"NumberEditor\"},{\"attributes\":{},\"id\":\"2288\",\"type\":\"StringFormatter\"},{\"attributes\":{\"format\":\"0,0.0[00000]\",\"text_align\":\"right\"},\"id\":\"2304\",\"type\":\"NumberFormatter\"},{\"attributes\":{\"editor\":{\"id\":\"2295\"},\"field\":\"\\u0411\\u044e\\u0434\\u0436\\u0435\\u0442 \\u0421\\u0420\\u0424, \\u0440\\u0443\\u0431\",\"formatter\":{\"id\":\"2294\"},\"title\":\"\\u0411\\u044e\\u0434\\u0436\\u0435\\u0442 \\u0421\\u0420\\u0424, \\u0440\\u0443\\u0431\",\"width\":0},\"id\":\"2296\",\"type\":\"TableColumn\"},{\"attributes\":{},\"id\":\"2315\",\"type\":\"NumberEditor\"},{\"attributes\":{\"indices\":[]},\"id\":\"2287\",\"type\":\"Selection\"},{\"attributes\":{\"format\":\"0,0.0[00000]\",\"text_align\":\"right\"},\"id\":\"2299\",\"type\":\"NumberFormatter\"}],\"root_ids\":[\"2278\",\"2332\"]},\"title\":\"Bokeh Application\",\"version\":\"2.4.3\"}};\n",
       "    var render_items = [{\"docid\":\"3693ae81-581b-4796-8acf-04b476d03fcf\",\"root_ids\":[\"2278\"],\"roots\":{\"2278\":\"58b43976-e0b1-4f18-b56e-1ee2853f2d4e\"}}];\n",
       "    root.Bokeh.embed.embed_items_notebook(docs_json, render_items);\n",
       "    for (const render_item of render_items) {\n",
       "      for (const root_id of render_item.root_ids) {\n",
       "\tconst id_el = document.getElementById(root_id)\n",
       "\tif (id_el.children.length && (id_el.children[0].className === 'bk-root')) {\n",
       "\t  const root_el = id_el.children[0]\n",
       "\t  root_el.id = root_el.id + '-rendered'\n",
       "\t}\n",
       "      }\n",
       "    }\n",
       "  }\n",
       "  if (root.Bokeh !== undefined && root.Bokeh.Panel !== undefined && ( root['Tabulator'] !== undefined) && ( root['Tabulator'] !== undefined) && ( root['Tabulator'] !== undefined)) {\n",
       "    embed_document(root);\n",
       "  } else {\n",
       "    var attempts = 0;\n",
       "    var timer = setInterval(function(root) {\n",
       "      if (root.Bokeh !== undefined && root.Bokeh.Panel !== undefined && (root['Tabulator'] !== undefined) && (root['Tabulator'] !== undefined) && (root['Tabulator'] !== undefined)) {\n",
       "        clearInterval(timer);\n",
       "        embed_document(root);\n",
       "      } else if (document.readyState == \"complete\") {\n",
       "        attempts++;\n",
       "        if (attempts > 200) {\n",
       "          clearInterval(timer);\n",
       "          console.log(\"Bokeh: ERROR: Unable to run BokehJS code because BokehJS library is missing\");\n",
       "        }\n",
       "      }\n",
       "    }, 25, root)\n",
       "  }\n",
       "})(window);</script>"
      ],
      "text/plain": [
       "<hvplot.interactive.Interactive at 0x7fb810710970>"
      ]
     },
     "execution_count": 179,
     "metadata": {
      "application/vnd.holoviews_exec.v0+json": {
       "id": "2278"
      }
     },
     "output_type": "execute_result"
    }
   ],
   "source": [
    "itable_1"
   ]
  },
  {
   "cell_type": "code",
   "execution_count": null,
   "id": "59945e69",
   "metadata": {},
   "outputs": [],
   "source": []
  },
  {
   "cell_type": "code",
   "execution_count": 180,
   "id": "0eaa6583",
   "metadata": {},
   "outputs": [],
   "source": [
    "# add select button\n",
    "select = pn.widgets.Select(name='Выберите округ', options=districts)"
   ]
  },
  {
   "cell_type": "code",
   "execution_count": 181,
   "id": "5c37bac4",
   "metadata": {
    "scrolled": true
   },
   "outputs": [],
   "source": [
    "ipipeline_2 = idf[idf['Округ'] == (select)] \\\n",
    "                .groupby('Направления реализации государственной молодeжной политики', as_index=True) \\\n",
    "                .agg({   'Бюджет СРФ, руб': 'sum',\n",
    "                         'Бюджет МО, руб': 'sum',\n",
    "                         'Кол-во грантов': 'sum',\n",
    "                         'Бюджет грантов, руб': 'sum',\n",
    "                         'Численность молодeжи, задействованной в программных мероприятиях по направлению': 'sum',\n",
    "                         'Количество детских и молодeжных общественных объединений, работающих по данному ': 'sum'}) \\\n",
    "                .rename(columns={'Направления реализации государственной молодeжной политики' : 'Направления реализации'})"
   ]
  },
  {
   "cell_type": "code",
   "execution_count": 182,
   "id": "5aea0bc2",
   "metadata": {},
   "outputs": [],
   "source": [
    "itable_2 = ipipeline_2.pipe(pn.widgets.Tabulator, pagination='remote', page_size=10)"
   ]
  },
  {
   "cell_type": "code",
   "execution_count": 183,
   "id": "5da6c810",
   "metadata": {
    "scrolled": true
   },
   "outputs": [
    {
     "data": {},
     "metadata": {},
     "output_type": "display_data"
    },
    {
     "data": {
      "application/vnd.holoviews_exec.v0+json": "",
      "text/html": [
       "<div id='2343'>\n",
       "  <div class=\"bk-root\" id=\"475b4ec5-db47-4730-b9cc-3ecf50c1c4af\" data-root-id=\"2343\"></div>\n",
       "</div>\n",
       "<script type=\"application/javascript\">(function(root) {\n",
       "  function embed_document(root) {\n",
       "    var docs_json = {\"8d17cc55-2674-47a5-9e7e-981b53843f31\":{\"defs\":[{\"extends\":null,\"module\":null,\"name\":\"ReactiveHTML1\",\"overrides\":[],\"properties\":[]},{\"extends\":null,\"module\":null,\"name\":\"FlexBox1\",\"overrides\":[],\"properties\":[{\"default\":\"flex-start\",\"kind\":null,\"name\":\"align_content\"},{\"default\":\"flex-start\",\"kind\":null,\"name\":\"align_items\"},{\"default\":\"row\",\"kind\":null,\"name\":\"flex_direction\"},{\"default\":\"wrap\",\"kind\":null,\"name\":\"flex_wrap\"},{\"default\":\"flex-start\",\"kind\":null,\"name\":\"justify_content\"}]},{\"extends\":null,\"module\":null,\"name\":\"GridStack1\",\"overrides\":[],\"properties\":[{\"default\":\"warn\",\"kind\":null,\"name\":\"mode\"},{\"default\":null,\"kind\":null,\"name\":\"ncols\"},{\"default\":null,\"kind\":null,\"name\":\"nrows\"},{\"default\":true,\"kind\":null,\"name\":\"allow_resize\"},{\"default\":true,\"kind\":null,\"name\":\"allow_drag\"},{\"default\":[],\"kind\":null,\"name\":\"state\"}]},{\"extends\":null,\"module\":null,\"name\":\"click1\",\"overrides\":[],\"properties\":[{\"default\":\"\",\"kind\":null,\"name\":\"terminal_output\"},{\"default\":\"\",\"kind\":null,\"name\":\"debug_name\"},{\"default\":0,\"kind\":null,\"name\":\"clears\"}]},{\"extends\":null,\"module\":null,\"name\":\"NotificationAreaBase1\",\"overrides\":[],\"properties\":[{\"default\":\"bottom-right\",\"kind\":null,\"name\":\"position\"},{\"default\":0,\"kind\":null,\"name\":\"_clear\"}]},{\"extends\":null,\"module\":null,\"name\":\"NotificationArea1\",\"overrides\":[],\"properties\":[{\"default\":[],\"kind\":null,\"name\":\"notifications\"},{\"default\":\"bottom-right\",\"kind\":null,\"name\":\"position\"},{\"default\":0,\"kind\":null,\"name\":\"_clear\"},{\"default\":[{\"background\":\"#ffc107\",\"icon\":{\"className\":\"fas fa-exclamation-triangle\",\"color\":\"white\",\"tagName\":\"i\"},\"type\":\"warning\"},{\"background\":\"#007bff\",\"icon\":{\"className\":\"fas fa-info-circle\",\"color\":\"white\",\"tagName\":\"i\"},\"type\":\"info\"}],\"kind\":null,\"name\":\"types\"}]},{\"extends\":null,\"module\":null,\"name\":\"Notification\",\"overrides\":[],\"properties\":[{\"default\":null,\"kind\":null,\"name\":\"background\"},{\"default\":3000,\"kind\":null,\"name\":\"duration\"},{\"default\":null,\"kind\":null,\"name\":\"icon\"},{\"default\":\"\",\"kind\":null,\"name\":\"message\"},{\"default\":null,\"kind\":null,\"name\":\"notification_type\"},{\"default\":false,\"kind\":null,\"name\":\"_destroyed\"}]},{\"extends\":null,\"module\":null,\"name\":\"TemplateActions1\",\"overrides\":[],\"properties\":[{\"default\":0,\"kind\":null,\"name\":\"open_modal\"},{\"default\":0,\"kind\":null,\"name\":\"close_modal\"}]},{\"extends\":null,\"module\":null,\"name\":\"MaterialTemplateActions1\",\"overrides\":[],\"properties\":[{\"default\":0,\"kind\":null,\"name\":\"open_modal\"},{\"default\":0,\"kind\":null,\"name\":\"close_modal\"}]}],\"roots\":{\"references\":[{\"attributes\":{\"children\":[{\"id\":\"2345\"},{\"id\":\"2349\"}],\"margin\":[0,0,0,0],\"name\":\"Column08093\",\"sizing_mode\":\"stretch_width\"},\"id\":\"2344\",\"type\":\"Column\"},{\"attributes\":{},\"id\":\"2390\",\"type\":\"UnionRenderers\"},{\"attributes\":{\"editor\":{\"id\":\"2354\"},\"field\":\"\\u041d\\u0430\\u043f\\u0440\\u0430\\u0432\\u043b\\u0435\\u043d\\u0438\\u044f \\u0440\\u0435\\u0430\\u043b\\u0438\\u0437\\u0430\\u0446\\u0438\\u0438 \\u0433\\u043e\\u0441\\u0443\\u0434\\u0430\\u0440\\u0441\\u0442\\u0432\\u0435\\u043d\\u043d\\u043e\\u0439 \\u043c\\u043e\\u043b\\u043e\\u0434e\\u0436\\u043d\\u043e\\u0439 \\u043f\\u043e\\u043b\\u0438\\u0442\\u0438\\u043a\\u0438\",\"formatter\":{\"id\":\"2352\"},\"title\":\"\\u041d\\u0430\\u043f\\u0440\\u0430\\u0432\\u043b\\u0435\\u043d\\u0438\\u044f \\u0440\\u0435\\u0430\\u043b\\u0438\\u0437\\u0430\\u0446\\u0438\\u0438 \\u0433\\u043e\\u0441\\u0443\\u0434\\u0430\\u0440\\u0441\\u0442\\u0432\\u0435\\u043d\\u043d\\u043e\\u0439 \\u043c\\u043e\\u043b\\u043e\\u0434e\\u0436\\u043d\\u043e\\u0439 \\u043f\\u043e\\u043b\\u0438\\u0442\\u0438\\u043a\\u0438\",\"width\":0},\"id\":\"2355\",\"type\":\"TableColumn\"},{\"attributes\":{\"client_comm_id\":\"d44dca7ecadb4beaabbfb89b0ef7f7a3\",\"comm_id\":\"6a9ed7194c1548b49fb4c80404aab386\",\"plot_id\":\"2343\"},\"id\":\"2396\",\"type\":\"panel.models.comm_manager.CommManager\"},{\"attributes\":{\"data\":{\"\\u0411\\u044e\\u0434\\u0436\\u0435\\u0442 \\u041c\\u041e, \\u0440\\u0443\\u0431\":{\"__ndarray__\":\"AAAAAAAAAAAAAAAAAHDHQAAAAEBG91BBAAAAYPfUb0EAAAAAzm9HQQAAAAA38mFBAAAAAPoTQ0EAAAAAALQUQQAAAFhWBYFBAAAAALMNO0E=\",\"dtype\":\"float64\",\"order\":\"little\",\"shape\":[10]},\"\\u0411\\u044e\\u0434\\u0436\\u0435\\u0442 \\u0421\\u0420\\u0424, \\u0440\\u0443\\u0431\":{\"__ndarray__\":\"AAAAAAAAAAAAAAAAAGvMQAAAAAA/YzVBAAAAEEz2hUEAAAAA8fNwQQAAAEB+BVBBAAAAAND0/EAAAAAANMwzQQAAAEA3wmlBAAAAAOKeS0E=\",\"dtype\":\"float64\",\"order\":\"little\",\"shape\":[10]},\"\\u0411\\u044e\\u0434\\u0436\\u0435\\u0442 \\u0433\\u0440\\u0430\\u043d\\u0442\\u043e\\u0432, \\u0440\\u0443\\u0431\":{\"__ndarray__\":\"AAAAAABqCEEAAAAAAAAAAAAAAIC9hlpBAAAAgGzlVkEAAAAAlmdIQQAAAAAoDytBAAAAAFBgQEEAAACAWz5BQQAAAEAMrGpBAAAAAK85XEE=\",\"dtype\":\"float64\",\"order\":\"little\",\"shape\":[10]},\"\\u041a\\u043e\\u043b-\\u0432\\u043e \\u0433\\u0440\\u0430\\u043d\\u0442\\u043e\\u0432\":{\"__ndarray__\":\"AAAAAAAA8D8AAAAAAAAAAAAAAAAAADFAAAAAAACAUkAAAAAAAABeQAAAAAAAACpAAAAAAAAAM0AAAAAAAAAIQAAAAAAAAEdAAAAAAAAAHEA=\",\"dtype\":\"float64\",\"order\":\"little\",\"shape\":[10]},\"\\u041a\\u043e\\u043b\\u0438\\u0447\\u0435\\u0441\\u0442\\u0432\\u043e \\u0434\\u0435\\u0442\\u0441\\u043a\\u0438\\u0445 \\u0438 \\u043c\\u043e\\u043b\\u043e\\u0434e\\u0436\\u043d\\u044b\\u0445 \\u043e\\u0431\\u0449\\u0435\\u0441\\u0442\\u0432\\u0435\\u043d\\u043d\\u044b\\u0445 \\u043e\\u0431\\u044a\\u0435\\u0434\\u0438\\u043d\\u0435\\u043d\\u0438\\u0439, \\u0440\\u0430\\u0431\\u043e\\u0442\\u0430\\u044e\\u0449\\u0438\\u0445 \\u043f\\u043e \\u0434\\u0430\\u043d\\u043d\\u043e\\u043c\\u0443 \":{\"__ndarray__\":\"AAAAAAAACEAAAAAAAAAkQAAAAAAA4qNAAAAAAABQgEAAAAAAABiBQAAAAAAAsHhAAAAAAAD4ikAAAAAAAMBgQAAAAAAAVqpAAAAAAAAAbkA=\",\"dtype\":\"float64\",\"order\":\"little\",\"shape\":[10]},\"\\u041d\\u0430\\u043f\\u0440\\u0430\\u0432\\u043b\\u0435\\u043d\\u0438\\u044f \\u0440\\u0435\\u0430\\u043b\\u0438\\u0437\\u0430\\u0446\\u0438\\u0438 \\u0433\\u043e\\u0441\\u0443\\u0434\\u0430\\u0440\\u0441\\u0442\\u0432\\u0435\\u043d\\u043d\\u043e\\u0439 \\u043c\\u043e\\u043b\\u043e\\u0434e\\u0436\\u043d\\u043e\\u0439 \\u043f\\u043e\\u043b\\u0438\\u0442\\u0438\\u043a\\u0438\":[\"      \\u0430\\u044d\\u0440\\u043e\\u043a\\u043e\\u0441\\u043c\\u043e\\u0441\",\"      \\u0431\\u0438\\u043e\\u043c\\u0435\\u0434\\u0438\\u0446\\u0438\\u043d\\u0430\",\"      \\u0432\\u043e\\u043b\\u043e\\u043d\\u0442e\\u0440\\u0441\\u043a\\u0438\\u0445 \\u043e\\u0431\\u044a\\u0435\\u0434\\u0438\\u043d\\u0435\\u043d\\u0438\\u0439 \\u0432 \\u0441\\u0444\\u0435\\u0440\\u0435\\n      \\u043f\\u0430\\u0442\\u0440\\u0438\\u043e\\u0442\\u0438\\u0447\\u0435\\u0441\\u043a\\u043e\\u0433\\u043e \\u0432\\u043e\\u0441\\u043f\\u0438\\u0442\\u0430\\u043d\\u0438\\u044f \\u0434\\u0435\\u0442\\u0435\\u0439\\n      \\u0438 \\u043c\\u043e\\u043b\\u043e\\u0434e\\u0436\\u0438\",\"      \\u0434\\u0440\\u0443\\u0433\\u0438\\u0435\",\"      \\u0434\\u0440\\u0443\\u0433\\u043e\\u0435\",\"      \\u0438\\u043d\\u0444\\u043e\\u0440\\u043c\\u0430\\u0446\\u0438\\u043e\\u043d\\u043d\\u044b\\u0435 \\u0442\\u0435\\u0445\\u043d\\u043e\\u043b\\u043e\\u0433\\u0438\\u0438 - IT\\n      (\\u0432 \\u0442\\u043e\\u043c \\u0447\\u0438\\u0441\\u043b\\u0435 \\u0440\\u043e\\u0431\\u043e\\u0442\\u043e\\u0442\\u0435\\u0445\\u043d\\u0438\\u043a\\u0430)\",\"      \\u0438\\u0441\\u0442\\u043e\\u0440\\u0438\\u043a\\u043e-\\u043a\\u0440\\u0430\\u0435\\u0432\\u0435\\u0434\\u0447\\u0435\\u0441\\u043a\\u0438\\u0445 \\u043a\\u0440\\u0443\\u0436\\u043a\\u043e\\u0432 \\u0438 \\u043e\\u0431\\u044a\\u0435\\u0434\\u0438\\u043d\\u0435\\u043d\\u0438\\u0439 \\u0438\\u0441\\u0442\\u043e\\u0440\\u0438\\u0447\\u0435\\u0441\\u043a\\u043e\\u0439 \\u0440\\u0435\\u043a\\u043e\\u043d\\u0441\\u0442\\u0440\\u0443\\u043a\\u0446\\u0438\\u0438\",\"      \\u043c\\u043e\\u043b\\u043e\\u0434e\\u0436\\u043d\\u044b\\u0445 \\u043a\\u0430\\u0437\\u0430\\u0447\\u044c\\u0438\\u0445 \\u043e\\u0431\\u044a\\u0435\\u0434\\u0438\\u043d\\u0435\\u043d\\u0438\\u0439\",\"      \\u043d\\u0430 \\u0440\\u0430\\u0437\\u0432\\u0438\\u0442\\u0438\\u0435 \\u0438 \\u043c\\u0435\\u0440\\u043e\\u043f\\u0440\\u0438\\u044f\\u0442\\u0438\\u044f\\n      \\u0432\\u043e\\u0435\\u043d\\u043d\\u043e-\\u043f\\u0430\\u0442\\u0440\\u0438\\u043e\\u0442\\u0438\\u0447\\u0435\\u0441\\u043a\\u0438\\u0445 \\u043a\\u043b\\u0443\\u0431\\u043e\\u0432\",\"      \\u043f\\u043e\\u0438\\u0441\\u043a\\u043e\\u0432\\u044b\\u0445 \\u043e\\u0442\\u0440\\u044f\\u0434\\u043e\\u0432 \\u0438 \\u043e\\u0431\\u044a\\u0435\\u0434\\u0438\\u043d\\u0435\\u043d\\u0438\\u0439\"],\"\\u0427\\u0438\\u0441\\u043b\\u0435\\u043d\\u043d\\u043e\\u0441\\u0442\\u044c \\u043c\\u043e\\u043b\\u043e\\u0434e\\u0436\\u0438, \\u0437\\u0430\\u0434\\u0435\\u0439\\u0441\\u0442\\u0432\\u043e\\u0432\\u0430\\u043d\\u043d\\u043e\\u0439 \\u0432 \\u043f\\u0440\\u043e\\u0433\\u0440\\u0430\\u043c\\u043c\\u043d\\u044b\\u0445 \\u043c\\u0435\\u0440\\u043e\\u043f\\u0440\\u0438\\u044f\\u0442\\u0438\\u044f\\u0445 \\u043f\\u043e \\u043d\\u0430\\u043f\\u0440\\u0430\\u0432\\u043b\\u0435\\u043d\\u0438\\u044e\":{\"__ndarray__\":\"AAAAAAAIiEAAAAAAAACOQAAAAABIUANBAAAAAIuCN0EAAAAAIOrpQAAAAAAA491AAAAAAED33kAAAAAAAES9QAAAAAD4kQNBAAAAAIA+z0A=\",\"dtype\":\"float64\",\"order\":\"little\",\"shape\":[10]}},\"selected\":{\"id\":\"2351\"},\"selection_policy\":{\"id\":\"2390\"}},\"id\":\"2350\",\"type\":\"ColumnDataSource\"},{\"attributes\":{\"children\":[{\"id\":\"2388\"}],\"margin\":[0,0,0,0],\"name\":\"Row08068\",\"sizing_mode\":\"stretch_width\"},\"id\":\"2349\",\"type\":\"Row\"},{\"attributes\":{\"margin\":[5,10,5,10],\"options\":[\"\\u0421\\u0424\\u041e\",\"\\u0414\\u0424\\u041e\",\"\\u0421\\u0417\\u0424\\u041e\",\"\\u042e\\u0424\\u041e\",\"\\u0426\\u0424\\u041e\",\"\\u0421\\u041a\\u0424\\u041e\",\"\\u041f\\u0424\\u041e\",\"\\u0423\\u0424\\u041e\"],\"sizing_mode\":\"stretch_width\",\"title\":\"\\u0412\\u044b\\u0431\\u0435\\u0440\\u0438\\u0442\\u0435 \\u043e\\u043a\\u0440\\u0443\\u0433\",\"value\":\"\\u0421\\u0424\\u041e\"},\"id\":\"2347\",\"type\":\"panel.models.widgets.CustomSelect\"},{\"attributes\":{},\"id\":\"2359\",\"type\":\"NumberEditor\"},{\"attributes\":{\"editor\":{\"id\":\"2384\"},\"field\":\"\\u041a\\u043e\\u043b\\u0438\\u0447\\u0435\\u0441\\u0442\\u0432\\u043e \\u0434\\u0435\\u0442\\u0441\\u043a\\u0438\\u0445 \\u0438 \\u043c\\u043e\\u043b\\u043e\\u0434e\\u0436\\u043d\\u044b\\u0445 \\u043e\\u0431\\u0449\\u0435\\u0441\\u0442\\u0432\\u0435\\u043d\\u043d\\u044b\\u0445 \\u043e\\u0431\\u044a\\u0435\\u0434\\u0438\\u043d\\u0435\\u043d\\u0438\\u0439, \\u0440\\u0430\\u0431\\u043e\\u0442\\u0430\\u044e\\u0449\\u0438\\u0445 \\u043f\\u043e \\u0434\\u0430\\u043d\\u043d\\u043e\\u043c\\u0443 \",\"formatter\":{\"id\":\"2383\"},\"title\":\"\\u041a\\u043e\\u043b\\u0438\\u0447\\u0435\\u0441\\u0442\\u0432\\u043e \\u0434\\u0435\\u0442\\u0441\\u043a\\u0438\\u0445 \\u0438 \\u043c\\u043e\\u043b\\u043e\\u0434e\\u0436\\u043d\\u044b\\u0445 \\u043e\\u0431\\u0449\\u0435\\u0441\\u0442\\u0432\\u0435\\u043d\\u043d\\u044b\\u0445 \\u043e\\u0431\\u044a\\u0435\\u0434\\u0438\\u043d\\u0435\\u043d\\u0438\\u0439, \\u0440\\u0430\\u0431\\u043e\\u0442\\u0430\\u044e\\u0449\\u0438\\u0445 \\u043f\\u043e \\u0434\\u0430\\u043d\\u043d\\u043e\\u043c\\u0443 \",\"width\":0},\"id\":\"2385\",\"type\":\"TableColumn\"},{\"attributes\":{\"editor\":{\"id\":\"2374\"},\"field\":\"\\u0411\\u044e\\u0434\\u0436\\u0435\\u0442 \\u0433\\u0440\\u0430\\u043d\\u0442\\u043e\\u0432, \\u0440\\u0443\\u0431\",\"formatter\":{\"id\":\"2373\"},\"title\":\"\\u0411\\u044e\\u0434\\u0436\\u0435\\u0442 \\u0433\\u0440\\u0430\\u043d\\u0442\\u043e\\u0432, \\u0440\\u0443\\u0431\",\"width\":0},\"id\":\"2375\",\"type\":\"TableColumn\"},{\"attributes\":{\"children\":[{\"id\":\"2344\"}],\"margin\":[0,0,0,0],\"name\":\"Row08094\",\"sizing_mode\":\"stretch_width\"},\"id\":\"2343\",\"type\":\"Row\"},{\"attributes\":{},\"id\":\"2384\",\"type\":\"NumberEditor\"},{\"attributes\":{},\"id\":\"2354\",\"type\":\"CellEditor\"},{\"attributes\":{\"columns\":[{\"id\":\"2355\"},{\"id\":\"2360\"},{\"id\":\"2365\"},{\"id\":\"2370\"},{\"id\":\"2375\"},{\"id\":\"2380\"},{\"id\":\"2385\"}],\"configuration\":{\"columns\":[{\"field\":\"\\u041d\\u0430\\u043f\\u0440\\u0430\\u0432\\u043b\\u0435\\u043d\\u0438\\u044f \\u0440\\u0435\\u0430\\u043b\\u0438\\u0437\\u0430\\u0446\\u0438\\u0438 \\u0433\\u043e\\u0441\\u0443\\u0434\\u0430\\u0440\\u0441\\u0442\\u0432\\u0435\\u043d\\u043d\\u043e\\u0439 \\u043c\\u043e\\u043b\\u043e\\u0434e\\u0436\\u043d\\u043e\\u0439 \\u043f\\u043e\\u043b\\u0438\\u0442\\u0438\\u043a\\u0438\"},{\"field\":\"\\u0411\\u044e\\u0434\\u0436\\u0435\\u0442 \\u0421\\u0420\\u0424, \\u0440\\u0443\\u0431\",\"sorter\":\"number\"},{\"field\":\"\\u0411\\u044e\\u0434\\u0436\\u0435\\u0442 \\u041c\\u041e, \\u0440\\u0443\\u0431\",\"sorter\":\"number\"},{\"field\":\"\\u041a\\u043e\\u043b-\\u0432\\u043e \\u0433\\u0440\\u0430\\u043d\\u0442\\u043e\\u0432\",\"sorter\":\"number\"},{\"field\":\"\\u0411\\u044e\\u0434\\u0436\\u0435\\u0442 \\u0433\\u0440\\u0430\\u043d\\u0442\\u043e\\u0432, \\u0440\\u0443\\u0431\",\"sorter\":\"number\"},{\"field\":\"\\u0427\\u0438\\u0441\\u043b\\u0435\\u043d\\u043d\\u043e\\u0441\\u0442\\u044c \\u043c\\u043e\\u043b\\u043e\\u0434e\\u0436\\u0438, \\u0437\\u0430\\u0434\\u0435\\u0439\\u0441\\u0442\\u0432\\u043e\\u0432\\u0430\\u043d\\u043d\\u043e\\u0439 \\u0432 \\u043f\\u0440\\u043e\\u0433\\u0440\\u0430\\u043c\\u043c\\u043d\\u044b\\u0445 \\u043c\\u0435\\u0440\\u043e\\u043f\\u0440\\u0438\\u044f\\u0442\\u0438\\u044f\\u0445 \\u043f\\u043e \\u043d\\u0430\\u043f\\u0440\\u0430\\u0432\\u043b\\u0435\\u043d\\u0438\\u044e\",\"sorter\":\"number\"},{\"field\":\"\\u041a\\u043e\\u043b\\u0438\\u0447\\u0435\\u0441\\u0442\\u0432\\u043e \\u0434\\u0435\\u0442\\u0441\\u043a\\u0438\\u0445 \\u0438 \\u043c\\u043e\\u043b\\u043e\\u0434e\\u0436\\u043d\\u044b\\u0445 \\u043e\\u0431\\u0449\\u0435\\u0441\\u0442\\u0432\\u0435\\u043d\\u043d\\u044b\\u0445 \\u043e\\u0431\\u044a\\u0435\\u0434\\u0438\\u043d\\u0435\\u043d\\u0438\\u0439, \\u0440\\u0430\\u0431\\u043e\\u0442\\u0430\\u044e\\u0449\\u0438\\u0445 \\u043f\\u043e \\u0434\\u0430\\u043d\\u043d\\u043e\\u043c\\u0443 \",\"sorter\":\"number\"}],\"dataTree\":false,\"selectable\":true},\"indexes\":[\"\\u041d\\u0430\\u043f\\u0440\\u0430\\u0432\\u043b\\u0435\\u043d\\u0438\\u044f \\u0440\\u0435\\u0430\\u043b\\u0438\\u0437\\u0430\\u0446\\u0438\\u0438 \\u0433\\u043e\\u0441\\u0443\\u0434\\u0430\\u0440\\u0441\\u0442\\u0432\\u0435\\u043d\\u043d\\u043e\\u0439 \\u043c\\u043e\\u043b\\u043e\\u0434e\\u0436\\u043d\\u043e\\u0439 \\u043f\\u043e\\u043b\\u0438\\u0442\\u0438\\u043a\\u0438\"],\"layout\":\"fit_data_table\",\"margin\":[5,10,5,10],\"max_page\":3,\"name\":\"\",\"page\":1,\"page_size\":10,\"pagination\":\"remote\",\"select_mode\":true,\"selectable_rows\":null,\"sizing_mode\":\"stretch_width\",\"source\":{\"id\":\"2350\"},\"styles\":{\"data\":{},\"id\":\"d43d5ae8ee7c4e20b68b959c4c9c478a\"},\"subscribed_events\":[\"cell-click\",\"table-edit\"],\"theme_url\":\"https://cdn.jsdelivr.net/npm/@holoviz/panel@0.14.3/dist/bundled/datatabulator/tabulator-tables@5.3.2/dist/css/\"},\"id\":\"2388\",\"type\":\"panel.models.tabulator.DataTabulator\"},{\"attributes\":{},\"id\":\"2369\",\"type\":\"NumberEditor\"},{\"attributes\":{},\"id\":\"2374\",\"type\":\"NumberEditor\"},{\"attributes\":{\"margin\":[5,5,5,5],\"name\":\"HSpacer08091\",\"sizing_mode\":\"stretch_width\"},\"id\":\"2348\",\"type\":\"Spacer\"},{\"attributes\":{\"children\":[{\"id\":\"2346\"},{\"id\":\"2348\"}],\"margin\":[0,0,0,0],\"name\":\"Row08092\",\"sizing_mode\":\"stretch_width\"},\"id\":\"2345\",\"type\":\"Row\"},{\"attributes\":{},\"id\":\"2364\",\"type\":\"NumberEditor\"},{\"attributes\":{\"children\":[{\"id\":\"2347\"}],\"margin\":[0,0,0,0],\"name\":\"Column08063\",\"sizing_mode\":\"stretch_width\"},\"id\":\"2346\",\"type\":\"Column\"},{\"attributes\":{\"editor\":{\"id\":\"2369\"},\"field\":\"\\u041a\\u043e\\u043b-\\u0432\\u043e \\u0433\\u0440\\u0430\\u043d\\u0442\\u043e\\u0432\",\"formatter\":{\"id\":\"2368\"},\"title\":\"\\u041a\\u043e\\u043b-\\u0432\\u043e \\u0433\\u0440\\u0430\\u043d\\u0442\\u043e\\u0432\",\"width\":0},\"id\":\"2370\",\"type\":\"TableColumn\"},{\"attributes\":{\"editor\":{\"id\":\"2379\"},\"field\":\"\\u0427\\u0438\\u0441\\u043b\\u0435\\u043d\\u043d\\u043e\\u0441\\u0442\\u044c \\u043c\\u043e\\u043b\\u043e\\u0434e\\u0436\\u0438, \\u0437\\u0430\\u0434\\u0435\\u0439\\u0441\\u0442\\u0432\\u043e\\u0432\\u0430\\u043d\\u043d\\u043e\\u0439 \\u0432 \\u043f\\u0440\\u043e\\u0433\\u0440\\u0430\\u043c\\u043c\\u043d\\u044b\\u0445 \\u043c\\u0435\\u0440\\u043e\\u043f\\u0440\\u0438\\u044f\\u0442\\u0438\\u044f\\u0445 \\u043f\\u043e \\u043d\\u0430\\u043f\\u0440\\u0430\\u0432\\u043b\\u0435\\u043d\\u0438\\u044e\",\"formatter\":{\"id\":\"2378\"},\"title\":\"\\u0427\\u0438\\u0441\\u043b\\u0435\\u043d\\u043d\\u043e\\u0441\\u0442\\u044c \\u043c\\u043e\\u043b\\u043e\\u0434e\\u0436\\u0438, \\u0437\\u0430\\u0434\\u0435\\u0439\\u0441\\u0442\\u0432\\u043e\\u0432\\u0430\\u043d\\u043d\\u043e\\u0439 \\u0432 \\u043f\\u0440\\u043e\\u0433\\u0440\\u0430\\u043c\\u043c\\u043d\\u044b\\u0445 \\u043c\\u0435\\u0440\\u043e\\u043f\\u0440\\u0438\\u044f\\u0442\\u0438\\u044f\\u0445 \\u043f\\u043e \\u043d\\u0430\\u043f\\u0440\\u0430\\u0432\\u043b\\u0435\\u043d\\u0438\\u044e\",\"width\":0},\"id\":\"2380\",\"type\":\"TableColumn\"},{\"attributes\":{},\"id\":\"2352\",\"type\":\"StringFormatter\"},{\"attributes\":{\"format\":\"0,0.0[00000]\",\"text_align\":\"right\"},\"id\":\"2378\",\"type\":\"NumberFormatter\"},{\"attributes\":{\"indices\":[]},\"id\":\"2351\",\"type\":\"Selection\"},{\"attributes\":{\"format\":\"0,0.0[00000]\",\"text_align\":\"right\"},\"id\":\"2368\",\"type\":\"NumberFormatter\"},{\"attributes\":{},\"id\":\"2379\",\"type\":\"NumberEditor\"},{\"attributes\":{\"editor\":{\"id\":\"2364\"},\"field\":\"\\u0411\\u044e\\u0434\\u0436\\u0435\\u0442 \\u041c\\u041e, \\u0440\\u0443\\u0431\",\"formatter\":{\"id\":\"2363\"},\"title\":\"\\u0411\\u044e\\u0434\\u0436\\u0435\\u0442 \\u041c\\u041e, \\u0440\\u0443\\u0431\",\"width\":0},\"id\":\"2365\",\"type\":\"TableColumn\"},{\"attributes\":{\"editor\":{\"id\":\"2359\"},\"field\":\"\\u0411\\u044e\\u0434\\u0436\\u0435\\u0442 \\u0421\\u0420\\u0424, \\u0440\\u0443\\u0431\",\"formatter\":{\"id\":\"2358\"},\"title\":\"\\u0411\\u044e\\u0434\\u0436\\u0435\\u0442 \\u0421\\u0420\\u0424, \\u0440\\u0443\\u0431\",\"width\":0},\"id\":\"2360\",\"type\":\"TableColumn\"},{\"attributes\":{\"format\":\"0,0.0[00000]\",\"text_align\":\"right\"},\"id\":\"2383\",\"type\":\"NumberFormatter\"},{\"attributes\":{\"format\":\"0,0.0[00000]\",\"text_align\":\"right\"},\"id\":\"2358\",\"type\":\"NumberFormatter\"},{\"attributes\":{\"format\":\"0,0.0[00000]\",\"text_align\":\"right\"},\"id\":\"2373\",\"type\":\"NumberFormatter\"},{\"attributes\":{\"format\":\"0,0.0[00000]\",\"text_align\":\"right\"},\"id\":\"2363\",\"type\":\"NumberFormatter\"}],\"root_ids\":[\"2343\",\"2396\"]},\"title\":\"Bokeh Application\",\"version\":\"2.4.3\"}};\n",
       "    var render_items = [{\"docid\":\"8d17cc55-2674-47a5-9e7e-981b53843f31\",\"root_ids\":[\"2343\"],\"roots\":{\"2343\":\"475b4ec5-db47-4730-b9cc-3ecf50c1c4af\"}}];\n",
       "    root.Bokeh.embed.embed_items_notebook(docs_json, render_items);\n",
       "    for (const render_item of render_items) {\n",
       "      for (const root_id of render_item.root_ids) {\n",
       "\tconst id_el = document.getElementById(root_id)\n",
       "\tif (id_el.children.length && (id_el.children[0].className === 'bk-root')) {\n",
       "\t  const root_el = id_el.children[0]\n",
       "\t  root_el.id = root_el.id + '-rendered'\n",
       "\t}\n",
       "      }\n",
       "    }\n",
       "  }\n",
       "  if (root.Bokeh !== undefined && root.Bokeh.Panel !== undefined && ( root['Tabulator'] !== undefined) && ( root['Tabulator'] !== undefined) && ( root['Tabulator'] !== undefined)) {\n",
       "    embed_document(root);\n",
       "  } else {\n",
       "    var attempts = 0;\n",
       "    var timer = setInterval(function(root) {\n",
       "      if (root.Bokeh !== undefined && root.Bokeh.Panel !== undefined && (root['Tabulator'] !== undefined) && (root['Tabulator'] !== undefined) && (root['Tabulator'] !== undefined)) {\n",
       "        clearInterval(timer);\n",
       "        embed_document(root);\n",
       "      } else if (document.readyState == \"complete\") {\n",
       "        attempts++;\n",
       "        if (attempts > 200) {\n",
       "          clearInterval(timer);\n",
       "          console.log(\"Bokeh: ERROR: Unable to run BokehJS code because BokehJS library is missing\");\n",
       "        }\n",
       "      }\n",
       "    }, 25, root)\n",
       "  }\n",
       "})(window);</script>"
      ],
      "text/plain": [
       "<hvplot.interactive.Interactive at 0x7fb80f6560e0>"
      ]
     },
     "execution_count": 183,
     "metadata": {
      "application/vnd.holoviews_exec.v0+json": {
       "id": "2343"
      }
     },
     "output_type": "execute_result"
    }
   ],
   "source": [
    "itable_2"
   ]
  },
  {
   "cell_type": "markdown",
   "id": "d0e5cf15",
   "metadata": {},
   "source": [
    "### График расходов по округам с выбором типа бюджета"
   ]
  },
  {
   "cell_type": "code",
   "execution_count": 184,
   "id": "43a990ee",
   "metadata": {},
   "outputs": [],
   "source": [
    "budget_types=sorted(list(df_p1.columns[5:9]))[:3]"
   ]
  },
  {
   "cell_type": "code",
   "execution_count": 185,
   "id": "6614caa1",
   "metadata": {},
   "outputs": [
    {
     "data": {
      "text/plain": [
       "['Бюджет МО, руб', 'Бюджет СРФ, руб', 'Бюджет грантов, руб']"
      ]
     },
     "execution_count": 185,
     "metadata": {},
     "output_type": "execute_result"
    }
   ],
   "source": [
    "budget_types"
   ]
  },
  {
   "cell_type": "code",
   "execution_count": 186,
   "id": "de70585c",
   "metadata": {},
   "outputs": [],
   "source": [
    "# create budget selection \n",
    "select_budget = pn.widgets.Select(name='Выберите тип бюджета', options=budget_types)"
   ]
  },
  {
   "cell_type": "code",
   "execution_count": 187,
   "id": "3802b3c5",
   "metadata": {},
   "outputs": [],
   "source": [
    "idf = df_p1.interactive()"
   ]
  },
  {
   "cell_type": "code",
   "execution_count": 188,
   "id": "2e8e815d",
   "metadata": {
    "scrolled": true
   },
   "outputs": [
    {
     "data": {},
     "metadata": {},
     "output_type": "display_data"
    },
    {
     "data": {
      "application/vnd.holoviews_exec.v0+json": "",
      "text/html": [
       "<div id='2407'>\n",
       "  <div class=\"bk-root\" id=\"e5e0accb-14ff-46fe-8c12-815fd8c96455\" data-root-id=\"2407\"></div>\n",
       "</div>\n",
       "<script type=\"application/javascript\">(function(root) {\n",
       "  function embed_document(root) {\n",
       "    var docs_json = {\"6faa6b5d-3e49-4e80-95cc-bd27188d50bd\":{\"defs\":[{\"extends\":null,\"module\":null,\"name\":\"ReactiveHTML1\",\"overrides\":[],\"properties\":[]},{\"extends\":null,\"module\":null,\"name\":\"FlexBox1\",\"overrides\":[],\"properties\":[{\"default\":\"flex-start\",\"kind\":null,\"name\":\"align_content\"},{\"default\":\"flex-start\",\"kind\":null,\"name\":\"align_items\"},{\"default\":\"row\",\"kind\":null,\"name\":\"flex_direction\"},{\"default\":\"wrap\",\"kind\":null,\"name\":\"flex_wrap\"},{\"default\":\"flex-start\",\"kind\":null,\"name\":\"justify_content\"}]},{\"extends\":null,\"module\":null,\"name\":\"GridStack1\",\"overrides\":[],\"properties\":[{\"default\":\"warn\",\"kind\":null,\"name\":\"mode\"},{\"default\":null,\"kind\":null,\"name\":\"ncols\"},{\"default\":null,\"kind\":null,\"name\":\"nrows\"},{\"default\":true,\"kind\":null,\"name\":\"allow_resize\"},{\"default\":true,\"kind\":null,\"name\":\"allow_drag\"},{\"default\":[],\"kind\":null,\"name\":\"state\"}]},{\"extends\":null,\"module\":null,\"name\":\"click1\",\"overrides\":[],\"properties\":[{\"default\":\"\",\"kind\":null,\"name\":\"terminal_output\"},{\"default\":\"\",\"kind\":null,\"name\":\"debug_name\"},{\"default\":0,\"kind\":null,\"name\":\"clears\"}]},{\"extends\":null,\"module\":null,\"name\":\"NotificationAreaBase1\",\"overrides\":[],\"properties\":[{\"default\":\"bottom-right\",\"kind\":null,\"name\":\"position\"},{\"default\":0,\"kind\":null,\"name\":\"_clear\"}]},{\"extends\":null,\"module\":null,\"name\":\"NotificationArea1\",\"overrides\":[],\"properties\":[{\"default\":[],\"kind\":null,\"name\":\"notifications\"},{\"default\":\"bottom-right\",\"kind\":null,\"name\":\"position\"},{\"default\":0,\"kind\":null,\"name\":\"_clear\"},{\"default\":[{\"background\":\"#ffc107\",\"icon\":{\"className\":\"fas fa-exclamation-triangle\",\"color\":\"white\",\"tagName\":\"i\"},\"type\":\"warning\"},{\"background\":\"#007bff\",\"icon\":{\"className\":\"fas fa-info-circle\",\"color\":\"white\",\"tagName\":\"i\"},\"type\":\"info\"}],\"kind\":null,\"name\":\"types\"}]},{\"extends\":null,\"module\":null,\"name\":\"Notification\",\"overrides\":[],\"properties\":[{\"default\":null,\"kind\":null,\"name\":\"background\"},{\"default\":3000,\"kind\":null,\"name\":\"duration\"},{\"default\":null,\"kind\":null,\"name\":\"icon\"},{\"default\":\"\",\"kind\":null,\"name\":\"message\"},{\"default\":null,\"kind\":null,\"name\":\"notification_type\"},{\"default\":false,\"kind\":null,\"name\":\"_destroyed\"}]},{\"extends\":null,\"module\":null,\"name\":\"TemplateActions1\",\"overrides\":[],\"properties\":[{\"default\":0,\"kind\":null,\"name\":\"open_modal\"},{\"default\":0,\"kind\":null,\"name\":\"close_modal\"}]},{\"extends\":null,\"module\":null,\"name\":\"MaterialTemplateActions1\",\"overrides\":[],\"properties\":[{\"default\":0,\"kind\":null,\"name\":\"open_modal\"},{\"default\":0,\"kind\":null,\"name\":\"close_modal\"}]}],\"roots\":{\"references\":[{\"attributes\":{\"margin\":[0,0,0,0],\"name\":\"Column08207\",\"sizing_mode\":\"stretch_width\"},\"id\":\"2413\",\"type\":\"Column\"},{\"attributes\":{\"children\":[{\"id\":\"2409\"},{\"id\":\"2412\"}],\"margin\":[0,0,0,0],\"name\":\"Column08210\",\"sizing_mode\":\"stretch_width\"},\"id\":\"2408\",\"type\":\"Column\"},{\"attributes\":{\"client_comm_id\":\"8721dc583afa42d0bb9e968f203f30ed\",\"comm_id\":\"079e765947ff49638db973c9fead304e\",\"plot_id\":\"2407\"},\"id\":\"2416\",\"type\":\"panel.models.comm_manager.CommManager\"},{\"attributes\":{\"children\":[{\"id\":\"2410\"},{\"id\":\"2411\"}],\"margin\":[0,0,0,0],\"name\":\"Row08209\",\"sizing_mode\":\"stretch_width\"},\"id\":\"2409\",\"type\":\"Row\"},{\"attributes\":{\"margin\":[5,5,5,5],\"name\":\"DataFrame08204\",\"sizing_mode\":\"stretch_width\",\"text\":\"&lt;table class=&quot;dataframe panel-df&quot;&gt;\\n  &lt;thead&gt;\\n    &lt;tr style=&quot;text-align: right;&quot;&gt;\\n      &lt;th&gt;&lt;/th&gt;\\n      &lt;th&gt;\\u0420\\u0435\\u0433\\u0438\\u043e\\u043d&lt;/th&gt;\\n      &lt;th&gt;\\u041e\\u043a\\u0440\\u0443\\u0433&lt;/th&gt;\\n      &lt;th&gt;\\u0413\\u043e\\u0434&lt;/th&gt;\\n      &lt;th&gt;\\u041d\\u0430\\u043f\\u0440\\u0430\\u0432\\u043b\\u0435\\u043d\\u0438\\u044f \\u0440\\u0435\\u0430\\u043b\\u0438\\u0437\\u0430\\u0446\\u0438\\u0438 \\u0433\\u043e\\u0441\\u0443\\u0434\\u0430\\u0440\\u0441\\u0442\\u0432\\u0435\\u043d\\u043d\\u043e\\u0439 \\u043c\\u043e\\u043b\\u043e\\u0434e\\u0436\\u043d\\u043e\\u0439 \\u043f\\u043e\\u043b\\u0438\\u0442\\u0438\\u043a\\u0438&lt;/th&gt;\\n      &lt;th&gt;\\u2116 \\u0441\\u0442\\u0440\\u043e\\u043a\\u0438&lt;/th&gt;\\n      &lt;th&gt;\\u0411\\u044e\\u0434\\u0436\\u0435\\u0442 \\u0421\\u0420\\u0424, \\u0440\\u0443\\u0431&lt;/th&gt;\\n      &lt;th&gt;\\u0411\\u044e\\u0434\\u0436\\u0435\\u0442 \\u041c\\u041e, \\u0440\\u0443\\u0431&lt;/th&gt;\\n      &lt;th&gt;\\u041a\\u043e\\u043b-\\u0432\\u043e \\u0433\\u0440\\u0430\\u043d\\u0442\\u043e\\u0432&lt;/th&gt;\\n      &lt;th&gt;\\u0411\\u044e\\u0434\\u0436\\u0435\\u0442 \\u0433\\u0440\\u0430\\u043d\\u0442\\u043e\\u0432, \\u0440\\u0443\\u0431&lt;/th&gt;\\n      &lt;th&gt;\\u0427\\u0438\\u0441\\u043b\\u0435\\u043d\\u043d\\u043e\\u0441\\u0442\\u044c \\u043c\\u043e\\u043b\\u043e\\u0434e\\u0436\\u0438, \\u0437\\u0430\\u0434\\u0435\\u0439\\u0441\\u0442\\u0432\\u043e\\u0432\\u0430\\u043d\\u043d\\u043e\\u0439 \\u0432 \\u043f\\u0440\\u043e\\u0433\\u0440\\u0430\\u043c\\u043c\\u043d\\u044b\\u0445 \\u043c\\u0435\\u0440\\u043e\\u043f\\u0440\\u0438\\u044f\\u0442\\u0438\\u044f\\u0445 \\u043f\\u043e \\u043d\\u0430\\u043f\\u0440\\u0430\\u0432\\u043b\\u0435\\u043d\\u0438\\u044e&lt;/th&gt;\\n      &lt;th&gt;\\u041a\\u043e\\u043b\\u0438\\u0447\\u0435\\u0441\\u0442\\u0432\\u043e \\u0434\\u0435\\u0442\\u0441\\u043a\\u0438\\u0445 \\u0438 \\u043c\\u043e\\u043b\\u043e\\u0434e\\u0436\\u043d\\u044b\\u0445 \\u043e\\u0431\\u0449\\u0435\\u0441\\u0442\\u0432\\u0435\\u043d\\u043d\\u044b\\u0445 \\u043e\\u0431\\u044a\\u0435\\u0434\\u0438\\u043d\\u0435\\u043d\\u0438\\u0439, \\u0440\\u0430\\u0431\\u043e\\u0442\\u0430\\u044e\\u0449\\u0438\\u0445 \\u043f\\u043e \\u0434\\u0430\\u043d\\u043d\\u043e\\u043c\\u0443&lt;/th&gt;\\n    &lt;/tr&gt;\\n  &lt;/thead&gt;\\n  &lt;tbody&gt;\\n    &lt;tr&gt;\\n      &lt;th&gt;0&lt;/th&gt;\\n      &lt;td&gt;\\u0410\\u043b\\u0442\\u0430\\u0439\\u0441\\u043a\\u0438\\u0439 \\u043a\\u0440\\u0430\\u0439&lt;/td&gt;\\n      &lt;td&gt;\\u0421\\u0424\\u041e&lt;/td&gt;\\n      &lt;td&gt;2021&lt;/td&gt;\\n      &lt;td&gt;\\u0412\\u043e\\u0432\\u043b\\u0435\\u0447\\u0435\\u043d\\u0438\\u0435 \\u043c\\u043e\\u043b\\u043e\\u0434e\\u0436\\u0438 \\u0432 \\u0438\\u043d\\u043d\\u043e\\u0432\\u0430\\u0446\\u0438\\u043e\\u043d\\u043d\\u0443\\u044e \\u0434\\u0435\\u044f\\u0442\\u0435\\u043b\\u044c\\u043d\\u043e\\u0441\\u0442\\u044c \\u0438 \\u043d\\u0430\\u0443\\u0447\\u043d\\u043e-\\u0442\\u0435\\u0445\\u043d\\u0438\\u0447\\u0435\\u0441\\u043a\\u043e\\u0435 \\u0442\\u0432\\u043e\\u0440\\u0447\\u0435\\u0441\\u0442\\u0432\\u043e, \\u0432 \\u0442\\u043e\\u043c \\u0447\\u0438\\u0441\\u043b\\u0435:&lt;/td&gt;\\n      &lt;td&gt;1&lt;/td&gt;\\n      &lt;td&gt;7176890.000&lt;/td&gt;\\n      &lt;td&gt;123085.000&lt;/td&gt;\\n      &lt;td&gt;4.000&lt;/td&gt;\\n      &lt;td&gt;35485.000&lt;/td&gt;\\n      &lt;td&gt;3845.000&lt;/td&gt;\\n      &lt;td&gt;44.000&lt;/td&gt;\\n    &lt;/tr&gt;\\n    &lt;tr&gt;\\n      &lt;th&gt;1&lt;/th&gt;\\n      &lt;td&gt;\\u0410\\u043b\\u0442\\u0430\\u0439\\u0441\\u043a\\u0438\\u0439 \\u043a\\u0440\\u0430\\u0439&lt;/td&gt;\\n      &lt;td&gt;\\u0421\\u0424\\u041e&lt;/td&gt;\\n      &lt;td&gt;2021&lt;/td&gt;\\n      &lt;td&gt;\\u0431\\u0438\\u043e\\u043c\\u0435\\u0434\\u0438\\u0446\\u0438\\u043d\\u0430&lt;/td&gt;\\n      &lt;td&gt;2&lt;/td&gt;\\n      &lt;td&gt;0.000&lt;/td&gt;\\n      &lt;td&gt;0.000&lt;/td&gt;\\n      &lt;td&gt;0.000&lt;/td&gt;\\n      &lt;td&gt;0.000&lt;/td&gt;\\n      &lt;td&gt;0.000&lt;/td&gt;\\n      &lt;td&gt;0.000&lt;/td&gt;\\n    &lt;/tr&gt;\\n    &lt;tr&gt;\\n      &lt;th&gt;2&lt;/th&gt;\\n      &lt;td&gt;\\u0410\\u043b\\u0442\\u0430\\u0439\\u0441\\u043a\\u0438\\u0439 \\u043a\\u0440\\u0430\\u0439&lt;/td&gt;\\n      &lt;td&gt;\\u0421\\u0424\\u041e&lt;/td&gt;\\n      &lt;td&gt;2021&lt;/td&gt;\\n      &lt;td&gt;\\u043f\\u0440\\u043e\\u043c\\u044b\\u0448\\u043b\\u0435\\u043d\\u043d\\u044b\\u0435 \\u0442\\u0435\\u0445\\u043d\\u043e\\u043b\\u043e\\u0433\\u0438\\u0438\\\\n      (\\u043d\\u0430\\u043d\\u043e\\u0442\\u0435\\u0445\\u043d\\u043e\\u043b\\u043e\\u0433\\u0438\\u0438, \\u043a\\u043e\\u043c\\u043f\\u043e\\u0437\\u0438\\u0442\\u044b, \\u043f\\u0440.)&lt;/td&gt;\\n      &lt;td&gt;3&lt;/td&gt;\\n      &lt;td&gt;0.000&lt;/td&gt;\\n      &lt;td&gt;0.000&lt;/td&gt;\\n      &lt;td&gt;0.000&lt;/td&gt;\\n      &lt;td&gt;0.000&lt;/td&gt;\\n      &lt;td&gt;10.000&lt;/td&gt;\\n      &lt;td&gt;0.000&lt;/td&gt;\\n    &lt;/tr&gt;\\n    &lt;tr&gt;\\n      &lt;th&gt;3&lt;/th&gt;\\n      &lt;td&gt;\\u0410\\u043b\\u0442\\u0430\\u0439\\u0441\\u043a\\u0438\\u0439 \\u043a\\u0440\\u0430\\u0439&lt;/td&gt;\\n      &lt;td&gt;\\u0421\\u0424\\u041e&lt;/td&gt;\\n      &lt;td&gt;2021&lt;/td&gt;\\n      &lt;td&gt;\\u0430\\u044d\\u0440\\u043e\\u043a\\u043e\\u0441\\u043c\\u043e\\u0441&lt;/td&gt;\\n      &lt;td&gt;4&lt;/td&gt;\\n      &lt;td&gt;0.000&lt;/td&gt;\\n      &lt;td&gt;0.000&lt;/td&gt;\\n      &lt;td&gt;0.000&lt;/td&gt;\\n      &lt;td&gt;0.000&lt;/td&gt;\\n      &lt;td&gt;28.000&lt;/td&gt;\\n      &lt;td&gt;1.000&lt;/td&gt;\\n    &lt;/tr&gt;\\n    &lt;tr&gt;\\n      &lt;th&gt;4&lt;/th&gt;\\n      &lt;td&gt;\\u0410\\u043b\\u0442\\u0430\\u0439\\u0441\\u043a\\u0438\\u0439 \\u043a\\u0440\\u0430\\u0439&lt;/td&gt;\\n      &lt;td&gt;\\u0421\\u0424\\u041e&lt;/td&gt;\\n      &lt;td&gt;2021&lt;/td&gt;\\n      &lt;td&gt;\\u0441\\u0435\\u043b\\u044c\\u0441\\u043a\\u043e\\u0435 \\u0445\\u043e\\u0437\\u044f\\u0439\\u0441\\u0442\\u0432\\u043e&lt;/td&gt;\\n      &lt;td&gt;5&lt;/td&gt;\\n      &lt;td&gt;0.000&lt;/td&gt;\\n      &lt;td&gt;1000.000&lt;/td&gt;\\n      &lt;td&gt;0.000&lt;/td&gt;\\n      &lt;td&gt;0.000&lt;/td&gt;\\n      &lt;td&gt;247.000&lt;/td&gt;\\n      &lt;td&gt;0.000&lt;/td&gt;\\n    &lt;/tr&gt;\\n  &lt;/tbody&gt;\\n&lt;/table&gt;\"},\"id\":\"2415\",\"type\":\"panel.models.markup.HTML\"},{\"attributes\":{\"children\":[{\"id\":\"2413\"},{\"id\":\"2414\"}],\"margin\":[0,0,0,0],\"name\":\"Column08185\",\"sizing_mode\":\"stretch_width\"},\"id\":\"2412\",\"type\":\"Column\"},{\"attributes\":{\"margin\":[0,0,0,0],\"name\":\"Column08183\",\"sizing_mode\":\"stretch_width\"},\"id\":\"2410\",\"type\":\"Column\"},{\"attributes\":{\"children\":[{\"id\":\"2415\"}],\"margin\":[0,0,0,0],\"name\":\"Row08206\",\"sizing_mode\":\"stretch_width\"},\"id\":\"2414\",\"type\":\"Row\"},{\"attributes\":{\"children\":[{\"id\":\"2408\"}],\"margin\":[0,0,0,0],\"name\":\"Row08211\",\"sizing_mode\":\"stretch_width\"},\"id\":\"2407\",\"type\":\"Row\"},{\"attributes\":{\"margin\":[5,5,5,5],\"name\":\"HSpacer08208\",\"sizing_mode\":\"stretch_width\"},\"id\":\"2411\",\"type\":\"Spacer\"}],\"root_ids\":[\"2407\",\"2416\"]},\"title\":\"Bokeh Application\",\"version\":\"2.4.3\"}};\n",
       "    var render_items = [{\"docid\":\"6faa6b5d-3e49-4e80-95cc-bd27188d50bd\",\"root_ids\":[\"2407\"],\"roots\":{\"2407\":\"e5e0accb-14ff-46fe-8c12-815fd8c96455\"}}];\n",
       "    root.Bokeh.embed.embed_items_notebook(docs_json, render_items);\n",
       "    for (const render_item of render_items) {\n",
       "      for (const root_id of render_item.root_ids) {\n",
       "\tconst id_el = document.getElementById(root_id)\n",
       "\tif (id_el.children.length && (id_el.children[0].className === 'bk-root')) {\n",
       "\t  const root_el = id_el.children[0]\n",
       "\t  root_el.id = root_el.id + '-rendered'\n",
       "\t}\n",
       "      }\n",
       "    }\n",
       "  }\n",
       "  if (root.Bokeh !== undefined && root.Bokeh.Panel !== undefined && ( root['Tabulator'] !== undefined) && ( root['Tabulator'] !== undefined) && ( root['Tabulator'] !== undefined)) {\n",
       "    embed_document(root);\n",
       "  } else {\n",
       "    var attempts = 0;\n",
       "    var timer = setInterval(function(root) {\n",
       "      if (root.Bokeh !== undefined && root.Bokeh.Panel !== undefined && (root['Tabulator'] !== undefined) && (root['Tabulator'] !== undefined) && (root['Tabulator'] !== undefined)) {\n",
       "        clearInterval(timer);\n",
       "        embed_document(root);\n",
       "      } else if (document.readyState == \"complete\") {\n",
       "        attempts++;\n",
       "        if (attempts > 200) {\n",
       "          clearInterval(timer);\n",
       "          console.log(\"Bokeh: ERROR: Unable to run BokehJS code because BokehJS library is missing\");\n",
       "        }\n",
       "      }\n",
       "    }, 25, root)\n",
       "  }\n",
       "})(window);</script>"
      ],
      "text/plain": [
       "<hvplot.interactive.Interactive at 0x7fb80f5209d0>"
      ]
     },
     "execution_count": 188,
     "metadata": {
      "application/vnd.holoviews_exec.v0+json": {
       "id": "2407"
      }
     },
     "output_type": "execute_result"
    }
   ],
   "source": [
    "idf.head()"
   ]
  },
  {
   "cell_type": "code",
   "execution_count": 189,
   "id": "ed792481",
   "metadata": {
    "scrolled": true
   },
   "outputs": [],
   "source": [
    "ipipline_3 = idf.groupby('Округ', as_index=True).agg({select_budget : 'sum'})"
   ]
  },
  {
   "cell_type": "code",
   "execution_count": 190,
   "id": "47bcd220",
   "metadata": {},
   "outputs": [],
   "source": [
    "ihvplot = ipipline_3.hvplot(x='Округ', y=select_budget, color=PALETTE, line_width=6, height=600)"
   ]
  },
  {
   "cell_type": "code",
   "execution_count": 191,
   "id": "3385f9de",
   "metadata": {},
   "outputs": [
    {
     "data": {},
     "metadata": {},
     "output_type": "display_data"
    },
    {
     "data": {},
     "metadata": {},
     "output_type": "display_data"
    },
    {
     "data": {
      "application/vnd.holoviews_exec.v0+json": "",
      "text/html": [
       "<div id='2417'>\n",
       "  <div class=\"bk-root\" id=\"52c7b505-b5e5-45ec-a5f2-b77bffee2ad8\" data-root-id=\"2417\"></div>\n",
       "</div>\n",
       "<script type=\"application/javascript\">(function(root) {\n",
       "  function embed_document(root) {\n",
       "    var docs_json = {\"bee717ca-d9f8-497f-b808-c4d55b557e90\":{\"defs\":[{\"extends\":null,\"module\":null,\"name\":\"ReactiveHTML1\",\"overrides\":[],\"properties\":[]},{\"extends\":null,\"module\":null,\"name\":\"FlexBox1\",\"overrides\":[],\"properties\":[{\"default\":\"flex-start\",\"kind\":null,\"name\":\"align_content\"},{\"default\":\"flex-start\",\"kind\":null,\"name\":\"align_items\"},{\"default\":\"row\",\"kind\":null,\"name\":\"flex_direction\"},{\"default\":\"wrap\",\"kind\":null,\"name\":\"flex_wrap\"},{\"default\":\"flex-start\",\"kind\":null,\"name\":\"justify_content\"}]},{\"extends\":null,\"module\":null,\"name\":\"GridStack1\",\"overrides\":[],\"properties\":[{\"default\":\"warn\",\"kind\":null,\"name\":\"mode\"},{\"default\":null,\"kind\":null,\"name\":\"ncols\"},{\"default\":null,\"kind\":null,\"name\":\"nrows\"},{\"default\":true,\"kind\":null,\"name\":\"allow_resize\"},{\"default\":true,\"kind\":null,\"name\":\"allow_drag\"},{\"default\":[],\"kind\":null,\"name\":\"state\"}]},{\"extends\":null,\"module\":null,\"name\":\"click1\",\"overrides\":[],\"properties\":[{\"default\":\"\",\"kind\":null,\"name\":\"terminal_output\"},{\"default\":\"\",\"kind\":null,\"name\":\"debug_name\"},{\"default\":0,\"kind\":null,\"name\":\"clears\"}]},{\"extends\":null,\"module\":null,\"name\":\"NotificationAreaBase1\",\"overrides\":[],\"properties\":[{\"default\":\"bottom-right\",\"kind\":null,\"name\":\"position\"},{\"default\":0,\"kind\":null,\"name\":\"_clear\"}]},{\"extends\":null,\"module\":null,\"name\":\"NotificationArea1\",\"overrides\":[],\"properties\":[{\"default\":[],\"kind\":null,\"name\":\"notifications\"},{\"default\":\"bottom-right\",\"kind\":null,\"name\":\"position\"},{\"default\":0,\"kind\":null,\"name\":\"_clear\"},{\"default\":[{\"background\":\"#ffc107\",\"icon\":{\"className\":\"fas fa-exclamation-triangle\",\"color\":\"white\",\"tagName\":\"i\"},\"type\":\"warning\"},{\"background\":\"#007bff\",\"icon\":{\"className\":\"fas fa-info-circle\",\"color\":\"white\",\"tagName\":\"i\"},\"type\":\"info\"}],\"kind\":null,\"name\":\"types\"}]},{\"extends\":null,\"module\":null,\"name\":\"Notification\",\"overrides\":[],\"properties\":[{\"default\":null,\"kind\":null,\"name\":\"background\"},{\"default\":3000,\"kind\":null,\"name\":\"duration\"},{\"default\":null,\"kind\":null,\"name\":\"icon\"},{\"default\":\"\",\"kind\":null,\"name\":\"message\"},{\"default\":null,\"kind\":null,\"name\":\"notification_type\"},{\"default\":false,\"kind\":null,\"name\":\"_destroyed\"}]},{\"extends\":null,\"module\":null,\"name\":\"TemplateActions1\",\"overrides\":[],\"properties\":[{\"default\":0,\"kind\":null,\"name\":\"open_modal\"},{\"default\":0,\"kind\":null,\"name\":\"close_modal\"}]},{\"extends\":null,\"module\":null,\"name\":\"MaterialTemplateActions1\",\"overrides\":[],\"properties\":[{\"default\":0,\"kind\":null,\"name\":\"open_modal\"},{\"default\":0,\"kind\":null,\"name\":\"close_modal\"}]}],\"roots\":{\"references\":[{\"attributes\":{\"margin\":[5,10,5,10],\"options\":[\"\\u0411\\u044e\\u0434\\u0436\\u0435\\u0442 \\u041c\\u041e, \\u0440\\u0443\\u0431\",\"\\u0411\\u044e\\u0434\\u0436\\u0435\\u0442 \\u0421\\u0420\\u0424, \\u0440\\u0443\\u0431\",\"\\u0411\\u044e\\u0434\\u0436\\u0435\\u0442 \\u0433\\u0440\\u0430\\u043d\\u0442\\u043e\\u0432, \\u0440\\u0443\\u0431\"],\"sizing_mode\":\"stretch_width\",\"title\":\"\\u0412\\u044b\\u0431\\u0435\\u0440\\u0438\\u0442\\u0435 \\u0442\\u0438\\u043f \\u0431\\u044e\\u0434\\u0436\\u0435\\u0442\\u0430\",\"value\":\"\\u0411\\u044e\\u0434\\u0436\\u0435\\u0442 \\u041c\\u041e, \\u0440\\u0443\\u0431\"},\"id\":\"2421\",\"type\":\"panel.models.widgets.CustomSelect\"},{\"attributes\":{\"factors\":[\"\\u0414\\u0424\\u041e\",\"\\u041f\\u0424\\u041e\",\"\\u0421\\u0417\\u0424\\u041e\",\"\\u0421\\u041a\\u0424\\u041e\",\"\\u0421\\u0424\\u041e\",\"\\u0423\\u0424\\u041e\",\"\\u0426\\u0424\\u041e\",\"\\u042e\\u0424\\u041e\"],\"tags\":[[[\"\\u041e\\u043a\\u0440\\u0443\\u0433\",\"\\u041e\\u043a\\u0440\\u0443\\u0433\",null]]]},\"id\":\"2423\",\"type\":\"FactorRange\"},{\"attributes\":{},\"id\":\"2443\",\"type\":\"PanTool\"},{\"attributes\":{\"children\":[{\"id\":\"2421\"}],\"margin\":[0,0,0,0],\"name\":\"Column08473\",\"sizing_mode\":\"stretch_width\"},\"id\":\"2420\",\"type\":\"Column\"},{\"attributes\":{},\"id\":\"2477\",\"type\":\"UnionRenderers\"},{\"attributes\":{\"axis_label\":\"\\u041e\\u043a\\u0440\\u0443\\u0433\",\"coordinates\":null,\"formatter\":{\"id\":\"2465\"},\"group\":null,\"major_label_policy\":{\"id\":\"2466\"},\"ticker\":{\"id\":\"2436\"}},\"id\":\"2435\",\"type\":\"CategoricalAxis\"},{\"attributes\":{},\"id\":\"2436\",\"type\":\"CategoricalTicker\"},{\"attributes\":{\"axis\":{\"id\":\"2438\"},\"coordinates\":null,\"dimension\":1,\"grid_line_color\":null,\"group\":null,\"ticker\":null},\"id\":\"2441\",\"type\":\"Grid\"},{\"attributes\":{\"end\":1652566982.0,\"reset_end\":1652566982.0,\"reset_start\":-125892622.0,\"start\":-125892622.0,\"tags\":[[[\"\\u0411\\u044e\\u0434\\u0436\\u0435\\u0442 \\u041c\\u041e, \\u0440\\u0443\\u0431\",\"\\u0411\\u044e\\u0434\\u0436\\u0435\\u0442 \\u041c\\u041e, \\u0440\\u0443\\u0431\",null]]]},\"id\":\"2424\",\"type\":\"Range1d\"},{\"attributes\":{\"axis\":{\"id\":\"2435\"},\"coordinates\":null,\"grid_line_color\":null,\"group\":null,\"ticker\":null},\"id\":\"2437\",\"type\":\"Grid\"},{\"attributes\":{},\"id\":\"2466\",\"type\":\"AllLabels\"},{\"attributes\":{\"children\":[{\"id\":\"2420\"},{\"id\":\"2422\"}],\"margin\":[0,0,0,0],\"name\":\"Row08478\",\"sizing_mode\":\"stretch_width\"},\"id\":\"2419\",\"type\":\"Row\"},{\"attributes\":{\"coordinates\":null,\"group\":null,\"text_color\":\"black\",\"text_font_size\":\"12pt\"},\"id\":\"2427\",\"type\":\"Title\"},{\"attributes\":{\"line_color\":\"#ff6f69\",\"line_width\":6,\"x\":{\"field\":\"\\u041e\\u043a\\u0440\\u0443\\u0433\"},\"y\":{\"field\":\"\\u0411\\u044e\\u0434\\u0436\\u0435\\u0442 \\u041c\\u041e, \\u0440\\u0443\\u0431\"}},\"id\":\"2458\",\"type\":\"Line\"},{\"attributes\":{\"tools\":[{\"id\":\"2425\"},{\"id\":\"2442\"},{\"id\":\"2443\"},{\"id\":\"2444\"},{\"id\":\"2445\"},{\"id\":\"2446\"}]},\"id\":\"2448\",\"type\":\"Toolbar\"},{\"attributes\":{},\"id\":\"2469\",\"type\":\"AllLabels\"},{\"attributes\":{\"source\":{\"id\":\"2455\"}},\"id\":\"2462\",\"type\":\"CDSView\"},{\"attributes\":{\"coordinates\":null,\"data_source\":{\"id\":\"2455\"},\"glyph\":{\"id\":\"2458\"},\"group\":null,\"hover_glyph\":null,\"muted_glyph\":{\"id\":\"2460\"},\"nonselection_glyph\":{\"id\":\"2459\"},\"selection_glyph\":{\"id\":\"2463\"},\"view\":{\"id\":\"2462\"}},\"id\":\"2461\",\"type\":\"GlyphRenderer\"},{\"attributes\":{},\"id\":\"2439\",\"type\":\"BasicTicker\"},{\"attributes\":{\"children\":[{\"id\":\"2419\"},{\"id\":\"2426\"}],\"margin\":[0,0,0,0],\"name\":\"Column08484\",\"sizing_mode\":\"stretch_width\"},\"id\":\"2418\",\"type\":\"Column\"},{\"attributes\":{\"client_comm_id\":\"f697b081f7c24f51900acffa14886e4b\",\"comm_id\":\"a5c8729b7a4047f9b78c6b02cd034f39\",\"plot_id\":\"2417\"},\"id\":\"2510\",\"type\":\"panel.models.comm_manager.CommManager\"},{\"attributes\":{\"axis_label\":\"\\u0411\\u044e\\u0434\\u0436\\u0435\\u0442 \\u041c\\u041e, \\u0440\\u0443\\u0431\",\"coordinates\":null,\"formatter\":{\"id\":\"2468\"},\"group\":null,\"major_label_policy\":{\"id\":\"2469\"},\"ticker\":{\"id\":\"2439\"}},\"id\":\"2438\",\"type\":\"LinearAxis\"},{\"attributes\":{\"margin\":[5,5,5,5],\"name\":\"HSpacer08477\",\"sizing_mode\":\"stretch_width\"},\"id\":\"2422\",\"type\":\"Spacer\"},{\"attributes\":{},\"id\":\"2442\",\"type\":\"SaveTool\"},{\"attributes\":{\"below\":[{\"id\":\"2435\"}],\"center\":[{\"id\":\"2437\"},{\"id\":\"2441\"}],\"left\":[{\"id\":\"2438\"}],\"margin\":[5,5,5,5],\"min_border_bottom\":10,\"min_border_left\":10,\"min_border_right\":10,\"min_border_top\":10,\"renderers\":[{\"id\":\"2461\"}],\"sizing_mode\":\"fixed\",\"title\":{\"id\":\"2427\"},\"toolbar\":{\"id\":\"2448\"},\"width\":700,\"x_range\":{\"id\":\"2423\"},\"x_scale\":{\"id\":\"2431\"},\"y_range\":{\"id\":\"2424\"},\"y_scale\":{\"id\":\"2433\"}},\"id\":\"2426\",\"subtype\":\"Figure\",\"type\":\"Plot\"},{\"attributes\":{},\"id\":\"2444\",\"type\":\"WheelZoomTool\"},{\"attributes\":{\"children\":[{\"id\":\"2418\"}],\"margin\":[0,0,0,0],\"name\":\"Row08485\",\"sizing_mode\":\"stretch_width\"},\"id\":\"2417\",\"type\":\"Row\"},{\"attributes\":{\"line_color\":\"#ff6f69\",\"line_width\":6,\"x\":{\"field\":\"\\u041e\\u043a\\u0440\\u0443\\u0433\"},\"y\":{\"field\":\"\\u0411\\u044e\\u0434\\u0436\\u0435\\u0442 \\u041c\\u041e, \\u0440\\u0443\\u0431\"}},\"id\":\"2463\",\"type\":\"Line\"},{\"attributes\":{\"callback\":null,\"renderers\":[{\"id\":\"2461\"}],\"tags\":[\"hv_created\"],\"tooltips\":[[\"\\u041e\\u043a\\u0440\\u0443\\u0433\",\"@{\\u041e\\u043a\\u0440\\u0443\\u0433}\"],[\"\\u0411\\u044e\\u0434\\u0436\\u0435\\u0442 \\u041c\\u041e, \\u0440\\u0443\\u0431\",\"@{\\u0411\\u044e\\u0434\\u0436\\u0435\\u0442_\\u041c\\u041e_comma_\\u0440\\u0443\\u0431}\"]]},\"id\":\"2425\",\"type\":\"HoverTool\"},{\"attributes\":{\"overlay\":{\"id\":\"2447\"}},\"id\":\"2445\",\"type\":\"BoxZoomTool\"},{\"attributes\":{},\"id\":\"2446\",\"type\":\"ResetTool\"},{\"attributes\":{\"data\":{\"\\u0411\\u044e\\u0434\\u0436\\u0435\\u0442 \\u041c\\u041e, \\u0440\\u0443\\u0431\":{\"__ndarray__\":\"AAAA1qrbtEEAAAAWLIPIQc3MjJrz0LlBAAAAkFlHdUEAAICdrFHIQQAAwIevatZBAAAA/14iyEEAAAD6mnm6QQ==\",\"dtype\":\"float64\",\"order\":\"little\",\"shape\":[8]},\"\\u0411\\u044e\\u0434\\u0436\\u0435\\u0442_\\u041c\\u041e_comma_\\u0440\\u0443\\u0431\":{\"__ndarray__\":\"AAAA1qrbtEEAAAAWLIPIQc3MjJrz0LlBAAAAkFlHdUEAAICdrFHIQQAAwIevatZBAAAA/14iyEEAAAD6mnm6QQ==\",\"dtype\":\"float64\",\"order\":\"little\",\"shape\":[8]},\"\\u041e\\u043a\\u0440\\u0443\\u0433\":[\"\\u0414\\u0424\\u041e\",\"\\u041f\\u0424\\u041e\",\"\\u0421\\u0417\\u0424\\u041e\",\"\\u0421\\u041a\\u0424\\u041e\",\"\\u0421\\u0424\\u041e\",\"\\u0423\\u0424\\u041e\",\"\\u0426\\u0424\\u041e\",\"\\u042e\\u0424\\u041e\"]},\"selected\":{\"id\":\"2456\"},\"selection_policy\":{\"id\":\"2477\"}},\"id\":\"2455\",\"type\":\"ColumnDataSource\"},{\"attributes\":{},\"id\":\"2468\",\"type\":\"BasicTickFormatter\"},{\"attributes\":{},\"id\":\"2433\",\"type\":\"LinearScale\"},{\"attributes\":{\"bottom_units\":\"screen\",\"coordinates\":null,\"fill_alpha\":0.5,\"fill_color\":\"lightgrey\",\"group\":null,\"left_units\":\"screen\",\"level\":\"overlay\",\"line_alpha\":1.0,\"line_color\":\"black\",\"line_dash\":[4,4],\"line_width\":2,\"right_units\":\"screen\",\"syncable\":false,\"top_units\":\"screen\"},\"id\":\"2447\",\"type\":\"BoxAnnotation\"},{\"attributes\":{},\"id\":\"2456\",\"type\":\"Selection\"},{\"attributes\":{},\"id\":\"2431\",\"type\":\"CategoricalScale\"},{\"attributes\":{},\"id\":\"2465\",\"type\":\"CategoricalTickFormatter\"},{\"attributes\":{\"line_alpha\":0.2,\"line_color\":\"#ff6f69\",\"line_width\":6,\"x\":{\"field\":\"\\u041e\\u043a\\u0440\\u0443\\u0433\"},\"y\":{\"field\":\"\\u0411\\u044e\\u0434\\u0436\\u0435\\u0442 \\u041c\\u041e, \\u0440\\u0443\\u0431\"}},\"id\":\"2460\",\"type\":\"Line\"},{\"attributes\":{\"line_alpha\":0.1,\"line_color\":\"#ff6f69\",\"line_width\":6,\"x\":{\"field\":\"\\u041e\\u043a\\u0440\\u0443\\u0433\"},\"y\":{\"field\":\"\\u0411\\u044e\\u0434\\u0436\\u0435\\u0442 \\u041c\\u041e, \\u0440\\u0443\\u0431\"}},\"id\":\"2459\",\"type\":\"Line\"}],\"root_ids\":[\"2417\",\"2510\"]},\"title\":\"Bokeh Application\",\"version\":\"2.4.3\"}};\n",
       "    var render_items = [{\"docid\":\"bee717ca-d9f8-497f-b808-c4d55b557e90\",\"root_ids\":[\"2417\"],\"roots\":{\"2417\":\"52c7b505-b5e5-45ec-a5f2-b77bffee2ad8\"}}];\n",
       "    root.Bokeh.embed.embed_items_notebook(docs_json, render_items);\n",
       "    for (const render_item of render_items) {\n",
       "      for (const root_id of render_item.root_ids) {\n",
       "\tconst id_el = document.getElementById(root_id)\n",
       "\tif (id_el.children.length && (id_el.children[0].className === 'bk-root')) {\n",
       "\t  const root_el = id_el.children[0]\n",
       "\t  root_el.id = root_el.id + '-rendered'\n",
       "\t}\n",
       "      }\n",
       "    }\n",
       "  }\n",
       "  if (root.Bokeh !== undefined && root.Bokeh.Panel !== undefined && ( root['Tabulator'] !== undefined) && ( root['Tabulator'] !== undefined) && ( root['Tabulator'] !== undefined)) {\n",
       "    embed_document(root);\n",
       "  } else {\n",
       "    var attempts = 0;\n",
       "    var timer = setInterval(function(root) {\n",
       "      if (root.Bokeh !== undefined && root.Bokeh.Panel !== undefined && (root['Tabulator'] !== undefined) && (root['Tabulator'] !== undefined) && (root['Tabulator'] !== undefined)) {\n",
       "        clearInterval(timer);\n",
       "        embed_document(root);\n",
       "      } else if (document.readyState == \"complete\") {\n",
       "        attempts++;\n",
       "        if (attempts > 200) {\n",
       "          clearInterval(timer);\n",
       "          console.log(\"Bokeh: ERROR: Unable to run BokehJS code because BokehJS library is missing\");\n",
       "        }\n",
       "      }\n",
       "    }, 25, root)\n",
       "  }\n",
       "})(window);</script>"
      ],
      "text/plain": [
       "<hvplot.interactive.Interactive at 0x7fb80f522bc0>"
      ]
     },
     "execution_count": 191,
     "metadata": {
      "application/vnd.holoviews_exec.v0+json": {
       "id": "2417"
      }
     },
     "output_type": "execute_result"
    }
   ],
   "source": [
    "ihvplot"
   ]
  },
  {
   "cell_type": "code",
   "execution_count": null,
   "id": "a0cc11f7",
   "metadata": {},
   "outputs": [],
   "source": []
  },
  {
   "cell_type": "code",
   "execution_count": null,
   "id": "d060934b",
   "metadata": {},
   "outputs": [],
   "source": []
  },
  {
   "cell_type": "code",
   "execution_count": null,
   "id": "f5d4f9d9",
   "metadata": {},
   "outputs": [],
   "source": []
  },
  {
   "cell_type": "markdown",
   "id": "15b13c4c",
   "metadata": {},
   "source": [
    "### Интерактивный раздел 1"
   ]
  },
  {
   "cell_type": "code",
   "execution_count": 192,
   "id": "bfdc2088",
   "metadata": {},
   "outputs": [],
   "source": [
    "df_pp1 = form_m1['Раздел 1']"
   ]
  },
  {
   "cell_type": "code",
   "execution_count": 193,
   "id": "095d90df",
   "metadata": {},
   "outputs": [
    {
     "data": {
      "text/plain": [
       "['Названия строк',\n",
       " 'Сумма по полю Бюджет СРФ, руб',\n",
       " 'Сумма по полю Бюджет МО, руб',\n",
       " 'Сумма по полю Кол-во грантов',\n",
       " 'Сумма по полю Бюджет грантов, руб',\n",
       " 'Сумма по полю Численность молодeжи, задействованной в программных мероприятиях по направлению',\n",
       " 'Сумма по полю Количество детских и молодeжных общественных объединений, работающих по данному ']"
      ]
     },
     "execution_count": 193,
     "metadata": {},
     "output_type": "execute_result"
    }
   ],
   "source": [
    "list(df_pp1.iloc[3])"
   ]
  },
  {
   "cell_type": "code",
   "execution_count": 194,
   "id": "e101a986",
   "metadata": {},
   "outputs": [],
   "source": [
    "df_pp1.columns = list(df_pp1.iloc[3])"
   ]
  },
  {
   "cell_type": "code",
   "execution_count": 195,
   "id": "f9a6b7ad",
   "metadata": {},
   "outputs": [],
   "source": [
    "df_pp1 = df_pp1[4:].rename(columns={'Названия строк' : 'Направления'})"
   ]
  },
  {
   "cell_type": "code",
   "execution_count": 196,
   "id": "30bebe8d",
   "metadata": {
    "scrolled": true
   },
   "outputs": [
    {
     "data": {
      "text/html": [
       "<div>\n",
       "<style scoped>\n",
       "    .dataframe tbody tr th:only-of-type {\n",
       "        vertical-align: middle;\n",
       "    }\n",
       "\n",
       "    .dataframe tbody tr th {\n",
       "        vertical-align: top;\n",
       "    }\n",
       "\n",
       "    .dataframe thead th {\n",
       "        text-align: right;\n",
       "    }\n",
       "</style>\n",
       "<table border=\"1\" class=\"dataframe\">\n",
       "  <thead>\n",
       "    <tr style=\"text-align: right;\">\n",
       "      <th></th>\n",
       "      <th>Направления</th>\n",
       "      <th>Сумма по полю Бюджет СРФ, руб</th>\n",
       "      <th>Сумма по полю Бюджет МО, руб</th>\n",
       "      <th>Сумма по полю Кол-во грантов</th>\n",
       "      <th>Сумма по полю Бюджет грантов, руб</th>\n",
       "      <th>Сумма по полю Численность молодeжи, задействованной в программных мероприятиях по направлению</th>\n",
       "      <th>Сумма по полю Количество детских и молодeжных общественных объединений, работающих по данному</th>\n",
       "    </tr>\n",
       "  </thead>\n",
       "  <tbody>\n",
       "    <tr>\n",
       "      <th>4</th>\n",
       "      <td>Вовлечение молодeжи в инновационную деятельнос...</td>\n",
       "      <td>982469474</td>\n",
       "      <td>170598050</td>\n",
       "      <td>1117</td>\n",
       "      <td>553443996</td>\n",
       "      <td>1737632</td>\n",
       "      <td>9337</td>\n",
       "    </tr>\n",
       "    <tr>\n",
       "      <th>5</th>\n",
       "      <td>биомедицина</td>\n",
       "      <td>35173484</td>\n",
       "      <td>3195230</td>\n",
       "      <td>55</td>\n",
       "      <td>13311837</td>\n",
       "      <td>22418</td>\n",
       "      <td>105</td>\n",
       "    </tr>\n",
       "    <tr>\n",
       "      <th>6</th>\n",
       "      <td>промышленные технологии\\n      (нанотехн...</td>\n",
       "      <td>59792583</td>\n",
       "      <td>2824921</td>\n",
       "      <td>116</td>\n",
       "      <td>29842264</td>\n",
       "      <td>125784</td>\n",
       "      <td>214</td>\n",
       "    </tr>\n",
       "    <tr>\n",
       "      <th>7</th>\n",
       "      <td>аэрокосмос</td>\n",
       "      <td>19111750</td>\n",
       "      <td>975286</td>\n",
       "      <td>40</td>\n",
       "      <td>2601965</td>\n",
       "      <td>34937</td>\n",
       "      <td>79</td>\n",
       "    </tr>\n",
       "    <tr>\n",
       "      <th>8</th>\n",
       "      <td>сельское хозяйство</td>\n",
       "      <td>170691937</td>\n",
       "      <td>15548670</td>\n",
       "      <td>140</td>\n",
       "      <td>361437104</td>\n",
       "      <td>63359</td>\n",
       "      <td>506</td>\n",
       "    </tr>\n",
       "  </tbody>\n",
       "</table>\n",
       "</div>"
      ],
      "text/plain": [
       "                                         Направления  \\\n",
       "4  Вовлечение молодeжи в инновационную деятельнос...   \n",
       "5                                        биомедицина   \n",
       "6        промышленные технологии\\n      (нанотехн...   \n",
       "7                                         аэрокосмос   \n",
       "8                                 сельское хозяйство   \n",
       "\n",
       "  Сумма по полю Бюджет СРФ, руб Сумма по полю Бюджет МО, руб  \\\n",
       "4                     982469474                    170598050   \n",
       "5                      35173484                      3195230   \n",
       "6                      59792583                      2824921   \n",
       "7                      19111750                       975286   \n",
       "8                     170691937                     15548670   \n",
       "\n",
       "  Сумма по полю Кол-во грантов Сумма по полю Бюджет грантов, руб  \\\n",
       "4                         1117                         553443996   \n",
       "5                           55                          13311837   \n",
       "6                          116                          29842264   \n",
       "7                           40                           2601965   \n",
       "8                          140                         361437104   \n",
       "\n",
       "  Сумма по полю Численность молодeжи, задействованной в программных мероприятиях по направлению  \\\n",
       "4                                            1737632                                              \n",
       "5                                              22418                                              \n",
       "6                                             125784                                              \n",
       "7                                              34937                                              \n",
       "8                                              63359                                              \n",
       "\n",
       "  Сумма по полю Количество детских и молодeжных общественных объединений, работающих по данному   \n",
       "4                                               9337                                              \n",
       "5                                                105                                              \n",
       "6                                                214                                              \n",
       "7                                                 79                                              \n",
       "8                                                506                                              "
      ]
     },
     "execution_count": 196,
     "metadata": {},
     "output_type": "execute_result"
    }
   ],
   "source": [
    "df_pp1.head()"
   ]
  },
  {
   "cell_type": "code",
   "execution_count": 197,
   "id": "7c7cf9ef",
   "metadata": {},
   "outputs": [],
   "source": [
    "df_pp1 = df_pp1.set_index('Направления').head()"
   ]
  },
  {
   "cell_type": "code",
   "execution_count": 198,
   "id": "52da240f",
   "metadata": {},
   "outputs": [],
   "source": [
    "idf = df_pp1.interactive()"
   ]
  },
  {
   "cell_type": "code",
   "execution_count": 199,
   "id": "e7ad6492",
   "metadata": {},
   "outputs": [],
   "source": [
    "ipipeline_3 = idf"
   ]
  },
  {
   "cell_type": "code",
   "execution_count": 200,
   "id": "472dd924",
   "metadata": {},
   "outputs": [],
   "source": [
    "# make interactive table\n",
    "pp1_pipeline = ipipeline_3.pipe(pn.widgets.Tabulator, pagination='remote', page_size = 10, sizing_mode='stretch_width') "
   ]
  },
  {
   "cell_type": "code",
   "execution_count": 201,
   "id": "3833aa66",
   "metadata": {},
   "outputs": [
    {
     "data": {},
     "metadata": {},
     "output_type": "display_data"
    },
    {
     "data": {
      "application/vnd.holoviews_exec.v0+json": "",
      "text/html": [
       "<div id='2561'>\n",
       "  <div class=\"bk-root\" id=\"5b0dd6c0-aa9c-4bb1-82ac-4324f70dd0d9\" data-root-id=\"2561\"></div>\n",
       "</div>\n",
       "<script type=\"application/javascript\">(function(root) {\n",
       "  function embed_document(root) {\n",
       "    var docs_json = {\"f4f7ba2c-260b-4902-914e-1b7865ea3278\":{\"defs\":[{\"extends\":null,\"module\":null,\"name\":\"ReactiveHTML1\",\"overrides\":[],\"properties\":[]},{\"extends\":null,\"module\":null,\"name\":\"FlexBox1\",\"overrides\":[],\"properties\":[{\"default\":\"flex-start\",\"kind\":null,\"name\":\"align_content\"},{\"default\":\"flex-start\",\"kind\":null,\"name\":\"align_items\"},{\"default\":\"row\",\"kind\":null,\"name\":\"flex_direction\"},{\"default\":\"wrap\",\"kind\":null,\"name\":\"flex_wrap\"},{\"default\":\"flex-start\",\"kind\":null,\"name\":\"justify_content\"}]},{\"extends\":null,\"module\":null,\"name\":\"GridStack1\",\"overrides\":[],\"properties\":[{\"default\":\"warn\",\"kind\":null,\"name\":\"mode\"},{\"default\":null,\"kind\":null,\"name\":\"ncols\"},{\"default\":null,\"kind\":null,\"name\":\"nrows\"},{\"default\":true,\"kind\":null,\"name\":\"allow_resize\"},{\"default\":true,\"kind\":null,\"name\":\"allow_drag\"},{\"default\":[],\"kind\":null,\"name\":\"state\"}]},{\"extends\":null,\"module\":null,\"name\":\"click1\",\"overrides\":[],\"properties\":[{\"default\":\"\",\"kind\":null,\"name\":\"terminal_output\"},{\"default\":\"\",\"kind\":null,\"name\":\"debug_name\"},{\"default\":0,\"kind\":null,\"name\":\"clears\"}]},{\"extends\":null,\"module\":null,\"name\":\"NotificationAreaBase1\",\"overrides\":[],\"properties\":[{\"default\":\"bottom-right\",\"kind\":null,\"name\":\"position\"},{\"default\":0,\"kind\":null,\"name\":\"_clear\"}]},{\"extends\":null,\"module\":null,\"name\":\"NotificationArea1\",\"overrides\":[],\"properties\":[{\"default\":[],\"kind\":null,\"name\":\"notifications\"},{\"default\":\"bottom-right\",\"kind\":null,\"name\":\"position\"},{\"default\":0,\"kind\":null,\"name\":\"_clear\"},{\"default\":[{\"background\":\"#ffc107\",\"icon\":{\"className\":\"fas fa-exclamation-triangle\",\"color\":\"white\",\"tagName\":\"i\"},\"type\":\"warning\"},{\"background\":\"#007bff\",\"icon\":{\"className\":\"fas fa-info-circle\",\"color\":\"white\",\"tagName\":\"i\"},\"type\":\"info\"}],\"kind\":null,\"name\":\"types\"}]},{\"extends\":null,\"module\":null,\"name\":\"Notification\",\"overrides\":[],\"properties\":[{\"default\":null,\"kind\":null,\"name\":\"background\"},{\"default\":3000,\"kind\":null,\"name\":\"duration\"},{\"default\":null,\"kind\":null,\"name\":\"icon\"},{\"default\":\"\",\"kind\":null,\"name\":\"message\"},{\"default\":null,\"kind\":null,\"name\":\"notification_type\"},{\"default\":false,\"kind\":null,\"name\":\"_destroyed\"}]},{\"extends\":null,\"module\":null,\"name\":\"TemplateActions1\",\"overrides\":[],\"properties\":[{\"default\":0,\"kind\":null,\"name\":\"open_modal\"},{\"default\":0,\"kind\":null,\"name\":\"close_modal\"}]},{\"extends\":null,\"module\":null,\"name\":\"MaterialTemplateActions1\",\"overrides\":[],\"properties\":[{\"default\":0,\"kind\":null,\"name\":\"open_modal\"},{\"default\":0,\"kind\":null,\"name\":\"close_modal\"}]}],\"roots\":{\"references\":[{\"attributes\":{\"children\":[{\"id\":\"2567\"},{\"id\":\"2568\"}],\"margin\":[0,0,0,0],\"name\":\"Column08796\",\"sizing_mode\":\"stretch_width\"},\"id\":\"2566\",\"type\":\"Column\"},{\"attributes\":{\"columns\":[{\"id\":\"2574\"},{\"id\":\"2579\"},{\"id\":\"2584\"},{\"id\":\"2589\"},{\"id\":\"2594\"},{\"id\":\"2599\"},{\"id\":\"2604\"}],\"configuration\":{\"columns\":[{\"field\":\"\\u041d\\u0430\\u043f\\u0440\\u0430\\u0432\\u043b\\u0435\\u043d\\u0438\\u044f\"},{\"field\":\"\\u0421\\u0443\\u043c\\u043c\\u0430 \\u043f\\u043e \\u043f\\u043e\\u043b\\u044e \\u0411\\u044e\\u0434\\u0436\\u0435\\u0442 \\u0421\\u0420\\u0424, \\u0440\\u0443\\u0431\"},{\"field\":\"\\u0421\\u0443\\u043c\\u043c\\u0430 \\u043f\\u043e \\u043f\\u043e\\u043b\\u044e \\u0411\\u044e\\u0434\\u0436\\u0435\\u0442 \\u041c\\u041e, \\u0440\\u0443\\u0431\"},{\"field\":\"\\u0421\\u0443\\u043c\\u043c\\u0430 \\u043f\\u043e \\u043f\\u043e\\u043b\\u044e \\u041a\\u043e\\u043b-\\u0432\\u043e \\u0433\\u0440\\u0430\\u043d\\u0442\\u043e\\u0432\"},{\"field\":\"\\u0421\\u0443\\u043c\\u043c\\u0430 \\u043f\\u043e \\u043f\\u043e\\u043b\\u044e \\u0411\\u044e\\u0434\\u0436\\u0435\\u0442 \\u0433\\u0440\\u0430\\u043d\\u0442\\u043e\\u0432, \\u0440\\u0443\\u0431\"},{\"field\":\"\\u0421\\u0443\\u043c\\u043c\\u0430 \\u043f\\u043e \\u043f\\u043e\\u043b\\u044e \\u0427\\u0438\\u0441\\u043b\\u0435\\u043d\\u043d\\u043e\\u0441\\u0442\\u044c \\u043c\\u043e\\u043b\\u043e\\u0434e\\u0436\\u0438, \\u0437\\u0430\\u0434\\u0435\\u0439\\u0441\\u0442\\u0432\\u043e\\u0432\\u0430\\u043d\\u043d\\u043e\\u0439 \\u0432 \\u043f\\u0440\\u043e\\u0433\\u0440\\u0430\\u043c\\u043c\\u043d\\u044b\\u0445 \\u043c\\u0435\\u0440\\u043e\\u043f\\u0440\\u0438\\u044f\\u0442\\u0438\\u044f\\u0445 \\u043f\\u043e \\u043d\\u0430\\u043f\\u0440\\u0430\\u0432\\u043b\\u0435\\u043d\\u0438\\u044e\"},{\"field\":\"\\u0421\\u0443\\u043c\\u043c\\u0430 \\u043f\\u043e \\u043f\\u043e\\u043b\\u044e \\u041a\\u043e\\u043b\\u0438\\u0447\\u0435\\u0441\\u0442\\u0432\\u043e \\u0434\\u0435\\u0442\\u0441\\u043a\\u0438\\u0445 \\u0438 \\u043c\\u043e\\u043b\\u043e\\u0434e\\u0436\\u043d\\u044b\\u0445 \\u043e\\u0431\\u0449\\u0435\\u0441\\u0442\\u0432\\u0435\\u043d\\u043d\\u044b\\u0445 \\u043e\\u0431\\u044a\\u0435\\u0434\\u0438\\u043d\\u0435\\u043d\\u0438\\u0439, \\u0440\\u0430\\u0431\\u043e\\u0442\\u0430\\u044e\\u0449\\u0438\\u0445 \\u043f\\u043e \\u0434\\u0430\\u043d\\u043d\\u043e\\u043c\\u0443 \"}],\"dataTree\":false,\"selectable\":true},\"indexes\":[\"\\u041d\\u0430\\u043f\\u0440\\u0430\\u0432\\u043b\\u0435\\u043d\\u0438\\u044f\"],\"layout\":\"fit_data_table\",\"margin\":[5,10,5,10],\"max_page\":1,\"name\":\"\",\"page\":1,\"page_size\":10,\"pagination\":\"remote\",\"select_mode\":true,\"selectable_rows\":null,\"sizing_mode\":\"stretch_width\",\"source\":{\"id\":\"2569\"},\"styles\":{\"data\":{},\"id\":\"c724ad9e8e4d45f3a5daaf0d57259bd7\"},\"subscribed_events\":[\"cell-click\",\"table-edit\"],\"theme_url\":\"https://cdn.jsdelivr.net/npm/@holoviz/panel@0.14.3/dist/bundled/datatabulator/tabulator-tables@5.3.2/dist/css/\"},\"id\":\"2607\",\"type\":\"panel.models.tabulator.DataTabulator\"},{\"attributes\":{},\"id\":\"2573\",\"type\":\"CellEditor\"},{\"attributes\":{},\"id\":\"2587\",\"type\":\"StringFormatter\"},{\"attributes\":{\"editor\":{\"id\":\"2583\"},\"field\":\"\\u0421\\u0443\\u043c\\u043c\\u0430 \\u043f\\u043e \\u043f\\u043e\\u043b\\u044e \\u0411\\u044e\\u0434\\u0436\\u0435\\u0442 \\u041c\\u041e, \\u0440\\u0443\\u0431\",\"formatter\":{\"id\":\"2582\"},\"title\":\"\\u0421\\u0443\\u043c\\u043c\\u0430 \\u043f\\u043e \\u043f\\u043e\\u043b\\u044e \\u0411\\u044e\\u0434\\u0436\\u0435\\u0442 \\u041c\\u041e, \\u0440\\u0443\\u0431\",\"width\":0},\"id\":\"2584\",\"type\":\"TableColumn\"},{\"attributes\":{},\"id\":\"2588\",\"type\":\"StringEditor\"},{\"attributes\":{\"editor\":{\"id\":\"2588\"},\"field\":\"\\u0421\\u0443\\u043c\\u043c\\u0430 \\u043f\\u043e \\u043f\\u043e\\u043b\\u044e \\u041a\\u043e\\u043b-\\u0432\\u043e \\u0433\\u0440\\u0430\\u043d\\u0442\\u043e\\u0432\",\"formatter\":{\"id\":\"2587\"},\"title\":\"\\u0421\\u0443\\u043c\\u043c\\u0430 \\u043f\\u043e \\u043f\\u043e\\u043b\\u044e \\u041a\\u043e\\u043b-\\u0432\\u043e \\u0433\\u0440\\u0430\\u043d\\u0442\\u043e\\u0432\",\"width\":0},\"id\":\"2589\",\"type\":\"TableColumn\"},{\"attributes\":{\"editor\":{\"id\":\"2578\"},\"field\":\"\\u0421\\u0443\\u043c\\u043c\\u0430 \\u043f\\u043e \\u043f\\u043e\\u043b\\u044e \\u0411\\u044e\\u0434\\u0436\\u0435\\u0442 \\u0421\\u0420\\u0424, \\u0440\\u0443\\u0431\",\"formatter\":{\"id\":\"2577\"},\"title\":\"\\u0421\\u0443\\u043c\\u043c\\u0430 \\u043f\\u043e \\u043f\\u043e\\u043b\\u044e \\u0411\\u044e\\u0434\\u0436\\u0435\\u0442 \\u0421\\u0420\\u0424, \\u0440\\u0443\\u0431\",\"width\":0},\"id\":\"2579\",\"type\":\"TableColumn\"},{\"attributes\":{\"client_comm_id\":\"f01b349983ee4811af9de5ac0a022a3b\",\"comm_id\":\"70e42376032d44799f81ad6e92d00e97\",\"plot_id\":\"2561\"},\"id\":\"2615\",\"type\":\"panel.models.comm_manager.CommManager\"},{\"attributes\":{\"children\":[{\"id\":\"2563\"},{\"id\":\"2566\"}],\"margin\":[0,0,0,0],\"name\":\"Column08815\",\"sizing_mode\":\"stretch_width\"},\"id\":\"2562\",\"type\":\"Column\"},{\"attributes\":{\"editor\":{\"id\":\"2573\"},\"field\":\"\\u041d\\u0430\\u043f\\u0440\\u0430\\u0432\\u043b\\u0435\\u043d\\u0438\\u044f\",\"formatter\":{\"id\":\"2571\"},\"title\":\"\\u041d\\u0430\\u043f\\u0440\\u0430\\u0432\\u043b\\u0435\\u043d\\u0438\\u044f\",\"width\":0},\"id\":\"2574\",\"type\":\"TableColumn\"},{\"attributes\":{},\"id\":\"2577\",\"type\":\"StringFormatter\"},{\"attributes\":{},\"id\":\"2571\",\"type\":\"StringFormatter\"},{\"attributes\":{},\"id\":\"2592\",\"type\":\"StringFormatter\"},{\"attributes\":{},\"id\":\"2593\",\"type\":\"StringEditor\"},{\"attributes\":{\"editor\":{\"id\":\"2593\"},\"field\":\"\\u0421\\u0443\\u043c\\u043c\\u0430 \\u043f\\u043e \\u043f\\u043e\\u043b\\u044e \\u0411\\u044e\\u0434\\u0436\\u0435\\u0442 \\u0433\\u0440\\u0430\\u043d\\u0442\\u043e\\u0432, \\u0440\\u0443\\u0431\",\"formatter\":{\"id\":\"2592\"},\"title\":\"\\u0421\\u0443\\u043c\\u043c\\u0430 \\u043f\\u043e \\u043f\\u043e\\u043b\\u044e \\u0411\\u044e\\u0434\\u0436\\u0435\\u0442 \\u0433\\u0440\\u0430\\u043d\\u0442\\u043e\\u0432, \\u0440\\u0443\\u0431\",\"width\":0},\"id\":\"2594\",\"type\":\"TableColumn\"},{\"attributes\":{\"children\":[{\"id\":\"2562\"}],\"margin\":[0,0,0,0],\"name\":\"Row08816\",\"sizing_mode\":\"stretch_width\"},\"id\":\"2561\",\"type\":\"Row\"},{\"attributes\":{},\"id\":\"2597\",\"type\":\"StringFormatter\"},{\"attributes\":{},\"id\":\"2598\",\"type\":\"StringEditor\"},{\"attributes\":{\"editor\":{\"id\":\"2598\"},\"field\":\"\\u0421\\u0443\\u043c\\u043c\\u0430 \\u043f\\u043e \\u043f\\u043e\\u043b\\u044e \\u0427\\u0438\\u0441\\u043b\\u0435\\u043d\\u043d\\u043e\\u0441\\u0442\\u044c \\u043c\\u043e\\u043b\\u043e\\u0434e\\u0436\\u0438, \\u0437\\u0430\\u0434\\u0435\\u0439\\u0441\\u0442\\u0432\\u043e\\u0432\\u0430\\u043d\\u043d\\u043e\\u0439 \\u0432 \\u043f\\u0440\\u043e\\u0433\\u0440\\u0430\\u043c\\u043c\\u043d\\u044b\\u0445 \\u043c\\u0435\\u0440\\u043e\\u043f\\u0440\\u0438\\u044f\\u0442\\u0438\\u044f\\u0445 \\u043f\\u043e \\u043d\\u0430\\u043f\\u0440\\u0430\\u0432\\u043b\\u0435\\u043d\\u0438\\u044e\",\"formatter\":{\"id\":\"2597\"},\"title\":\"\\u0421\\u0443\\u043c\\u043c\\u0430 \\u043f\\u043e \\u043f\\u043e\\u043b\\u044e \\u0427\\u0438\\u0441\\u043b\\u0435\\u043d\\u043d\\u043e\\u0441\\u0442\\u044c \\u043c\\u043e\\u043b\\u043e\\u0434e\\u0436\\u0438, \\u0437\\u0430\\u0434\\u0435\\u0439\\u0441\\u0442\\u0432\\u043e\\u0432\\u0430\\u043d\\u043d\\u043e\\u0439 \\u0432 \\u043f\\u0440\\u043e\\u0433\\u0440\\u0430\\u043c\\u043c\\u043d\\u044b\\u0445 \\u043c\\u0435\\u0440\\u043e\\u043f\\u0440\\u0438\\u044f\\u0442\\u0438\\u044f\\u0445 \\u043f\\u043e \\u043d\\u0430\\u043f\\u0440\\u0430\\u0432\\u043b\\u0435\\u043d\\u0438\\u044e\",\"width\":0},\"id\":\"2599\",\"type\":\"TableColumn\"},{\"attributes\":{},\"id\":\"2578\",\"type\":\"StringEditor\"},{\"attributes\":{},\"id\":\"2609\",\"type\":\"UnionRenderers\"},{\"attributes\":{\"margin\":[5,5,5,5],\"name\":\"HSpacer08813\",\"sizing_mode\":\"stretch_width\"},\"id\":\"2565\",\"type\":\"Spacer\"},{\"attributes\":{},\"id\":\"2582\",\"type\":\"StringFormatter\"},{\"attributes\":{},\"id\":\"2602\",\"type\":\"StringFormatter\"},{\"attributes\":{\"children\":[{\"id\":\"2607\"}],\"margin\":[0,0,0,0],\"name\":\"Row08811\",\"sizing_mode\":\"stretch_width\"},\"id\":\"2568\",\"type\":\"Row\"},{\"attributes\":{},\"id\":\"2603\",\"type\":\"StringEditor\"},{\"attributes\":{\"editor\":{\"id\":\"2603\"},\"field\":\"\\u0421\\u0443\\u043c\\u043c\\u0430 \\u043f\\u043e \\u043f\\u043e\\u043b\\u044e \\u041a\\u043e\\u043b\\u0438\\u0447\\u0435\\u0441\\u0442\\u0432\\u043e \\u0434\\u0435\\u0442\\u0441\\u043a\\u0438\\u0445 \\u0438 \\u043c\\u043e\\u043b\\u043e\\u0434e\\u0436\\u043d\\u044b\\u0445 \\u043e\\u0431\\u0449\\u0435\\u0441\\u0442\\u0432\\u0435\\u043d\\u043d\\u044b\\u0445 \\u043e\\u0431\\u044a\\u0435\\u0434\\u0438\\u043d\\u0435\\u043d\\u0438\\u0439, \\u0440\\u0430\\u0431\\u043e\\u0442\\u0430\\u044e\\u0449\\u0438\\u0445 \\u043f\\u043e \\u0434\\u0430\\u043d\\u043d\\u043e\\u043c\\u0443 \",\"formatter\":{\"id\":\"2602\"},\"title\":\"\\u0421\\u0443\\u043c\\u043c\\u0430 \\u043f\\u043e \\u043f\\u043e\\u043b\\u044e \\u041a\\u043e\\u043b\\u0438\\u0447\\u0435\\u0441\\u0442\\u0432\\u043e \\u0434\\u0435\\u0442\\u0441\\u043a\\u0438\\u0445 \\u0438 \\u043c\\u043e\\u043b\\u043e\\u0434e\\u0436\\u043d\\u044b\\u0445 \\u043e\\u0431\\u0449\\u0435\\u0441\\u0442\\u0432\\u0435\\u043d\\u043d\\u044b\\u0445 \\u043e\\u0431\\u044a\\u0435\\u0434\\u0438\\u043d\\u0435\\u043d\\u0438\\u0439, \\u0440\\u0430\\u0431\\u043e\\u0442\\u0430\\u044e\\u0449\\u0438\\u0445 \\u043f\\u043e \\u0434\\u0430\\u043d\\u043d\\u043e\\u043c\\u0443 \",\"width\":0},\"id\":\"2604\",\"type\":\"TableColumn\"},{\"attributes\":{\"children\":[{\"id\":\"2564\"},{\"id\":\"2565\"}],\"margin\":[0,0,0,0],\"name\":\"Row08814\",\"sizing_mode\":\"stretch_width\"},\"id\":\"2563\",\"type\":\"Row\"},{\"attributes\":{\"indices\":[]},\"id\":\"2570\",\"type\":\"Selection\"},{\"attributes\":{},\"id\":\"2583\",\"type\":\"StringEditor\"},{\"attributes\":{\"margin\":[0,0,0,0],\"name\":\"Column08794\",\"sizing_mode\":\"stretch_width\"},\"id\":\"2564\",\"type\":\"Column\"},{\"attributes\":{\"data\":{\"\\u041d\\u0430\\u043f\\u0440\\u0430\\u0432\\u043b\\u0435\\u043d\\u0438\\u044f\":[\"\\u0412\\u043e\\u0432\\u043b\\u0435\\u0447\\u0435\\u043d\\u0438\\u0435 \\u043c\\u043e\\u043b\\u043e\\u0434e\\u0436\\u0438 \\u0432 \\u0438\\u043d\\u043d\\u043e\\u0432\\u0430\\u0446\\u0438\\u043e\\u043d\\u043d\\u0443\\u044e \\u0434\\u0435\\u044f\\u0442\\u0435\\u043b\\u044c\\u043d\\u043e\\u0441\\u0442\\u044c \\u0438 \\u043d\\u0430\\u0443\\u0447\\u043d\\u043e-\\u0442\\u0435\\u0445\\u043d\\u0438\\u0447\\u0435\\u0441\\u043a\\u043e\\u0435 \\u0442\\u0432\\u043e\\u0440\\u0447\\u0435\\u0441\\u0442\\u0432\\u043e, \\u0432 \\u0442\\u043e\\u043c \\u0447\\u0438\\u0441\\u043b\\u0435:\",\"      \\u0431\\u0438\\u043e\\u043c\\u0435\\u0434\\u0438\\u0446\\u0438\\u043d\\u0430\",\"      \\u043f\\u0440\\u043e\\u043c\\u044b\\u0448\\u043b\\u0435\\u043d\\u043d\\u044b\\u0435 \\u0442\\u0435\\u0445\\u043d\\u043e\\u043b\\u043e\\u0433\\u0438\\u0438\\n      (\\u043d\\u0430\\u043d\\u043e\\u0442\\u0435\\u0445\\u043d\\u043e\\u043b\\u043e\\u0433\\u0438\\u0438, \\u043a\\u043e\\u043c\\u043f\\u043e\\u0437\\u0438\\u0442\\u044b, \\u043f\\u0440.)\",\"      \\u0430\\u044d\\u0440\\u043e\\u043a\\u043e\\u0441\\u043c\\u043e\\u0441\",\"      \\u0441\\u0435\\u043b\\u044c\\u0441\\u043a\\u043e\\u0435 \\u0445\\u043e\\u0437\\u044f\\u0439\\u0441\\u0442\\u0432\\u043e\"],\"\\u0421\\u0443\\u043c\\u043c\\u0430 \\u043f\\u043e \\u043f\\u043e\\u043b\\u044e \\u0411\\u044e\\u0434\\u0436\\u0435\\u0442 \\u041c\\u041e, \\u0440\\u0443\\u0431\":[170598050,3195230,2824921,975286,15548670],\"\\u0421\\u0443\\u043c\\u043c\\u0430 \\u043f\\u043e \\u043f\\u043e\\u043b\\u044e \\u0411\\u044e\\u0434\\u0436\\u0435\\u0442 \\u0421\\u0420\\u0424, \\u0440\\u0443\\u0431\":[982469474,35173484,59792583,19111750,170691937],\"\\u0421\\u0443\\u043c\\u043c\\u0430 \\u043f\\u043e \\u043f\\u043e\\u043b\\u044e \\u0411\\u044e\\u0434\\u0436\\u0435\\u0442 \\u0433\\u0440\\u0430\\u043d\\u0442\\u043e\\u0432, \\u0440\\u0443\\u0431\":[553443996,13311837,29842264,2601965,361437104],\"\\u0421\\u0443\\u043c\\u043c\\u0430 \\u043f\\u043e \\u043f\\u043e\\u043b\\u044e \\u041a\\u043e\\u043b-\\u0432\\u043e \\u0433\\u0440\\u0430\\u043d\\u0442\\u043e\\u0432\":[1117,55,116,40,140],\"\\u0421\\u0443\\u043c\\u043c\\u0430 \\u043f\\u043e \\u043f\\u043e\\u043b\\u044e \\u041a\\u043e\\u043b\\u0438\\u0447\\u0435\\u0441\\u0442\\u0432\\u043e \\u0434\\u0435\\u0442\\u0441\\u043a\\u0438\\u0445 \\u0438 \\u043c\\u043e\\u043b\\u043e\\u0434e\\u0436\\u043d\\u044b\\u0445 \\u043e\\u0431\\u0449\\u0435\\u0441\\u0442\\u0432\\u0435\\u043d\\u043d\\u044b\\u0445 \\u043e\\u0431\\u044a\\u0435\\u0434\\u0438\\u043d\\u0435\\u043d\\u0438\\u0439, \\u0440\\u0430\\u0431\\u043e\\u0442\\u0430\\u044e\\u0449\\u0438\\u0445 \\u043f\\u043e \\u0434\\u0430\\u043d\\u043d\\u043e\\u043c\\u0443 \":[9337,105,214,79,506],\"\\u0421\\u0443\\u043c\\u043c\\u0430 \\u043f\\u043e \\u043f\\u043e\\u043b\\u044e \\u0427\\u0438\\u0441\\u043b\\u0435\\u043d\\u043d\\u043e\\u0441\\u0442\\u044c \\u043c\\u043e\\u043b\\u043e\\u0434e\\u0436\\u0438, \\u0437\\u0430\\u0434\\u0435\\u0439\\u0441\\u0442\\u0432\\u043e\\u0432\\u0430\\u043d\\u043d\\u043e\\u0439 \\u0432 \\u043f\\u0440\\u043e\\u0433\\u0440\\u0430\\u043c\\u043c\\u043d\\u044b\\u0445 \\u043c\\u0435\\u0440\\u043e\\u043f\\u0440\\u0438\\u044f\\u0442\\u0438\\u044f\\u0445 \\u043f\\u043e \\u043d\\u0430\\u043f\\u0440\\u0430\\u0432\\u043b\\u0435\\u043d\\u0438\\u044e\":[1737632,22418,125784,34937,63359]},\"selected\":{\"id\":\"2570\"},\"selection_policy\":{\"id\":\"2609\"}},\"id\":\"2569\",\"type\":\"ColumnDataSource\"},{\"attributes\":{\"margin\":[0,0,0,0],\"name\":\"Column08812\",\"sizing_mode\":\"stretch_width\"},\"id\":\"2567\",\"type\":\"Column\"}],\"root_ids\":[\"2561\",\"2615\"]},\"title\":\"Bokeh Application\",\"version\":\"2.4.3\"}};\n",
       "    var render_items = [{\"docid\":\"f4f7ba2c-260b-4902-914e-1b7865ea3278\",\"root_ids\":[\"2561\"],\"roots\":{\"2561\":\"5b0dd6c0-aa9c-4bb1-82ac-4324f70dd0d9\"}}];\n",
       "    root.Bokeh.embed.embed_items_notebook(docs_json, render_items);\n",
       "    for (const render_item of render_items) {\n",
       "      for (const root_id of render_item.root_ids) {\n",
       "\tconst id_el = document.getElementById(root_id)\n",
       "\tif (id_el.children.length && (id_el.children[0].className === 'bk-root')) {\n",
       "\t  const root_el = id_el.children[0]\n",
       "\t  root_el.id = root_el.id + '-rendered'\n",
       "\t}\n",
       "      }\n",
       "    }\n",
       "  }\n",
       "  if (root.Bokeh !== undefined && root.Bokeh.Panel !== undefined && ( root['Tabulator'] !== undefined) && ( root['Tabulator'] !== undefined) && ( root['Tabulator'] !== undefined)) {\n",
       "    embed_document(root);\n",
       "  } else {\n",
       "    var attempts = 0;\n",
       "    var timer = setInterval(function(root) {\n",
       "      if (root.Bokeh !== undefined && root.Bokeh.Panel !== undefined && (root['Tabulator'] !== undefined) && (root['Tabulator'] !== undefined) && (root['Tabulator'] !== undefined)) {\n",
       "        clearInterval(timer);\n",
       "        embed_document(root);\n",
       "      } else if (document.readyState == \"complete\") {\n",
       "        attempts++;\n",
       "        if (attempts > 200) {\n",
       "          clearInterval(timer);\n",
       "          console.log(\"Bokeh: ERROR: Unable to run BokehJS code because BokehJS library is missing\");\n",
       "        }\n",
       "      }\n",
       "    }, 25, root)\n",
       "  }\n",
       "})(window);</script>"
      ],
      "text/plain": [
       "<hvplot.interactive.Interactive at 0x7fb80f4cb820>"
      ]
     },
     "execution_count": 201,
     "metadata": {
      "application/vnd.holoviews_exec.v0+json": {
       "id": "2561"
      }
     },
     "output_type": "execute_result"
    }
   ],
   "source": [
    "pp1_pipeline"
   ]
  },
  {
   "cell_type": "code",
   "execution_count": null,
   "id": "c6d68fbe",
   "metadata": {},
   "outputs": [],
   "source": []
  },
  {
   "cell_type": "code",
   "execution_count": null,
   "id": "c2926426",
   "metadata": {},
   "outputs": [],
   "source": []
  },
  {
   "cell_type": "markdown",
   "id": "0841f610",
   "metadata": {},
   "source": [
    "### Р6"
   ]
  },
  {
   "cell_type": "code",
   "execution_count": 202,
   "id": "8d1d6829",
   "metadata": {},
   "outputs": [],
   "source": [
    "df_p6 = form_m1['Р6']"
   ]
  },
  {
   "cell_type": "code",
   "execution_count": 203,
   "id": "49a362ab",
   "metadata": {
    "scrolled": false
   },
   "outputs": [
    {
     "data": {
      "text/plain": [
       "Регион                                                                               0\n",
       "Округ                                                                                0\n",
       "Год                                                                                  0\n",
       "Наименование                                                                         0\n",
       "№ строки                                                                             0\n",
       "Количество форумов соответствующего уровня, прошедших на территории субъекта Рос    43\n",
       "Численность участников форумов соответствующего уровня, чел                         27\n",
       "Объeм рег. финансирования (в том числе посредством финансирования транспортных и    48\n",
       "Объeм мун. финансирования (в том числе посредством финансирования транспортных и    58\n",
       "dtype: int64"
      ]
     },
     "execution_count": 203,
     "metadata": {},
     "output_type": "execute_result"
    }
   ],
   "source": [
    "df_p6.isna().sum()"
   ]
  },
  {
   "cell_type": "code",
   "execution_count": 204,
   "id": "d00fd290",
   "metadata": {},
   "outputs": [],
   "source": [
    "df_p6 = df_p6.fillna(0)"
   ]
  },
  {
   "cell_type": "code",
   "execution_count": 205,
   "id": "f13246ae",
   "metadata": {},
   "outputs": [
    {
     "data": {
      "text/html": [
       "<div>\n",
       "<style scoped>\n",
       "    .dataframe tbody tr th:only-of-type {\n",
       "        vertical-align: middle;\n",
       "    }\n",
       "\n",
       "    .dataframe tbody tr th {\n",
       "        vertical-align: top;\n",
       "    }\n",
       "\n",
       "    .dataframe thead th {\n",
       "        text-align: right;\n",
       "    }\n",
       "</style>\n",
       "<table border=\"1\" class=\"dataframe\">\n",
       "  <thead>\n",
       "    <tr style=\"text-align: right;\">\n",
       "      <th></th>\n",
       "      <th>Регион</th>\n",
       "      <th>Округ</th>\n",
       "      <th>Год</th>\n",
       "      <th>Наименование</th>\n",
       "      <th>№ строки</th>\n",
       "      <th>Количество форумов соответствующего уровня, прошедших на территории субъекта Рос</th>\n",
       "      <th>Численность участников форумов соответствующего уровня, чел</th>\n",
       "      <th>Объeм рег. финансирования (в том числе посредством финансирования транспортных и</th>\n",
       "      <th>Объeм мун. финансирования (в том числе посредством финансирования транспортных и</th>\n",
       "    </tr>\n",
       "  </thead>\n",
       "  <tbody>\n",
       "    <tr>\n",
       "      <th>0</th>\n",
       "      <td>Республика Адыгея</td>\n",
       "      <td>ЮФО</td>\n",
       "      <td>2021</td>\n",
       "      <td>Всероссийские молодeжные форумы</td>\n",
       "      <td>55</td>\n",
       "      <td>0.000</td>\n",
       "      <td>0.000</td>\n",
       "      <td>54000.000</td>\n",
       "      <td>0.000</td>\n",
       "    </tr>\n",
       "    <tr>\n",
       "      <th>1</th>\n",
       "      <td>Республика Адыгея</td>\n",
       "      <td>ЮФО</td>\n",
       "      <td>2021</td>\n",
       "      <td>Окружные молодeжные форумы</td>\n",
       "      <td>56</td>\n",
       "      <td>2.000</td>\n",
       "      <td>300.000</td>\n",
       "      <td>0.000</td>\n",
       "      <td>0.000</td>\n",
       "    </tr>\n",
       "    <tr>\n",
       "      <th>2</th>\n",
       "      <td>Республика Адыгея</td>\n",
       "      <td>ЮФО</td>\n",
       "      <td>2021</td>\n",
       "      <td>Региональные и межрегиональные молодeжные форумы</td>\n",
       "      <td>57</td>\n",
       "      <td>6.000</td>\n",
       "      <td>900.000</td>\n",
       "      <td>343460.000</td>\n",
       "      <td>0.000</td>\n",
       "    </tr>\n",
       "  </tbody>\n",
       "</table>\n",
       "</div>"
      ],
      "text/plain": [
       "              Регион Округ   Год  \\\n",
       "0  Республика Адыгея   ЮФО  2021   \n",
       "1  Республика Адыгея   ЮФО  2021   \n",
       "2  Республика Адыгея   ЮФО  2021   \n",
       "\n",
       "                                       Наименование  № строки  \\\n",
       "0                   Всероссийские молодeжные форумы        55   \n",
       "1                        Окружные молодeжные форумы        56   \n",
       "2  Региональные и межрегиональные молодeжные форумы        57   \n",
       "\n",
       "   Количество форумов соответствующего уровня, прошедших на территории субъекта Рос  \\\n",
       "0                                              0.000                                  \n",
       "1                                              2.000                                  \n",
       "2                                              6.000                                  \n",
       "\n",
       "   Численность участников форумов соответствующего уровня, чел  \\\n",
       "0                                              0.000             \n",
       "1                                            300.000             \n",
       "2                                            900.000             \n",
       "\n",
       "   Объeм рег. финансирования (в том числе посредством финансирования транспортных и  \\\n",
       "0                                          54000.000                                  \n",
       "1                                              0.000                                  \n",
       "2                                         343460.000                                  \n",
       "\n",
       "   Объeм мун. финансирования (в том числе посредством финансирования транспортных и  \n",
       "0                                              0.000                                 \n",
       "1                                              0.000                                 \n",
       "2                                              0.000                                 "
      ]
     },
     "execution_count": 205,
     "metadata": {},
     "output_type": "execute_result"
    }
   ],
   "source": [
    "df_p6.head(3)"
   ]
  },
  {
   "cell_type": "code",
   "execution_count": 206,
   "id": "25ae1de3",
   "metadata": {},
   "outputs": [
    {
     "data": {
      "text/plain": [
       "Index(['Регион', 'Округ', 'Год', 'Наименование', '№ строки',\n",
       "       'Количество форумов соответствующего уровня, прошедших на территории субъекта Рос',\n",
       "       'Численность участников форумов соответствующего уровня, чел',\n",
       "       'Объeм рег. финансирования (в том числе посредством финансирования транспортных и',\n",
       "       'Объeм мун. финансирования (в том числе посредством финансирования транспортных и'],\n",
       "      dtype='object')"
      ]
     },
     "execution_count": 206,
     "metadata": {},
     "output_type": "execute_result"
    }
   ],
   "source": [
    "df_p6.columns"
   ]
  },
  {
   "cell_type": "code",
   "execution_count": null,
   "id": "645bd09a",
   "metadata": {},
   "outputs": [],
   "source": []
  },
  {
   "cell_type": "markdown",
   "id": "ec1fce5a",
   "metadata": {},
   "source": [
    "  \n",
    " Будем считать, что запуск форума был удачным и его\n",
    " можно повторно запустить, если на него пришло много человек"
   ]
  },
  {
   "cell_type": "code",
   "execution_count": 207,
   "id": "c3ffeea8",
   "metadata": {},
   "outputs": [
    {
     "data": {
      "text/html": [
       "<div>\n",
       "<style scoped>\n",
       "    .dataframe tbody tr th:only-of-type {\n",
       "        vertical-align: middle;\n",
       "    }\n",
       "\n",
       "    .dataframe tbody tr th {\n",
       "        vertical-align: top;\n",
       "    }\n",
       "\n",
       "    .dataframe thead th {\n",
       "        text-align: right;\n",
       "    }\n",
       "</style>\n",
       "<table border=\"1\" class=\"dataframe\">\n",
       "  <thead>\n",
       "    <tr style=\"text-align: right;\">\n",
       "      <th></th>\n",
       "      <th>Регион</th>\n",
       "      <th>Округ</th>\n",
       "      <th>Год</th>\n",
       "      <th>Наименование</th>\n",
       "      <th>№ строки</th>\n",
       "      <th>Количество форумов соответствующего уровня, прошедших на территории субъекта Рос</th>\n",
       "      <th>Численность участников форумов соответствующего уровня, чел</th>\n",
       "      <th>Объeм рег. финансирования (в том числе посредством финансирования транспортных и</th>\n",
       "      <th>Объeм мун. финансирования (в том числе посредством финансирования транспортных и</th>\n",
       "    </tr>\n",
       "  </thead>\n",
       "  <tbody>\n",
       "    <tr>\n",
       "      <th>0</th>\n",
       "      <td>Республика Адыгея</td>\n",
       "      <td>ЮФО</td>\n",
       "      <td>2021</td>\n",
       "      <td>Всероссийские молодeжные форумы</td>\n",
       "      <td>55</td>\n",
       "      <td>0.000</td>\n",
       "      <td>0.000</td>\n",
       "      <td>54000.000</td>\n",
       "      <td>0.000</td>\n",
       "    </tr>\n",
       "    <tr>\n",
       "      <th>1</th>\n",
       "      <td>Республика Адыгея</td>\n",
       "      <td>ЮФО</td>\n",
       "      <td>2021</td>\n",
       "      <td>Окружные молодeжные форумы</td>\n",
       "      <td>56</td>\n",
       "      <td>2.000</td>\n",
       "      <td>300.000</td>\n",
       "      <td>0.000</td>\n",
       "      <td>0.000</td>\n",
       "    </tr>\n",
       "    <tr>\n",
       "      <th>2</th>\n",
       "      <td>Республика Адыгея</td>\n",
       "      <td>ЮФО</td>\n",
       "      <td>2021</td>\n",
       "      <td>Региональные и межрегиональные молодeжные форумы</td>\n",
       "      <td>57</td>\n",
       "      <td>6.000</td>\n",
       "      <td>900.000</td>\n",
       "      <td>343460.000</td>\n",
       "      <td>0.000</td>\n",
       "    </tr>\n",
       "  </tbody>\n",
       "</table>\n",
       "</div>"
      ],
      "text/plain": [
       "              Регион Округ   Год  \\\n",
       "0  Республика Адыгея   ЮФО  2021   \n",
       "1  Республика Адыгея   ЮФО  2021   \n",
       "2  Республика Адыгея   ЮФО  2021   \n",
       "\n",
       "                                       Наименование  № строки  \\\n",
       "0                   Всероссийские молодeжные форумы        55   \n",
       "1                        Окружные молодeжные форумы        56   \n",
       "2  Региональные и межрегиональные молодeжные форумы        57   \n",
       "\n",
       "   Количество форумов соответствующего уровня, прошедших на территории субъекта Рос  \\\n",
       "0                                              0.000                                  \n",
       "1                                              2.000                                  \n",
       "2                                              6.000                                  \n",
       "\n",
       "   Численность участников форумов соответствующего уровня, чел  \\\n",
       "0                                              0.000             \n",
       "1                                            300.000             \n",
       "2                                            900.000             \n",
       "\n",
       "   Объeм рег. финансирования (в том числе посредством финансирования транспортных и  \\\n",
       "0                                          54000.000                                  \n",
       "1                                              0.000                                  \n",
       "2                                         343460.000                                  \n",
       "\n",
       "   Объeм мун. финансирования (в том числе посредством финансирования транспортных и  \n",
       "0                                              0.000                                 \n",
       "1                                              0.000                                 \n",
       "2                                              0.000                                 "
      ]
     },
     "execution_count": 207,
     "metadata": {},
     "output_type": "execute_result"
    }
   ],
   "source": [
    "df_p6.head(3)"
   ]
  },
  {
   "cell_type": "code",
   "execution_count": 208,
   "id": "d64099c7",
   "metadata": {},
   "outputs": [],
   "source": [
    "idf = df_p6.interactive()"
   ]
  },
  {
   "cell_type": "code",
   "execution_count": 209,
   "id": "ca26ab19",
   "metadata": {
    "scrolled": true
   },
   "outputs": [],
   "source": [
    "iscatter_select = pn.widgets.Select(name='Выбор форума', options=list(df_p6['Наименование'].unique())[:4])"
   ]
  },
  {
   "cell_type": "code",
   "execution_count": 210,
   "id": "036c72e1",
   "metadata": {},
   "outputs": [],
   "source": [
    "# топ-10 по численности\n",
    "iscatter = idf[idf['Наименование'] == iscatter_select] \\\n",
    "            .groupby('Регион', as_index=True) \\\n",
    "            .agg({'Численность участников форумов соответствующего уровня, чел' : 'sum'}) \\\n",
    "            .rename(columns={'Численность участников форумов соответствующего уровня, чел' : 'Кол-во участников'}) \\\n",
    "            .sort_values('Кол-во участников', ascending=False) \\\n",
    "            .head(10)"
   ]
  },
  {
   "cell_type": "code",
   "execution_count": 211,
   "id": "fbef1c6a",
   "metadata": {},
   "outputs": [],
   "source": [
    "#hvplot.help('scatter', generic=False, style=False)"
   ]
  },
  {
   "cell_type": "code",
   "execution_count": 212,
   "id": "0da8266b",
   "metadata": {
    "scrolled": true
   },
   "outputs": [],
   "source": [
    "iscatter_plot = iscatter.hvplot.scatter(x='Регион', y='Кол-во участников', \n",
    "                  legend='top', height=800, width=1400, title=iscatter_select)"
   ]
  },
  {
   "cell_type": "code",
   "execution_count": 213,
   "id": "cf995e02",
   "metadata": {},
   "outputs": [
    {
     "data": {},
     "metadata": {},
     "output_type": "display_data"
    },
    {
     "data": {},
     "metadata": {},
     "output_type": "display_data"
    },
    {
     "data": {
      "application/vnd.holoviews_exec.v0+json": "",
      "text/html": [
       "<div id='2626'>\n",
       "  <div class=\"bk-root\" id=\"fb651c3c-3a6b-4e35-a700-cb71221f8669\" data-root-id=\"2626\"></div>\n",
       "</div>\n",
       "<script type=\"application/javascript\">(function(root) {\n",
       "  function embed_document(root) {\n",
       "    var docs_json = {\"9a449074-5292-49a5-8b3a-ccc57a1b21f3\":{\"defs\":[{\"extends\":null,\"module\":null,\"name\":\"ReactiveHTML1\",\"overrides\":[],\"properties\":[]},{\"extends\":null,\"module\":null,\"name\":\"FlexBox1\",\"overrides\":[],\"properties\":[{\"default\":\"flex-start\",\"kind\":null,\"name\":\"align_content\"},{\"default\":\"flex-start\",\"kind\":null,\"name\":\"align_items\"},{\"default\":\"row\",\"kind\":null,\"name\":\"flex_direction\"},{\"default\":\"wrap\",\"kind\":null,\"name\":\"flex_wrap\"},{\"default\":\"flex-start\",\"kind\":null,\"name\":\"justify_content\"}]},{\"extends\":null,\"module\":null,\"name\":\"GridStack1\",\"overrides\":[],\"properties\":[{\"default\":\"warn\",\"kind\":null,\"name\":\"mode\"},{\"default\":null,\"kind\":null,\"name\":\"ncols\"},{\"default\":null,\"kind\":null,\"name\":\"nrows\"},{\"default\":true,\"kind\":null,\"name\":\"allow_resize\"},{\"default\":true,\"kind\":null,\"name\":\"allow_drag\"},{\"default\":[],\"kind\":null,\"name\":\"state\"}]},{\"extends\":null,\"module\":null,\"name\":\"click1\",\"overrides\":[],\"properties\":[{\"default\":\"\",\"kind\":null,\"name\":\"terminal_output\"},{\"default\":\"\",\"kind\":null,\"name\":\"debug_name\"},{\"default\":0,\"kind\":null,\"name\":\"clears\"}]},{\"extends\":null,\"module\":null,\"name\":\"NotificationAreaBase1\",\"overrides\":[],\"properties\":[{\"default\":\"bottom-right\",\"kind\":null,\"name\":\"position\"},{\"default\":0,\"kind\":null,\"name\":\"_clear\"}]},{\"extends\":null,\"module\":null,\"name\":\"NotificationArea1\",\"overrides\":[],\"properties\":[{\"default\":[],\"kind\":null,\"name\":\"notifications\"},{\"default\":\"bottom-right\",\"kind\":null,\"name\":\"position\"},{\"default\":0,\"kind\":null,\"name\":\"_clear\"},{\"default\":[{\"background\":\"#ffc107\",\"icon\":{\"className\":\"fas fa-exclamation-triangle\",\"color\":\"white\",\"tagName\":\"i\"},\"type\":\"warning\"},{\"background\":\"#007bff\",\"icon\":{\"className\":\"fas fa-info-circle\",\"color\":\"white\",\"tagName\":\"i\"},\"type\":\"info\"}],\"kind\":null,\"name\":\"types\"}]},{\"extends\":null,\"module\":null,\"name\":\"Notification\",\"overrides\":[],\"properties\":[{\"default\":null,\"kind\":null,\"name\":\"background\"},{\"default\":3000,\"kind\":null,\"name\":\"duration\"},{\"default\":null,\"kind\":null,\"name\":\"icon\"},{\"default\":\"\",\"kind\":null,\"name\":\"message\"},{\"default\":null,\"kind\":null,\"name\":\"notification_type\"},{\"default\":false,\"kind\":null,\"name\":\"_destroyed\"}]},{\"extends\":null,\"module\":null,\"name\":\"TemplateActions1\",\"overrides\":[],\"properties\":[{\"default\":0,\"kind\":null,\"name\":\"open_modal\"},{\"default\":0,\"kind\":null,\"name\":\"close_modal\"}]},{\"extends\":null,\"module\":null,\"name\":\"MaterialTemplateActions1\",\"overrides\":[],\"properties\":[{\"default\":0,\"kind\":null,\"name\":\"open_modal\"},{\"default\":0,\"kind\":null,\"name\":\"close_modal\"}]}],\"roots\":{\"references\":[{\"attributes\":{\"axis\":{\"id\":\"2644\"},\"coordinates\":null,\"grid_line_color\":null,\"group\":null,\"ticker\":null},\"id\":\"2646\",\"type\":\"Grid\"},{\"attributes\":{\"bottom_units\":\"screen\",\"coordinates\":null,\"fill_alpha\":0.5,\"fill_color\":\"lightgrey\",\"group\":null,\"left_units\":\"screen\",\"level\":\"overlay\",\"line_alpha\":1.0,\"line_color\":\"black\",\"line_dash\":[4,4],\"line_width\":2,\"right_units\":\"screen\",\"syncable\":false,\"top_units\":\"screen\"},\"id\":\"2656\",\"type\":\"BoxAnnotation\"},{\"attributes\":{\"children\":[{\"id\":\"2628\"},{\"id\":\"2635\"}],\"margin\":[0,0,0,0],\"name\":\"Column09340\",\"sizing_mode\":\"stretch_width\"},\"id\":\"2627\",\"type\":\"Column\"},{\"attributes\":{},\"id\":\"2674\",\"type\":\"CategoricalTickFormatter\"},{\"attributes\":{},\"id\":\"2655\",\"type\":\"ResetTool\"},{\"attributes\":{},\"id\":\"2686\",\"type\":\"UnionRenderers\"},{\"attributes\":{\"data\":{\"\\u041a\\u043e\\u043b-\\u0432\\u043e \\u0443\\u0447\\u0430\\u0441\\u0442\\u043d\\u0438\\u043a\\u043e\\u0432\":{\"__ndarray__\":\"AAAAAABkyUAAAAAAANu8QAAAAAAANblAAAAAAACysEAAAAAAAFCmQAAAAAAAiKNAAAAAAAAAmUAAAAAAAEiSQAAAAAAArJBAAAAAAABAj0A=\",\"dtype\":\"float64\",\"order\":\"little\",\"shape\":[10]},\"\\u041a\\u043e\\u043b_hyphen_minus_\\u0432\\u043e_\\u0443\\u0447\\u0430\\u0441\\u0442\\u043d\\u0438\\u043a\\u043e\\u0432\":{\"__ndarray__\":\"AAAAAABkyUAAAAAAANu8QAAAAAAANblAAAAAAACysEAAAAAAAFCmQAAAAAAAiKNAAAAAAAAAmUAAAAAAAEiSQAAAAAAArJBAAAAAAABAj0A=\",\"dtype\":\"float64\",\"order\":\"little\",\"shape\":[10]},\"\\u0420\\u0435\\u0433\\u0438\\u043e\\u043d\":[\"\\u0412\\u043e\\u0440\\u043e\\u043d\\u0435\\u0436\\u0441\\u043a\\u0430\\u044f \\u043e\\u0431\\u043b\\u0430\\u0441\\u0442\\u044c\",\"\\u0421\\u0430\\u043d\\u043a\\u0442-\\u041f\\u0435\\u0442\\u0435\\u0440\\u0431\\u0443\\u0440\\u0433\",\"\\u0421\\u0430\\u043c\\u0430\\u0440\\u0441\\u043a\\u0430\\u044f \\u043e\\u0431\\u043b\\u0430\\u0441\\u0442\\u044c\",\"\\u0420\\u0435\\u0441\\u043f\\u0443\\u0431\\u043b\\u0438\\u043a\\u0430 \\u041a\\u0440\\u044b\\u043c\",\"\\u0420\\u0435\\u0441\\u043f\\u0443\\u0431\\u043b\\u0438\\u043a\\u0430 \\u0422\\u0430\\u0442\\u0430\\u0440\\u0441\\u0442\\u0430\\u043d\",\"\\u0420\\u0435\\u0441\\u043f\\u0443\\u0431\\u043b\\u0438\\u043a\\u0430 \\u0418\\u043d\\u0433\\u0443\\u0448\\u0435\\u0442\\u0438\\u044f\",\"\\u0423\\u043b\\u044c\\u044f\\u043d\\u043e\\u0432\\u0441\\u043a\\u0430\\u044f \\u043e\\u0431\\u043b\\u0430\\u0441\\u0442\\u044c\",\"\\u0420\\u0435\\u0441\\u043f\\u0443\\u0431\\u043b\\u0438\\u043a\\u0430 \\u0414\\u0430\\u0433\\u0435\\u0441\\u0442\\u0430\\u043d\",\"\\u042f\\u0440\\u043e\\u0441\\u043b\\u0430\\u0432\\u0441\\u043a\\u0430\\u044f \\u043e\\u0431\\u043b\\u0430\\u0441\\u0442\\u044c\",\"\\u0422\\u043e\\u043c\\u0441\\u043a\\u0430\\u044f \\u043e\\u0431\\u043b\\u0430\\u0441\\u0442\\u044c\"]},\"selected\":{\"id\":\"2665\"},\"selection_policy\":{\"id\":\"2686\"}},\"id\":\"2664\",\"type\":\"ColumnDataSource\"},{\"attributes\":{\"client_comm_id\":\"eed7d1567c184955a5dd79bd2b512f24\",\"comm_id\":\"f2863fac30444d699fb17566374a3df1\",\"plot_id\":\"2626\"},\"id\":\"2719\",\"type\":\"panel.models.comm_manager.CommManager\"},{\"attributes\":{\"children\":[{\"id\":\"2629\"},{\"id\":\"2631\"}],\"margin\":[0,0,0,0],\"name\":\"Row09334\",\"sizing_mode\":\"stretch_width\"},\"id\":\"2628\",\"type\":\"Row\"},{\"attributes\":{\"margin\":[5,5,5,5],\"name\":\"HSpacer09333\",\"sizing_mode\":\"stretch_width\"},\"id\":\"2631\",\"type\":\"Spacer\"},{\"attributes\":{\"overlay\":{\"id\":\"2656\"}},\"id\":\"2654\",\"type\":\"BoxZoomTool\"},{\"attributes\":{\"axis_label\":\"\\u0420\\u0435\\u0433\\u0438\\u043e\\u043d\",\"coordinates\":null,\"formatter\":{\"id\":\"2674\"},\"group\":null,\"major_label_policy\":{\"id\":\"2675\"},\"ticker\":{\"id\":\"2645\"}},\"id\":\"2644\",\"type\":\"CategoricalAxis\"},{\"attributes\":{\"coordinates\":null,\"data_source\":{\"id\":\"2664\"},\"glyph\":{\"id\":\"2667\"},\"group\":null,\"hover_glyph\":null,\"muted_glyph\":{\"id\":\"2669\"},\"nonselection_glyph\":{\"id\":\"2668\"},\"selection_glyph\":{\"id\":\"2672\"},\"view\":{\"id\":\"2671\"}},\"id\":\"2670\",\"type\":\"GlyphRenderer\"},{\"attributes\":{\"children\":[{\"id\":\"2627\"}],\"margin\":[0,0,0,0],\"name\":\"Row09341\",\"sizing_mode\":\"stretch_width\"},\"id\":\"2626\",\"type\":\"Row\"},{\"attributes\":{\"source\":{\"id\":\"2664\"}},\"id\":\"2671\",\"type\":\"CDSView\"},{\"attributes\":{\"fill_alpha\":{\"value\":0.1},\"fill_color\":{\"value\":\"#30a2da\"},\"hatch_alpha\":{\"value\":0.1},\"hatch_color\":{\"value\":\"#30a2da\"},\"line_alpha\":{\"value\":0.1},\"line_color\":{\"value\":\"#30a2da\"},\"size\":{\"value\":5.477225575051661},\"x\":{\"field\":\"\\u0420\\u0435\\u0433\\u0438\\u043e\\u043d\"},\"y\":{\"field\":\"\\u041a\\u043e\\u043b-\\u0432\\u043e \\u0443\\u0447\\u0430\\u0441\\u0442\\u043d\\u0438\\u043a\\u043e\\u0432\"}},\"id\":\"2668\",\"type\":\"Scatter\"},{\"attributes\":{\"fill_color\":{\"value\":\"#30a2da\"},\"hatch_color\":{\"value\":\"#30a2da\"},\"line_color\":{\"value\":\"#30a2da\"},\"size\":{\"value\":5.477225575051661},\"x\":{\"field\":\"\\u0420\\u0435\\u0433\\u0438\\u043e\\u043d\"},\"y\":{\"field\":\"\\u041a\\u043e\\u043b-\\u0432\\u043e \\u0443\\u0447\\u0430\\u0441\\u0442\\u043d\\u0438\\u043a\\u043e\\u0432\"}},\"id\":\"2667\",\"type\":\"Scatter\"},{\"attributes\":{\"fill_alpha\":{\"value\":0.2},\"fill_color\":{\"value\":\"#30a2da\"},\"hatch_alpha\":{\"value\":0.2},\"hatch_color\":{\"value\":\"#30a2da\"},\"line_alpha\":{\"value\":0.2},\"line_color\":{\"value\":\"#30a2da\"},\"size\":{\"value\":5.477225575051661},\"x\":{\"field\":\"\\u0420\\u0435\\u0433\\u0438\\u043e\\u043d\"},\"y\":{\"field\":\"\\u041a\\u043e\\u043b-\\u0432\\u043e \\u0443\\u0447\\u0430\\u0441\\u0442\\u043d\\u0438\\u043a\\u043e\\u0432\"}},\"id\":\"2669\",\"type\":\"Scatter\"},{\"attributes\":{\"below\":[{\"id\":\"2644\"}],\"center\":[{\"id\":\"2646\"},{\"id\":\"2650\"}],\"height\":800,\"left\":[{\"id\":\"2647\"}],\"margin\":[5,5,5,5],\"min_border_bottom\":10,\"min_border_left\":10,\"min_border_right\":10,\"min_border_top\":10,\"renderers\":[{\"id\":\"2670\"}],\"sizing_mode\":\"fixed\",\"title\":{\"id\":\"2636\"},\"toolbar\":{\"id\":\"2657\"},\"width\":1400,\"x_range\":{\"id\":\"2632\"},\"x_scale\":{\"id\":\"2640\"},\"y_range\":{\"id\":\"2633\"},\"y_scale\":{\"id\":\"2642\"}},\"id\":\"2635\",\"subtype\":\"Figure\",\"type\":\"Plot\"},{\"attributes\":{\"factors\":[\"\\u0412\\u043e\\u0440\\u043e\\u043d\\u0435\\u0436\\u0441\\u043a\\u0430\\u044f \\u043e\\u0431\\u043b\\u0430\\u0441\\u0442\\u044c\",\"\\u0421\\u0430\\u043d\\u043a\\u0442-\\u041f\\u0435\\u0442\\u0435\\u0440\\u0431\\u0443\\u0440\\u0433\",\"\\u0421\\u0430\\u043c\\u0430\\u0440\\u0441\\u043a\\u0430\\u044f \\u043e\\u0431\\u043b\\u0430\\u0441\\u0442\\u044c\",\"\\u0420\\u0435\\u0441\\u043f\\u0443\\u0431\\u043b\\u0438\\u043a\\u0430 \\u041a\\u0440\\u044b\\u043c\",\"\\u0420\\u0435\\u0441\\u043f\\u0443\\u0431\\u043b\\u0438\\u043a\\u0430 \\u0422\\u0430\\u0442\\u0430\\u0440\\u0441\\u0442\\u0430\\u043d\",\"\\u0420\\u0435\\u0441\\u043f\\u0443\\u0431\\u043b\\u0438\\u043a\\u0430 \\u0418\\u043d\\u0433\\u0443\\u0448\\u0435\\u0442\\u0438\\u044f\",\"\\u0423\\u043b\\u044c\\u044f\\u043d\\u043e\\u0432\\u0441\\u043a\\u0430\\u044f \\u043e\\u0431\\u043b\\u0430\\u0441\\u0442\\u044c\",\"\\u0420\\u0435\\u0441\\u043f\\u0443\\u0431\\u043b\\u0438\\u043a\\u0430 \\u0414\\u0430\\u0433\\u0435\\u0441\\u0442\\u0430\\u043d\",\"\\u042f\\u0440\\u043e\\u0441\\u043b\\u0430\\u0432\\u0441\\u043a\\u0430\\u044f \\u043e\\u0431\\u043b\\u0430\\u0441\\u0442\\u044c\",\"\\u0422\\u043e\\u043c\\u0441\\u043a\\u0430\\u044f \\u043e\\u0431\\u043b\\u0430\\u0441\\u0442\\u044c\"],\"tags\":[[[\"\\u0420\\u0435\\u0433\\u0438\\u043e\\u043d\",\"\\u0420\\u0435\\u0433\\u0438\\u043e\\u043d\",null]]]},\"id\":\"2632\",\"type\":\"FactorRange\"},{\"attributes\":{},\"id\":\"2678\",\"type\":\"AllLabels\"},{\"attributes\":{\"margin\":[5,10,5,10],\"options\":[\"\\u0412\\u0441\\u0435\\u0440\\u043e\\u0441\\u0441\\u0438\\u0439\\u0441\\u043a\\u0438\\u0435 \\u043c\\u043e\\u043b\\u043e\\u0434e\\u0436\\u043d\\u044b\\u0435 \\u0444\\u043e\\u0440\\u0443\\u043c\\u044b\",\"\\u041e\\u043a\\u0440\\u0443\\u0436\\u043d\\u044b\\u0435 \\u043c\\u043e\\u043b\\u043e\\u0434e\\u0436\\u043d\\u044b\\u0435 \\u0444\\u043e\\u0440\\u0443\\u043c\\u044b\",\"\\u0420\\u0435\\u0433\\u0438\\u043e\\u043d\\u0430\\u043b\\u044c\\u043d\\u044b\\u0435 \\u0438 \\u043c\\u0435\\u0436\\u0440\\u0435\\u0433\\u0438\\u043e\\u043d\\u0430\\u043b\\u044c\\u043d\\u044b\\u0435 \\u043c\\u043e\\u043b\\u043e\\u0434e\\u0436\\u043d\\u044b\\u0435 \\u0444\\u043e\\u0440\\u0443\\u043c\\u044b\",\"\\u041c\\u0443\\u043d\\u0438\\u0446\\u0438\\u043f\\u0430\\u043b\\u044c\\u043d\\u044b\\u0435 \\u0438 \\u043c\\u0435\\u0436\\u043c\\u0443\\u043d\\u0438\\u0446\\u0438\\u043f\\u0430\\u043b\\u044c\\u043d\\u044b\\u0435 \\u043c\\u043e\\u043b\\u043e\\u0434e\\u0436\\u043d\\u044b\\u0435 \\u0444\\u043e\\u0440\\u0443\\u043c\\u044b\"],\"sizing_mode\":\"stretch_width\",\"title\":\"\\u0412\\u044b\\u0431\\u043e\\u0440 \\u0444\\u043e\\u0440\\u0443\\u043c\\u0430\",\"value\":\"\\u0412\\u0441\\u0435\\u0440\\u043e\\u0441\\u0441\\u0438\\u0439\\u0441\\u043a\\u0438\\u0435 \\u043c\\u043e\\u043b\\u043e\\u0434e\\u0436\\u043d\\u044b\\u0435 \\u0444\\u043e\\u0440\\u0443\\u043c\\u044b\"},\"id\":\"2630\",\"type\":\"panel.models.widgets.CustomSelect\"},{\"attributes\":{},\"id\":\"2645\",\"type\":\"CategoricalTicker\"},{\"attributes\":{\"axis\":{\"id\":\"2647\"},\"coordinates\":null,\"dimension\":1,\"grid_line_color\":null,\"group\":null,\"ticker\":null},\"id\":\"2650\",\"type\":\"Grid\"},{\"attributes\":{},\"id\":\"2677\",\"type\":\"BasicTickFormatter\"},{\"attributes\":{},\"id\":\"2665\",\"type\":\"Selection\"},{\"attributes\":{\"children\":[{\"id\":\"2630\"}],\"margin\":[0,0,0,0],\"name\":\"Column09329\",\"sizing_mode\":\"stretch_width\"},\"id\":\"2629\",\"type\":\"Column\"},{\"attributes\":{},\"id\":\"2653\",\"type\":\"WheelZoomTool\"},{\"attributes\":{\"tools\":[{\"id\":\"2634\"},{\"id\":\"2651\"},{\"id\":\"2652\"},{\"id\":\"2653\"},{\"id\":\"2654\"},{\"id\":\"2655\"}]},\"id\":\"2657\",\"type\":\"Toolbar\"},{\"attributes\":{\"end\":14200.0,\"reset_end\":14200.0,\"reset_start\":-200.0,\"start\":-200.0,\"tags\":[[[\"\\u041a\\u043e\\u043b-\\u0432\\u043e \\u0443\\u0447\\u0430\\u0441\\u0442\\u043d\\u0438\\u043a\\u043e\\u0432\",\"\\u041a\\u043e\\u043b-\\u0432\\u043e \\u0443\\u0447\\u0430\\u0441\\u0442\\u043d\\u0438\\u043a\\u043e\\u0432\",null]]]},\"id\":\"2633\",\"type\":\"Range1d\"},{\"attributes\":{\"axis_label\":\"\\u041a\\u043e\\u043b-\\u0432\\u043e \\u0443\\u0447\\u0430\\u0441\\u0442\\u043d\\u0438\\u043a\\u043e\\u0432\",\"coordinates\":null,\"formatter\":{\"id\":\"2677\"},\"group\":null,\"major_label_policy\":{\"id\":\"2678\"},\"ticker\":{\"id\":\"2648\"}},\"id\":\"2647\",\"type\":\"LinearAxis\"},{\"attributes\":{\"coordinates\":null,\"group\":null,\"text\":\"\\u0412\\u0441\\u0435\\u0440\\u043e\\u0441\\u0441\\u0438\\u0439\\u0441\\u043a\\u0438\\u0435 \\u043c\\u043e\\u043b\\u043e\\u0434e\\u0436\\u043d\\u044b\\u0435 \\u0444\\u043e\\u0440\\u0443\\u043c\\u044b\",\"text_color\":\"black\",\"text_font_size\":\"12pt\"},\"id\":\"2636\",\"type\":\"Title\"},{\"attributes\":{\"callback\":null,\"renderers\":[{\"id\":\"2670\"}],\"tags\":[\"hv_created\"],\"tooltips\":[[\"\\u0420\\u0435\\u0433\\u0438\\u043e\\u043d\",\"@{\\u0420\\u0435\\u0433\\u0438\\u043e\\u043d}\"],[\"\\u041a\\u043e\\u043b-\\u0432\\u043e \\u0443\\u0447\\u0430\\u0441\\u0442\\u043d\\u0438\\u043a\\u043e\\u0432\",\"@{\\u041a\\u043e\\u043b_hyphen_minus_\\u0432\\u043e_\\u0443\\u0447\\u0430\\u0441\\u0442\\u043d\\u0438\\u043a\\u043e\\u0432}\"]]},\"id\":\"2634\",\"type\":\"HoverTool\"},{\"attributes\":{},\"id\":\"2642\",\"type\":\"LinearScale\"},{\"attributes\":{},\"id\":\"2640\",\"type\":\"CategoricalScale\"},{\"attributes\":{},\"id\":\"2651\",\"type\":\"SaveTool\"},{\"attributes\":{},\"id\":\"2675\",\"type\":\"AllLabels\"},{\"attributes\":{},\"id\":\"2648\",\"type\":\"BasicTicker\"},{\"attributes\":{\"angle\":{\"value\":0.0},\"fill_alpha\":{\"value\":1.0},\"fill_color\":{\"value\":\"#30a2da\"},\"hatch_alpha\":{\"value\":1.0},\"hatch_color\":{\"value\":\"#30a2da\"},\"hatch_scale\":{\"value\":12.0},\"hatch_weight\":{\"value\":1.0},\"line_alpha\":{\"value\":1.0},\"line_cap\":{\"value\":\"butt\"},\"line_color\":{\"value\":\"#30a2da\"},\"line_dash\":{\"value\":[]},\"line_dash_offset\":{\"value\":0},\"line_join\":{\"value\":\"bevel\"},\"line_width\":{\"value\":1},\"marker\":{\"value\":\"circle\"},\"size\":{\"value\":5.477225575051661},\"x\":{\"field\":\"\\u0420\\u0435\\u0433\\u0438\\u043e\\u043d\"},\"y\":{\"field\":\"\\u041a\\u043e\\u043b-\\u0432\\u043e \\u0443\\u0447\\u0430\\u0441\\u0442\\u043d\\u0438\\u043a\\u043e\\u0432\"}},\"id\":\"2672\",\"type\":\"Scatter\"},{\"attributes\":{},\"id\":\"2652\",\"type\":\"PanTool\"}],\"root_ids\":[\"2626\",\"2719\"]},\"title\":\"Bokeh Application\",\"version\":\"2.4.3\"}};\n",
       "    var render_items = [{\"docid\":\"9a449074-5292-49a5-8b3a-ccc57a1b21f3\",\"root_ids\":[\"2626\"],\"roots\":{\"2626\":\"fb651c3c-3a6b-4e35-a700-cb71221f8669\"}}];\n",
       "    root.Bokeh.embed.embed_items_notebook(docs_json, render_items);\n",
       "    for (const render_item of render_items) {\n",
       "      for (const root_id of render_item.root_ids) {\n",
       "\tconst id_el = document.getElementById(root_id)\n",
       "\tif (id_el.children.length && (id_el.children[0].className === 'bk-root')) {\n",
       "\t  const root_el = id_el.children[0]\n",
       "\t  root_el.id = root_el.id + '-rendered'\n",
       "\t}\n",
       "      }\n",
       "    }\n",
       "  }\n",
       "  if (root.Bokeh !== undefined && root.Bokeh.Panel !== undefined && ( root['Tabulator'] !== undefined) && ( root['Tabulator'] !== undefined) && ( root['Tabulator'] !== undefined)) {\n",
       "    embed_document(root);\n",
       "  } else {\n",
       "    var attempts = 0;\n",
       "    var timer = setInterval(function(root) {\n",
       "      if (root.Bokeh !== undefined && root.Bokeh.Panel !== undefined && (root['Tabulator'] !== undefined) && (root['Tabulator'] !== undefined) && (root['Tabulator'] !== undefined)) {\n",
       "        clearInterval(timer);\n",
       "        embed_document(root);\n",
       "      } else if (document.readyState == \"complete\") {\n",
       "        attempts++;\n",
       "        if (attempts > 200) {\n",
       "          clearInterval(timer);\n",
       "          console.log(\"Bokeh: ERROR: Unable to run BokehJS code because BokehJS library is missing\");\n",
       "        }\n",
       "      }\n",
       "    }, 25, root)\n",
       "  }\n",
       "})(window);</script>"
      ],
      "text/plain": [
       "<hvplot.interactive.Interactive at 0x7fb80f3032b0>"
      ]
     },
     "execution_count": 213,
     "metadata": {
      "application/vnd.holoviews_exec.v0+json": {
       "id": "2626"
      }
     },
     "output_type": "execute_result"
    }
   ],
   "source": [
    "iscatter_plot"
   ]
  },
  {
   "cell_type": "code",
   "execution_count": null,
   "id": "5db64786",
   "metadata": {},
   "outputs": [],
   "source": []
  },
  {
   "cell_type": "code",
   "execution_count": null,
   "id": "568375ab",
   "metadata": {},
   "outputs": [],
   "source": []
  },
  {
   "cell_type": "markdown",
   "id": "6210c10d",
   "metadata": {},
   "source": [
    "# Models catboost"
   ]
  },
  {
   "cell_type": "code",
   "execution_count": 225,
   "id": "9c9a9a65",
   "metadata": {},
   "outputs": [],
   "source": [
    "P1 = form_m1['Р1']"
   ]
  },
  {
   "cell_type": "code",
   "execution_count": 227,
   "id": "24d3ed3c",
   "metadata": {},
   "outputs": [],
   "source": [
    "P1 = P1.drop('Unnamed: 11', axis=1)"
   ]
  },
  {
   "cell_type": "code",
   "execution_count": 228,
   "id": "00a4c1ed",
   "metadata": {},
   "outputs": [],
   "source": [
    "P1 = P1.drop('Unnamed: 12', axis=1)"
   ]
  },
  {
   "cell_type": "code",
   "execution_count": 229,
   "id": "3ba2bd5b",
   "metadata": {},
   "outputs": [],
   "source": [
    "P1 = P1.drop('№ строки', axis=1)"
   ]
  },
  {
   "cell_type": "code",
   "execution_count": 230,
   "id": "6a91d7fd",
   "metadata": {},
   "outputs": [],
   "source": [
    "df = P1"
   ]
  },
  {
   "cell_type": "code",
   "execution_count": 231,
   "id": "b7c561b4",
   "metadata": {},
   "outputs": [],
   "source": [
    "df = df.fillna(0)"
   ]
  },
  {
   "cell_type": "code",
   "execution_count": 232,
   "id": "60d7b9d5",
   "metadata": {},
   "outputs": [
    {
     "data": {
      "text/plain": [
       "['Регион',\n",
       " 'Округ',\n",
       " 'Направления реализации государственной молодeжной политики']"
      ]
     },
     "execution_count": 232,
     "metadata": {},
     "output_type": "execute_result"
    }
   ],
   "source": [
    "cat_features = df.select_dtypes(include=['object']).columns.tolist()\n",
    "cat_features"
   ]
  },
  {
   "cell_type": "markdown",
   "id": "7281830d",
   "metadata": {},
   "source": [
    "### Преобразованиие данных в X и y"
   ]
  },
  {
   "cell_type": "code",
   "execution_count": 234,
   "id": "e9d707ce",
   "metadata": {},
   "outputs": [],
   "source": [
    "X = df.drop(['Количество детских и молодeжных общественных объединений, работающих по данному '], axis=1)\n",
    "y_regression = df['Количество детских и молодeжных общественных объединений, работающих по данному ']"
   ]
  },
  {
   "cell_type": "markdown",
   "id": "1e2213b9",
   "metadata": {},
   "source": [
    "## Обучение и тестирование моделей"
   ]
  },
  {
   "cell_type": "code",
   "execution_count": 236,
   "id": "aeffaa55",
   "metadata": {},
   "outputs": [],
   "source": [
    "from sklearn.model_selection import train_test_split"
   ]
  },
  {
   "cell_type": "code",
   "execution_count": 237,
   "id": "9247c7e2",
   "metadata": {},
   "outputs": [],
   "source": [
    "import datetime\n",
    "import pandas as pd\n",
    "import numpy as np\n",
    "\n",
    "import matplotlib.pyplot as plt\n",
    "import seaborn as sns\n",
    "import plotly.express as px\n",
    "\n",
    "from catboost import CatBoostRegressor, CatBoostClassifier\n",
    "\n",
    "from sklearn.model_selection import *\n",
    "from sklearn.metrics import *\n",
    "\n",
    "pd.options.display.float_format = \"{:.1f}\".format\n",
    "sns.set_style(\"whitegrid\")\n",
    "plt.style.use(\"fivethirtyeight\") \n",
    "\n",
    "import warnings\n",
    "warnings.filterwarnings(\"ignore\")"
   ]
  },
  {
   "cell_type": "markdown",
   "id": "231b18ad",
   "metadata": {},
   "source": [
    "### Подход №1: Регрессия"
   ]
  },
  {
   "cell_type": "code",
   "execution_count": 239,
   "id": "de665a84",
   "metadata": {},
   "outputs": [],
   "source": [
    "X_train, X_val, y_train, y_val = train_test_split(X, y_regression, test_size=0.2, random_state=42)"
   ]
  },
  {
   "cell_type": "code",
   "execution_count": 240,
   "id": "062623cb",
   "metadata": {},
   "outputs": [
    {
     "name": "stdout",
     "output_type": "stream",
     "text": [
      "Learning rate set to 0.056018\n",
      "0:\tlearn: 929.6415169\ttest: 879.2215631\tbest: 879.2215631 (0)\ttotal: 59.3ms\tremaining: 59.3s\n",
      "100:\tlearn: 714.1821584\ttest: 863.8938694\tbest: 862.7996070 (74)\ttotal: 355ms\tremaining: 3.16s\n",
      "200:\tlearn: 568.9023986\ttest: 867.0724713\tbest: 862.5310868 (120)\ttotal: 571ms\tremaining: 2.27s\n",
      "300:\tlearn: 415.9822076\ttest: 870.6408400\tbest: 862.5310868 (120)\ttotal: 759ms\tremaining: 1.76s\n",
      "400:\tlearn: 348.2948774\ttest: 874.6994197\tbest: 862.5310868 (120)\ttotal: 938ms\tremaining: 1.4s\n",
      "500:\tlearn: 306.8356715\ttest: 878.6161781\tbest: 862.5310868 (120)\ttotal: 1.11s\tremaining: 1.11s\n",
      "600:\tlearn: 260.9969871\ttest: 888.8254703\tbest: 862.5310868 (120)\ttotal: 1.3s\tremaining: 861ms\n",
      "700:\tlearn: 241.9164157\ttest: 892.3683514\tbest: 862.5310868 (120)\ttotal: 1.49s\tremaining: 634ms\n",
      "800:\tlearn: 218.5141038\ttest: 897.0638050\tbest: 862.5310868 (120)\ttotal: 1.67s\tremaining: 416ms\n",
      "900:\tlearn: 205.5294980\ttest: 898.4634617\tbest: 862.5310868 (120)\ttotal: 1.85s\tremaining: 204ms\n",
      "999:\tlearn: 192.5334682\ttest: 899.0694957\tbest: 862.5310868 (120)\ttotal: 2.04s\tremaining: 0us\n",
      "\n",
      "bestTest = 862.5310868\n",
      "bestIteration = 120\n",
      "\n",
      "Shrink model to first 121 iterations.\n"
     ]
    },
    {
     "data": {
      "text/plain": [
       "<catboost.core.CatBoostRegressor at 0x7fb80f346e60>"
      ]
     },
     "execution_count": 240,
     "metadata": {},
     "output_type": "execute_result"
    }
   ],
   "source": [
    "model_regression = CatBoostRegressor(\n",
    "    verbose=100,\n",
    "    cat_features=cat_features\n",
    ")\n",
    "\n",
    "model_regression.fit(X_train, y_train, eval_set=(X_val, y_val))"
   ]
  },
  {
   "cell_type": "code",
   "execution_count": 241,
   "id": "9af66bd5",
   "metadata": {},
   "outputs": [],
   "source": [
    "preds_test_regression = model_regression.predict(X_val[model_regression.feature_names_])"
   ]
  },
  {
   "cell_type": "markdown",
   "id": "201f44e0",
   "metadata": {},
   "source": [
    "# feature_importance"
   ]
  },
  {
   "cell_type": "code",
   "execution_count": 243,
   "id": "60b979d9",
   "metadata": {
    "scrolled": true
   },
   "outputs": [
    {
     "data": {
      "text/plain": [
       "Text(0.5, 1.0, 'Feature Importance')"
      ]
     },
     "execution_count": 243,
     "metadata": {},
     "output_type": "execute_result"
    },
    {
     "data": {
      "image/png": "[encoded data removed]",
      "text/plain": [
       "<Figure size 1200x600 with 1 Axes>"
      ]
     },
     "metadata": {},
     "output_type": "display_data"
    }
   ],
   "source": [
    "feature_importance = model_regression.feature_importances_\n",
    "sorted_idx = np.argsort(feature_importance)\n",
    "fig = plt.figure(figsize=(12, 6))\n",
    "plt.barh(range(len(sorted_idx)), feature_importance[sorted_idx], align='center')\n",
    "plt.yticks(range(len(sorted_idx)), np.array(X_val.columns)[sorted_idx])\n",
    "plt.title('Feature Importance')"
   ]
  },
  {
   "cell_type": "markdown",
   "id": "5701fbfa",
   "metadata": {},
   "source": [
    "# Анализ"
   ]
  },
  {
   "cell_type": "code",
   "execution_count": 246,
   "id": "10a8e8b2",
   "metadata": {},
   "outputs": [
    {
     "data": {
      "text/html": [
       "<div>\n",
       "<style scoped>\n",
       "    .dataframe tbody tr th:only-of-type {\n",
       "        vertical-align: middle;\n",
       "    }\n",
       "\n",
       "    .dataframe tbody tr th {\n",
       "        vertical-align: top;\n",
       "    }\n",
       "\n",
       "    .dataframe thead th {\n",
       "        text-align: right;\n",
       "    }\n",
       "</style>\n",
       "<table border=\"1\" class=\"dataframe\">\n",
       "  <thead>\n",
       "    <tr style=\"text-align: right;\">\n",
       "      <th></th>\n",
       "      <th>Год</th>\n",
       "      <th>Бюджет СРФ, руб</th>\n",
       "      <th>Бюджет МО, руб</th>\n",
       "      <th>Кол-во грантов</th>\n",
       "      <th>Бюджет грантов, руб</th>\n",
       "      <th>Численность молодeжи, задействованной в программных мероприятиях по направлению</th>\n",
       "      <th>Количество детских и молодeжных общественных объединений, работающих по данному</th>\n",
       "    </tr>\n",
       "  </thead>\n",
       "  <tbody>\n",
       "    <tr>\n",
       "      <th>Год</th>\n",
       "      <td>NaN</td>\n",
       "      <td>NaN</td>\n",
       "      <td>NaN</td>\n",
       "      <td>NaN</td>\n",
       "      <td>NaN</td>\n",
       "      <td>NaN</td>\n",
       "      <td>NaN</td>\n",
       "    </tr>\n",
       "    <tr>\n",
       "      <th>Бюджет СРФ, руб</th>\n",
       "      <td>NaN</td>\n",
       "      <td>1.0</td>\n",
       "      <td>0.1</td>\n",
       "      <td>0.0</td>\n",
       "      <td>0.1</td>\n",
       "      <td>0.2</td>\n",
       "      <td>0.0</td>\n",
       "    </tr>\n",
       "    <tr>\n",
       "      <th>Бюджет МО, руб</th>\n",
       "      <td>NaN</td>\n",
       "      <td>0.1</td>\n",
       "      <td>1.0</td>\n",
       "      <td>0.0</td>\n",
       "      <td>0.0</td>\n",
       "      <td>0.3</td>\n",
       "      <td>0.1</td>\n",
       "    </tr>\n",
       "    <tr>\n",
       "      <th>Кол-во грантов</th>\n",
       "      <td>NaN</td>\n",
       "      <td>0.0</td>\n",
       "      <td>0.0</td>\n",
       "      <td>1.0</td>\n",
       "      <td>0.1</td>\n",
       "      <td>0.0</td>\n",
       "      <td>0.0</td>\n",
       "    </tr>\n",
       "    <tr>\n",
       "      <th>Бюджет грантов, руб</th>\n",
       "      <td>NaN</td>\n",
       "      <td>0.1</td>\n",
       "      <td>0.0</td>\n",
       "      <td>0.1</td>\n",
       "      <td>1.0</td>\n",
       "      <td>0.1</td>\n",
       "      <td>0.0</td>\n",
       "    </tr>\n",
       "    <tr>\n",
       "      <th>Численность молодeжи, задействованной в программных мероприятиях по направлению</th>\n",
       "      <td>NaN</td>\n",
       "      <td>0.2</td>\n",
       "      <td>0.3</td>\n",
       "      <td>0.0</td>\n",
       "      <td>0.1</td>\n",
       "      <td>1.0</td>\n",
       "      <td>0.1</td>\n",
       "    </tr>\n",
       "    <tr>\n",
       "      <th>Количество детских и молодeжных общественных объединений, работающих по данному</th>\n",
       "      <td>NaN</td>\n",
       "      <td>0.0</td>\n",
       "      <td>0.1</td>\n",
       "      <td>0.0</td>\n",
       "      <td>0.0</td>\n",
       "      <td>0.1</td>\n",
       "      <td>1.0</td>\n",
       "    </tr>\n",
       "  </tbody>\n",
       "</table>\n",
       "</div>"
      ],
      "text/plain": [
       "                                                    Год  Бюджет СРФ, руб  \\\n",
       "Год                                                 NaN              NaN   \n",
       "Бюджет СРФ, руб                                     NaN              1.0   \n",
       "Бюджет МО, руб                                      NaN              0.1   \n",
       "Кол-во грантов                                      NaN              0.0   \n",
       "Бюджет грантов, руб                                 NaN              0.1   \n",
       "Численность молодeжи, задействованной в програм...  NaN              0.2   \n",
       "Количество детских и молодeжных общественных об...  NaN              0.0   \n",
       "\n",
       "                                                    Бюджет МО, руб  \\\n",
       "Год                                                            NaN   \n",
       "Бюджет СРФ, руб                                                0.1   \n",
       "Бюджет МО, руб                                                 1.0   \n",
       "Кол-во грантов                                                 0.0   \n",
       "Бюджет грантов, руб                                            0.0   \n",
       "Численность молодeжи, задействованной в програм...             0.3   \n",
       "Количество детских и молодeжных общественных об...             0.1   \n",
       "\n",
       "                                                    Кол-во грантов  \\\n",
       "Год                                                            NaN   \n",
       "Бюджет СРФ, руб                                                0.0   \n",
       "Бюджет МО, руб                                                 0.0   \n",
       "Кол-во грантов                                                 1.0   \n",
       "Бюджет грантов, руб                                            0.1   \n",
       "Численность молодeжи, задействованной в програм...             0.0   \n",
       "Количество детских и молодeжных общественных об...             0.0   \n",
       "\n",
       "                                                    Бюджет грантов, руб  \\\n",
       "Год                                                                 NaN   \n",
       "Бюджет СРФ, руб                                                     0.1   \n",
       "Бюджет МО, руб                                                      0.0   \n",
       "Кол-во грантов                                                      0.1   \n",
       "Бюджет грантов, руб                                                 1.0   \n",
       "Численность молодeжи, задействованной в програм...                  0.1   \n",
       "Количество детских и молодeжных общественных об...                  0.0   \n",
       "\n",
       "                                                    Численность молодeжи, задействованной в программных мероприятиях по направлению  \\\n",
       "Год                                                                                               NaN                                 \n",
       "Бюджет СРФ, руб                                                                                   0.2                                 \n",
       "Бюджет МО, руб                                                                                    0.3                                 \n",
       "Кол-во грантов                                                                                    0.0                                 \n",
       "Бюджет грантов, руб                                                                               0.1                                 \n",
       "Численность молодeжи, задействованной в програм...                                                1.0                                 \n",
       "Количество детских и молодeжных общественных об...                                                0.1                                 \n",
       "\n",
       "                                                    Количество детских и молодeжных общественных объединений, работающих по данному   \n",
       "Год                                                                                               NaN                                 \n",
       "Бюджет СРФ, руб                                                                                   0.0                                 \n",
       "Бюджет МО, руб                                                                                    0.1                                 \n",
       "Кол-во грантов                                                                                    0.0                                 \n",
       "Бюджет грантов, руб                                                                               0.0                                 \n",
       "Численность молодeжи, задействованной в програм...                                                0.1                                 \n",
       "Количество детских и молодeжных общественных об...                                                1.0                                 "
      ]
     },
     "execution_count": 246,
     "metadata": {},
     "output_type": "execute_result"
    }
   ],
   "source": [
    "corr=df.corr()\n",
    "corr"
   ]
  },
  {
   "cell_type": "code",
   "execution_count": 247,
   "id": "c2ca791a",
   "metadata": {},
   "outputs": [
    {
     "data": {
      "text/plain": [
       "<Axes: >"
      ]
     },
     "execution_count": 247,
     "metadata": {},
     "output_type": "execute_result"
    },
    {
     "data": {
      "image/png": "[encoded data removed]",
      "text/plain": [
       "<Figure size 1500x1000 with 2 Axes>"
      ]
     },
     "metadata": {},
     "output_type": "display_data"
    }
   ],
   "source": [
    "plt.figure(figsize=(15,10))\n",
    "mask = np.zeros_like(corr, dtype=bool)\n",
    "mask[np.triu_indices_from(mask)] = True\n",
    "sns.heatmap(corr, linewidths=.5,annot=True,mask=mask)"
   ]
  },
  {
   "cell_type": "code",
   "execution_count": 251,
   "id": "f98b277c",
   "metadata": {},
   "outputs": [
    {
     "data": {
      "text/html": [
       "<div>\n",
       "<style scoped>\n",
       "    .dataframe tbody tr th:only-of-type {\n",
       "        vertical-align: middle;\n",
       "    }\n",
       "\n",
       "    .dataframe tbody tr th {\n",
       "        vertical-align: top;\n",
       "    }\n",
       "\n",
       "    .dataframe thead th {\n",
       "        text-align: right;\n",
       "    }\n",
       "</style>\n",
       "<table border=\"1\" class=\"dataframe\">\n",
       "  <thead>\n",
       "    <tr style=\"text-align: right;\">\n",
       "      <th></th>\n",
       "      <th>Год</th>\n",
       "      <th>Бюджет СРФ, руб</th>\n",
       "      <th>Бюджет МО, руб</th>\n",
       "      <th>Кол-во грантов</th>\n",
       "      <th>Бюджет грантов, руб</th>\n",
       "      <th>Численность молодeжи, задействованной в программных мероприятиях по направлению</th>\n",
       "      <th>Количество детских и молодeжных общественных объединений, работающих по данному</th>\n",
       "    </tr>\n",
       "  </thead>\n",
       "  <tbody>\n",
       "    <tr>\n",
       "      <th>count</th>\n",
       "      <td>2295.0</td>\n",
       "      <td>2295.0</td>\n",
       "      <td>2295.0</td>\n",
       "      <td>2295.0</td>\n",
       "      <td>2295.0</td>\n",
       "      <td>2295.0</td>\n",
       "      <td>2295.0</td>\n",
       "    </tr>\n",
       "    <tr>\n",
       "      <th>mean</th>\n",
       "      <td>2021.0</td>\n",
       "      <td>7518926.6</td>\n",
       "      <td>2266770.6</td>\n",
       "      <td>6.2</td>\n",
       "      <td>2080830.9</td>\n",
       "      <td>37561.1</td>\n",
       "      <td>126.8</td>\n",
       "    </tr>\n",
       "    <tr>\n",
       "      <th>std</th>\n",
       "      <td>0.0</td>\n",
       "      <td>54222180.2</td>\n",
       "      <td>14784797.4</td>\n",
       "      <td>120.8</td>\n",
       "      <td>24736296.8</td>\n",
       "      <td>114352.0</td>\n",
       "      <td>923.0</td>\n",
       "    </tr>\n",
       "    <tr>\n",
       "      <th>min</th>\n",
       "      <td>2021.0</td>\n",
       "      <td>0.0</td>\n",
       "      <td>0.0</td>\n",
       "      <td>0.0</td>\n",
       "      <td>0.0</td>\n",
       "      <td>0.0</td>\n",
       "      <td>0.0</td>\n",
       "    </tr>\n",
       "    <tr>\n",
       "      <th>25%</th>\n",
       "      <td>2021.0</td>\n",
       "      <td>0.0</td>\n",
       "      <td>0.0</td>\n",
       "      <td>0.0</td>\n",
       "      <td>0.0</td>\n",
       "      <td>280.0</td>\n",
       "      <td>0.0</td>\n",
       "    </tr>\n",
       "    <tr>\n",
       "      <th>50%</th>\n",
       "      <td>2021.0</td>\n",
       "      <td>105490.0</td>\n",
       "      <td>80865.0</td>\n",
       "      <td>0.0</td>\n",
       "      <td>0.0</td>\n",
       "      <td>4296.0</td>\n",
       "      <td>12.0</td>\n",
       "    </tr>\n",
       "    <tr>\n",
       "      <th>75%</th>\n",
       "      <td>2021.0</td>\n",
       "      <td>1857643.0</td>\n",
       "      <td>777091.0</td>\n",
       "      <td>2.0</td>\n",
       "      <td>499989.5</td>\n",
       "      <td>27394.0</td>\n",
       "      <td>78.0</td>\n",
       "    </tr>\n",
       "    <tr>\n",
       "      <th>max</th>\n",
       "      <td>2021.0</td>\n",
       "      <td>1418314800.0</td>\n",
       "      <td>537510446.0</td>\n",
       "      <td>5735.0</td>\n",
       "      <td>1135202650.0</td>\n",
       "      <td>2000265.0</td>\n",
       "      <td>34141.0</td>\n",
       "    </tr>\n",
       "  </tbody>\n",
       "</table>\n",
       "</div>"
      ],
      "text/plain": [
       "         Год  Бюджет СРФ, руб  Бюджет МО, руб  Кол-во грантов  \\\n",
       "count 2295.0           2295.0          2295.0          2295.0   \n",
       "mean  2021.0        7518926.6       2266770.6             6.2   \n",
       "std      0.0       54222180.2      14784797.4           120.8   \n",
       "min   2021.0              0.0             0.0             0.0   \n",
       "25%   2021.0              0.0             0.0             0.0   \n",
       "50%   2021.0         105490.0         80865.0             0.0   \n",
       "75%   2021.0        1857643.0        777091.0             2.0   \n",
       "max   2021.0     1418314800.0     537510446.0          5735.0   \n",
       "\n",
       "       Бюджет грантов, руб  \\\n",
       "count               2295.0   \n",
       "mean             2080830.9   \n",
       "std             24736296.8   \n",
       "min                    0.0   \n",
       "25%                    0.0   \n",
       "50%                    0.0   \n",
       "75%               499989.5   \n",
       "max           1135202650.0   \n",
       "\n",
       "       Численность молодeжи, задействованной в программных мероприятиях по направлению  \\\n",
       "count                                             2295.0                                 \n",
       "mean                                             37561.1                                 \n",
       "std                                             114352.0                                 \n",
       "min                                                  0.0                                 \n",
       "25%                                                280.0                                 \n",
       "50%                                               4296.0                                 \n",
       "75%                                              27394.0                                 \n",
       "max                                            2000265.0                                 \n",
       "\n",
       "       Количество детских и молодeжных общественных объединений, работающих по данному   \n",
       "count                                             2295.0                                 \n",
       "mean                                               126.8                                 \n",
       "std                                                923.0                                 \n",
       "min                                                  0.0                                 \n",
       "25%                                                  0.0                                 \n",
       "50%                                                 12.0                                 \n",
       "75%                                                 78.0                                 \n",
       "max                                              34141.0                                 "
      ]
     },
     "execution_count": 251,
     "metadata": {},
     "output_type": "execute_result"
    }
   ],
   "source": [
    "df.describe()"
   ]
  },
  {
   "cell_type": "code",
   "execution_count": null,
   "id": "7bc19253",
   "metadata": {},
   "outputs": [],
   "source": []
  },
  {
   "cell_type": "code",
   "execution_count": null,
   "id": "5e462170",
   "metadata": {},
   "outputs": [],
   "source": []
  },
  {
   "cell_type": "code",
   "execution_count": null,
   "id": "847f0689",
   "metadata": {},
   "outputs": [],
   "source": []
  },
  {
   "cell_type": "code",
   "execution_count": null,
   "id": "4a7e2beb",
   "metadata": {},
   "outputs": [],
   "source": []
  },
  {
   "cell_type": "markdown",
   "id": "19fb8705",
   "metadata": {},
   "source": [
    "### Making dashboard"
   ]
  },
  {
   "cell_type": "code",
   "execution_count": null,
   "id": "24a5142b",
   "metadata": {},
   "outputs": [],
   "source": [
    "??pn.pane.JPG"
   ]
  },
  {
   "cell_type": "code",
   "execution_count": null,
   "id": "bdc82c3b",
   "metadata": {},
   "outputs": [],
   "source": [
    "# layout template\n",
    "template = pn.template.FastListTemplate(\n",
    "    title='молодежный-бит хакатон', \n",
    "    sidebar=[pn.pane.Markdown(\"# Дашборд\"), \n",
    "             pn.pane.Markdown(\"#### Написать на русском\"), \n",
    "             pn.pane.Markdown(\"## Настройки\"),\n",
    "             pn.pane.Markdown(\"Регулировка года (на стадии разработки)\"), \n",
    "             year_slider],\n",
    "    main=[pn.Row(pn.Column(iscatter_select, iscatter_plot.panel(width=8000), margin=(0,25))),\n",
    "          pn.Row(pn.Column(districts_buttons, itable_1.panel(width=500))),\n",
    "          pn.Row(pn.Column(select_budget, ihvplot.panel(width=500))),\n",
    "          pn.Row(pn.Column(pp1_pipeline.panel(width=800), margin=(0,25)))],\n",
    "    accent_base_color=\"#88d8b0\",\n",
    "    header_background=\"#88d8b0\",\n",
    ")\n",
    "template.show()\n",
    "#template.servable();"
   ]
  },
  {
   "cell_type": "code",
   "execution_count": null,
   "id": "4925522c",
   "metadata": {},
   "outputs": [],
   "source": []
  }
 ],
 "metadata": {
  "kernelspec": {
   "display_name": "youngbit_env",
   "language": "python",
   "name": "youngbit_env"
  },
  "language_info": {
   "codemirror_mode": {
    "name": "ipython",
    "version": 3
   },
   "file_extension": ".py",
   "mimetype": "text/x-python",
   "name": "python",
   "nbconvert_exporter": "python",
   "pygments_lexer": "ipython3",
   "version": "3.10.9"
  }
 },
 "nbformat": 4,
 "nbformat_minor": 5
}
