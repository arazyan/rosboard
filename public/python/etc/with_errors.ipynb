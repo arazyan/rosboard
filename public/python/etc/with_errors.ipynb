{
 "cells": [
  {
   "cell_type": "code",
   "execution_count": 186,
   "id": "cb1357b5",
   "metadata": {},
   "outputs": [],
   "source": [
    "from sklearn.model_selection import train_test_split\n",
    "\n",
    "import datetime\n",
    "import pandas as pd\n",
    "from pandas.plotting import bootstrap_plot\n",
    "import numpy as np\n",
    "\n",
    "import panel as pn\n",
    "pn.extension('tabulator', sizing_mode=\"stretch_width\")\n",
    "\n",
    "import hvplot.pandas\n",
    "import holoviews as hv\n",
    "hv.extension('bokeh')\n",
    "\n",
    "\n",
    "import matplotlib.pyplot as plt\n",
    "import seaborn as sns\n",
    "import plotly.express as px\n",
    "\n",
    "from catboost import CatBoostRegressor, CatBoostClassifier\n",
    "\n",
    "from sklearn.model_selection import *\n",
    "from sklearn.metrics import *\n",
    "\n",
    "pd.options.display.float_format = \"{:.1f}\".format\n",
    "sns.set_style(\"whitegrid\")\n",
    "plt.style.use(\"fivethirtyeight\") \n",
    "\n",
    "import warnings\n",
    "warnings.filterwarnings(\"ignore\")"
   ]
  },
  {
   "cell_type": "code",
   "execution_count": 187,
   "id": "66be91c0",
   "metadata": {},
   "outputs": [],
   "source": [
    "# for non-scientific output of floats\n",
    "pd.set_option('display.float_format', lambda x: '%.3f' % x)"
   ]
  },
  {
   "cell_type": "code",
   "execution_count": 188,
   "id": "0880528e",
   "metadata": {},
   "outputs": [],
   "source": [
    "pd.set_option('display.max_columns', None)"
   ]
  },
  {
   "cell_type": "code",
   "execution_count": null,
   "id": "6efa0972",
   "metadata": {},
   "outputs": [],
   "source": []
  },
  {
   "cell_type": "code",
   "execution_count": 292,
   "id": "b9f9b681",
   "metadata": {},
   "outputs": [
    {
     "data": {},
     "metadata": {},
     "output_type": "display_data"
    },
    {
     "data": {
      "application/vnd.holoviews_exec.v0+json": "",
      "text/html": [
       "<div id='15226'>\n",
       "  <div class=\"bk-root\" id=\"19835a84-bacf-4824-b114-0935a297b43e\" data-root-id=\"15226\"></div>\n",
       "</div>\n",
       "<script type=\"application/javascript\">(function(root) {\n",
       "  function embed_document(root) {\n",
       "    var docs_json = {\"b6867b7e-df1e-49e7-a04f-5a35ee0f39ed\":{\"defs\":[{\"extends\":null,\"module\":null,\"name\":\"ReactiveHTML1\",\"overrides\":[],\"properties\":[]},{\"extends\":null,\"module\":null,\"name\":\"FlexBox1\",\"overrides\":[],\"properties\":[{\"default\":\"flex-start\",\"kind\":null,\"name\":\"align_content\"},{\"default\":\"flex-start\",\"kind\":null,\"name\":\"align_items\"},{\"default\":\"row\",\"kind\":null,\"name\":\"flex_direction\"},{\"default\":\"wrap\",\"kind\":null,\"name\":\"flex_wrap\"},{\"default\":\"flex-start\",\"kind\":null,\"name\":\"justify_content\"}]},{\"extends\":null,\"module\":null,\"name\":\"GridStack1\",\"overrides\":[],\"properties\":[{\"default\":\"warn\",\"kind\":null,\"name\":\"mode\"},{\"default\":null,\"kind\":null,\"name\":\"ncols\"},{\"default\":null,\"kind\":null,\"name\":\"nrows\"},{\"default\":true,\"kind\":null,\"name\":\"allow_resize\"},{\"default\":true,\"kind\":null,\"name\":\"allow_drag\"},{\"default\":[],\"kind\":null,\"name\":\"state\"}]},{\"extends\":null,\"module\":null,\"name\":\"click1\",\"overrides\":[],\"properties\":[{\"default\":\"\",\"kind\":null,\"name\":\"terminal_output\"},{\"default\":\"\",\"kind\":null,\"name\":\"debug_name\"},{\"default\":0,\"kind\":null,\"name\":\"clears\"}]},{\"extends\":null,\"module\":null,\"name\":\"NotificationAreaBase1\",\"overrides\":[],\"properties\":[{\"default\":\"bottom-right\",\"kind\":null,\"name\":\"position\"},{\"default\":0,\"kind\":null,\"name\":\"_clear\"}]},{\"extends\":null,\"module\":null,\"name\":\"NotificationArea1\",\"overrides\":[],\"properties\":[{\"default\":[],\"kind\":null,\"name\":\"notifications\"},{\"default\":\"bottom-right\",\"kind\":null,\"name\":\"position\"},{\"default\":0,\"kind\":null,\"name\":\"_clear\"},{\"default\":[{\"background\":\"#ffc107\",\"icon\":{\"className\":\"fas fa-exclamation-triangle\",\"color\":\"white\",\"tagName\":\"i\"},\"type\":\"warning\"},{\"background\":\"#007bff\",\"icon\":{\"className\":\"fas fa-info-circle\",\"color\":\"white\",\"tagName\":\"i\"},\"type\":\"info\"}],\"kind\":null,\"name\":\"types\"}]},{\"extends\":null,\"module\":null,\"name\":\"Notification\",\"overrides\":[],\"properties\":[{\"default\":null,\"kind\":null,\"name\":\"background\"},{\"default\":3000,\"kind\":null,\"name\":\"duration\"},{\"default\":null,\"kind\":null,\"name\":\"icon\"},{\"default\":\"\",\"kind\":null,\"name\":\"message\"},{\"default\":null,\"kind\":null,\"name\":\"notification_type\"},{\"default\":false,\"kind\":null,\"name\":\"_destroyed\"}]},{\"extends\":null,\"module\":null,\"name\":\"TemplateActions1\",\"overrides\":[],\"properties\":[{\"default\":0,\"kind\":null,\"name\":\"open_modal\"},{\"default\":0,\"kind\":null,\"name\":\"close_modal\"}]},{\"extends\":null,\"module\":null,\"name\":\"MaterialTemplateActions1\",\"overrides\":[],\"properties\":[{\"default\":0,\"kind\":null,\"name\":\"open_modal\"},{\"default\":0,\"kind\":null,\"name\":\"close_modal\"}]}],\"roots\":{\"references\":[{\"attributes\":{\"line_color\":\"#9467bd\",\"line_width\":2,\"x\":{\"field\":\"\\u0413\\u043e\\u0434\"},\"y\":{\"field\":\"\\u041e\\u0431\\u044a\\u0435\\u043c\"}},\"id\":\"15430\",\"type\":\"Line\"},{\"attributes\":{},\"id\":\"15454\",\"type\":\"UnionRenderers\"},{\"attributes\":{\"label\":{\"value\":\"\\u041a\\u043e\\u043b\\u0438\\u0447\\u0435\\u0441\\u0442\\u0432\\u043e \\u043e\\u0440\\u0433\\u0430\\u043d\\u043e\\u0432 \\u043c\\u043e\\u043b\\u043e\\u0434\\u0435\\u0436\\u043d\\u043e\\u0433\\u043e \\u0441\\u0430\\u043c\\u043e\\u0443\\u043f\\u0440\\u0430\\u0432\\u043b\\u0435\\u043d\\u0438\\u044f\"},\"renderers\":[{\"id\":\"15433\"}]},\"id\":\"15457\",\"type\":\"LegendItem\"},{\"attributes\":{\"line_color\":\"#e377c2\",\"line_width\":2,\"x\":{\"field\":\"\\u0413\\u043e\\u0434\"},\"y\":{\"field\":\"\\u041e\\u0431\\u044a\\u0435\\u043c\"}},\"id\":\"15566\",\"type\":\"Line\"},{\"attributes\":{\"line_alpha\":0.1,\"line_color\":\"#9467bd\",\"line_width\":2,\"x\":{\"field\":\"\\u0413\\u043e\\u0434\"},\"y\":{\"field\":\"\\u041e\\u0431\\u044a\\u0435\\u043c\"}},\"id\":\"15431\",\"type\":\"Line\"},{\"attributes\":{\"source\":{\"id\":\"15459\"}},\"id\":\"15466\",\"type\":\"CDSView\"},{\"attributes\":{\"line_color\":\"#8c564b\",\"line_width\":2,\"x\":{\"field\":\"\\u0413\\u043e\\u0434\"},\"y\":{\"field\":\"\\u041e\\u0431\\u044a\\u0435\\u043c\"}},\"id\":\"15570\",\"type\":\"Line\"},{\"attributes\":{\"coordinates\":null,\"data_source\":{\"id\":\"15427\"},\"glyph\":{\"id\":\"15430\"},\"group\":null,\"hover_glyph\":null,\"muted_glyph\":{\"id\":\"15432\"},\"nonselection_glyph\":{\"id\":\"15431\"},\"selection_glyph\":{\"id\":\"15458\"},\"view\":{\"id\":\"15434\"}},\"id\":\"15433\",\"type\":\"GlyphRenderer\"},{\"attributes\":{\"source\":{\"id\":\"15567\"}},\"id\":\"15574\",\"type\":\"CDSView\"},{\"attributes\":{\"line_color\":\"#e5ae38\",\"line_width\":2,\"x\":{\"field\":\"\\u0413\\u043e\\u0434\"},\"y\":{\"field\":\"\\u041e\\u0431\\u044a\\u0435\\u043c\"}},\"id\":\"15342\",\"type\":\"Line\"},{\"attributes\":{\"line_alpha\":0.2,\"line_color\":\"#8c564b\",\"line_width\":2,\"x\":{\"field\":\"\\u0413\\u043e\\u0434\"},\"y\":{\"field\":\"\\u041e\\u0431\\u044a\\u0435\\u043c\"}},\"id\":\"15572\",\"type\":\"Line\"},{\"attributes\":{\"label\":{\"value\":\"\\u041e\\u0431\\u044a\\u0435\\u043c \\u0444\\u0438\\u043d\\u0430\\u043d\\u0441\\u0438\\u0440\\u043e\\u0432\\u0430\\u043d\\u0438\\u044f \\u043c\\u043e\\u043b\\u043e\\u0434\\u0435\\u0436\\u043d\\u044b\\u0445 \\u0444\\u043e\\u0440\\u0443\\u043c\\u043e\\u0432 \\u0438\\u0437 \\u0441\\u0440\\u0435\\u0434\\u0441\\u0442\\u0432 \\u043e\\u0440\\u0433\\u0430\\u043d\\u043e\\u0432 \\u0431\\u044e\\u0434\\u0436\\u0435\\u0442\\u043e\\u0432 \\u043c\\u0435\\u0441\\u0442\\u043d\\u043e\\u0433\\u043e \\u0441\\u0430\\u043c\\u043e\\u0443\\u043f\\u0440\\u0430\\u0432\\u043b\\u0435\\u043d\\u0438\\u044f\"},\"renderers\":[{\"id\":\"15573\"}]},\"id\":\"15605\",\"type\":\"LegendItem\"},{\"attributes\":{\"coordinates\":null,\"data_source\":{\"id\":\"15276\"},\"glyph\":{\"id\":\"15279\"},\"group\":null,\"hover_glyph\":null,\"muted_glyph\":{\"id\":\"15281\"},\"nonselection_glyph\":{\"id\":\"15280\"},\"selection_glyph\":{\"id\":\"15296\"},\"view\":{\"id\":\"15283\"}},\"id\":\"15282\",\"type\":\"GlyphRenderer\"},{\"attributes\":{\"click_policy\":\"mute\",\"coordinates\":null,\"group\":null,\"items\":[{\"id\":\"15295\"},{\"id\":\"15317\"},{\"id\":\"15341\"},{\"id\":\"15367\"},{\"id\":\"15395\"},{\"id\":\"15425\"},{\"id\":\"15457\"},{\"id\":\"15491\"},{\"id\":\"15527\"},{\"id\":\"15565\"},{\"id\":\"15605\"}],\"location\":[0,0],\"orientation\":\"horizontal\",\"title\":\"Variable\"},\"id\":\"15294\",\"type\":\"Legend\"},{\"attributes\":{\"line_color\":\"#6d904f\",\"line_width\":2,\"x\":{\"field\":\"\\u0413\\u043e\\u0434\"},\"y\":{\"field\":\"\\u041e\\u0431\\u044a\\u0435\\u043c\"}},\"id\":\"15346\",\"type\":\"Line\"},{\"attributes\":{},\"id\":\"15568\",\"type\":\"Selection\"},{\"attributes\":{\"source\":{\"id\":\"15343\"}},\"id\":\"15350\",\"type\":\"CDSView\"},{\"attributes\":{},\"id\":\"15602\",\"type\":\"UnionRenderers\"},{\"attributes\":{\"line_alpha\":0.2,\"line_color\":\"#6d904f\",\"line_width\":2,\"x\":{\"field\":\"\\u0413\\u043e\\u0434\"},\"y\":{\"field\":\"\\u041e\\u0431\\u044a\\u0435\\u043c\"}},\"id\":\"15348\",\"type\":\"Line\"},{\"attributes\":{\"children\":[{\"id\":\"15240\"}],\"height\":500,\"margin\":[0,0,0,0],\"name\":\"Row41606\",\"sizing_mode\":\"fixed\",\"tags\":[\"embedded\"],\"width\":620},\"id\":\"15226\",\"type\":\"Row\"},{\"attributes\":{\"line_alpha\":0.1,\"line_color\":\"#8c564b\",\"line_width\":2,\"x\":{\"field\":\"\\u0413\\u043e\\u0434\"},\"y\":{\"field\":\"\\u041e\\u0431\\u044a\\u0435\\u043c\"}},\"id\":\"15571\",\"type\":\"Line\"},{\"attributes\":{\"label\":{\"value\":\"\\u041e\\u0431\\u044a\\u0435\\u043c \\u0433\\u0440\\u0430\\u043d\\u0442\\u043e\\u0432\\u044b\\u0445 \\u0441\\u0440\\u0435\\u0434\\u0441\\u0442\\u0432, \\u0432\\u044b\\u0434\\u0430\\u043d\\u043d\\u044b\\u0445 \\u0444\\u0438\\u0437\\u0438\\u0447\\u0435\\u0441\\u043a\\u0438\\u043c \\u0438 \\u044e\\u0440\\u0438\\u0434\\u0438\\u0447\\u0435\\u0441\\u043a\\u0438\\u043c \\u043b\\u0438\\u0446\\u0430\\u043c, \\u0432 \\u0440\\u0430\\u043c\\u043a\\u0430\\u0445 \\u0440\\u0435\\u0430\\u043b\\u0438\\u0437\\u0430\\u0446\\u0438\\u0438 \\u0433\\u043e\\u0441\\u0443\\u0434\\u0430\\u0440\\u0441\\u0442\\u0432\\u0435\\u043d\\u043d\\u043e\\u0439 \\u043c\\u043e\\u043b\\u043e\\u0434\\u0435\\u0436\\u043d\\u043e\\u0439 \\u043f\\u043e\\u043b\\u0438\\u0442\\u0438\\u043a\\u0438\"},\"renderers\":[{\"id\":\"15349\"}]},\"id\":\"15367\",\"type\":\"LegendItem\"},{\"attributes\":{},\"id\":\"15291\",\"type\":\"UnionRenderers\"},{\"attributes\":{},\"id\":\"15344\",\"type\":\"Selection\"},{\"attributes\":{\"coordinates\":null,\"data_source\":{\"id\":\"15567\"},\"glyph\":{\"id\":\"15570\"},\"group\":null,\"hover_glyph\":null,\"muted_glyph\":{\"id\":\"15572\"},\"nonselection_glyph\":{\"id\":\"15571\"},\"selection_glyph\":{\"id\":\"15606\"},\"view\":{\"id\":\"15574\"}},\"id\":\"15573\",\"type\":\"GlyphRenderer\"},{\"attributes\":{},\"id\":\"15364\",\"type\":\"UnionRenderers\"},{\"attributes\":{\"line_color\":\"#d62728\",\"line_width\":2,\"x\":{\"field\":\"\\u0413\\u043e\\u0434\"},\"y\":{\"field\":\"\\u041e\\u0431\\u044a\\u0435\\u043c\"}},\"id\":\"15462\",\"type\":\"Line\"},{\"attributes\":{\"line_alpha\":0.1,\"line_color\":\"#6d904f\",\"line_width\":2,\"x\":{\"field\":\"\\u0413\\u043e\\u0434\"},\"y\":{\"field\":\"\\u041e\\u0431\\u044a\\u0435\\u043c\"}},\"id\":\"15347\",\"type\":\"Line\"},{\"attributes\":{\"line_color\":\"#9467bd\",\"line_width\":2,\"x\":{\"field\":\"\\u0413\\u043e\\u0434\"},\"y\":{\"field\":\"\\u041e\\u0431\\u044a\\u0435\\u043c\"}},\"id\":\"15458\",\"type\":\"Line\"},{\"attributes\":{\"line_alpha\":0.2,\"line_color\":\"#d62728\",\"line_width\":2,\"x\":{\"field\":\"\\u0413\\u043e\\u0434\"},\"y\":{\"field\":\"\\u041e\\u0431\\u044a\\u0435\\u043c\"}},\"id\":\"15464\",\"type\":\"Line\"},{\"attributes\":{\"end\":20874455068.9,\"reset_end\":20874455068.9,\"reset_start\":-1897676585.9,\"start\":-1897676585.9,\"tags\":[[[\"\\u041e\\u0431\\u044a\\u0435\\u043c\",\"\\u041e\\u0431\\u044a\\u0435\\u043c\",null]]]},\"id\":\"15228\",\"type\":\"Range1d\"},{\"attributes\":{\"data\":{\"Variable\":[\"\\u041a\\u043e\\u043b\\u0438\\u0447\\u0435\\u0441\\u0442\\u0432\\u043e \\u0440\\u0435\\u0433\\u0438\\u043e\\u043d\\u0430\\u043b\\u044c\\u043d\\u044b\\u0445 \\u043e\\u0431\\u0449\\u0435\\u0441\\u0442\\u0432\\u0435\\u043d\\u043d\\u044b\\u0445 \\u043e\\u0431\\u044a\\u0435\\u0434\\u0438\\u043d\\u0435\\u043d\\u0438\\u0439, \\u043f\\u043e\\u043b\\u044c\\u0437\\u0443\\u044e\\u0449\\u0438\\u0445\\u0441\\u044f \\u0433\\u043e\\u0441\\u0443\\u0434\\u0430\\u0440\\u0441\\u0442\\u0432\\u0435\\u043d\\u043d\\u043e\\u0439 \\u043f\\u043e\\u0434\\u0434\\u0435\\u0440\\u0436\\u043a\\u043e\\u0439\",\"\\u041a\\u043e\\u043b\\u0438\\u0447\\u0435\\u0441\\u0442\\u0432\\u043e \\u0440\\u0435\\u0433\\u0438\\u043e\\u043d\\u0430\\u043b\\u044c\\u043d\\u044b\\u0445 \\u043e\\u0431\\u0449\\u0435\\u0441\\u0442\\u0432\\u0435\\u043d\\u043d\\u044b\\u0445 \\u043e\\u0431\\u044a\\u0435\\u0434\\u0438\\u043d\\u0435\\u043d\\u0438\\u0439, \\u043f\\u043e\\u043b\\u044c\\u0437\\u0443\\u044e\\u0449\\u0438\\u0445\\u0441\\u044f \\u0433\\u043e\\u0441\\u0443\\u0434\\u0430\\u0440\\u0441\\u0442\\u0432\\u0435\\u043d\\u043d\\u043e\\u0439 \\u043f\\u043e\\u0434\\u0434\\u0435\\u0440\\u0436\\u043a\\u043e\\u0439\",\"\\u041a\\u043e\\u043b\\u0438\\u0447\\u0435\\u0441\\u0442\\u0432\\u043e \\u0440\\u0435\\u0433\\u0438\\u043e\\u043d\\u0430\\u043b\\u044c\\u043d\\u044b\\u0445 \\u043e\\u0431\\u0449\\u0435\\u0441\\u0442\\u0432\\u0435\\u043d\\u043d\\u044b\\u0445 \\u043e\\u0431\\u044a\\u0435\\u0434\\u0438\\u043d\\u0435\\u043d\\u0438\\u0439, \\u043f\\u043e\\u043b\\u044c\\u0437\\u0443\\u044e\\u0449\\u0438\\u0445\\u0441\\u044f \\u0433\\u043e\\u0441\\u0443\\u0434\\u0430\\u0440\\u0441\\u0442\\u0432\\u0435\\u043d\\u043d\\u043e\\u0439 \\u043f\\u043e\\u0434\\u0434\\u0435\\u0440\\u0436\\u043a\\u043e\\u0439\",\"\\u041a\\u043e\\u043b\\u0438\\u0447\\u0435\\u0441\\u0442\\u0432\\u043e \\u0440\\u0435\\u0433\\u0438\\u043e\\u043d\\u0430\\u043b\\u044c\\u043d\\u044b\\u0445 \\u043e\\u0431\\u0449\\u0435\\u0441\\u0442\\u0432\\u0435\\u043d\\u043d\\u044b\\u0445 \\u043e\\u0431\\u044a\\u0435\\u0434\\u0438\\u043d\\u0435\\u043d\\u0438\\u0439, \\u043f\\u043e\\u043b\\u044c\\u0437\\u0443\\u044e\\u0449\\u0438\\u0445\\u0441\\u044f \\u0433\\u043e\\u0441\\u0443\\u0434\\u0430\\u0440\\u0441\\u0442\\u0432\\u0435\\u043d\\u043d\\u043e\\u0439 \\u043f\\u043e\\u0434\\u0434\\u0435\\u0440\\u0436\\u043a\\u043e\\u0439\",\"\\u041a\\u043e\\u043b\\u0438\\u0447\\u0435\\u0441\\u0442\\u0432\\u043e \\u0440\\u0435\\u0433\\u0438\\u043e\\u043d\\u0430\\u043b\\u044c\\u043d\\u044b\\u0445 \\u043e\\u0431\\u0449\\u0435\\u0441\\u0442\\u0432\\u0435\\u043d\\u043d\\u044b\\u0445 \\u043e\\u0431\\u044a\\u0435\\u0434\\u0438\\u043d\\u0435\\u043d\\u0438\\u0439, \\u043f\\u043e\\u043b\\u044c\\u0437\\u0443\\u044e\\u0449\\u0438\\u0445\\u0441\\u044f \\u0433\\u043e\\u0441\\u0443\\u0434\\u0430\\u0440\\u0441\\u0442\\u0432\\u0435\\u043d\\u043d\\u043e\\u0439 \\u043f\\u043e\\u0434\\u0434\\u0435\\u0440\\u0436\\u043a\\u043e\\u0439\",\"\\u041a\\u043e\\u043b\\u0438\\u0447\\u0435\\u0441\\u0442\\u0432\\u043e \\u0440\\u0435\\u0433\\u0438\\u043e\\u043d\\u0430\\u043b\\u044c\\u043d\\u044b\\u0445 \\u043e\\u0431\\u0449\\u0435\\u0441\\u0442\\u0432\\u0435\\u043d\\u043d\\u044b\\u0445 \\u043e\\u0431\\u044a\\u0435\\u0434\\u0438\\u043d\\u0435\\u043d\\u0438\\u0439, \\u043f\\u043e\\u043b\\u044c\\u0437\\u0443\\u044e\\u0449\\u0438\\u0445\\u0441\\u044f \\u0433\\u043e\\u0441\\u0443\\u0434\\u0430\\u0440\\u0441\\u0442\\u0432\\u0435\\u043d\\u043d\\u043e\\u0439 \\u043f\\u043e\\u0434\\u0434\\u0435\\u0440\\u0436\\u043a\\u043e\\u0439\"],\"\\u0413\\u043e\\u0434\":[2016,2017,2018,2019,2020,2021],\"\\u041e\\u0431\\u044a\\u0435\\u043c\":{\"__ndarray__\":\"AAAAAABImUAAAAAAAHCQQAAAAAAADJRAAAAAAAAzs0AAAAAAAFKyQAAAAAAAGJJA\",\"dtype\":\"float64\",\"order\":\"little\",\"shape\":[6]}},\"selected\":{\"id\":\"15370\"},\"selection_policy\":{\"id\":\"15392\"}},\"id\":\"15369\",\"type\":\"ColumnDataSource\"},{\"attributes\":{\"coordinates\":null,\"data_source\":{\"id\":\"15343\"},\"glyph\":{\"id\":\"15346\"},\"group\":null,\"hover_glyph\":null,\"muted_glyph\":{\"id\":\"15348\"},\"nonselection_glyph\":{\"id\":\"15347\"},\"selection_glyph\":{\"id\":\"15368\"},\"view\":{\"id\":\"15350\"}},\"id\":\"15349\",\"type\":\"GlyphRenderer\"},{\"attributes\":{\"tools\":[{\"id\":\"15229\"},{\"id\":\"15257\"},{\"id\":\"15258\"},{\"id\":\"15259\"},{\"id\":\"15260\"},{\"id\":\"15261\"}]},\"id\":\"15263\",\"type\":\"Toolbar\"},{\"attributes\":{\"label\":{\"value\":\"\\u041a\\u043e\\u043b\\u0438\\u0447\\u0435\\u0441\\u0442\\u0432\\u043e \\u043c\\u043e\\u043b\\u043e\\u0434\\u0435\\u0436\\u043d\\u044b\\u0445 \\u0444\\u043e\\u0440\\u0443\\u043c\\u043e\\u0432, \\u043f\\u0440\\u043e\\u0448\\u0435\\u0434\\u0448\\u0438\\u0445 \\u043d\\u0430 \\u0442\\u0435\\u0440\\u0440\\u0438\\u0442\\u043e\\u0440\\u0438\\u0438 \\u0441\\u0443\\u0431\\u044a\\u0435\\u043a\\u0442\\u043e\\u0432 \\u0420\\u043e\\u0441\\u0441\\u0438\\u0439\\u0441\\u043a\\u043e\\u0439 \\u0424\\u0435\\u0434\\u0435\\u0440\\u0430\\u0446\\u0438\\u0438\"},\"renderers\":[{\"id\":\"15465\"}]},\"id\":\"15491\",\"type\":\"LegendItem\"},{\"attributes\":{},\"id\":\"15275\",\"type\":\"AllLabels\"},{\"attributes\":{},\"id\":\"15274\",\"type\":\"BasicTickFormatter\"},{\"attributes\":{},\"id\":\"15488\",\"type\":\"UnionRenderers\"},{\"attributes\":{\"line_color\":\"#8c564b\",\"line_width\":2,\"x\":{\"field\":\"\\u0413\\u043e\\u0434\"},\"y\":{\"field\":\"\\u041e\\u0431\\u044a\\u0435\\u043c\"}},\"id\":\"15606\",\"type\":\"Line\"},{\"attributes\":{\"line_alpha\":0.1,\"line_color\":\"#d62728\",\"line_width\":2,\"x\":{\"field\":\"\\u0413\\u043e\\u0434\"},\"y\":{\"field\":\"\\u041e\\u0431\\u044a\\u0435\\u043c\"}},\"id\":\"15463\",\"type\":\"Line\"},{\"attributes\":{\"data\":{\"Variable\":[\"\\u041a\\u043e\\u043b\\u0438\\u0447\\u0435\\u0441\\u0442\\u0432\\u043e \\u043c\\u0435\\u0441\\u0442\\u043d\\u044b\\u0445 \\u043e\\u0431\\u0449\\u0435\\u0441\\u0442\\u0432\\u0435\\u043d\\u043d\\u044b\\u0445 \\u043e\\u0431\\u044a\\u0435\\u0434\\u0438\\u043d\\u0435\\u043d\\u0438\\u0439, \\u043f\\u043e\\u043b\\u044c\\u0437\\u0443\\u044e\\u0449\\u0438\\u0445\\u0441\\u044f \\u043f\\u043e\\u0434\\u0434\\u0435\\u0440\\u0436\\u043a\\u043e\\u0439\",\"\\u041a\\u043e\\u043b\\u0438\\u0447\\u0435\\u0441\\u0442\\u0432\\u043e \\u043c\\u0435\\u0441\\u0442\\u043d\\u044b\\u0445 \\u043e\\u0431\\u0449\\u0435\\u0441\\u0442\\u0432\\u0435\\u043d\\u043d\\u044b\\u0445 \\u043e\\u0431\\u044a\\u0435\\u0434\\u0438\\u043d\\u0435\\u043d\\u0438\\u0439, \\u043f\\u043e\\u043b\\u044c\\u0437\\u0443\\u044e\\u0449\\u0438\\u0445\\u0441\\u044f \\u043f\\u043e\\u0434\\u0434\\u0435\\u0440\\u0436\\u043a\\u043e\\u0439\",\"\\u041a\\u043e\\u043b\\u0438\\u0447\\u0435\\u0441\\u0442\\u0432\\u043e \\u043c\\u0435\\u0441\\u0442\\u043d\\u044b\\u0445 \\u043e\\u0431\\u0449\\u0435\\u0441\\u0442\\u0432\\u0435\\u043d\\u043d\\u044b\\u0445 \\u043e\\u0431\\u044a\\u0435\\u0434\\u0438\\u043d\\u0435\\u043d\\u0438\\u0439, \\u043f\\u043e\\u043b\\u044c\\u0437\\u0443\\u044e\\u0449\\u0438\\u0445\\u0441\\u044f \\u043f\\u043e\\u0434\\u0434\\u0435\\u0440\\u0436\\u043a\\u043e\\u0439\",\"\\u041a\\u043e\\u043b\\u0438\\u0447\\u0435\\u0441\\u0442\\u0432\\u043e \\u043c\\u0435\\u0441\\u0442\\u043d\\u044b\\u0445 \\u043e\\u0431\\u0449\\u0435\\u0441\\u0442\\u0432\\u0435\\u043d\\u043d\\u044b\\u0445 \\u043e\\u0431\\u044a\\u0435\\u0434\\u0438\\u043d\\u0435\\u043d\\u0438\\u0439, \\u043f\\u043e\\u043b\\u044c\\u0437\\u0443\\u044e\\u0449\\u0438\\u0445\\u0441\\u044f \\u043f\\u043e\\u0434\\u0434\\u0435\\u0440\\u0436\\u043a\\u043e\\u0439\",\"\\u041a\\u043e\\u043b\\u0438\\u0447\\u0435\\u0441\\u0442\\u0432\\u043e \\u043c\\u0435\\u0441\\u0442\\u043d\\u044b\\u0445 \\u043e\\u0431\\u0449\\u0435\\u0441\\u0442\\u0432\\u0435\\u043d\\u043d\\u044b\\u0445 \\u043e\\u0431\\u044a\\u0435\\u0434\\u0438\\u043d\\u0435\\u043d\\u0438\\u0439, \\u043f\\u043e\\u043b\\u044c\\u0437\\u0443\\u044e\\u0449\\u0438\\u0445\\u0441\\u044f \\u043f\\u043e\\u0434\\u0434\\u0435\\u0440\\u0436\\u043a\\u043e\\u0439\",\"\\u041a\\u043e\\u043b\\u0438\\u0447\\u0435\\u0441\\u0442\\u0432\\u043e \\u043c\\u0435\\u0441\\u0442\\u043d\\u044b\\u0445 \\u043e\\u0431\\u0449\\u0435\\u0441\\u0442\\u0432\\u0435\\u043d\\u043d\\u044b\\u0445 \\u043e\\u0431\\u044a\\u0435\\u0434\\u0438\\u043d\\u0435\\u043d\\u0438\\u0439, \\u043f\\u043e\\u043b\\u044c\\u0437\\u0443\\u044e\\u0449\\u0438\\u0445\\u0441\\u044f \\u043f\\u043e\\u0434\\u0434\\u0435\\u0440\\u0436\\u043a\\u043e\\u0439\"],\"\\u0413\\u043e\\u0434\":[2016,2017,2018,2019,2020,2021],\"\\u041e\\u0431\\u044a\\u0435\\u043c\":{\"__ndarray__\":\"AAAAAADAqkAAAAAAABisQAAAAAAAXqpAAAAAAACur0AAAAAAAN+wQAAAAAAAILBA\",\"dtype\":\"float64\",\"order\":\"little\",\"shape\":[6]}},\"selected\":{\"id\":\"15398\"},\"selection_policy\":{\"id\":\"15422\"}},\"id\":\"15397\",\"type\":\"ColumnDataSource\"},{\"attributes\":{\"coordinates\":null,\"data_source\":{\"id\":\"15459\"},\"glyph\":{\"id\":\"15462\"},\"group\":null,\"hover_glyph\":null,\"muted_glyph\":{\"id\":\"15464\"},\"nonselection_glyph\":{\"id\":\"15463\"},\"selection_glyph\":{\"id\":\"15492\"},\"view\":{\"id\":\"15466\"}},\"id\":\"15465\",\"type\":\"GlyphRenderer\"},{\"attributes\":{\"line_color\":\"#6d904f\",\"line_width\":2,\"x\":{\"field\":\"\\u0413\\u043e\\u0434\"},\"y\":{\"field\":\"\\u041e\\u0431\\u044a\\u0435\\u043c\"}},\"id\":\"15368\",\"type\":\"Line\"},{\"attributes\":{\"data\":{\"Variable\":[\"\\u041e\\u0431\\u044a\\u0435\\u043c \\u0444\\u0438\\u043d\\u0430\\u043d\\u0441\\u0438\\u0440\\u043e\\u0432\\u0430\\u043d\\u0438\\u044f \\u043c\\u043e\\u043b\\u043e\\u0434\\u0435\\u0436\\u043d\\u043e\\u0439 \\u043f\\u043e\\u043b\\u0438\\u0442\\u0438\\u043a\\u0438 \\u0438\\u0437 \\u0431\\u044e\\u0434\\u0436\\u0435\\u0442\\u0430 \\u0441\\u0443\\u0431\\u044a\\u0435\\u043a\\u0442\\u043e\\u0432 \\u0420\\u043e\\u0441\\u0441\\u0438\\u0439\\u0441\\u043a\\u043e\\u0439 \\u0424\\u0435\\u0434\\u0435\\u0440\\u0430\\u0446\\u0438\\u0438\",\"\\u041e\\u0431\\u044a\\u0435\\u043c \\u0444\\u0438\\u043d\\u0430\\u043d\\u0441\\u0438\\u0440\\u043e\\u0432\\u0430\\u043d\\u0438\\u044f \\u043c\\u043e\\u043b\\u043e\\u0434\\u0435\\u0436\\u043d\\u043e\\u0439 \\u043f\\u043e\\u043b\\u0438\\u0442\\u0438\\u043a\\u0438 \\u0438\\u0437 \\u0431\\u044e\\u0434\\u0436\\u0435\\u0442\\u0430 \\u0441\\u0443\\u0431\\u044a\\u0435\\u043a\\u0442\\u043e\\u0432 \\u0420\\u043e\\u0441\\u0441\\u0438\\u0439\\u0441\\u043a\\u043e\\u0439 \\u0424\\u0435\\u0434\\u0435\\u0440\\u0430\\u0446\\u0438\\u0438\",\"\\u041e\\u0431\\u044a\\u0435\\u043c \\u0444\\u0438\\u043d\\u0430\\u043d\\u0441\\u0438\\u0440\\u043e\\u0432\\u0430\\u043d\\u0438\\u044f \\u043c\\u043e\\u043b\\u043e\\u0434\\u0435\\u0436\\u043d\\u043e\\u0439 \\u043f\\u043e\\u043b\\u0438\\u0442\\u0438\\u043a\\u0438 \\u0438\\u0437 \\u0431\\u044e\\u0434\\u0436\\u0435\\u0442\\u0430 \\u0441\\u0443\\u0431\\u044a\\u0435\\u043a\\u0442\\u043e\\u0432 \\u0420\\u043e\\u0441\\u0441\\u0438\\u0439\\u0441\\u043a\\u043e\\u0439 \\u0424\\u0435\\u0434\\u0435\\u0440\\u0430\\u0446\\u0438\\u0438\",\"\\u041e\\u0431\\u044a\\u0435\\u043c \\u0444\\u0438\\u043d\\u0430\\u043d\\u0441\\u0438\\u0440\\u043e\\u0432\\u0430\\u043d\\u0438\\u044f \\u043c\\u043e\\u043b\\u043e\\u0434\\u0435\\u0436\\u043d\\u043e\\u0439 \\u043f\\u043e\\u043b\\u0438\\u0442\\u0438\\u043a\\u0438 \\u0438\\u0437 \\u0431\\u044e\\u0434\\u0436\\u0435\\u0442\\u0430 \\u0441\\u0443\\u0431\\u044a\\u0435\\u043a\\u0442\\u043e\\u0432 \\u0420\\u043e\\u0441\\u0441\\u0438\\u0439\\u0441\\u043a\\u043e\\u0439 \\u0424\\u0435\\u0434\\u0435\\u0440\\u0430\\u0446\\u0438\\u0438\",\"\\u041e\\u0431\\u044a\\u0435\\u043c \\u0444\\u0438\\u043d\\u0430\\u043d\\u0441\\u0438\\u0440\\u043e\\u0432\\u0430\\u043d\\u0438\\u044f \\u043c\\u043e\\u043b\\u043e\\u0434\\u0435\\u0436\\u043d\\u043e\\u0439 \\u043f\\u043e\\u043b\\u0438\\u0442\\u0438\\u043a\\u0438 \\u0438\\u0437 \\u0431\\u044e\\u0434\\u0436\\u0435\\u0442\\u0430 \\u0441\\u0443\\u0431\\u044a\\u0435\\u043a\\u0442\\u043e\\u0432 \\u0420\\u043e\\u0441\\u0441\\u0438\\u0439\\u0441\\u043a\\u043e\\u0439 \\u0424\\u0435\\u0434\\u0435\\u0440\\u0430\\u0446\\u0438\\u0438\",\"\\u041e\\u0431\\u044a\\u0435\\u043c \\u0444\\u0438\\u043d\\u0430\\u043d\\u0441\\u0438\\u0440\\u043e\\u0432\\u0430\\u043d\\u0438\\u044f \\u043c\\u043e\\u043b\\u043e\\u0434\\u0435\\u0436\\u043d\\u043e\\u0439 \\u043f\\u043e\\u043b\\u0438\\u0442\\u0438\\u043a\\u0438 \\u0438\\u0437 \\u0431\\u044e\\u0434\\u0436\\u0435\\u0442\\u0430 \\u0441\\u0443\\u0431\\u044a\\u0435\\u043a\\u0442\\u043e\\u0432 \\u0420\\u043e\\u0441\\u0441\\u0438\\u0439\\u0441\\u043a\\u043e\\u0439 \\u0424\\u0435\\u0434\\u0435\\u0440\\u0430\\u0446\\u0438\\u0438\"],\"\\u0413\\u043e\\u0434\":[2016,2017,2018,2019,2020,2021],\"\\u041e\\u0431\\u044a\\u0435\\u043c\":{\"__ndarray__\":\"hetJjtFj9UEAAF7UgzcAQuF6xlO8OQZCUrg3Tt+fB0IAAMAaE9kPQgAAMMKVhhFC\",\"dtype\":\"float64\",\"order\":\"little\",\"shape\":[6]}},\"selected\":{\"id\":\"15277\"},\"selection_policy\":{\"id\":\"15291\"}},\"id\":\"15276\",\"type\":\"ColumnDataSource\"},{\"attributes\":{\"data\":{\"Variable\":[\"\\u041e\\u0431\\u044a\\u0435\\u043c \\u0433\\u0440\\u0430\\u043d\\u0442\\u043e\\u0432\\u044b\\u0445 \\u0441\\u0440\\u0435\\u0434\\u0441\\u0442\\u0432, \\u0432\\u044b\\u0434\\u0430\\u043d\\u043d\\u044b\\u0445 \\u0444\\u0438\\u0437\\u0438\\u0447\\u0435\\u0441\\u043a\\u0438\\u043c \\u0438 \\u044e\\u0440\\u0438\\u0434\\u0438\\u0447\\u0435\\u0441\\u043a\\u0438\\u043c \\u043b\\u0438\\u0446\\u0430\\u043c, \\u0432 \\u0440\\u0430\\u043c\\u043a\\u0430\\u0445 \\u0440\\u0435\\u0430\\u043b\\u0438\\u0437\\u0430\\u0446\\u0438\\u0438 \\u0433\\u043e\\u0441\\u0443\\u0434\\u0430\\u0440\\u0441\\u0442\\u0432\\u0435\\u043d\\u043d\\u043e\\u0439 \\u043c\\u043e\\u043b\\u043e\\u0434\\u0435\\u0436\\u043d\\u043e\\u0439 \\u043f\\u043e\\u043b\\u0438\\u0442\\u0438\\u043a\\u0438\",\"\\u041e\\u0431\\u044a\\u0435\\u043c \\u0433\\u0440\\u0430\\u043d\\u0442\\u043e\\u0432\\u044b\\u0445 \\u0441\\u0440\\u0435\\u0434\\u0441\\u0442\\u0432, \\u0432\\u044b\\u0434\\u0430\\u043d\\u043d\\u044b\\u0445 \\u0444\\u0438\\u0437\\u0438\\u0447\\u0435\\u0441\\u043a\\u0438\\u043c \\u0438 \\u044e\\u0440\\u0438\\u0434\\u0438\\u0447\\u0435\\u0441\\u043a\\u0438\\u043c \\u043b\\u0438\\u0446\\u0430\\u043c, \\u0432 \\u0440\\u0430\\u043c\\u043a\\u0430\\u0445 \\u0440\\u0435\\u0430\\u043b\\u0438\\u0437\\u0430\\u0446\\u0438\\u0438 \\u0433\\u043e\\u0441\\u0443\\u0434\\u0430\\u0440\\u0441\\u0442\\u0432\\u0435\\u043d\\u043d\\u043e\\u0439 \\u043c\\u043e\\u043b\\u043e\\u0434\\u0435\\u0436\\u043d\\u043e\\u0439 \\u043f\\u043e\\u043b\\u0438\\u0442\\u0438\\u043a\\u0438\",\"\\u041e\\u0431\\u044a\\u0435\\u043c \\u0433\\u0440\\u0430\\u043d\\u0442\\u043e\\u0432\\u044b\\u0445 \\u0441\\u0440\\u0435\\u0434\\u0441\\u0442\\u0432, \\u0432\\u044b\\u0434\\u0430\\u043d\\u043d\\u044b\\u0445 \\u0444\\u0438\\u0437\\u0438\\u0447\\u0435\\u0441\\u043a\\u0438\\u043c \\u0438 \\u044e\\u0440\\u0438\\u0434\\u0438\\u0447\\u0435\\u0441\\u043a\\u0438\\u043c \\u043b\\u0438\\u0446\\u0430\\u043c, \\u0432 \\u0440\\u0430\\u043c\\u043a\\u0430\\u0445 \\u0440\\u0435\\u0430\\u043b\\u0438\\u0437\\u0430\\u0446\\u0438\\u0438 \\u0433\\u043e\\u0441\\u0443\\u0434\\u0430\\u0440\\u0441\\u0442\\u0432\\u0435\\u043d\\u043d\\u043e\\u0439 \\u043c\\u043e\\u043b\\u043e\\u0434\\u0435\\u0436\\u043d\\u043e\\u0439 \\u043f\\u043e\\u043b\\u0438\\u0442\\u0438\\u043a\\u0438\",\"\\u041e\\u0431\\u044a\\u0435\\u043c \\u0433\\u0440\\u0430\\u043d\\u0442\\u043e\\u0432\\u044b\\u0445 \\u0441\\u0440\\u0435\\u0434\\u0441\\u0442\\u0432, \\u0432\\u044b\\u0434\\u0430\\u043d\\u043d\\u044b\\u0445 \\u0444\\u0438\\u0437\\u0438\\u0447\\u0435\\u0441\\u043a\\u0438\\u043c \\u0438 \\u044e\\u0440\\u0438\\u0434\\u0438\\u0447\\u0435\\u0441\\u043a\\u0438\\u043c \\u043b\\u0438\\u0446\\u0430\\u043c, \\u0432 \\u0440\\u0430\\u043c\\u043a\\u0430\\u0445 \\u0440\\u0435\\u0430\\u043b\\u0438\\u0437\\u0430\\u0446\\u0438\\u0438 \\u0433\\u043e\\u0441\\u0443\\u0434\\u0430\\u0440\\u0441\\u0442\\u0432\\u0435\\u043d\\u043d\\u043e\\u0439 \\u043c\\u043e\\u043b\\u043e\\u0434\\u0435\\u0436\\u043d\\u043e\\u0439 \\u043f\\u043e\\u043b\\u0438\\u0442\\u0438\\u043a\\u0438\",\"\\u041e\\u0431\\u044a\\u0435\\u043c \\u0433\\u0440\\u0430\\u043d\\u0442\\u043e\\u0432\\u044b\\u0445 \\u0441\\u0440\\u0435\\u0434\\u0441\\u0442\\u0432, \\u0432\\u044b\\u0434\\u0430\\u043d\\u043d\\u044b\\u0445 \\u0444\\u0438\\u0437\\u0438\\u0447\\u0435\\u0441\\u043a\\u0438\\u043c \\u0438 \\u044e\\u0440\\u0438\\u0434\\u0438\\u0447\\u0435\\u0441\\u043a\\u0438\\u043c \\u043b\\u0438\\u0446\\u0430\\u043c, \\u0432 \\u0440\\u0430\\u043c\\u043a\\u0430\\u0445 \\u0440\\u0435\\u0430\\u043b\\u0438\\u0437\\u0430\\u0446\\u0438\\u0438 \\u0433\\u043e\\u0441\\u0443\\u0434\\u0430\\u0440\\u0441\\u0442\\u0432\\u0435\\u043d\\u043d\\u043e\\u0439 \\u043c\\u043e\\u043b\\u043e\\u0434\\u0435\\u0436\\u043d\\u043e\\u0439 \\u043f\\u043e\\u043b\\u0438\\u0442\\u0438\\u043a\\u0438\",\"\\u041e\\u0431\\u044a\\u0435\\u043c \\u0433\\u0440\\u0430\\u043d\\u0442\\u043e\\u0432\\u044b\\u0445 \\u0441\\u0440\\u0435\\u0434\\u0441\\u0442\\u0432, \\u0432\\u044b\\u0434\\u0430\\u043d\\u043d\\u044b\\u0445 \\u0444\\u0438\\u0437\\u0438\\u0447\\u0435\\u0441\\u043a\\u0438\\u043c \\u0438 \\u044e\\u0440\\u0438\\u0434\\u0438\\u0447\\u0435\\u0441\\u043a\\u0438\\u043c \\u043b\\u0438\\u0446\\u0430\\u043c, \\u0432 \\u0440\\u0430\\u043c\\u043a\\u0430\\u0445 \\u0440\\u0435\\u0430\\u043b\\u0438\\u0437\\u0430\\u0446\\u0438\\u0438 \\u0433\\u043e\\u0441\\u0443\\u0434\\u0430\\u0440\\u0441\\u0442\\u0432\\u0435\\u043d\\u043d\\u043e\\u0439 \\u043c\\u043e\\u043b\\u043e\\u0434\\u0435\\u0436\\u043d\\u043e\\u0439 \\u043f\\u043e\\u043b\\u0438\\u0442\\u0438\\u043a\\u0438\"],\"\\u0413\\u043e\\u0434\":[2016,2017,2018,2019,2020,2021],\"\\u041e\\u0431\\u044a\\u0435\\u043c\":{\"__ndarray__\":\"H4W7+gHr0EE9CpdRNY/AQQAAAAM7fOZBAADQZTGG9UEAAGDn//z1QQAAoDdHyvFB\",\"dtype\":\"float64\",\"order\":\"little\",\"shape\":[6]}},\"selected\":{\"id\":\"15344\"},\"selection_policy\":{\"id\":\"15364\"}},\"id\":\"15343\",\"type\":\"ColumnDataSource\"},{\"attributes\":{},\"id\":\"15370\",\"type\":\"Selection\"},{\"attributes\":{\"line_color\":\"#8b8b8b\",\"line_width\":2,\"x\":{\"field\":\"\\u0413\\u043e\\u0434\"},\"y\":{\"field\":\"\\u041e\\u0431\\u044a\\u0435\\u043c\"}},\"id\":\"15372\",\"type\":\"Line\"},{\"attributes\":{\"axis_label\":\"\\u0413\\u043e\\u0434\",\"coordinates\":null,\"formatter\":{\"id\":\"15271\"},\"group\":null,\"major_label_policy\":{\"id\":\"15272\"},\"ticker\":{\"id\":\"15250\"}},\"id\":\"15249\",\"type\":\"LinearAxis\"},{\"attributes\":{\"source\":{\"id\":\"15369\"}},\"id\":\"15376\",\"type\":\"CDSView\"},{\"attributes\":{\"below\":[{\"id\":\"15249\"},{\"id\":\"15294\"}],\"center\":[{\"id\":\"15252\"},{\"id\":\"15256\"}],\"height\":500,\"left\":[{\"id\":\"15253\"}],\"margin\":[5,5,5,5],\"min_border_bottom\":10,\"min_border_left\":10,\"min_border_right\":10,\"min_border_top\":10,\"renderers\":[{\"id\":\"15282\"},{\"id\":\"15303\"},{\"id\":\"15325\"},{\"id\":\"15349\"},{\"id\":\"15375\"},{\"id\":\"15403\"},{\"id\":\"15433\"},{\"id\":\"15465\"},{\"id\":\"15499\"},{\"id\":\"15535\"},{\"id\":\"15573\"}],\"sizing_mode\":\"fixed\",\"title\":{\"id\":\"15241\"},\"toolbar\":{\"id\":\"15263\"},\"width\":620,\"x_range\":{\"id\":\"15227\"},\"x_scale\":{\"id\":\"15245\"},\"y_range\":{\"id\":\"15228\"},\"y_scale\":{\"id\":\"15247\"}},\"id\":\"15240\",\"subtype\":\"Figure\",\"type\":\"Plot\"},{\"attributes\":{\"line_alpha\":0.2,\"line_color\":\"#8b8b8b\",\"line_width\":2,\"x\":{\"field\":\"\\u0413\\u043e\\u0434\"},\"y\":{\"field\":\"\\u041e\\u0431\\u044a\\u0435\\u043c\"}},\"id\":\"15374\",\"type\":\"Line\"},{\"attributes\":{},\"id\":\"15245\",\"type\":\"LinearScale\"},{\"attributes\":{\"label\":{\"value\":\"\\u041a\\u043e\\u043b\\u0438\\u0447\\u0435\\u0441\\u0442\\u0432\\u043e \\u0440\\u0435\\u0433\\u0438\\u043e\\u043d\\u0430\\u043b\\u044c\\u043d\\u044b\\u0445 \\u043e\\u0431\\u0449\\u0435\\u0441\\u0442\\u0432\\u0435\\u043d\\u043d\\u044b\\u0445 \\u043e\\u0431\\u044a\\u0435\\u0434\\u0438\\u043d\\u0435\\u043d\\u0438\\u0439, \\u043f\\u043e\\u043b\\u044c\\u0437\\u0443\\u044e\\u0449\\u0438\\u0445\\u0441\\u044f \\u0433\\u043e\\u0441\\u0443\\u0434\\u0430\\u0440\\u0441\\u0442\\u0432\\u0435\\u043d\\u043d\\u043e\\u0439 \\u043f\\u043e\\u0434\\u0434\\u0435\\u0440\\u0436\\u043a\\u043e\\u0439\"},\"renderers\":[{\"id\":\"15375\"}]},\"id\":\"15395\",\"type\":\"LegendItem\"},{\"attributes\":{\"callback\":null,\"renderers\":[{\"id\":\"15282\"},{\"id\":\"15303\"},{\"id\":\"15325\"},{\"id\":\"15349\"},{\"id\":\"15375\"},{\"id\":\"15403\"},{\"id\":\"15433\"},{\"id\":\"15465\"},{\"id\":\"15499\"},{\"id\":\"15535\"},{\"id\":\"15573\"}],\"tags\":[\"hv_created\"],\"tooltips\":[[\"Variable\",\"@{Variable}\"],[\"\\u0413\\u043e\\u0434\",\"@{\\u0413\\u043e\\u0434}\"],[\"\\u041e\\u0431\\u044a\\u0435\\u043c\",\"@{\\u041e\\u0431\\u044a\\u0435\\u043c}\"]]},\"id\":\"15229\",\"type\":\"HoverTool\"},{\"attributes\":{\"line_color\":\"#d62728\",\"line_width\":2,\"x\":{\"field\":\"\\u0413\\u043e\\u0434\"},\"y\":{\"field\":\"\\u041e\\u0431\\u044a\\u0435\\u043c\"}},\"id\":\"15492\",\"type\":\"Line\"},{\"attributes\":{},\"id\":\"15392\",\"type\":\"UnionRenderers\"},{\"attributes\":{\"line_alpha\":0.1,\"line_color\":\"#8b8b8b\",\"line_width\":2,\"x\":{\"field\":\"\\u0413\\u043e\\u0434\"},\"y\":{\"field\":\"\\u041e\\u0431\\u044a\\u0435\\u043c\"}},\"id\":\"15373\",\"type\":\"Line\"},{\"attributes\":{\"label\":{\"value\":\"\\u041e\\u0431\\u044a\\u0435\\u043c \\u0444\\u0438\\u043d\\u0430\\u043d\\u0441\\u0438\\u0440\\u043e\\u0432\\u0430\\u043d\\u0438\\u044f \\u043c\\u043e\\u043b\\u043e\\u0434\\u0435\\u0436\\u043d\\u043e\\u0439 \\u043f\\u043e\\u043b\\u0438\\u0442\\u0438\\u043a\\u0438 \\u0438\\u0437 \\u0431\\u044e\\u0434\\u0436\\u0435\\u0442\\u0430 \\u0441\\u0443\\u0431\\u044a\\u0435\\u043a\\u0442\\u043e\\u0432 \\u0420\\u043e\\u0441\\u0441\\u0438\\u0439\\u0441\\u043a\\u043e\\u0439 \\u0424\\u0435\\u0434\\u0435\\u0440\\u0430\\u0446\\u0438\\u0438\"},\"renderers\":[{\"id\":\"15282\"}]},\"id\":\"15295\",\"type\":\"LegendItem\"},{\"attributes\":{\"line_color\":\"#fc4f30\",\"line_width\":2,\"x\":{\"field\":\"\\u0413\\u043e\\u0434\"},\"y\":{\"field\":\"\\u041e\\u0431\\u044a\\u0435\\u043c\"}},\"id\":\"15300\",\"type\":\"Line\"},{\"attributes\":{},\"id\":\"15494\",\"type\":\"Selection\"},{\"attributes\":{\"line_color\":\"#30a2da\",\"line_width\":2,\"x\":{\"field\":\"\\u0413\\u043e\\u0434\"},\"y\":{\"field\":\"\\u041e\\u0431\\u044a\\u0435\\u043c\"}},\"id\":\"15296\",\"type\":\"Line\"},{\"attributes\":{\"data\":{\"Variable\":[\"\\u041e\\u0431\\u044a\\u0435\\u043c \\u0444\\u0438\\u043d\\u0430\\u043d\\u0441\\u0438\\u0440\\u043e\\u0432\\u0430\\u043d\\u0438\\u044f \\u043c\\u043e\\u043b\\u043e\\u0434\\u0435\\u0436\\u043d\\u043e\\u0439 \\u043f\\u043e\\u043b\\u0438\\u0442\\u0438\\u043a\\u0438 \\u0438\\u0437 \\u0431\\u044e\\u0434\\u0436\\u0435\\u0442\\u0430 \\u043e\\u0440\\u0433\\u0430\\u043d\\u043e\\u0432 \\u043c\\u0435\\u0441\\u0442\\u043d\\u043e\\u0433\\u043e \\u0441\\u0430\\u043c\\u043e\\u0443\\u043f\\u0440\\u0430\\u0432\\u043b\\u0435\\u043d\\u0438\\u044f\",\"\\u041e\\u0431\\u044a\\u0435\\u043c \\u0444\\u0438\\u043d\\u0430\\u043d\\u0441\\u0438\\u0440\\u043e\\u0432\\u0430\\u043d\\u0438\\u044f \\u043c\\u043e\\u043b\\u043e\\u0434\\u0435\\u0436\\u043d\\u043e\\u0439 \\u043f\\u043e\\u043b\\u0438\\u0442\\u0438\\u043a\\u0438 \\u0438\\u0437 \\u0431\\u044e\\u0434\\u0436\\u0435\\u0442\\u0430 \\u043e\\u0440\\u0433\\u0430\\u043d\\u043e\\u0432 \\u043c\\u0435\\u0441\\u0442\\u043d\\u043e\\u0433\\u043e \\u0441\\u0430\\u043c\\u043e\\u0443\\u043f\\u0440\\u0430\\u0432\\u043b\\u0435\\u043d\\u0438\\u044f\",\"\\u041e\\u0431\\u044a\\u0435\\u043c \\u0444\\u0438\\u043d\\u0430\\u043d\\u0441\\u0438\\u0440\\u043e\\u0432\\u0430\\u043d\\u0438\\u044f \\u043c\\u043e\\u043b\\u043e\\u0434\\u0435\\u0436\\u043d\\u043e\\u0439 \\u043f\\u043e\\u043b\\u0438\\u0442\\u0438\\u043a\\u0438 \\u0438\\u0437 \\u0431\\u044e\\u0434\\u0436\\u0435\\u0442\\u0430 \\u043e\\u0440\\u0433\\u0430\\u043d\\u043e\\u0432 \\u043c\\u0435\\u0441\\u0442\\u043d\\u043e\\u0433\\u043e \\u0441\\u0430\\u043c\\u043e\\u0443\\u043f\\u0440\\u0430\\u0432\\u043b\\u0435\\u043d\\u0438\\u044f\",\"\\u041e\\u0431\\u044a\\u0435\\u043c \\u0444\\u0438\\u043d\\u0430\\u043d\\u0441\\u0438\\u0440\\u043e\\u0432\\u0430\\u043d\\u0438\\u044f \\u043c\\u043e\\u043b\\u043e\\u0434\\u0435\\u0436\\u043d\\u043e\\u0439 \\u043f\\u043e\\u043b\\u0438\\u0442\\u0438\\u043a\\u0438 \\u0438\\u0437 \\u0431\\u044e\\u0434\\u0436\\u0435\\u0442\\u0430 \\u043e\\u0440\\u0433\\u0430\\u043d\\u043e\\u0432 \\u043c\\u0435\\u0441\\u0442\\u043d\\u043e\\u0433\\u043e \\u0441\\u0430\\u043c\\u043e\\u0443\\u043f\\u0440\\u0430\\u0432\\u043b\\u0435\\u043d\\u0438\\u044f\",\"\\u041e\\u0431\\u044a\\u0435\\u043c \\u0444\\u0438\\u043d\\u0430\\u043d\\u0441\\u0438\\u0440\\u043e\\u0432\\u0430\\u043d\\u0438\\u044f \\u043c\\u043e\\u043b\\u043e\\u0434\\u0435\\u0436\\u043d\\u043e\\u0439 \\u043f\\u043e\\u043b\\u0438\\u0442\\u0438\\u043a\\u0438 \\u0438\\u0437 \\u0431\\u044e\\u0434\\u0436\\u0435\\u0442\\u0430 \\u043e\\u0440\\u0433\\u0430\\u043d\\u043e\\u0432 \\u043c\\u0435\\u0441\\u0442\\u043d\\u043e\\u0433\\u043e \\u0441\\u0430\\u043c\\u043e\\u0443\\u043f\\u0440\\u0430\\u0432\\u043b\\u0435\\u043d\\u0438\\u044f\",\"\\u041e\\u0431\\u044a\\u0435\\u043c \\u0444\\u0438\\u043d\\u0430\\u043d\\u0441\\u0438\\u0440\\u043e\\u0432\\u0430\\u043d\\u0438\\u044f \\u043c\\u043e\\u043b\\u043e\\u0434\\u0435\\u0436\\u043d\\u043e\\u0439 \\u043f\\u043e\\u043b\\u0438\\u0442\\u0438\\u043a\\u0438 \\u0438\\u0437 \\u0431\\u044e\\u0434\\u0436\\u0435\\u0442\\u0430 \\u043e\\u0440\\u0433\\u0430\\u043d\\u043e\\u0432 \\u043c\\u0435\\u0441\\u0442\\u043d\\u043e\\u0433\\u043e \\u0441\\u0430\\u043c\\u043e\\u0443\\u043f\\u0440\\u0430\\u0432\\u043b\\u0435\\u043d\\u0438\\u044f\"],\"\\u0413\\u043e\\u0434\":[2016,2017,2018,2019,2020,2021],\"\\u041e\\u0431\\u044a\\u0435\\u043c\":{\"__ndarray__\":\"ZmZuXnsC6kHhejxYnUrtQSlcn5ObkPJB2c6V3ckEAkIAAFyTaqwRQgAAWIawkRBC\",\"dtype\":\"float64\",\"order\":\"little\",\"shape\":[6]}},\"selected\":{\"id\":\"15298\"},\"selection_policy\":{\"id\":\"15314\"}},\"id\":\"15297\",\"type\":\"ColumnDataSource\"},{\"attributes\":{\"line_color\":\"#1f77b4\",\"line_width\":2,\"x\":{\"field\":\"\\u0413\\u043e\\u0434\"},\"y\":{\"field\":\"\\u041e\\u0431\\u044a\\u0435\\u043c\"}},\"id\":\"15496\",\"type\":\"Line\"},{\"attributes\":{\"coordinates\":null,\"data_source\":{\"id\":\"15369\"},\"glyph\":{\"id\":\"15372\"},\"group\":null,\"hover_glyph\":null,\"muted_glyph\":{\"id\":\"15374\"},\"nonselection_glyph\":{\"id\":\"15373\"},\"selection_glyph\":{\"id\":\"15396\"},\"view\":{\"id\":\"15376\"}},\"id\":\"15375\",\"type\":\"GlyphRenderer\"},{\"attributes\":{},\"id\":\"15428\",\"type\":\"Selection\"},{\"attributes\":{\"source\":{\"id\":\"15493\"}},\"id\":\"15500\",\"type\":\"CDSView\"},{\"attributes\":{},\"id\":\"15298\",\"type\":\"Selection\"},{\"attributes\":{\"line_alpha\":0.2,\"line_color\":\"#1f77b4\",\"line_width\":2,\"x\":{\"field\":\"\\u0413\\u043e\\u0434\"},\"y\":{\"field\":\"\\u041e\\u0431\\u044a\\u0435\\u043c\"}},\"id\":\"15498\",\"type\":\"Line\"},{\"attributes\":{\"label\":{\"value\":\"\\u0427\\u0438\\u0441\\u043b\\u0435\\u043d\\u043d\\u043e\\u0441\\u0442\\u044c \\u0443\\u0447\\u0430\\u0441\\u0442\\u043d\\u0438\\u043a\\u043e\\u0432 \\u043c\\u043e\\u043b\\u043e\\u0434\\u0435\\u0436\\u043d\\u044b\\u0445 \\u0444\\u043e\\u0440\\u0443\\u043c\\u043e\\u0432\"},\"renderers\":[{\"id\":\"15499\"}]},\"id\":\"15527\",\"type\":\"LegendItem\"},{\"attributes\":{\"source\":{\"id\":\"15297\"}},\"id\":\"15304\",\"type\":\"CDSView\"},{\"attributes\":{\"line_alpha\":0.2,\"line_color\":\"#fc4f30\",\"line_width\":2,\"x\":{\"field\":\"\\u0413\\u043e\\u0434\"},\"y\":{\"field\":\"\\u041e\\u0431\\u044a\\u0435\\u043c\"}},\"id\":\"15302\",\"type\":\"Line\"},{\"attributes\":{\"label\":{\"value\":\"\\u041e\\u0431\\u044a\\u0435\\u043c \\u0444\\u0438\\u043d\\u0430\\u043d\\u0441\\u0438\\u0440\\u043e\\u0432\\u0430\\u043d\\u0438\\u044f \\u043c\\u043e\\u043b\\u043e\\u0434\\u0435\\u0436\\u043d\\u043e\\u0439 \\u043f\\u043e\\u043b\\u0438\\u0442\\u0438\\u043a\\u0438 \\u0438\\u0437 \\u0431\\u044e\\u0434\\u0436\\u0435\\u0442\\u0430 \\u043e\\u0440\\u0433\\u0430\\u043d\\u043e\\u0432 \\u043c\\u0435\\u0441\\u0442\\u043d\\u043e\\u0433\\u043e \\u0441\\u0430\\u043c\\u043e\\u0443\\u043f\\u0440\\u0430\\u0432\\u043b\\u0435\\u043d\\u0438\\u044f\"},\"renderers\":[{\"id\":\"15303\"}]},\"id\":\"15317\",\"type\":\"LegendItem\"},{\"attributes\":{},\"id\":\"15524\",\"type\":\"UnionRenderers\"},{\"attributes\":{\"coordinates\":null,\"group\":null,\"text\":\"\\u0421\\u0442\\u0430\\u0442\\u0438\\u0441\\u0442\\u0438\\u043a\\u0430 \\u043f\\u043e \\u0433\\u043e\\u0434\\u0430\\u043c\",\"text_color\":\"black\",\"text_font_size\":\"12pt\"},\"id\":\"15241\",\"type\":\"Title\"},{\"attributes\":{\"line_alpha\":0.1,\"line_color\":\"#1f77b4\",\"line_width\":2,\"x\":{\"field\":\"\\u0413\\u043e\\u0434\"},\"y\":{\"field\":\"\\u041e\\u0431\\u044a\\u0435\\u043c\"}},\"id\":\"15497\",\"type\":\"Line\"},{\"attributes\":{},\"id\":\"15314\",\"type\":\"UnionRenderers\"},{\"attributes\":{\"axis\":{\"id\":\"15249\"},\"coordinates\":null,\"grid_line_color\":null,\"group\":null,\"ticker\":null},\"id\":\"15252\",\"type\":\"Grid\"},{\"attributes\":{\"data\":{\"Variable\":[\"\\u0427\\u0438\\u0441\\u043b\\u0435\\u043d\\u043d\\u043e\\u0441\\u0442\\u044c \\u0443\\u0447\\u0430\\u0441\\u0442\\u043d\\u0438\\u043a\\u043e\\u0432 \\u043c\\u043e\\u043b\\u043e\\u0434\\u0435\\u0436\\u043d\\u044b\\u0445 \\u0444\\u043e\\u0440\\u0443\\u043c\\u043e\\u0432\",\"\\u0427\\u0438\\u0441\\u043b\\u0435\\u043d\\u043d\\u043e\\u0441\\u0442\\u044c \\u0443\\u0447\\u0430\\u0441\\u0442\\u043d\\u0438\\u043a\\u043e\\u0432 \\u043c\\u043e\\u043b\\u043e\\u0434\\u0435\\u0436\\u043d\\u044b\\u0445 \\u0444\\u043e\\u0440\\u0443\\u043c\\u043e\\u0432\",\"\\u0427\\u0438\\u0441\\u043b\\u0435\\u043d\\u043d\\u043e\\u0441\\u0442\\u044c \\u0443\\u0447\\u0430\\u0441\\u0442\\u043d\\u0438\\u043a\\u043e\\u0432 \\u043c\\u043e\\u043b\\u043e\\u0434\\u0435\\u0436\\u043d\\u044b\\u0445 \\u0444\\u043e\\u0440\\u0443\\u043c\\u043e\\u0432\",\"\\u0427\\u0438\\u0441\\u043b\\u0435\\u043d\\u043d\\u043e\\u0441\\u0442\\u044c \\u0443\\u0447\\u0430\\u0441\\u0442\\u043d\\u0438\\u043a\\u043e\\u0432 \\u043c\\u043e\\u043b\\u043e\\u0434\\u0435\\u0436\\u043d\\u044b\\u0445 \\u0444\\u043e\\u0440\\u0443\\u043c\\u043e\\u0432\",\"\\u0427\\u0438\\u0441\\u043b\\u0435\\u043d\\u043d\\u043e\\u0441\\u0442\\u044c \\u0443\\u0447\\u0430\\u0441\\u0442\\u043d\\u0438\\u043a\\u043e\\u0432 \\u043c\\u043e\\u043b\\u043e\\u0434\\u0435\\u0436\\u043d\\u044b\\u0445 \\u0444\\u043e\\u0440\\u0443\\u043c\\u043e\\u0432\",\"\\u0427\\u0438\\u0441\\u043b\\u0435\\u043d\\u043d\\u043e\\u0441\\u0442\\u044c \\u0443\\u0447\\u0430\\u0441\\u0442\\u043d\\u0438\\u043a\\u043e\\u0432 \\u043c\\u043e\\u043b\\u043e\\u0434\\u0435\\u0436\\u043d\\u044b\\u0445 \\u0444\\u043e\\u0440\\u0443\\u043c\\u043e\\u0432\"],\"\\u0413\\u043e\\u0434\":[2016,2017,2018,2019,2020,2021],\"\\u041e\\u0431\\u044a\\u0435\\u043c\":{\"__ndarray__\":\"AAAAAADsFUEAAAAAPHIfQQAAAADaiCtBAAAAAED6LkEAAAAAOtkjQQAAAADxBjVB\",\"dtype\":\"float64\",\"order\":\"little\",\"shape\":[6]}},\"selected\":{\"id\":\"15494\"},\"selection_policy\":{\"id\":\"15524\"}},\"id\":\"15493\",\"type\":\"ColumnDataSource\"},{\"attributes\":{},\"id\":\"15258\",\"type\":\"PanTool\"},{\"attributes\":{},\"id\":\"15398\",\"type\":\"Selection\"},{\"attributes\":{},\"id\":\"15247\",\"type\":\"LinearScale\"},{\"attributes\":{\"coordinates\":null,\"data_source\":{\"id\":\"15493\"},\"glyph\":{\"id\":\"15496\"},\"group\":null,\"hover_glyph\":null,\"muted_glyph\":{\"id\":\"15498\"},\"nonselection_glyph\":{\"id\":\"15497\"},\"selection_glyph\":{\"id\":\"15528\"},\"view\":{\"id\":\"15500\"}},\"id\":\"15499\",\"type\":\"GlyphRenderer\"},{\"attributes\":{\"line_alpha\":0.1,\"line_color\":\"#fc4f30\",\"line_width\":2,\"x\":{\"field\":\"\\u0413\\u043e\\u0434\"},\"y\":{\"field\":\"\\u041e\\u0431\\u044a\\u0435\\u043c\"}},\"id\":\"15301\",\"type\":\"Line\"},{\"attributes\":{\"line_color\":\"#8b8b8b\",\"line_width\":2,\"x\":{\"field\":\"\\u0413\\u043e\\u0434\"},\"y\":{\"field\":\"\\u041e\\u0431\\u044a\\u0435\\u043c\"}},\"id\":\"15396\",\"type\":\"Line\"},{\"attributes\":{},\"id\":\"15259\",\"type\":\"WheelZoomTool\"},{\"attributes\":{},\"id\":\"15250\",\"type\":\"BasicTicker\"},{\"attributes\":{},\"id\":\"15272\",\"type\":\"AllLabels\"},{\"attributes\":{\"axis_label\":\"\\u041e\\u0431\\u044a\\u0435\\u043c\",\"coordinates\":null,\"formatter\":{\"id\":\"15274\"},\"group\":null,\"major_label_policy\":{\"id\":\"15275\"},\"ticker\":{\"id\":\"15254\"}},\"id\":\"15253\",\"type\":\"LinearAxis\"},{\"attributes\":{\"coordinates\":null,\"data_source\":{\"id\":\"15297\"},\"glyph\":{\"id\":\"15300\"},\"group\":null,\"hover_glyph\":null,\"muted_glyph\":{\"id\":\"15302\"},\"nonselection_glyph\":{\"id\":\"15301\"},\"selection_glyph\":{\"id\":\"15318\"},\"view\":{\"id\":\"15304\"}},\"id\":\"15303\",\"type\":\"GlyphRenderer\"},{\"attributes\":{\"axis\":{\"id\":\"15253\"},\"coordinates\":null,\"dimension\":1,\"grid_line_color\":null,\"group\":null,\"ticker\":null},\"id\":\"15256\",\"type\":\"Grid\"},{\"attributes\":{},\"id\":\"15254\",\"type\":\"BasicTicker\"},{\"attributes\":{\"line_color\":\"#17becf\",\"line_width\":2,\"x\":{\"field\":\"\\u0413\\u043e\\u0434\"},\"y\":{\"field\":\"\\u041e\\u0431\\u044a\\u0435\\u043c\"}},\"id\":\"15400\",\"type\":\"Line\"},{\"attributes\":{},\"id\":\"15257\",\"type\":\"SaveTool\"},{\"attributes\":{\"line_alpha\":0.2,\"line_color\":\"#17becf\",\"line_width\":2,\"x\":{\"field\":\"\\u0413\\u043e\\u0434\"},\"y\":{\"field\":\"\\u041e\\u0431\\u044a\\u0435\\u043c\"}},\"id\":\"15402\",\"type\":\"Line\"},{\"attributes\":{\"data\":{\"Variable\":[\"\\u041e\\u0431\\u044a\\u0435\\u043c \\u0444\\u0438\\u043d\\u0430\\u043d\\u0441\\u0438\\u0440\\u043e\\u0432\\u0430\\u043d\\u0438\\u044f \\u043c\\u043e\\u043b\\u043e\\u0434\\u0435\\u0436\\u043d\\u044b\\u0445 \\u0444\\u043e\\u0440\\u0443\\u043c\\u043e\\u0432 \\u0438\\u0437 \\u0441\\u0440\\u0435\\u0434\\u0441\\u0442\\u0432 \\u043e\\u0440\\u0433\\u0430\\u043d\\u043e\\u0432 \\u0431\\u044e\\u0434\\u0436\\u0435\\u0442\\u043e\\u0432 \\u043c\\u0435\\u0441\\u0442\\u043d\\u043e\\u0433\\u043e \\u0441\\u0430\\u043c\\u043e\\u0443\\u043f\\u0440\\u0430\\u0432\\u043b\\u0435\\u043d\\u0438\\u044f\",\"\\u041e\\u0431\\u044a\\u0435\\u043c \\u0444\\u0438\\u043d\\u0430\\u043d\\u0441\\u0438\\u0440\\u043e\\u0432\\u0430\\u043d\\u0438\\u044f \\u043c\\u043e\\u043b\\u043e\\u0434\\u0435\\u0436\\u043d\\u044b\\u0445 \\u0444\\u043e\\u0440\\u0443\\u043c\\u043e\\u0432 \\u0438\\u0437 \\u0441\\u0440\\u0435\\u0434\\u0441\\u0442\\u0432 \\u043e\\u0440\\u0433\\u0430\\u043d\\u043e\\u0432 \\u0431\\u044e\\u0434\\u0436\\u0435\\u0442\\u043e\\u0432 \\u043c\\u0435\\u0441\\u0442\\u043d\\u043e\\u0433\\u043e \\u0441\\u0430\\u043c\\u043e\\u0443\\u043f\\u0440\\u0430\\u0432\\u043b\\u0435\\u043d\\u0438\\u044f\",\"\\u041e\\u0431\\u044a\\u0435\\u043c \\u0444\\u0438\\u043d\\u0430\\u043d\\u0441\\u0438\\u0440\\u043e\\u0432\\u0430\\u043d\\u0438\\u044f \\u043c\\u043e\\u043b\\u043e\\u0434\\u0435\\u0436\\u043d\\u044b\\u0445 \\u0444\\u043e\\u0440\\u0443\\u043c\\u043e\\u0432 \\u0438\\u0437 \\u0441\\u0440\\u0435\\u0434\\u0441\\u0442\\u0432 \\u043e\\u0440\\u0433\\u0430\\u043d\\u043e\\u0432 \\u0431\\u044e\\u0434\\u0436\\u0435\\u0442\\u043e\\u0432 \\u043c\\u0435\\u0441\\u0442\\u043d\\u043e\\u0433\\u043e \\u0441\\u0430\\u043c\\u043e\\u0443\\u043f\\u0440\\u0430\\u0432\\u043b\\u0435\\u043d\\u0438\\u044f\",\"\\u041e\\u0431\\u044a\\u0435\\u043c \\u0444\\u0438\\u043d\\u0430\\u043d\\u0441\\u0438\\u0440\\u043e\\u0432\\u0430\\u043d\\u0438\\u044f \\u043c\\u043e\\u043b\\u043e\\u0434\\u0435\\u0436\\u043d\\u044b\\u0445 \\u0444\\u043e\\u0440\\u0443\\u043c\\u043e\\u0432 \\u0438\\u0437 \\u0441\\u0440\\u0435\\u0434\\u0441\\u0442\\u0432 \\u043e\\u0440\\u0433\\u0430\\u043d\\u043e\\u0432 \\u0431\\u044e\\u0434\\u0436\\u0435\\u0442\\u043e\\u0432 \\u043c\\u0435\\u0441\\u0442\\u043d\\u043e\\u0433\\u043e \\u0441\\u0430\\u043c\\u043e\\u0443\\u043f\\u0440\\u0430\\u0432\\u043b\\u0435\\u043d\\u0438\\u044f\",\"\\u041e\\u0431\\u044a\\u0435\\u043c \\u0444\\u0438\\u043d\\u0430\\u043d\\u0441\\u0438\\u0440\\u043e\\u0432\\u0430\\u043d\\u0438\\u044f \\u043c\\u043e\\u043b\\u043e\\u0434\\u0435\\u0436\\u043d\\u044b\\u0445 \\u0444\\u043e\\u0440\\u0443\\u043c\\u043e\\u0432 \\u0438\\u0437 \\u0441\\u0440\\u0435\\u0434\\u0441\\u0442\\u0432 \\u043e\\u0440\\u0433\\u0430\\u043d\\u043e\\u0432 \\u0431\\u044e\\u0434\\u0436\\u0435\\u0442\\u043e\\u0432 \\u043c\\u0435\\u0441\\u0442\\u043d\\u043e\\u0433\\u043e \\u0441\\u0430\\u043c\\u043e\\u0443\\u043f\\u0440\\u0430\\u0432\\u043b\\u0435\\u043d\\u0438\\u044f\",\"\\u041e\\u0431\\u044a\\u0435\\u043c \\u0444\\u0438\\u043d\\u0430\\u043d\\u0441\\u0438\\u0440\\u043e\\u0432\\u0430\\u043d\\u0438\\u044f \\u043c\\u043e\\u043b\\u043e\\u0434\\u0435\\u0436\\u043d\\u044b\\u0445 \\u0444\\u043e\\u0440\\u0443\\u043c\\u043e\\u0432 \\u0438\\u0437 \\u0441\\u0440\\u0435\\u0434\\u0441\\u0442\\u0432 \\u043e\\u0440\\u0433\\u0430\\u043d\\u043e\\u0432 \\u0431\\u044e\\u0434\\u0436\\u0435\\u0442\\u043e\\u0432 \\u043c\\u0435\\u0441\\u0442\\u043d\\u043e\\u0433\\u043e \\u0441\\u0430\\u043c\\u043e\\u0443\\u043f\\u0440\\u0430\\u0432\\u043b\\u0435\\u043d\\u0438\\u044f\"],\"\\u0413\\u043e\\u0434\":[2016,2017,2018,2019,2020,2021],\"\\u041e\\u0431\\u044a\\u0435\\u043c\":{\"__ndarray__\":\"FK5HPCZjkEFcj8KYtBmWQXE9CksJo5ZBzczMXezhnUHhehQyyNiIQQAAAIJUCp1B\",\"dtype\":\"float64\",\"order\":\"little\",\"shape\":[6]}},\"selected\":{\"id\":\"15568\"},\"selection_policy\":{\"id\":\"15602\"}},\"id\":\"15567\",\"type\":\"ColumnDataSource\"},{\"attributes\":{\"overlay\":{\"id\":\"15262\"}},\"id\":\"15260\",\"type\":\"BoxZoomTool\"},{\"attributes\":{},\"id\":\"15261\",\"type\":\"ResetTool\"},{\"attributes\":{\"source\":{\"id\":\"15397\"}},\"id\":\"15404\",\"type\":\"CDSView\"},{\"attributes\":{\"line_color\":\"#1f77b4\",\"line_width\":2,\"x\":{\"field\":\"\\u0413\\u043e\\u0434\"},\"y\":{\"field\":\"\\u041e\\u0431\\u044a\\u0435\\u043c\"}},\"id\":\"15528\",\"type\":\"Line\"},{\"attributes\":{\"bottom_units\":\"screen\",\"coordinates\":null,\"fill_alpha\":0.5,\"fill_color\":\"lightgrey\",\"group\":null,\"left_units\":\"screen\",\"level\":\"overlay\",\"line_alpha\":1.0,\"line_color\":\"black\",\"line_dash\":[4,4],\"line_width\":2,\"right_units\":\"screen\",\"syncable\":false,\"top_units\":\"screen\"},\"id\":\"15262\",\"type\":\"BoxAnnotation\"},{\"attributes\":{\"source\":{\"id\":\"15427\"}},\"id\":\"15434\",\"type\":\"CDSView\"},{\"attributes\":{\"line_color\":\"#30a2da\",\"line_width\":2,\"x\":{\"field\":\"\\u0413\\u043e\\u0434\"},\"y\":{\"field\":\"\\u041e\\u0431\\u044a\\u0435\\u043c\"}},\"id\":\"15279\",\"type\":\"Line\"},{\"attributes\":{},\"id\":\"15422\",\"type\":\"UnionRenderers\"},{\"attributes\":{},\"id\":\"15530\",\"type\":\"Selection\"},{\"attributes\":{\"label\":{\"value\":\"\\u041a\\u043e\\u043b\\u0438\\u0447\\u0435\\u0441\\u0442\\u0432\\u043e \\u043c\\u0435\\u0441\\u0442\\u043d\\u044b\\u0445 \\u043e\\u0431\\u0449\\u0435\\u0441\\u0442\\u0432\\u0435\\u043d\\u043d\\u044b\\u0445 \\u043e\\u0431\\u044a\\u0435\\u0434\\u0438\\u043d\\u0435\\u043d\\u0438\\u0439, \\u043f\\u043e\\u043b\\u044c\\u0437\\u0443\\u044e\\u0449\\u0438\\u0445\\u0441\\u044f \\u043f\\u043e\\u0434\\u0434\\u0435\\u0440\\u0436\\u043a\\u043e\\u0439\"},\"renderers\":[{\"id\":\"15403\"}]},\"id\":\"15425\",\"type\":\"LegendItem\"},{\"attributes\":{\"line_color\":\"#e377c2\",\"line_width\":2,\"x\":{\"field\":\"\\u0413\\u043e\\u0434\"},\"y\":{\"field\":\"\\u041e\\u0431\\u044a\\u0435\\u043c\"}},\"id\":\"15532\",\"type\":\"Line\"},{\"attributes\":{},\"id\":\"15460\",\"type\":\"Selection\"},{\"attributes\":{},\"id\":\"15271\",\"type\":\"BasicTickFormatter\"},{\"attributes\":{\"source\":{\"id\":\"15529\"}},\"id\":\"15536\",\"type\":\"CDSView\"},{\"attributes\":{\"line_alpha\":0.1,\"line_color\":\"#17becf\",\"line_width\":2,\"x\":{\"field\":\"\\u0413\\u043e\\u0434\"},\"y\":{\"field\":\"\\u041e\\u0431\\u044a\\u0435\\u043c\"}},\"id\":\"15401\",\"type\":\"Line\"},{\"attributes\":{\"line_alpha\":0.1,\"line_color\":\"#30a2da\",\"line_width\":2,\"x\":{\"field\":\"\\u0413\\u043e\\u0434\"},\"y\":{\"field\":\"\\u041e\\u0431\\u044a\\u0435\\u043c\"}},\"id\":\"15280\",\"type\":\"Line\"},{\"attributes\":{\"line_alpha\":0.2,\"line_color\":\"#e377c2\",\"line_width\":2,\"x\":{\"field\":\"\\u0413\\u043e\\u0434\"},\"y\":{\"field\":\"\\u041e\\u0431\\u044a\\u0435\\u043c\"}},\"id\":\"15534\",\"type\":\"Line\"},{\"attributes\":{\"label\":{\"value\":\"\\u041e\\u0431\\u044a\\u0435\\u043c \\u0444\\u0438\\u043d\\u0430\\u043d\\u0441\\u0438\\u0440\\u043e\\u0432\\u0430\\u043d\\u0438\\u044f \\u043c\\u043e\\u043b\\u043e\\u0434\\u0435\\u0436\\u043d\\u044b\\u0445 \\u0444\\u043e\\u0440\\u0443\\u043c\\u043e\\u0432 \\u0438\\u0437 \\u0441\\u0440\\u0435\\u0434\\u0441\\u0442\\u0432 \\u0431\\u044e\\u0434\\u0436\\u0435\\u0442\\u043e\\u0432 \\u0441\\u0443\\u0431\\u044a\\u0435\\u043a\\u0442\\u043e\\u0432 \\u0420\\u043e\\u0441\\u0441\\u0438\\u0439\\u0441\\u043a\\u043e\\u0439 \\u0424\\u0435\\u0434\\u0435\\u0440\\u0430\\u0446\\u0438\\u0438\"},\"renderers\":[{\"id\":\"15535\"}]},\"id\":\"15565\",\"type\":\"LegendItem\"},{\"attributes\":{\"coordinates\":null,\"data_source\":{\"id\":\"15397\"},\"glyph\":{\"id\":\"15400\"},\"group\":null,\"hover_glyph\":null,\"muted_glyph\":{\"id\":\"15402\"},\"nonselection_glyph\":{\"id\":\"15401\"},\"selection_glyph\":{\"id\":\"15426\"},\"view\":{\"id\":\"15404\"}},\"id\":\"15403\",\"type\":\"GlyphRenderer\"},{\"attributes\":{\"line_color\":\"#fc4f30\",\"line_width\":2,\"x\":{\"field\":\"\\u0413\\u043e\\u0434\"},\"y\":{\"field\":\"\\u041e\\u0431\\u044a\\u0435\\u043c\"}},\"id\":\"15318\",\"type\":\"Line\"},{\"attributes\":{},\"id\":\"15320\",\"type\":\"Selection\"},{\"attributes\":{},\"id\":\"15562\",\"type\":\"UnionRenderers\"},{\"attributes\":{\"end\":2021.0,\"reset_end\":2021.0,\"reset_start\":2016.0,\"start\":2016.0,\"tags\":[[[\"\\u0413\\u043e\\u0434\",\"\\u0413\\u043e\\u0434\",null]]]},\"id\":\"15227\",\"type\":\"Range1d\"},{\"attributes\":{\"line_color\":\"#e5ae38\",\"line_width\":2,\"x\":{\"field\":\"\\u0413\\u043e\\u0434\"},\"y\":{\"field\":\"\\u041e\\u0431\\u044a\\u0435\\u043c\"}},\"id\":\"15322\",\"type\":\"Line\"},{\"attributes\":{\"line_alpha\":0.1,\"line_color\":\"#e377c2\",\"line_width\":2,\"x\":{\"field\":\"\\u0413\\u043e\\u0434\"},\"y\":{\"field\":\"\\u041e\\u0431\\u044a\\u0435\\u043c\"}},\"id\":\"15533\",\"type\":\"Line\"},{\"attributes\":{\"data\":{\"Variable\":[\"\\u041e\\u0431\\u044a\\u0435\\u043c \\u0444\\u0438\\u043d\\u0430\\u043d\\u0441\\u0438\\u0440\\u043e\\u0432\\u0430\\u043d\\u0438\\u044f \\u043c\\u043e\\u043b\\u043e\\u0434\\u0435\\u0436\\u043d\\u044b\\u0445 \\u0444\\u043e\\u0440\\u0443\\u043c\\u043e\\u0432 \\u0438\\u0437 \\u0441\\u0440\\u0435\\u0434\\u0441\\u0442\\u0432 \\u0431\\u044e\\u0434\\u0436\\u0435\\u0442\\u043e\\u0432 \\u0441\\u0443\\u0431\\u044a\\u0435\\u043a\\u0442\\u043e\\u0432 \\u0420\\u043e\\u0441\\u0441\\u0438\\u0439\\u0441\\u043a\\u043e\\u0439 \\u0424\\u0435\\u0434\\u0435\\u0440\\u0430\\u0446\\u0438\\u0438\",\"\\u041e\\u0431\\u044a\\u0435\\u043c \\u0444\\u0438\\u043d\\u0430\\u043d\\u0441\\u0438\\u0440\\u043e\\u0432\\u0430\\u043d\\u0438\\u044f \\u043c\\u043e\\u043b\\u043e\\u0434\\u0435\\u0436\\u043d\\u044b\\u0445 \\u0444\\u043e\\u0440\\u0443\\u043c\\u043e\\u0432 \\u0438\\u0437 \\u0441\\u0440\\u0435\\u0434\\u0441\\u0442\\u0432 \\u0431\\u044e\\u0434\\u0436\\u0435\\u0442\\u043e\\u0432 \\u0441\\u0443\\u0431\\u044a\\u0435\\u043a\\u0442\\u043e\\u0432 \\u0420\\u043e\\u0441\\u0441\\u0438\\u0439\\u0441\\u043a\\u043e\\u0439 \\u0424\\u0435\\u0434\\u0435\\u0440\\u0430\\u0446\\u0438\\u0438\",\"\\u041e\\u0431\\u044a\\u0435\\u043c \\u0444\\u0438\\u043d\\u0430\\u043d\\u0441\\u0438\\u0440\\u043e\\u0432\\u0430\\u043d\\u0438\\u044f \\u043c\\u043e\\u043b\\u043e\\u0434\\u0435\\u0436\\u043d\\u044b\\u0445 \\u0444\\u043e\\u0440\\u0443\\u043c\\u043e\\u0432 \\u0438\\u0437 \\u0441\\u0440\\u0435\\u0434\\u0441\\u0442\\u0432 \\u0431\\u044e\\u0434\\u0436\\u0435\\u0442\\u043e\\u0432 \\u0441\\u0443\\u0431\\u044a\\u0435\\u043a\\u0442\\u043e\\u0432 \\u0420\\u043e\\u0441\\u0441\\u0438\\u0439\\u0441\\u043a\\u043e\\u0439 \\u0424\\u0435\\u0434\\u0435\\u0440\\u0430\\u0446\\u0438\\u0438\",\"\\u041e\\u0431\\u044a\\u0435\\u043c \\u0444\\u0438\\u043d\\u0430\\u043d\\u0441\\u0438\\u0440\\u043e\\u0432\\u0430\\u043d\\u0438\\u044f \\u043c\\u043e\\u043b\\u043e\\u0434\\u0435\\u0436\\u043d\\u044b\\u0445 \\u0444\\u043e\\u0440\\u0443\\u043c\\u043e\\u0432 \\u0438\\u0437 \\u0441\\u0440\\u0435\\u0434\\u0441\\u0442\\u0432 \\u0431\\u044e\\u0434\\u0436\\u0435\\u0442\\u043e\\u0432 \\u0441\\u0443\\u0431\\u044a\\u0435\\u043a\\u0442\\u043e\\u0432 \\u0420\\u043e\\u0441\\u0441\\u0438\\u0439\\u0441\\u043a\\u043e\\u0439 \\u0424\\u0435\\u0434\\u0435\\u0440\\u0430\\u0446\\u0438\\u0438\",\"\\u041e\\u0431\\u044a\\u0435\\u043c \\u0444\\u0438\\u043d\\u0430\\u043d\\u0441\\u0438\\u0440\\u043e\\u0432\\u0430\\u043d\\u0438\\u044f \\u043c\\u043e\\u043b\\u043e\\u0434\\u0435\\u0436\\u043d\\u044b\\u0445 \\u0444\\u043e\\u0440\\u0443\\u043c\\u043e\\u0432 \\u0438\\u0437 \\u0441\\u0440\\u0435\\u0434\\u0441\\u0442\\u0432 \\u0431\\u044e\\u0434\\u0436\\u0435\\u0442\\u043e\\u0432 \\u0441\\u0443\\u0431\\u044a\\u0435\\u043a\\u0442\\u043e\\u0432 \\u0420\\u043e\\u0441\\u0441\\u0438\\u0439\\u0441\\u043a\\u043e\\u0439 \\u0424\\u0435\\u0434\\u0435\\u0440\\u0430\\u0446\\u0438\\u0438\",\"\\u041e\\u0431\\u044a\\u0435\\u043c \\u0444\\u0438\\u043d\\u0430\\u043d\\u0441\\u0438\\u0440\\u043e\\u0432\\u0430\\u043d\\u0438\\u044f \\u043c\\u043e\\u043b\\u043e\\u0434\\u0435\\u0436\\u043d\\u044b\\u0445 \\u0444\\u043e\\u0440\\u0443\\u043c\\u043e\\u0432 \\u0438\\u0437 \\u0441\\u0440\\u0435\\u0434\\u0441\\u0442\\u0432 \\u0431\\u044e\\u0434\\u0436\\u0435\\u0442\\u043e\\u0432 \\u0441\\u0443\\u0431\\u044a\\u0435\\u043a\\u0442\\u043e\\u0432 \\u0420\\u043e\\u0441\\u0441\\u0438\\u0439\\u0441\\u043a\\u043e\\u0439 \\u0424\\u0435\\u0434\\u0435\\u0440\\u0430\\u0446\\u0438\\u0438\"],\"\\u0413\\u043e\\u0434\":[2016,2017,2018,2019,2020,2021],\"\\u041e\\u0431\\u044a\\u0435\\u043c\":{\"__ndarray__\":\"ZmYmi5egx0FxPcrQbOvKQZqZma2vjtBBmpmZhIwD00FSuB6djtzKQTMzMx3QM9FB\",\"dtype\":\"float64\",\"order\":\"little\",\"shape\":[6]}},\"selected\":{\"id\":\"15530\"},\"selection_policy\":{\"id\":\"15562\"}},\"id\":\"15529\",\"type\":\"ColumnDataSource\"},{\"attributes\":{\"source\":{\"id\":\"15319\"}},\"id\":\"15326\",\"type\":\"CDSView\"},{\"attributes\":{\"coordinates\":null,\"data_source\":{\"id\":\"15529\"},\"glyph\":{\"id\":\"15532\"},\"group\":null,\"hover_glyph\":null,\"muted_glyph\":{\"id\":\"15534\"},\"nonselection_glyph\":{\"id\":\"15533\"},\"selection_glyph\":{\"id\":\"15566\"},\"view\":{\"id\":\"15536\"}},\"id\":\"15535\",\"type\":\"GlyphRenderer\"},{\"attributes\":{\"line_alpha\":0.2,\"line_color\":\"#e5ae38\",\"line_width\":2,\"x\":{\"field\":\"\\u0413\\u043e\\u0434\"},\"y\":{\"field\":\"\\u041e\\u0431\\u044a\\u0435\\u043c\"}},\"id\":\"15324\",\"type\":\"Line\"},{\"attributes\":{},\"id\":\"15277\",\"type\":\"Selection\"},{\"attributes\":{\"label\":{\"value\":\"\\u041a\\u043e\\u043b\\u0438\\u0447\\u0435\\u0441\\u0442\\u0432\\u043e \\u0433\\u0440\\u0430\\u043d\\u0442\\u043e\\u0432, \\u0432\\u044b\\u0434\\u0430\\u043d\\u043d\\u044b\\u0445 \\u0444\\u0438\\u0437\\u0438\\u0447\\u0435\\u0441\\u043a\\u0438\\u043c \\u0438 \\u044e\\u0440\\u0438\\u0434\\u0438\\u0447\\u0435\\u0441\\u043a\\u0438\\u043c \\u043b\\u0438\\u0446\\u0430\\u043c, \\u0432 \\u0440\\u0430\\u043c\\u043a\\u0430\\u0445 \\u0440\\u0435\\u0430\\u043b\\u0438\\u0437\\u0430\\u0446\\u0438\\u0438 \\u0433\\u043e\\u0441\\u0443\\u0434\\u0430\\u0440\\u0441\\u0442\\u0432\\u0435\\u043d\\u043d\\u043e\\u0439 \\u043c\\u043e\\u043b\\u043e\\u0434\\u0435\\u0436\\u043d\\u043e\\u0439 \\u043f\\u043e\\u043b\\u0438\\u0442\\u0438\\u043a\\u0438\"},\"renderers\":[{\"id\":\"15325\"}]},\"id\":\"15341\",\"type\":\"LegendItem\"},{\"attributes\":{\"data\":{\"Variable\":[\"\\u041a\\u043e\\u043b\\u0438\\u0447\\u0435\\u0441\\u0442\\u0432\\u043e \\u043e\\u0440\\u0433\\u0430\\u043d\\u043e\\u0432 \\u043c\\u043e\\u043b\\u043e\\u0434\\u0435\\u0436\\u043d\\u043e\\u0433\\u043e \\u0441\\u0430\\u043c\\u043e\\u0443\\u043f\\u0440\\u0430\\u0432\\u043b\\u0435\\u043d\\u0438\\u044f\",\"\\u041a\\u043e\\u043b\\u0438\\u0447\\u0435\\u0441\\u0442\\u0432\\u043e \\u043e\\u0440\\u0433\\u0430\\u043d\\u043e\\u0432 \\u043c\\u043e\\u043b\\u043e\\u0434\\u0435\\u0436\\u043d\\u043e\\u0433\\u043e \\u0441\\u0430\\u043c\\u043e\\u0443\\u043f\\u0440\\u0430\\u0432\\u043b\\u0435\\u043d\\u0438\\u044f\",\"\\u041a\\u043e\\u043b\\u0438\\u0447\\u0435\\u0441\\u0442\\u0432\\u043e \\u043e\\u0440\\u0433\\u0430\\u043d\\u043e\\u0432 \\u043c\\u043e\\u043b\\u043e\\u0434\\u0435\\u0436\\u043d\\u043e\\u0433\\u043e \\u0441\\u0430\\u043c\\u043e\\u0443\\u043f\\u0440\\u0430\\u0432\\u043b\\u0435\\u043d\\u0438\\u044f\",\"\\u041a\\u043e\\u043b\\u0438\\u0447\\u0435\\u0441\\u0442\\u0432\\u043e \\u043e\\u0440\\u0433\\u0430\\u043d\\u043e\\u0432 \\u043c\\u043e\\u043b\\u043e\\u0434\\u0435\\u0436\\u043d\\u043e\\u0433\\u043e \\u0441\\u0430\\u043c\\u043e\\u0443\\u043f\\u0440\\u0430\\u0432\\u043b\\u0435\\u043d\\u0438\\u044f\",\"\\u041a\\u043e\\u043b\\u0438\\u0447\\u0435\\u0441\\u0442\\u0432\\u043e \\u043e\\u0440\\u0433\\u0430\\u043d\\u043e\\u0432 \\u043c\\u043e\\u043b\\u043e\\u0434\\u0435\\u0436\\u043d\\u043e\\u0433\\u043e \\u0441\\u0430\\u043c\\u043e\\u0443\\u043f\\u0440\\u0430\\u0432\\u043b\\u0435\\u043d\\u0438\\u044f\",\"\\u041a\\u043e\\u043b\\u0438\\u0447\\u0435\\u0441\\u0442\\u0432\\u043e \\u043e\\u0440\\u0433\\u0430\\u043d\\u043e\\u0432 \\u043c\\u043e\\u043b\\u043e\\u0434\\u0435\\u0436\\u043d\\u043e\\u0433\\u043e \\u0441\\u0430\\u043c\\u043e\\u0443\\u043f\\u0440\\u0430\\u0432\\u043b\\u0435\\u043d\\u0438\\u044f\"],\"\\u0413\\u043e\\u0434\":[2016,2017,2018,2019,2020,2021],\"\\u041e\\u0431\\u044a\\u0435\\u043c\":{\"__ndarray__\":\"AAAAAACOrUAAAAAAAKWzQAAAAAAAobNAAAAAAABJskAAAAAAAHmxQAAAAAAA+bBA\",\"dtype\":\"float64\",\"order\":\"little\",\"shape\":[6]}},\"selected\":{\"id\":\"15428\"},\"selection_policy\":{\"id\":\"15454\"}},\"id\":\"15427\",\"type\":\"ColumnDataSource\"},{\"attributes\":{\"source\":{\"id\":\"15276\"}},\"id\":\"15283\",\"type\":\"CDSView\"},{\"attributes\":{\"line_color\":\"#17becf\",\"line_width\":2,\"x\":{\"field\":\"\\u0413\\u043e\\u0434\"},\"y\":{\"field\":\"\\u041e\\u0431\\u044a\\u0435\\u043c\"}},\"id\":\"15426\",\"type\":\"Line\"},{\"attributes\":{\"data\":{\"Variable\":[\"\\u041a\\u043e\\u043b\\u0438\\u0447\\u0435\\u0441\\u0442\\u0432\\u043e \\u043c\\u043e\\u043b\\u043e\\u0434\\u0435\\u0436\\u043d\\u044b\\u0445 \\u0444\\u043e\\u0440\\u0443\\u043c\\u043e\\u0432, \\u043f\\u0440\\u043e\\u0448\\u0435\\u0434\\u0448\\u0438\\u0445 \\u043d\\u0430 \\u0442\\u0435\\u0440\\u0440\\u0438\\u0442\\u043e\\u0440\\u0438\\u0438 \\u0441\\u0443\\u0431\\u044a\\u0435\\u043a\\u0442\\u043e\\u0432 \\u0420\\u043e\\u0441\\u0441\\u0438\\u0439\\u0441\\u043a\\u043e\\u0439 \\u0424\\u0435\\u0434\\u0435\\u0440\\u0430\\u0446\\u0438\\u0438\",\"\\u041a\\u043e\\u043b\\u0438\\u0447\\u0435\\u0441\\u0442\\u0432\\u043e \\u043c\\u043e\\u043b\\u043e\\u0434\\u0435\\u0436\\u043d\\u044b\\u0445 \\u0444\\u043e\\u0440\\u0443\\u043c\\u043e\\u0432, \\u043f\\u0440\\u043e\\u0448\\u0435\\u0434\\u0448\\u0438\\u0445 \\u043d\\u0430 \\u0442\\u0435\\u0440\\u0440\\u0438\\u0442\\u043e\\u0440\\u0438\\u0438 \\u0441\\u0443\\u0431\\u044a\\u0435\\u043a\\u0442\\u043e\\u0432 \\u0420\\u043e\\u0441\\u0441\\u0438\\u0439\\u0441\\u043a\\u043e\\u0439 \\u0424\\u0435\\u0434\\u0435\\u0440\\u0430\\u0446\\u0438\\u0438\",\"\\u041a\\u043e\\u043b\\u0438\\u0447\\u0435\\u0441\\u0442\\u0432\\u043e \\u043c\\u043e\\u043b\\u043e\\u0434\\u0435\\u0436\\u043d\\u044b\\u0445 \\u0444\\u043e\\u0440\\u0443\\u043c\\u043e\\u0432, \\u043f\\u0440\\u043e\\u0448\\u0435\\u0434\\u0448\\u0438\\u0445 \\u043d\\u0430 \\u0442\\u0435\\u0440\\u0440\\u0438\\u0442\\u043e\\u0440\\u0438\\u0438 \\u0441\\u0443\\u0431\\u044a\\u0435\\u043a\\u0442\\u043e\\u0432 \\u0420\\u043e\\u0441\\u0441\\u0438\\u0439\\u0441\\u043a\\u043e\\u0439 \\u0424\\u0435\\u0434\\u0435\\u0440\\u0430\\u0446\\u0438\\u0438\",\"\\u041a\\u043e\\u043b\\u0438\\u0447\\u0435\\u0441\\u0442\\u0432\\u043e \\u043c\\u043e\\u043b\\u043e\\u0434\\u0435\\u0436\\u043d\\u044b\\u0445 \\u0444\\u043e\\u0440\\u0443\\u043c\\u043e\\u0432, \\u043f\\u0440\\u043e\\u0448\\u0435\\u0434\\u0448\\u0438\\u0445 \\u043d\\u0430 \\u0442\\u0435\\u0440\\u0440\\u0438\\u0442\\u043e\\u0440\\u0438\\u0438 \\u0441\\u0443\\u0431\\u044a\\u0435\\u043a\\u0442\\u043e\\u0432 \\u0420\\u043e\\u0441\\u0441\\u0438\\u0439\\u0441\\u043a\\u043e\\u0439 \\u0424\\u0435\\u0434\\u0435\\u0440\\u0430\\u0446\\u0438\\u0438\",\"\\u041a\\u043e\\u043b\\u0438\\u0447\\u0435\\u0441\\u0442\\u0432\\u043e \\u043c\\u043e\\u043b\\u043e\\u0434\\u0435\\u0436\\u043d\\u044b\\u0445 \\u0444\\u043e\\u0440\\u0443\\u043c\\u043e\\u0432, \\u043f\\u0440\\u043e\\u0448\\u0435\\u0434\\u0448\\u0438\\u0445 \\u043d\\u0430 \\u0442\\u0435\\u0440\\u0440\\u0438\\u0442\\u043e\\u0440\\u0438\\u0438 \\u0441\\u0443\\u0431\\u044a\\u0435\\u043a\\u0442\\u043e\\u0432 \\u0420\\u043e\\u0441\\u0441\\u0438\\u0439\\u0441\\u043a\\u043e\\u0439 \\u0424\\u0435\\u0434\\u0435\\u0440\\u0430\\u0446\\u0438\\u0438\",\"\\u041a\\u043e\\u043b\\u0438\\u0447\\u0435\\u0441\\u0442\\u0432\\u043e \\u043c\\u043e\\u043b\\u043e\\u0434\\u0435\\u0436\\u043d\\u044b\\u0445 \\u0444\\u043e\\u0440\\u0443\\u043c\\u043e\\u0432, \\u043f\\u0440\\u043e\\u0448\\u0435\\u0434\\u0448\\u0438\\u0445 \\u043d\\u0430 \\u0442\\u0435\\u0440\\u0440\\u0438\\u0442\\u043e\\u0440\\u0438\\u0438 \\u0441\\u0443\\u0431\\u044a\\u0435\\u043a\\u0442\\u043e\\u0432 \\u0420\\u043e\\u0441\\u0441\\u0438\\u0439\\u0441\\u043a\\u043e\\u0439 \\u0424\\u0435\\u0434\\u0435\\u0440\\u0430\\u0446\\u0438\\u0438\"],\"\\u0413\\u043e\\u0434\":[2016,2017,2018,2019,2020,2021],\"\\u041e\\u0431\\u044a\\u0435\\u043c\":{\"__ndarray__\":\"AAAAAABEmEAAAAAAAC6jQAAAAAAAWKdAAAAAAABAp0AAAAAAACSdQAAAAAAAVqBA\",\"dtype\":\"float64\",\"order\":\"little\",\"shape\":[6]}},\"selected\":{\"id\":\"15460\"},\"selection_policy\":{\"id\":\"15488\"}},\"id\":\"15459\",\"type\":\"ColumnDataSource\"},{\"attributes\":{\"line_alpha\":0.2,\"line_color\":\"#30a2da\",\"line_width\":2,\"x\":{\"field\":\"\\u0413\\u043e\\u0434\"},\"y\":{\"field\":\"\\u041e\\u0431\\u044a\\u0435\\u043c\"}},\"id\":\"15281\",\"type\":\"Line\"},{\"attributes\":{},\"id\":\"15338\",\"type\":\"UnionRenderers\"},{\"attributes\":{\"line_alpha\":0.1,\"line_color\":\"#e5ae38\",\"line_width\":2,\"x\":{\"field\":\"\\u0413\\u043e\\u0434\"},\"y\":{\"field\":\"\\u041e\\u0431\\u044a\\u0435\\u043c\"}},\"id\":\"15323\",\"type\":\"Line\"},{\"attributes\":{\"data\":{\"Variable\":[\"\\u041a\\u043e\\u043b\\u0438\\u0447\\u0435\\u0441\\u0442\\u0432\\u043e \\u0433\\u0440\\u0430\\u043d\\u0442\\u043e\\u0432, \\u0432\\u044b\\u0434\\u0430\\u043d\\u043d\\u044b\\u0445 \\u0444\\u0438\\u0437\\u0438\\u0447\\u0435\\u0441\\u043a\\u0438\\u043c \\u0438 \\u044e\\u0440\\u0438\\u0434\\u0438\\u0447\\u0435\\u0441\\u043a\\u0438\\u043c \\u043b\\u0438\\u0446\\u0430\\u043c, \\u0432 \\u0440\\u0430\\u043c\\u043a\\u0430\\u0445 \\u0440\\u0435\\u0430\\u043b\\u0438\\u0437\\u0430\\u0446\\u0438\\u0438 \\u0433\\u043e\\u0441\\u0443\\u0434\\u0430\\u0440\\u0441\\u0442\\u0432\\u0435\\u043d\\u043d\\u043e\\u0439 \\u043c\\u043e\\u043b\\u043e\\u0434\\u0435\\u0436\\u043d\\u043e\\u0439 \\u043f\\u043e\\u043b\\u0438\\u0442\\u0438\\u043a\\u0438\",\"\\u041a\\u043e\\u043b\\u0438\\u0447\\u0435\\u0441\\u0442\\u0432\\u043e \\u0433\\u0440\\u0430\\u043d\\u0442\\u043e\\u0432, \\u0432\\u044b\\u0434\\u0430\\u043d\\u043d\\u044b\\u0445 \\u0444\\u0438\\u0437\\u0438\\u0447\\u0435\\u0441\\u043a\\u0438\\u043c \\u0438 \\u044e\\u0440\\u0438\\u0434\\u0438\\u0447\\u0435\\u0441\\u043a\\u0438\\u043c \\u043b\\u0438\\u0446\\u0430\\u043c, \\u0432 \\u0440\\u0430\\u043c\\u043a\\u0430\\u0445 \\u0440\\u0435\\u0430\\u043b\\u0438\\u0437\\u0430\\u0446\\u0438\\u0438 \\u0433\\u043e\\u0441\\u0443\\u0434\\u0430\\u0440\\u0441\\u0442\\u0432\\u0435\\u043d\\u043d\\u043e\\u0439 \\u043c\\u043e\\u043b\\u043e\\u0434\\u0435\\u0436\\u043d\\u043e\\u0439 \\u043f\\u043e\\u043b\\u0438\\u0442\\u0438\\u043a\\u0438\",\"\\u041a\\u043e\\u043b\\u0438\\u0447\\u0435\\u0441\\u0442\\u0432\\u043e \\u0433\\u0440\\u0430\\u043d\\u0442\\u043e\\u0432, \\u0432\\u044b\\u0434\\u0430\\u043d\\u043d\\u044b\\u0445 \\u0444\\u0438\\u0437\\u0438\\u0447\\u0435\\u0441\\u043a\\u0438\\u043c \\u0438 \\u044e\\u0440\\u0438\\u0434\\u0438\\u0447\\u0435\\u0441\\u043a\\u0438\\u043c \\u043b\\u0438\\u0446\\u0430\\u043c, \\u0432 \\u0440\\u0430\\u043c\\u043a\\u0430\\u0445 \\u0440\\u0435\\u0430\\u043b\\u0438\\u0437\\u0430\\u0446\\u0438\\u0438 \\u0433\\u043e\\u0441\\u0443\\u0434\\u0430\\u0440\\u0441\\u0442\\u0432\\u0435\\u043d\\u043d\\u043e\\u0439 \\u043c\\u043e\\u043b\\u043e\\u0434\\u0435\\u0436\\u043d\\u043e\\u0439 \\u043f\\u043e\\u043b\\u0438\\u0442\\u0438\\u043a\\u0438\",\"\\u041a\\u043e\\u043b\\u0438\\u0447\\u0435\\u0441\\u0442\\u0432\\u043e \\u0433\\u0440\\u0430\\u043d\\u0442\\u043e\\u0432, \\u0432\\u044b\\u0434\\u0430\\u043d\\u043d\\u044b\\u0445 \\u0444\\u0438\\u0437\\u0438\\u0447\\u0435\\u0441\\u043a\\u0438\\u043c \\u0438 \\u044e\\u0440\\u0438\\u0434\\u0438\\u0447\\u0435\\u0441\\u043a\\u0438\\u043c \\u043b\\u0438\\u0446\\u0430\\u043c, \\u0432 \\u0440\\u0430\\u043c\\u043a\\u0430\\u0445 \\u0440\\u0435\\u0430\\u043b\\u0438\\u0437\\u0430\\u0446\\u0438\\u0438 \\u0433\\u043e\\u0441\\u0443\\u0434\\u0430\\u0440\\u0441\\u0442\\u0432\\u0435\\u043d\\u043d\\u043e\\u0439 \\u043c\\u043e\\u043b\\u043e\\u0434\\u0435\\u0436\\u043d\\u043e\\u0439 \\u043f\\u043e\\u043b\\u0438\\u0442\\u0438\\u043a\\u0438\",\"\\u041a\\u043e\\u043b\\u0438\\u0447\\u0435\\u0441\\u0442\\u0432\\u043e \\u0433\\u0440\\u0430\\u043d\\u0442\\u043e\\u0432, \\u0432\\u044b\\u0434\\u0430\\u043d\\u043d\\u044b\\u0445 \\u0444\\u0438\\u0437\\u0438\\u0447\\u0435\\u0441\\u043a\\u0438\\u043c \\u0438 \\u044e\\u0440\\u0438\\u0434\\u0438\\u0447\\u0435\\u0441\\u043a\\u0438\\u043c \\u043b\\u0438\\u0446\\u0430\\u043c, \\u0432 \\u0440\\u0430\\u043c\\u043a\\u0430\\u0445 \\u0440\\u0435\\u0430\\u043b\\u0438\\u0437\\u0430\\u0446\\u0438\\u0438 \\u0433\\u043e\\u0441\\u0443\\u0434\\u0430\\u0440\\u0441\\u0442\\u0432\\u0435\\u043d\\u043d\\u043e\\u0439 \\u043c\\u043e\\u043b\\u043e\\u0434\\u0435\\u0436\\u043d\\u043e\\u0439 \\u043f\\u043e\\u043b\\u0438\\u0442\\u0438\\u043a\\u0438\",\"\\u041a\\u043e\\u043b\\u0438\\u0447\\u0435\\u0441\\u0442\\u0432\\u043e \\u0433\\u0440\\u0430\\u043d\\u0442\\u043e\\u0432, \\u0432\\u044b\\u0434\\u0430\\u043d\\u043d\\u044b\\u0445 \\u0444\\u0438\\u0437\\u0438\\u0447\\u0435\\u0441\\u043a\\u0438\\u043c \\u0438 \\u044e\\u0440\\u0438\\u0434\\u0438\\u0447\\u0435\\u0441\\u043a\\u0438\\u043c \\u043b\\u0438\\u0446\\u0430\\u043c, \\u0432 \\u0440\\u0430\\u043c\\u043a\\u0430\\u0445 \\u0440\\u0435\\u0430\\u043b\\u0438\\u0437\\u0430\\u0446\\u0438\\u0438 \\u0433\\u043e\\u0441\\u0443\\u0434\\u0430\\u0440\\u0441\\u0442\\u0432\\u0435\\u043d\\u043d\\u043e\\u0439 \\u043c\\u043e\\u043b\\u043e\\u0434\\u0435\\u0436\\u043d\\u043e\\u0439 \\u043f\\u043e\\u043b\\u0438\\u0442\\u0438\\u043a\\u0438\"],\"\\u0413\\u043e\\u0434\":[2016,2017,2018,2019,2020,2021],\"\\u041e\\u0431\\u044a\\u0435\\u043c\":{\"__ndarray__\":\"AAAAAAD0uEAAAAAAAAu4QAAAAACAacJAAAAAAAAPxEAAAAAAgIXQQAAAAACAystA\",\"dtype\":\"float64\",\"order\":\"little\",\"shape\":[6]}},\"selected\":{\"id\":\"15320\"},\"selection_policy\":{\"id\":\"15338\"}},\"id\":\"15319\",\"type\":\"ColumnDataSource\"},{\"attributes\":{\"coordinates\":null,\"data_source\":{\"id\":\"15319\"},\"glyph\":{\"id\":\"15322\"},\"group\":null,\"hover_glyph\":null,\"muted_glyph\":{\"id\":\"15324\"},\"nonselection_glyph\":{\"id\":\"15323\"},\"selection_glyph\":{\"id\":\"15342\"},\"view\":{\"id\":\"15326\"}},\"id\":\"15325\",\"type\":\"GlyphRenderer\"},{\"attributes\":{\"line_alpha\":0.2,\"line_color\":\"#9467bd\",\"line_width\":2,\"x\":{\"field\":\"\\u0413\\u043e\\u0434\"},\"y\":{\"field\":\"\\u041e\\u0431\\u044a\\u0435\\u043c\"}},\"id\":\"15432\",\"type\":\"Line\"}],\"root_ids\":[\"15226\"]},\"title\":\"Bokeh Application\",\"version\":\"2.4.3\"}};\n",
       "    var render_items = [{\"docid\":\"b6867b7e-df1e-49e7-a04f-5a35ee0f39ed\",\"root_ids\":[\"15226\"],\"roots\":{\"15226\":\"19835a84-bacf-4824-b114-0935a297b43e\"}}];\n",
       "    root.Bokeh.embed.embed_items_notebook(docs_json, render_items);\n",
       "    for (const render_item of render_items) {\n",
       "      for (const root_id of render_item.root_ids) {\n",
       "\tconst id_el = document.getElementById(root_id)\n",
       "\tif (id_el.children.length && (id_el.children[0].className === 'bk-root')) {\n",
       "\t  const root_el = id_el.children[0]\n",
       "\t  root_el.id = root_el.id + '-rendered'\n",
       "\t}\n",
       "      }\n",
       "    }\n",
       "  }\n",
       "  if (root.Bokeh !== undefined && root.Bokeh.Panel !== undefined && ( root['Tabulator'] !== undefined) && ( root['Tabulator'] !== undefined) && ( root['Plotly'] !== undefined) && ( root['Plotly'] !== undefined) && ( root['Tabulator'] !== undefined) && ( root['Tabulator'] !== undefined) && ( root['Tabulator'] !== undefined) && ( root['Tabulator'] !== undefined) && ( root['Tabulator'] !== undefined)) {\n",
       "    embed_document(root);\n",
       "  } else {\n",
       "    var attempts = 0;\n",
       "    var timer = setInterval(function(root) {\n",
       "      if (root.Bokeh !== undefined && root.Bokeh.Panel !== undefined && (root['Tabulator'] !== undefined) && (root['Tabulator'] !== undefined) && (root['Plotly'] !== undefined) && (root['Plotly'] !== undefined) && (root['Tabulator'] !== undefined) && (root['Tabulator'] !== undefined) && (root['Tabulator'] !== undefined) && (root['Tabulator'] !== undefined) && (root['Tabulator'] !== undefined)) {\n",
       "        clearInterval(timer);\n",
       "        embed_document(root);\n",
       "      } else if (document.readyState == \"complete\") {\n",
       "        attempts++;\n",
       "        if (attempts > 200) {\n",
       "          clearInterval(timer);\n",
       "          console.log(\"Bokeh: ERROR: Unable to run BokehJS code because BokehJS library is missing\");\n",
       "        }\n",
       "      }\n",
       "    }, 25, root)\n",
       "  }\n",
       "})(window);</script>"
      ],
      "text/plain": [
       ":NdOverlay   [Variable]\n",
       "   :Curve   [Год]   (Объем)"
      ]
     },
     "execution_count": 292,
     "metadata": {
      "application/vnd.holoviews_exec.v0+json": {
       "id": "15226"
      }
     },
     "output_type": "execute_result"
    }
   ],
   "source": [
    "# То, что пойдет на дашборд\n",
    "ans_plot_1  # исправь лейб variable"
   ]
  },
  {
   "cell_type": "code",
   "execution_count": null,
   "id": "b855a668",
   "metadata": {},
   "outputs": [],
   "source": []
  },
  {
   "cell_type": "code",
   "execution_count": null,
   "id": "36fc3979",
   "metadata": {},
   "outputs": [],
   "source": []
  },
  {
   "cell_type": "code",
   "execution_count": null,
   "id": "84020ee5",
   "metadata": {},
   "outputs": [],
   "source": []
  },
  {
   "cell_type": "code",
   "execution_count": null,
   "id": "68d9d279",
   "metadata": {},
   "outputs": [],
   "source": []
  },
  {
   "cell_type": "code",
   "execution_count": null,
   "id": "003c23b5",
   "metadata": {},
   "outputs": [],
   "source": []
  },
  {
   "cell_type": "code",
   "execution_count": 189,
   "id": "ab346571",
   "metadata": {},
   "outputs": [
    {
     "data": {
      "text/plain": [
       "'notebook'"
      ]
     },
     "execution_count": 189,
     "metadata": {},
     "output_type": "execute_result"
    }
   ],
   "source": [
    "def environment():\n",
    "    try:\n",
    "        get_ipython()\n",
    "        return \"notebook\"\n",
    "    except:\n",
    "        return \"server\"\n",
    "environment()\n"
   ]
  },
  {
   "cell_type": "code",
   "execution_count": 190,
   "id": "fcdf2afa",
   "metadata": {},
   "outputs": [
    {
     "data": {},
     "metadata": {},
     "output_type": "display_data"
    },
    {
     "data": {
      "application/vnd.holoviews_exec.v0+json": "",
      "text/html": [
       "<div id='5912'>\n",
       "  <div class=\"bk-root\" id=\"0f4f5d09-d804-4f29-8606-768075aaae8e\" data-root-id=\"5912\"></div>\n",
       "</div>\n",
       "<script type=\"application/javascript\">(function(root) {\n",
       "  function embed_document(root) {\n",
       "    var docs_json = {\"bb20b7cb-fd8d-4aa5-8376-99a4656d1738\":{\"defs\":[{\"extends\":null,\"module\":null,\"name\":\"ReactiveHTML1\",\"overrides\":[],\"properties\":[]},{\"extends\":null,\"module\":null,\"name\":\"FlexBox1\",\"overrides\":[],\"properties\":[{\"default\":\"flex-start\",\"kind\":null,\"name\":\"align_content\"},{\"default\":\"flex-start\",\"kind\":null,\"name\":\"align_items\"},{\"default\":\"row\",\"kind\":null,\"name\":\"flex_direction\"},{\"default\":\"wrap\",\"kind\":null,\"name\":\"flex_wrap\"},{\"default\":\"flex-start\",\"kind\":null,\"name\":\"justify_content\"}]},{\"extends\":null,\"module\":null,\"name\":\"GridStack1\",\"overrides\":[],\"properties\":[{\"default\":\"warn\",\"kind\":null,\"name\":\"mode\"},{\"default\":null,\"kind\":null,\"name\":\"ncols\"},{\"default\":null,\"kind\":null,\"name\":\"nrows\"},{\"default\":true,\"kind\":null,\"name\":\"allow_resize\"},{\"default\":true,\"kind\":null,\"name\":\"allow_drag\"},{\"default\":[],\"kind\":null,\"name\":\"state\"}]},{\"extends\":null,\"module\":null,\"name\":\"click1\",\"overrides\":[],\"properties\":[{\"default\":\"\",\"kind\":null,\"name\":\"terminal_output\"},{\"default\":\"\",\"kind\":null,\"name\":\"debug_name\"},{\"default\":0,\"kind\":null,\"name\":\"clears\"}]},{\"extends\":null,\"module\":null,\"name\":\"NotificationAreaBase1\",\"overrides\":[],\"properties\":[{\"default\":\"bottom-right\",\"kind\":null,\"name\":\"position\"},{\"default\":0,\"kind\":null,\"name\":\"_clear\"}]},{\"extends\":null,\"module\":null,\"name\":\"NotificationArea1\",\"overrides\":[],\"properties\":[{\"default\":[],\"kind\":null,\"name\":\"notifications\"},{\"default\":\"bottom-right\",\"kind\":null,\"name\":\"position\"},{\"default\":0,\"kind\":null,\"name\":\"_clear\"},{\"default\":[{\"background\":\"#ffc107\",\"icon\":{\"className\":\"fas fa-exclamation-triangle\",\"color\":\"white\",\"tagName\":\"i\"},\"type\":\"warning\"},{\"background\":\"#007bff\",\"icon\":{\"className\":\"fas fa-info-circle\",\"color\":\"white\",\"tagName\":\"i\"},\"type\":\"info\"}],\"kind\":null,\"name\":\"types\"}]},{\"extends\":null,\"module\":null,\"name\":\"Notification\",\"overrides\":[],\"properties\":[{\"default\":null,\"kind\":null,\"name\":\"background\"},{\"default\":3000,\"kind\":null,\"name\":\"duration\"},{\"default\":null,\"kind\":null,\"name\":\"icon\"},{\"default\":\"\",\"kind\":null,\"name\":\"message\"},{\"default\":null,\"kind\":null,\"name\":\"notification_type\"},{\"default\":false,\"kind\":null,\"name\":\"_destroyed\"}]},{\"extends\":null,\"module\":null,\"name\":\"TemplateActions1\",\"overrides\":[],\"properties\":[{\"default\":0,\"kind\":null,\"name\":\"open_modal\"},{\"default\":0,\"kind\":null,\"name\":\"close_modal\"}]},{\"extends\":null,\"module\":null,\"name\":\"MaterialTemplateActions1\",\"overrides\":[],\"properties\":[{\"default\":0,\"kind\":null,\"name\":\"open_modal\"},{\"default\":0,\"kind\":null,\"name\":\"close_modal\"}]}],\"roots\":{\"references\":[{\"attributes\":{\"background\":\"#ffcc5c\",\"height\":50,\"margin\":[5,5,5,5],\"name\":\"HSpacer18093\",\"sizing_mode\":\"stretch_width\"},\"id\":\"5914\",\"type\":\"Spacer\"},{\"attributes\":{\"background\":\"#ff6f69\",\"height\":50,\"margin\":[5,5,5,5],\"name\":\"HSpacer18092\",\"sizing_mode\":\"stretch_width\"},\"id\":\"5913\",\"type\":\"Spacer\"},{\"attributes\":{\"client_comm_id\":\"899352fd80084b7a88dc4159cabfe933\",\"comm_id\":\"02dbf5aaae944475b48f9a2fb884e26a\",\"plot_id\":\"5912\"},\"id\":\"5916\",\"type\":\"panel.models.comm_manager.CommManager\"},{\"attributes\":{\"children\":[{\"id\":\"5913\"},{\"id\":\"5914\"},{\"id\":\"5915\"}],\"margin\":[0,0,0,0],\"name\":\"Row18095\",\"sizing_mode\":\"stretch_width\"},\"id\":\"5912\",\"type\":\"Row\"},{\"attributes\":{\"background\":\"#88d8b0\",\"height\":50,\"margin\":[5,5,5,5],\"name\":\"HSpacer18094\",\"sizing_mode\":\"stretch_width\"},\"id\":\"5915\",\"type\":\"Spacer\"}],\"root_ids\":[\"5912\",\"5916\"]},\"title\":\"Bokeh Application\",\"version\":\"2.4.3\"}};\n",
       "    var render_items = [{\"docid\":\"bb20b7cb-fd8d-4aa5-8376-99a4656d1738\",\"root_ids\":[\"5912\"],\"roots\":{\"5912\":\"0f4f5d09-d804-4f29-8606-768075aaae8e\"}}];\n",
       "    root.Bokeh.embed.embed_items_notebook(docs_json, render_items);\n",
       "    for (const render_item of render_items) {\n",
       "      for (const root_id of render_item.root_ids) {\n",
       "\tconst id_el = document.getElementById(root_id)\n",
       "\tif (id_el.children.length && (id_el.children[0].className === 'bk-root')) {\n",
       "\t  const root_el = id_el.children[0]\n",
       "\t  root_el.id = root_el.id + '-rendered'\n",
       "\t}\n",
       "      }\n",
       "    }\n",
       "  }\n",
       "  if (root.Bokeh !== undefined && root.Bokeh.Panel !== undefined && ( root['Tabulator'] !== undefined) && ( root['Tabulator'] !== undefined) && ( root['Plotly'] !== undefined) && ( root['Plotly'] !== undefined) && ( root['Tabulator'] !== undefined) && ( root['Tabulator'] !== undefined) && ( root['Tabulator'] !== undefined) && ( root['Tabulator'] !== undefined) && ( root['Tabulator'] !== undefined)) {\n",
       "    embed_document(root);\n",
       "  } else {\n",
       "    var attempts = 0;\n",
       "    var timer = setInterval(function(root) {\n",
       "      if (root.Bokeh !== undefined && root.Bokeh.Panel !== undefined && (root['Tabulator'] !== undefined) && (root['Tabulator'] !== undefined) && (root['Plotly'] !== undefined) && (root['Plotly'] !== undefined) && (root['Tabulator'] !== undefined) && (root['Tabulator'] !== undefined) && (root['Tabulator'] !== undefined) && (root['Tabulator'] !== undefined) && (root['Tabulator'] !== undefined)) {\n",
       "        clearInterval(timer);\n",
       "        embed_document(root);\n",
       "      } else if (document.readyState == \"complete\") {\n",
       "        attempts++;\n",
       "        if (attempts > 200) {\n",
       "          clearInterval(timer);\n",
       "          console.log(\"Bokeh: ERROR: Unable to run BokehJS code because BokehJS library is missing\");\n",
       "        }\n",
       "      }\n",
       "    }, 25, root)\n",
       "  }\n",
       "})(window);</script>"
      ],
      "text/plain": [
       "Row(sizing_mode='stretch_width')\n",
       "    [0] HSpacer(background='#ff6f69', height=50)\n",
       "    [1] HSpacer(background='#ffcc5c', height=50)\n",
       "    [2] HSpacer(background='#88d8b0', height=50)"
      ]
     },
     "execution_count": 190,
     "metadata": {
      "application/vnd.holoviews_exec.v0+json": {
       "id": "5912"
      }
     },
     "output_type": "execute_result"
    }
   ],
   "source": [
    "PALETTE = [\"#ff6f69\", \"#ffcc5c\", \"#88d8b0\", ]\n",
    "pn.Row(\n",
    "    pn.layout.HSpacer(height=50, background=PALETTE[0]),\n",
    "    pn.layout.HSpacer(height=50, background=PALETTE[1]),\n",
    "    pn.layout.HSpacer(height=50, background=PALETTE[2]),\n",
    ")\n"
   ]
  },
  {
   "cell_type": "code",
   "execution_count": 191,
   "id": "f0b7e230",
   "metadata": {},
   "outputs": [
    {
     "name": "stdout",
     "output_type": "stream",
     "text": [
      "cp: cannot stat '../data/form_m1.xlsx': No such file or directory\r\n"
     ]
    }
   ],
   "source": [
    "!cp ../data/form_m1.xlsx ."
   ]
  },
  {
   "cell_type": "code",
   "execution_count": 192,
   "id": "8c53b395",
   "metadata": {},
   "outputs": [],
   "source": [
    "path = 'form_m1.xlsx'"
   ]
  },
  {
   "cell_type": "code",
   "execution_count": 193,
   "id": "2c298392",
   "metadata": {},
   "outputs": [],
   "source": [
    "form_m1 = pd.read_excel(path, sheet_name=None)"
   ]
  },
  {
   "cell_type": "code",
   "execution_count": 194,
   "id": "e1b53328",
   "metadata": {},
   "outputs": [],
   "source": [
    "xls = pd.ExcelFile(path)"
   ]
  },
  {
   "cell_type": "code",
   "execution_count": 195,
   "id": "29153059",
   "metadata": {},
   "outputs": [],
   "source": [
    "# Открыть листы Р1, Р2, Р3, Р4, Р5, Р6, Р7 и сохранить их в виде датафрейма с названиями r1, r2 и тд\n",
    "# Открыть листы Раздел 1, Раздел 2 и тд и сохранить их в датафреймы с названиями razdel_1, razdel_2 и тд\n",
    "data_numbers = [1, 2, 3, 4, 5, 6, 7]\n",
    "for i in data_numbers:\n",
    "    globals()['r'+str(i)] = pd.read_excel(xls, f'Р{i}')\n",
    "    try:\n",
    "        globals()['razdel_'+str(i)] = pd.read_excel(xls, f'Раздел {i}')\n",
    "    except:\n",
    "        globals()['razdel_'+str(i)] = pd.read_excel(xls, f'Раздел{i}')"
   ]
  },
  {
   "cell_type": "code",
   "execution_count": 196,
   "id": "5b430d2e",
   "metadata": {
    "scrolled": true
   },
   "outputs": [],
   "source": [
    "# Открыть листы Р2-4 и статистика по годам\n",
    "r4_2 = pd.read_excel(xls, 'Р4-2')\n",
    "statistics_by_years = pd.read_excel(xls, 'статистика по годам')"
   ]
  },
  {
   "cell_type": "code",
   "execution_count": 197,
   "id": "88c9f19d",
   "metadata": {},
   "outputs": [],
   "source": [
    "r1 = r1.iloc[:, :-2]"
   ]
  },
  {
   "cell_type": "code",
   "execution_count": 198,
   "id": "79f1a8e5",
   "metadata": {},
   "outputs": [
    {
     "data": {
      "text/html": [
       "<div>\n",
       "<style scoped>\n",
       "    .dataframe tbody tr th:only-of-type {\n",
       "        vertical-align: middle;\n",
       "    }\n",
       "\n",
       "    .dataframe tbody tr th {\n",
       "        vertical-align: top;\n",
       "    }\n",
       "\n",
       "    .dataframe thead th {\n",
       "        text-align: right;\n",
       "    }\n",
       "</style>\n",
       "<table border=\"1\" class=\"dataframe\">\n",
       "  <thead>\n",
       "    <tr style=\"text-align: right;\">\n",
       "      <th></th>\n",
       "      <th>Unnamed: 0</th>\n",
       "      <th>Unnamed: 1</th>\n",
       "      <th>2016</th>\n",
       "      <th>2017</th>\n",
       "      <th>2018</th>\n",
       "      <th>2019</th>\n",
       "      <th>2020</th>\n",
       "      <th>2021</th>\n",
       "    </tr>\n",
       "  </thead>\n",
       "  <tbody>\n",
       "    <tr>\n",
       "      <th>0</th>\n",
       "      <td>70.1.1.25.07.2016</td>\n",
       "      <td>Объем финансирования молодежной политики из бю...</td>\n",
       "      <td>5741811940.620</td>\n",
       "      <td>8706357899.750</td>\n",
       "      <td>11932240504.810</td>\n",
       "      <td>12683307462.965</td>\n",
       "      <td>17098236760.000</td>\n",
       "      <td>18818101388.000</td>\n",
       "    </tr>\n",
       "    <tr>\n",
       "      <th>1</th>\n",
       "      <td>70.1.2.25.07.2016</td>\n",
       "      <td>Объем финансирования молодежной политики из бю...</td>\n",
       "      <td>3490962163.450</td>\n",
       "      <td>3931433665.890</td>\n",
       "      <td>4983470393.960</td>\n",
       "      <td>9673718706.726</td>\n",
       "      <td>18976777431.000</td>\n",
       "      <td>17790935446.000</td>\n",
       "    </tr>\n",
       "    <tr>\n",
       "      <th>2</th>\n",
       "      <td>70.1.3.25.07.2016</td>\n",
       "      <td>Количество грантов, выданных физическим и юрид...</td>\n",
       "      <td>6388.000</td>\n",
       "      <td>6155.000</td>\n",
       "      <td>9427.000</td>\n",
       "      <td>10270.000</td>\n",
       "      <td>16918.000</td>\n",
       "      <td>14229.000</td>\n",
       "    </tr>\n",
       "    <tr>\n",
       "      <th>3</th>\n",
       "      <td>70.1.4.25.07.2016</td>\n",
       "      <td>Объем грантовых средств, выданных физическим и...</td>\n",
       "      <td>1135347690.930</td>\n",
       "      <td>555641507.180</td>\n",
       "      <td>3017922584.000</td>\n",
       "      <td>5777856093.000</td>\n",
       "      <td>5902433910.000</td>\n",
       "      <td>4775506810.000</td>\n",
       "    </tr>\n",
       "    <tr>\n",
       "      <th>4</th>\n",
       "      <td>70.1.5.25.07.2016</td>\n",
       "      <td>Количество региональных общественных объединен...</td>\n",
       "      <td>1618.000</td>\n",
       "      <td>1052.000</td>\n",
       "      <td>1283.000</td>\n",
       "      <td>4915.000</td>\n",
       "      <td>4690.000</td>\n",
       "      <td>1158.000</td>\n",
       "    </tr>\n",
       "    <tr>\n",
       "      <th>5</th>\n",
       "      <td>70.1.6.25.07.2016</td>\n",
       "      <td>Количество местных общественных объединений, п...</td>\n",
       "      <td>3424.000</td>\n",
       "      <td>3596.000</td>\n",
       "      <td>3375.000</td>\n",
       "      <td>4055.000</td>\n",
       "      <td>4319.000</td>\n",
       "      <td>4128.000</td>\n",
       "    </tr>\n",
       "    <tr>\n",
       "      <th>6</th>\n",
       "      <td>70.1.7.25.07.2016</td>\n",
       "      <td>Количество органов молодежного самоуправления</td>\n",
       "      <td>3783.000</td>\n",
       "      <td>5029.000</td>\n",
       "      <td>5025.000</td>\n",
       "      <td>4681.000</td>\n",
       "      <td>4473.000</td>\n",
       "      <td>4345.000</td>\n",
       "    </tr>\n",
       "    <tr>\n",
       "      <th>7</th>\n",
       "      <td>70.1.8.25.07.2016</td>\n",
       "      <td>Количество молодежных форумов, прошедших на те...</td>\n",
       "      <td>1553.000</td>\n",
       "      <td>2455.000</td>\n",
       "      <td>2988.000</td>\n",
       "      <td>2976.000</td>\n",
       "      <td>1865.000</td>\n",
       "      <td>2091.000</td>\n",
       "    </tr>\n",
       "    <tr>\n",
       "      <th>8</th>\n",
       "      <td>70.1.9.25.07.2016</td>\n",
       "      <td>Численность участников молодежных форумов</td>\n",
       "      <td>359168.000</td>\n",
       "      <td>515215.000</td>\n",
       "      <td>902253.000</td>\n",
       "      <td>1015072.000</td>\n",
       "      <td>650397.000</td>\n",
       "      <td>1378033.000</td>\n",
       "    </tr>\n",
       "    <tr>\n",
       "      <th>9</th>\n",
       "      <td>70.1.10.25.07.2016</td>\n",
       "      <td>Объем финансирования молодежных форумов из сре...</td>\n",
       "      <td>792801046.300</td>\n",
       "      <td>903272865.580</td>\n",
       "      <td>1111146166.400</td>\n",
       "      <td>1275998738.400</td>\n",
       "      <td>901324090.240</td>\n",
       "      <td>1154433140.800</td>\n",
       "    </tr>\n",
       "    <tr>\n",
       "      <th>10</th>\n",
       "      <td>70.1.11.25.07.2016</td>\n",
       "      <td>Объем финансирования молодежных форумов из сре...</td>\n",
       "      <td>68733327.070</td>\n",
       "      <td>92695846.190</td>\n",
       "      <td>94945874.760</td>\n",
       "      <td>125336343.450</td>\n",
       "      <td>52107526.260</td>\n",
       "      <td>121804064.500</td>\n",
       "    </tr>\n",
       "  </tbody>\n",
       "</table>\n",
       "</div>"
      ],
      "text/plain": [
       "            Unnamed: 0                                         Unnamed: 1  \\\n",
       "0    70.1.1.25.07.2016  Объем финансирования молодежной политики из бю...   \n",
       "1    70.1.2.25.07.2016  Объем финансирования молодежной политики из бю...   \n",
       "2    70.1.3.25.07.2016  Количество грантов, выданных физическим и юрид...   \n",
       "3    70.1.4.25.07.2016  Объем грантовых средств, выданных физическим и...   \n",
       "4    70.1.5.25.07.2016  Количество региональных общественных объединен...   \n",
       "5    70.1.6.25.07.2016  Количество местных общественных объединений, п...   \n",
       "6    70.1.7.25.07.2016      Количество органов молодежного самоуправления   \n",
       "7    70.1.8.25.07.2016  Количество молодежных форумов, прошедших на те...   \n",
       "8    70.1.9.25.07.2016          Численность участников молодежных форумов   \n",
       "9   70.1.10.25.07.2016  Объем финансирования молодежных форумов из сре...   \n",
       "10  70.1.11.25.07.2016  Объем финансирования молодежных форумов из сре...   \n",
       "\n",
       "             2016           2017            2018            2019  \\\n",
       "0  5741811940.620 8706357899.750 11932240504.810 12683307462.965   \n",
       "1  3490962163.450 3931433665.890  4983470393.960  9673718706.726   \n",
       "2        6388.000       6155.000        9427.000       10270.000   \n",
       "3  1135347690.930  555641507.180  3017922584.000  5777856093.000   \n",
       "4        1618.000       1052.000        1283.000        4915.000   \n",
       "5        3424.000       3596.000        3375.000        4055.000   \n",
       "6        3783.000       5029.000        5025.000        4681.000   \n",
       "7        1553.000       2455.000        2988.000        2976.000   \n",
       "8      359168.000     515215.000      902253.000     1015072.000   \n",
       "9   792801046.300  903272865.580  1111146166.400  1275998738.400   \n",
       "10   68733327.070   92695846.190    94945874.760   125336343.450   \n",
       "\n",
       "              2020            2021  \n",
       "0  17098236760.000 18818101388.000  \n",
       "1  18976777431.000 17790935446.000  \n",
       "2        16918.000       14229.000  \n",
       "3   5902433910.000  4775506810.000  \n",
       "4         4690.000        1158.000  \n",
       "5         4319.000        4128.000  \n",
       "6         4473.000        4345.000  \n",
       "7         1865.000        2091.000  \n",
       "8       650397.000     1378033.000  \n",
       "9    901324090.240  1154433140.800  \n",
       "10    52107526.260   121804064.500  "
      ]
     },
     "execution_count": 198,
     "metadata": {},
     "output_type": "execute_result"
    }
   ],
   "source": [
    "statistics_by_years"
   ]
  },
  {
   "cell_type": "code",
   "execution_count": 199,
   "id": "43e2875d",
   "metadata": {
    "scrolled": true
   },
   "outputs": [
    {
     "data": {
      "text/html": [
       "<div>\n",
       "<style scoped>\n",
       "    .dataframe tbody tr th:only-of-type {\n",
       "        vertical-align: middle;\n",
       "    }\n",
       "\n",
       "    .dataframe tbody tr th {\n",
       "        vertical-align: top;\n",
       "    }\n",
       "\n",
       "    .dataframe thead th {\n",
       "        text-align: right;\n",
       "    }\n",
       "</style>\n",
       "<table border=\"1\" class=\"dataframe\">\n",
       "  <thead>\n",
       "    <tr style=\"text-align: right;\">\n",
       "      <th></th>\n",
       "      <th>Кол-во грантов</th>\n",
       "    </tr>\n",
       "    <tr>\n",
       "      <th>Регион</th>\n",
       "      <th></th>\n",
       "    </tr>\n",
       "  </thead>\n",
       "  <tbody>\n",
       "    <tr>\n",
       "      <th>Алтайский край</th>\n",
       "      <td>70.000</td>\n",
       "    </tr>\n",
       "    <tr>\n",
       "      <th>Амурская область</th>\n",
       "      <td>19.000</td>\n",
       "    </tr>\n",
       "    <tr>\n",
       "      <th>Архангельская область</th>\n",
       "      <td>240.000</td>\n",
       "    </tr>\n",
       "    <tr>\n",
       "      <th>Астраханская  область</th>\n",
       "      <td>30.000</td>\n",
       "    </tr>\n",
       "    <tr>\n",
       "      <th>Белгородская область</th>\n",
       "      <td>66.000</td>\n",
       "    </tr>\n",
       "    <tr>\n",
       "      <th>...</th>\n",
       "      <td>...</td>\n",
       "    </tr>\n",
       "    <tr>\n",
       "      <th>Чеченская Республика</th>\n",
       "      <td>0.000</td>\n",
       "    </tr>\n",
       "    <tr>\n",
       "      <th>Чувашская Республика</th>\n",
       "      <td>29.000</td>\n",
       "    </tr>\n",
       "    <tr>\n",
       "      <th>Чукотский автономный округ</th>\n",
       "      <td>29.000</td>\n",
       "    </tr>\n",
       "    <tr>\n",
       "      <th>Ямало-Ненецкий автономный округ</th>\n",
       "      <td>259.000</td>\n",
       "    </tr>\n",
       "    <tr>\n",
       "      <th>Ярославская область</th>\n",
       "      <td>47.000</td>\n",
       "    </tr>\n",
       "  </tbody>\n",
       "</table>\n",
       "<p>85 rows × 1 columns</p>\n",
       "</div>"
      ],
      "text/plain": [
       "                                 Кол-во грантов\n",
       "Регион                                         \n",
       "Алтайский край                           70.000\n",
       "Амурская область                         19.000\n",
       "Архангельская область                   240.000\n",
       "Астраханская  область                    30.000\n",
       "Белгородская область                     66.000\n",
       "...                                         ...\n",
       "Чеченская Республика                      0.000\n",
       "Чувашская Республика                     29.000\n",
       "Чукотский автономный округ               29.000\n",
       "Ямало-Ненецкий автономный округ         259.000\n",
       "Ярославская область                      47.000\n",
       "\n",
       "[85 rows x 1 columns]"
      ]
     },
     "execution_count": 199,
     "metadata": {},
     "output_type": "execute_result"
    }
   ],
   "source": [
    "grouped_r1_region = pd.DataFrame(r1.groupby('Регион')['Кол-во грантов'].sum())\n",
    "grouped_r1_region"
   ]
  },
  {
   "cell_type": "code",
   "execution_count": 200,
   "id": "c2e4540f",
   "metadata": {},
   "outputs": [],
   "source": [
    "whole_sum = r1['Кол-во грантов'].sum()"
   ]
  },
  {
   "cell_type": "code",
   "execution_count": 201,
   "id": "052a6433",
   "metadata": {},
   "outputs": [
    {
     "data": {
      "text/html": [
       "<div>\n",
       "<style scoped>\n",
       "    .dataframe tbody tr th:only-of-type {\n",
       "        vertical-align: middle;\n",
       "    }\n",
       "\n",
       "    .dataframe tbody tr th {\n",
       "        vertical-align: top;\n",
       "    }\n",
       "\n",
       "    .dataframe thead th {\n",
       "        text-align: right;\n",
       "    }\n",
       "</style>\n",
       "<table border=\"1\" class=\"dataframe\">\n",
       "  <thead>\n",
       "    <tr style=\"text-align: right;\">\n",
       "      <th></th>\n",
       "      <th>Кол-во грантов</th>\n",
       "      <th>whole_sum</th>\n",
       "    </tr>\n",
       "    <tr>\n",
       "      <th>Регион</th>\n",
       "      <th></th>\n",
       "      <th></th>\n",
       "    </tr>\n",
       "  </thead>\n",
       "  <tbody>\n",
       "    <tr>\n",
       "      <th>Алтайский край</th>\n",
       "      <td>70.000</td>\n",
       "      <td>14229.000</td>\n",
       "    </tr>\n",
       "    <tr>\n",
       "      <th>Амурская область</th>\n",
       "      <td>19.000</td>\n",
       "      <td>14229.000</td>\n",
       "    </tr>\n",
       "    <tr>\n",
       "      <th>Архангельская область</th>\n",
       "      <td>240.000</td>\n",
       "      <td>14229.000</td>\n",
       "    </tr>\n",
       "    <tr>\n",
       "      <th>Астраханская  область</th>\n",
       "      <td>30.000</td>\n",
       "      <td>14229.000</td>\n",
       "    </tr>\n",
       "    <tr>\n",
       "      <th>Белгородская область</th>\n",
       "      <td>66.000</td>\n",
       "      <td>14229.000</td>\n",
       "    </tr>\n",
       "    <tr>\n",
       "      <th>...</th>\n",
       "      <td>...</td>\n",
       "      <td>...</td>\n",
       "    </tr>\n",
       "    <tr>\n",
       "      <th>Чеченская Республика</th>\n",
       "      <td>0.000</td>\n",
       "      <td>14229.000</td>\n",
       "    </tr>\n",
       "    <tr>\n",
       "      <th>Чувашская Республика</th>\n",
       "      <td>29.000</td>\n",
       "      <td>14229.000</td>\n",
       "    </tr>\n",
       "    <tr>\n",
       "      <th>Чукотский автономный округ</th>\n",
       "      <td>29.000</td>\n",
       "      <td>14229.000</td>\n",
       "    </tr>\n",
       "    <tr>\n",
       "      <th>Ямало-Ненецкий автономный округ</th>\n",
       "      <td>259.000</td>\n",
       "      <td>14229.000</td>\n",
       "    </tr>\n",
       "    <tr>\n",
       "      <th>Ярославская область</th>\n",
       "      <td>47.000</td>\n",
       "      <td>14229.000</td>\n",
       "    </tr>\n",
       "  </tbody>\n",
       "</table>\n",
       "<p>85 rows × 2 columns</p>\n",
       "</div>"
      ],
      "text/plain": [
       "                                 Кол-во грантов  whole_sum\n",
       "Регион                                                    \n",
       "Алтайский край                           70.000  14229.000\n",
       "Амурская область                         19.000  14229.000\n",
       "Архангельская область                   240.000  14229.000\n",
       "Астраханская  область                    30.000  14229.000\n",
       "Белгородская область                     66.000  14229.000\n",
       "...                                         ...        ...\n",
       "Чеченская Республика                      0.000  14229.000\n",
       "Чувашская Республика                     29.000  14229.000\n",
       "Чукотский автономный округ               29.000  14229.000\n",
       "Ямало-Ненецкий автономный округ         259.000  14229.000\n",
       "Ярославская область                      47.000  14229.000\n",
       "\n",
       "[85 rows x 2 columns]"
      ]
     },
     "execution_count": 201,
     "metadata": {},
     "output_type": "execute_result"
    }
   ],
   "source": [
    "grouped_r1_region['whole_sum'] = whole_sum\n",
    "grouped_r1_region"
   ]
  },
  {
   "cell_type": "code",
   "execution_count": 202,
   "id": "662fa336",
   "metadata": {},
   "outputs": [],
   "source": [
    "grouped_r1_region['доля грантов по стране'] = grouped_r1_region['Кол-во грантов'] / grouped_r1_region['whole_sum'] * 100"
   ]
  },
  {
   "cell_type": "code",
   "execution_count": 203,
   "id": "128fc1a0",
   "metadata": {},
   "outputs": [
    {
     "data": {
      "text/html": [
       "<div>\n",
       "<style scoped>\n",
       "    .dataframe tbody tr th:only-of-type {\n",
       "        vertical-align: middle;\n",
       "    }\n",
       "\n",
       "    .dataframe tbody tr th {\n",
       "        vertical-align: top;\n",
       "    }\n",
       "\n",
       "    .dataframe thead th {\n",
       "        text-align: right;\n",
       "    }\n",
       "</style>\n",
       "<table border=\"1\" class=\"dataframe\">\n",
       "  <thead>\n",
       "    <tr style=\"text-align: right;\">\n",
       "      <th></th>\n",
       "      <th>Кол-во грантов</th>\n",
       "      <th>whole_sum</th>\n",
       "      <th>доля грантов по стране</th>\n",
       "    </tr>\n",
       "    <tr>\n",
       "      <th>Регион</th>\n",
       "      <th></th>\n",
       "      <th></th>\n",
       "      <th></th>\n",
       "    </tr>\n",
       "  </thead>\n",
       "  <tbody>\n",
       "    <tr>\n",
       "      <th>Алтайский край</th>\n",
       "      <td>70.000</td>\n",
       "      <td>14229.000</td>\n",
       "      <td>0.492</td>\n",
       "    </tr>\n",
       "    <tr>\n",
       "      <th>Амурская область</th>\n",
       "      <td>19.000</td>\n",
       "      <td>14229.000</td>\n",
       "      <td>0.134</td>\n",
       "    </tr>\n",
       "    <tr>\n",
       "      <th>Архангельская область</th>\n",
       "      <td>240.000</td>\n",
       "      <td>14229.000</td>\n",
       "      <td>1.687</td>\n",
       "    </tr>\n",
       "    <tr>\n",
       "      <th>Астраханская  область</th>\n",
       "      <td>30.000</td>\n",
       "      <td>14229.000</td>\n",
       "      <td>0.211</td>\n",
       "    </tr>\n",
       "    <tr>\n",
       "      <th>Белгородская область</th>\n",
       "      <td>66.000</td>\n",
       "      <td>14229.000</td>\n",
       "      <td>0.464</td>\n",
       "    </tr>\n",
       "    <tr>\n",
       "      <th>...</th>\n",
       "      <td>...</td>\n",
       "      <td>...</td>\n",
       "      <td>...</td>\n",
       "    </tr>\n",
       "    <tr>\n",
       "      <th>Чеченская Республика</th>\n",
       "      <td>0.000</td>\n",
       "      <td>14229.000</td>\n",
       "      <td>0.000</td>\n",
       "    </tr>\n",
       "    <tr>\n",
       "      <th>Чувашская Республика</th>\n",
       "      <td>29.000</td>\n",
       "      <td>14229.000</td>\n",
       "      <td>0.204</td>\n",
       "    </tr>\n",
       "    <tr>\n",
       "      <th>Чукотский автономный округ</th>\n",
       "      <td>29.000</td>\n",
       "      <td>14229.000</td>\n",
       "      <td>0.204</td>\n",
       "    </tr>\n",
       "    <tr>\n",
       "      <th>Ямало-Ненецкий автономный округ</th>\n",
       "      <td>259.000</td>\n",
       "      <td>14229.000</td>\n",
       "      <td>1.820</td>\n",
       "    </tr>\n",
       "    <tr>\n",
       "      <th>Ярославская область</th>\n",
       "      <td>47.000</td>\n",
       "      <td>14229.000</td>\n",
       "      <td>0.330</td>\n",
       "    </tr>\n",
       "  </tbody>\n",
       "</table>\n",
       "<p>85 rows × 3 columns</p>\n",
       "</div>"
      ],
      "text/plain": [
       "                                 Кол-во грантов  whole_sum  \\\n",
       "Регион                                                       \n",
       "Алтайский край                           70.000  14229.000   \n",
       "Амурская область                         19.000  14229.000   \n",
       "Архангельская область                   240.000  14229.000   \n",
       "Астраханская  область                    30.000  14229.000   \n",
       "Белгородская область                     66.000  14229.000   \n",
       "...                                         ...        ...   \n",
       "Чеченская Республика                      0.000  14229.000   \n",
       "Чувашская Республика                     29.000  14229.000   \n",
       "Чукотский автономный округ               29.000  14229.000   \n",
       "Ямало-Ненецкий автономный округ         259.000  14229.000   \n",
       "Ярославская область                      47.000  14229.000   \n",
       "\n",
       "                                 доля грантов по стране  \n",
       "Регион                                                   \n",
       "Алтайский край                                    0.492  \n",
       "Амурская область                                  0.134  \n",
       "Архангельская область                             1.687  \n",
       "Астраханская  область                             0.211  \n",
       "Белгородская область                              0.464  \n",
       "...                                                 ...  \n",
       "Чеченская Республика                              0.000  \n",
       "Чувашская Республика                              0.204  \n",
       "Чукотский автономный округ                        0.204  \n",
       "Ямало-Ненецкий автономный округ                   1.820  \n",
       "Ярославская область                               0.330  \n",
       "\n",
       "[85 rows x 3 columns]"
      ]
     },
     "execution_count": 203,
     "metadata": {},
     "output_type": "execute_result"
    }
   ],
   "source": [
    "grouped_r1_region"
   ]
  },
  {
   "cell_type": "code",
   "execution_count": null,
   "id": "899acaba",
   "metadata": {},
   "outputs": [],
   "source": []
  },
  {
   "cell_type": "code",
   "execution_count": 204,
   "id": "a416c248",
   "metadata": {
    "scrolled": true
   },
   "outputs": [
    {
     "data": {},
     "metadata": {},
     "output_type": "display_data"
    },
    {
     "data": {
      "application/vnd.holoviews_exec.v0+json": "",
      "text/html": [
       "<div id='5917'>\n",
       "  <div class=\"bk-root\" id=\"53544bd7-6409-4950-916c-030fc2f711bd\" data-root-id=\"5917\"></div>\n",
       "</div>\n",
       "<script type=\"application/javascript\">(function(root) {\n",
       "  function embed_document(root) {\n",
       "    var docs_json = {\"adc67873-fbd4-412a-a69f-4c01a8ddf741\":{\"defs\":[{\"extends\":null,\"module\":null,\"name\":\"ReactiveHTML1\",\"overrides\":[],\"properties\":[]},{\"extends\":null,\"module\":null,\"name\":\"FlexBox1\",\"overrides\":[],\"properties\":[{\"default\":\"flex-start\",\"kind\":null,\"name\":\"align_content\"},{\"default\":\"flex-start\",\"kind\":null,\"name\":\"align_items\"},{\"default\":\"row\",\"kind\":null,\"name\":\"flex_direction\"},{\"default\":\"wrap\",\"kind\":null,\"name\":\"flex_wrap\"},{\"default\":\"flex-start\",\"kind\":null,\"name\":\"justify_content\"}]},{\"extends\":null,\"module\":null,\"name\":\"GridStack1\",\"overrides\":[],\"properties\":[{\"default\":\"warn\",\"kind\":null,\"name\":\"mode\"},{\"default\":null,\"kind\":null,\"name\":\"ncols\"},{\"default\":null,\"kind\":null,\"name\":\"nrows\"},{\"default\":true,\"kind\":null,\"name\":\"allow_resize\"},{\"default\":true,\"kind\":null,\"name\":\"allow_drag\"},{\"default\":[],\"kind\":null,\"name\":\"state\"}]},{\"extends\":null,\"module\":null,\"name\":\"click1\",\"overrides\":[],\"properties\":[{\"default\":\"\",\"kind\":null,\"name\":\"terminal_output\"},{\"default\":\"\",\"kind\":null,\"name\":\"debug_name\"},{\"default\":0,\"kind\":null,\"name\":\"clears\"}]},{\"extends\":null,\"module\":null,\"name\":\"NotificationAreaBase1\",\"overrides\":[],\"properties\":[{\"default\":\"bottom-right\",\"kind\":null,\"name\":\"position\"},{\"default\":0,\"kind\":null,\"name\":\"_clear\"}]},{\"extends\":null,\"module\":null,\"name\":\"NotificationArea1\",\"overrides\":[],\"properties\":[{\"default\":[],\"kind\":null,\"name\":\"notifications\"},{\"default\":\"bottom-right\",\"kind\":null,\"name\":\"position\"},{\"default\":0,\"kind\":null,\"name\":\"_clear\"},{\"default\":[{\"background\":\"#ffc107\",\"icon\":{\"className\":\"fas fa-exclamation-triangle\",\"color\":\"white\",\"tagName\":\"i\"},\"type\":\"warning\"},{\"background\":\"#007bff\",\"icon\":{\"className\":\"fas fa-info-circle\",\"color\":\"white\",\"tagName\":\"i\"},\"type\":\"info\"}],\"kind\":null,\"name\":\"types\"}]},{\"extends\":null,\"module\":null,\"name\":\"Notification\",\"overrides\":[],\"properties\":[{\"default\":null,\"kind\":null,\"name\":\"background\"},{\"default\":3000,\"kind\":null,\"name\":\"duration\"},{\"default\":null,\"kind\":null,\"name\":\"icon\"},{\"default\":\"\",\"kind\":null,\"name\":\"message\"},{\"default\":null,\"kind\":null,\"name\":\"notification_type\"},{\"default\":false,\"kind\":null,\"name\":\"_destroyed\"}]},{\"extends\":null,\"module\":null,\"name\":\"TemplateActions1\",\"overrides\":[],\"properties\":[{\"default\":0,\"kind\":null,\"name\":\"open_modal\"},{\"default\":0,\"kind\":null,\"name\":\"close_modal\"}]},{\"extends\":null,\"module\":null,\"name\":\"MaterialTemplateActions1\",\"overrides\":[],\"properties\":[{\"default\":0,\"kind\":null,\"name\":\"open_modal\"},{\"default\":0,\"kind\":null,\"name\":\"close_modal\"}]}],\"roots\":{\"references\":[{\"attributes\":{\"line_color\":\"#30a2da\",\"line_width\":2,\"x\":{\"field\":\"\\u0420\\u0435\\u0433\\u0438\\u043e\\u043d\"},\"y\":{\"field\":\"value\"}},\"id\":\"5961\",\"type\":\"Line\"},{\"attributes\":{\"callback\":null,\"renderers\":[{\"id\":\"5964\"},{\"id\":\"5985\"},{\"id\":\"6007\"}],\"tags\":[\"hv_created\"],\"tooltips\":[[\"Variable\",\"@{Variable}\"],[\"\\u0420\\u0435\\u0433\\u0438\\u043e\\u043d\",\"@{\\u0420\\u0435\\u0433\\u0438\\u043e\\u043d}\"],[\"value\",\"@{value}\"]]},\"id\":\"5920\",\"type\":\"HoverTool\"},{\"attributes\":{\"children\":[{\"id\":\"5923\"}],\"height\":300,\"margin\":[0,0,0,0],\"name\":\"Row18292\",\"sizing_mode\":\"fixed\",\"tags\":[\"embedded\"],\"width\":700},\"id\":\"5917\",\"type\":\"Row\"},{\"attributes\":{},\"id\":\"5930\",\"type\":\"LinearScale\"},{\"attributes\":{\"data\":{\"Variable\":[\"\\u0434\\u043e\\u043b\\u044f \\u0433\\u0440\\u0430\\u043d\\u0442\\u043e\\u0432 \\u043f\\u043e \\u0441\\u0442\\u0440\\u0430\\u043d\\u0435\",\"\\u0434\\u043e\\u043b\\u044f \\u0433\\u0440\\u0430\\u043d\\u0442\\u043e\\u0432 \\u043f\\u043e \\u0441\\u0442\\u0440\\u0430\\u043d\\u0435\",\"\\u0434\\u043e\\u043b\\u044f \\u0433\\u0440\\u0430\\u043d\\u0442\\u043e\\u0432 \\u043f\\u043e \\u0441\\u0442\\u0440\\u0430\\u043d\\u0435\",\"\\u0434\\u043e\\u043b\\u044f \\u0433\\u0440\\u0430\\u043d\\u0442\\u043e\\u0432 \\u043f\\u043e \\u0441\\u0442\\u0440\\u0430\\u043d\\u0435\",\"\\u0434\\u043e\\u043b\\u044f \\u0433\\u0440\\u0430\\u043d\\u0442\\u043e\\u0432 \\u043f\\u043e \\u0441\\u0442\\u0440\\u0430\\u043d\\u0435\",\"\\u0434\\u043e\\u043b\\u044f \\u0433\\u0440\\u0430\\u043d\\u0442\\u043e\\u0432 \\u043f\\u043e \\u0441\\u0442\\u0440\\u0430\\u043d\\u0435\",\"\\u0434\\u043e\\u043b\\u044f \\u0433\\u0440\\u0430\\u043d\\u0442\\u043e\\u0432 \\u043f\\u043e \\u0441\\u0442\\u0440\\u0430\\u043d\\u0435\",\"\\u0434\\u043e\\u043b\\u044f \\u0433\\u0440\\u0430\\u043d\\u0442\\u043e\\u0432 \\u043f\\u043e \\u0441\\u0442\\u0440\\u0430\\u043d\\u0435\",\"\\u0434\\u043e\\u043b\\u044f \\u0433\\u0440\\u0430\\u043d\\u0442\\u043e\\u0432 \\u043f\\u043e \\u0441\\u0442\\u0440\\u0430\\u043d\\u0435\",\"\\u0434\\u043e\\u043b\\u044f \\u0433\\u0440\\u0430\\u043d\\u0442\\u043e\\u0432 \\u043f\\u043e \\u0441\\u0442\\u0440\\u0430\\u043d\\u0435\",\"\\u0434\\u043e\\u043b\\u044f \\u0433\\u0440\\u0430\\u043d\\u0442\\u043e\\u0432 \\u043f\\u043e \\u0441\\u0442\\u0440\\u0430\\u043d\\u0435\",\"\\u0434\\u043e\\u043b\\u044f \\u0433\\u0440\\u0430\\u043d\\u0442\\u043e\\u0432 \\u043f\\u043e \\u0441\\u0442\\u0440\\u0430\\u043d\\u0435\",\"\\u0434\\u043e\\u043b\\u044f \\u0433\\u0440\\u0430\\u043d\\u0442\\u043e\\u0432 \\u043f\\u043e \\u0441\\u0442\\u0440\\u0430\\u043d\\u0435\",\"\\u0434\\u043e\\u043b\\u044f \\u0433\\u0440\\u0430\\u043d\\u0442\\u043e\\u0432 \\u043f\\u043e \\u0441\\u0442\\u0440\\u0430\\u043d\\u0435\",\"\\u0434\\u043e\\u043b\\u044f \\u0433\\u0440\\u0430\\u043d\\u0442\\u043e\\u0432 \\u043f\\u043e \\u0441\\u0442\\u0440\\u0430\\u043d\\u0435\",\"\\u0434\\u043e\\u043b\\u044f \\u0433\\u0440\\u0430\\u043d\\u0442\\u043e\\u0432 \\u043f\\u043e \\u0441\\u0442\\u0440\\u0430\\u043d\\u0435\",\"\\u0434\\u043e\\u043b\\u044f \\u0433\\u0440\\u0430\\u043d\\u0442\\u043e\\u0432 \\u043f\\u043e \\u0441\\u0442\\u0440\\u0430\\u043d\\u0435\",\"\\u0434\\u043e\\u043b\\u044f \\u0433\\u0440\\u0430\\u043d\\u0442\\u043e\\u0432 \\u043f\\u043e \\u0441\\u0442\\u0440\\u0430\\u043d\\u0435\",\"\\u0434\\u043e\\u043b\\u044f \\u0433\\u0440\\u0430\\u043d\\u0442\\u043e\\u0432 \\u043f\\u043e \\u0441\\u0442\\u0440\\u0430\\u043d\\u0435\",\"\\u0434\\u043e\\u043b\\u044f \\u0433\\u0440\\u0430\\u043d\\u0442\\u043e\\u0432 \\u043f\\u043e \\u0441\\u0442\\u0440\\u0430\\u043d\\u0435\",\"\\u0434\\u043e\\u043b\\u044f \\u0433\\u0440\\u0430\\u043d\\u0442\\u043e\\u0432 \\u043f\\u043e \\u0441\\u0442\\u0440\\u0430\\u043d\\u0435\",\"\\u0434\\u043e\\u043b\\u044f \\u0433\\u0440\\u0430\\u043d\\u0442\\u043e\\u0432 \\u043f\\u043e \\u0441\\u0442\\u0440\\u0430\\u043d\\u0435\",\"\\u0434\\u043e\\u043b\\u044f \\u0433\\u0440\\u0430\\u043d\\u0442\\u043e\\u0432 \\u043f\\u043e \\u0441\\u0442\\u0440\\u0430\\u043d\\u0435\",\"\\u0434\\u043e\\u043b\\u044f \\u0433\\u0440\\u0430\\u043d\\u0442\\u043e\\u0432 \\u043f\\u043e \\u0441\\u0442\\u0440\\u0430\\u043d\\u0435\",\"\\u0434\\u043e\\u043b\\u044f \\u0433\\u0440\\u0430\\u043d\\u0442\\u043e\\u0432 \\u043f\\u043e \\u0441\\u0442\\u0440\\u0430\\u043d\\u0435\",\"\\u0434\\u043e\\u043b\\u044f \\u0433\\u0440\\u0430\\u043d\\u0442\\u043e\\u0432 \\u043f\\u043e \\u0441\\u0442\\u0440\\u0430\\u043d\\u0435\",\"\\u0434\\u043e\\u043b\\u044f \\u0433\\u0440\\u0430\\u043d\\u0442\\u043e\\u0432 \\u043f\\u043e \\u0441\\u0442\\u0440\\u0430\\u043d\\u0435\",\"\\u0434\\u043e\\u043b\\u044f \\u0433\\u0440\\u0430\\u043d\\u0442\\u043e\\u0432 \\u043f\\u043e \\u0441\\u0442\\u0440\\u0430\\u043d\\u0435\",\"\\u0434\\u043e\\u043b\\u044f \\u0433\\u0440\\u0430\\u043d\\u0442\\u043e\\u0432 \\u043f\\u043e \\u0441\\u0442\\u0440\\u0430\\u043d\\u0435\",\"\\u0434\\u043e\\u043b\\u044f \\u0433\\u0440\\u0430\\u043d\\u0442\\u043e\\u0432 \\u043f\\u043e \\u0441\\u0442\\u0440\\u0430\\u043d\\u0435\",\"\\u0434\\u043e\\u043b\\u044f \\u0433\\u0440\\u0430\\u043d\\u0442\\u043e\\u0432 \\u043f\\u043e \\u0441\\u0442\\u0440\\u0430\\u043d\\u0435\",\"\\u0434\\u043e\\u043b\\u044f \\u0433\\u0440\\u0430\\u043d\\u0442\\u043e\\u0432 \\u043f\\u043e \\u0441\\u0442\\u0440\\u0430\\u043d\\u0435\",\"\\u0434\\u043e\\u043b\\u044f \\u0433\\u0440\\u0430\\u043d\\u0442\\u043e\\u0432 \\u043f\\u043e \\u0441\\u0442\\u0440\\u0430\\u043d\\u0435\",\"\\u0434\\u043e\\u043b\\u044f \\u0433\\u0440\\u0430\\u043d\\u0442\\u043e\\u0432 \\u043f\\u043e \\u0441\\u0442\\u0440\\u0430\\u043d\\u0435\",\"\\u0434\\u043e\\u043b\\u044f \\u0433\\u0440\\u0430\\u043d\\u0442\\u043e\\u0432 \\u043f\\u043e \\u0441\\u0442\\u0440\\u0430\\u043d\\u0435\",\"\\u0434\\u043e\\u043b\\u044f \\u0433\\u0440\\u0430\\u043d\\u0442\\u043e\\u0432 \\u043f\\u043e \\u0441\\u0442\\u0440\\u0430\\u043d\\u0435\",\"\\u0434\\u043e\\u043b\\u044f \\u0433\\u0440\\u0430\\u043d\\u0442\\u043e\\u0432 \\u043f\\u043e \\u0441\\u0442\\u0440\\u0430\\u043d\\u0435\",\"\\u0434\\u043e\\u043b\\u044f \\u0433\\u0440\\u0430\\u043d\\u0442\\u043e\\u0432 \\u043f\\u043e \\u0441\\u0442\\u0440\\u0430\\u043d\\u0435\",\"\\u0434\\u043e\\u043b\\u044f \\u0433\\u0440\\u0430\\u043d\\u0442\\u043e\\u0432 \\u043f\\u043e \\u0441\\u0442\\u0440\\u0430\\u043d\\u0435\",\"\\u0434\\u043e\\u043b\\u044f \\u0433\\u0440\\u0430\\u043d\\u0442\\u043e\\u0432 \\u043f\\u043e \\u0441\\u0442\\u0440\\u0430\\u043d\\u0435\",\"\\u0434\\u043e\\u043b\\u044f \\u0433\\u0440\\u0430\\u043d\\u0442\\u043e\\u0432 \\u043f\\u043e \\u0441\\u0442\\u0440\\u0430\\u043d\\u0435\",\"\\u0434\\u043e\\u043b\\u044f \\u0433\\u0440\\u0430\\u043d\\u0442\\u043e\\u0432 \\u043f\\u043e \\u0441\\u0442\\u0440\\u0430\\u043d\\u0435\",\"\\u0434\\u043e\\u043b\\u044f \\u0433\\u0440\\u0430\\u043d\\u0442\\u043e\\u0432 \\u043f\\u043e \\u0441\\u0442\\u0440\\u0430\\u043d\\u0435\",\"\\u0434\\u043e\\u043b\\u044f \\u0433\\u0440\\u0430\\u043d\\u0442\\u043e\\u0432 \\u043f\\u043e \\u0441\\u0442\\u0440\\u0430\\u043d\\u0435\",\"\\u0434\\u043e\\u043b\\u044f \\u0433\\u0440\\u0430\\u043d\\u0442\\u043e\\u0432 \\u043f\\u043e \\u0441\\u0442\\u0440\\u0430\\u043d\\u0435\",\"\\u0434\\u043e\\u043b\\u044f \\u0433\\u0440\\u0430\\u043d\\u0442\\u043e\\u0432 \\u043f\\u043e \\u0441\\u0442\\u0440\\u0430\\u043d\\u0435\",\"\\u0434\\u043e\\u043b\\u044f \\u0433\\u0440\\u0430\\u043d\\u0442\\u043e\\u0432 \\u043f\\u043e \\u0441\\u0442\\u0440\\u0430\\u043d\\u0435\",\"\\u0434\\u043e\\u043b\\u044f \\u0433\\u0440\\u0430\\u043d\\u0442\\u043e\\u0432 \\u043f\\u043e \\u0441\\u0442\\u0440\\u0430\\u043d\\u0435\",\"\\u0434\\u043e\\u043b\\u044f \\u0433\\u0440\\u0430\\u043d\\u0442\\u043e\\u0432 \\u043f\\u043e \\u0441\\u0442\\u0440\\u0430\\u043d\\u0435\",\"\\u0434\\u043e\\u043b\\u044f \\u0433\\u0440\\u0430\\u043d\\u0442\\u043e\\u0432 \\u043f\\u043e \\u0441\\u0442\\u0440\\u0430\\u043d\\u0435\",\"\\u0434\\u043e\\u043b\\u044f \\u0433\\u0440\\u0430\\u043d\\u0442\\u043e\\u0432 \\u043f\\u043e \\u0441\\u0442\\u0440\\u0430\\u043d\\u0435\",\"\\u0434\\u043e\\u043b\\u044f \\u0433\\u0440\\u0430\\u043d\\u0442\\u043e\\u0432 \\u043f\\u043e \\u0441\\u0442\\u0440\\u0430\\u043d\\u0435\",\"\\u0434\\u043e\\u043b\\u044f \\u0433\\u0440\\u0430\\u043d\\u0442\\u043e\\u0432 \\u043f\\u043e \\u0441\\u0442\\u0440\\u0430\\u043d\\u0435\",\"\\u0434\\u043e\\u043b\\u044f \\u0433\\u0440\\u0430\\u043d\\u0442\\u043e\\u0432 \\u043f\\u043e \\u0441\\u0442\\u0440\\u0430\\u043d\\u0435\",\"\\u0434\\u043e\\u043b\\u044f \\u0433\\u0440\\u0430\\u043d\\u0442\\u043e\\u0432 \\u043f\\u043e \\u0441\\u0442\\u0440\\u0430\\u043d\\u0435\",\"\\u0434\\u043e\\u043b\\u044f \\u0433\\u0440\\u0430\\u043d\\u0442\\u043e\\u0432 \\u043f\\u043e \\u0441\\u0442\\u0440\\u0430\\u043d\\u0435\",\"\\u0434\\u043e\\u043b\\u044f \\u0433\\u0440\\u0430\\u043d\\u0442\\u043e\\u0432 \\u043f\\u043e \\u0441\\u0442\\u0440\\u0430\\u043d\\u0435\",\"\\u0434\\u043e\\u043b\\u044f \\u0433\\u0440\\u0430\\u043d\\u0442\\u043e\\u0432 \\u043f\\u043e \\u0441\\u0442\\u0440\\u0430\\u043d\\u0435\",\"\\u0434\\u043e\\u043b\\u044f \\u0433\\u0440\\u0430\\u043d\\u0442\\u043e\\u0432 \\u043f\\u043e \\u0441\\u0442\\u0440\\u0430\\u043d\\u0435\",\"\\u0434\\u043e\\u043b\\u044f \\u0433\\u0440\\u0430\\u043d\\u0442\\u043e\\u0432 \\u043f\\u043e \\u0441\\u0442\\u0440\\u0430\\u043d\\u0435\",\"\\u0434\\u043e\\u043b\\u044f \\u0433\\u0440\\u0430\\u043d\\u0442\\u043e\\u0432 \\u043f\\u043e \\u0441\\u0442\\u0440\\u0430\\u043d\\u0435\",\"\\u0434\\u043e\\u043b\\u044f \\u0433\\u0440\\u0430\\u043d\\u0442\\u043e\\u0432 \\u043f\\u043e \\u0441\\u0442\\u0440\\u0430\\u043d\\u0435\",\"\\u0434\\u043e\\u043b\\u044f \\u0433\\u0440\\u0430\\u043d\\u0442\\u043e\\u0432 \\u043f\\u043e \\u0441\\u0442\\u0440\\u0430\\u043d\\u0435\",\"\\u0434\\u043e\\u043b\\u044f \\u0433\\u0440\\u0430\\u043d\\u0442\\u043e\\u0432 \\u043f\\u043e \\u0441\\u0442\\u0440\\u0430\\u043d\\u0435\",\"\\u0434\\u043e\\u043b\\u044f \\u0433\\u0440\\u0430\\u043d\\u0442\\u043e\\u0432 \\u043f\\u043e \\u0441\\u0442\\u0440\\u0430\\u043d\\u0435\",\"\\u0434\\u043e\\u043b\\u044f \\u0433\\u0440\\u0430\\u043d\\u0442\\u043e\\u0432 \\u043f\\u043e \\u0441\\u0442\\u0440\\u0430\\u043d\\u0435\",\"\\u0434\\u043e\\u043b\\u044f \\u0433\\u0440\\u0430\\u043d\\u0442\\u043e\\u0432 \\u043f\\u043e \\u0441\\u0442\\u0440\\u0430\\u043d\\u0435\",\"\\u0434\\u043e\\u043b\\u044f \\u0433\\u0440\\u0430\\u043d\\u0442\\u043e\\u0432 \\u043f\\u043e \\u0441\\u0442\\u0440\\u0430\\u043d\\u0435\",\"\\u0434\\u043e\\u043b\\u044f \\u0433\\u0440\\u0430\\u043d\\u0442\\u043e\\u0432 \\u043f\\u043e \\u0441\\u0442\\u0440\\u0430\\u043d\\u0435\",\"\\u0434\\u043e\\u043b\\u044f \\u0433\\u0440\\u0430\\u043d\\u0442\\u043e\\u0432 \\u043f\\u043e \\u0441\\u0442\\u0440\\u0430\\u043d\\u0435\",\"\\u0434\\u043e\\u043b\\u044f \\u0433\\u0440\\u0430\\u043d\\u0442\\u043e\\u0432 \\u043f\\u043e \\u0441\\u0442\\u0440\\u0430\\u043d\\u0435\",\"\\u0434\\u043e\\u043b\\u044f \\u0433\\u0440\\u0430\\u043d\\u0442\\u043e\\u0432 \\u043f\\u043e \\u0441\\u0442\\u0440\\u0430\\u043d\\u0435\",\"\\u0434\\u043e\\u043b\\u044f \\u0433\\u0440\\u0430\\u043d\\u0442\\u043e\\u0432 \\u043f\\u043e \\u0441\\u0442\\u0440\\u0430\\u043d\\u0435\",\"\\u0434\\u043e\\u043b\\u044f \\u0433\\u0440\\u0430\\u043d\\u0442\\u043e\\u0432 \\u043f\\u043e \\u0441\\u0442\\u0440\\u0430\\u043d\\u0435\",\"\\u0434\\u043e\\u043b\\u044f \\u0433\\u0440\\u0430\\u043d\\u0442\\u043e\\u0432 \\u043f\\u043e \\u0441\\u0442\\u0440\\u0430\\u043d\\u0435\",\"\\u0434\\u043e\\u043b\\u044f \\u0433\\u0440\\u0430\\u043d\\u0442\\u043e\\u0432 \\u043f\\u043e \\u0441\\u0442\\u0440\\u0430\\u043d\\u0435\",\"\\u0434\\u043e\\u043b\\u044f \\u0433\\u0440\\u0430\\u043d\\u0442\\u043e\\u0432 \\u043f\\u043e \\u0441\\u0442\\u0440\\u0430\\u043d\\u0435\",\"\\u0434\\u043e\\u043b\\u044f \\u0433\\u0440\\u0430\\u043d\\u0442\\u043e\\u0432 \\u043f\\u043e \\u0441\\u0442\\u0440\\u0430\\u043d\\u0435\",\"\\u0434\\u043e\\u043b\\u044f \\u0433\\u0440\\u0430\\u043d\\u0442\\u043e\\u0432 \\u043f\\u043e \\u0441\\u0442\\u0440\\u0430\\u043d\\u0435\",\"\\u0434\\u043e\\u043b\\u044f \\u0433\\u0440\\u0430\\u043d\\u0442\\u043e\\u0432 \\u043f\\u043e \\u0441\\u0442\\u0440\\u0430\\u043d\\u0435\",\"\\u0434\\u043e\\u043b\\u044f \\u0433\\u0440\\u0430\\u043d\\u0442\\u043e\\u0432 \\u043f\\u043e \\u0441\\u0442\\u0440\\u0430\\u043d\\u0435\",\"\\u0434\\u043e\\u043b\\u044f \\u0433\\u0440\\u0430\\u043d\\u0442\\u043e\\u0432 \\u043f\\u043e \\u0441\\u0442\\u0440\\u0430\\u043d\\u0435\",\"\\u0434\\u043e\\u043b\\u044f \\u0433\\u0440\\u0430\\u043d\\u0442\\u043e\\u0432 \\u043f\\u043e \\u0441\\u0442\\u0440\\u0430\\u043d\\u0435\",\"\\u0434\\u043e\\u043b\\u044f \\u0433\\u0440\\u0430\\u043d\\u0442\\u043e\\u0432 \\u043f\\u043e \\u0441\\u0442\\u0440\\u0430\\u043d\\u0435\",\"\\u0434\\u043e\\u043b\\u044f \\u0433\\u0440\\u0430\\u043d\\u0442\\u043e\\u0432 \\u043f\\u043e \\u0441\\u0442\\u0440\\u0430\\u043d\\u0435\"],\"value\":{\"__ndarray__\":\"RJEeqSh83z9Qn4XJgxfBP6fFPiO1/Po/p8U+I7X8yj8FcysNlK/dP+xqZU/3ltU/5uMxv0nJ3D9qp0uHIDC5P7tQVRKx1vc/wdLGQdjc6T/N22sBrbDEP3AufxfO/bE/JAIlW96Vzj/bQoxcSKIEQOxqZU/3lpU/GP5B/I+J2j8AAAAAAAAAAMHXiKJepNA/AAAAAAAAAAA9FG/ahz3UP+xqZU/3lpU/5uMxv0nJnD/HWfrRhariP7YxId/WtRFAfDJidhwK1j/N22sBrbDkPzaNO0rab+s/5ujzH9CQ4z8qiVjri2O3Pz0Ub9qHPfQ/5uMxv0nJnD8ehXWMPVfjP6fFPiO1/Lo/pQlI7CfB8D9wLn8Xzv3RP8dZ+tGFqvI/m8FbxGbw5j+PvXhlGOTSP+xqZU/3lqU/KolY64tjtz8VQkvFAk4AQJvBW8Rm8NY/j714ZRjkwj/m4zG/Scm8P+bjMb9JyXw/aEnQ61kSBEDB14iiXqTQP6fFPiO1/Mo/AAAAAAAAAAAAAAAAAAAAAB6FdYw9V9M/JAIlW96Vvj+PvXhlGOTiPwVzKw2Ur80/l6InkYzPEEAehXWMPVfTP+xqZU/3lqU/54RR2U11REAxEIx7OTHAP+bjMb9Jybw/aqdLhyAw2T8xEIx7OTHQP4+9eGUY5MI/cbd8POY3IUAY/kH8j4naP3aw8Eb1A+Q/BXjtbRp3BEAFcysNlK/dPwVzKw2Ur80/rkewUtwC7T/TWBvQTe//P+xqZU/3lqU/YyXaV/kp5z8xEIx7OTHgP0SW4AmvQ+Y/YyXaV/kp5z8xEIx7OTGwP6fFPiO1/No/ShhSOdZJ6D8Y/kH8j4nqPwAAAAAAAAAAiDZF1WoWyj+INkXVahbKP5F5b5ylH/0/XaNoKNIj1T8=\",\"dtype\":\"float64\",\"order\":\"little\",\"shape\":[85]},\"\\u0420\\u0435\\u0433\\u0438\\u043e\\u043d\":[\"\\u0410\\u043b\\u0442\\u0430\\u0439\\u0441\\u043a\\u0438\\u0439 \\u043a\\u0440\\u0430\\u0439\",\"\\u0410\\u043c\\u0443\\u0440\\u0441\\u043a\\u0430\\u044f \\u043e\\u0431\\u043b\\u0430\\u0441\\u0442\\u044c\",\"\\u0410\\u0440\\u0445\\u0430\\u043d\\u0433\\u0435\\u043b\\u044c\\u0441\\u043a\\u0430\\u044f \\u043e\\u0431\\u043b\\u0430\\u0441\\u0442\\u044c\",\"\\u0410\\u0441\\u0442\\u0440\\u0430\\u0445\\u0430\\u043d\\u0441\\u043a\\u0430\\u044f  \\u043e\\u0431\\u043b\\u0430\\u0441\\u0442\\u044c\",\"\\u0411\\u0435\\u043b\\u0433\\u043e\\u0440\\u043e\\u0434\\u0441\\u043a\\u0430\\u044f \\u043e\\u0431\\u043b\\u0430\\u0441\\u0442\\u044c\",\"\\u0411\\u0440\\u044f\\u043d\\u0441\\u043a\\u0430\\u044f \\u043e\\u0431\\u043b\\u0430\\u0441\\u0442\\u044c\",\"\\u0412\\u043b\\u0430\\u0434\\u0438\\u043c\\u0438\\u0440\\u0441\\u043a\\u0430\\u044f \\u043e\\u0431\\u043b\\u0430\\u0441\\u0442\\u044c\",\"\\u0412\\u043e\\u043b\\u0433\\u043e\\u0433\\u0440\\u0430\\u0434\\u0441\\u043a\\u0430\\u044f \\u043e\\u0431\\u043b\\u0430\\u0441\\u0442\\u044c\",\"\\u0412\\u043e\\u043b\\u043e\\u0433\\u043e\\u0434\\u0441\\u043a\\u0430\\u044f \\u043e\\u0431\\u043b\\u0430\\u0441\\u0442\\u044c\",\"\\u0412\\u043e\\u0440\\u043e\\u043d\\u0435\\u0436\\u0441\\u043a\\u0430\\u044f \\u043e\\u0431\\u043b\\u0430\\u0441\\u0442\\u044c\",\"\\u0415\\u0432\\u0440\\u0435\\u0439\\u0441\\u043a\\u0430\\u044f \\u0430\\u0432\\u0442\\u043e\\u043d\\u043e\\u043c\\u043d\\u0430\\u044f \\u043e\\u0431\\u043b\\u0430\\u0441\\u0442\\u044c\",\"\\u0417\\u0430\\u0431\\u0430\\u0439\\u043a\\u0430\\u043b\\u044c\\u0441\\u043a\\u0438\\u0439 \\u043a\\u0440\\u0430\\u0439\",\"\\u0418\\u0432\\u0430\\u043d\\u043e\\u0432\\u0441\\u043a\\u0430\\u044f \\u043e\\u0431\\u043b\\u0430\\u0441\\u0442\\u044c\",\"\\u0418\\u0440\\u043a\\u0443\\u0442\\u0441\\u043a\\u0430\\u044f \\u043e\\u0431\\u043b\\u0430\\u0441\\u0442\\u044c\",\"\\u041a\\u0430\\u0431\\u0430\\u0440\\u0434\\u0438\\u043d\\u043e-\\u0411\\u0430\\u043b\\u043a\\u0430\\u0440\\u0441\\u043a\\u0430\\u044f \\u0420\\u0435\\u0441\\u043f\\u0443\\u0431\\u043b\\u0438\\u043a\\u0430\",\"\\u041a\\u0430\\u043b\\u0438\\u043d\\u0438\\u043d\\u0433\\u0440\\u0430\\u0434\\u0441\\u043a\\u0430\\u044f \\u043e\\u0431\\u043b\\u0430\\u0441\\u0442\\u044c\",\"\\u041a\\u0430\\u043b\\u0443\\u0436\\u0441\\u043a\\u0430\\u044f \\u043e\\u0431\\u043b\\u0430\\u0441\\u0442\\u044c\",\"\\u041a\\u0430\\u043c\\u0447\\u0430\\u0442\\u0441\\u043a\\u0438\\u0439 \\u043a\\u0440\\u0430\\u0439\",\"\\u041a\\u0430\\u0440\\u0430\\u0447\\u0430\\u0435\\u0432\\u043e-\\u0427\\u0435\\u0440\\u043a\\u0435\\u0441\\u0441\\u043a\\u0430\\u044f \\u0420\\u0435\\u0441\\u043f\\u0443\\u0431\\u043b\\u0438\\u043a\\u0430\",\"\\u041a\\u0435\\u043c\\u0435\\u0440\\u043e\\u0432\\u0441\\u043a\\u0430\\u044f \\u043e\\u0431\\u043b\\u0430\\u0441\\u0442\\u044c\",\"\\u041a\\u0438\\u0440\\u043e\\u0432\\u0441\\u043a\\u0430\\u044f \\u043e\\u0431\\u043b\\u0430\\u0441\\u0442\\u044c\",\"\\u041a\\u043e\\u0441\\u0442\\u0440\\u043e\\u043c\\u0441\\u043a\\u0430\\u044f \\u043e\\u0431\\u043b\\u0430\\u0441\\u0442\\u044c\",\"\\u041a\\u0440\\u0430\\u0441\\u043d\\u043e\\u0434\\u0430\\u0440\\u0441\\u043a\\u0438\\u0439 \\u043a\\u0440\\u0430\\u0439\",\"\\u041a\\u0440\\u0430\\u0441\\u043d\\u043e\\u044f\\u0440\\u0441\\u043a\\u0438\\u0439 \\u043a\\u0440\\u0430\\u0439\",\"\\u041a\\u0443\\u0440\\u0433\\u0430\\u043d\\u0441\\u043a\\u0430\\u044f \\u043e\\u0431\\u043b\\u0430\\u0441\\u0442\\u044c\",\"\\u041a\\u0443\\u0440\\u0441\\u043a\\u0430\\u044f \\u043e\\u0431\\u043b\\u0430\\u0441\\u0442\\u044c\",\"\\u041b\\u0435\\u043d\\u0438\\u043d\\u0433\\u0440\\u0430\\u0434\\u0441\\u043a\\u0430\\u044f \\u043e\\u0431\\u043b\\u0430\\u0441\\u0442\\u044c\",\"\\u041b\\u0438\\u043f\\u0435\\u0446\\u043a\\u0430\\u044f \\u043e\\u0431\\u043b\\u0430\\u0441\\u0442\\u044c\",\"\\u041c\\u0430\\u0433\\u0430\\u0434\\u0430\\u043d\\u0441\\u043a\\u0430\\u044f \\u043e\\u0431\\u043b\\u0430\\u0441\\u0442\\u044c\",\"\\u041c\\u043e\\u0441\\u043a\\u0432\\u0430\",\"\\u041c\\u043e\\u0441\\u043a\\u043e\\u0432\\u0441\\u043a\\u0430\\u044f \\u043e\\u0431\\u043b\\u0430\\u0441\\u0442\\u044c\",\"\\u041c\\u0443\\u0440\\u043c\\u0430\\u043d\\u0441\\u043a\\u0430\\u044f \\u043e\\u0431\\u043b\\u0430\\u0441\\u0442\\u044c\",\"\\u041d\\u0435\\u043d\\u0435\\u0446\\u043a\\u0438\\u0439 \\u0430\\u0432\\u0442\\u043e\\u043d\\u043e\\u043c\\u043d\\u044b\\u0439 \\u043e\\u043a\\u0440\\u0443\\u0433\",\"\\u041d\\u0438\\u0436\\u0435\\u0433\\u043e\\u0440\\u043e\\u0434\\u0441\\u043a\\u0430\\u044f \\u043e\\u0431\\u043b\\u0430\\u0441\\u0442\\u044c\",\"\\u041d\\u043e\\u0432\\u0433\\u043e\\u0440\\u043e\\u0434\\u0441\\u043a\\u0430\\u044f \\u043e\\u0431\\u043b\\u0430\\u0441\\u0442\\u044c\",\"\\u041d\\u043e\\u0432\\u043e\\u0441\\u0438\\u0431\\u0438\\u0440\\u0441\\u043a\\u0430\\u044f \\u043e\\u0431\\u043b\\u0430\\u0441\\u0442\\u044c\",\"\\u041e\\u043c\\u0441\\u043a\\u0430\\u044f \\u043e\\u0431\\u043b\\u0430\\u0441\\u0442\\u044c\",\"\\u041e\\u0440\\u0435\\u043d\\u0431\\u0443\\u0440\\u0433\\u0441\\u043a\\u0430\\u044f \\u043e\\u0431\\u043b\\u0430\\u0441\\u0442\\u044c\",\"\\u041e\\u0440\\u043b\\u043e\\u0432\\u0441\\u043a\\u0430\\u044f \\u043e\\u0431\\u043b\\u0430\\u0441\\u0442\\u044c\",\"\\u041f\\u0435\\u043d\\u0437\\u0435\\u043d\\u0441\\u043a\\u0430\\u044f \\u043e\\u0431\\u043b\\u0430\\u0441\\u0442\\u044c\",\"\\u041f\\u0435\\u0440\\u043c\\u0441\\u043a\\u0438\\u0439 \\u043a\\u0440\\u0430\\u0439\",\"\\u041f\\u0440\\u0438\\u043c\\u043e\\u0440\\u0441\\u043a\\u0438\\u0439 \\u043a\\u0440\\u0430\\u0439\",\"\\u041f\\u0441\\u043a\\u043e\\u0432\\u0441\\u043a\\u0430\\u044f \\u043e\\u0431\\u043b\\u0430\\u0441\\u0442\\u044c\",\"\\u0420\\u0435\\u0441\\u043f\\u0443\\u0431\\u043b\\u0438\\u043a\\u0430 \\u0410\\u0434\\u044b\\u0433\\u0435\\u044f\",\"\\u0420\\u0435\\u0441\\u043f\\u0443\\u0431\\u043b\\u0438\\u043a\\u0430 \\u0410\\u043b\\u0442\\u0430\\u0439\",\"\\u0420\\u0435\\u0441\\u043f\\u0443\\u0431\\u043b\\u0438\\u043a\\u0430 \\u0411\\u0430\\u0448\\u043a\\u043e\\u0440\\u0442\\u043e\\u0441\\u0442\\u0430\\u043d\",\"\\u0420\\u0435\\u0441\\u043f\\u0443\\u0431\\u043b\\u0438\\u043a\\u0430 \\u0411\\u0443\\u0440\\u044f\\u0442\\u0438\\u044f\",\"\\u0420\\u0435\\u0441\\u043f\\u0443\\u0431\\u043b\\u0438\\u043a\\u0430 \\u0414\\u0430\\u0433\\u0435\\u0441\\u0442\\u0430\\u043d\",\"\\u0420\\u0435\\u0441\\u043f\\u0443\\u0431\\u043b\\u0438\\u043a\\u0430 \\u0418\\u043d\\u0433\\u0443\\u0448\\u0435\\u0442\\u0438\\u044f\",\"\\u0420\\u0435\\u0441\\u043f\\u0443\\u0431\\u043b\\u0438\\u043a\\u0430 \\u041a\\u0430\\u043b\\u043c\\u044b\\u043a\\u0438\\u044f\",\"\\u0420\\u0435\\u0441\\u043f\\u0443\\u0431\\u043b\\u0438\\u043a\\u0430 \\u041a\\u0430\\u0440\\u0435\\u043b\\u0438\\u044f\",\"\\u0420\\u0435\\u0441\\u043f\\u0443\\u0431\\u043b\\u0438\\u043a\\u0430 \\u041a\\u043e\\u043c\\u0438\",\"\\u0420\\u0435\\u0441\\u043f\\u0443\\u0431\\u043b\\u0438\\u043a\\u0430 \\u041a\\u0440\\u044b\\u043c\",\"\\u0420\\u0435\\u0441\\u043f\\u0443\\u0431\\u043b\\u0438\\u043a\\u0430 \\u041c\\u0430\\u0440\\u0438\\u0439 \\u042d\\u043b\",\"\\u0420\\u0435\\u0441\\u043f\\u0443\\u0431\\u043b\\u0438\\u043a\\u0430 \\u041c\\u043e\\u0440\\u0434\\u043e\\u0432\\u0438\\u044f\",\"\\u0420\\u0435\\u0441\\u043f\\u0443\\u0431\\u043b\\u0438\\u043a\\u0430 \\u0421\\u0430\\u0445\\u0430 (\\u042f\\u043a\\u0443\\u0442\\u0438\\u044f)\",\"\\u0420\\u0435\\u0441\\u043f\\u0443\\u0431\\u043b\\u0438\\u043a\\u0430 \\u0421\\u0435\\u0432\\u0435\\u0440\\u043d\\u0430\\u044f \\u041e\\u0441\\u0435\\u0442\\u0438\\u044f - \\u0410\\u043b\\u0430\\u043d\\u0438\\u044f\",\"\\u0420\\u0435\\u0441\\u043f\\u0443\\u0431\\u043b\\u0438\\u043a\\u0430 \\u0422\\u0430\\u0442\\u0430\\u0440\\u0441\\u0442\\u0430\\u043d\",\"\\u0420\\u0435\\u0441\\u043f\\u0443\\u0431\\u043b\\u0438\\u043a\\u0430 \\u0422\\u044b\\u0432\\u0430\",\"\\u0420\\u0435\\u0441\\u043f\\u0443\\u0431\\u043b\\u0438\\u043a\\u0430 \\u0425\\u0430\\u043a\\u0430\\u0441\\u0438\\u044f\",\"\\u0420\\u043e\\u0441\\u0442\\u043e\\u0432\\u0441\\u043a\\u0430\\u044f \\u043e\\u0431\\u043b\\u0430\\u0441\\u0442\\u044c\",\"\\u0420\\u044f\\u0437\\u0430\\u043d\\u0441\\u043a\\u0430\\u044f \\u043e\\u0431\\u043b\\u0430\\u0441\\u0442\\u044c\",\"\\u0421\\u0430\\u043c\\u0430\\u0440\\u0441\\u043a\\u0430\\u044f \\u043e\\u0431\\u043b\\u0430\\u0441\\u0442\\u044c\",\"\\u0421\\u0430\\u043d\\u043a\\u0442-\\u041f\\u0435\\u0442\\u0435\\u0440\\u0431\\u0443\\u0440\\u0433\",\"\\u0421\\u0430\\u0440\\u0430\\u0442\\u043e\\u0432\\u0441\\u043a\\u0430\\u044f \\u043e\\u0431\\u043b\\u0430\\u0441\\u0442\\u044c\",\"\\u0421\\u0430\\u0445\\u0430\\u043b\\u0438\\u043d\\u0441\\u043a\\u0430\\u044f \\u043e\\u0431\\u043b\\u0430\\u0441\\u0442\\u044c\",\"\\u0421\\u0432\\u0435\\u0440\\u0434\\u043b\\u043e\\u0432\\u0441\\u043a\\u0430\\u044f \\u043e\\u0431\\u043b\\u0430\\u0441\\u0442\\u044c\",\"\\u0421\\u0435\\u0432\\u0430\\u0441\\u0442\\u043e\\u043f\\u043e\\u043b\\u044c\",\"\\u0421\\u043c\\u043e\\u043b\\u0435\\u043d\\u0441\\u043a\\u0430\\u044f \\u043e\\u0431\\u043b\\u0430\\u0441\\u0442\\u044c\",\"\\u0421\\u0442\\u0430\\u0432\\u0440\\u043e\\u043f\\u043e\\u043b\\u044c\\u0441\\u043a\\u0438\\u0439 \\u043a\\u0440\\u0430\\u0439\",\"\\u0422\\u0430\\u043c\\u0431\\u043e\\u0432\\u0441\\u043a\\u0430\\u044f \\u043e\\u0431\\u043b\\u0430\\u0441\\u0442\\u044c\",\"\\u0422\\u0432\\u0435\\u0440\\u0441\\u043a\\u0430\\u044f \\u043e\\u0431\\u043b\\u0430\\u0441\\u0442\\u044c\",\"\\u0422\\u043e\\u043c\\u0441\\u043a\\u0430\\u044f \\u043e\\u0431\\u043b\\u0430\\u0441\\u0442\\u044c\",\"\\u0422\\u0443\\u043b\\u044c\\u0441\\u043a\\u0430\\u044f \\u043e\\u0431\\u043b\\u0430\\u0441\\u0442\\u044c\",\"\\u0422\\u044e\\u043c\\u0435\\u043d\\u0441\\u043a\\u0430\\u044f \\u043e\\u0431\\u043b\\u0430\\u0441\\u0442\\u044c\",\"\\u0423\\u0434\\u043c\\u0443\\u0440\\u0442\\u0441\\u043a\\u0430\\u044f \\u0420\\u0435\\u0441\\u043f\\u0443\\u0431\\u043b\\u0438\\u043a\\u0430\",\"\\u0423\\u043b\\u044c\\u044f\\u043d\\u043e\\u0432\\u0441\\u043a\\u0430\\u044f \\u043e\\u0431\\u043b\\u0430\\u0441\\u0442\\u044c\",\"\\u0425\\u0430\\u0431\\u0430\\u0440\\u043e\\u0432\\u0441\\u043a\\u0438\\u0439 \\u043a\\u0440\\u0430\\u0439\",\"\\u0425\\u0430\\u043d\\u0442\\u044b-\\u041c\\u0430\\u043d\\u0441\\u0438\\u0439\\u0441\\u043a\\u0438\\u0439 \\u0430\\u0432\\u0442\\u043e\\u043d\\u043e\\u043c\\u043d\\u044b\\u0439 \\u043e\\u043a\\u0440\\u0443\\u0433 - \\u042e\\u0433\\u0440\\u0430\",\"\\u0427\\u0435\\u043b\\u044f\\u0431\\u0438\\u043d\\u0441\\u043a\\u0430\\u044f \\u043e\\u0431\\u043b\\u0430\\u0441\\u0442\\u044c\",\"\\u0427\\u0435\\u0447\\u0435\\u043d\\u0441\\u043a\\u0430\\u044f \\u0420\\u0435\\u0441\\u043f\\u0443\\u0431\\u043b\\u0438\\u043a\\u0430\",\"\\u0427\\u0443\\u0432\\u0430\\u0448\\u0441\\u043a\\u0430\\u044f \\u0420\\u0435\\u0441\\u043f\\u0443\\u0431\\u043b\\u0438\\u043a\\u0430\",\"\\u0427\\u0443\\u043a\\u043e\\u0442\\u0441\\u043a\\u0438\\u0439 \\u0430\\u0432\\u0442\\u043e\\u043d\\u043e\\u043c\\u043d\\u044b\\u0439 \\u043e\\u043a\\u0440\\u0443\\u0433\",\"\\u042f\\u043c\\u0430\\u043b\\u043e-\\u041d\\u0435\\u043d\\u0435\\u0446\\u043a\\u0438\\u0439 \\u0430\\u0432\\u0442\\u043e\\u043d\\u043e\\u043c\\u043d\\u044b\\u0439 \\u043e\\u043a\\u0440\\u0443\\u0433\",\"\\u042f\\u0440\\u043e\\u0441\\u043b\\u0430\\u0432\\u0441\\u043a\\u0430\\u044f \\u043e\\u0431\\u043b\\u0430\\u0441\\u0442\\u044c\"]},\"selected\":{\"id\":\"6002\"},\"selection_policy\":{\"id\":\"6020\"}},\"id\":\"6001\",\"type\":\"ColumnDataSource\"},{\"attributes\":{},\"id\":\"5933\",\"type\":\"CategoricalTicker\"},{\"attributes\":{},\"id\":\"5973\",\"type\":\"UnionRenderers\"},{\"attributes\":{\"coordinates\":null,\"group\":null,\"text_color\":\"black\",\"text_font_size\":\"12pt\"},\"id\":\"5924\",\"type\":\"Title\"},{\"attributes\":{\"line_alpha\":0.1,\"line_color\":\"#e5ae38\",\"line_width\":2,\"x\":{\"field\":\"\\u0420\\u0435\\u0433\\u0438\\u043e\\u043d\"},\"y\":{\"field\":\"value\"}},\"id\":\"6005\",\"type\":\"Line\"},{\"attributes\":{\"factors\":[\"\\u0410\\u043b\\u0442\\u0430\\u0439\\u0441\\u043a\\u0438\\u0439 \\u043a\\u0440\\u0430\\u0439\",\"\\u0410\\u043c\\u0443\\u0440\\u0441\\u043a\\u0430\\u044f \\u043e\\u0431\\u043b\\u0430\\u0441\\u0442\\u044c\",\"\\u0410\\u0440\\u0445\\u0430\\u043d\\u0433\\u0435\\u043b\\u044c\\u0441\\u043a\\u0430\\u044f \\u043e\\u0431\\u043b\\u0430\\u0441\\u0442\\u044c\",\"\\u0410\\u0441\\u0442\\u0440\\u0430\\u0445\\u0430\\u043d\\u0441\\u043a\\u0430\\u044f  \\u043e\\u0431\\u043b\\u0430\\u0441\\u0442\\u044c\",\"\\u0411\\u0435\\u043b\\u0433\\u043e\\u0440\\u043e\\u0434\\u0441\\u043a\\u0430\\u044f \\u043e\\u0431\\u043b\\u0430\\u0441\\u0442\\u044c\",\"\\u0411\\u0440\\u044f\\u043d\\u0441\\u043a\\u0430\\u044f \\u043e\\u0431\\u043b\\u0430\\u0441\\u0442\\u044c\",\"\\u0412\\u043b\\u0430\\u0434\\u0438\\u043c\\u0438\\u0440\\u0441\\u043a\\u0430\\u044f \\u043e\\u0431\\u043b\\u0430\\u0441\\u0442\\u044c\",\"\\u0412\\u043e\\u043b\\u0433\\u043e\\u0433\\u0440\\u0430\\u0434\\u0441\\u043a\\u0430\\u044f \\u043e\\u0431\\u043b\\u0430\\u0441\\u0442\\u044c\",\"\\u0412\\u043e\\u043b\\u043e\\u0433\\u043e\\u0434\\u0441\\u043a\\u0430\\u044f \\u043e\\u0431\\u043b\\u0430\\u0441\\u0442\\u044c\",\"\\u0412\\u043e\\u0440\\u043e\\u043d\\u0435\\u0436\\u0441\\u043a\\u0430\\u044f \\u043e\\u0431\\u043b\\u0430\\u0441\\u0442\\u044c\",\"\\u0415\\u0432\\u0440\\u0435\\u0439\\u0441\\u043a\\u0430\\u044f \\u0430\\u0432\\u0442\\u043e\\u043d\\u043e\\u043c\\u043d\\u0430\\u044f \\u043e\\u0431\\u043b\\u0430\\u0441\\u0442\\u044c\",\"\\u0417\\u0430\\u0431\\u0430\\u0439\\u043a\\u0430\\u043b\\u044c\\u0441\\u043a\\u0438\\u0439 \\u043a\\u0440\\u0430\\u0439\",\"\\u0418\\u0432\\u0430\\u043d\\u043e\\u0432\\u0441\\u043a\\u0430\\u044f \\u043e\\u0431\\u043b\\u0430\\u0441\\u0442\\u044c\",\"\\u0418\\u0440\\u043a\\u0443\\u0442\\u0441\\u043a\\u0430\\u044f \\u043e\\u0431\\u043b\\u0430\\u0441\\u0442\\u044c\",\"\\u041a\\u0430\\u0431\\u0430\\u0440\\u0434\\u0438\\u043d\\u043e-\\u0411\\u0430\\u043b\\u043a\\u0430\\u0440\\u0441\\u043a\\u0430\\u044f \\u0420\\u0435\\u0441\\u043f\\u0443\\u0431\\u043b\\u0438\\u043a\\u0430\",\"\\u041a\\u0430\\u043b\\u0438\\u043d\\u0438\\u043d\\u0433\\u0440\\u0430\\u0434\\u0441\\u043a\\u0430\\u044f \\u043e\\u0431\\u043b\\u0430\\u0441\\u0442\\u044c\",\"\\u041a\\u0430\\u043b\\u0443\\u0436\\u0441\\u043a\\u0430\\u044f \\u043e\\u0431\\u043b\\u0430\\u0441\\u0442\\u044c\",\"\\u041a\\u0430\\u043c\\u0447\\u0430\\u0442\\u0441\\u043a\\u0438\\u0439 \\u043a\\u0440\\u0430\\u0439\",\"\\u041a\\u0430\\u0440\\u0430\\u0447\\u0430\\u0435\\u0432\\u043e-\\u0427\\u0435\\u0440\\u043a\\u0435\\u0441\\u0441\\u043a\\u0430\\u044f \\u0420\\u0435\\u0441\\u043f\\u0443\\u0431\\u043b\\u0438\\u043a\\u0430\",\"\\u041a\\u0435\\u043c\\u0435\\u0440\\u043e\\u0432\\u0441\\u043a\\u0430\\u044f \\u043e\\u0431\\u043b\\u0430\\u0441\\u0442\\u044c\",\"\\u041a\\u0438\\u0440\\u043e\\u0432\\u0441\\u043a\\u0430\\u044f \\u043e\\u0431\\u043b\\u0430\\u0441\\u0442\\u044c\",\"\\u041a\\u043e\\u0441\\u0442\\u0440\\u043e\\u043c\\u0441\\u043a\\u0430\\u044f \\u043e\\u0431\\u043b\\u0430\\u0441\\u0442\\u044c\",\"\\u041a\\u0440\\u0430\\u0441\\u043d\\u043e\\u0434\\u0430\\u0440\\u0441\\u043a\\u0438\\u0439 \\u043a\\u0440\\u0430\\u0439\",\"\\u041a\\u0440\\u0430\\u0441\\u043d\\u043e\\u044f\\u0440\\u0441\\u043a\\u0438\\u0439 \\u043a\\u0440\\u0430\\u0439\",\"\\u041a\\u0443\\u0440\\u0433\\u0430\\u043d\\u0441\\u043a\\u0430\\u044f \\u043e\\u0431\\u043b\\u0430\\u0441\\u0442\\u044c\",\"\\u041a\\u0443\\u0440\\u0441\\u043a\\u0430\\u044f \\u043e\\u0431\\u043b\\u0430\\u0441\\u0442\\u044c\",\"\\u041b\\u0435\\u043d\\u0438\\u043d\\u0433\\u0440\\u0430\\u0434\\u0441\\u043a\\u0430\\u044f \\u043e\\u0431\\u043b\\u0430\\u0441\\u0442\\u044c\",\"\\u041b\\u0438\\u043f\\u0435\\u0446\\u043a\\u0430\\u044f \\u043e\\u0431\\u043b\\u0430\\u0441\\u0442\\u044c\",\"\\u041c\\u0430\\u0433\\u0430\\u0434\\u0430\\u043d\\u0441\\u043a\\u0430\\u044f \\u043e\\u0431\\u043b\\u0430\\u0441\\u0442\\u044c\",\"\\u041c\\u043e\\u0441\\u043a\\u0432\\u0430\",\"\\u041c\\u043e\\u0441\\u043a\\u043e\\u0432\\u0441\\u043a\\u0430\\u044f \\u043e\\u0431\\u043b\\u0430\\u0441\\u0442\\u044c\",\"\\u041c\\u0443\\u0440\\u043c\\u0430\\u043d\\u0441\\u043a\\u0430\\u044f \\u043e\\u0431\\u043b\\u0430\\u0441\\u0442\\u044c\",\"\\u041d\\u0435\\u043d\\u0435\\u0446\\u043a\\u0438\\u0439 \\u0430\\u0432\\u0442\\u043e\\u043d\\u043e\\u043c\\u043d\\u044b\\u0439 \\u043e\\u043a\\u0440\\u0443\\u0433\",\"\\u041d\\u0438\\u0436\\u0435\\u0433\\u043e\\u0440\\u043e\\u0434\\u0441\\u043a\\u0430\\u044f \\u043e\\u0431\\u043b\\u0430\\u0441\\u0442\\u044c\",\"\\u041d\\u043e\\u0432\\u0433\\u043e\\u0440\\u043e\\u0434\\u0441\\u043a\\u0430\\u044f \\u043e\\u0431\\u043b\\u0430\\u0441\\u0442\\u044c\",\"\\u041d\\u043e\\u0432\\u043e\\u0441\\u0438\\u0431\\u0438\\u0440\\u0441\\u043a\\u0430\\u044f \\u043e\\u0431\\u043b\\u0430\\u0441\\u0442\\u044c\",\"\\u041e\\u043c\\u0441\\u043a\\u0430\\u044f \\u043e\\u0431\\u043b\\u0430\\u0441\\u0442\\u044c\",\"\\u041e\\u0440\\u0435\\u043d\\u0431\\u0443\\u0440\\u0433\\u0441\\u043a\\u0430\\u044f \\u043e\\u0431\\u043b\\u0430\\u0441\\u0442\\u044c\",\"\\u041e\\u0440\\u043b\\u043e\\u0432\\u0441\\u043a\\u0430\\u044f \\u043e\\u0431\\u043b\\u0430\\u0441\\u0442\\u044c\",\"\\u041f\\u0435\\u043d\\u0437\\u0435\\u043d\\u0441\\u043a\\u0430\\u044f \\u043e\\u0431\\u043b\\u0430\\u0441\\u0442\\u044c\",\"\\u041f\\u0435\\u0440\\u043c\\u0441\\u043a\\u0438\\u0439 \\u043a\\u0440\\u0430\\u0439\",\"\\u041f\\u0440\\u0438\\u043c\\u043e\\u0440\\u0441\\u043a\\u0438\\u0439 \\u043a\\u0440\\u0430\\u0439\",\"\\u041f\\u0441\\u043a\\u043e\\u0432\\u0441\\u043a\\u0430\\u044f \\u043e\\u0431\\u043b\\u0430\\u0441\\u0442\\u044c\",\"\\u0420\\u0435\\u0441\\u043f\\u0443\\u0431\\u043b\\u0438\\u043a\\u0430 \\u0410\\u0434\\u044b\\u0433\\u0435\\u044f\",\"\\u0420\\u0435\\u0441\\u043f\\u0443\\u0431\\u043b\\u0438\\u043a\\u0430 \\u0410\\u043b\\u0442\\u0430\\u0439\",\"\\u0420\\u0435\\u0441\\u043f\\u0443\\u0431\\u043b\\u0438\\u043a\\u0430 \\u0411\\u0430\\u0448\\u043a\\u043e\\u0440\\u0442\\u043e\\u0441\\u0442\\u0430\\u043d\",\"\\u0420\\u0435\\u0441\\u043f\\u0443\\u0431\\u043b\\u0438\\u043a\\u0430 \\u0411\\u0443\\u0440\\u044f\\u0442\\u0438\\u044f\",\"\\u0420\\u0435\\u0441\\u043f\\u0443\\u0431\\u043b\\u0438\\u043a\\u0430 \\u0414\\u0430\\u0433\\u0435\\u0441\\u0442\\u0430\\u043d\",\"\\u0420\\u0435\\u0441\\u043f\\u0443\\u0431\\u043b\\u0438\\u043a\\u0430 \\u0418\\u043d\\u0433\\u0443\\u0448\\u0435\\u0442\\u0438\\u044f\",\"\\u0420\\u0435\\u0441\\u043f\\u0443\\u0431\\u043b\\u0438\\u043a\\u0430 \\u041a\\u0430\\u043b\\u043c\\u044b\\u043a\\u0438\\u044f\",\"\\u0420\\u0435\\u0441\\u043f\\u0443\\u0431\\u043b\\u0438\\u043a\\u0430 \\u041a\\u0430\\u0440\\u0435\\u043b\\u0438\\u044f\",\"\\u0420\\u0435\\u0441\\u043f\\u0443\\u0431\\u043b\\u0438\\u043a\\u0430 \\u041a\\u043e\\u043c\\u0438\",\"\\u0420\\u0435\\u0441\\u043f\\u0443\\u0431\\u043b\\u0438\\u043a\\u0430 \\u041a\\u0440\\u044b\\u043c\",\"\\u0420\\u0435\\u0441\\u043f\\u0443\\u0431\\u043b\\u0438\\u043a\\u0430 \\u041c\\u0430\\u0440\\u0438\\u0439 \\u042d\\u043b\",\"\\u0420\\u0435\\u0441\\u043f\\u0443\\u0431\\u043b\\u0438\\u043a\\u0430 \\u041c\\u043e\\u0440\\u0434\\u043e\\u0432\\u0438\\u044f\",\"\\u0420\\u0435\\u0441\\u043f\\u0443\\u0431\\u043b\\u0438\\u043a\\u0430 \\u0421\\u0430\\u0445\\u0430 (\\u042f\\u043a\\u0443\\u0442\\u0438\\u044f)\",\"\\u0420\\u0435\\u0441\\u043f\\u0443\\u0431\\u043b\\u0438\\u043a\\u0430 \\u0421\\u0435\\u0432\\u0435\\u0440\\u043d\\u0430\\u044f \\u041e\\u0441\\u0435\\u0442\\u0438\\u044f - \\u0410\\u043b\\u0430\\u043d\\u0438\\u044f\",\"\\u0420\\u0435\\u0441\\u043f\\u0443\\u0431\\u043b\\u0438\\u043a\\u0430 \\u0422\\u0430\\u0442\\u0430\\u0440\\u0441\\u0442\\u0430\\u043d\",\"\\u0420\\u0435\\u0441\\u043f\\u0443\\u0431\\u043b\\u0438\\u043a\\u0430 \\u0422\\u044b\\u0432\\u0430\",\"\\u0420\\u0435\\u0441\\u043f\\u0443\\u0431\\u043b\\u0438\\u043a\\u0430 \\u0425\\u0430\\u043a\\u0430\\u0441\\u0438\\u044f\",\"\\u0420\\u043e\\u0441\\u0442\\u043e\\u0432\\u0441\\u043a\\u0430\\u044f \\u043e\\u0431\\u043b\\u0430\\u0441\\u0442\\u044c\",\"\\u0420\\u044f\\u0437\\u0430\\u043d\\u0441\\u043a\\u0430\\u044f \\u043e\\u0431\\u043b\\u0430\\u0441\\u0442\\u044c\",\"\\u0421\\u0430\\u043c\\u0430\\u0440\\u0441\\u043a\\u0430\\u044f \\u043e\\u0431\\u043b\\u0430\\u0441\\u0442\\u044c\",\"\\u0421\\u0430\\u043d\\u043a\\u0442-\\u041f\\u0435\\u0442\\u0435\\u0440\\u0431\\u0443\\u0440\\u0433\",\"\\u0421\\u0430\\u0440\\u0430\\u0442\\u043e\\u0432\\u0441\\u043a\\u0430\\u044f \\u043e\\u0431\\u043b\\u0430\\u0441\\u0442\\u044c\",\"\\u0421\\u0430\\u0445\\u0430\\u043b\\u0438\\u043d\\u0441\\u043a\\u0430\\u044f \\u043e\\u0431\\u043b\\u0430\\u0441\\u0442\\u044c\",\"\\u0421\\u0432\\u0435\\u0440\\u0434\\u043b\\u043e\\u0432\\u0441\\u043a\\u0430\\u044f \\u043e\\u0431\\u043b\\u0430\\u0441\\u0442\\u044c\",\"\\u0421\\u0435\\u0432\\u0430\\u0441\\u0442\\u043e\\u043f\\u043e\\u043b\\u044c\",\"\\u0421\\u043c\\u043e\\u043b\\u0435\\u043d\\u0441\\u043a\\u0430\\u044f \\u043e\\u0431\\u043b\\u0430\\u0441\\u0442\\u044c\",\"\\u0421\\u0442\\u0430\\u0432\\u0440\\u043e\\u043f\\u043e\\u043b\\u044c\\u0441\\u043a\\u0438\\u0439 \\u043a\\u0440\\u0430\\u0439\",\"\\u0422\\u0430\\u043c\\u0431\\u043e\\u0432\\u0441\\u043a\\u0430\\u044f \\u043e\\u0431\\u043b\\u0430\\u0441\\u0442\\u044c\",\"\\u0422\\u0432\\u0435\\u0440\\u0441\\u043a\\u0430\\u044f \\u043e\\u0431\\u043b\\u0430\\u0441\\u0442\\u044c\",\"\\u0422\\u043e\\u043c\\u0441\\u043a\\u0430\\u044f \\u043e\\u0431\\u043b\\u0430\\u0441\\u0442\\u044c\",\"\\u0422\\u0443\\u043b\\u044c\\u0441\\u043a\\u0430\\u044f \\u043e\\u0431\\u043b\\u0430\\u0441\\u0442\\u044c\",\"\\u0422\\u044e\\u043c\\u0435\\u043d\\u0441\\u043a\\u0430\\u044f \\u043e\\u0431\\u043b\\u0430\\u0441\\u0442\\u044c\",\"\\u0423\\u0434\\u043c\\u0443\\u0440\\u0442\\u0441\\u043a\\u0430\\u044f \\u0420\\u0435\\u0441\\u043f\\u0443\\u0431\\u043b\\u0438\\u043a\\u0430\",\"\\u0423\\u043b\\u044c\\u044f\\u043d\\u043e\\u0432\\u0441\\u043a\\u0430\\u044f \\u043e\\u0431\\u043b\\u0430\\u0441\\u0442\\u044c\",\"\\u0425\\u0430\\u0431\\u0430\\u0440\\u043e\\u0432\\u0441\\u043a\\u0438\\u0439 \\u043a\\u0440\\u0430\\u0439\",\"\\u0425\\u0430\\u043d\\u0442\\u044b-\\u041c\\u0430\\u043d\\u0441\\u0438\\u0439\\u0441\\u043a\\u0438\\u0439 \\u0430\\u0432\\u0442\\u043e\\u043d\\u043e\\u043c\\u043d\\u044b\\u0439 \\u043e\\u043a\\u0440\\u0443\\u0433 - \\u042e\\u0433\\u0440\\u0430\",\"\\u0427\\u0435\\u043b\\u044f\\u0431\\u0438\\u043d\\u0441\\u043a\\u0430\\u044f \\u043e\\u0431\\u043b\\u0430\\u0441\\u0442\\u044c\",\"\\u0427\\u0435\\u0447\\u0435\\u043d\\u0441\\u043a\\u0430\\u044f \\u0420\\u0435\\u0441\\u043f\\u0443\\u0431\\u043b\\u0438\\u043a\\u0430\",\"\\u0427\\u0443\\u0432\\u0430\\u0448\\u0441\\u043a\\u0430\\u044f \\u0420\\u0435\\u0441\\u043f\\u0443\\u0431\\u043b\\u0438\\u043a\\u0430\",\"\\u0427\\u0443\\u043a\\u043e\\u0442\\u0441\\u043a\\u0438\\u0439 \\u0430\\u0432\\u0442\\u043e\\u043d\\u043e\\u043c\\u043d\\u044b\\u0439 \\u043e\\u043a\\u0440\\u0443\\u0433\",\"\\u042f\\u043c\\u0430\\u043b\\u043e-\\u041d\\u0435\\u043d\\u0435\\u0446\\u043a\\u0438\\u0439 \\u0430\\u0432\\u0442\\u043e\\u043d\\u043e\\u043c\\u043d\\u044b\\u0439 \\u043e\\u043a\\u0440\\u0443\\u0433\",\"\\u042f\\u0440\\u043e\\u0441\\u043b\\u0430\\u0432\\u0441\\u043a\\u0430\\u044f \\u043e\\u0431\\u043b\\u0430\\u0441\\u0442\\u044c\"],\"tags\":[[[\"\\u0420\\u0435\\u0433\\u0438\\u043e\\u043d\",\"\\u0420\\u0435\\u0433\\u0438\\u043e\\u043d\",null]]]},\"id\":\"5918\",\"type\":\"FactorRange\"},{\"attributes\":{\"end\":15651.9,\"reset_end\":15651.9,\"reset_start\":-1422.9,\"start\":-1422.9,\"tags\":[[[\"value\",\"value\",null]]]},\"id\":\"5919\",\"type\":\"Range1d\"},{\"attributes\":{\"line_color\":\"#e5ae38\",\"line_width\":2,\"x\":{\"field\":\"\\u0420\\u0435\\u0433\\u0438\\u043e\\u043d\"},\"y\":{\"field\":\"value\"}},\"id\":\"6004\",\"type\":\"Line\"},{\"attributes\":{\"axis\":{\"id\":\"5932\"},\"coordinates\":null,\"grid_line_color\":null,\"group\":null,\"ticker\":null},\"id\":\"5934\",\"type\":\"Grid\"},{\"attributes\":{\"line_color\":\"#30a2da\",\"line_width\":2,\"x\":{\"field\":\"\\u0420\\u0435\\u0433\\u0438\\u043e\\u043d\"},\"y\":{\"field\":\"value\"}},\"id\":\"5978\",\"type\":\"Line\"},{\"attributes\":{},\"id\":\"5936\",\"type\":\"BasicTicker\"},{\"attributes\":{\"click_policy\":\"mute\",\"coordinates\":null,\"group\":null,\"items\":[{\"id\":\"5977\"},{\"id\":\"5999\"},{\"id\":\"6023\"}],\"location\":[0,0],\"title\":\"Variable\"},\"id\":\"5976\",\"type\":\"Legend\"},{\"attributes\":{\"line_alpha\":0.2,\"line_color\":\"#30a2da\",\"line_width\":2,\"x\":{\"field\":\"\\u0420\\u0435\\u0433\\u0438\\u043e\\u043d\"},\"y\":{\"field\":\"value\"}},\"id\":\"5963\",\"type\":\"Line\"},{\"attributes\":{\"data\":{\"Variable\":[\"\\u041a\\u043e\\u043b-\\u0432\\u043e \\u0433\\u0440\\u0430\\u043d\\u0442\\u043e\\u0432\",\"\\u041a\\u043e\\u043b-\\u0432\\u043e \\u0433\\u0440\\u0430\\u043d\\u0442\\u043e\\u0432\",\"\\u041a\\u043e\\u043b-\\u0432\\u043e \\u0433\\u0440\\u0430\\u043d\\u0442\\u043e\\u0432\",\"\\u041a\\u043e\\u043b-\\u0432\\u043e \\u0433\\u0440\\u0430\\u043d\\u0442\\u043e\\u0432\",\"\\u041a\\u043e\\u043b-\\u0432\\u043e \\u0433\\u0440\\u0430\\u043d\\u0442\\u043e\\u0432\",\"\\u041a\\u043e\\u043b-\\u0432\\u043e \\u0433\\u0440\\u0430\\u043d\\u0442\\u043e\\u0432\",\"\\u041a\\u043e\\u043b-\\u0432\\u043e \\u0433\\u0440\\u0430\\u043d\\u0442\\u043e\\u0432\",\"\\u041a\\u043e\\u043b-\\u0432\\u043e \\u0433\\u0440\\u0430\\u043d\\u0442\\u043e\\u0432\",\"\\u041a\\u043e\\u043b-\\u0432\\u043e \\u0433\\u0440\\u0430\\u043d\\u0442\\u043e\\u0432\",\"\\u041a\\u043e\\u043b-\\u0432\\u043e \\u0433\\u0440\\u0430\\u043d\\u0442\\u043e\\u0432\",\"\\u041a\\u043e\\u043b-\\u0432\\u043e \\u0433\\u0440\\u0430\\u043d\\u0442\\u043e\\u0432\",\"\\u041a\\u043e\\u043b-\\u0432\\u043e \\u0433\\u0440\\u0430\\u043d\\u0442\\u043e\\u0432\",\"\\u041a\\u043e\\u043b-\\u0432\\u043e \\u0433\\u0440\\u0430\\u043d\\u0442\\u043e\\u0432\",\"\\u041a\\u043e\\u043b-\\u0432\\u043e \\u0433\\u0440\\u0430\\u043d\\u0442\\u043e\\u0432\",\"\\u041a\\u043e\\u043b-\\u0432\\u043e \\u0433\\u0440\\u0430\\u043d\\u0442\\u043e\\u0432\",\"\\u041a\\u043e\\u043b-\\u0432\\u043e \\u0433\\u0440\\u0430\\u043d\\u0442\\u043e\\u0432\",\"\\u041a\\u043e\\u043b-\\u0432\\u043e \\u0433\\u0440\\u0430\\u043d\\u0442\\u043e\\u0432\",\"\\u041a\\u043e\\u043b-\\u0432\\u043e \\u0433\\u0440\\u0430\\u043d\\u0442\\u043e\\u0432\",\"\\u041a\\u043e\\u043b-\\u0432\\u043e \\u0433\\u0440\\u0430\\u043d\\u0442\\u043e\\u0432\",\"\\u041a\\u043e\\u043b-\\u0432\\u043e \\u0433\\u0440\\u0430\\u043d\\u0442\\u043e\\u0432\",\"\\u041a\\u043e\\u043b-\\u0432\\u043e \\u0433\\u0440\\u0430\\u043d\\u0442\\u043e\\u0432\",\"\\u041a\\u043e\\u043b-\\u0432\\u043e \\u0433\\u0440\\u0430\\u043d\\u0442\\u043e\\u0432\",\"\\u041a\\u043e\\u043b-\\u0432\\u043e \\u0433\\u0440\\u0430\\u043d\\u0442\\u043e\\u0432\",\"\\u041a\\u043e\\u043b-\\u0432\\u043e \\u0433\\u0440\\u0430\\u043d\\u0442\\u043e\\u0432\",\"\\u041a\\u043e\\u043b-\\u0432\\u043e \\u0433\\u0440\\u0430\\u043d\\u0442\\u043e\\u0432\",\"\\u041a\\u043e\\u043b-\\u0432\\u043e \\u0433\\u0440\\u0430\\u043d\\u0442\\u043e\\u0432\",\"\\u041a\\u043e\\u043b-\\u0432\\u043e \\u0433\\u0440\\u0430\\u043d\\u0442\\u043e\\u0432\",\"\\u041a\\u043e\\u043b-\\u0432\\u043e \\u0433\\u0440\\u0430\\u043d\\u0442\\u043e\\u0432\",\"\\u041a\\u043e\\u043b-\\u0432\\u043e \\u0433\\u0440\\u0430\\u043d\\u0442\\u043e\\u0432\",\"\\u041a\\u043e\\u043b-\\u0432\\u043e \\u0433\\u0440\\u0430\\u043d\\u0442\\u043e\\u0432\",\"\\u041a\\u043e\\u043b-\\u0432\\u043e \\u0433\\u0440\\u0430\\u043d\\u0442\\u043e\\u0432\",\"\\u041a\\u043e\\u043b-\\u0432\\u043e \\u0433\\u0440\\u0430\\u043d\\u0442\\u043e\\u0432\",\"\\u041a\\u043e\\u043b-\\u0432\\u043e \\u0433\\u0440\\u0430\\u043d\\u0442\\u043e\\u0432\",\"\\u041a\\u043e\\u043b-\\u0432\\u043e \\u0433\\u0440\\u0430\\u043d\\u0442\\u043e\\u0432\",\"\\u041a\\u043e\\u043b-\\u0432\\u043e \\u0433\\u0440\\u0430\\u043d\\u0442\\u043e\\u0432\",\"\\u041a\\u043e\\u043b-\\u0432\\u043e \\u0433\\u0440\\u0430\\u043d\\u0442\\u043e\\u0432\",\"\\u041a\\u043e\\u043b-\\u0432\\u043e \\u0433\\u0440\\u0430\\u043d\\u0442\\u043e\\u0432\",\"\\u041a\\u043e\\u043b-\\u0432\\u043e \\u0433\\u0440\\u0430\\u043d\\u0442\\u043e\\u0432\",\"\\u041a\\u043e\\u043b-\\u0432\\u043e \\u0433\\u0440\\u0430\\u043d\\u0442\\u043e\\u0432\",\"\\u041a\\u043e\\u043b-\\u0432\\u043e \\u0433\\u0440\\u0430\\u043d\\u0442\\u043e\\u0432\",\"\\u041a\\u043e\\u043b-\\u0432\\u043e \\u0433\\u0440\\u0430\\u043d\\u0442\\u043e\\u0432\",\"\\u041a\\u043e\\u043b-\\u0432\\u043e \\u0433\\u0440\\u0430\\u043d\\u0442\\u043e\\u0432\",\"\\u041a\\u043e\\u043b-\\u0432\\u043e \\u0433\\u0440\\u0430\\u043d\\u0442\\u043e\\u0432\",\"\\u041a\\u043e\\u043b-\\u0432\\u043e \\u0433\\u0440\\u0430\\u043d\\u0442\\u043e\\u0432\",\"\\u041a\\u043e\\u043b-\\u0432\\u043e \\u0433\\u0440\\u0430\\u043d\\u0442\\u043e\\u0432\",\"\\u041a\\u043e\\u043b-\\u0432\\u043e \\u0433\\u0440\\u0430\\u043d\\u0442\\u043e\\u0432\",\"\\u041a\\u043e\\u043b-\\u0432\\u043e \\u0433\\u0440\\u0430\\u043d\\u0442\\u043e\\u0432\",\"\\u041a\\u043e\\u043b-\\u0432\\u043e \\u0433\\u0440\\u0430\\u043d\\u0442\\u043e\\u0432\",\"\\u041a\\u043e\\u043b-\\u0432\\u043e \\u0433\\u0440\\u0430\\u043d\\u0442\\u043e\\u0432\",\"\\u041a\\u043e\\u043b-\\u0432\\u043e \\u0433\\u0440\\u0430\\u043d\\u0442\\u043e\\u0432\",\"\\u041a\\u043e\\u043b-\\u0432\\u043e \\u0433\\u0440\\u0430\\u043d\\u0442\\u043e\\u0432\",\"\\u041a\\u043e\\u043b-\\u0432\\u043e \\u0433\\u0440\\u0430\\u043d\\u0442\\u043e\\u0432\",\"\\u041a\\u043e\\u043b-\\u0432\\u043e \\u0433\\u0440\\u0430\\u043d\\u0442\\u043e\\u0432\",\"\\u041a\\u043e\\u043b-\\u0432\\u043e \\u0433\\u0440\\u0430\\u043d\\u0442\\u043e\\u0432\",\"\\u041a\\u043e\\u043b-\\u0432\\u043e \\u0433\\u0440\\u0430\\u043d\\u0442\\u043e\\u0432\",\"\\u041a\\u043e\\u043b-\\u0432\\u043e \\u0433\\u0440\\u0430\\u043d\\u0442\\u043e\\u0432\",\"\\u041a\\u043e\\u043b-\\u0432\\u043e \\u0433\\u0440\\u0430\\u043d\\u0442\\u043e\\u0432\",\"\\u041a\\u043e\\u043b-\\u0432\\u043e \\u0433\\u0440\\u0430\\u043d\\u0442\\u043e\\u0432\",\"\\u041a\\u043e\\u043b-\\u0432\\u043e \\u0433\\u0440\\u0430\\u043d\\u0442\\u043e\\u0432\",\"\\u041a\\u043e\\u043b-\\u0432\\u043e \\u0433\\u0440\\u0430\\u043d\\u0442\\u043e\\u0432\",\"\\u041a\\u043e\\u043b-\\u0432\\u043e \\u0433\\u0440\\u0430\\u043d\\u0442\\u043e\\u0432\",\"\\u041a\\u043e\\u043b-\\u0432\\u043e \\u0433\\u0440\\u0430\\u043d\\u0442\\u043e\\u0432\",\"\\u041a\\u043e\\u043b-\\u0432\\u043e \\u0433\\u0440\\u0430\\u043d\\u0442\\u043e\\u0432\",\"\\u041a\\u043e\\u043b-\\u0432\\u043e \\u0433\\u0440\\u0430\\u043d\\u0442\\u043e\\u0432\",\"\\u041a\\u043e\\u043b-\\u0432\\u043e \\u0433\\u0440\\u0430\\u043d\\u0442\\u043e\\u0432\",\"\\u041a\\u043e\\u043b-\\u0432\\u043e \\u0433\\u0440\\u0430\\u043d\\u0442\\u043e\\u0432\",\"\\u041a\\u043e\\u043b-\\u0432\\u043e \\u0433\\u0440\\u0430\\u043d\\u0442\\u043e\\u0432\",\"\\u041a\\u043e\\u043b-\\u0432\\u043e \\u0433\\u0440\\u0430\\u043d\\u0442\\u043e\\u0432\",\"\\u041a\\u043e\\u043b-\\u0432\\u043e \\u0433\\u0440\\u0430\\u043d\\u0442\\u043e\\u0432\",\"\\u041a\\u043e\\u043b-\\u0432\\u043e \\u0433\\u0440\\u0430\\u043d\\u0442\\u043e\\u0432\",\"\\u041a\\u043e\\u043b-\\u0432\\u043e \\u0433\\u0440\\u0430\\u043d\\u0442\\u043e\\u0432\",\"\\u041a\\u043e\\u043b-\\u0432\\u043e \\u0433\\u0440\\u0430\\u043d\\u0442\\u043e\\u0432\",\"\\u041a\\u043e\\u043b-\\u0432\\u043e \\u0433\\u0440\\u0430\\u043d\\u0442\\u043e\\u0432\",\"\\u041a\\u043e\\u043b-\\u0432\\u043e \\u0433\\u0440\\u0430\\u043d\\u0442\\u043e\\u0432\",\"\\u041a\\u043e\\u043b-\\u0432\\u043e \\u0433\\u0440\\u0430\\u043d\\u0442\\u043e\\u0432\",\"\\u041a\\u043e\\u043b-\\u0432\\u043e \\u0433\\u0440\\u0430\\u043d\\u0442\\u043e\\u0432\",\"\\u041a\\u043e\\u043b-\\u0432\\u043e \\u0433\\u0440\\u0430\\u043d\\u0442\\u043e\\u0432\",\"\\u041a\\u043e\\u043b-\\u0432\\u043e \\u0433\\u0440\\u0430\\u043d\\u0442\\u043e\\u0432\",\"\\u041a\\u043e\\u043b-\\u0432\\u043e \\u0433\\u0440\\u0430\\u043d\\u0442\\u043e\\u0432\",\"\\u041a\\u043e\\u043b-\\u0432\\u043e \\u0433\\u0440\\u0430\\u043d\\u0442\\u043e\\u0432\",\"\\u041a\\u043e\\u043b-\\u0432\\u043e \\u0433\\u0440\\u0430\\u043d\\u0442\\u043e\\u0432\",\"\\u041a\\u043e\\u043b-\\u0432\\u043e \\u0433\\u0440\\u0430\\u043d\\u0442\\u043e\\u0432\",\"\\u041a\\u043e\\u043b-\\u0432\\u043e \\u0433\\u0440\\u0430\\u043d\\u0442\\u043e\\u0432\",\"\\u041a\\u043e\\u043b-\\u0432\\u043e \\u0433\\u0440\\u0430\\u043d\\u0442\\u043e\\u0432\",\"\\u041a\\u043e\\u043b-\\u0432\\u043e \\u0433\\u0440\\u0430\\u043d\\u0442\\u043e\\u0432\"],\"value\":{\"__ndarray__\":\"AAAAAACAUUAAAAAAAAAzQAAAAAAAAG5AAAAAAAAAPkAAAAAAAIBQQAAAAAAAAEhAAAAAAAAAUEAAAAAAAAAsQAAAAAAAgGpAAAAAAADAXEAAAAAAAAA3QAAAAAAAACRAAAAAAAAAQUAAAAAAAPB2QAAAAAAAAAhAAAAAAACATUAAAAAAAAAAAAAAAAAAgEJAAAAAAAAAAAAAAAAAAIBGQAAAAAAAAAhAAAAAAAAAEEAAAAAAAMBUQAAAAAAAsINAAAAAAACASEAAAAAAAABXQAAAAAAAgF5AAAAAAADAVUAAAAAAAAAqQAAAAAAAgGZAAAAAAAAAEEAAAAAAAIBVQAAAAAAAAC5AAAAAAACgYkAAAAAAAABEQAAAAAAAwGRAAAAAAACAWUAAAAAAAABFQAAAAAAAABhAAAAAAAAAKkAAAAAAACByQAAAAAAAgElAAAAAAAAANUAAAAAAAAAwQAAAAAAAAPA/AAAAAABQdkAAAAAAAIBCQAAAAAAAAD5AAAAAAAAAAAAAAAAAAAAAAAAAAAAAgEVAAAAAAAAAMUAAAAAAAABVQAAAAAAAgEBAAAAAAACwgkAAAAAAAIBFQAAAAAAAABhAAAAAAAC+tkAAAAAAAAAyQAAAAAAAADBAAAAAAAAATEAAAAAAAABCQAAAAAAAADVAAAAAAAAkk0AAAAAAAIBNQAAAAAAAQFZAAAAAAADAdkAAAAAAAIBQQAAAAAAAgEBAAAAAAAAgYEAAAAAAAMBxQAAAAAAAABhAAAAAAADAWUAAAAAAAABSQAAAAAAAwFhAAAAAAADAWUAAAAAAAAAiQAAAAAAAAE5AAAAAAAAAW0AAAAAAAIBdQAAAAAAAAAAAAAAAAAAAPUAAAAAAAAA9QAAAAAAAMHBAAAAAAACAR0A=\",\"dtype\":\"float64\",\"order\":\"little\",\"shape\":[85]},\"\\u0420\\u0435\\u0433\\u0438\\u043e\\u043d\":[\"\\u0410\\u043b\\u0442\\u0430\\u0439\\u0441\\u043a\\u0438\\u0439 \\u043a\\u0440\\u0430\\u0439\",\"\\u0410\\u043c\\u0443\\u0440\\u0441\\u043a\\u0430\\u044f \\u043e\\u0431\\u043b\\u0430\\u0441\\u0442\\u044c\",\"\\u0410\\u0440\\u0445\\u0430\\u043d\\u0433\\u0435\\u043b\\u044c\\u0441\\u043a\\u0430\\u044f \\u043e\\u0431\\u043b\\u0430\\u0441\\u0442\\u044c\",\"\\u0410\\u0441\\u0442\\u0440\\u0430\\u0445\\u0430\\u043d\\u0441\\u043a\\u0430\\u044f  \\u043e\\u0431\\u043b\\u0430\\u0441\\u0442\\u044c\",\"\\u0411\\u0435\\u043b\\u0433\\u043e\\u0440\\u043e\\u0434\\u0441\\u043a\\u0430\\u044f \\u043e\\u0431\\u043b\\u0430\\u0441\\u0442\\u044c\",\"\\u0411\\u0440\\u044f\\u043d\\u0441\\u043a\\u0430\\u044f \\u043e\\u0431\\u043b\\u0430\\u0441\\u0442\\u044c\",\"\\u0412\\u043b\\u0430\\u0434\\u0438\\u043c\\u0438\\u0440\\u0441\\u043a\\u0430\\u044f \\u043e\\u0431\\u043b\\u0430\\u0441\\u0442\\u044c\",\"\\u0412\\u043e\\u043b\\u0433\\u043e\\u0433\\u0440\\u0430\\u0434\\u0441\\u043a\\u0430\\u044f \\u043e\\u0431\\u043b\\u0430\\u0441\\u0442\\u044c\",\"\\u0412\\u043e\\u043b\\u043e\\u0433\\u043e\\u0434\\u0441\\u043a\\u0430\\u044f \\u043e\\u0431\\u043b\\u0430\\u0441\\u0442\\u044c\",\"\\u0412\\u043e\\u0440\\u043e\\u043d\\u0435\\u0436\\u0441\\u043a\\u0430\\u044f \\u043e\\u0431\\u043b\\u0430\\u0441\\u0442\\u044c\",\"\\u0415\\u0432\\u0440\\u0435\\u0439\\u0441\\u043a\\u0430\\u044f \\u0430\\u0432\\u0442\\u043e\\u043d\\u043e\\u043c\\u043d\\u0430\\u044f \\u043e\\u0431\\u043b\\u0430\\u0441\\u0442\\u044c\",\"\\u0417\\u0430\\u0431\\u0430\\u0439\\u043a\\u0430\\u043b\\u044c\\u0441\\u043a\\u0438\\u0439 \\u043a\\u0440\\u0430\\u0439\",\"\\u0418\\u0432\\u0430\\u043d\\u043e\\u0432\\u0441\\u043a\\u0430\\u044f \\u043e\\u0431\\u043b\\u0430\\u0441\\u0442\\u044c\",\"\\u0418\\u0440\\u043a\\u0443\\u0442\\u0441\\u043a\\u0430\\u044f \\u043e\\u0431\\u043b\\u0430\\u0441\\u0442\\u044c\",\"\\u041a\\u0430\\u0431\\u0430\\u0440\\u0434\\u0438\\u043d\\u043e-\\u0411\\u0430\\u043b\\u043a\\u0430\\u0440\\u0441\\u043a\\u0430\\u044f \\u0420\\u0435\\u0441\\u043f\\u0443\\u0431\\u043b\\u0438\\u043a\\u0430\",\"\\u041a\\u0430\\u043b\\u0438\\u043d\\u0438\\u043d\\u0433\\u0440\\u0430\\u0434\\u0441\\u043a\\u0430\\u044f \\u043e\\u0431\\u043b\\u0430\\u0441\\u0442\\u044c\",\"\\u041a\\u0430\\u043b\\u0443\\u0436\\u0441\\u043a\\u0430\\u044f \\u043e\\u0431\\u043b\\u0430\\u0441\\u0442\\u044c\",\"\\u041a\\u0430\\u043c\\u0447\\u0430\\u0442\\u0441\\u043a\\u0438\\u0439 \\u043a\\u0440\\u0430\\u0439\",\"\\u041a\\u0430\\u0440\\u0430\\u0447\\u0430\\u0435\\u0432\\u043e-\\u0427\\u0435\\u0440\\u043a\\u0435\\u0441\\u0441\\u043a\\u0430\\u044f \\u0420\\u0435\\u0441\\u043f\\u0443\\u0431\\u043b\\u0438\\u043a\\u0430\",\"\\u041a\\u0435\\u043c\\u0435\\u0440\\u043e\\u0432\\u0441\\u043a\\u0430\\u044f \\u043e\\u0431\\u043b\\u0430\\u0441\\u0442\\u044c\",\"\\u041a\\u0438\\u0440\\u043e\\u0432\\u0441\\u043a\\u0430\\u044f \\u043e\\u0431\\u043b\\u0430\\u0441\\u0442\\u044c\",\"\\u041a\\u043e\\u0441\\u0442\\u0440\\u043e\\u043c\\u0441\\u043a\\u0430\\u044f \\u043e\\u0431\\u043b\\u0430\\u0441\\u0442\\u044c\",\"\\u041a\\u0440\\u0430\\u0441\\u043d\\u043e\\u0434\\u0430\\u0440\\u0441\\u043a\\u0438\\u0439 \\u043a\\u0440\\u0430\\u0439\",\"\\u041a\\u0440\\u0430\\u0441\\u043d\\u043e\\u044f\\u0440\\u0441\\u043a\\u0438\\u0439 \\u043a\\u0440\\u0430\\u0439\",\"\\u041a\\u0443\\u0440\\u0433\\u0430\\u043d\\u0441\\u043a\\u0430\\u044f \\u043e\\u0431\\u043b\\u0430\\u0441\\u0442\\u044c\",\"\\u041a\\u0443\\u0440\\u0441\\u043a\\u0430\\u044f \\u043e\\u0431\\u043b\\u0430\\u0441\\u0442\\u044c\",\"\\u041b\\u0435\\u043d\\u0438\\u043d\\u0433\\u0440\\u0430\\u0434\\u0441\\u043a\\u0430\\u044f \\u043e\\u0431\\u043b\\u0430\\u0441\\u0442\\u044c\",\"\\u041b\\u0438\\u043f\\u0435\\u0446\\u043a\\u0430\\u044f \\u043e\\u0431\\u043b\\u0430\\u0441\\u0442\\u044c\",\"\\u041c\\u0430\\u0433\\u0430\\u0434\\u0430\\u043d\\u0441\\u043a\\u0430\\u044f \\u043e\\u0431\\u043b\\u0430\\u0441\\u0442\\u044c\",\"\\u041c\\u043e\\u0441\\u043a\\u0432\\u0430\",\"\\u041c\\u043e\\u0441\\u043a\\u043e\\u0432\\u0441\\u043a\\u0430\\u044f \\u043e\\u0431\\u043b\\u0430\\u0441\\u0442\\u044c\",\"\\u041c\\u0443\\u0440\\u043c\\u0430\\u043d\\u0441\\u043a\\u0430\\u044f \\u043e\\u0431\\u043b\\u0430\\u0441\\u0442\\u044c\",\"\\u041d\\u0435\\u043d\\u0435\\u0446\\u043a\\u0438\\u0439 \\u0430\\u0432\\u0442\\u043e\\u043d\\u043e\\u043c\\u043d\\u044b\\u0439 \\u043e\\u043a\\u0440\\u0443\\u0433\",\"\\u041d\\u0438\\u0436\\u0435\\u0433\\u043e\\u0440\\u043e\\u0434\\u0441\\u043a\\u0430\\u044f \\u043e\\u0431\\u043b\\u0430\\u0441\\u0442\\u044c\",\"\\u041d\\u043e\\u0432\\u0433\\u043e\\u0440\\u043e\\u0434\\u0441\\u043a\\u0430\\u044f \\u043e\\u0431\\u043b\\u0430\\u0441\\u0442\\u044c\",\"\\u041d\\u043e\\u0432\\u043e\\u0441\\u0438\\u0431\\u0438\\u0440\\u0441\\u043a\\u0430\\u044f \\u043e\\u0431\\u043b\\u0430\\u0441\\u0442\\u044c\",\"\\u041e\\u043c\\u0441\\u043a\\u0430\\u044f \\u043e\\u0431\\u043b\\u0430\\u0441\\u0442\\u044c\",\"\\u041e\\u0440\\u0435\\u043d\\u0431\\u0443\\u0440\\u0433\\u0441\\u043a\\u0430\\u044f \\u043e\\u0431\\u043b\\u0430\\u0441\\u0442\\u044c\",\"\\u041e\\u0440\\u043b\\u043e\\u0432\\u0441\\u043a\\u0430\\u044f \\u043e\\u0431\\u043b\\u0430\\u0441\\u0442\\u044c\",\"\\u041f\\u0435\\u043d\\u0437\\u0435\\u043d\\u0441\\u043a\\u0430\\u044f \\u043e\\u0431\\u043b\\u0430\\u0441\\u0442\\u044c\",\"\\u041f\\u0435\\u0440\\u043c\\u0441\\u043a\\u0438\\u0439 \\u043a\\u0440\\u0430\\u0439\",\"\\u041f\\u0440\\u0438\\u043c\\u043e\\u0440\\u0441\\u043a\\u0438\\u0439 \\u043a\\u0440\\u0430\\u0439\",\"\\u041f\\u0441\\u043a\\u043e\\u0432\\u0441\\u043a\\u0430\\u044f \\u043e\\u0431\\u043b\\u0430\\u0441\\u0442\\u044c\",\"\\u0420\\u0435\\u0441\\u043f\\u0443\\u0431\\u043b\\u0438\\u043a\\u0430 \\u0410\\u0434\\u044b\\u0433\\u0435\\u044f\",\"\\u0420\\u0435\\u0441\\u043f\\u0443\\u0431\\u043b\\u0438\\u043a\\u0430 \\u0410\\u043b\\u0442\\u0430\\u0439\",\"\\u0420\\u0435\\u0441\\u043f\\u0443\\u0431\\u043b\\u0438\\u043a\\u0430 \\u0411\\u0430\\u0448\\u043a\\u043e\\u0440\\u0442\\u043e\\u0441\\u0442\\u0430\\u043d\",\"\\u0420\\u0435\\u0441\\u043f\\u0443\\u0431\\u043b\\u0438\\u043a\\u0430 \\u0411\\u0443\\u0440\\u044f\\u0442\\u0438\\u044f\",\"\\u0420\\u0435\\u0441\\u043f\\u0443\\u0431\\u043b\\u0438\\u043a\\u0430 \\u0414\\u0430\\u0433\\u0435\\u0441\\u0442\\u0430\\u043d\",\"\\u0420\\u0435\\u0441\\u043f\\u0443\\u0431\\u043b\\u0438\\u043a\\u0430 \\u0418\\u043d\\u0433\\u0443\\u0448\\u0435\\u0442\\u0438\\u044f\",\"\\u0420\\u0435\\u0441\\u043f\\u0443\\u0431\\u043b\\u0438\\u043a\\u0430 \\u041a\\u0430\\u043b\\u043c\\u044b\\u043a\\u0438\\u044f\",\"\\u0420\\u0435\\u0441\\u043f\\u0443\\u0431\\u043b\\u0438\\u043a\\u0430 \\u041a\\u0430\\u0440\\u0435\\u043b\\u0438\\u044f\",\"\\u0420\\u0435\\u0441\\u043f\\u0443\\u0431\\u043b\\u0438\\u043a\\u0430 \\u041a\\u043e\\u043c\\u0438\",\"\\u0420\\u0435\\u0441\\u043f\\u0443\\u0431\\u043b\\u0438\\u043a\\u0430 \\u041a\\u0440\\u044b\\u043c\",\"\\u0420\\u0435\\u0441\\u043f\\u0443\\u0431\\u043b\\u0438\\u043a\\u0430 \\u041c\\u0430\\u0440\\u0438\\u0439 \\u042d\\u043b\",\"\\u0420\\u0435\\u0441\\u043f\\u0443\\u0431\\u043b\\u0438\\u043a\\u0430 \\u041c\\u043e\\u0440\\u0434\\u043e\\u0432\\u0438\\u044f\",\"\\u0420\\u0435\\u0441\\u043f\\u0443\\u0431\\u043b\\u0438\\u043a\\u0430 \\u0421\\u0430\\u0445\\u0430 (\\u042f\\u043a\\u0443\\u0442\\u0438\\u044f)\",\"\\u0420\\u0435\\u0441\\u043f\\u0443\\u0431\\u043b\\u0438\\u043a\\u0430 \\u0421\\u0435\\u0432\\u0435\\u0440\\u043d\\u0430\\u044f \\u041e\\u0441\\u0435\\u0442\\u0438\\u044f - \\u0410\\u043b\\u0430\\u043d\\u0438\\u044f\",\"\\u0420\\u0435\\u0441\\u043f\\u0443\\u0431\\u043b\\u0438\\u043a\\u0430 \\u0422\\u0430\\u0442\\u0430\\u0440\\u0441\\u0442\\u0430\\u043d\",\"\\u0420\\u0435\\u0441\\u043f\\u0443\\u0431\\u043b\\u0438\\u043a\\u0430 \\u0422\\u044b\\u0432\\u0430\",\"\\u0420\\u0435\\u0441\\u043f\\u0443\\u0431\\u043b\\u0438\\u043a\\u0430 \\u0425\\u0430\\u043a\\u0430\\u0441\\u0438\\u044f\",\"\\u0420\\u043e\\u0441\\u0442\\u043e\\u0432\\u0441\\u043a\\u0430\\u044f \\u043e\\u0431\\u043b\\u0430\\u0441\\u0442\\u044c\",\"\\u0420\\u044f\\u0437\\u0430\\u043d\\u0441\\u043a\\u0430\\u044f \\u043e\\u0431\\u043b\\u0430\\u0441\\u0442\\u044c\",\"\\u0421\\u0430\\u043c\\u0430\\u0440\\u0441\\u043a\\u0430\\u044f \\u043e\\u0431\\u043b\\u0430\\u0441\\u0442\\u044c\",\"\\u0421\\u0430\\u043d\\u043a\\u0442-\\u041f\\u0435\\u0442\\u0435\\u0440\\u0431\\u0443\\u0440\\u0433\",\"\\u0421\\u0430\\u0440\\u0430\\u0442\\u043e\\u0432\\u0441\\u043a\\u0430\\u044f \\u043e\\u0431\\u043b\\u0430\\u0441\\u0442\\u044c\",\"\\u0421\\u0430\\u0445\\u0430\\u043b\\u0438\\u043d\\u0441\\u043a\\u0430\\u044f \\u043e\\u0431\\u043b\\u0430\\u0441\\u0442\\u044c\",\"\\u0421\\u0432\\u0435\\u0440\\u0434\\u043b\\u043e\\u0432\\u0441\\u043a\\u0430\\u044f \\u043e\\u0431\\u043b\\u0430\\u0441\\u0442\\u044c\",\"\\u0421\\u0435\\u0432\\u0430\\u0441\\u0442\\u043e\\u043f\\u043e\\u043b\\u044c\",\"\\u0421\\u043c\\u043e\\u043b\\u0435\\u043d\\u0441\\u043a\\u0430\\u044f \\u043e\\u0431\\u043b\\u0430\\u0441\\u0442\\u044c\",\"\\u0421\\u0442\\u0430\\u0432\\u0440\\u043e\\u043f\\u043e\\u043b\\u044c\\u0441\\u043a\\u0438\\u0439 \\u043a\\u0440\\u0430\\u0439\",\"\\u0422\\u0430\\u043c\\u0431\\u043e\\u0432\\u0441\\u043a\\u0430\\u044f \\u043e\\u0431\\u043b\\u0430\\u0441\\u0442\\u044c\",\"\\u0422\\u0432\\u0435\\u0440\\u0441\\u043a\\u0430\\u044f \\u043e\\u0431\\u043b\\u0430\\u0441\\u0442\\u044c\",\"\\u0422\\u043e\\u043c\\u0441\\u043a\\u0430\\u044f \\u043e\\u0431\\u043b\\u0430\\u0441\\u0442\\u044c\",\"\\u0422\\u0443\\u043b\\u044c\\u0441\\u043a\\u0430\\u044f \\u043e\\u0431\\u043b\\u0430\\u0441\\u0442\\u044c\",\"\\u0422\\u044e\\u043c\\u0435\\u043d\\u0441\\u043a\\u0430\\u044f \\u043e\\u0431\\u043b\\u0430\\u0441\\u0442\\u044c\",\"\\u0423\\u0434\\u043c\\u0443\\u0440\\u0442\\u0441\\u043a\\u0430\\u044f \\u0420\\u0435\\u0441\\u043f\\u0443\\u0431\\u043b\\u0438\\u043a\\u0430\",\"\\u0423\\u043b\\u044c\\u044f\\u043d\\u043e\\u0432\\u0441\\u043a\\u0430\\u044f \\u043e\\u0431\\u043b\\u0430\\u0441\\u0442\\u044c\",\"\\u0425\\u0430\\u0431\\u0430\\u0440\\u043e\\u0432\\u0441\\u043a\\u0438\\u0439 \\u043a\\u0440\\u0430\\u0439\",\"\\u0425\\u0430\\u043d\\u0442\\u044b-\\u041c\\u0430\\u043d\\u0441\\u0438\\u0439\\u0441\\u043a\\u0438\\u0439 \\u0430\\u0432\\u0442\\u043e\\u043d\\u043e\\u043c\\u043d\\u044b\\u0439 \\u043e\\u043a\\u0440\\u0443\\u0433 - \\u042e\\u0433\\u0440\\u0430\",\"\\u0427\\u0435\\u043b\\u044f\\u0431\\u0438\\u043d\\u0441\\u043a\\u0430\\u044f \\u043e\\u0431\\u043b\\u0430\\u0441\\u0442\\u044c\",\"\\u0427\\u0435\\u0447\\u0435\\u043d\\u0441\\u043a\\u0430\\u044f \\u0420\\u0435\\u0441\\u043f\\u0443\\u0431\\u043b\\u0438\\u043a\\u0430\",\"\\u0427\\u0443\\u0432\\u0430\\u0448\\u0441\\u043a\\u0430\\u044f \\u0420\\u0435\\u0441\\u043f\\u0443\\u0431\\u043b\\u0438\\u043a\\u0430\",\"\\u0427\\u0443\\u043a\\u043e\\u0442\\u0441\\u043a\\u0438\\u0439 \\u0430\\u0432\\u0442\\u043e\\u043d\\u043e\\u043c\\u043d\\u044b\\u0439 \\u043e\\u043a\\u0440\\u0443\\u0433\",\"\\u042f\\u043c\\u0430\\u043b\\u043e-\\u041d\\u0435\\u043d\\u0435\\u0446\\u043a\\u0438\\u0439 \\u0430\\u0432\\u0442\\u043e\\u043d\\u043e\\u043c\\u043d\\u044b\\u0439 \\u043e\\u043a\\u0440\\u0443\\u0433\",\"\\u042f\\u0440\\u043e\\u0441\\u043b\\u0430\\u0432\\u0441\\u043a\\u0430\\u044f \\u043e\\u0431\\u043b\\u0430\\u0441\\u0442\\u044c\"]},\"selected\":{\"id\":\"5959\"},\"selection_policy\":{\"id\":\"5973\"}},\"id\":\"5958\",\"type\":\"ColumnDataSource\"},{\"attributes\":{\"axis_label\":\"\",\"coordinates\":null,\"formatter\":{\"id\":\"5956\"},\"group\":null,\"major_label_policy\":{\"id\":\"5957\"},\"ticker\":{\"id\":\"5936\"}},\"id\":\"5935\",\"type\":\"LinearAxis\"},{\"attributes\":{\"coordinates\":null,\"data_source\":{\"id\":\"5958\"},\"glyph\":{\"id\":\"5961\"},\"group\":null,\"hover_glyph\":null,\"muted_glyph\":{\"id\":\"5963\"},\"nonselection_glyph\":{\"id\":\"5962\"},\"selection_glyph\":{\"id\":\"5978\"},\"view\":{\"id\":\"5965\"}},\"id\":\"5964\",\"type\":\"GlyphRenderer\"},{\"attributes\":{},\"id\":\"5941\",\"type\":\"WheelZoomTool\"},{\"attributes\":{},\"id\":\"5940\",\"type\":\"PanTool\"},{\"attributes\":{\"source\":{\"id\":\"5958\"}},\"id\":\"5965\",\"type\":\"CDSView\"},{\"attributes\":{\"axis\":{\"id\":\"5935\"},\"coordinates\":null,\"dimension\":1,\"grid_line_color\":null,\"group\":null,\"ticker\":null},\"id\":\"5938\",\"type\":\"Grid\"},{\"attributes\":{\"source\":{\"id\":\"5979\"}},\"id\":\"5986\",\"type\":\"CDSView\"},{\"attributes\":{\"label\":{\"value\":\"\\u041a\\u043e\\u043b-\\u0432\\u043e \\u0433\\u0440\\u0430\\u043d\\u0442\\u043e\\u0432\"},\"renderers\":[{\"id\":\"5964\"}]},\"id\":\"5977\",\"type\":\"LegendItem\"},{\"attributes\":{},\"id\":\"5939\",\"type\":\"SaveTool\"},{\"attributes\":{\"line_color\":\"#fc4f30\",\"line_width\":2,\"x\":{\"field\":\"\\u0420\\u0435\\u0433\\u0438\\u043e\\u043d\"},\"y\":{\"field\":\"value\"}},\"id\":\"6000\",\"type\":\"Line\"},{\"attributes\":{\"overlay\":{\"id\":\"5944\"}},\"id\":\"5942\",\"type\":\"BoxZoomTool\"},{\"attributes\":{},\"id\":\"5943\",\"type\":\"ResetTool\"},{\"attributes\":{},\"id\":\"5980\",\"type\":\"Selection\"},{\"attributes\":{\"line_alpha\":0.2,\"line_color\":\"#e5ae38\",\"line_width\":2,\"x\":{\"field\":\"\\u0420\\u0435\\u0433\\u0438\\u043e\\u043d\"},\"y\":{\"field\":\"value\"}},\"id\":\"6006\",\"type\":\"Line\"},{\"attributes\":{\"label\":{\"value\":\"whole_sum\"},\"renderers\":[{\"id\":\"5985\"}]},\"id\":\"5999\",\"type\":\"LegendItem\"},{\"attributes\":{\"axis_label\":\"\\u0420\\u0435\\u0433\\u0438\\u043e\\u043d\",\"coordinates\":null,\"formatter\":{\"id\":\"5953\"},\"group\":null,\"major_label_policy\":{\"id\":\"5954\"},\"ticker\":{\"id\":\"5933\"}},\"id\":\"5932\",\"type\":\"CategoricalAxis\"},{\"attributes\":{\"coordinates\":null,\"data_source\":{\"id\":\"5979\"},\"glyph\":{\"id\":\"5982\"},\"group\":null,\"hover_glyph\":null,\"muted_glyph\":{\"id\":\"5984\"},\"nonselection_glyph\":{\"id\":\"5983\"},\"selection_glyph\":{\"id\":\"6000\"},\"view\":{\"id\":\"5986\"}},\"id\":\"5985\",\"type\":\"GlyphRenderer\"},{\"attributes\":{\"source\":{\"id\":\"6001\"}},\"id\":\"6008\",\"type\":\"CDSView\"},{\"attributes\":{\"bottom_units\":\"screen\",\"coordinates\":null,\"fill_alpha\":0.5,\"fill_color\":\"lightgrey\",\"group\":null,\"left_units\":\"screen\",\"level\":\"overlay\",\"line_alpha\":1.0,\"line_color\":\"black\",\"line_dash\":[4,4],\"line_width\":2,\"right_units\":\"screen\",\"syncable\":false,\"top_units\":\"screen\"},\"id\":\"5944\",\"type\":\"BoxAnnotation\"},{\"attributes\":{\"tools\":[{\"id\":\"5920\"},{\"id\":\"5939\"},{\"id\":\"5940\"},{\"id\":\"5941\"},{\"id\":\"5942\"},{\"id\":\"5943\"}]},\"id\":\"5945\",\"type\":\"Toolbar\"},{\"attributes\":{\"line_color\":\"#e5ae38\",\"line_width\":2,\"x\":{\"field\":\"\\u0420\\u0435\\u0433\\u0438\\u043e\\u043d\"},\"y\":{\"field\":\"value\"}},\"id\":\"6024\",\"type\":\"Line\"},{\"attributes\":{\"coordinates\":null,\"data_source\":{\"id\":\"6001\"},\"glyph\":{\"id\":\"6004\"},\"group\":null,\"hover_glyph\":null,\"muted_glyph\":{\"id\":\"6006\"},\"nonselection_glyph\":{\"id\":\"6005\"},\"selection_glyph\":{\"id\":\"6024\"},\"view\":{\"id\":\"6008\"}},\"id\":\"6007\",\"type\":\"GlyphRenderer\"},{\"attributes\":{\"below\":[{\"id\":\"5932\"}],\"center\":[{\"id\":\"5934\"},{\"id\":\"5938\"}],\"height\":300,\"left\":[{\"id\":\"5935\"}],\"margin\":[5,5,5,5],\"min_border_bottom\":10,\"min_border_left\":10,\"min_border_right\":10,\"min_border_top\":10,\"renderers\":[{\"id\":\"5964\"},{\"id\":\"5985\"},{\"id\":\"6007\"}],\"right\":[{\"id\":\"5976\"}],\"sizing_mode\":\"fixed\",\"title\":{\"id\":\"5924\"},\"toolbar\":{\"id\":\"5945\"},\"width\":700,\"x_range\":{\"id\":\"5918\"},\"x_scale\":{\"id\":\"5928\"},\"y_range\":{\"id\":\"5919\"},\"y_scale\":{\"id\":\"5930\"}},\"id\":\"5923\",\"subtype\":\"Figure\",\"type\":\"Plot\"},{\"attributes\":{\"data\":{\"Variable\":[\"whole_sum\",\"whole_sum\",\"whole_sum\",\"whole_sum\",\"whole_sum\",\"whole_sum\",\"whole_sum\",\"whole_sum\",\"whole_sum\",\"whole_sum\",\"whole_sum\",\"whole_sum\",\"whole_sum\",\"whole_sum\",\"whole_sum\",\"whole_sum\",\"whole_sum\",\"whole_sum\",\"whole_sum\",\"whole_sum\",\"whole_sum\",\"whole_sum\",\"whole_sum\",\"whole_sum\",\"whole_sum\",\"whole_sum\",\"whole_sum\",\"whole_sum\",\"whole_sum\",\"whole_sum\",\"whole_sum\",\"whole_sum\",\"whole_sum\",\"whole_sum\",\"whole_sum\",\"whole_sum\",\"whole_sum\",\"whole_sum\",\"whole_sum\",\"whole_sum\",\"whole_sum\",\"whole_sum\",\"whole_sum\",\"whole_sum\",\"whole_sum\",\"whole_sum\",\"whole_sum\",\"whole_sum\",\"whole_sum\",\"whole_sum\",\"whole_sum\",\"whole_sum\",\"whole_sum\",\"whole_sum\",\"whole_sum\",\"whole_sum\",\"whole_sum\",\"whole_sum\",\"whole_sum\",\"whole_sum\",\"whole_sum\",\"whole_sum\",\"whole_sum\",\"whole_sum\",\"whole_sum\",\"whole_sum\",\"whole_sum\",\"whole_sum\",\"whole_sum\",\"whole_sum\",\"whole_sum\",\"whole_sum\",\"whole_sum\",\"whole_sum\",\"whole_sum\",\"whole_sum\",\"whole_sum\",\"whole_sum\",\"whole_sum\",\"whole_sum\",\"whole_sum\",\"whole_sum\",\"whole_sum\",\"whole_sum\",\"whole_sum\"],\"value\":{\"__ndarray__\":\"AAAAAIDKy0AAAAAAgMrLQAAAAACAystAAAAAAIDKy0AAAAAAgMrLQAAAAACAystAAAAAAIDKy0AAAAAAgMrLQAAAAACAystAAAAAAIDKy0AAAAAAgMrLQAAAAACAystAAAAAAIDKy0AAAAAAgMrLQAAAAACAystAAAAAAIDKy0AAAAAAgMrLQAAAAACAystAAAAAAIDKy0AAAAAAgMrLQAAAAACAystAAAAAAIDKy0AAAAAAgMrLQAAAAACAystAAAAAAIDKy0AAAAAAgMrLQAAAAACAystAAAAAAIDKy0AAAAAAgMrLQAAAAACAystAAAAAAIDKy0AAAAAAgMrLQAAAAACAystAAAAAAIDKy0AAAAAAgMrLQAAAAACAystAAAAAAIDKy0AAAAAAgMrLQAAAAACAystAAAAAAIDKy0AAAAAAgMrLQAAAAACAystAAAAAAIDKy0AAAAAAgMrLQAAAAACAystAAAAAAIDKy0AAAAAAgMrLQAAAAACAystAAAAAAIDKy0AAAAAAgMrLQAAAAACAystAAAAAAIDKy0AAAAAAgMrLQAAAAACAystAAAAAAIDKy0AAAAAAgMrLQAAAAACAystAAAAAAIDKy0AAAAAAgMrLQAAAAACAystAAAAAAIDKy0AAAAAAgMrLQAAAAACAystAAAAAAIDKy0AAAAAAgMrLQAAAAACAystAAAAAAIDKy0AAAAAAgMrLQAAAAACAystAAAAAAIDKy0AAAAAAgMrLQAAAAACAystAAAAAAIDKy0AAAAAAgMrLQAAAAACAystAAAAAAIDKy0AAAAAAgMrLQAAAAACAystAAAAAAIDKy0AAAAAAgMrLQAAAAACAystAAAAAAIDKy0AAAAAAgMrLQAAAAACAystAAAAAAIDKy0A=\",\"dtype\":\"float64\",\"order\":\"little\",\"shape\":[85]},\"\\u0420\\u0435\\u0433\\u0438\\u043e\\u043d\":[\"\\u0410\\u043b\\u0442\\u0430\\u0439\\u0441\\u043a\\u0438\\u0439 \\u043a\\u0440\\u0430\\u0439\",\"\\u0410\\u043c\\u0443\\u0440\\u0441\\u043a\\u0430\\u044f \\u043e\\u0431\\u043b\\u0430\\u0441\\u0442\\u044c\",\"\\u0410\\u0440\\u0445\\u0430\\u043d\\u0433\\u0435\\u043b\\u044c\\u0441\\u043a\\u0430\\u044f \\u043e\\u0431\\u043b\\u0430\\u0441\\u0442\\u044c\",\"\\u0410\\u0441\\u0442\\u0440\\u0430\\u0445\\u0430\\u043d\\u0441\\u043a\\u0430\\u044f  \\u043e\\u0431\\u043b\\u0430\\u0441\\u0442\\u044c\",\"\\u0411\\u0435\\u043b\\u0433\\u043e\\u0440\\u043e\\u0434\\u0441\\u043a\\u0430\\u044f \\u043e\\u0431\\u043b\\u0430\\u0441\\u0442\\u044c\",\"\\u0411\\u0440\\u044f\\u043d\\u0441\\u043a\\u0430\\u044f \\u043e\\u0431\\u043b\\u0430\\u0441\\u0442\\u044c\",\"\\u0412\\u043b\\u0430\\u0434\\u0438\\u043c\\u0438\\u0440\\u0441\\u043a\\u0430\\u044f \\u043e\\u0431\\u043b\\u0430\\u0441\\u0442\\u044c\",\"\\u0412\\u043e\\u043b\\u0433\\u043e\\u0433\\u0440\\u0430\\u0434\\u0441\\u043a\\u0430\\u044f \\u043e\\u0431\\u043b\\u0430\\u0441\\u0442\\u044c\",\"\\u0412\\u043e\\u043b\\u043e\\u0433\\u043e\\u0434\\u0441\\u043a\\u0430\\u044f \\u043e\\u0431\\u043b\\u0430\\u0441\\u0442\\u044c\",\"\\u0412\\u043e\\u0440\\u043e\\u043d\\u0435\\u0436\\u0441\\u043a\\u0430\\u044f \\u043e\\u0431\\u043b\\u0430\\u0441\\u0442\\u044c\",\"\\u0415\\u0432\\u0440\\u0435\\u0439\\u0441\\u043a\\u0430\\u044f \\u0430\\u0432\\u0442\\u043e\\u043d\\u043e\\u043c\\u043d\\u0430\\u044f \\u043e\\u0431\\u043b\\u0430\\u0441\\u0442\\u044c\",\"\\u0417\\u0430\\u0431\\u0430\\u0439\\u043a\\u0430\\u043b\\u044c\\u0441\\u043a\\u0438\\u0439 \\u043a\\u0440\\u0430\\u0439\",\"\\u0418\\u0432\\u0430\\u043d\\u043e\\u0432\\u0441\\u043a\\u0430\\u044f \\u043e\\u0431\\u043b\\u0430\\u0441\\u0442\\u044c\",\"\\u0418\\u0440\\u043a\\u0443\\u0442\\u0441\\u043a\\u0430\\u044f \\u043e\\u0431\\u043b\\u0430\\u0441\\u0442\\u044c\",\"\\u041a\\u0430\\u0431\\u0430\\u0440\\u0434\\u0438\\u043d\\u043e-\\u0411\\u0430\\u043b\\u043a\\u0430\\u0440\\u0441\\u043a\\u0430\\u044f \\u0420\\u0435\\u0441\\u043f\\u0443\\u0431\\u043b\\u0438\\u043a\\u0430\",\"\\u041a\\u0430\\u043b\\u0438\\u043d\\u0438\\u043d\\u0433\\u0440\\u0430\\u0434\\u0441\\u043a\\u0430\\u044f \\u043e\\u0431\\u043b\\u0430\\u0441\\u0442\\u044c\",\"\\u041a\\u0430\\u043b\\u0443\\u0436\\u0441\\u043a\\u0430\\u044f \\u043e\\u0431\\u043b\\u0430\\u0441\\u0442\\u044c\",\"\\u041a\\u0430\\u043c\\u0447\\u0430\\u0442\\u0441\\u043a\\u0438\\u0439 \\u043a\\u0440\\u0430\\u0439\",\"\\u041a\\u0430\\u0440\\u0430\\u0447\\u0430\\u0435\\u0432\\u043e-\\u0427\\u0435\\u0440\\u043a\\u0435\\u0441\\u0441\\u043a\\u0430\\u044f \\u0420\\u0435\\u0441\\u043f\\u0443\\u0431\\u043b\\u0438\\u043a\\u0430\",\"\\u041a\\u0435\\u043c\\u0435\\u0440\\u043e\\u0432\\u0441\\u043a\\u0430\\u044f \\u043e\\u0431\\u043b\\u0430\\u0441\\u0442\\u044c\",\"\\u041a\\u0438\\u0440\\u043e\\u0432\\u0441\\u043a\\u0430\\u044f \\u043e\\u0431\\u043b\\u0430\\u0441\\u0442\\u044c\",\"\\u041a\\u043e\\u0441\\u0442\\u0440\\u043e\\u043c\\u0441\\u043a\\u0430\\u044f \\u043e\\u0431\\u043b\\u0430\\u0441\\u0442\\u044c\",\"\\u041a\\u0440\\u0430\\u0441\\u043d\\u043e\\u0434\\u0430\\u0440\\u0441\\u043a\\u0438\\u0439 \\u043a\\u0440\\u0430\\u0439\",\"\\u041a\\u0440\\u0430\\u0441\\u043d\\u043e\\u044f\\u0440\\u0441\\u043a\\u0438\\u0439 \\u043a\\u0440\\u0430\\u0439\",\"\\u041a\\u0443\\u0440\\u0433\\u0430\\u043d\\u0441\\u043a\\u0430\\u044f \\u043e\\u0431\\u043b\\u0430\\u0441\\u0442\\u044c\",\"\\u041a\\u0443\\u0440\\u0441\\u043a\\u0430\\u044f \\u043e\\u0431\\u043b\\u0430\\u0441\\u0442\\u044c\",\"\\u041b\\u0435\\u043d\\u0438\\u043d\\u0433\\u0440\\u0430\\u0434\\u0441\\u043a\\u0430\\u044f \\u043e\\u0431\\u043b\\u0430\\u0441\\u0442\\u044c\",\"\\u041b\\u0438\\u043f\\u0435\\u0446\\u043a\\u0430\\u044f \\u043e\\u0431\\u043b\\u0430\\u0441\\u0442\\u044c\",\"\\u041c\\u0430\\u0433\\u0430\\u0434\\u0430\\u043d\\u0441\\u043a\\u0430\\u044f \\u043e\\u0431\\u043b\\u0430\\u0441\\u0442\\u044c\",\"\\u041c\\u043e\\u0441\\u043a\\u0432\\u0430\",\"\\u041c\\u043e\\u0441\\u043a\\u043e\\u0432\\u0441\\u043a\\u0430\\u044f \\u043e\\u0431\\u043b\\u0430\\u0441\\u0442\\u044c\",\"\\u041c\\u0443\\u0440\\u043c\\u0430\\u043d\\u0441\\u043a\\u0430\\u044f \\u043e\\u0431\\u043b\\u0430\\u0441\\u0442\\u044c\",\"\\u041d\\u0435\\u043d\\u0435\\u0446\\u043a\\u0438\\u0439 \\u0430\\u0432\\u0442\\u043e\\u043d\\u043e\\u043c\\u043d\\u044b\\u0439 \\u043e\\u043a\\u0440\\u0443\\u0433\",\"\\u041d\\u0438\\u0436\\u0435\\u0433\\u043e\\u0440\\u043e\\u0434\\u0441\\u043a\\u0430\\u044f \\u043e\\u0431\\u043b\\u0430\\u0441\\u0442\\u044c\",\"\\u041d\\u043e\\u0432\\u0433\\u043e\\u0440\\u043e\\u0434\\u0441\\u043a\\u0430\\u044f \\u043e\\u0431\\u043b\\u0430\\u0441\\u0442\\u044c\",\"\\u041d\\u043e\\u0432\\u043e\\u0441\\u0438\\u0431\\u0438\\u0440\\u0441\\u043a\\u0430\\u044f \\u043e\\u0431\\u043b\\u0430\\u0441\\u0442\\u044c\",\"\\u041e\\u043c\\u0441\\u043a\\u0430\\u044f \\u043e\\u0431\\u043b\\u0430\\u0441\\u0442\\u044c\",\"\\u041e\\u0440\\u0435\\u043d\\u0431\\u0443\\u0440\\u0433\\u0441\\u043a\\u0430\\u044f \\u043e\\u0431\\u043b\\u0430\\u0441\\u0442\\u044c\",\"\\u041e\\u0440\\u043b\\u043e\\u0432\\u0441\\u043a\\u0430\\u044f \\u043e\\u0431\\u043b\\u0430\\u0441\\u0442\\u044c\",\"\\u041f\\u0435\\u043d\\u0437\\u0435\\u043d\\u0441\\u043a\\u0430\\u044f \\u043e\\u0431\\u043b\\u0430\\u0441\\u0442\\u044c\",\"\\u041f\\u0435\\u0440\\u043c\\u0441\\u043a\\u0438\\u0439 \\u043a\\u0440\\u0430\\u0439\",\"\\u041f\\u0440\\u0438\\u043c\\u043e\\u0440\\u0441\\u043a\\u0438\\u0439 \\u043a\\u0440\\u0430\\u0439\",\"\\u041f\\u0441\\u043a\\u043e\\u0432\\u0441\\u043a\\u0430\\u044f \\u043e\\u0431\\u043b\\u0430\\u0441\\u0442\\u044c\",\"\\u0420\\u0435\\u0441\\u043f\\u0443\\u0431\\u043b\\u0438\\u043a\\u0430 \\u0410\\u0434\\u044b\\u0433\\u0435\\u044f\",\"\\u0420\\u0435\\u0441\\u043f\\u0443\\u0431\\u043b\\u0438\\u043a\\u0430 \\u0410\\u043b\\u0442\\u0430\\u0439\",\"\\u0420\\u0435\\u0441\\u043f\\u0443\\u0431\\u043b\\u0438\\u043a\\u0430 \\u0411\\u0430\\u0448\\u043a\\u043e\\u0440\\u0442\\u043e\\u0441\\u0442\\u0430\\u043d\",\"\\u0420\\u0435\\u0441\\u043f\\u0443\\u0431\\u043b\\u0438\\u043a\\u0430 \\u0411\\u0443\\u0440\\u044f\\u0442\\u0438\\u044f\",\"\\u0420\\u0435\\u0441\\u043f\\u0443\\u0431\\u043b\\u0438\\u043a\\u0430 \\u0414\\u0430\\u0433\\u0435\\u0441\\u0442\\u0430\\u043d\",\"\\u0420\\u0435\\u0441\\u043f\\u0443\\u0431\\u043b\\u0438\\u043a\\u0430 \\u0418\\u043d\\u0433\\u0443\\u0448\\u0435\\u0442\\u0438\\u044f\",\"\\u0420\\u0435\\u0441\\u043f\\u0443\\u0431\\u043b\\u0438\\u043a\\u0430 \\u041a\\u0430\\u043b\\u043c\\u044b\\u043a\\u0438\\u044f\",\"\\u0420\\u0435\\u0441\\u043f\\u0443\\u0431\\u043b\\u0438\\u043a\\u0430 \\u041a\\u0430\\u0440\\u0435\\u043b\\u0438\\u044f\",\"\\u0420\\u0435\\u0441\\u043f\\u0443\\u0431\\u043b\\u0438\\u043a\\u0430 \\u041a\\u043e\\u043c\\u0438\",\"\\u0420\\u0435\\u0441\\u043f\\u0443\\u0431\\u043b\\u0438\\u043a\\u0430 \\u041a\\u0440\\u044b\\u043c\",\"\\u0420\\u0435\\u0441\\u043f\\u0443\\u0431\\u043b\\u0438\\u043a\\u0430 \\u041c\\u0430\\u0440\\u0438\\u0439 \\u042d\\u043b\",\"\\u0420\\u0435\\u0441\\u043f\\u0443\\u0431\\u043b\\u0438\\u043a\\u0430 \\u041c\\u043e\\u0440\\u0434\\u043e\\u0432\\u0438\\u044f\",\"\\u0420\\u0435\\u0441\\u043f\\u0443\\u0431\\u043b\\u0438\\u043a\\u0430 \\u0421\\u0430\\u0445\\u0430 (\\u042f\\u043a\\u0443\\u0442\\u0438\\u044f)\",\"\\u0420\\u0435\\u0441\\u043f\\u0443\\u0431\\u043b\\u0438\\u043a\\u0430 \\u0421\\u0435\\u0432\\u0435\\u0440\\u043d\\u0430\\u044f \\u041e\\u0441\\u0435\\u0442\\u0438\\u044f - \\u0410\\u043b\\u0430\\u043d\\u0438\\u044f\",\"\\u0420\\u0435\\u0441\\u043f\\u0443\\u0431\\u043b\\u0438\\u043a\\u0430 \\u0422\\u0430\\u0442\\u0430\\u0440\\u0441\\u0442\\u0430\\u043d\",\"\\u0420\\u0435\\u0441\\u043f\\u0443\\u0431\\u043b\\u0438\\u043a\\u0430 \\u0422\\u044b\\u0432\\u0430\",\"\\u0420\\u0435\\u0441\\u043f\\u0443\\u0431\\u043b\\u0438\\u043a\\u0430 \\u0425\\u0430\\u043a\\u0430\\u0441\\u0438\\u044f\",\"\\u0420\\u043e\\u0441\\u0442\\u043e\\u0432\\u0441\\u043a\\u0430\\u044f \\u043e\\u0431\\u043b\\u0430\\u0441\\u0442\\u044c\",\"\\u0420\\u044f\\u0437\\u0430\\u043d\\u0441\\u043a\\u0430\\u044f \\u043e\\u0431\\u043b\\u0430\\u0441\\u0442\\u044c\",\"\\u0421\\u0430\\u043c\\u0430\\u0440\\u0441\\u043a\\u0430\\u044f \\u043e\\u0431\\u043b\\u0430\\u0441\\u0442\\u044c\",\"\\u0421\\u0430\\u043d\\u043a\\u0442-\\u041f\\u0435\\u0442\\u0435\\u0440\\u0431\\u0443\\u0440\\u0433\",\"\\u0421\\u0430\\u0440\\u0430\\u0442\\u043e\\u0432\\u0441\\u043a\\u0430\\u044f \\u043e\\u0431\\u043b\\u0430\\u0441\\u0442\\u044c\",\"\\u0421\\u0430\\u0445\\u0430\\u043b\\u0438\\u043d\\u0441\\u043a\\u0430\\u044f \\u043e\\u0431\\u043b\\u0430\\u0441\\u0442\\u044c\",\"\\u0421\\u0432\\u0435\\u0440\\u0434\\u043b\\u043e\\u0432\\u0441\\u043a\\u0430\\u044f \\u043e\\u0431\\u043b\\u0430\\u0441\\u0442\\u044c\",\"\\u0421\\u0435\\u0432\\u0430\\u0441\\u0442\\u043e\\u043f\\u043e\\u043b\\u044c\",\"\\u0421\\u043c\\u043e\\u043b\\u0435\\u043d\\u0441\\u043a\\u0430\\u044f \\u043e\\u0431\\u043b\\u0430\\u0441\\u0442\\u044c\",\"\\u0421\\u0442\\u0430\\u0432\\u0440\\u043e\\u043f\\u043e\\u043b\\u044c\\u0441\\u043a\\u0438\\u0439 \\u043a\\u0440\\u0430\\u0439\",\"\\u0422\\u0430\\u043c\\u0431\\u043e\\u0432\\u0441\\u043a\\u0430\\u044f \\u043e\\u0431\\u043b\\u0430\\u0441\\u0442\\u044c\",\"\\u0422\\u0432\\u0435\\u0440\\u0441\\u043a\\u0430\\u044f \\u043e\\u0431\\u043b\\u0430\\u0441\\u0442\\u044c\",\"\\u0422\\u043e\\u043c\\u0441\\u043a\\u0430\\u044f \\u043e\\u0431\\u043b\\u0430\\u0441\\u0442\\u044c\",\"\\u0422\\u0443\\u043b\\u044c\\u0441\\u043a\\u0430\\u044f \\u043e\\u0431\\u043b\\u0430\\u0441\\u0442\\u044c\",\"\\u0422\\u044e\\u043c\\u0435\\u043d\\u0441\\u043a\\u0430\\u044f \\u043e\\u0431\\u043b\\u0430\\u0441\\u0442\\u044c\",\"\\u0423\\u0434\\u043c\\u0443\\u0440\\u0442\\u0441\\u043a\\u0430\\u044f \\u0420\\u0435\\u0441\\u043f\\u0443\\u0431\\u043b\\u0438\\u043a\\u0430\",\"\\u0423\\u043b\\u044c\\u044f\\u043d\\u043e\\u0432\\u0441\\u043a\\u0430\\u044f \\u043e\\u0431\\u043b\\u0430\\u0441\\u0442\\u044c\",\"\\u0425\\u0430\\u0431\\u0430\\u0440\\u043e\\u0432\\u0441\\u043a\\u0438\\u0439 \\u043a\\u0440\\u0430\\u0439\",\"\\u0425\\u0430\\u043d\\u0442\\u044b-\\u041c\\u0430\\u043d\\u0441\\u0438\\u0439\\u0441\\u043a\\u0438\\u0439 \\u0430\\u0432\\u0442\\u043e\\u043d\\u043e\\u043c\\u043d\\u044b\\u0439 \\u043e\\u043a\\u0440\\u0443\\u0433 - \\u042e\\u0433\\u0440\\u0430\",\"\\u0427\\u0435\\u043b\\u044f\\u0431\\u0438\\u043d\\u0441\\u043a\\u0430\\u044f \\u043e\\u0431\\u043b\\u0430\\u0441\\u0442\\u044c\",\"\\u0427\\u0435\\u0447\\u0435\\u043d\\u0441\\u043a\\u0430\\u044f \\u0420\\u0435\\u0441\\u043f\\u0443\\u0431\\u043b\\u0438\\u043a\\u0430\",\"\\u0427\\u0443\\u0432\\u0430\\u0448\\u0441\\u043a\\u0430\\u044f \\u0420\\u0435\\u0441\\u043f\\u0443\\u0431\\u043b\\u0438\\u043a\\u0430\",\"\\u0427\\u0443\\u043a\\u043e\\u0442\\u0441\\u043a\\u0438\\u0439 \\u0430\\u0432\\u0442\\u043e\\u043d\\u043e\\u043c\\u043d\\u044b\\u0439 \\u043e\\u043a\\u0440\\u0443\\u0433\",\"\\u042f\\u043c\\u0430\\u043b\\u043e-\\u041d\\u0435\\u043d\\u0435\\u0446\\u043a\\u0438\\u0439 \\u0430\\u0432\\u0442\\u043e\\u043d\\u043e\\u043c\\u043d\\u044b\\u0439 \\u043e\\u043a\\u0440\\u0443\\u0433\",\"\\u042f\\u0440\\u043e\\u0441\\u043b\\u0430\\u0432\\u0441\\u043a\\u0430\\u044f \\u043e\\u0431\\u043b\\u0430\\u0441\\u0442\\u044c\"]},\"selected\":{\"id\":\"5980\"},\"selection_policy\":{\"id\":\"5996\"}},\"id\":\"5979\",\"type\":\"ColumnDataSource\"},{\"attributes\":{},\"id\":\"5996\",\"type\":\"UnionRenderers\"},{\"attributes\":{},\"id\":\"5953\",\"type\":\"CategoricalTickFormatter\"},{\"attributes\":{},\"id\":\"6020\",\"type\":\"UnionRenderers\"},{\"attributes\":{},\"id\":\"5959\",\"type\":\"Selection\"},{\"attributes\":{},\"id\":\"6002\",\"type\":\"Selection\"},{\"attributes\":{},\"id\":\"5954\",\"type\":\"AllLabels\"},{\"attributes\":{\"line_alpha\":0.1,\"line_color\":\"#30a2da\",\"line_width\":2,\"x\":{\"field\":\"\\u0420\\u0435\\u0433\\u0438\\u043e\\u043d\"},\"y\":{\"field\":\"value\"}},\"id\":\"5962\",\"type\":\"Line\"},{\"attributes\":{},\"id\":\"5957\",\"type\":\"AllLabels\"},{\"attributes\":{\"line_alpha\":0.1,\"line_color\":\"#fc4f30\",\"line_width\":2,\"x\":{\"field\":\"\\u0420\\u0435\\u0433\\u0438\\u043e\\u043d\"},\"y\":{\"field\":\"value\"}},\"id\":\"5983\",\"type\":\"Line\"},{\"attributes\":{\"line_alpha\":0.2,\"line_color\":\"#fc4f30\",\"line_width\":2,\"x\":{\"field\":\"\\u0420\\u0435\\u0433\\u0438\\u043e\\u043d\"},\"y\":{\"field\":\"value\"}},\"id\":\"5984\",\"type\":\"Line\"},{\"attributes\":{},\"id\":\"5956\",\"type\":\"BasicTickFormatter\"},{\"attributes\":{\"label\":{\"value\":\"\\u0434\\u043e\\u043b\\u044f \\u0433\\u0440\\u0430\\u043d\\u0442\\u043e\\u0432 \\u043f\\u043e \\u0441\\u0442\\u0440\\u0430\\u043d\\u0435\"},\"renderers\":[{\"id\":\"6007\"}]},\"id\":\"6023\",\"type\":\"LegendItem\"},{\"attributes\":{},\"id\":\"5928\",\"type\":\"CategoricalScale\"},{\"attributes\":{\"line_color\":\"#fc4f30\",\"line_width\":2,\"x\":{\"field\":\"\\u0420\\u0435\\u0433\\u0438\\u043e\\u043d\"},\"y\":{\"field\":\"value\"}},\"id\":\"5982\",\"type\":\"Line\"}],\"root_ids\":[\"5917\"]},\"title\":\"Bokeh Application\",\"version\":\"2.4.3\"}};\n",
       "    var render_items = [{\"docid\":\"adc67873-fbd4-412a-a69f-4c01a8ddf741\",\"root_ids\":[\"5917\"],\"roots\":{\"5917\":\"53544bd7-6409-4950-916c-030fc2f711bd\"}}];\n",
       "    root.Bokeh.embed.embed_items_notebook(docs_json, render_items);\n",
       "    for (const render_item of render_items) {\n",
       "      for (const root_id of render_item.root_ids) {\n",
       "\tconst id_el = document.getElementById(root_id)\n",
       "\tif (id_el.children.length && (id_el.children[0].className === 'bk-root')) {\n",
       "\t  const root_el = id_el.children[0]\n",
       "\t  root_el.id = root_el.id + '-rendered'\n",
       "\t}\n",
       "      }\n",
       "    }\n",
       "  }\n",
       "  if (root.Bokeh !== undefined && root.Bokeh.Panel !== undefined && ( root['Tabulator'] !== undefined) && ( root['Tabulator'] !== undefined) && ( root['Plotly'] !== undefined) && ( root['Plotly'] !== undefined) && ( root['Tabulator'] !== undefined) && ( root['Tabulator'] !== undefined) && ( root['Tabulator'] !== undefined) && ( root['Tabulator'] !== undefined) && ( root['Tabulator'] !== undefined)) {\n",
       "    embed_document(root);\n",
       "  } else {\n",
       "    var attempts = 0;\n",
       "    var timer = setInterval(function(root) {\n",
       "      if (root.Bokeh !== undefined && root.Bokeh.Panel !== undefined && (root['Tabulator'] !== undefined) && (root['Tabulator'] !== undefined) && (root['Plotly'] !== undefined) && (root['Plotly'] !== undefined) && (root['Tabulator'] !== undefined) && (root['Tabulator'] !== undefined) && (root['Tabulator'] !== undefined) && (root['Tabulator'] !== undefined) && (root['Tabulator'] !== undefined)) {\n",
       "        clearInterval(timer);\n",
       "        embed_document(root);\n",
       "      } else if (document.readyState == \"complete\") {\n",
       "        attempts++;\n",
       "        if (attempts > 200) {\n",
       "          clearInterval(timer);\n",
       "          console.log(\"Bokeh: ERROR: Unable to run BokehJS code because BokehJS library is missing\");\n",
       "        }\n",
       "      }\n",
       "    }, 25, root)\n",
       "  }\n",
       "})(window);</script>"
      ],
      "text/plain": [
       ":NdOverlay   [Variable]\n",
       "   :Curve   [Регион]   (value)"
      ]
     },
     "execution_count": 204,
     "metadata": {
      "application/vnd.holoviews_exec.v0+json": {
       "id": "5917"
      }
     },
     "output_type": "execute_result"
    }
   ],
   "source": [
    "grouped_r1_region.hvplot.line()"
   ]
  },
  {
   "cell_type": "code",
   "execution_count": 205,
   "id": "32a595a5",
   "metadata": {},
   "outputs": [
    {
     "name": "stdout",
     "output_type": "stream",
     "text": [
      "\n",
      "The `line` plot connects the points with a continous curve.\n",
      "\n",
      "Reference: https://hvplot.holoviz.org/reference/pandas/line.html\n",
      "\n",
      "Parameters\n",
      "----------\n",
      "x : string, optional\n",
      "    Field name(s) to draw x-positions from. If not specified, the index is\n",
      "    used. Can refer to continous and categorical data.\n",
      "y : string or list, optional\n",
      "    Field name(s) to draw y-positions from. If not specified, all numerical\n",
      "    fields are used.\n",
      "by : string, optional\n",
      "    A single column or list of columns to group by. All the subgroups are visualized.\n",
      "groupby: string, list, optional\n",
      "    A single field or list of fields to group and filter by. Adds one or more widgets to\n",
      "    select the subgroup(s) to visualize.\n",
      "color : str or array-like, optional.\n",
      "    The color for each of the series. Possible values are:\n",
      "\n",
      "    A single color string referred to by name, RGB or RGBA code, for instance 'red' or\n",
      "    '#a98d19.\n",
      "\n",
      "    A sequence of color strings referred to by name, RGB or RGBA code, which will be used\n",
      "    for each series recursively. For instance ['green','yellow'] each field’s line will be\n",
      "    filled in green or yellow, alternatively. If there is only a single series to be\n",
      "    plotted, then only the first color from the color list will be used.\n",
      "**kwds : optional\n",
      "    Additional keywords arguments are documented in `hvplot.help('line')`.\n",
      "\n",
      "Returns\n",
      "-------\n",
      "A Holoviews object. You can `print` the object to study its composition and run\n",
      "\n",
      ".. code-block::\n",
      "\n",
      "    import holoviews as hv\n",
      "    hv.help(the_holoviews_object)\n",
      "\n",
      "to learn more about its parameters and options.\n",
      "\n",
      "Examples\n",
      "--------\n",
      "\n",
      ".. code-block::\n",
      "\n",
      "    import hvplot.pandas\n",
      "    import pandas as pd\n",
      "\n",
      "    df = pd.DataFrame(\n",
      "        {\n",
      "            \"actual\": [100, 150, 125, 140, 145, 135, 123],\n",
      "            \"forecast\": [90, 160, 125, 150, 141, 141, 120],\n",
      "            \"numerical\": [1.1, 1.9, 3.2, 3.8, 4.3, 5.0, 5.5],\n",
      "            \"date\": pd.date_range(\"2022-01-03\", \"2022-01-09\"),\n",
      "            \"string\": [\"Mon\", \"Tue\", \"Wed\", \"Thu\", \"Fri\", \"Sat\", \"Sun\"],\n",
      "        },\n",
      "    )\n",
      "    line = df.hvplot.line(\n",
      "        x=\"numerical\",\n",
      "        y=[\"actual\", \"forecast\"],\n",
      "        ylabel=\"value\",\n",
      "        legend=\"bottom\",\n",
      "        height=500,\n",
      "        color=[\"steelblue\", \"teal\"],\n",
      "        alpha=0.7,\n",
      "        line_width=5,\n",
      "    )\n",
      "    line\n",
      "\n",
      "You can can add *markers* to a `line` plot by overlaying with a `scatter` plot.\n",
      "\n",
      ".. code-block::\n",
      "\n",
      "    markers = df.hvplot.scatter(\n",
      "        x=\"numerical\", y=[\"actual\", \"forecast\"], color=[\"#f16a6f\", \"#1e85f7\"], size=50\n",
      "    )\n",
      "    line * markers\n",
      "\n",
      "Please note that you can pass widgets or reactive functions as arguments instead of\n",
      "literal values, c.f. https://hvplot.holoviz.org/user_guide/Widgets.html.\n",
      "\n",
      "References\n",
      "----------\n",
      "\n",
      "- Bokeh: https://docs.bokeh.org/en/latest/docs/reference/models/glyphs/line.html\n",
      "- HoloViews: https://holoviews.org/reference/elements/bokeh/Curve.html\n",
      "- Pandas: https://pandas.pydata.org/docs/reference/api/pandas.DataFrame.plot.line.html\n",
      "- Plotly: https://plotly.com/python/line-charts/\n",
      "- Matplotlib: https://matplotlib.org/stable/api/_as_gen/matplotlib.pyplot.plot.html\n",
      "- Seaborn: https://seaborn.pydata.org/generated/seaborn.lineplot.html\n",
      "- Wiki: https://en.wikipedia.org/wiki/Line_chart\n",
      "\n",
      "\n",
      "Generic options\n",
      "---------------\n",
      "clim: tuple\n",
      "    Lower and upper bound of the color scale\n",
      "cnorm (default='linear'): str\n",
      "    Color scaling which must be one of 'linear', 'log' or 'eq_hist'\n",
      "colorbar (default=False): boolean\n",
      "    Enables a colorbar\n",
      "fontscale: number\n",
      "    Scales the size of all fonts by the same amount, e.g. fontscale=1.5\n",
      "    enlarges all fonts (title, xticks, labels etc.) by 50%\n",
      "fontsize: number or dict\n",
      "    Set title, label and legend text to the same fontsize. Finer control\n",
      "    by using a dict: {'title': '15pt', 'ylabel': '5px', 'ticks': 20}\n",
      "flip_xaxis/flip_yaxis: boolean\n",
      "    Whether to flip the axis left to right or up and down respectively\n",
      "grid (default=False): boolean\n",
      "    Whether to show a grid\n",
      "hover : boolean\n",
      "    Whether to show hover tooltips, default is True unless datashade is\n",
      "    True in which case hover is False by default\n",
      "hover_cols (default=[]): list or str\n",
      "    Additional columns to add to the hover tool or 'all' which will\n",
      "    includes all columns (including indexes if use_index is True).\n",
      "invert (default=False): boolean\n",
      "    Swaps x- and y-axis\n",
      "frame_width/frame_height: int\n",
      "    The width and height of the data area of the plot\n",
      "legend (default=True): boolean or str\n",
      "    Whether to show a legend, or a legend position\n",
      "    ('top', 'bottom', 'left', 'right')\n",
      "logx/logy (default=False): boolean\n",
      "    Enables logarithmic x- and y-axis respectively\n",
      "logz (default=False): boolean\n",
      "    Enables logarithmic colormapping\n",
      "loglog (default=False): boolean\n",
      "    Enables logarithmic x- and y-axis\n",
      "max_width/max_height: int\n",
      "    The maximum width and height of the plot for responsive modes\n",
      "min_width/min_height: int\n",
      "    The minimum width and height of the plot for responsive modes\n",
      "padding: number or tuple\n",
      "    Fraction by which to increase auto-ranged extents to make\n",
      "    datapoints more visible around borders. Supports tuples to\n",
      "    specify different amount of padding for x- and y-axis and\n",
      "    tuples of tuples to specify different amounts of padding for\n",
      "    upper and lower bounds.\n",
      "rescale_discrete_levels (default=True): boolean\n",
      "    If `cnorm='eq_hist` and there are only a few discrete values,\n",
      "    then `rescale_discrete_levels=True` (the default) decreases\n",
      "    the lower limit of the autoranged span so that the values are\n",
      "    rendering towards the (more visible) top of the `cmap` range,\n",
      "    thus avoiding washout of the lower values.  Has no effect if\n",
      "    `cnorm!=`eq_hist`.\n",
      "responsive: boolean\n",
      "    Whether the plot should responsively resize depending on the\n",
      "    size of the browser. Responsive mode will only work if at\n",
      "    least one dimension of the plot is left undefined, e.g. when\n",
      "    width and height or width and aspect are set the plot is set\n",
      "    to a fixed size, ignoring any responsive option.\n",
      "rot: number\n",
      "    Rotates the axis ticks along the x-axis by the specified\n",
      "    number of degrees.\n",
      "shared_axes (default=True): boolean\n",
      "    Whether to link axes between plots\n",
      "transforms (default={}): dict\n",
      "    A dictionary of HoloViews dim transforms to apply before plotting\n",
      "title (default=''): str\n",
      "    Title for the plot\n",
      "tools (default=[]): list\n",
      "    List of tool instances or strings (e.g. ['tap', box_select'])\n",
      "xaxis/yaxis: str or None\n",
      "    Whether to show the x/y-axis and whether to place it at the\n",
      "    'top'/'bottom' and 'left'/'right' respectively.\n",
      "xformatter/yformatter (default=None): str or TickFormatter\n",
      "    Formatter for the x-axis and y-axis (accepts printf formatter,\n",
      "    e.g. '%.3f', and bokeh TickFormatter)\n",
      "xlabel/ylabel/clabel (default=None): str\n",
      "    Axis labels for the x-axis, y-axis, and colorbar\n",
      "xlim/ylim (default=None): tuple or list\n",
      "    Plot limits of the x- and y-axis\n",
      "xticks/yticks (default=None): int or list\n",
      "    Ticks along x- and y-axis specified as an integer, list of\n",
      "    ticks positions, or list of tuples of the tick positions and labels\n",
      "width (default=700)/height (default=300): int\n",
      "    The width and height of the plot in pixels\n",
      "attr_labels (default=None): bool\n",
      "    Whether to use an xarray object's attributes as labels, defaults to\n",
      "    None to allow best effort without throwing a warning. Set to True\n",
      "    to see warning if the attrs can't be found, set to False to disable\n",
      "    the behavior.\n",
      "sort_date (default=True): bool\n",
      "    Whether to sort the x-axis by date before plotting\n",
      "symmetric (default=None): bool\n",
      "    Whether the data are symmetric around zero. If left unset, the data\n",
      "    will be checked for symmetry as long as the size is less than\n",
      "    ``check_symmetric_max``.\n",
      "check_symmetric_max (default=1000000):\n",
      "    Size above which to stop checking for symmetry by default on the data.\n",
      "\n",
      "Datashader options\n",
      "------------------\n",
      "aggregator (default=None):\n",
      "    Aggregator to use when applying rasterize or datashade operation\n",
      "    (valid options include 'mean', 'count', 'min', 'max' and more, and\n",
      "    datashader reduction objects)\n",
      "dynamic (default=True):\n",
      "    Whether to return a dynamic plot which sends updates on widget and\n",
      "    zoom/pan events or whether all the data should be embedded\n",
      "    (warning: for large groupby operations embedded data can become\n",
      "    very large if dynamic=False)\n",
      "datashade (default=False):\n",
      "    Whether to apply rasterization and shading (colormapping) using\n",
      "    the Datashader library, returning an RGB object instead of\n",
      "    individual points\n",
      "dynspread (default=False):\n",
      "    For plots generated with datashade=True or rasterize=True,\n",
      "    automatically increase the point size when the data is sparse\n",
      "    so that individual points become more visible\n",
      "rasterize (default=False):\n",
      "    Whether to apply rasterization using the Datashader library,\n",
      "    returning an aggregated Image (to be colormapped by the\n",
      "    plotting backend) instead of individual points\n",
      "x_sampling/y_sampling (default=None):\n",
      "    Specifies the smallest allowed sampling interval along the x/y axis.\n",
      "\n",
      "Geographic options\n",
      "------------------\n",
      "coastline (default=False):\n",
      "    Whether to display a coastline on top of the plot, setting\n",
      "    coastline='10m'/'50m'/'110m' specifies a specific scale.\n",
      "crs (default=None):\n",
      "    Coordinate reference system of the data specified as Cartopy\n",
      "    CRS object, proj.4 string or EPSG code.\n",
      "features (default=None): dict or list\n",
      "    A list of features or a dictionary of features and the scale\n",
      "    at which to render it. Available features include 'borders',\n",
      "    'coastline', 'lakes', 'land', 'ocean', 'rivers' and 'states'.\n",
      "    Available scales include '10m'/'50m'/'110m'.\n",
      "geo (default=False):\n",
      "    Whether the plot should be treated as geographic (and assume\n",
      "    PlateCarree, i.e. lat/lon coordinates).\n",
      "global_extent (default=False):\n",
      "    Whether to expand the plot extent to span the whole globe.\n",
      "project (default=False):\n",
      "    Whether to project the data before plotting (adds initial\n",
      "    overhead but avoids projecting data when plot is dynamically\n",
      "    updated).\n",
      "tiles (default=False):\n",
      "    Whether to overlay the plot on a tile source. Tiles sources\n",
      "    can be selected by name or a tiles object or class can be passed,\n",
      "    the default is 'Wikipedia'.\n",
      "\n",
      "Style options\n",
      "-------------\n",
      "\n",
      "alpha\n",
      "color\n",
      "hover_alpha\n",
      "hover_color\n",
      "hover_line_alpha\n",
      "hover_line_cap\n",
      "hover_line_color\n",
      "hover_line_dash\n",
      "hover_line_join\n",
      "hover_line_width\n",
      "line_alpha\n",
      "line_cap\n",
      "line_color\n",
      "line_dash\n",
      "line_join\n",
      "line_width\n",
      "muted\n",
      "muted_alpha\n",
      "muted_color\n",
      "muted_line_alpha\n",
      "muted_line_cap\n",
      "muted_line_color\n",
      "muted_line_dash\n",
      "muted_line_join\n",
      "muted_line_width\n",
      "nonselection_alpha\n",
      "nonselection_color\n",
      "nonselection_line_alpha\n",
      "nonselection_line_cap\n",
      "nonselection_line_color\n",
      "nonselection_line_dash\n",
      "nonselection_line_join\n",
      "nonselection_line_width\n",
      "selection_alpha\n",
      "selection_color\n",
      "selection_line_alpha\n",
      "selection_line_cap\n",
      "selection_line_color\n",
      "selection_line_dash\n",
      "selection_line_join\n",
      "selection_line_width\n",
      "visible\n"
     ]
    }
   ],
   "source": [
    "hvplot.help('line')"
   ]
  },
  {
   "cell_type": "code",
   "execution_count": null,
   "id": "81db855c",
   "metadata": {},
   "outputs": [],
   "source": []
  },
  {
   "cell_type": "code",
   "execution_count": null,
   "id": "f2755045",
   "metadata": {},
   "outputs": [],
   "source": []
  },
  {
   "cell_type": "code",
   "execution_count": 206,
   "id": "ffd50c61",
   "metadata": {},
   "outputs": [
    {
     "data": {
      "text/html": [
       "<div>\n",
       "<style scoped>\n",
       "    .dataframe tbody tr th:only-of-type {\n",
       "        vertical-align: middle;\n",
       "    }\n",
       "\n",
       "    .dataframe tbody tr th {\n",
       "        vertical-align: top;\n",
       "    }\n",
       "\n",
       "    .dataframe thead th {\n",
       "        text-align: right;\n",
       "    }\n",
       "</style>\n",
       "<table border=\"1\" class=\"dataframe\">\n",
       "  <thead>\n",
       "    <tr style=\"text-align: right;\">\n",
       "      <th></th>\n",
       "      <th>Unnamed: 0</th>\n",
       "      <th>Unnamed: 1</th>\n",
       "      <th>2016</th>\n",
       "      <th>2017</th>\n",
       "      <th>2018</th>\n",
       "      <th>2019</th>\n",
       "      <th>2020</th>\n",
       "      <th>2021</th>\n",
       "    </tr>\n",
       "  </thead>\n",
       "  <tbody>\n",
       "    <tr>\n",
       "      <th>0</th>\n",
       "      <td>70.1.1.25.07.2016</td>\n",
       "      <td>Объем финансирования молодежной политики из бю...</td>\n",
       "      <td>5741811940.620</td>\n",
       "      <td>8706357899.750</td>\n",
       "      <td>11932240504.810</td>\n",
       "      <td>12683307462.965</td>\n",
       "      <td>17098236760.000</td>\n",
       "      <td>18818101388.000</td>\n",
       "    </tr>\n",
       "    <tr>\n",
       "      <th>1</th>\n",
       "      <td>70.1.2.25.07.2016</td>\n",
       "      <td>Объем финансирования молодежной политики из бю...</td>\n",
       "      <td>3490962163.450</td>\n",
       "      <td>3931433665.890</td>\n",
       "      <td>4983470393.960</td>\n",
       "      <td>9673718706.726</td>\n",
       "      <td>18976777431.000</td>\n",
       "      <td>17790935446.000</td>\n",
       "    </tr>\n",
       "    <tr>\n",
       "      <th>2</th>\n",
       "      <td>70.1.3.25.07.2016</td>\n",
       "      <td>Количество грантов, выданных физическим и юрид...</td>\n",
       "      <td>6388.000</td>\n",
       "      <td>6155.000</td>\n",
       "      <td>9427.000</td>\n",
       "      <td>10270.000</td>\n",
       "      <td>16918.000</td>\n",
       "      <td>14229.000</td>\n",
       "    </tr>\n",
       "    <tr>\n",
       "      <th>3</th>\n",
       "      <td>70.1.4.25.07.2016</td>\n",
       "      <td>Объем грантовых средств, выданных физическим и...</td>\n",
       "      <td>1135347690.930</td>\n",
       "      <td>555641507.180</td>\n",
       "      <td>3017922584.000</td>\n",
       "      <td>5777856093.000</td>\n",
       "      <td>5902433910.000</td>\n",
       "      <td>4775506810.000</td>\n",
       "    </tr>\n",
       "    <tr>\n",
       "      <th>4</th>\n",
       "      <td>70.1.5.25.07.2016</td>\n",
       "      <td>Количество региональных общественных объединен...</td>\n",
       "      <td>1618.000</td>\n",
       "      <td>1052.000</td>\n",
       "      <td>1283.000</td>\n",
       "      <td>4915.000</td>\n",
       "      <td>4690.000</td>\n",
       "      <td>1158.000</td>\n",
       "    </tr>\n",
       "  </tbody>\n",
       "</table>\n",
       "</div>"
      ],
      "text/plain": [
       "          Unnamed: 0                                         Unnamed: 1  \\\n",
       "0  70.1.1.25.07.2016  Объем финансирования молодежной политики из бю...   \n",
       "1  70.1.2.25.07.2016  Объем финансирования молодежной политики из бю...   \n",
       "2  70.1.3.25.07.2016  Количество грантов, выданных физическим и юрид...   \n",
       "3  70.1.4.25.07.2016  Объем грантовых средств, выданных физическим и...   \n",
       "4  70.1.5.25.07.2016  Количество региональных общественных объединен...   \n",
       "\n",
       "            2016           2017            2018            2019  \\\n",
       "0 5741811940.620 8706357899.750 11932240504.810 12683307462.965   \n",
       "1 3490962163.450 3931433665.890  4983470393.960  9673718706.726   \n",
       "2       6388.000       6155.000        9427.000       10270.000   \n",
       "3 1135347690.930  555641507.180  3017922584.000  5777856093.000   \n",
       "4       1618.000       1052.000        1283.000        4915.000   \n",
       "\n",
       "             2020            2021  \n",
       "0 17098236760.000 18818101388.000  \n",
       "1 18976777431.000 17790935446.000  \n",
       "2       16918.000       14229.000  \n",
       "3  5902433910.000  4775506810.000  \n",
       "4        4690.000        1158.000  "
      ]
     },
     "execution_count": 206,
     "metadata": {},
     "output_type": "execute_result"
    }
   ],
   "source": [
    "statistics_by_years.head()"
   ]
  },
  {
   "cell_type": "code",
   "execution_count": 207,
   "id": "03aa63f4",
   "metadata": {
    "scrolled": true
   },
   "outputs": [],
   "source": [
    "# обработка данных\n",
    "statistics_by_years = statistics_by_years.drop(columns=['Unnamed: 0'])"
   ]
  },
  {
   "cell_type": "code",
   "execution_count": 208,
   "id": "feaac9a0",
   "metadata": {
    "scrolled": false
   },
   "outputs": [
    {
     "data": {
      "text/html": [
       "<div>\n",
       "<style scoped>\n",
       "    .dataframe tbody tr th:only-of-type {\n",
       "        vertical-align: middle;\n",
       "    }\n",
       "\n",
       "    .dataframe tbody tr th {\n",
       "        vertical-align: top;\n",
       "    }\n",
       "\n",
       "    .dataframe thead th {\n",
       "        text-align: right;\n",
       "    }\n",
       "</style>\n",
       "<table border=\"1\" class=\"dataframe\">\n",
       "  <thead>\n",
       "    <tr style=\"text-align: right;\">\n",
       "      <th></th>\n",
       "      <th>Unnamed: 1</th>\n",
       "      <th>2016</th>\n",
       "      <th>2017</th>\n",
       "      <th>2018</th>\n",
       "      <th>2019</th>\n",
       "      <th>2020</th>\n",
       "      <th>2021</th>\n",
       "    </tr>\n",
       "  </thead>\n",
       "  <tbody>\n",
       "    <tr>\n",
       "      <th>0</th>\n",
       "      <td>Объем финансирования молодежной политики из бю...</td>\n",
       "      <td>5741811940.620</td>\n",
       "      <td>8706357899.750</td>\n",
       "      <td>11932240504.810</td>\n",
       "      <td>12683307462.965</td>\n",
       "      <td>17098236760.000</td>\n",
       "      <td>18818101388.000</td>\n",
       "    </tr>\n",
       "    <tr>\n",
       "      <th>1</th>\n",
       "      <td>Объем финансирования молодежной политики из бю...</td>\n",
       "      <td>3490962163.450</td>\n",
       "      <td>3931433665.890</td>\n",
       "      <td>4983470393.960</td>\n",
       "      <td>9673718706.726</td>\n",
       "      <td>18976777431.000</td>\n",
       "      <td>17790935446.000</td>\n",
       "    </tr>\n",
       "    <tr>\n",
       "      <th>2</th>\n",
       "      <td>Количество грантов, выданных физическим и юрид...</td>\n",
       "      <td>6388.000</td>\n",
       "      <td>6155.000</td>\n",
       "      <td>9427.000</td>\n",
       "      <td>10270.000</td>\n",
       "      <td>16918.000</td>\n",
       "      <td>14229.000</td>\n",
       "    </tr>\n",
       "    <tr>\n",
       "      <th>3</th>\n",
       "      <td>Объем грантовых средств, выданных физическим и...</td>\n",
       "      <td>1135347690.930</td>\n",
       "      <td>555641507.180</td>\n",
       "      <td>3017922584.000</td>\n",
       "      <td>5777856093.000</td>\n",
       "      <td>5902433910.000</td>\n",
       "      <td>4775506810.000</td>\n",
       "    </tr>\n",
       "    <tr>\n",
       "      <th>4</th>\n",
       "      <td>Количество региональных общественных объединен...</td>\n",
       "      <td>1618.000</td>\n",
       "      <td>1052.000</td>\n",
       "      <td>1283.000</td>\n",
       "      <td>4915.000</td>\n",
       "      <td>4690.000</td>\n",
       "      <td>1158.000</td>\n",
       "    </tr>\n",
       "  </tbody>\n",
       "</table>\n",
       "</div>"
      ],
      "text/plain": [
       "                                          Unnamed: 1           2016  \\\n",
       "0  Объем финансирования молодежной политики из бю... 5741811940.620   \n",
       "1  Объем финансирования молодежной политики из бю... 3490962163.450   \n",
       "2  Количество грантов, выданных физическим и юрид...       6388.000   \n",
       "3  Объем грантовых средств, выданных физическим и... 1135347690.930   \n",
       "4  Количество региональных общественных объединен...       1618.000   \n",
       "\n",
       "            2017            2018            2019            2020  \\\n",
       "0 8706357899.750 11932240504.810 12683307462.965 17098236760.000   \n",
       "1 3931433665.890  4983470393.960  9673718706.726 18976777431.000   \n",
       "2       6155.000        9427.000       10270.000       16918.000   \n",
       "3  555641507.180  3017922584.000  5777856093.000  5902433910.000   \n",
       "4       1052.000        1283.000        4915.000        4690.000   \n",
       "\n",
       "             2021  \n",
       "0 18818101388.000  \n",
       "1 17790935446.000  \n",
       "2       14229.000  \n",
       "3  4775506810.000  \n",
       "4        1158.000  "
      ]
     },
     "execution_count": 208,
     "metadata": {},
     "output_type": "execute_result"
    }
   ],
   "source": [
    "statistics_by_years.head()"
   ]
  },
  {
   "cell_type": "code",
   "execution_count": 253,
   "id": "38efc309",
   "metadata": {},
   "outputs": [],
   "source": [
    "# pivot table\n",
    "statistics_by_years_transpose = statistics_by_years.transpose().rename(index={'Unnamed: 1' : 'Год'}).reset_index()"
   ]
  },
  {
   "cell_type": "code",
   "execution_count": 254,
   "id": "e66b7ab8",
   "metadata": {},
   "outputs": [],
   "source": [
    "#hvplot.help('line')"
   ]
  },
  {
   "cell_type": "code",
   "execution_count": null,
   "id": "a737a100",
   "metadata": {},
   "outputs": [],
   "source": []
  },
  {
   "cell_type": "code",
   "execution_count": 255,
   "id": "3e1bc60a",
   "metadata": {
    "scrolled": true
   },
   "outputs": [
    {
     "data": {
      "text/html": [
       "<div>\n",
       "<style scoped>\n",
       "    .dataframe tbody tr th:only-of-type {\n",
       "        vertical-align: middle;\n",
       "    }\n",
       "\n",
       "    .dataframe tbody tr th {\n",
       "        vertical-align: top;\n",
       "    }\n",
       "\n",
       "    .dataframe thead th {\n",
       "        text-align: right;\n",
       "    }\n",
       "</style>\n",
       "<table border=\"1\" class=\"dataframe\">\n",
       "  <thead>\n",
       "    <tr style=\"text-align: right;\">\n",
       "      <th></th>\n",
       "      <th>index</th>\n",
       "      <th>0</th>\n",
       "      <th>1</th>\n",
       "      <th>2</th>\n",
       "      <th>3</th>\n",
       "      <th>4</th>\n",
       "      <th>5</th>\n",
       "      <th>6</th>\n",
       "      <th>7</th>\n",
       "      <th>8</th>\n",
       "      <th>9</th>\n",
       "      <th>10</th>\n",
       "    </tr>\n",
       "  </thead>\n",
       "  <tbody>\n",
       "    <tr>\n",
       "      <th>0</th>\n",
       "      <td>Год</td>\n",
       "      <td>Объем финансирования молодежной политики из бю...</td>\n",
       "      <td>Объем финансирования молодежной политики из бю...</td>\n",
       "      <td>Количество грантов, выданных физическим и юрид...</td>\n",
       "      <td>Объем грантовых средств, выданных физическим и...</td>\n",
       "      <td>Количество региональных общественных объединен...</td>\n",
       "      <td>Количество местных общественных объединений, п...</td>\n",
       "      <td>Количество органов молодежного самоуправления</td>\n",
       "      <td>Количество молодежных форумов, прошедших на те...</td>\n",
       "      <td>Численность участников молодежных форумов</td>\n",
       "      <td>Объем финансирования молодежных форумов из сре...</td>\n",
       "      <td>Объем финансирования молодежных форумов из сре...</td>\n",
       "    </tr>\n",
       "    <tr>\n",
       "      <th>1</th>\n",
       "      <td>2016</td>\n",
       "      <td>5741811940.620</td>\n",
       "      <td>3490962163.450</td>\n",
       "      <td>6388.000</td>\n",
       "      <td>1135347690.930</td>\n",
       "      <td>1618.000</td>\n",
       "      <td>3424.000</td>\n",
       "      <td>3783.000</td>\n",
       "      <td>1553.000</td>\n",
       "      <td>359168.000</td>\n",
       "      <td>792801046.300</td>\n",
       "      <td>68733327.070</td>\n",
       "    </tr>\n",
       "    <tr>\n",
       "      <th>2</th>\n",
       "      <td>2017</td>\n",
       "      <td>8706357899.750</td>\n",
       "      <td>3931433665.890</td>\n",
       "      <td>6155.000</td>\n",
       "      <td>555641507.180</td>\n",
       "      <td>1052.000</td>\n",
       "      <td>3596.000</td>\n",
       "      <td>5029.000</td>\n",
       "      <td>2455.000</td>\n",
       "      <td>515215.000</td>\n",
       "      <td>903272865.580</td>\n",
       "      <td>92695846.190</td>\n",
       "    </tr>\n",
       "    <tr>\n",
       "      <th>3</th>\n",
       "      <td>2018</td>\n",
       "      <td>11932240504.810</td>\n",
       "      <td>4983470393.960</td>\n",
       "      <td>9427.000</td>\n",
       "      <td>3017922584.000</td>\n",
       "      <td>1283.000</td>\n",
       "      <td>3375.000</td>\n",
       "      <td>5025.000</td>\n",
       "      <td>2988.000</td>\n",
       "      <td>902253.000</td>\n",
       "      <td>1111146166.400</td>\n",
       "      <td>94945874.760</td>\n",
       "    </tr>\n",
       "    <tr>\n",
       "      <th>4</th>\n",
       "      <td>2019</td>\n",
       "      <td>12683307462.965</td>\n",
       "      <td>9673718706.726</td>\n",
       "      <td>10270.000</td>\n",
       "      <td>5777856093.000</td>\n",
       "      <td>4915.000</td>\n",
       "      <td>4055.000</td>\n",
       "      <td>4681.000</td>\n",
       "      <td>2976.000</td>\n",
       "      <td>1015072.000</td>\n",
       "      <td>1275998738.400</td>\n",
       "      <td>125336343.450</td>\n",
       "    </tr>\n",
       "    <tr>\n",
       "      <th>5</th>\n",
       "      <td>2020</td>\n",
       "      <td>17098236760.000</td>\n",
       "      <td>18976777431.000</td>\n",
       "      <td>16918.000</td>\n",
       "      <td>5902433910.000</td>\n",
       "      <td>4690.000</td>\n",
       "      <td>4319.000</td>\n",
       "      <td>4473.000</td>\n",
       "      <td>1865.000</td>\n",
       "      <td>650397.000</td>\n",
       "      <td>901324090.240</td>\n",
       "      <td>52107526.260</td>\n",
       "    </tr>\n",
       "    <tr>\n",
       "      <th>6</th>\n",
       "      <td>2021</td>\n",
       "      <td>18818101388.000</td>\n",
       "      <td>17790935446.000</td>\n",
       "      <td>14229.000</td>\n",
       "      <td>4775506810.000</td>\n",
       "      <td>1158.000</td>\n",
       "      <td>4128.000</td>\n",
       "      <td>4345.000</td>\n",
       "      <td>2091.000</td>\n",
       "      <td>1378033.000</td>\n",
       "      <td>1154433140.800</td>\n",
       "      <td>121804064.500</td>\n",
       "    </tr>\n",
       "  </tbody>\n",
       "</table>\n",
       "</div>"
      ],
      "text/plain": [
       "  index                                                  0  \\\n",
       "0   Год  Объем финансирования молодежной политики из бю...   \n",
       "1  2016                                     5741811940.620   \n",
       "2  2017                                     8706357899.750   \n",
       "3  2018                                    11932240504.810   \n",
       "4  2019                                    12683307462.965   \n",
       "5  2020                                    17098236760.000   \n",
       "6  2021                                    18818101388.000   \n",
       "\n",
       "                                                   1  \\\n",
       "0  Объем финансирования молодежной политики из бю...   \n",
       "1                                     3490962163.450   \n",
       "2                                     3931433665.890   \n",
       "3                                     4983470393.960   \n",
       "4                                     9673718706.726   \n",
       "5                                    18976777431.000   \n",
       "6                                    17790935446.000   \n",
       "\n",
       "                                                   2  \\\n",
       "0  Количество грантов, выданных физическим и юрид...   \n",
       "1                                           6388.000   \n",
       "2                                           6155.000   \n",
       "3                                           9427.000   \n",
       "4                                          10270.000   \n",
       "5                                          16918.000   \n",
       "6                                          14229.000   \n",
       "\n",
       "                                                   3  \\\n",
       "0  Объем грантовых средств, выданных физическим и...   \n",
       "1                                     1135347690.930   \n",
       "2                                      555641507.180   \n",
       "3                                     3017922584.000   \n",
       "4                                     5777856093.000   \n",
       "5                                     5902433910.000   \n",
       "6                                     4775506810.000   \n",
       "\n",
       "                                                   4  \\\n",
       "0  Количество региональных общественных объединен...   \n",
       "1                                           1618.000   \n",
       "2                                           1052.000   \n",
       "3                                           1283.000   \n",
       "4                                           4915.000   \n",
       "5                                           4690.000   \n",
       "6                                           1158.000   \n",
       "\n",
       "                                                   5  \\\n",
       "0  Количество местных общественных объединений, п...   \n",
       "1                                           3424.000   \n",
       "2                                           3596.000   \n",
       "3                                           3375.000   \n",
       "4                                           4055.000   \n",
       "5                                           4319.000   \n",
       "6                                           4128.000   \n",
       "\n",
       "                                               6  \\\n",
       "0  Количество органов молодежного самоуправления   \n",
       "1                                       3783.000   \n",
       "2                                       5029.000   \n",
       "3                                       5025.000   \n",
       "4                                       4681.000   \n",
       "5                                       4473.000   \n",
       "6                                       4345.000   \n",
       "\n",
       "                                                   7  \\\n",
       "0  Количество молодежных форумов, прошедших на те...   \n",
       "1                                           1553.000   \n",
       "2                                           2455.000   \n",
       "3                                           2988.000   \n",
       "4                                           2976.000   \n",
       "5                                           1865.000   \n",
       "6                                           2091.000   \n",
       "\n",
       "                                           8  \\\n",
       "0  Численность участников молодежных форумов   \n",
       "1                                 359168.000   \n",
       "2                                 515215.000   \n",
       "3                                 902253.000   \n",
       "4                                1015072.000   \n",
       "5                                 650397.000   \n",
       "6                                1378033.000   \n",
       "\n",
       "                                                   9  \\\n",
       "0  Объем финансирования молодежных форумов из сре...   \n",
       "1                                      792801046.300   \n",
       "2                                      903272865.580   \n",
       "3                                     1111146166.400   \n",
       "4                                     1275998738.400   \n",
       "5                                      901324090.240   \n",
       "6                                     1154433140.800   \n",
       "\n",
       "                                                  10  \n",
       "0  Объем финансирования молодежных форумов из сре...  \n",
       "1                                       68733327.070  \n",
       "2                                       92695846.190  \n",
       "3                                       94945874.760  \n",
       "4                                      125336343.450  \n",
       "5                                       52107526.260  \n",
       "6                                      121804064.500  "
      ]
     },
     "execution_count": 255,
     "metadata": {},
     "output_type": "execute_result"
    }
   ],
   "source": [
    "statistics_by_years_transpose"
   ]
  },
  {
   "cell_type": "code",
   "execution_count": null,
   "id": "c55ae35f",
   "metadata": {},
   "outputs": [],
   "source": []
  },
  {
   "cell_type": "code",
   "execution_count": 259,
   "id": "086a4c25",
   "metadata": {},
   "outputs": [],
   "source": [
    "# converting column names\n",
    "statistics_by_years_transpose.columns = statistics_by_years_transpose.iloc[0]"
   ]
  },
  {
   "cell_type": "code",
   "execution_count": 269,
   "id": "b2d58cf6",
   "metadata": {
    "scrolled": true
   },
   "outputs": [],
   "source": [
    "statistics_by_years_transpose = statistics_by_years_transpose[1:]"
   ]
  },
  {
   "cell_type": "code",
   "execution_count": 273,
   "id": "9f819a75",
   "metadata": {},
   "outputs": [
    {
     "data": {
      "text/html": [
       "<div>\n",
       "<style scoped>\n",
       "    .dataframe tbody tr th:only-of-type {\n",
       "        vertical-align: middle;\n",
       "    }\n",
       "\n",
       "    .dataframe tbody tr th {\n",
       "        vertical-align: top;\n",
       "    }\n",
       "\n",
       "    .dataframe thead th {\n",
       "        text-align: right;\n",
       "    }\n",
       "</style>\n",
       "<table border=\"1\" class=\"dataframe\">\n",
       "  <thead>\n",
       "    <tr style=\"text-align: right;\">\n",
       "      <th></th>\n",
       "      <th>Год</th>\n",
       "      <th>Объем финансирования молодежной политики из бюджета субъектов Российской Федерации</th>\n",
       "      <th>Объем финансирования молодежной политики из бюджета органов местного самоуправления</th>\n",
       "      <th>Количество грантов, выданных физическим и юридическим лицам, в рамках реализации государственной молодежной политики</th>\n",
       "      <th>Объем грантовых средств, выданных физическим и юридическим лицам, в рамках реализации государственной молодежной политики</th>\n",
       "      <th>Количество региональных общественных объединений, пользующихся государственной поддержкой</th>\n",
       "      <th>Количество местных общественных объединений, пользующихся поддержкой</th>\n",
       "      <th>Количество органов молодежного самоуправления</th>\n",
       "      <th>Количество молодежных форумов, прошедших на территории субъектов Российской Федерации</th>\n",
       "      <th>Численность участников молодежных форумов</th>\n",
       "      <th>Объем финансирования молодежных форумов из средств бюджетов субъектов Российской Федерации</th>\n",
       "      <th>Объем финансирования молодежных форумов из средств органов бюджетов местного самоуправления</th>\n",
       "    </tr>\n",
       "  </thead>\n",
       "  <tbody>\n",
       "    <tr>\n",
       "      <th>1</th>\n",
       "      <td>2016</td>\n",
       "      <td>5741811940.620</td>\n",
       "      <td>3490962163.450</td>\n",
       "      <td>6388.000</td>\n",
       "      <td>1135347690.930</td>\n",
       "      <td>1618.000</td>\n",
       "      <td>3424.000</td>\n",
       "      <td>3783.000</td>\n",
       "      <td>1553.000</td>\n",
       "      <td>359168.000</td>\n",
       "      <td>792801046.300</td>\n",
       "      <td>68733327.070</td>\n",
       "    </tr>\n",
       "    <tr>\n",
       "      <th>2</th>\n",
       "      <td>2017</td>\n",
       "      <td>8706357899.750</td>\n",
       "      <td>3931433665.890</td>\n",
       "      <td>6155.000</td>\n",
       "      <td>555641507.180</td>\n",
       "      <td>1052.000</td>\n",
       "      <td>3596.000</td>\n",
       "      <td>5029.000</td>\n",
       "      <td>2455.000</td>\n",
       "      <td>515215.000</td>\n",
       "      <td>903272865.580</td>\n",
       "      <td>92695846.190</td>\n",
       "    </tr>\n",
       "    <tr>\n",
       "      <th>3</th>\n",
       "      <td>2018</td>\n",
       "      <td>11932240504.810</td>\n",
       "      <td>4983470393.960</td>\n",
       "      <td>9427.000</td>\n",
       "      <td>3017922584.000</td>\n",
       "      <td>1283.000</td>\n",
       "      <td>3375.000</td>\n",
       "      <td>5025.000</td>\n",
       "      <td>2988.000</td>\n",
       "      <td>902253.000</td>\n",
       "      <td>1111146166.400</td>\n",
       "      <td>94945874.760</td>\n",
       "    </tr>\n",
       "    <tr>\n",
       "      <th>4</th>\n",
       "      <td>2019</td>\n",
       "      <td>12683307462.965</td>\n",
       "      <td>9673718706.726</td>\n",
       "      <td>10270.000</td>\n",
       "      <td>5777856093.000</td>\n",
       "      <td>4915.000</td>\n",
       "      <td>4055.000</td>\n",
       "      <td>4681.000</td>\n",
       "      <td>2976.000</td>\n",
       "      <td>1015072.000</td>\n",
       "      <td>1275998738.400</td>\n",
       "      <td>125336343.450</td>\n",
       "    </tr>\n",
       "    <tr>\n",
       "      <th>5</th>\n",
       "      <td>2020</td>\n",
       "      <td>17098236760.000</td>\n",
       "      <td>18976777431.000</td>\n",
       "      <td>16918.000</td>\n",
       "      <td>5902433910.000</td>\n",
       "      <td>4690.000</td>\n",
       "      <td>4319.000</td>\n",
       "      <td>4473.000</td>\n",
       "      <td>1865.000</td>\n",
       "      <td>650397.000</td>\n",
       "      <td>901324090.240</td>\n",
       "      <td>52107526.260</td>\n",
       "    </tr>\n",
       "    <tr>\n",
       "      <th>6</th>\n",
       "      <td>2021</td>\n",
       "      <td>18818101388.000</td>\n",
       "      <td>17790935446.000</td>\n",
       "      <td>14229.000</td>\n",
       "      <td>4775506810.000</td>\n",
       "      <td>1158.000</td>\n",
       "      <td>4128.000</td>\n",
       "      <td>4345.000</td>\n",
       "      <td>2091.000</td>\n",
       "      <td>1378033.000</td>\n",
       "      <td>1154433140.800</td>\n",
       "      <td>121804064.500</td>\n",
       "    </tr>\n",
       "  </tbody>\n",
       "</table>\n",
       "</div>"
      ],
      "text/plain": [
       "0   Год  \\\n",
       "1  2016   \n",
       "2  2017   \n",
       "3  2018   \n",
       "4  2019   \n",
       "5  2020   \n",
       "6  2021   \n",
       "\n",
       "0 Объем финансирования молодежной политики из бюджета субъектов Российской Федерации  \\\n",
       "1                                     5741811940.620                                   \n",
       "2                                     8706357899.750                                   \n",
       "3                                    11932240504.810                                   \n",
       "4                                    12683307462.965                                   \n",
       "5                                    17098236760.000                                   \n",
       "6                                    18818101388.000                                   \n",
       "\n",
       "0 Объем финансирования молодежной политики из бюджета органов местного самоуправления  \\\n",
       "1                                     3490962163.450                                    \n",
       "2                                     3931433665.890                                    \n",
       "3                                     4983470393.960                                    \n",
       "4                                     9673718706.726                                    \n",
       "5                                    18976777431.000                                    \n",
       "6                                    17790935446.000                                    \n",
       "\n",
       "0 Количество грантов, выданных физическим и юридическим лицам, в рамках реализации государственной молодежной политики  \\\n",
       "1                                           6388.000                                                                     \n",
       "2                                           6155.000                                                                     \n",
       "3                                           9427.000                                                                     \n",
       "4                                          10270.000                                                                     \n",
       "5                                          16918.000                                                                     \n",
       "6                                          14229.000                                                                     \n",
       "\n",
       "0 Объем грантовых средств, выданных физическим и юридическим лицам, в рамках реализации государственной молодежной политики  \\\n",
       "1                                     1135347690.930                                                                          \n",
       "2                                      555641507.180                                                                          \n",
       "3                                     3017922584.000                                                                          \n",
       "4                                     5777856093.000                                                                          \n",
       "5                                     5902433910.000                                                                          \n",
       "6                                     4775506810.000                                                                          \n",
       "\n",
       "0 Количество региональных общественных объединений, пользующихся государственной поддержкой  \\\n",
       "1                                           1618.000                                          \n",
       "2                                           1052.000                                          \n",
       "3                                           1283.000                                          \n",
       "4                                           4915.000                                          \n",
       "5                                           4690.000                                          \n",
       "6                                           1158.000                                          \n",
       "\n",
       "0 Количество местных общественных объединений, пользующихся поддержкой  \\\n",
       "1                                           3424.000                     \n",
       "2                                           3596.000                     \n",
       "3                                           3375.000                     \n",
       "4                                           4055.000                     \n",
       "5                                           4319.000                     \n",
       "6                                           4128.000                     \n",
       "\n",
       "0 Количество органов молодежного самоуправления  \\\n",
       "1                                      3783.000   \n",
       "2                                      5029.000   \n",
       "3                                      5025.000   \n",
       "4                                      4681.000   \n",
       "5                                      4473.000   \n",
       "6                                      4345.000   \n",
       "\n",
       "0 Количество молодежных форумов, прошедших на территории субъектов Российской Федерации  \\\n",
       "1                                           1553.000                                      \n",
       "2                                           2455.000                                      \n",
       "3                                           2988.000                                      \n",
       "4                                           2976.000                                      \n",
       "5                                           1865.000                                      \n",
       "6                                           2091.000                                      \n",
       "\n",
       "0 Численность участников молодежных форумов  \\\n",
       "1                                359168.000   \n",
       "2                                515215.000   \n",
       "3                                902253.000   \n",
       "4                               1015072.000   \n",
       "5                                650397.000   \n",
       "6                               1378033.000   \n",
       "\n",
       "0 Объем финансирования молодежных форумов из средств бюджетов субъектов Российской Федерации  \\\n",
       "1                                      792801046.300                                           \n",
       "2                                      903272865.580                                           \n",
       "3                                     1111146166.400                                           \n",
       "4                                     1275998738.400                                           \n",
       "5                                      901324090.240                                           \n",
       "6                                     1154433140.800                                           \n",
       "\n",
       "0 Объем финансирования молодежных форумов из средств органов бюджетов местного самоуправления  \n",
       "1                                       68733327.070                                           \n",
       "2                                       92695846.190                                           \n",
       "3                                       94945874.760                                           \n",
       "4                                      125336343.450                                           \n",
       "5                                       52107526.260                                           \n",
       "6                                      121804064.500                                           "
      ]
     },
     "execution_count": 273,
     "metadata": {},
     "output_type": "execute_result"
    }
   ],
   "source": [
    "statistics_by_years_transpose"
   ]
  },
  {
   "cell_type": "code",
   "execution_count": null,
   "id": "3b57c96f",
   "metadata": {},
   "outputs": [],
   "source": []
  },
  {
   "cell_type": "code",
   "execution_count": 276,
   "id": "e4a233c7",
   "metadata": {},
   "outputs": [
    {
     "data": {
      "text/html": [
       "<div>\n",
       "<style scoped>\n",
       "    .dataframe tbody tr th:only-of-type {\n",
       "        vertical-align: middle;\n",
       "    }\n",
       "\n",
       "    .dataframe tbody tr th {\n",
       "        vertical-align: top;\n",
       "    }\n",
       "\n",
       "    .dataframe thead th {\n",
       "        text-align: right;\n",
       "    }\n",
       "</style>\n",
       "<table border=\"1\" class=\"dataframe\">\n",
       "  <thead>\n",
       "    <tr style=\"text-align: right;\">\n",
       "      <th></th>\n",
       "      <th>Unnamed: 1</th>\n",
       "      <th>2016</th>\n",
       "      <th>2017</th>\n",
       "      <th>2018</th>\n",
       "      <th>2019</th>\n",
       "      <th>2020</th>\n",
       "      <th>2021</th>\n",
       "    </tr>\n",
       "  </thead>\n",
       "  <tbody>\n",
       "    <tr>\n",
       "      <th>0</th>\n",
       "      <td>Объем финансирования молодежной политики из бю...</td>\n",
       "      <td>5741811940.620</td>\n",
       "      <td>8706357899.750</td>\n",
       "      <td>11932240504.810</td>\n",
       "      <td>12683307462.965</td>\n",
       "      <td>17098236760.000</td>\n",
       "      <td>18818101388.000</td>\n",
       "    </tr>\n",
       "    <tr>\n",
       "      <th>1</th>\n",
       "      <td>Объем финансирования молодежной политики из бю...</td>\n",
       "      <td>3490962163.450</td>\n",
       "      <td>3931433665.890</td>\n",
       "      <td>4983470393.960</td>\n",
       "      <td>9673718706.726</td>\n",
       "      <td>18976777431.000</td>\n",
       "      <td>17790935446.000</td>\n",
       "    </tr>\n",
       "    <tr>\n",
       "      <th>2</th>\n",
       "      <td>Количество грантов, выданных физическим и юрид...</td>\n",
       "      <td>6388.000</td>\n",
       "      <td>6155.000</td>\n",
       "      <td>9427.000</td>\n",
       "      <td>10270.000</td>\n",
       "      <td>16918.000</td>\n",
       "      <td>14229.000</td>\n",
       "    </tr>\n",
       "    <tr>\n",
       "      <th>3</th>\n",
       "      <td>Объем грантовых средств, выданных физическим и...</td>\n",
       "      <td>1135347690.930</td>\n",
       "      <td>555641507.180</td>\n",
       "      <td>3017922584.000</td>\n",
       "      <td>5777856093.000</td>\n",
       "      <td>5902433910.000</td>\n",
       "      <td>4775506810.000</td>\n",
       "    </tr>\n",
       "    <tr>\n",
       "      <th>4</th>\n",
       "      <td>Количество региональных общественных объединен...</td>\n",
       "      <td>1618.000</td>\n",
       "      <td>1052.000</td>\n",
       "      <td>1283.000</td>\n",
       "      <td>4915.000</td>\n",
       "      <td>4690.000</td>\n",
       "      <td>1158.000</td>\n",
       "    </tr>\n",
       "    <tr>\n",
       "      <th>5</th>\n",
       "      <td>Количество местных общественных объединений, п...</td>\n",
       "      <td>3424.000</td>\n",
       "      <td>3596.000</td>\n",
       "      <td>3375.000</td>\n",
       "      <td>4055.000</td>\n",
       "      <td>4319.000</td>\n",
       "      <td>4128.000</td>\n",
       "    </tr>\n",
       "    <tr>\n",
       "      <th>6</th>\n",
       "      <td>Количество органов молодежного самоуправления</td>\n",
       "      <td>3783.000</td>\n",
       "      <td>5029.000</td>\n",
       "      <td>5025.000</td>\n",
       "      <td>4681.000</td>\n",
       "      <td>4473.000</td>\n",
       "      <td>4345.000</td>\n",
       "    </tr>\n",
       "    <tr>\n",
       "      <th>7</th>\n",
       "      <td>Количество молодежных форумов, прошедших на те...</td>\n",
       "      <td>1553.000</td>\n",
       "      <td>2455.000</td>\n",
       "      <td>2988.000</td>\n",
       "      <td>2976.000</td>\n",
       "      <td>1865.000</td>\n",
       "      <td>2091.000</td>\n",
       "    </tr>\n",
       "    <tr>\n",
       "      <th>8</th>\n",
       "      <td>Численность участников молодежных форумов</td>\n",
       "      <td>359168.000</td>\n",
       "      <td>515215.000</td>\n",
       "      <td>902253.000</td>\n",
       "      <td>1015072.000</td>\n",
       "      <td>650397.000</td>\n",
       "      <td>1378033.000</td>\n",
       "    </tr>\n",
       "    <tr>\n",
       "      <th>9</th>\n",
       "      <td>Объем финансирования молодежных форумов из сре...</td>\n",
       "      <td>792801046.300</td>\n",
       "      <td>903272865.580</td>\n",
       "      <td>1111146166.400</td>\n",
       "      <td>1275998738.400</td>\n",
       "      <td>901324090.240</td>\n",
       "      <td>1154433140.800</td>\n",
       "    </tr>\n",
       "    <tr>\n",
       "      <th>10</th>\n",
       "      <td>Объем финансирования молодежных форумов из сре...</td>\n",
       "      <td>68733327.070</td>\n",
       "      <td>92695846.190</td>\n",
       "      <td>94945874.760</td>\n",
       "      <td>125336343.450</td>\n",
       "      <td>52107526.260</td>\n",
       "      <td>121804064.500</td>\n",
       "    </tr>\n",
       "  </tbody>\n",
       "</table>\n",
       "</div>"
      ],
      "text/plain": [
       "                                           Unnamed: 1           2016  \\\n",
       "0   Объем финансирования молодежной политики из бю... 5741811940.620   \n",
       "1   Объем финансирования молодежной политики из бю... 3490962163.450   \n",
       "2   Количество грантов, выданных физическим и юрид...       6388.000   \n",
       "3   Объем грантовых средств, выданных физическим и... 1135347690.930   \n",
       "4   Количество региональных общественных объединен...       1618.000   \n",
       "5   Количество местных общественных объединений, п...       3424.000   \n",
       "6       Количество органов молодежного самоуправления       3783.000   \n",
       "7   Количество молодежных форумов, прошедших на те...       1553.000   \n",
       "8           Численность участников молодежных форумов     359168.000   \n",
       "9   Объем финансирования молодежных форумов из сре...  792801046.300   \n",
       "10  Объем финансирования молодежных форумов из сре...   68733327.070   \n",
       "\n",
       "             2017            2018            2019            2020  \\\n",
       "0  8706357899.750 11932240504.810 12683307462.965 17098236760.000   \n",
       "1  3931433665.890  4983470393.960  9673718706.726 18976777431.000   \n",
       "2        6155.000        9427.000       10270.000       16918.000   \n",
       "3   555641507.180  3017922584.000  5777856093.000  5902433910.000   \n",
       "4        1052.000        1283.000        4915.000        4690.000   \n",
       "5        3596.000        3375.000        4055.000        4319.000   \n",
       "6        5029.000        5025.000        4681.000        4473.000   \n",
       "7        2455.000        2988.000        2976.000        1865.000   \n",
       "8      515215.000      902253.000     1015072.000      650397.000   \n",
       "9   903272865.580  1111146166.400  1275998738.400   901324090.240   \n",
       "10   92695846.190    94945874.760   125336343.450    52107526.260   \n",
       "\n",
       "              2021  \n",
       "0  18818101388.000  \n",
       "1  17790935446.000  \n",
       "2        14229.000  \n",
       "3   4775506810.000  \n",
       "4         1158.000  \n",
       "5         4128.000  \n",
       "6         4345.000  \n",
       "7         2091.000  \n",
       "8      1378033.000  \n",
       "9   1154433140.800  \n",
       "10   121804064.500  "
      ]
     },
     "execution_count": 276,
     "metadata": {},
     "output_type": "execute_result"
    }
   ],
   "source": [
    "statistics_by_years"
   ]
  },
  {
   "cell_type": "code",
   "execution_count": 274,
   "id": "f4bf7680",
   "metadata": {
    "scrolled": false
   },
   "outputs": [
    {
     "data": {},
     "metadata": {},
     "output_type": "display_data"
    },
    {
     "data": {
      "application/vnd.holoviews_exec.v0+json": "",
      "text/html": [
       "<div id='6208'>\n",
       "  <div class=\"bk-root\" id=\"f956b5a5-6ff7-4cf6-8064-87bebdb1b175\" data-root-id=\"6208\"></div>\n",
       "</div>\n",
       "<script type=\"application/javascript\">(function(root) {\n",
       "  function embed_document(root) {\n",
       "    var docs_json = {\"ff9f3672-da0e-4678-a224-6a93a76979da\":{\"defs\":[{\"extends\":null,\"module\":null,\"name\":\"ReactiveHTML1\",\"overrides\":[],\"properties\":[]},{\"extends\":null,\"module\":null,\"name\":\"FlexBox1\",\"overrides\":[],\"properties\":[{\"default\":\"flex-start\",\"kind\":null,\"name\":\"align_content\"},{\"default\":\"flex-start\",\"kind\":null,\"name\":\"align_items\"},{\"default\":\"row\",\"kind\":null,\"name\":\"flex_direction\"},{\"default\":\"wrap\",\"kind\":null,\"name\":\"flex_wrap\"},{\"default\":\"flex-start\",\"kind\":null,\"name\":\"justify_content\"}]},{\"extends\":null,\"module\":null,\"name\":\"GridStack1\",\"overrides\":[],\"properties\":[{\"default\":\"warn\",\"kind\":null,\"name\":\"mode\"},{\"default\":null,\"kind\":null,\"name\":\"ncols\"},{\"default\":null,\"kind\":null,\"name\":\"nrows\"},{\"default\":true,\"kind\":null,\"name\":\"allow_resize\"},{\"default\":true,\"kind\":null,\"name\":\"allow_drag\"},{\"default\":[],\"kind\":null,\"name\":\"state\"}]},{\"extends\":null,\"module\":null,\"name\":\"click1\",\"overrides\":[],\"properties\":[{\"default\":\"\",\"kind\":null,\"name\":\"terminal_output\"},{\"default\":\"\",\"kind\":null,\"name\":\"debug_name\"},{\"default\":0,\"kind\":null,\"name\":\"clears\"}]},{\"extends\":null,\"module\":null,\"name\":\"NotificationAreaBase1\",\"overrides\":[],\"properties\":[{\"default\":\"bottom-right\",\"kind\":null,\"name\":\"position\"},{\"default\":0,\"kind\":null,\"name\":\"_clear\"}]},{\"extends\":null,\"module\":null,\"name\":\"NotificationArea1\",\"overrides\":[],\"properties\":[{\"default\":[],\"kind\":null,\"name\":\"notifications\"},{\"default\":\"bottom-right\",\"kind\":null,\"name\":\"position\"},{\"default\":0,\"kind\":null,\"name\":\"_clear\"},{\"default\":[{\"background\":\"#ffc107\",\"icon\":{\"className\":\"fas fa-exclamation-triangle\",\"color\":\"white\",\"tagName\":\"i\"},\"type\":\"warning\"},{\"background\":\"#007bff\",\"icon\":{\"className\":\"fas fa-info-circle\",\"color\":\"white\",\"tagName\":\"i\"},\"type\":\"info\"}],\"kind\":null,\"name\":\"types\"}]},{\"extends\":null,\"module\":null,\"name\":\"Notification\",\"overrides\":[],\"properties\":[{\"default\":null,\"kind\":null,\"name\":\"background\"},{\"default\":3000,\"kind\":null,\"name\":\"duration\"},{\"default\":null,\"kind\":null,\"name\":\"icon\"},{\"default\":\"\",\"kind\":null,\"name\":\"message\"},{\"default\":null,\"kind\":null,\"name\":\"notification_type\"},{\"default\":false,\"kind\":null,\"name\":\"_destroyed\"}]},{\"extends\":null,\"module\":null,\"name\":\"TemplateActions1\",\"overrides\":[],\"properties\":[{\"default\":0,\"kind\":null,\"name\":\"open_modal\"},{\"default\":0,\"kind\":null,\"name\":\"close_modal\"}]},{\"extends\":null,\"module\":null,\"name\":\"MaterialTemplateActions1\",\"overrides\":[],\"properties\":[{\"default\":0,\"kind\":null,\"name\":\"open_modal\"},{\"default\":0,\"kind\":null,\"name\":\"close_modal\"}]}],\"roots\":{\"references\":[{\"attributes\":{\"line_color\":\"#6d904f\",\"line_width\":2,\"x\":{\"field\":\"index\"},\"y\":{\"field\":\"value\"}},\"id\":\"6323\",\"type\":\"Line\"},{\"attributes\":{},\"id\":\"6234\",\"type\":\"SaveTool\"},{\"attributes\":{},\"id\":\"6291\",\"type\":\"UnionRenderers\"},{\"attributes\":{\"data\":{\"Variable\":[\"2019\",\"2019\",\"2019\",\"2019\",\"2019\",\"2019\",\"2019\",\"2019\",\"2019\",\"2019\",\"2019\"],\"index\":[0,1,2,3,4,5,6,7,8,9,10],\"value\":{\"__ndarray__\":\"Urg3Tt+fB0LZzpXdyQQCQgAAAAAAD8RAAADQZTGG9UEAAAAAADOzQAAAAAAArq9AAAAAAABJskAAAAAAAECnQAAAAABA+i5BmpmZhIwD00HNzMxd7OGdQQ==\",\"dtype\":\"float64\",\"order\":\"little\",\"shape\":[11]}},\"selected\":{\"id\":\"6321\"},\"selection_policy\":{\"id\":\"6341\"}},\"id\":\"6320\",\"type\":\"ColumnDataSource\"},{\"attributes\":{\"callback\":null,\"renderers\":[{\"id\":\"6259\"},{\"id\":\"6280\"},{\"id\":\"6302\"},{\"id\":\"6326\"},{\"id\":\"6352\"},{\"id\":\"6380\"}],\"tags\":[\"hv_created\"],\"tooltips\":[[\"Variable\",\"@{Variable}\"],[\"index\",\"@{index}\"],[\"value\",\"@{value}\"]]},\"id\":\"6211\",\"type\":\"HoverTool\"},{\"attributes\":{\"data\":{\"Variable\":[\"2020\",\"2020\",\"2020\",\"2020\",\"2020\",\"2020\",\"2020\",\"2020\",\"2020\",\"2020\",\"2020\"],\"index\":[0,1,2,3,4,5,6,7,8,9,10],\"value\":{\"__ndarray__\":\"AADAGhPZD0IAAFyTaqwRQgAAAACAhdBAAABg5//89UEAAAAAAFKyQAAAAAAA37BAAAAAAAB5sUAAAAAAACSdQAAAAAA62SNBUrgenY7cykHhehQyyNiIQQ==\",\"dtype\":\"float64\",\"order\":\"little\",\"shape\":[11]}},\"selected\":{\"id\":\"6347\"},\"selection_policy\":{\"id\":\"6369\"}},\"id\":\"6346\",\"type\":\"ColumnDataSource\"},{\"attributes\":{\"source\":{\"id\":\"6274\"}},\"id\":\"6281\",\"type\":\"CDSView\"},{\"attributes\":{},\"id\":\"6254\",\"type\":\"Selection\"},{\"attributes\":{},\"id\":\"6227\",\"type\":\"BasicTicker\"},{\"attributes\":{\"axis_label\":\"\",\"coordinates\":null,\"formatter\":{\"id\":\"6251\"},\"group\":null,\"major_label_policy\":{\"id\":\"6252\"},\"ticker\":{\"id\":\"6231\"}},\"id\":\"6230\",\"type\":\"LinearAxis\"},{\"attributes\":{\"click_policy\":\"mute\",\"coordinates\":null,\"group\":null,\"items\":[{\"id\":\"6272\"},{\"id\":\"6294\"},{\"id\":\"6318\"},{\"id\":\"6344\"},{\"id\":\"6372\"},{\"id\":\"6402\"}],\"location\":[0,0],\"title\":\"Variable\"},\"id\":\"6271\",\"type\":\"Legend\"},{\"attributes\":{\"line_color\":\"#fc4f30\",\"line_width\":2,\"x\":{\"field\":\"index\"},\"y\":{\"field\":\"value\"}},\"id\":\"6295\",\"type\":\"Line\"},{\"attributes\":{\"label\":{\"value\":\"2018\"},\"renderers\":[{\"id\":\"6302\"}]},\"id\":\"6318\",\"type\":\"LegendItem\"},{\"attributes\":{\"source\":{\"id\":\"6253\"}},\"id\":\"6260\",\"type\":\"CDSView\"},{\"attributes\":{\"source\":{\"id\":\"6296\"}},\"id\":\"6303\",\"type\":\"CDSView\"},{\"attributes\":{\"line_color\":\"#8b8b8b\",\"line_width\":2,\"x\":{\"field\":\"index\"},\"y\":{\"field\":\"value\"}},\"id\":\"6373\",\"type\":\"Line\"},{\"attributes\":{\"label\":{\"value\":\"2019\"},\"renderers\":[{\"id\":\"6326\"}]},\"id\":\"6344\",\"type\":\"LegendItem\"},{\"attributes\":{},\"id\":\"6249\",\"type\":\"AllLabels\"},{\"attributes\":{\"line_color\":\"#e5ae38\",\"line_width\":2,\"x\":{\"field\":\"index\"},\"y\":{\"field\":\"value\"}},\"id\":\"6319\",\"type\":\"Line\"},{\"attributes\":{\"data\":{\"Variable\":[\"2018\",\"2018\",\"2018\",\"2018\",\"2018\",\"2018\",\"2018\",\"2018\",\"2018\",\"2018\",\"2018\"],\"index\":[0,1,2,3,4,5,6,7,8,9,10],\"value\":{\"__ndarray__\":\"4XrGU7w5BkIpXJ+Tm5DyQQAAAACAacJAAAAAAzt85kEAAAAAAAyUQAAAAAAAXqpAAAAAAAChs0AAAAAAAFinQAAAAADaiCtBmpmZra+O0EFxPQpLCaOWQQ==\",\"dtype\":\"float64\",\"order\":\"little\",\"shape\":[11]}},\"selected\":{\"id\":\"6297\"},\"selection_policy\":{\"id\":\"6315\"}},\"id\":\"6296\",\"type\":\"ColumnDataSource\"},{\"attributes\":{\"data\":{\"Variable\":[\"2016\",\"2016\",\"2016\",\"2016\",\"2016\",\"2016\",\"2016\",\"2016\",\"2016\",\"2016\",\"2016\"],\"index\":[0,1,2,3,4,5,6,7,8,9,10],\"value\":{\"__ndarray__\":\"hetJjtFj9UFmZm5eewLqQQAAAAAA9LhAH4W7+gHr0EEAAAAAAEiZQAAAAAAAwKpAAAAAAACOrUAAAAAAAESYQAAAAAAA7BVBZmYmi5egx0EUrkc8JmOQQQ==\",\"dtype\":\"float64\",\"order\":\"little\",\"shape\":[11]}},\"selected\":{\"id\":\"6254\"},\"selection_policy\":{\"id\":\"6268\"}},\"id\":\"6253\",\"type\":\"ColumnDataSource\"},{\"attributes\":{},\"id\":\"6222\",\"type\":\"LinearScale\"},{\"attributes\":{\"below\":[{\"id\":\"6226\"}],\"center\":[{\"id\":\"6229\"},{\"id\":\"6233\"}],\"height\":300,\"left\":[{\"id\":\"6230\"}],\"margin\":[5,5,5,5],\"min_border_bottom\":10,\"min_border_left\":10,\"min_border_right\":10,\"min_border_top\":10,\"renderers\":[{\"id\":\"6259\"},{\"id\":\"6280\"},{\"id\":\"6302\"},{\"id\":\"6326\"},{\"id\":\"6352\"},{\"id\":\"6380\"}],\"right\":[{\"id\":\"6271\"}],\"sizing_mode\":\"fixed\",\"title\":{\"id\":\"6218\"},\"toolbar\":{\"id\":\"6240\"},\"width\":700,\"x_range\":{\"id\":\"6209\"},\"x_scale\":{\"id\":\"6222\"},\"y_range\":{\"id\":\"6210\"},\"y_scale\":{\"id\":\"6224\"}},\"id\":\"6217\",\"subtype\":\"Figure\",\"type\":\"Plot\"},{\"attributes\":{\"source\":{\"id\":\"6346\"}},\"id\":\"6353\",\"type\":\"CDSView\"},{\"attributes\":{\"line_color\":\"#e5ae38\",\"line_width\":2,\"x\":{\"field\":\"index\"},\"y\":{\"field\":\"value\"}},\"id\":\"6299\",\"type\":\"Line\"},{\"attributes\":{},\"id\":\"6275\",\"type\":\"Selection\"},{\"attributes\":{\"axis_label\":\"\",\"coordinates\":null,\"formatter\":{\"id\":\"6248\"},\"group\":null,\"major_label_policy\":{\"id\":\"6249\"},\"ticker\":{\"id\":\"6227\"}},\"id\":\"6226\",\"type\":\"LinearAxis\"},{\"attributes\":{\"line_color\":\"#17becf\",\"line_width\":2,\"x\":{\"field\":\"index\"},\"y\":{\"field\":\"value\"}},\"id\":\"6403\",\"type\":\"Line\"},{\"attributes\":{\"label\":{\"value\":\"2016\"},\"renderers\":[{\"id\":\"6259\"}]},\"id\":\"6272\",\"type\":\"LegendItem\"},{\"attributes\":{\"axis\":{\"id\":\"6230\"},\"coordinates\":null,\"dimension\":1,\"grid_line_color\":null,\"group\":null,\"ticker\":null},\"id\":\"6233\",\"type\":\"Grid\"},{\"attributes\":{\"end\":20874455068.9,\"reset_end\":20874455068.9,\"reset_start\":-1897676585.9,\"start\":-1897676585.9,\"tags\":[[[\"value\",\"value\",null]]]},\"id\":\"6210\",\"type\":\"Range1d\"},{\"attributes\":{\"line_alpha\":0.1,\"line_color\":\"#fc4f30\",\"line_width\":2,\"x\":{\"field\":\"index\"},\"y\":{\"field\":\"value\"}},\"id\":\"6278\",\"type\":\"Line\"},{\"attributes\":{\"axis\":{\"id\":\"6226\"},\"coordinates\":null,\"grid_line_color\":null,\"group\":null,\"ticker\":null},\"id\":\"6229\",\"type\":\"Grid\"},{\"attributes\":{\"source\":{\"id\":\"6320\"}},\"id\":\"6327\",\"type\":\"CDSView\"},{\"attributes\":{\"line_alpha\":0.2,\"line_color\":\"#6d904f\",\"line_width\":2,\"x\":{\"field\":\"index\"},\"y\":{\"field\":\"value\"}},\"id\":\"6325\",\"type\":\"Line\"},{\"attributes\":{\"data\":{\"Variable\":[\"2017\",\"2017\",\"2017\",\"2017\",\"2017\",\"2017\",\"2017\",\"2017\",\"2017\",\"2017\",\"2017\"],\"index\":[0,1,2,3,4,5,6,7,8,9,10],\"value\":{\"__ndarray__\":\"AABe1IM3AELhejxYnUrtQQAAAAAAC7hAPQqXUTWPwEEAAAAAAHCQQAAAAAAAGKxAAAAAAACls0AAAAAAAC6jQAAAAAA8ch9BcT3K0GzrykFcj8KYtBmWQQ==\",\"dtype\":\"float64\",\"order\":\"little\",\"shape\":[11]}},\"selected\":{\"id\":\"6275\"},\"selection_policy\":{\"id\":\"6291\"}},\"id\":\"6274\",\"type\":\"ColumnDataSource\"},{\"attributes\":{},\"id\":\"6268\",\"type\":\"UnionRenderers\"},{\"attributes\":{},\"id\":\"6235\",\"type\":\"PanTool\"},{\"attributes\":{\"label\":{\"value\":\"2020\"},\"renderers\":[{\"id\":\"6352\"}]},\"id\":\"6372\",\"type\":\"LegendItem\"},{\"attributes\":{\"line_color\":\"#fc4f30\",\"line_width\":2,\"x\":{\"field\":\"index\"},\"y\":{\"field\":\"value\"}},\"id\":\"6277\",\"type\":\"Line\"},{\"attributes\":{\"children\":[{\"id\":\"6217\"}],\"height\":300,\"margin\":[0,0,0,0],\"name\":\"Row19077\",\"sizing_mode\":\"fixed\",\"tags\":[\"embedded\"],\"width\":700},\"id\":\"6208\",\"type\":\"Row\"},{\"attributes\":{\"line_alpha\":0.2,\"line_color\":\"#8b8b8b\",\"line_width\":2,\"x\":{\"field\":\"index\"},\"y\":{\"field\":\"value\"}},\"id\":\"6351\",\"type\":\"Line\"},{\"attributes\":{},\"id\":\"6315\",\"type\":\"UnionRenderers\"},{\"attributes\":{\"source\":{\"id\":\"6374\"}},\"id\":\"6381\",\"type\":\"CDSView\"},{\"attributes\":{},\"id\":\"6375\",\"type\":\"Selection\"},{\"attributes\":{},\"id\":\"6369\",\"type\":\"UnionRenderers\"},{\"attributes\":{},\"id\":\"6341\",\"type\":\"UnionRenderers\"},{\"attributes\":{},\"id\":\"6321\",\"type\":\"Selection\"},{\"attributes\":{\"coordinates\":null,\"data_source\":{\"id\":\"6346\"},\"glyph\":{\"id\":\"6349\"},\"group\":null,\"hover_glyph\":null,\"muted_glyph\":{\"id\":\"6351\"},\"nonselection_glyph\":{\"id\":\"6350\"},\"selection_glyph\":{\"id\":\"6373\"},\"view\":{\"id\":\"6353\"}},\"id\":\"6352\",\"type\":\"GlyphRenderer\"},{\"attributes\":{\"line_alpha\":0.2,\"line_color\":\"#fc4f30\",\"line_width\":2,\"x\":{\"field\":\"index\"},\"y\":{\"field\":\"value\"}},\"id\":\"6279\",\"type\":\"Line\"},{\"attributes\":{\"overlay\":{\"id\":\"6239\"}},\"id\":\"6237\",\"type\":\"BoxZoomTool\"},{\"attributes\":{\"bottom_units\":\"screen\",\"coordinates\":null,\"fill_alpha\":0.5,\"fill_color\":\"lightgrey\",\"group\":null,\"left_units\":\"screen\",\"level\":\"overlay\",\"line_alpha\":1.0,\"line_color\":\"black\",\"line_dash\":[4,4],\"line_width\":2,\"right_units\":\"screen\",\"syncable\":false,\"top_units\":\"screen\"},\"id\":\"6239\",\"type\":\"BoxAnnotation\"},{\"attributes\":{},\"id\":\"6347\",\"type\":\"Selection\"},{\"attributes\":{\"line_color\":\"#30a2da\",\"line_width\":2,\"x\":{\"field\":\"index\"},\"y\":{\"field\":\"value\"}},\"id\":\"6273\",\"type\":\"Line\"},{\"attributes\":{\"line_alpha\":0.1,\"line_color\":\"#17becf\",\"line_width\":2,\"x\":{\"field\":\"index\"},\"y\":{\"field\":\"value\"}},\"id\":\"6378\",\"type\":\"Line\"},{\"attributes\":{\"end\":10.0,\"reset_end\":10.0,\"reset_start\":0.0,\"tags\":[[[\"index\",\"index\",null]]]},\"id\":\"6209\",\"type\":\"Range1d\"},{\"attributes\":{},\"id\":\"6238\",\"type\":\"ResetTool\"},{\"attributes\":{\"line_alpha\":0.2,\"line_color\":\"#e5ae38\",\"line_width\":2,\"x\":{\"field\":\"index\"},\"y\":{\"field\":\"value\"}},\"id\":\"6301\",\"type\":\"Line\"},{\"attributes\":{\"coordinates\":null,\"data_source\":{\"id\":\"6320\"},\"glyph\":{\"id\":\"6323\"},\"group\":null,\"hover_glyph\":null,\"muted_glyph\":{\"id\":\"6325\"},\"nonselection_glyph\":{\"id\":\"6324\"},\"selection_glyph\":{\"id\":\"6345\"},\"view\":{\"id\":\"6327\"}},\"id\":\"6326\",\"type\":\"GlyphRenderer\"},{\"attributes\":{\"line_alpha\":0.1,\"line_color\":\"#8b8b8b\",\"line_width\":2,\"x\":{\"field\":\"index\"},\"y\":{\"field\":\"value\"}},\"id\":\"6350\",\"type\":\"Line\"},{\"attributes\":{\"coordinates\":null,\"data_source\":{\"id\":\"6274\"},\"glyph\":{\"id\":\"6277\"},\"group\":null,\"hover_glyph\":null,\"muted_glyph\":{\"id\":\"6279\"},\"nonselection_glyph\":{\"id\":\"6278\"},\"selection_glyph\":{\"id\":\"6295\"},\"view\":{\"id\":\"6281\"}},\"id\":\"6280\",\"type\":\"GlyphRenderer\"},{\"attributes\":{\"line_color\":\"#30a2da\",\"line_width\":2,\"x\":{\"field\":\"index\"},\"y\":{\"field\":\"value\"}},\"id\":\"6256\",\"type\":\"Line\"},{\"attributes\":{\"line_alpha\":0.2,\"line_color\":\"#17becf\",\"line_width\":2,\"x\":{\"field\":\"index\"},\"y\":{\"field\":\"value\"}},\"id\":\"6379\",\"type\":\"Line\"},{\"attributes\":{},\"id\":\"6248\",\"type\":\"BasicTickFormatter\"},{\"attributes\":{\"line_color\":\"#6d904f\",\"line_width\":2,\"x\":{\"field\":\"index\"},\"y\":{\"field\":\"value\"}},\"id\":\"6345\",\"type\":\"Line\"},{\"attributes\":{\"line_alpha\":0.2,\"line_color\":\"#30a2da\",\"line_width\":2,\"x\":{\"field\":\"index\"},\"y\":{\"field\":\"value\"}},\"id\":\"6258\",\"type\":\"Line\"},{\"attributes\":{},\"id\":\"6399\",\"type\":\"UnionRenderers\"},{\"attributes\":{\"line_alpha\":0.1,\"line_color\":\"#6d904f\",\"line_width\":2,\"x\":{\"field\":\"index\"},\"y\":{\"field\":\"value\"}},\"id\":\"6324\",\"type\":\"Line\"},{\"attributes\":{},\"id\":\"6251\",\"type\":\"BasicTickFormatter\"},{\"attributes\":{\"line_alpha\":0.1,\"line_color\":\"#e5ae38\",\"line_width\":2,\"x\":{\"field\":\"index\"},\"y\":{\"field\":\"value\"}},\"id\":\"6300\",\"type\":\"Line\"},{\"attributes\":{\"tools\":[{\"id\":\"6211\"},{\"id\":\"6234\"},{\"id\":\"6235\"},{\"id\":\"6236\"},{\"id\":\"6237\"},{\"id\":\"6238\"}]},\"id\":\"6240\",\"type\":\"Toolbar\"},{\"attributes\":{\"line_color\":\"#8b8b8b\",\"line_width\":2,\"x\":{\"field\":\"index\"},\"y\":{\"field\":\"value\"}},\"id\":\"6349\",\"type\":\"Line\"},{\"attributes\":{},\"id\":\"6224\",\"type\":\"LinearScale\"},{\"attributes\":{},\"id\":\"6236\",\"type\":\"WheelZoomTool\"},{\"attributes\":{\"label\":{\"value\":\"2017\"},\"renderers\":[{\"id\":\"6280\"}]},\"id\":\"6294\",\"type\":\"LegendItem\"},{\"attributes\":{\"coordinates\":null,\"data_source\":{\"id\":\"6374\"},\"glyph\":{\"id\":\"6377\"},\"group\":null,\"hover_glyph\":null,\"muted_glyph\":{\"id\":\"6379\"},\"nonselection_glyph\":{\"id\":\"6378\"},\"selection_glyph\":{\"id\":\"6403\"},\"view\":{\"id\":\"6381\"}},\"id\":\"6380\",\"type\":\"GlyphRenderer\"},{\"attributes\":{\"label\":{\"value\":\"2021\"},\"renderers\":[{\"id\":\"6380\"}]},\"id\":\"6402\",\"type\":\"LegendItem\"},{\"attributes\":{\"coordinates\":null,\"group\":null,\"text_color\":\"black\",\"text_font_size\":\"12pt\"},\"id\":\"6218\",\"type\":\"Title\"},{\"attributes\":{\"line_alpha\":0.1,\"line_color\":\"#30a2da\",\"line_width\":2,\"x\":{\"field\":\"index\"},\"y\":{\"field\":\"value\"}},\"id\":\"6257\",\"type\":\"Line\"},{\"attributes\":{},\"id\":\"6252\",\"type\":\"AllLabels\"},{\"attributes\":{\"coordinates\":null,\"data_source\":{\"id\":\"6253\"},\"glyph\":{\"id\":\"6256\"},\"group\":null,\"hover_glyph\":null,\"muted_glyph\":{\"id\":\"6258\"},\"nonselection_glyph\":{\"id\":\"6257\"},\"selection_glyph\":{\"id\":\"6273\"},\"view\":{\"id\":\"6260\"}},\"id\":\"6259\",\"type\":\"GlyphRenderer\"},{\"attributes\":{},\"id\":\"6297\",\"type\":\"Selection\"},{\"attributes\":{\"line_color\":\"#17becf\",\"line_width\":2,\"x\":{\"field\":\"index\"},\"y\":{\"field\":\"value\"}},\"id\":\"6377\",\"type\":\"Line\"},{\"attributes\":{},\"id\":\"6231\",\"type\":\"BasicTicker\"},{\"attributes\":{\"coordinates\":null,\"data_source\":{\"id\":\"6296\"},\"glyph\":{\"id\":\"6299\"},\"group\":null,\"hover_glyph\":null,\"muted_glyph\":{\"id\":\"6301\"},\"nonselection_glyph\":{\"id\":\"6300\"},\"selection_glyph\":{\"id\":\"6319\"},\"view\":{\"id\":\"6303\"}},\"id\":\"6302\",\"type\":\"GlyphRenderer\"},{\"attributes\":{\"data\":{\"Variable\":[\"2021\",\"2021\",\"2021\",\"2021\",\"2021\",\"2021\",\"2021\",\"2021\",\"2021\",\"2021\",\"2021\"],\"index\":[0,1,2,3,4,5,6,7,8,9,10],\"value\":{\"__ndarray__\":\"AAAwwpWGEUIAAFiGsJEQQgAAAACAystAAACgN0fK8UEAAAAAABiSQAAAAAAAILBAAAAAAAD5sEAAAAAAAFagQAAAAADxBjVBMzMzHdAz0UEAAACCVAqdQQ==\",\"dtype\":\"float64\",\"order\":\"little\",\"shape\":[11]}},\"selected\":{\"id\":\"6375\"},\"selection_policy\":{\"id\":\"6399\"}},\"id\":\"6374\",\"type\":\"ColumnDataSource\"}],\"root_ids\":[\"6208\"]},\"title\":\"Bokeh Application\",\"version\":\"2.4.3\"}};\n",
       "    var render_items = [{\"docid\":\"ff9f3672-da0e-4678-a224-6a93a76979da\",\"root_ids\":[\"6208\"],\"roots\":{\"6208\":\"f956b5a5-6ff7-4cf6-8064-87bebdb1b175\"}}];\n",
       "    root.Bokeh.embed.embed_items_notebook(docs_json, render_items);\n",
       "    for (const render_item of render_items) {\n",
       "      for (const root_id of render_item.root_ids) {\n",
       "\tconst id_el = document.getElementById(root_id)\n",
       "\tif (id_el.children.length && (id_el.children[0].className === 'bk-root')) {\n",
       "\t  const root_el = id_el.children[0]\n",
       "\t  root_el.id = root_el.id + '-rendered'\n",
       "\t}\n",
       "      }\n",
       "    }\n",
       "  }\n",
       "  if (root.Bokeh !== undefined && root.Bokeh.Panel !== undefined && ( root['Tabulator'] !== undefined) && ( root['Tabulator'] !== undefined) && ( root['Plotly'] !== undefined) && ( root['Plotly'] !== undefined) && ( root['Tabulator'] !== undefined) && ( root['Tabulator'] !== undefined) && ( root['Tabulator'] !== undefined) && ( root['Tabulator'] !== undefined) && ( root['Tabulator'] !== undefined)) {\n",
       "    embed_document(root);\n",
       "  } else {\n",
       "    var attempts = 0;\n",
       "    var timer = setInterval(function(root) {\n",
       "      if (root.Bokeh !== undefined && root.Bokeh.Panel !== undefined && (root['Tabulator'] !== undefined) && (root['Tabulator'] !== undefined) && (root['Plotly'] !== undefined) && (root['Plotly'] !== undefined) && (root['Tabulator'] !== undefined) && (root['Tabulator'] !== undefined) && (root['Tabulator'] !== undefined) && (root['Tabulator'] !== undefined) && (root['Tabulator'] !== undefined)) {\n",
       "        clearInterval(timer);\n",
       "        embed_document(root);\n",
       "      } else if (document.readyState == \"complete\") {\n",
       "        attempts++;\n",
       "        if (attempts > 200) {\n",
       "          clearInterval(timer);\n",
       "          console.log(\"Bokeh: ERROR: Unable to run BokehJS code because BokehJS library is missing\");\n",
       "        }\n",
       "      }\n",
       "    }, 25, root)\n",
       "  }\n",
       "})(window);</script>"
      ],
      "text/plain": [
       ":NdOverlay   [Variable]\n",
       "   :Curve   [index]   (value)"
      ]
     },
     "execution_count": 274,
     "metadata": {
      "application/vnd.holoviews_exec.v0+json": {
       "id": "6208"
      }
     },
     "output_type": "execute_result"
    }
   ],
   "source": [
    "statistics_by_years.hvplot.line()"
   ]
  },
  {
   "cell_type": "code",
   "execution_count": 275,
   "id": "8e99f5bf",
   "metadata": {},
   "outputs": [
    {
     "data": {},
     "metadata": {},
     "output_type": "display_data"
    },
    {
     "data": {
      "application/vnd.holoviews_exec.v0+json": "",
      "text/html": [
       "<div id='6665'>\n",
       "  <div class=\"bk-root\" id=\"0cc92c58-0ed9-45cc-9657-c195e2066a87\" data-root-id=\"6665\"></div>\n",
       "</div>\n",
       "<script type=\"application/javascript\">(function(root) {\n",
       "  function embed_document(root) {\n",
       "    var docs_json = {\"ce47b3b7-7edd-4898-8699-bdc47351a8da\":{\"defs\":[{\"extends\":null,\"module\":null,\"name\":\"ReactiveHTML1\",\"overrides\":[],\"properties\":[]},{\"extends\":null,\"module\":null,\"name\":\"FlexBox1\",\"overrides\":[],\"properties\":[{\"default\":\"flex-start\",\"kind\":null,\"name\":\"align_content\"},{\"default\":\"flex-start\",\"kind\":null,\"name\":\"align_items\"},{\"default\":\"row\",\"kind\":null,\"name\":\"flex_direction\"},{\"default\":\"wrap\",\"kind\":null,\"name\":\"flex_wrap\"},{\"default\":\"flex-start\",\"kind\":null,\"name\":\"justify_content\"}]},{\"extends\":null,\"module\":null,\"name\":\"GridStack1\",\"overrides\":[],\"properties\":[{\"default\":\"warn\",\"kind\":null,\"name\":\"mode\"},{\"default\":null,\"kind\":null,\"name\":\"ncols\"},{\"default\":null,\"kind\":null,\"name\":\"nrows\"},{\"default\":true,\"kind\":null,\"name\":\"allow_resize\"},{\"default\":true,\"kind\":null,\"name\":\"allow_drag\"},{\"default\":[],\"kind\":null,\"name\":\"state\"}]},{\"extends\":null,\"module\":null,\"name\":\"click1\",\"overrides\":[],\"properties\":[{\"default\":\"\",\"kind\":null,\"name\":\"terminal_output\"},{\"default\":\"\",\"kind\":null,\"name\":\"debug_name\"},{\"default\":0,\"kind\":null,\"name\":\"clears\"}]},{\"extends\":null,\"module\":null,\"name\":\"NotificationAreaBase1\",\"overrides\":[],\"properties\":[{\"default\":\"bottom-right\",\"kind\":null,\"name\":\"position\"},{\"default\":0,\"kind\":null,\"name\":\"_clear\"}]},{\"extends\":null,\"module\":null,\"name\":\"NotificationArea1\",\"overrides\":[],\"properties\":[{\"default\":[],\"kind\":null,\"name\":\"notifications\"},{\"default\":\"bottom-right\",\"kind\":null,\"name\":\"position\"},{\"default\":0,\"kind\":null,\"name\":\"_clear\"},{\"default\":[{\"background\":\"#ffc107\",\"icon\":{\"className\":\"fas fa-exclamation-triangle\",\"color\":\"white\",\"tagName\":\"i\"},\"type\":\"warning\"},{\"background\":\"#007bff\",\"icon\":{\"className\":\"fas fa-info-circle\",\"color\":\"white\",\"tagName\":\"i\"},\"type\":\"info\"}],\"kind\":null,\"name\":\"types\"}]},{\"extends\":null,\"module\":null,\"name\":\"Notification\",\"overrides\":[],\"properties\":[{\"default\":null,\"kind\":null,\"name\":\"background\"},{\"default\":3000,\"kind\":null,\"name\":\"duration\"},{\"default\":null,\"kind\":null,\"name\":\"icon\"},{\"default\":\"\",\"kind\":null,\"name\":\"message\"},{\"default\":null,\"kind\":null,\"name\":\"notification_type\"},{\"default\":false,\"kind\":null,\"name\":\"_destroyed\"}]},{\"extends\":null,\"module\":null,\"name\":\"TemplateActions1\",\"overrides\":[],\"properties\":[{\"default\":0,\"kind\":null,\"name\":\"open_modal\"},{\"default\":0,\"kind\":null,\"name\":\"close_modal\"}]},{\"extends\":null,\"module\":null,\"name\":\"MaterialTemplateActions1\",\"overrides\":[],\"properties\":[{\"default\":0,\"kind\":null,\"name\":\"open_modal\"},{\"default\":0,\"kind\":null,\"name\":\"close_modal\"}]}],\"roots\":{\"references\":[{\"attributes\":{},\"id\":\"6778\",\"type\":\"UnionRenderers\"},{\"attributes\":{\"line_alpha\":0.2,\"line_color\":\"#9467bd\",\"line_width\":2,\"x\":{\"field\":\"index\"},\"y\":{\"field\":\"value\"}},\"id\":\"6872\",\"type\":\"Line\"},{\"attributes\":{\"line_alpha\":0.2,\"line_color\":\"#30a2da\",\"line_width\":2,\"x\":{\"field\":\"index\"},\"y\":{\"field\":\"value\"}},\"id\":\"6721\",\"type\":\"Line\"},{\"attributes\":{\"label\":{\"value\":\"\\u041a\\u043e\\u043b\\u0438\\u0447\\u0435\\u0441\\u0442\\u0432\\u043e \\u043c\\u043e\\u043b\\u043e\\u0434\\u0435\\u0436\\u043d\\u044b\\u0445 \\u0444\\u043e\\u0440\\u0443\\u043c\\u043e\\u0432, \\u043f\\u0440\\u043e\\u0448\\u0435\\u0434\\u0448\\u0438\\u0445 \\u043d\\u0430 \\u0442\\u0435\\u0440\\u0440\\u0438\\u0442\\u043e\\u0440\\u0438\\u0438 \\u0441\\u0443\\u0431\\u044a\\u0435\\u043a\\u0442\\u043e\\u0432 \\u0420\\u043e\\u0441\\u0441\\u0438\\u0439\\u0441\\u043a\\u043e\\u0439 \\u0424\\u0435\\u0434\\u0435\\u0440\\u0430\\u0446\\u0438\\u0438\"},\"renderers\":[{\"id\":\"6939\"}]},\"id\":\"6967\",\"type\":\"LegendItem\"},{\"attributes\":{\"line_color\":\"#fc4f30\",\"line_width\":2,\"x\":{\"field\":\"index\"},\"y\":{\"field\":\"value\"}},\"id\":\"6758\",\"type\":\"Line\"},{\"attributes\":{\"line_color\":\"#8c564b\",\"line_width\":2,\"x\":{\"field\":\"index\"},\"y\":{\"field\":\"value\"}},\"id\":\"7046\",\"type\":\"Line\"},{\"attributes\":{},\"id\":\"6928\",\"type\":\"UnionRenderers\"},{\"attributes\":{},\"id\":\"6714\",\"type\":\"BasicTickFormatter\"},{\"attributes\":{},\"id\":\"6715\",\"type\":\"AllLabels\"},{\"attributes\":{},\"id\":\"7084\",\"type\":\"UnionRenderers\"},{\"attributes\":{\"line_color\":\"#30a2da\",\"line_width\":2,\"x\":{\"field\":\"index\"},\"y\":{\"field\":\"value\"}},\"id\":\"6719\",\"type\":\"Line\"},{\"attributes\":{\"line_alpha\":0.2,\"line_color\":\"#e5ae38\",\"line_width\":2,\"x\":{\"field\":\"index\"},\"y\":{\"field\":\"value\"}},\"id\":\"6764\",\"type\":\"Line\"},{\"attributes\":{\"line_alpha\":0.2,\"line_color\":\"#bcbd22\",\"line_width\":2,\"x\":{\"field\":\"index\"},\"y\":{\"field\":\"value\"}},\"id\":\"7052\",\"type\":\"Line\"},{\"attributes\":{\"coordinates\":null,\"data_source\":{\"id\":\"6933\"},\"glyph\":{\"id\":\"6936\"},\"group\":null,\"hover_glyph\":null,\"muted_glyph\":{\"id\":\"6938\"},\"nonselection_glyph\":{\"id\":\"6937\"},\"selection_glyph\":{\"id\":\"6968\"},\"view\":{\"id\":\"6940\"}},\"id\":\"6939\",\"type\":\"GlyphRenderer\"},{\"attributes\":{\"source\":{\"id\":\"6716\"}},\"id\":\"6723\",\"type\":\"CDSView\"},{\"attributes\":{},\"id\":\"6760\",\"type\":\"Selection\"},{\"attributes\":{\"click_policy\":\"mute\",\"coordinates\":null,\"group\":null,\"items\":[{\"id\":\"6735\"},{\"id\":\"6757\"},{\"id\":\"6781\"},{\"id\":\"6807\"},{\"id\":\"6835\"},{\"id\":\"6865\"},{\"id\":\"6897\"},{\"id\":\"6931\"},{\"id\":\"6967\"},{\"id\":\"7005\"},{\"id\":\"7045\"},{\"id\":\"7087\"}],\"location\":[0,0],\"title\":\"Variable\"},\"id\":\"6734\",\"type\":\"Legend\"},{\"attributes\":{},\"id\":\"7048\",\"type\":\"Selection\"},{\"attributes\":{\"label\":{\"value\":\"\\u041e\\u0431\\u044a\\u0435\\u043c \\u0444\\u0438\\u043d\\u0430\\u043d\\u0441\\u0438\\u0440\\u043e\\u0432\\u0430\\u043d\\u0438\\u044f \\u043c\\u043e\\u043b\\u043e\\u0434\\u0435\\u0436\\u043d\\u043e\\u0439 \\u043f\\u043e\\u043b\\u0438\\u0442\\u0438\\u043a\\u0438 \\u0438\\u0437 \\u0431\\u044e\\u0434\\u0436\\u0435\\u0442\\u0430 \\u043e\\u0440\\u0433\\u0430\\u043d\\u043e\\u0432 \\u043c\\u0435\\u0441\\u0442\\u043d\\u043e\\u0433\\u043e \\u0441\\u0430\\u043c\\u043e\\u0443\\u043f\\u0440\\u0430\\u0432\\u043b\\u0435\\u043d\\u0438\\u044f\"},\"renderers\":[{\"id\":\"6765\"}]},\"id\":\"6781\",\"type\":\"LegendItem\"},{\"attributes\":{\"label\":{\"value\":\"\\u041e\\u0431\\u044a\\u0435\\u043c \\u0444\\u0438\\u043d\\u0430\\u043d\\u0441\\u0438\\u0440\\u043e\\u0432\\u0430\\u043d\\u0438\\u044f \\u043c\\u043e\\u043b\\u043e\\u0434\\u0435\\u0436\\u043d\\u044b\\u0445 \\u0444\\u043e\\u0440\\u0443\\u043c\\u043e\\u0432 \\u0438\\u0437 \\u0441\\u0440\\u0435\\u0434\\u0441\\u0442\\u0432 \\u043e\\u0440\\u0433\\u0430\\u043d\\u043e\\u0432 \\u0431\\u044e\\u0434\\u0436\\u0435\\u0442\\u043e\\u0432 \\u043c\\u0435\\u0441\\u0442\\u043d\\u043e\\u0433\\u043e \\u0441\\u0430\\u043c\\u043e\\u0443\\u043f\\u0440\\u0430\\u0432\\u043b\\u0435\\u043d\\u0438\\u044f\"},\"renderers\":[{\"id\":\"7053\"}]},\"id\":\"7087\",\"type\":\"LegendItem\"},{\"attributes\":{\"line_color\":\"#e5ae38\",\"line_width\":2,\"x\":{\"field\":\"index\"},\"y\":{\"field\":\"value\"}},\"id\":\"6762\",\"type\":\"Line\"},{\"attributes\":{\"line_color\":\"#bcbd22\",\"line_width\":2,\"x\":{\"field\":\"index\"},\"y\":{\"field\":\"value\"}},\"id\":\"7050\",\"type\":\"Line\"},{\"attributes\":{\"line_color\":\"#9467bd\",\"line_width\":2,\"x\":{\"field\":\"index\"},\"y\":{\"field\":\"value\"}},\"id\":\"6870\",\"type\":\"Line\"},{\"attributes\":{\"source\":{\"id\":\"6759\"}},\"id\":\"6766\",\"type\":\"CDSView\"},{\"attributes\":{\"source\":{\"id\":\"7047\"}},\"id\":\"7054\",\"type\":\"CDSView\"},{\"attributes\":{\"line_alpha\":0.1,\"line_color\":\"#d62728\",\"line_width\":2,\"x\":{\"field\":\"index\"},\"y\":{\"field\":\"value\"}},\"id\":\"6903\",\"type\":\"Line\"},{\"attributes\":{\"line_alpha\":0.1,\"line_color\":\"#e5ae38\",\"line_width\":2,\"x\":{\"field\":\"index\"},\"y\":{\"field\":\"value\"}},\"id\":\"6763\",\"type\":\"Line\"},{\"attributes\":{\"line_alpha\":0.1,\"line_color\":\"#bcbd22\",\"line_width\":2,\"x\":{\"field\":\"index\"},\"y\":{\"field\":\"value\"}},\"id\":\"7051\",\"type\":\"Line\"},{\"attributes\":{\"coordinates\":null,\"data_source\":{\"id\":\"6716\"},\"glyph\":{\"id\":\"6719\"},\"group\":null,\"hover_glyph\":null,\"muted_glyph\":{\"id\":\"6721\"},\"nonselection_glyph\":{\"id\":\"6720\"},\"selection_glyph\":{\"id\":\"6736\"},\"view\":{\"id\":\"6723\"}},\"id\":\"6722\",\"type\":\"GlyphRenderer\"},{\"attributes\":{\"line_alpha\":0.1,\"line_color\":\"#30a2da\",\"line_width\":2,\"x\":{\"field\":\"index\"},\"y\":{\"field\":\"value\"}},\"id\":\"6720\",\"type\":\"Line\"},{\"attributes\":{\"line_color\":\"#d62728\",\"line_width\":2,\"x\":{\"field\":\"index\"},\"y\":{\"field\":\"value\"}},\"id\":\"6932\",\"type\":\"Line\"},{\"attributes\":{\"data\":{\"Variable\":[\"\\u0427\\u0438\\u0441\\u043b\\u0435\\u043d\\u043d\\u043e\\u0441\\u0442\\u044c \\u0443\\u0447\\u0430\\u0441\\u0442\\u043d\\u0438\\u043a\\u043e\\u0432 \\u043c\\u043e\\u043b\\u043e\\u0434\\u0435\\u0436\\u043d\\u044b\\u0445 \\u0444\\u043e\\u0440\\u0443\\u043c\\u043e\\u0432\",\"\\u0427\\u0438\\u0441\\u043b\\u0435\\u043d\\u043d\\u043e\\u0441\\u0442\\u044c \\u0443\\u0447\\u0430\\u0441\\u0442\\u043d\\u0438\\u043a\\u043e\\u0432 \\u043c\\u043e\\u043b\\u043e\\u0434\\u0435\\u0436\\u043d\\u044b\\u0445 \\u0444\\u043e\\u0440\\u0443\\u043c\\u043e\\u0432\",\"\\u0427\\u0438\\u0441\\u043b\\u0435\\u043d\\u043d\\u043e\\u0441\\u0442\\u044c \\u0443\\u0447\\u0430\\u0441\\u0442\\u043d\\u0438\\u043a\\u043e\\u0432 \\u043c\\u043e\\u043b\\u043e\\u0434\\u0435\\u0436\\u043d\\u044b\\u0445 \\u0444\\u043e\\u0440\\u0443\\u043c\\u043e\\u0432\",\"\\u0427\\u0438\\u0441\\u043b\\u0435\\u043d\\u043d\\u043e\\u0441\\u0442\\u044c \\u0443\\u0447\\u0430\\u0441\\u0442\\u043d\\u0438\\u043a\\u043e\\u0432 \\u043c\\u043e\\u043b\\u043e\\u0434\\u0435\\u0436\\u043d\\u044b\\u0445 \\u0444\\u043e\\u0440\\u0443\\u043c\\u043e\\u0432\",\"\\u0427\\u0438\\u0441\\u043b\\u0435\\u043d\\u043d\\u043e\\u0441\\u0442\\u044c \\u0443\\u0447\\u0430\\u0441\\u0442\\u043d\\u0438\\u043a\\u043e\\u0432 \\u043c\\u043e\\u043b\\u043e\\u0434\\u0435\\u0436\\u043d\\u044b\\u0445 \\u0444\\u043e\\u0440\\u0443\\u043c\\u043e\\u0432\",\"\\u0427\\u0438\\u0441\\u043b\\u0435\\u043d\\u043d\\u043e\\u0441\\u0442\\u044c \\u0443\\u0447\\u0430\\u0441\\u0442\\u043d\\u0438\\u043a\\u043e\\u0432 \\u043c\\u043e\\u043b\\u043e\\u0434\\u0435\\u0436\\u043d\\u044b\\u0445 \\u0444\\u043e\\u0440\\u0443\\u043c\\u043e\\u0432\"],\"index\":[1,2,3,4,5,6],\"value\":{\"__ndarray__\":\"AAAAAADsFUEAAAAAPHIfQQAAAADaiCtBAAAAAED6LkEAAAAAOtkjQQAAAADxBjVB\",\"dtype\":\"float64\",\"order\":\"little\",\"shape\":[6]}},\"selected\":{\"id\":\"6970\"},\"selection_policy\":{\"id\":\"7002\"}},\"id\":\"6969\",\"type\":\"ColumnDataSource\"},{\"attributes\":{},\"id\":\"6868\",\"type\":\"Selection\"},{\"attributes\":{\"source\":{\"id\":\"6933\"}},\"id\":\"6940\",\"type\":\"CDSView\"},{\"attributes\":{\"data\":{\"Variable\":[\"\\u041e\\u0431\\u044a\\u0435\\u043c \\u0444\\u0438\\u043d\\u0430\\u043d\\u0441\\u0438\\u0440\\u043e\\u0432\\u0430\\u043d\\u0438\\u044f \\u043c\\u043e\\u043b\\u043e\\u0434\\u0435\\u0436\\u043d\\u043e\\u0439 \\u043f\\u043e\\u043b\\u0438\\u0442\\u0438\\u043a\\u0438 \\u0438\\u0437 \\u0431\\u044e\\u0434\\u0436\\u0435\\u0442\\u0430 \\u043e\\u0440\\u0433\\u0430\\u043d\\u043e\\u0432 \\u043c\\u0435\\u0441\\u0442\\u043d\\u043e\\u0433\\u043e \\u0441\\u0430\\u043c\\u043e\\u0443\\u043f\\u0440\\u0430\\u0432\\u043b\\u0435\\u043d\\u0438\\u044f\",\"\\u041e\\u0431\\u044a\\u0435\\u043c \\u0444\\u0438\\u043d\\u0430\\u043d\\u0441\\u0438\\u0440\\u043e\\u0432\\u0430\\u043d\\u0438\\u044f \\u043c\\u043e\\u043b\\u043e\\u0434\\u0435\\u0436\\u043d\\u043e\\u0439 \\u043f\\u043e\\u043b\\u0438\\u0442\\u0438\\u043a\\u0438 \\u0438\\u0437 \\u0431\\u044e\\u0434\\u0436\\u0435\\u0442\\u0430 \\u043e\\u0440\\u0433\\u0430\\u043d\\u043e\\u0432 \\u043c\\u0435\\u0441\\u0442\\u043d\\u043e\\u0433\\u043e \\u0441\\u0430\\u043c\\u043e\\u0443\\u043f\\u0440\\u0430\\u0432\\u043b\\u0435\\u043d\\u0438\\u044f\",\"\\u041e\\u0431\\u044a\\u0435\\u043c \\u0444\\u0438\\u043d\\u0430\\u043d\\u0441\\u0438\\u0440\\u043e\\u0432\\u0430\\u043d\\u0438\\u044f \\u043c\\u043e\\u043b\\u043e\\u0434\\u0435\\u0436\\u043d\\u043e\\u0439 \\u043f\\u043e\\u043b\\u0438\\u0442\\u0438\\u043a\\u0438 \\u0438\\u0437 \\u0431\\u044e\\u0434\\u0436\\u0435\\u0442\\u0430 \\u043e\\u0440\\u0433\\u0430\\u043d\\u043e\\u0432 \\u043c\\u0435\\u0441\\u0442\\u043d\\u043e\\u0433\\u043e \\u0441\\u0430\\u043c\\u043e\\u0443\\u043f\\u0440\\u0430\\u0432\\u043b\\u0435\\u043d\\u0438\\u044f\",\"\\u041e\\u0431\\u044a\\u0435\\u043c \\u0444\\u0438\\u043d\\u0430\\u043d\\u0441\\u0438\\u0440\\u043e\\u0432\\u0430\\u043d\\u0438\\u044f \\u043c\\u043e\\u043b\\u043e\\u0434\\u0435\\u0436\\u043d\\u043e\\u0439 \\u043f\\u043e\\u043b\\u0438\\u0442\\u0438\\u043a\\u0438 \\u0438\\u0437 \\u0431\\u044e\\u0434\\u0436\\u0435\\u0442\\u0430 \\u043e\\u0440\\u0433\\u0430\\u043d\\u043e\\u0432 \\u043c\\u0435\\u0441\\u0442\\u043d\\u043e\\u0433\\u043e \\u0441\\u0430\\u043c\\u043e\\u0443\\u043f\\u0440\\u0430\\u0432\\u043b\\u0435\\u043d\\u0438\\u044f\",\"\\u041e\\u0431\\u044a\\u0435\\u043c \\u0444\\u0438\\u043d\\u0430\\u043d\\u0441\\u0438\\u0440\\u043e\\u0432\\u0430\\u043d\\u0438\\u044f \\u043c\\u043e\\u043b\\u043e\\u0434\\u0435\\u0436\\u043d\\u043e\\u0439 \\u043f\\u043e\\u043b\\u0438\\u0442\\u0438\\u043a\\u0438 \\u0438\\u0437 \\u0431\\u044e\\u0434\\u0436\\u0435\\u0442\\u0430 \\u043e\\u0440\\u0433\\u0430\\u043d\\u043e\\u0432 \\u043c\\u0435\\u0441\\u0442\\u043d\\u043e\\u0433\\u043e \\u0441\\u0430\\u043c\\u043e\\u0443\\u043f\\u0440\\u0430\\u0432\\u043b\\u0435\\u043d\\u0438\\u044f\",\"\\u041e\\u0431\\u044a\\u0435\\u043c \\u0444\\u0438\\u043d\\u0430\\u043d\\u0441\\u0438\\u0440\\u043e\\u0432\\u0430\\u043d\\u0438\\u044f \\u043c\\u043e\\u043b\\u043e\\u0434\\u0435\\u0436\\u043d\\u043e\\u0439 \\u043f\\u043e\\u043b\\u0438\\u0442\\u0438\\u043a\\u0438 \\u0438\\u0437 \\u0431\\u044e\\u0434\\u0436\\u0435\\u0442\\u0430 \\u043e\\u0440\\u0433\\u0430\\u043d\\u043e\\u0432 \\u043c\\u0435\\u0441\\u0442\\u043d\\u043e\\u0433\\u043e \\u0441\\u0430\\u043c\\u043e\\u0443\\u043f\\u0440\\u0430\\u0432\\u043b\\u0435\\u043d\\u0438\\u044f\"],\"index\":[1,2,3,4,5,6],\"value\":{\"__ndarray__\":\"ZmZuXnsC6kHhejxYnUrtQSlcn5ObkPJB2c6V3ckEAkIAAFyTaqwRQgAAWIawkRBC\",\"dtype\":\"float64\",\"order\":\"little\",\"shape\":[6]}},\"selected\":{\"id\":\"6760\"},\"selection_policy\":{\"id\":\"6778\"}},\"id\":\"6759\",\"type\":\"ColumnDataSource\"},{\"attributes\":{\"data\":{\"Variable\":[\"\\u041e\\u0431\\u044a\\u0435\\u043c \\u0444\\u0438\\u043d\\u0430\\u043d\\u0441\\u0438\\u0440\\u043e\\u0432\\u0430\\u043d\\u0438\\u044f \\u043c\\u043e\\u043b\\u043e\\u0434\\u0435\\u0436\\u043d\\u044b\\u0445 \\u0444\\u043e\\u0440\\u0443\\u043c\\u043e\\u0432 \\u0438\\u0437 \\u0441\\u0440\\u0435\\u0434\\u0441\\u0442\\u0432 \\u043e\\u0440\\u0433\\u0430\\u043d\\u043e\\u0432 \\u0431\\u044e\\u0434\\u0436\\u0435\\u0442\\u043e\\u0432 \\u043c\\u0435\\u0441\\u0442\\u043d\\u043e\\u0433\\u043e \\u0441\\u0430\\u043c\\u043e\\u0443\\u043f\\u0440\\u0430\\u0432\\u043b\\u0435\\u043d\\u0438\\u044f\",\"\\u041e\\u0431\\u044a\\u0435\\u043c \\u0444\\u0438\\u043d\\u0430\\u043d\\u0441\\u0438\\u0440\\u043e\\u0432\\u0430\\u043d\\u0438\\u044f \\u043c\\u043e\\u043b\\u043e\\u0434\\u0435\\u0436\\u043d\\u044b\\u0445 \\u0444\\u043e\\u0440\\u0443\\u043c\\u043e\\u0432 \\u0438\\u0437 \\u0441\\u0440\\u0435\\u0434\\u0441\\u0442\\u0432 \\u043e\\u0440\\u0433\\u0430\\u043d\\u043e\\u0432 \\u0431\\u044e\\u0434\\u0436\\u0435\\u0442\\u043e\\u0432 \\u043c\\u0435\\u0441\\u0442\\u043d\\u043e\\u0433\\u043e \\u0441\\u0430\\u043c\\u043e\\u0443\\u043f\\u0440\\u0430\\u0432\\u043b\\u0435\\u043d\\u0438\\u044f\",\"\\u041e\\u0431\\u044a\\u0435\\u043c \\u0444\\u0438\\u043d\\u0430\\u043d\\u0441\\u0438\\u0440\\u043e\\u0432\\u0430\\u043d\\u0438\\u044f \\u043c\\u043e\\u043b\\u043e\\u0434\\u0435\\u0436\\u043d\\u044b\\u0445 \\u0444\\u043e\\u0440\\u0443\\u043c\\u043e\\u0432 \\u0438\\u0437 \\u0441\\u0440\\u0435\\u0434\\u0441\\u0442\\u0432 \\u043e\\u0440\\u0433\\u0430\\u043d\\u043e\\u0432 \\u0431\\u044e\\u0434\\u0436\\u0435\\u0442\\u043e\\u0432 \\u043c\\u0435\\u0441\\u0442\\u043d\\u043e\\u0433\\u043e \\u0441\\u0430\\u043c\\u043e\\u0443\\u043f\\u0440\\u0430\\u0432\\u043b\\u0435\\u043d\\u0438\\u044f\",\"\\u041e\\u0431\\u044a\\u0435\\u043c \\u0444\\u0438\\u043d\\u0430\\u043d\\u0441\\u0438\\u0440\\u043e\\u0432\\u0430\\u043d\\u0438\\u044f \\u043c\\u043e\\u043b\\u043e\\u0434\\u0435\\u0436\\u043d\\u044b\\u0445 \\u0444\\u043e\\u0440\\u0443\\u043c\\u043e\\u0432 \\u0438\\u0437 \\u0441\\u0440\\u0435\\u0434\\u0441\\u0442\\u0432 \\u043e\\u0440\\u0433\\u0430\\u043d\\u043e\\u0432 \\u0431\\u044e\\u0434\\u0436\\u0435\\u0442\\u043e\\u0432 \\u043c\\u0435\\u0441\\u0442\\u043d\\u043e\\u0433\\u043e \\u0441\\u0430\\u043c\\u043e\\u0443\\u043f\\u0440\\u0430\\u0432\\u043b\\u0435\\u043d\\u0438\\u044f\",\"\\u041e\\u0431\\u044a\\u0435\\u043c \\u0444\\u0438\\u043d\\u0430\\u043d\\u0441\\u0438\\u0440\\u043e\\u0432\\u0430\\u043d\\u0438\\u044f \\u043c\\u043e\\u043b\\u043e\\u0434\\u0435\\u0436\\u043d\\u044b\\u0445 \\u0444\\u043e\\u0440\\u0443\\u043c\\u043e\\u0432 \\u0438\\u0437 \\u0441\\u0440\\u0435\\u0434\\u0441\\u0442\\u0432 \\u043e\\u0440\\u0433\\u0430\\u043d\\u043e\\u0432 \\u0431\\u044e\\u0434\\u0436\\u0435\\u0442\\u043e\\u0432 \\u043c\\u0435\\u0441\\u0442\\u043d\\u043e\\u0433\\u043e \\u0441\\u0430\\u043c\\u043e\\u0443\\u043f\\u0440\\u0430\\u0432\\u043b\\u0435\\u043d\\u0438\\u044f\",\"\\u041e\\u0431\\u044a\\u0435\\u043c \\u0444\\u0438\\u043d\\u0430\\u043d\\u0441\\u0438\\u0440\\u043e\\u0432\\u0430\\u043d\\u0438\\u044f \\u043c\\u043e\\u043b\\u043e\\u0434\\u0435\\u0436\\u043d\\u044b\\u0445 \\u0444\\u043e\\u0440\\u0443\\u043c\\u043e\\u0432 \\u0438\\u0437 \\u0441\\u0440\\u0435\\u0434\\u0441\\u0442\\u0432 \\u043e\\u0440\\u0433\\u0430\\u043d\\u043e\\u0432 \\u0431\\u044e\\u0434\\u0436\\u0435\\u0442\\u043e\\u0432 \\u043c\\u0435\\u0441\\u0442\\u043d\\u043e\\u0433\\u043e \\u0441\\u0430\\u043c\\u043e\\u0443\\u043f\\u0440\\u0430\\u0432\\u043b\\u0435\\u043d\\u0438\\u044f\"],\"index\":[1,2,3,4,5,6],\"value\":{\"__ndarray__\":\"FK5HPCZjkEFcj8KYtBmWQXE9CksJo5ZBzczMXezhnUHhehQyyNiIQQAAAIJUCp1B\",\"dtype\":\"float64\",\"order\":\"little\",\"shape\":[6]}},\"selected\":{\"id\":\"7048\"},\"selection_policy\":{\"id\":\"7084\"}},\"id\":\"7047\",\"type\":\"ColumnDataSource\"},{\"attributes\":{\"coordinates\":null,\"data_source\":{\"id\":\"6759\"},\"glyph\":{\"id\":\"6762\"},\"group\":null,\"hover_glyph\":null,\"muted_glyph\":{\"id\":\"6764\"},\"nonselection_glyph\":{\"id\":\"6763\"},\"selection_glyph\":{\"id\":\"6782\"},\"view\":{\"id\":\"6766\"}},\"id\":\"6765\",\"type\":\"GlyphRenderer\"},{\"attributes\":{\"coordinates\":null,\"data_source\":{\"id\":\"7047\"},\"glyph\":{\"id\":\"7050\"},\"group\":null,\"hover_glyph\":null,\"muted_glyph\":{\"id\":\"7052\"},\"nonselection_glyph\":{\"id\":\"7051\"},\"selection_glyph\":{\"id\":\"7088\"},\"view\":{\"id\":\"7054\"}},\"id\":\"7053\",\"type\":\"GlyphRenderer\"},{\"attributes\":{\"line_alpha\":0.2,\"line_color\":\"#1f77b4\",\"line_width\":2,\"x\":{\"field\":\"index\"},\"y\":{\"field\":\"value\"}},\"id\":\"6938\",\"type\":\"Line\"},{\"attributes\":{},\"id\":\"6934\",\"type\":\"Selection\"},{\"attributes\":{},\"id\":\"6964\",\"type\":\"UnionRenderers\"},{\"attributes\":{\"coordinates\":null,\"data_source\":{\"id\":\"6837\"},\"glyph\":{\"id\":\"6840\"},\"group\":null,\"hover_glyph\":null,\"muted_glyph\":{\"id\":\"6842\"},\"nonselection_glyph\":{\"id\":\"6841\"},\"selection_glyph\":{\"id\":\"6866\"},\"view\":{\"id\":\"6844\"}},\"id\":\"6843\",\"type\":\"GlyphRenderer\"},{\"attributes\":{\"line_color\":\"#1f77b4\",\"line_width\":2,\"x\":{\"field\":\"index\"},\"y\":{\"field\":\"value\"}},\"id\":\"6936\",\"type\":\"Line\"},{\"attributes\":{\"line_alpha\":0.1,\"line_color\":\"#1f77b4\",\"line_width\":2,\"x\":{\"field\":\"index\"},\"y\":{\"field\":\"value\"}},\"id\":\"6937\",\"type\":\"Line\"},{\"attributes\":{\"line_color\":\"#e5ae38\",\"line_width\":2,\"x\":{\"field\":\"index\"},\"y\":{\"field\":\"value\"}},\"id\":\"6782\",\"type\":\"Line\"},{\"attributes\":{\"line_color\":\"#bcbd22\",\"line_width\":2,\"x\":{\"field\":\"index\"},\"y\":{\"field\":\"value\"}},\"id\":\"7088\",\"type\":\"Line\"},{\"attributes\":{\"line_alpha\":0.2,\"line_color\":\"#d62728\",\"line_width\":2,\"x\":{\"field\":\"index\"},\"y\":{\"field\":\"value\"}},\"id\":\"6904\",\"type\":\"Line\"},{\"attributes\":{\"line_color\":\"#1f77b4\",\"line_width\":2,\"x\":{\"field\":\"index\"},\"y\":{\"field\":\"value\"}},\"id\":\"6968\",\"type\":\"Line\"},{\"attributes\":{},\"id\":\"6731\",\"type\":\"UnionRenderers\"},{\"attributes\":{},\"id\":\"6804\",\"type\":\"UnionRenderers\"},{\"attributes\":{\"line_alpha\":0.2,\"line_color\":\"#6d904f\",\"line_width\":2,\"x\":{\"field\":\"index\"},\"y\":{\"field\":\"value\"}},\"id\":\"6788\",\"type\":\"Line\"},{\"attributes\":{},\"id\":\"6784\",\"type\":\"Selection\"},{\"attributes\":{\"label\":{\"value\":\"\\u041a\\u043e\\u043b\\u0438\\u0447\\u0435\\u0441\\u0442\\u0432\\u043e \\u0433\\u0440\\u0430\\u043d\\u0442\\u043e\\u0432, \\u0432\\u044b\\u0434\\u0430\\u043d\\u043d\\u044b\\u0445 \\u0444\\u0438\\u0437\\u0438\\u0447\\u0435\\u0441\\u043a\\u0438\\u043c \\u0438 \\u044e\\u0440\\u0438\\u0434\\u0438\\u0447\\u0435\\u0441\\u043a\\u0438\\u043c \\u043b\\u0438\\u0446\\u0430\\u043c, \\u0432 \\u0440\\u0430\\u043c\\u043a\\u0430\\u0445 \\u0440\\u0435\\u0430\\u043b\\u0438\\u0437\\u0430\\u0446\\u0438\\u0438 \\u0433\\u043e\\u0441\\u0443\\u0434\\u0430\\u0440\\u0441\\u0442\\u0432\\u0435\\u043d\\u043d\\u043e\\u0439 \\u043c\\u043e\\u043b\\u043e\\u0434\\u0435\\u0436\\u043d\\u043e\\u0439 \\u043f\\u043e\\u043b\\u0438\\u0442\\u0438\\u043a\\u0438\"},\"renderers\":[{\"id\":\"6789\"}]},\"id\":\"6807\",\"type\":\"LegendItem\"},{\"attributes\":{\"line_color\":\"#6d904f\",\"line_width\":2,\"x\":{\"field\":\"index\"},\"y\":{\"field\":\"value\"}},\"id\":\"6786\",\"type\":\"Line\"},{\"attributes\":{},\"id\":\"6862\",\"type\":\"UnionRenderers\"},{\"attributes\":{\"source\":{\"id\":\"6783\"}},\"id\":\"6790\",\"type\":\"CDSView\"},{\"attributes\":{\"line_alpha\":0.1,\"line_color\":\"#6d904f\",\"line_width\":2,\"x\":{\"field\":\"index\"},\"y\":{\"field\":\"value\"}},\"id\":\"6787\",\"type\":\"Line\"},{\"attributes\":{\"coordinates\":null,\"data_source\":{\"id\":\"6899\"},\"glyph\":{\"id\":\"6902\"},\"group\":null,\"hover_glyph\":null,\"muted_glyph\":{\"id\":\"6904\"},\"nonselection_glyph\":{\"id\":\"6903\"},\"selection_glyph\":{\"id\":\"6932\"},\"view\":{\"id\":\"6906\"}},\"id\":\"6905\",\"type\":\"GlyphRenderer\"},{\"attributes\":{\"label\":{\"value\":\"\\u041a\\u043e\\u043b\\u0438\\u0447\\u0435\\u0441\\u0442\\u0432\\u043e \\u0440\\u0435\\u0433\\u0438\\u043e\\u043d\\u0430\\u043b\\u044c\\u043d\\u044b\\u0445 \\u043e\\u0431\\u0449\\u0435\\u0441\\u0442\\u0432\\u0435\\u043d\\u043d\\u044b\\u0445 \\u043e\\u0431\\u044a\\u0435\\u0434\\u0438\\u043d\\u0435\\u043d\\u0438\\u0439, \\u043f\\u043e\\u043b\\u044c\\u0437\\u0443\\u044e\\u0449\\u0438\\u0445\\u0441\\u044f \\u0433\\u043e\\u0441\\u0443\\u0434\\u0430\\u0440\\u0441\\u0442\\u0432\\u0435\\u043d\\u043d\\u043e\\u0439 \\u043f\\u043e\\u0434\\u0434\\u0435\\u0440\\u0436\\u043a\\u043e\\u0439\"},\"renderers\":[{\"id\":\"6843\"}]},\"id\":\"6865\",\"type\":\"LegendItem\"},{\"attributes\":{},\"id\":\"6711\",\"type\":\"BasicTickFormatter\"},{\"attributes\":{\"data\":{\"Variable\":[\"\\u041a\\u043e\\u043b\\u0438\\u0447\\u0435\\u0441\\u0442\\u0432\\u043e \\u0433\\u0440\\u0430\\u043d\\u0442\\u043e\\u0432, \\u0432\\u044b\\u0434\\u0430\\u043d\\u043d\\u044b\\u0445 \\u0444\\u0438\\u0437\\u0438\\u0447\\u0435\\u0441\\u043a\\u0438\\u043c \\u0438 \\u044e\\u0440\\u0438\\u0434\\u0438\\u0447\\u0435\\u0441\\u043a\\u0438\\u043c \\u043b\\u0438\\u0446\\u0430\\u043c, \\u0432 \\u0440\\u0430\\u043c\\u043a\\u0430\\u0445 \\u0440\\u0435\\u0430\\u043b\\u0438\\u0437\\u0430\\u0446\\u0438\\u0438 \\u0433\\u043e\\u0441\\u0443\\u0434\\u0430\\u0440\\u0441\\u0442\\u0432\\u0435\\u043d\\u043d\\u043e\\u0439 \\u043c\\u043e\\u043b\\u043e\\u0434\\u0435\\u0436\\u043d\\u043e\\u0439 \\u043f\\u043e\\u043b\\u0438\\u0442\\u0438\\u043a\\u0438\",\"\\u041a\\u043e\\u043b\\u0438\\u0447\\u0435\\u0441\\u0442\\u0432\\u043e \\u0433\\u0440\\u0430\\u043d\\u0442\\u043e\\u0432, \\u0432\\u044b\\u0434\\u0430\\u043d\\u043d\\u044b\\u0445 \\u0444\\u0438\\u0437\\u0438\\u0447\\u0435\\u0441\\u043a\\u0438\\u043c \\u0438 \\u044e\\u0440\\u0438\\u0434\\u0438\\u0447\\u0435\\u0441\\u043a\\u0438\\u043c \\u043b\\u0438\\u0446\\u0430\\u043c, \\u0432 \\u0440\\u0430\\u043c\\u043a\\u0430\\u0445 \\u0440\\u0435\\u0430\\u043b\\u0438\\u0437\\u0430\\u0446\\u0438\\u0438 \\u0433\\u043e\\u0441\\u0443\\u0434\\u0430\\u0440\\u0441\\u0442\\u0432\\u0435\\u043d\\u043d\\u043e\\u0439 \\u043c\\u043e\\u043b\\u043e\\u0434\\u0435\\u0436\\u043d\\u043e\\u0439 \\u043f\\u043e\\u043b\\u0438\\u0442\\u0438\\u043a\\u0438\",\"\\u041a\\u043e\\u043b\\u0438\\u0447\\u0435\\u0441\\u0442\\u0432\\u043e \\u0433\\u0440\\u0430\\u043d\\u0442\\u043e\\u0432, \\u0432\\u044b\\u0434\\u0430\\u043d\\u043d\\u044b\\u0445 \\u0444\\u0438\\u0437\\u0438\\u0447\\u0435\\u0441\\u043a\\u0438\\u043c \\u0438 \\u044e\\u0440\\u0438\\u0434\\u0438\\u0447\\u0435\\u0441\\u043a\\u0438\\u043c \\u043b\\u0438\\u0446\\u0430\\u043c, \\u0432 \\u0440\\u0430\\u043c\\u043a\\u0430\\u0445 \\u0440\\u0435\\u0430\\u043b\\u0438\\u0437\\u0430\\u0446\\u0438\\u0438 \\u0433\\u043e\\u0441\\u0443\\u0434\\u0430\\u0440\\u0441\\u0442\\u0432\\u0435\\u043d\\u043d\\u043e\\u0439 \\u043c\\u043e\\u043b\\u043e\\u0434\\u0435\\u0436\\u043d\\u043e\\u0439 \\u043f\\u043e\\u043b\\u0438\\u0442\\u0438\\u043a\\u0438\",\"\\u041a\\u043e\\u043b\\u0438\\u0447\\u0435\\u0441\\u0442\\u0432\\u043e \\u0433\\u0440\\u0430\\u043d\\u0442\\u043e\\u0432, \\u0432\\u044b\\u0434\\u0430\\u043d\\u043d\\u044b\\u0445 \\u0444\\u0438\\u0437\\u0438\\u0447\\u0435\\u0441\\u043a\\u0438\\u043c \\u0438 \\u044e\\u0440\\u0438\\u0434\\u0438\\u0447\\u0435\\u0441\\u043a\\u0438\\u043c \\u043b\\u0438\\u0446\\u0430\\u043c, \\u0432 \\u0440\\u0430\\u043c\\u043a\\u0430\\u0445 \\u0440\\u0435\\u0430\\u043b\\u0438\\u0437\\u0430\\u0446\\u0438\\u0438 \\u0433\\u043e\\u0441\\u0443\\u0434\\u0430\\u0440\\u0441\\u0442\\u0432\\u0435\\u043d\\u043d\\u043e\\u0439 \\u043c\\u043e\\u043b\\u043e\\u0434\\u0435\\u0436\\u043d\\u043e\\u0439 \\u043f\\u043e\\u043b\\u0438\\u0442\\u0438\\u043a\\u0438\",\"\\u041a\\u043e\\u043b\\u0438\\u0447\\u0435\\u0441\\u0442\\u0432\\u043e \\u0433\\u0440\\u0430\\u043d\\u0442\\u043e\\u0432, \\u0432\\u044b\\u0434\\u0430\\u043d\\u043d\\u044b\\u0445 \\u0444\\u0438\\u0437\\u0438\\u0447\\u0435\\u0441\\u043a\\u0438\\u043c \\u0438 \\u044e\\u0440\\u0438\\u0434\\u0438\\u0447\\u0435\\u0441\\u043a\\u0438\\u043c \\u043b\\u0438\\u0446\\u0430\\u043c, \\u0432 \\u0440\\u0430\\u043c\\u043a\\u0430\\u0445 \\u0440\\u0435\\u0430\\u043b\\u0438\\u0437\\u0430\\u0446\\u0438\\u0438 \\u0433\\u043e\\u0441\\u0443\\u0434\\u0430\\u0440\\u0441\\u0442\\u0432\\u0435\\u043d\\u043d\\u043e\\u0439 \\u043c\\u043e\\u043b\\u043e\\u0434\\u0435\\u0436\\u043d\\u043e\\u0439 \\u043f\\u043e\\u043b\\u0438\\u0442\\u0438\\u043a\\u0438\",\"\\u041a\\u043e\\u043b\\u0438\\u0447\\u0435\\u0441\\u0442\\u0432\\u043e \\u0433\\u0440\\u0430\\u043d\\u0442\\u043e\\u0432, \\u0432\\u044b\\u0434\\u0430\\u043d\\u043d\\u044b\\u0445 \\u0444\\u0438\\u0437\\u0438\\u0447\\u0435\\u0441\\u043a\\u0438\\u043c \\u0438 \\u044e\\u0440\\u0438\\u0434\\u0438\\u0447\\u0435\\u0441\\u043a\\u0438\\u043c \\u043b\\u0438\\u0446\\u0430\\u043c, \\u0432 \\u0440\\u0430\\u043c\\u043a\\u0430\\u0445 \\u0440\\u0435\\u0430\\u043b\\u0438\\u0437\\u0430\\u0446\\u0438\\u0438 \\u0433\\u043e\\u0441\\u0443\\u0434\\u0430\\u0440\\u0441\\u0442\\u0432\\u0435\\u043d\\u043d\\u043e\\u0439 \\u043c\\u043e\\u043b\\u043e\\u0434\\u0435\\u0436\\u043d\\u043e\\u0439 \\u043f\\u043e\\u043b\\u0438\\u0442\\u0438\\u043a\\u0438\"],\"index\":[1,2,3,4,5,6],\"value\":{\"__ndarray__\":\"AAAAAAD0uEAAAAAAAAu4QAAAAACAacJAAAAAAAAPxEAAAAAAgIXQQAAAAACAystA\",\"dtype\":\"float64\",\"order\":\"little\",\"shape\":[6]}},\"selected\":{\"id\":\"6784\"},\"selection_policy\":{\"id\":\"6804\"}},\"id\":\"6783\",\"type\":\"ColumnDataSource\"},{\"attributes\":{\"coordinates\":null,\"data_source\":{\"id\":\"6783\"},\"glyph\":{\"id\":\"6786\"},\"group\":null,\"hover_glyph\":null,\"muted_glyph\":{\"id\":\"6788\"},\"nonselection_glyph\":{\"id\":\"6787\"},\"selection_glyph\":{\"id\":\"6808\"},\"view\":{\"id\":\"6790\"}},\"id\":\"6789\",\"type\":\"GlyphRenderer\"},{\"attributes\":{},\"id\":\"6712\",\"type\":\"AllLabels\"},{\"attributes\":{},\"id\":\"7002\",\"type\":\"UnionRenderers\"},{\"attributes\":{\"line_alpha\":0.2,\"line_color\":\"#e377c2\",\"line_width\":2,\"x\":{\"field\":\"index\"},\"y\":{\"field\":\"value\"}},\"id\":\"6974\",\"type\":\"Line\"},{\"attributes\":{},\"id\":\"6970\",\"type\":\"Selection\"},{\"attributes\":{\"end\":6.0,\"reset_end\":6.0,\"reset_start\":1.0,\"start\":1.0,\"tags\":[[[\"index\",\"index\",null]]]},\"id\":\"6666\",\"type\":\"Range1d\"},{\"attributes\":{\"label\":{\"value\":\"\\u0427\\u0438\\u0441\\u043b\\u0435\\u043d\\u043d\\u043e\\u0441\\u0442\\u044c \\u0443\\u0447\\u0430\\u0441\\u0442\\u043d\\u0438\\u043a\\u043e\\u0432 \\u043c\\u043e\\u043b\\u043e\\u0434\\u0435\\u0436\\u043d\\u044b\\u0445 \\u0444\\u043e\\u0440\\u0443\\u043c\\u043e\\u0432\"},\"renderers\":[{\"id\":\"6975\"}]},\"id\":\"7005\",\"type\":\"LegendItem\"},{\"attributes\":{\"below\":[{\"id\":\"6689\"}],\"center\":[{\"id\":\"6692\"},{\"id\":\"6696\"}],\"height\":300,\"left\":[{\"id\":\"6693\"}],\"margin\":[5,5,5,5],\"min_border_bottom\":10,\"min_border_left\":10,\"min_border_right\":10,\"min_border_top\":10,\"renderers\":[{\"id\":\"6722\"},{\"id\":\"6743\"},{\"id\":\"6765\"},{\"id\":\"6789\"},{\"id\":\"6815\"},{\"id\":\"6843\"},{\"id\":\"6873\"},{\"id\":\"6905\"},{\"id\":\"6939\"},{\"id\":\"6975\"},{\"id\":\"7013\"},{\"id\":\"7053\"}],\"right\":[{\"id\":\"6734\"}],\"sizing_mode\":\"fixed\",\"title\":{\"id\":\"6681\"},\"toolbar\":{\"id\":\"6703\"},\"width\":700,\"x_range\":{\"id\":\"6666\"},\"x_scale\":{\"id\":\"6685\"},\"y_range\":{\"id\":\"6667\"},\"y_scale\":{\"id\":\"6687\"}},\"id\":\"6680\",\"subtype\":\"Figure\",\"type\":\"Plot\"},{\"attributes\":{\"line_color\":\"#e377c2\",\"line_width\":2,\"x\":{\"field\":\"index\"},\"y\":{\"field\":\"value\"}},\"id\":\"6972\",\"type\":\"Line\"},{\"attributes\":{\"source\":{\"id\":\"6969\"}},\"id\":\"6976\",\"type\":\"CDSView\"},{\"attributes\":{\"line_alpha\":0.1,\"line_color\":\"#e377c2\",\"line_width\":2,\"x\":{\"field\":\"index\"},\"y\":{\"field\":\"value\"}},\"id\":\"6973\",\"type\":\"Line\"},{\"attributes\":{},\"id\":\"6685\",\"type\":\"LinearScale\"},{\"attributes\":{\"source\":{\"id\":\"6837\"}},\"id\":\"6844\",\"type\":\"CDSView\"},{\"attributes\":{\"line_color\":\"#d62728\",\"line_width\":2,\"x\":{\"field\":\"index\"},\"y\":{\"field\":\"value\"}},\"id\":\"6902\",\"type\":\"Line\"},{\"attributes\":{},\"id\":\"6838\",\"type\":\"Selection\"},{\"attributes\":{\"line_color\":\"#6d904f\",\"line_width\":2,\"x\":{\"field\":\"index\"},\"y\":{\"field\":\"value\"}},\"id\":\"6808\",\"type\":\"Line\"},{\"attributes\":{\"callback\":null,\"renderers\":[{\"id\":\"6722\"},{\"id\":\"6743\"},{\"id\":\"6765\"},{\"id\":\"6789\"},{\"id\":\"6815\"},{\"id\":\"6843\"},{\"id\":\"6873\"},{\"id\":\"6905\"},{\"id\":\"6939\"},{\"id\":\"6975\"},{\"id\":\"7013\"},{\"id\":\"7053\"}],\"tags\":[\"hv_created\"],\"tooltips\":[[\"Variable\",\"@{Variable}\"],[\"index\",\"@{index}\"],[\"value\",\"@{value}\"]]},\"id\":\"6668\",\"type\":\"HoverTool\"},{\"attributes\":{\"coordinates\":null,\"data_source\":{\"id\":\"6969\"},\"glyph\":{\"id\":\"6972\"},\"group\":null,\"hover_glyph\":null,\"muted_glyph\":{\"id\":\"6974\"},\"nonselection_glyph\":{\"id\":\"6973\"},\"selection_glyph\":{\"id\":\"7006\"},\"view\":{\"id\":\"6976\"}},\"id\":\"6975\",\"type\":\"GlyphRenderer\"},{\"attributes\":{\"label\":{\"value\":\"\\u041a\\u043e\\u043b\\u0438\\u0447\\u0435\\u0441\\u0442\\u0432\\u043e \\u043e\\u0440\\u0433\\u0430\\u043d\\u043e\\u0432 \\u043c\\u043e\\u043b\\u043e\\u0434\\u0435\\u0436\\u043d\\u043e\\u0433\\u043e \\u0441\\u0430\\u043c\\u043e\\u0443\\u043f\\u0440\\u0430\\u0432\\u043b\\u0435\\u043d\\u0438\\u044f\"},\"renderers\":[{\"id\":\"6905\"}]},\"id\":\"6931\",\"type\":\"LegendItem\"},{\"attributes\":{\"source\":{\"id\":\"6867\"}},\"id\":\"6874\",\"type\":\"CDSView\"},{\"attributes\":{\"end\":20874455068.9,\"reset_end\":20874455068.9,\"reset_start\":-1897676585.9,\"start\":-1897676585.9,\"tags\":[[[\"value\",\"value\",null]]]},\"id\":\"6667\",\"type\":\"Range1d\"},{\"attributes\":{\"coordinates\":null,\"data_source\":{\"id\":\"6867\"},\"glyph\":{\"id\":\"6870\"},\"group\":null,\"hover_glyph\":null,\"muted_glyph\":{\"id\":\"6872\"},\"nonselection_glyph\":{\"id\":\"6871\"},\"selection_glyph\":{\"id\":\"6898\"},\"view\":{\"id\":\"6874\"}},\"id\":\"6873\",\"type\":\"GlyphRenderer\"},{\"attributes\":{},\"id\":\"6832\",\"type\":\"UnionRenderers\"},{\"attributes\":{\"line_alpha\":0.2,\"line_color\":\"#8b8b8b\",\"line_width\":2,\"x\":{\"field\":\"index\"},\"y\":{\"field\":\"value\"}},\"id\":\"6814\",\"type\":\"Line\"},{\"attributes\":{},\"id\":\"6810\",\"type\":\"Selection\"},{\"attributes\":{\"data\":{\"Variable\":[\"\\u0413\\u043e\\u0434\",\"\\u0413\\u043e\\u0434\",\"\\u0413\\u043e\\u0434\",\"\\u0413\\u043e\\u0434\",\"\\u0413\\u043e\\u0434\",\"\\u0413\\u043e\\u0434\"],\"index\":[1,2,3,4,5,6],\"value\":[2016,2017,2018,2019,2020,2021]},\"selected\":{\"id\":\"6717\"},\"selection_policy\":{\"id\":\"6731\"}},\"id\":\"6716\",\"type\":\"ColumnDataSource\"},{\"attributes\":{\"line_color\":\"#17becf\",\"line_width\":2,\"x\":{\"field\":\"index\"},\"y\":{\"field\":\"value\"}},\"id\":\"6840\",\"type\":\"Line\"},{\"attributes\":{\"line_color\":\"#9467bd\",\"line_width\":2,\"x\":{\"field\":\"index\"},\"y\":{\"field\":\"value\"}},\"id\":\"6898\",\"type\":\"Line\"},{\"attributes\":{\"label\":{\"value\":\"\\u041e\\u0431\\u044a\\u0435\\u043c \\u0433\\u0440\\u0430\\u043d\\u0442\\u043e\\u0432\\u044b\\u0445 \\u0441\\u0440\\u0435\\u0434\\u0441\\u0442\\u0432, \\u0432\\u044b\\u0434\\u0430\\u043d\\u043d\\u044b\\u0445 \\u0444\\u0438\\u0437\\u0438\\u0447\\u0435\\u0441\\u043a\\u0438\\u043c \\u0438 \\u044e\\u0440\\u0438\\u0434\\u0438\\u0447\\u0435\\u0441\\u043a\\u0438\\u043c \\u043b\\u0438\\u0446\\u0430\\u043c, \\u0432 \\u0440\\u0430\\u043c\\u043a\\u0430\\u0445 \\u0440\\u0435\\u0430\\u043b\\u0438\\u0437\\u0430\\u0446\\u0438\\u0438 \\u0433\\u043e\\u0441\\u0443\\u0434\\u0430\\u0440\\u0441\\u0442\\u0432\\u0435\\u043d\\u043d\\u043e\\u0439 \\u043c\\u043e\\u043b\\u043e\\u0434\\u0435\\u0436\\u043d\\u043e\\u0439 \\u043f\\u043e\\u043b\\u0438\\u0442\\u0438\\u043a\\u0438\"},\"renderers\":[{\"id\":\"6815\"}]},\"id\":\"6835\",\"type\":\"LegendItem\"},{\"attributes\":{\"line_color\":\"#8b8b8b\",\"line_width\":2,\"x\":{\"field\":\"index\"},\"y\":{\"field\":\"value\"}},\"id\":\"6812\",\"type\":\"Line\"},{\"attributes\":{\"label\":{\"value\":\"\\u0413\\u043e\\u0434\"},\"renderers\":[{\"id\":\"6722\"}]},\"id\":\"6735\",\"type\":\"LegendItem\"},{\"attributes\":{\"source\":{\"id\":\"6809\"}},\"id\":\"6816\",\"type\":\"CDSView\"},{\"attributes\":{\"line_alpha\":0.1,\"line_color\":\"#8b8b8b\",\"line_width\":2,\"x\":{\"field\":\"index\"},\"y\":{\"field\":\"value\"}},\"id\":\"6813\",\"type\":\"Line\"},{\"attributes\":{\"line_color\":\"#30a2da\",\"line_width\":2,\"x\":{\"field\":\"index\"},\"y\":{\"field\":\"value\"}},\"id\":\"6736\",\"type\":\"Line\"},{\"attributes\":{\"line_alpha\":0.2,\"line_color\":\"#17becf\",\"line_width\":2,\"x\":{\"field\":\"index\"},\"y\":{\"field\":\"value\"}},\"id\":\"6842\",\"type\":\"Line\"},{\"attributes\":{\"line_color\":\"#e377c2\",\"line_width\":2,\"x\":{\"field\":\"index\"},\"y\":{\"field\":\"value\"}},\"id\":\"7006\",\"type\":\"Line\"},{\"attributes\":{\"data\":{\"Variable\":[\"\\u041e\\u0431\\u044a\\u0435\\u043c \\u0433\\u0440\\u0430\\u043d\\u0442\\u043e\\u0432\\u044b\\u0445 \\u0441\\u0440\\u0435\\u0434\\u0441\\u0442\\u0432, \\u0432\\u044b\\u0434\\u0430\\u043d\\u043d\\u044b\\u0445 \\u0444\\u0438\\u0437\\u0438\\u0447\\u0435\\u0441\\u043a\\u0438\\u043c \\u0438 \\u044e\\u0440\\u0438\\u0434\\u0438\\u0447\\u0435\\u0441\\u043a\\u0438\\u043c \\u043b\\u0438\\u0446\\u0430\\u043c, \\u0432 \\u0440\\u0430\\u043c\\u043a\\u0430\\u0445 \\u0440\\u0435\\u0430\\u043b\\u0438\\u0437\\u0430\\u0446\\u0438\\u0438 \\u0433\\u043e\\u0441\\u0443\\u0434\\u0430\\u0440\\u0441\\u0442\\u0432\\u0435\\u043d\\u043d\\u043e\\u0439 \\u043c\\u043e\\u043b\\u043e\\u0434\\u0435\\u0436\\u043d\\u043e\\u0439 \\u043f\\u043e\\u043b\\u0438\\u0442\\u0438\\u043a\\u0438\",\"\\u041e\\u0431\\u044a\\u0435\\u043c \\u0433\\u0440\\u0430\\u043d\\u0442\\u043e\\u0432\\u044b\\u0445 \\u0441\\u0440\\u0435\\u0434\\u0441\\u0442\\u0432, \\u0432\\u044b\\u0434\\u0430\\u043d\\u043d\\u044b\\u0445 \\u0444\\u0438\\u0437\\u0438\\u0447\\u0435\\u0441\\u043a\\u0438\\u043c \\u0438 \\u044e\\u0440\\u0438\\u0434\\u0438\\u0447\\u0435\\u0441\\u043a\\u0438\\u043c \\u043b\\u0438\\u0446\\u0430\\u043c, \\u0432 \\u0440\\u0430\\u043c\\u043a\\u0430\\u0445 \\u0440\\u0435\\u0430\\u043b\\u0438\\u0437\\u0430\\u0446\\u0438\\u0438 \\u0433\\u043e\\u0441\\u0443\\u0434\\u0430\\u0440\\u0441\\u0442\\u0432\\u0435\\u043d\\u043d\\u043e\\u0439 \\u043c\\u043e\\u043b\\u043e\\u0434\\u0435\\u0436\\u043d\\u043e\\u0439 \\u043f\\u043e\\u043b\\u0438\\u0442\\u0438\\u043a\\u0438\",\"\\u041e\\u0431\\u044a\\u0435\\u043c \\u0433\\u0440\\u0430\\u043d\\u0442\\u043e\\u0432\\u044b\\u0445 \\u0441\\u0440\\u0435\\u0434\\u0441\\u0442\\u0432, \\u0432\\u044b\\u0434\\u0430\\u043d\\u043d\\u044b\\u0445 \\u0444\\u0438\\u0437\\u0438\\u0447\\u0435\\u0441\\u043a\\u0438\\u043c \\u0438 \\u044e\\u0440\\u0438\\u0434\\u0438\\u0447\\u0435\\u0441\\u043a\\u0438\\u043c \\u043b\\u0438\\u0446\\u0430\\u043c, \\u0432 \\u0440\\u0430\\u043c\\u043a\\u0430\\u0445 \\u0440\\u0435\\u0430\\u043b\\u0438\\u0437\\u0430\\u0446\\u0438\\u0438 \\u0433\\u043e\\u0441\\u0443\\u0434\\u0430\\u0440\\u0441\\u0442\\u0432\\u0435\\u043d\\u043d\\u043e\\u0439 \\u043c\\u043e\\u043b\\u043e\\u0434\\u0435\\u0436\\u043d\\u043e\\u0439 \\u043f\\u043e\\u043b\\u0438\\u0442\\u0438\\u043a\\u0438\",\"\\u041e\\u0431\\u044a\\u0435\\u043c \\u0433\\u0440\\u0430\\u043d\\u0442\\u043e\\u0432\\u044b\\u0445 \\u0441\\u0440\\u0435\\u0434\\u0441\\u0442\\u0432, \\u0432\\u044b\\u0434\\u0430\\u043d\\u043d\\u044b\\u0445 \\u0444\\u0438\\u0437\\u0438\\u0447\\u0435\\u0441\\u043a\\u0438\\u043c \\u0438 \\u044e\\u0440\\u0438\\u0434\\u0438\\u0447\\u0435\\u0441\\u043a\\u0438\\u043c \\u043b\\u0438\\u0446\\u0430\\u043c, \\u0432 \\u0440\\u0430\\u043c\\u043a\\u0430\\u0445 \\u0440\\u0435\\u0430\\u043b\\u0438\\u0437\\u0430\\u0446\\u0438\\u0438 \\u0433\\u043e\\u0441\\u0443\\u0434\\u0430\\u0440\\u0441\\u0442\\u0432\\u0435\\u043d\\u043d\\u043e\\u0439 \\u043c\\u043e\\u043b\\u043e\\u0434\\u0435\\u0436\\u043d\\u043e\\u0439 \\u043f\\u043e\\u043b\\u0438\\u0442\\u0438\\u043a\\u0438\",\"\\u041e\\u0431\\u044a\\u0435\\u043c \\u0433\\u0440\\u0430\\u043d\\u0442\\u043e\\u0432\\u044b\\u0445 \\u0441\\u0440\\u0435\\u0434\\u0441\\u0442\\u0432, \\u0432\\u044b\\u0434\\u0430\\u043d\\u043d\\u044b\\u0445 \\u0444\\u0438\\u0437\\u0438\\u0447\\u0435\\u0441\\u043a\\u0438\\u043c \\u0438 \\u044e\\u0440\\u0438\\u0434\\u0438\\u0447\\u0435\\u0441\\u043a\\u0438\\u043c \\u043b\\u0438\\u0446\\u0430\\u043c, \\u0432 \\u0440\\u0430\\u043c\\u043a\\u0430\\u0445 \\u0440\\u0435\\u0430\\u043b\\u0438\\u0437\\u0430\\u0446\\u0438\\u0438 \\u0433\\u043e\\u0441\\u0443\\u0434\\u0430\\u0440\\u0441\\u0442\\u0432\\u0435\\u043d\\u043d\\u043e\\u0439 \\u043c\\u043e\\u043b\\u043e\\u0434\\u0435\\u0436\\u043d\\u043e\\u0439 \\u043f\\u043e\\u043b\\u0438\\u0442\\u0438\\u043a\\u0438\",\"\\u041e\\u0431\\u044a\\u0435\\u043c \\u0433\\u0440\\u0430\\u043d\\u0442\\u043e\\u0432\\u044b\\u0445 \\u0441\\u0440\\u0435\\u0434\\u0441\\u0442\\u0432, \\u0432\\u044b\\u0434\\u0430\\u043d\\u043d\\u044b\\u0445 \\u0444\\u0438\\u0437\\u0438\\u0447\\u0435\\u0441\\u043a\\u0438\\u043c \\u0438 \\u044e\\u0440\\u0438\\u0434\\u0438\\u0447\\u0435\\u0441\\u043a\\u0438\\u043c \\u043b\\u0438\\u0446\\u0430\\u043c, \\u0432 \\u0440\\u0430\\u043c\\u043a\\u0430\\u0445 \\u0440\\u0435\\u0430\\u043b\\u0438\\u0437\\u0430\\u0446\\u0438\\u0438 \\u0433\\u043e\\u0441\\u0443\\u0434\\u0430\\u0440\\u0441\\u0442\\u0432\\u0435\\u043d\\u043d\\u043e\\u0439 \\u043c\\u043e\\u043b\\u043e\\u0434\\u0435\\u0436\\u043d\\u043e\\u0439 \\u043f\\u043e\\u043b\\u0438\\u0442\\u0438\\u043a\\u0438\"],\"index\":[1,2,3,4,5,6],\"value\":{\"__ndarray__\":\"H4W7+gHr0EE9CpdRNY/AQQAAAAM7fOZBAADQZTGG9UEAAGDn//z1QQAAoDdHyvFB\",\"dtype\":\"float64\",\"order\":\"little\",\"shape\":[6]}},\"selected\":{\"id\":\"6810\"},\"selection_policy\":{\"id\":\"6832\"}},\"id\":\"6809\",\"type\":\"ColumnDataSource\"},{\"attributes\":{},\"id\":\"6900\",\"type\":\"Selection\"},{\"attributes\":{\"label\":{\"value\":\"\\u041e\\u0431\\u044a\\u0435\\u043c \\u0444\\u0438\\u043d\\u0430\\u043d\\u0441\\u0438\\u0440\\u043e\\u0432\\u0430\\u043d\\u0438\\u044f \\u043c\\u043e\\u043b\\u043e\\u0434\\u0435\\u0436\\u043d\\u043e\\u0439 \\u043f\\u043e\\u043b\\u0438\\u0442\\u0438\\u043a\\u0438 \\u0438\\u0437 \\u0431\\u044e\\u0434\\u0436\\u0435\\u0442\\u0430 \\u0441\\u0443\\u0431\\u044a\\u0435\\u043a\\u0442\\u043e\\u0432 \\u0420\\u043e\\u0441\\u0441\\u0438\\u0439\\u0441\\u043a\\u043e\\u0439 \\u0424\\u0435\\u0434\\u0435\\u0440\\u0430\\u0446\\u0438\\u0438\"},\"renderers\":[{\"id\":\"6743\"}]},\"id\":\"6757\",\"type\":\"LegendItem\"},{\"attributes\":{\"coordinates\":null,\"data_source\":{\"id\":\"6809\"},\"glyph\":{\"id\":\"6812\"},\"group\":null,\"hover_glyph\":null,\"muted_glyph\":{\"id\":\"6814\"},\"nonselection_glyph\":{\"id\":\"6813\"},\"selection_glyph\":{\"id\":\"6836\"},\"view\":{\"id\":\"6816\"}},\"id\":\"6815\",\"type\":\"GlyphRenderer\"},{\"attributes\":{},\"id\":\"7042\",\"type\":\"UnionRenderers\"},{\"attributes\":{},\"id\":\"6894\",\"type\":\"UnionRenderers\"},{\"attributes\":{\"line_alpha\":0.2,\"line_color\":\"#fc4f30\",\"line_width\":2,\"x\":{\"field\":\"index\"},\"y\":{\"field\":\"value\"}},\"id\":\"6742\",\"type\":\"Line\"},{\"attributes\":{\"coordinates\":null,\"group\":null,\"text_color\":\"black\",\"text_font_size\":\"12pt\"},\"id\":\"6681\",\"type\":\"Title\"},{\"attributes\":{},\"id\":\"6738\",\"type\":\"Selection\"},{\"attributes\":{\"axis\":{\"id\":\"6689\"},\"coordinates\":null,\"grid_line_color\":null,\"group\":null,\"ticker\":null},\"id\":\"6692\",\"type\":\"Grid\"},{\"attributes\":{\"line_alpha\":0.2,\"line_color\":\"#8c564b\",\"line_width\":2,\"x\":{\"field\":\"index\"},\"y\":{\"field\":\"value\"}},\"id\":\"7012\",\"type\":\"Line\"},{\"attributes\":{},\"id\":\"6699\",\"type\":\"WheelZoomTool\"},{\"attributes\":{\"line_color\":\"#17becf\",\"line_width\":2,\"x\":{\"field\":\"index\"},\"y\":{\"field\":\"value\"}},\"id\":\"6866\",\"type\":\"Line\"},{\"attributes\":{\"children\":[{\"id\":\"6680\"}],\"height\":300,\"margin\":[0,0,0,0],\"name\":\"Row20434\",\"sizing_mode\":\"fixed\",\"tags\":[\"embedded\"],\"width\":700},\"id\":\"6665\",\"type\":\"Row\"},{\"attributes\":{},\"id\":\"6698\",\"type\":\"PanTool\"},{\"attributes\":{},\"id\":\"7008\",\"type\":\"Selection\"},{\"attributes\":{},\"id\":\"6687\",\"type\":\"LinearScale\"},{\"attributes\":{\"data\":{\"Variable\":[\"\\u041a\\u043e\\u043b\\u0438\\u0447\\u0435\\u0441\\u0442\\u0432\\u043e \\u043e\\u0440\\u0433\\u0430\\u043d\\u043e\\u0432 \\u043c\\u043e\\u043b\\u043e\\u0434\\u0435\\u0436\\u043d\\u043e\\u0433\\u043e \\u0441\\u0430\\u043c\\u043e\\u0443\\u043f\\u0440\\u0430\\u0432\\u043b\\u0435\\u043d\\u0438\\u044f\",\"\\u041a\\u043e\\u043b\\u0438\\u0447\\u0435\\u0441\\u0442\\u0432\\u043e \\u043e\\u0440\\u0433\\u0430\\u043d\\u043e\\u0432 \\u043c\\u043e\\u043b\\u043e\\u0434\\u0435\\u0436\\u043d\\u043e\\u0433\\u043e \\u0441\\u0430\\u043c\\u043e\\u0443\\u043f\\u0440\\u0430\\u0432\\u043b\\u0435\\u043d\\u0438\\u044f\",\"\\u041a\\u043e\\u043b\\u0438\\u0447\\u0435\\u0441\\u0442\\u0432\\u043e \\u043e\\u0440\\u0433\\u0430\\u043d\\u043e\\u0432 \\u043c\\u043e\\u043b\\u043e\\u0434\\u0435\\u0436\\u043d\\u043e\\u0433\\u043e \\u0441\\u0430\\u043c\\u043e\\u0443\\u043f\\u0440\\u0430\\u0432\\u043b\\u0435\\u043d\\u0438\\u044f\",\"\\u041a\\u043e\\u043b\\u0438\\u0447\\u0435\\u0441\\u0442\\u0432\\u043e \\u043e\\u0440\\u0433\\u0430\\u043d\\u043e\\u0432 \\u043c\\u043e\\u043b\\u043e\\u0434\\u0435\\u0436\\u043d\\u043e\\u0433\\u043e \\u0441\\u0430\\u043c\\u043e\\u0443\\u043f\\u0440\\u0430\\u0432\\u043b\\u0435\\u043d\\u0438\\u044f\",\"\\u041a\\u043e\\u043b\\u0438\\u0447\\u0435\\u0441\\u0442\\u0432\\u043e \\u043e\\u0440\\u0433\\u0430\\u043d\\u043e\\u0432 \\u043c\\u043e\\u043b\\u043e\\u0434\\u0435\\u0436\\u043d\\u043e\\u0433\\u043e \\u0441\\u0430\\u043c\\u043e\\u0443\\u043f\\u0440\\u0430\\u0432\\u043b\\u0435\\u043d\\u0438\\u044f\",\"\\u041a\\u043e\\u043b\\u0438\\u0447\\u0435\\u0441\\u0442\\u0432\\u043e \\u043e\\u0440\\u0433\\u0430\\u043d\\u043e\\u0432 \\u043c\\u043e\\u043b\\u043e\\u0434\\u0435\\u0436\\u043d\\u043e\\u0433\\u043e \\u0441\\u0430\\u043c\\u043e\\u0443\\u043f\\u0440\\u0430\\u0432\\u043b\\u0435\\u043d\\u0438\\u044f\"],\"index\":[1,2,3,4,5,6],\"value\":{\"__ndarray__\":\"AAAAAACOrUAAAAAAAKWzQAAAAAAAobNAAAAAAABJskAAAAAAAHmxQAAAAAAA+bBA\",\"dtype\":\"float64\",\"order\":\"little\",\"shape\":[6]}},\"selected\":{\"id\":\"6900\"},\"selection_policy\":{\"id\":\"6928\"}},\"id\":\"6899\",\"type\":\"ColumnDataSource\"},{\"attributes\":{\"line_color\":\"#fc4f30\",\"line_width\":2,\"x\":{\"field\":\"index\"},\"y\":{\"field\":\"value\"}},\"id\":\"6740\",\"type\":\"Line\"},{\"attributes\":{\"axis_label\":\"\",\"coordinates\":null,\"formatter\":{\"id\":\"6711\"},\"group\":null,\"major_label_policy\":{\"id\":\"6712\"},\"ticker\":{\"id\":\"6690\"}},\"id\":\"6689\",\"type\":\"LinearAxis\"},{\"attributes\":{\"source\":{\"id\":\"6737\"}},\"id\":\"6744\",\"type\":\"CDSView\"},{\"attributes\":{\"label\":{\"value\":\"\\u041e\\u0431\\u044a\\u0435\\u043c \\u0444\\u0438\\u043d\\u0430\\u043d\\u0441\\u0438\\u0440\\u043e\\u0432\\u0430\\u043d\\u0438\\u044f \\u043c\\u043e\\u043b\\u043e\\u0434\\u0435\\u0436\\u043d\\u044b\\u0445 \\u0444\\u043e\\u0440\\u0443\\u043c\\u043e\\u0432 \\u0438\\u0437 \\u0441\\u0440\\u0435\\u0434\\u0441\\u0442\\u0432 \\u0431\\u044e\\u0434\\u0436\\u0435\\u0442\\u043e\\u0432 \\u0441\\u0443\\u0431\\u044a\\u0435\\u043a\\u0442\\u043e\\u0432 \\u0420\\u043e\\u0441\\u0441\\u0438\\u0439\\u0441\\u043a\\u043e\\u0439 \\u0424\\u0435\\u0434\\u0435\\u0440\\u0430\\u0446\\u0438\\u0438\"},\"renderers\":[{\"id\":\"7013\"}]},\"id\":\"7045\",\"type\":\"LegendItem\"},{\"attributes\":{\"line_alpha\":0.1,\"line_color\":\"#fc4f30\",\"line_width\":2,\"x\":{\"field\":\"index\"},\"y\":{\"field\":\"value\"}},\"id\":\"6741\",\"type\":\"Line\"},{\"attributes\":{\"axis\":{\"id\":\"6693\"},\"coordinates\":null,\"dimension\":1,\"grid_line_color\":null,\"group\":null,\"ticker\":null},\"id\":\"6696\",\"type\":\"Grid\"},{\"attributes\":{\"line_color\":\"#8c564b\",\"line_width\":2,\"x\":{\"field\":\"index\"},\"y\":{\"field\":\"value\"}},\"id\":\"7010\",\"type\":\"Line\"},{\"attributes\":{},\"id\":\"6690\",\"type\":\"BasicTicker\"},{\"attributes\":{\"source\":{\"id\":\"7007\"}},\"id\":\"7014\",\"type\":\"CDSView\"},{\"attributes\":{},\"id\":\"6694\",\"type\":\"BasicTicker\"},{\"attributes\":{\"label\":{\"value\":\"\\u041a\\u043e\\u043b\\u0438\\u0447\\u0435\\u0441\\u0442\\u0432\\u043e \\u043c\\u0435\\u0441\\u0442\\u043d\\u044b\\u0445 \\u043e\\u0431\\u0449\\u0435\\u0441\\u0442\\u0432\\u0435\\u043d\\u043d\\u044b\\u0445 \\u043e\\u0431\\u044a\\u0435\\u0434\\u0438\\u043d\\u0435\\u043d\\u0438\\u0439, \\u043f\\u043e\\u043b\\u044c\\u0437\\u0443\\u044e\\u0449\\u0438\\u0445\\u0441\\u044f \\u043f\\u043e\\u0434\\u0434\\u0435\\u0440\\u0436\\u043a\\u043e\\u0439\"},\"renderers\":[{\"id\":\"6873\"}]},\"id\":\"6897\",\"type\":\"LegendItem\"},{\"attributes\":{\"line_alpha\":0.1,\"line_color\":\"#8c564b\",\"line_width\":2,\"x\":{\"field\":\"index\"},\"y\":{\"field\":\"value\"}},\"id\":\"7011\",\"type\":\"Line\"},{\"attributes\":{\"axis_label\":\"\",\"coordinates\":null,\"formatter\":{\"id\":\"6714\"},\"group\":null,\"major_label_policy\":{\"id\":\"6715\"},\"ticker\":{\"id\":\"6694\"}},\"id\":\"6693\",\"type\":\"LinearAxis\"},{\"attributes\":{},\"id\":\"6754\",\"type\":\"UnionRenderers\"},{\"attributes\":{\"data\":{\"Variable\":[\"\\u041a\\u043e\\u043b\\u0438\\u0447\\u0435\\u0441\\u0442\\u0432\\u043e \\u043c\\u0435\\u0441\\u0442\\u043d\\u044b\\u0445 \\u043e\\u0431\\u0449\\u0435\\u0441\\u0442\\u0432\\u0435\\u043d\\u043d\\u044b\\u0445 \\u043e\\u0431\\u044a\\u0435\\u0434\\u0438\\u043d\\u0435\\u043d\\u0438\\u0439, \\u043f\\u043e\\u043b\\u044c\\u0437\\u0443\\u044e\\u0449\\u0438\\u0445\\u0441\\u044f \\u043f\\u043e\\u0434\\u0434\\u0435\\u0440\\u0436\\u043a\\u043e\\u0439\",\"\\u041a\\u043e\\u043b\\u0438\\u0447\\u0435\\u0441\\u0442\\u0432\\u043e \\u043c\\u0435\\u0441\\u0442\\u043d\\u044b\\u0445 \\u043e\\u0431\\u0449\\u0435\\u0441\\u0442\\u0432\\u0435\\u043d\\u043d\\u044b\\u0445 \\u043e\\u0431\\u044a\\u0435\\u0434\\u0438\\u043d\\u0435\\u043d\\u0438\\u0439, \\u043f\\u043e\\u043b\\u044c\\u0437\\u0443\\u044e\\u0449\\u0438\\u0445\\u0441\\u044f \\u043f\\u043e\\u0434\\u0434\\u0435\\u0440\\u0436\\u043a\\u043e\\u0439\",\"\\u041a\\u043e\\u043b\\u0438\\u0447\\u0435\\u0441\\u0442\\u0432\\u043e \\u043c\\u0435\\u0441\\u0442\\u043d\\u044b\\u0445 \\u043e\\u0431\\u0449\\u0435\\u0441\\u0442\\u0432\\u0435\\u043d\\u043d\\u044b\\u0445 \\u043e\\u0431\\u044a\\u0435\\u0434\\u0438\\u043d\\u0435\\u043d\\u0438\\u0439, \\u043f\\u043e\\u043b\\u044c\\u0437\\u0443\\u044e\\u0449\\u0438\\u0445\\u0441\\u044f \\u043f\\u043e\\u0434\\u0434\\u0435\\u0440\\u0436\\u043a\\u043e\\u0439\",\"\\u041a\\u043e\\u043b\\u0438\\u0447\\u0435\\u0441\\u0442\\u0432\\u043e \\u043c\\u0435\\u0441\\u0442\\u043d\\u044b\\u0445 \\u043e\\u0431\\u0449\\u0435\\u0441\\u0442\\u0432\\u0435\\u043d\\u043d\\u044b\\u0445 \\u043e\\u0431\\u044a\\u0435\\u0434\\u0438\\u043d\\u0435\\u043d\\u0438\\u0439, \\u043f\\u043e\\u043b\\u044c\\u0437\\u0443\\u044e\\u0449\\u0438\\u0445\\u0441\\u044f \\u043f\\u043e\\u0434\\u0434\\u0435\\u0440\\u0436\\u043a\\u043e\\u0439\",\"\\u041a\\u043e\\u043b\\u0438\\u0447\\u0435\\u0441\\u0442\\u0432\\u043e \\u043c\\u0435\\u0441\\u0442\\u043d\\u044b\\u0445 \\u043e\\u0431\\u0449\\u0435\\u0441\\u0442\\u0432\\u0435\\u043d\\u043d\\u044b\\u0445 \\u043e\\u0431\\u044a\\u0435\\u0434\\u0438\\u043d\\u0435\\u043d\\u0438\\u0439, \\u043f\\u043e\\u043b\\u044c\\u0437\\u0443\\u044e\\u0449\\u0438\\u0445\\u0441\\u044f \\u043f\\u043e\\u0434\\u0434\\u0435\\u0440\\u0436\\u043a\\u043e\\u0439\",\"\\u041a\\u043e\\u043b\\u0438\\u0447\\u0435\\u0441\\u0442\\u0432\\u043e \\u043c\\u0435\\u0441\\u0442\\u043d\\u044b\\u0445 \\u043e\\u0431\\u0449\\u0435\\u0441\\u0442\\u0432\\u0435\\u043d\\u043d\\u044b\\u0445 \\u043e\\u0431\\u044a\\u0435\\u0434\\u0438\\u043d\\u0435\\u043d\\u0438\\u0439, \\u043f\\u043e\\u043b\\u044c\\u0437\\u0443\\u044e\\u0449\\u0438\\u0445\\u0441\\u044f \\u043f\\u043e\\u0434\\u0434\\u0435\\u0440\\u0436\\u043a\\u043e\\u0439\"],\"index\":[1,2,3,4,5,6],\"value\":{\"__ndarray__\":\"AAAAAADAqkAAAAAAABisQAAAAAAAXqpAAAAAAACur0AAAAAAAN+wQAAAAAAAILBA\",\"dtype\":\"float64\",\"order\":\"little\",\"shape\":[6]}},\"selected\":{\"id\":\"6868\"},\"selection_policy\":{\"id\":\"6894\"}},\"id\":\"6867\",\"type\":\"ColumnDataSource\"},{\"attributes\":{},\"id\":\"6697\",\"type\":\"SaveTool\"},{\"attributes\":{\"coordinates\":null,\"data_source\":{\"id\":\"6737\"},\"glyph\":{\"id\":\"6740\"},\"group\":null,\"hover_glyph\":null,\"muted_glyph\":{\"id\":\"6742\"},\"nonselection_glyph\":{\"id\":\"6741\"},\"selection_glyph\":{\"id\":\"6758\"},\"view\":{\"id\":\"6744\"}},\"id\":\"6743\",\"type\":\"GlyphRenderer\"},{\"attributes\":{\"overlay\":{\"id\":\"6702\"}},\"id\":\"6700\",\"type\":\"BoxZoomTool\"},{\"attributes\":{\"data\":{\"Variable\":[\"\\u041e\\u0431\\u044a\\u0435\\u043c \\u0444\\u0438\\u043d\\u0430\\u043d\\u0441\\u0438\\u0440\\u043e\\u0432\\u0430\\u043d\\u0438\\u044f \\u043c\\u043e\\u043b\\u043e\\u0434\\u0435\\u0436\\u043d\\u044b\\u0445 \\u0444\\u043e\\u0440\\u0443\\u043c\\u043e\\u0432 \\u0438\\u0437 \\u0441\\u0440\\u0435\\u0434\\u0441\\u0442\\u0432 \\u0431\\u044e\\u0434\\u0436\\u0435\\u0442\\u043e\\u0432 \\u0441\\u0443\\u0431\\u044a\\u0435\\u043a\\u0442\\u043e\\u0432 \\u0420\\u043e\\u0441\\u0441\\u0438\\u0439\\u0441\\u043a\\u043e\\u0439 \\u0424\\u0435\\u0434\\u0435\\u0440\\u0430\\u0446\\u0438\\u0438\",\"\\u041e\\u0431\\u044a\\u0435\\u043c \\u0444\\u0438\\u043d\\u0430\\u043d\\u0441\\u0438\\u0440\\u043e\\u0432\\u0430\\u043d\\u0438\\u044f \\u043c\\u043e\\u043b\\u043e\\u0434\\u0435\\u0436\\u043d\\u044b\\u0445 \\u0444\\u043e\\u0440\\u0443\\u043c\\u043e\\u0432 \\u0438\\u0437 \\u0441\\u0440\\u0435\\u0434\\u0441\\u0442\\u0432 \\u0431\\u044e\\u0434\\u0436\\u0435\\u0442\\u043e\\u0432 \\u0441\\u0443\\u0431\\u044a\\u0435\\u043a\\u0442\\u043e\\u0432 \\u0420\\u043e\\u0441\\u0441\\u0438\\u0439\\u0441\\u043a\\u043e\\u0439 \\u0424\\u0435\\u0434\\u0435\\u0440\\u0430\\u0446\\u0438\\u0438\",\"\\u041e\\u0431\\u044a\\u0435\\u043c \\u0444\\u0438\\u043d\\u0430\\u043d\\u0441\\u0438\\u0440\\u043e\\u0432\\u0430\\u043d\\u0438\\u044f \\u043c\\u043e\\u043b\\u043e\\u0434\\u0435\\u0436\\u043d\\u044b\\u0445 \\u0444\\u043e\\u0440\\u0443\\u043c\\u043e\\u0432 \\u0438\\u0437 \\u0441\\u0440\\u0435\\u0434\\u0441\\u0442\\u0432 \\u0431\\u044e\\u0434\\u0436\\u0435\\u0442\\u043e\\u0432 \\u0441\\u0443\\u0431\\u044a\\u0435\\u043a\\u0442\\u043e\\u0432 \\u0420\\u043e\\u0441\\u0441\\u0438\\u0439\\u0441\\u043a\\u043e\\u0439 \\u0424\\u0435\\u0434\\u0435\\u0440\\u0430\\u0446\\u0438\\u0438\",\"\\u041e\\u0431\\u044a\\u0435\\u043c \\u0444\\u0438\\u043d\\u0430\\u043d\\u0441\\u0438\\u0440\\u043e\\u0432\\u0430\\u043d\\u0438\\u044f \\u043c\\u043e\\u043b\\u043e\\u0434\\u0435\\u0436\\u043d\\u044b\\u0445 \\u0444\\u043e\\u0440\\u0443\\u043c\\u043e\\u0432 \\u0438\\u0437 \\u0441\\u0440\\u0435\\u0434\\u0441\\u0442\\u0432 \\u0431\\u044e\\u0434\\u0436\\u0435\\u0442\\u043e\\u0432 \\u0441\\u0443\\u0431\\u044a\\u0435\\u043a\\u0442\\u043e\\u0432 \\u0420\\u043e\\u0441\\u0441\\u0438\\u0439\\u0441\\u043a\\u043e\\u0439 \\u0424\\u0435\\u0434\\u0435\\u0440\\u0430\\u0446\\u0438\\u0438\",\"\\u041e\\u0431\\u044a\\u0435\\u043c \\u0444\\u0438\\u043d\\u0430\\u043d\\u0441\\u0438\\u0440\\u043e\\u0432\\u0430\\u043d\\u0438\\u044f \\u043c\\u043e\\u043b\\u043e\\u0434\\u0435\\u0436\\u043d\\u044b\\u0445 \\u0444\\u043e\\u0440\\u0443\\u043c\\u043e\\u0432 \\u0438\\u0437 \\u0441\\u0440\\u0435\\u0434\\u0441\\u0442\\u0432 \\u0431\\u044e\\u0434\\u0436\\u0435\\u0442\\u043e\\u0432 \\u0441\\u0443\\u0431\\u044a\\u0435\\u043a\\u0442\\u043e\\u0432 \\u0420\\u043e\\u0441\\u0441\\u0438\\u0439\\u0441\\u043a\\u043e\\u0439 \\u0424\\u0435\\u0434\\u0435\\u0440\\u0430\\u0446\\u0438\\u0438\",\"\\u041e\\u0431\\u044a\\u0435\\u043c \\u0444\\u0438\\u043d\\u0430\\u043d\\u0441\\u0438\\u0440\\u043e\\u0432\\u0430\\u043d\\u0438\\u044f \\u043c\\u043e\\u043b\\u043e\\u0434\\u0435\\u0436\\u043d\\u044b\\u0445 \\u0444\\u043e\\u0440\\u0443\\u043c\\u043e\\u0432 \\u0438\\u0437 \\u0441\\u0440\\u0435\\u0434\\u0441\\u0442\\u0432 \\u0431\\u044e\\u0434\\u0436\\u0435\\u0442\\u043e\\u0432 \\u0441\\u0443\\u0431\\u044a\\u0435\\u043a\\u0442\\u043e\\u0432 \\u0420\\u043e\\u0441\\u0441\\u0438\\u0439\\u0441\\u043a\\u043e\\u0439 \\u0424\\u0435\\u0434\\u0435\\u0440\\u0430\\u0446\\u0438\\u0438\"],\"index\":[1,2,3,4,5,6],\"value\":{\"__ndarray__\":\"ZmYmi5egx0FxPcrQbOvKQZqZma2vjtBBmpmZhIwD00FSuB6djtzKQTMzMx3QM9FB\",\"dtype\":\"float64\",\"order\":\"little\",\"shape\":[6]}},\"selected\":{\"id\":\"7008\"},\"selection_policy\":{\"id\":\"7042\"}},\"id\":\"7007\",\"type\":\"ColumnDataSource\"},{\"attributes\":{\"line_color\":\"#8b8b8b\",\"line_width\":2,\"x\":{\"field\":\"index\"},\"y\":{\"field\":\"value\"}},\"id\":\"6836\",\"type\":\"Line\"},{\"attributes\":{},\"id\":\"6701\",\"type\":\"ResetTool\"},{\"attributes\":{\"coordinates\":null,\"data_source\":{\"id\":\"7007\"},\"glyph\":{\"id\":\"7010\"},\"group\":null,\"hover_glyph\":null,\"muted_glyph\":{\"id\":\"7012\"},\"nonselection_glyph\":{\"id\":\"7011\"},\"selection_glyph\":{\"id\":\"7046\"},\"view\":{\"id\":\"7014\"}},\"id\":\"7013\",\"type\":\"GlyphRenderer\"},{\"attributes\":{\"bottom_units\":\"screen\",\"coordinates\":null,\"fill_alpha\":0.5,\"fill_color\":\"lightgrey\",\"group\":null,\"left_units\":\"screen\",\"level\":\"overlay\",\"line_alpha\":1.0,\"line_color\":\"black\",\"line_dash\":[4,4],\"line_width\":2,\"right_units\":\"screen\",\"syncable\":false,\"top_units\":\"screen\"},\"id\":\"6702\",\"type\":\"BoxAnnotation\"},{\"attributes\":{\"data\":{\"Variable\":[\"\\u041a\\u043e\\u043b\\u0438\\u0447\\u0435\\u0441\\u0442\\u0432\\u043e \\u0440\\u0435\\u0433\\u0438\\u043e\\u043d\\u0430\\u043b\\u044c\\u043d\\u044b\\u0445 \\u043e\\u0431\\u0449\\u0435\\u0441\\u0442\\u0432\\u0435\\u043d\\u043d\\u044b\\u0445 \\u043e\\u0431\\u044a\\u0435\\u0434\\u0438\\u043d\\u0435\\u043d\\u0438\\u0439, \\u043f\\u043e\\u043b\\u044c\\u0437\\u0443\\u044e\\u0449\\u0438\\u0445\\u0441\\u044f \\u0433\\u043e\\u0441\\u0443\\u0434\\u0430\\u0440\\u0441\\u0442\\u0432\\u0435\\u043d\\u043d\\u043e\\u0439 \\u043f\\u043e\\u0434\\u0434\\u0435\\u0440\\u0436\\u043a\\u043e\\u0439\",\"\\u041a\\u043e\\u043b\\u0438\\u0447\\u0435\\u0441\\u0442\\u0432\\u043e \\u0440\\u0435\\u0433\\u0438\\u043e\\u043d\\u0430\\u043b\\u044c\\u043d\\u044b\\u0445 \\u043e\\u0431\\u0449\\u0435\\u0441\\u0442\\u0432\\u0435\\u043d\\u043d\\u044b\\u0445 \\u043e\\u0431\\u044a\\u0435\\u0434\\u0438\\u043d\\u0435\\u043d\\u0438\\u0439, \\u043f\\u043e\\u043b\\u044c\\u0437\\u0443\\u044e\\u0449\\u0438\\u0445\\u0441\\u044f \\u0433\\u043e\\u0441\\u0443\\u0434\\u0430\\u0440\\u0441\\u0442\\u0432\\u0435\\u043d\\u043d\\u043e\\u0439 \\u043f\\u043e\\u0434\\u0434\\u0435\\u0440\\u0436\\u043a\\u043e\\u0439\",\"\\u041a\\u043e\\u043b\\u0438\\u0447\\u0435\\u0441\\u0442\\u0432\\u043e \\u0440\\u0435\\u0433\\u0438\\u043e\\u043d\\u0430\\u043b\\u044c\\u043d\\u044b\\u0445 \\u043e\\u0431\\u0449\\u0435\\u0441\\u0442\\u0432\\u0435\\u043d\\u043d\\u044b\\u0445 \\u043e\\u0431\\u044a\\u0435\\u0434\\u0438\\u043d\\u0435\\u043d\\u0438\\u0439, \\u043f\\u043e\\u043b\\u044c\\u0437\\u0443\\u044e\\u0449\\u0438\\u0445\\u0441\\u044f \\u0433\\u043e\\u0441\\u0443\\u0434\\u0430\\u0440\\u0441\\u0442\\u0432\\u0435\\u043d\\u043d\\u043e\\u0439 \\u043f\\u043e\\u0434\\u0434\\u0435\\u0440\\u0436\\u043a\\u043e\\u0439\",\"\\u041a\\u043e\\u043b\\u0438\\u0447\\u0435\\u0441\\u0442\\u0432\\u043e \\u0440\\u0435\\u0433\\u0438\\u043e\\u043d\\u0430\\u043b\\u044c\\u043d\\u044b\\u0445 \\u043e\\u0431\\u0449\\u0435\\u0441\\u0442\\u0432\\u0435\\u043d\\u043d\\u044b\\u0445 \\u043e\\u0431\\u044a\\u0435\\u0434\\u0438\\u043d\\u0435\\u043d\\u0438\\u0439, \\u043f\\u043e\\u043b\\u044c\\u0437\\u0443\\u044e\\u0449\\u0438\\u0445\\u0441\\u044f \\u0433\\u043e\\u0441\\u0443\\u0434\\u0430\\u0440\\u0441\\u0442\\u0432\\u0435\\u043d\\u043d\\u043e\\u0439 \\u043f\\u043e\\u0434\\u0434\\u0435\\u0440\\u0436\\u043a\\u043e\\u0439\",\"\\u041a\\u043e\\u043b\\u0438\\u0447\\u0435\\u0441\\u0442\\u0432\\u043e \\u0440\\u0435\\u0433\\u0438\\u043e\\u043d\\u0430\\u043b\\u044c\\u043d\\u044b\\u0445 \\u043e\\u0431\\u0449\\u0435\\u0441\\u0442\\u0432\\u0435\\u043d\\u043d\\u044b\\u0445 \\u043e\\u0431\\u044a\\u0435\\u0434\\u0438\\u043d\\u0435\\u043d\\u0438\\u0439, \\u043f\\u043e\\u043b\\u044c\\u0437\\u0443\\u044e\\u0449\\u0438\\u0445\\u0441\\u044f \\u0433\\u043e\\u0441\\u0443\\u0434\\u0430\\u0440\\u0441\\u0442\\u0432\\u0435\\u043d\\u043d\\u043e\\u0439 \\u043f\\u043e\\u0434\\u0434\\u0435\\u0440\\u0436\\u043a\\u043e\\u0439\",\"\\u041a\\u043e\\u043b\\u0438\\u0447\\u0435\\u0441\\u0442\\u0432\\u043e \\u0440\\u0435\\u0433\\u0438\\u043e\\u043d\\u0430\\u043b\\u044c\\u043d\\u044b\\u0445 \\u043e\\u0431\\u0449\\u0435\\u0441\\u0442\\u0432\\u0435\\u043d\\u043d\\u044b\\u0445 \\u043e\\u0431\\u044a\\u0435\\u0434\\u0438\\u043d\\u0435\\u043d\\u0438\\u0439, \\u043f\\u043e\\u043b\\u044c\\u0437\\u0443\\u044e\\u0449\\u0438\\u0445\\u0441\\u044f \\u0433\\u043e\\u0441\\u0443\\u0434\\u0430\\u0440\\u0441\\u0442\\u0432\\u0435\\u043d\\u043d\\u043e\\u0439 \\u043f\\u043e\\u0434\\u0434\\u0435\\u0440\\u0436\\u043a\\u043e\\u0439\"],\"index\":[1,2,3,4,5,6],\"value\":{\"__ndarray__\":\"AAAAAABImUAAAAAAAHCQQAAAAAAADJRAAAAAAAAzs0AAAAAAAFKyQAAAAAAAGJJA\",\"dtype\":\"float64\",\"order\":\"little\",\"shape\":[6]}},\"selected\":{\"id\":\"6838\"},\"selection_policy\":{\"id\":\"6862\"}},\"id\":\"6837\",\"type\":\"ColumnDataSource\"},{\"attributes\":{\"source\":{\"id\":\"6899\"}},\"id\":\"6906\",\"type\":\"CDSView\"},{\"attributes\":{\"tools\":[{\"id\":\"6668\"},{\"id\":\"6697\"},{\"id\":\"6698\"},{\"id\":\"6699\"},{\"id\":\"6700\"},{\"id\":\"6701\"}]},\"id\":\"6703\",\"type\":\"Toolbar\"},{\"attributes\":{\"line_alpha\":0.1,\"line_color\":\"#17becf\",\"line_width\":2,\"x\":{\"field\":\"index\"},\"y\":{\"field\":\"value\"}},\"id\":\"6841\",\"type\":\"Line\"},{\"attributes\":{},\"id\":\"6717\",\"type\":\"Selection\"},{\"attributes\":{\"data\":{\"Variable\":[\"\\u041e\\u0431\\u044a\\u0435\\u043c \\u0444\\u0438\\u043d\\u0430\\u043d\\u0441\\u0438\\u0440\\u043e\\u0432\\u0430\\u043d\\u0438\\u044f \\u043c\\u043e\\u043b\\u043e\\u0434\\u0435\\u0436\\u043d\\u043e\\u0439 \\u043f\\u043e\\u043b\\u0438\\u0442\\u0438\\u043a\\u0438 \\u0438\\u0437 \\u0431\\u044e\\u0434\\u0436\\u0435\\u0442\\u0430 \\u0441\\u0443\\u0431\\u044a\\u0435\\u043a\\u0442\\u043e\\u0432 \\u0420\\u043e\\u0441\\u0441\\u0438\\u0439\\u0441\\u043a\\u043e\\u0439 \\u0424\\u0435\\u0434\\u0435\\u0440\\u0430\\u0446\\u0438\\u0438\",\"\\u041e\\u0431\\u044a\\u0435\\u043c \\u0444\\u0438\\u043d\\u0430\\u043d\\u0441\\u0438\\u0440\\u043e\\u0432\\u0430\\u043d\\u0438\\u044f \\u043c\\u043e\\u043b\\u043e\\u0434\\u0435\\u0436\\u043d\\u043e\\u0439 \\u043f\\u043e\\u043b\\u0438\\u0442\\u0438\\u043a\\u0438 \\u0438\\u0437 \\u0431\\u044e\\u0434\\u0436\\u0435\\u0442\\u0430 \\u0441\\u0443\\u0431\\u044a\\u0435\\u043a\\u0442\\u043e\\u0432 \\u0420\\u043e\\u0441\\u0441\\u0438\\u0439\\u0441\\u043a\\u043e\\u0439 \\u0424\\u0435\\u0434\\u0435\\u0440\\u0430\\u0446\\u0438\\u0438\",\"\\u041e\\u0431\\u044a\\u0435\\u043c \\u0444\\u0438\\u043d\\u0430\\u043d\\u0441\\u0438\\u0440\\u043e\\u0432\\u0430\\u043d\\u0438\\u044f \\u043c\\u043e\\u043b\\u043e\\u0434\\u0435\\u0436\\u043d\\u043e\\u0439 \\u043f\\u043e\\u043b\\u0438\\u0442\\u0438\\u043a\\u0438 \\u0438\\u0437 \\u0431\\u044e\\u0434\\u0436\\u0435\\u0442\\u0430 \\u0441\\u0443\\u0431\\u044a\\u0435\\u043a\\u0442\\u043e\\u0432 \\u0420\\u043e\\u0441\\u0441\\u0438\\u0439\\u0441\\u043a\\u043e\\u0439 \\u0424\\u0435\\u0434\\u0435\\u0440\\u0430\\u0446\\u0438\\u0438\",\"\\u041e\\u0431\\u044a\\u0435\\u043c \\u0444\\u0438\\u043d\\u0430\\u043d\\u0441\\u0438\\u0440\\u043e\\u0432\\u0430\\u043d\\u0438\\u044f \\u043c\\u043e\\u043b\\u043e\\u0434\\u0435\\u0436\\u043d\\u043e\\u0439 \\u043f\\u043e\\u043b\\u0438\\u0442\\u0438\\u043a\\u0438 \\u0438\\u0437 \\u0431\\u044e\\u0434\\u0436\\u0435\\u0442\\u0430 \\u0441\\u0443\\u0431\\u044a\\u0435\\u043a\\u0442\\u043e\\u0432 \\u0420\\u043e\\u0441\\u0441\\u0438\\u0439\\u0441\\u043a\\u043e\\u0439 \\u0424\\u0435\\u0434\\u0435\\u0440\\u0430\\u0446\\u0438\\u0438\",\"\\u041e\\u0431\\u044a\\u0435\\u043c \\u0444\\u0438\\u043d\\u0430\\u043d\\u0441\\u0438\\u0440\\u043e\\u0432\\u0430\\u043d\\u0438\\u044f \\u043c\\u043e\\u043b\\u043e\\u0434\\u0435\\u0436\\u043d\\u043e\\u0439 \\u043f\\u043e\\u043b\\u0438\\u0442\\u0438\\u043a\\u0438 \\u0438\\u0437 \\u0431\\u044e\\u0434\\u0436\\u0435\\u0442\\u0430 \\u0441\\u0443\\u0431\\u044a\\u0435\\u043a\\u0442\\u043e\\u0432 \\u0420\\u043e\\u0441\\u0441\\u0438\\u0439\\u0441\\u043a\\u043e\\u0439 \\u0424\\u0435\\u0434\\u0435\\u0440\\u0430\\u0446\\u0438\\u0438\",\"\\u041e\\u0431\\u044a\\u0435\\u043c \\u0444\\u0438\\u043d\\u0430\\u043d\\u0441\\u0438\\u0440\\u043e\\u0432\\u0430\\u043d\\u0438\\u044f \\u043c\\u043e\\u043b\\u043e\\u0434\\u0435\\u0436\\u043d\\u043e\\u0439 \\u043f\\u043e\\u043b\\u0438\\u0442\\u0438\\u043a\\u0438 \\u0438\\u0437 \\u0431\\u044e\\u0434\\u0436\\u0435\\u0442\\u0430 \\u0441\\u0443\\u0431\\u044a\\u0435\\u043a\\u0442\\u043e\\u0432 \\u0420\\u043e\\u0441\\u0441\\u0438\\u0439\\u0441\\u043a\\u043e\\u0439 \\u0424\\u0435\\u0434\\u0435\\u0440\\u0430\\u0446\\u0438\\u0438\"],\"index\":[1,2,3,4,5,6],\"value\":{\"__ndarray__\":\"hetJjtFj9UEAAF7UgzcAQuF6xlO8OQZCUrg3Tt+fB0IAAMAaE9kPQgAAMMKVhhFC\",\"dtype\":\"float64\",\"order\":\"little\",\"shape\":[6]}},\"selected\":{\"id\":\"6738\"},\"selection_policy\":{\"id\":\"6754\"}},\"id\":\"6737\",\"type\":\"ColumnDataSource\"},{\"attributes\":{\"data\":{\"Variable\":[\"\\u041a\\u043e\\u043b\\u0438\\u0447\\u0435\\u0441\\u0442\\u0432\\u043e \\u043c\\u043e\\u043b\\u043e\\u0434\\u0435\\u0436\\u043d\\u044b\\u0445 \\u0444\\u043e\\u0440\\u0443\\u043c\\u043e\\u0432, \\u043f\\u0440\\u043e\\u0448\\u0435\\u0434\\u0448\\u0438\\u0445 \\u043d\\u0430 \\u0442\\u0435\\u0440\\u0440\\u0438\\u0442\\u043e\\u0440\\u0438\\u0438 \\u0441\\u0443\\u0431\\u044a\\u0435\\u043a\\u0442\\u043e\\u0432 \\u0420\\u043e\\u0441\\u0441\\u0438\\u0439\\u0441\\u043a\\u043e\\u0439 \\u0424\\u0435\\u0434\\u0435\\u0440\\u0430\\u0446\\u0438\\u0438\",\"\\u041a\\u043e\\u043b\\u0438\\u0447\\u0435\\u0441\\u0442\\u0432\\u043e \\u043c\\u043e\\u043b\\u043e\\u0434\\u0435\\u0436\\u043d\\u044b\\u0445 \\u0444\\u043e\\u0440\\u0443\\u043c\\u043e\\u0432, \\u043f\\u0440\\u043e\\u0448\\u0435\\u0434\\u0448\\u0438\\u0445 \\u043d\\u0430 \\u0442\\u0435\\u0440\\u0440\\u0438\\u0442\\u043e\\u0440\\u0438\\u0438 \\u0441\\u0443\\u0431\\u044a\\u0435\\u043a\\u0442\\u043e\\u0432 \\u0420\\u043e\\u0441\\u0441\\u0438\\u0439\\u0441\\u043a\\u043e\\u0439 \\u0424\\u0435\\u0434\\u0435\\u0440\\u0430\\u0446\\u0438\\u0438\",\"\\u041a\\u043e\\u043b\\u0438\\u0447\\u0435\\u0441\\u0442\\u0432\\u043e \\u043c\\u043e\\u043b\\u043e\\u0434\\u0435\\u0436\\u043d\\u044b\\u0445 \\u0444\\u043e\\u0440\\u0443\\u043c\\u043e\\u0432, \\u043f\\u0440\\u043e\\u0448\\u0435\\u0434\\u0448\\u0438\\u0445 \\u043d\\u0430 \\u0442\\u0435\\u0440\\u0440\\u0438\\u0442\\u043e\\u0440\\u0438\\u0438 \\u0441\\u0443\\u0431\\u044a\\u0435\\u043a\\u0442\\u043e\\u0432 \\u0420\\u043e\\u0441\\u0441\\u0438\\u0439\\u0441\\u043a\\u043e\\u0439 \\u0424\\u0435\\u0434\\u0435\\u0440\\u0430\\u0446\\u0438\\u0438\",\"\\u041a\\u043e\\u043b\\u0438\\u0447\\u0435\\u0441\\u0442\\u0432\\u043e \\u043c\\u043e\\u043b\\u043e\\u0434\\u0435\\u0436\\u043d\\u044b\\u0445 \\u0444\\u043e\\u0440\\u0443\\u043c\\u043e\\u0432, \\u043f\\u0440\\u043e\\u0448\\u0435\\u0434\\u0448\\u0438\\u0445 \\u043d\\u0430 \\u0442\\u0435\\u0440\\u0440\\u0438\\u0442\\u043e\\u0440\\u0438\\u0438 \\u0441\\u0443\\u0431\\u044a\\u0435\\u043a\\u0442\\u043e\\u0432 \\u0420\\u043e\\u0441\\u0441\\u0438\\u0439\\u0441\\u043a\\u043e\\u0439 \\u0424\\u0435\\u0434\\u0435\\u0440\\u0430\\u0446\\u0438\\u0438\",\"\\u041a\\u043e\\u043b\\u0438\\u0447\\u0435\\u0441\\u0442\\u0432\\u043e \\u043c\\u043e\\u043b\\u043e\\u0434\\u0435\\u0436\\u043d\\u044b\\u0445 \\u0444\\u043e\\u0440\\u0443\\u043c\\u043e\\u0432, \\u043f\\u0440\\u043e\\u0448\\u0435\\u0434\\u0448\\u0438\\u0445 \\u043d\\u0430 \\u0442\\u0435\\u0440\\u0440\\u0438\\u0442\\u043e\\u0440\\u0438\\u0438 \\u0441\\u0443\\u0431\\u044a\\u0435\\u043a\\u0442\\u043e\\u0432 \\u0420\\u043e\\u0441\\u0441\\u0438\\u0439\\u0441\\u043a\\u043e\\u0439 \\u0424\\u0435\\u0434\\u0435\\u0440\\u0430\\u0446\\u0438\\u0438\",\"\\u041a\\u043e\\u043b\\u0438\\u0447\\u0435\\u0441\\u0442\\u0432\\u043e \\u043c\\u043e\\u043b\\u043e\\u0434\\u0435\\u0436\\u043d\\u044b\\u0445 \\u0444\\u043e\\u0440\\u0443\\u043c\\u043e\\u0432, \\u043f\\u0440\\u043e\\u0448\\u0435\\u0434\\u0448\\u0438\\u0445 \\u043d\\u0430 \\u0442\\u0435\\u0440\\u0440\\u0438\\u0442\\u043e\\u0440\\u0438\\u0438 \\u0441\\u0443\\u0431\\u044a\\u0435\\u043a\\u0442\\u043e\\u0432 \\u0420\\u043e\\u0441\\u0441\\u0438\\u0439\\u0441\\u043a\\u043e\\u0439 \\u0424\\u0435\\u0434\\u0435\\u0440\\u0430\\u0446\\u0438\\u0438\"],\"index\":[1,2,3,4,5,6],\"value\":{\"__ndarray__\":\"AAAAAABEmEAAAAAAAC6jQAAAAAAAWKdAAAAAAABAp0AAAAAAACSdQAAAAAAAVqBA\",\"dtype\":\"float64\",\"order\":\"little\",\"shape\":[6]}},\"selected\":{\"id\":\"6934\"},\"selection_policy\":{\"id\":\"6964\"}},\"id\":\"6933\",\"type\":\"ColumnDataSource\"},{\"attributes\":{\"line_alpha\":0.1,\"line_color\":\"#9467bd\",\"line_width\":2,\"x\":{\"field\":\"index\"},\"y\":{\"field\":\"value\"}},\"id\":\"6871\",\"type\":\"Line\"}],\"root_ids\":[\"6665\"]},\"title\":\"Bokeh Application\",\"version\":\"2.4.3\"}};\n",
       "    var render_items = [{\"docid\":\"ce47b3b7-7edd-4898-8699-bdc47351a8da\",\"root_ids\":[\"6665\"],\"roots\":{\"6665\":\"0cc92c58-0ed9-45cc-9657-c195e2066a87\"}}];\n",
       "    root.Bokeh.embed.embed_items_notebook(docs_json, render_items);\n",
       "    for (const render_item of render_items) {\n",
       "      for (const root_id of render_item.root_ids) {\n",
       "\tconst id_el = document.getElementById(root_id)\n",
       "\tif (id_el.children.length && (id_el.children[0].className === 'bk-root')) {\n",
       "\t  const root_el = id_el.children[0]\n",
       "\t  root_el.id = root_el.id + '-rendered'\n",
       "\t}\n",
       "      }\n",
       "    }\n",
       "  }\n",
       "  if (root.Bokeh !== undefined && root.Bokeh.Panel !== undefined && ( root['Tabulator'] !== undefined) && ( root['Tabulator'] !== undefined) && ( root['Plotly'] !== undefined) && ( root['Plotly'] !== undefined) && ( root['Tabulator'] !== undefined) && ( root['Tabulator'] !== undefined) && ( root['Tabulator'] !== undefined) && ( root['Tabulator'] !== undefined) && ( root['Tabulator'] !== undefined)) {\n",
       "    embed_document(root);\n",
       "  } else {\n",
       "    var attempts = 0;\n",
       "    var timer = setInterval(function(root) {\n",
       "      if (root.Bokeh !== undefined && root.Bokeh.Panel !== undefined && (root['Tabulator'] !== undefined) && (root['Tabulator'] !== undefined) && (root['Plotly'] !== undefined) && (root['Plotly'] !== undefined) && (root['Tabulator'] !== undefined) && (root['Tabulator'] !== undefined) && (root['Tabulator'] !== undefined) && (root['Tabulator'] !== undefined) && (root['Tabulator'] !== undefined)) {\n",
       "        clearInterval(timer);\n",
       "        embed_document(root);\n",
       "      } else if (document.readyState == \"complete\") {\n",
       "        attempts++;\n",
       "        if (attempts > 200) {\n",
       "          clearInterval(timer);\n",
       "          console.log(\"Bokeh: ERROR: Unable to run BokehJS code because BokehJS library is missing\");\n",
       "        }\n",
       "      }\n",
       "    }, 25, root)\n",
       "  }\n",
       "})(window);</script>"
      ],
      "text/plain": [
       ":NdOverlay   [Variable]\n",
       "   :Curve   [index]   (value)"
      ]
     },
     "execution_count": 275,
     "metadata": {
      "application/vnd.holoviews_exec.v0+json": {
       "id": "6665"
      }
     },
     "output_type": "execute_result"
    }
   ],
   "source": [
    "statistics_by_years_transpose.hvplot.line()"
   ]
  },
  {
   "cell_type": "code",
   "execution_count": 326,
   "id": "1215c73e",
   "metadata": {},
   "outputs": [],
   "source": [
    "ans_plot_1 = statistics_by_years_transpose.hvplot.line(x='Год', y=list(statistics_by_years_transpose.columns)[1:],\n",
    "                                          value_label='Объем', legend='top_right', height=650, width=1920, \n",
    "                                          title='Статистика по годам', fontsize={'legend' : '8pt'})"
   ]
  },
  {
   "cell_type": "code",
   "execution_count": 327,
   "id": "e1652148",
   "metadata": {
    "scrolled": false
   },
   "outputs": [
    {
     "data": {},
     "metadata": {},
     "output_type": "display_data"
    },
    {
     "data": {
      "application/vnd.holoviews_exec.v0+json": "",
      "text/html": [
       "<div id='30444'>\n",
       "  <div class=\"bk-root\" id=\"ec5318d2-501c-4718-949d-7782aa3f4d99\" data-root-id=\"30444\"></div>\n",
       "</div>\n",
       "<script type=\"application/javascript\">(function(root) {\n",
       "  function embed_document(root) {\n",
       "    var docs_json = {\"0bf9a06e-d568-4e13-8fd5-01fa00d393de\":{\"defs\":[{\"extends\":null,\"module\":null,\"name\":\"ReactiveHTML1\",\"overrides\":[],\"properties\":[]},{\"extends\":null,\"module\":null,\"name\":\"FlexBox1\",\"overrides\":[],\"properties\":[{\"default\":\"flex-start\",\"kind\":null,\"name\":\"align_content\"},{\"default\":\"flex-start\",\"kind\":null,\"name\":\"align_items\"},{\"default\":\"row\",\"kind\":null,\"name\":\"flex_direction\"},{\"default\":\"wrap\",\"kind\":null,\"name\":\"flex_wrap\"},{\"default\":\"flex-start\",\"kind\":null,\"name\":\"justify_content\"}]},{\"extends\":null,\"module\":null,\"name\":\"GridStack1\",\"overrides\":[],\"properties\":[{\"default\":\"warn\",\"kind\":null,\"name\":\"mode\"},{\"default\":null,\"kind\":null,\"name\":\"ncols\"},{\"default\":null,\"kind\":null,\"name\":\"nrows\"},{\"default\":true,\"kind\":null,\"name\":\"allow_resize\"},{\"default\":true,\"kind\":null,\"name\":\"allow_drag\"},{\"default\":[],\"kind\":null,\"name\":\"state\"}]},{\"extends\":null,\"module\":null,\"name\":\"click1\",\"overrides\":[],\"properties\":[{\"default\":\"\",\"kind\":null,\"name\":\"terminal_output\"},{\"default\":\"\",\"kind\":null,\"name\":\"debug_name\"},{\"default\":0,\"kind\":null,\"name\":\"clears\"}]},{\"extends\":null,\"module\":null,\"name\":\"NotificationAreaBase1\",\"overrides\":[],\"properties\":[{\"default\":\"bottom-right\",\"kind\":null,\"name\":\"position\"},{\"default\":0,\"kind\":null,\"name\":\"_clear\"}]},{\"extends\":null,\"module\":null,\"name\":\"NotificationArea1\",\"overrides\":[],\"properties\":[{\"default\":[],\"kind\":null,\"name\":\"notifications\"},{\"default\":\"bottom-right\",\"kind\":null,\"name\":\"position\"},{\"default\":0,\"kind\":null,\"name\":\"_clear\"},{\"default\":[{\"background\":\"#ffc107\",\"icon\":{\"className\":\"fas fa-exclamation-triangle\",\"color\":\"white\",\"tagName\":\"i\"},\"type\":\"warning\"},{\"background\":\"#007bff\",\"icon\":{\"className\":\"fas fa-info-circle\",\"color\":\"white\",\"tagName\":\"i\"},\"type\":\"info\"}],\"kind\":null,\"name\":\"types\"}]},{\"extends\":null,\"module\":null,\"name\":\"Notification\",\"overrides\":[],\"properties\":[{\"default\":null,\"kind\":null,\"name\":\"background\"},{\"default\":3000,\"kind\":null,\"name\":\"duration\"},{\"default\":null,\"kind\":null,\"name\":\"icon\"},{\"default\":\"\",\"kind\":null,\"name\":\"message\"},{\"default\":null,\"kind\":null,\"name\":\"notification_type\"},{\"default\":false,\"kind\":null,\"name\":\"_destroyed\"}]},{\"extends\":null,\"module\":null,\"name\":\"TemplateActions1\",\"overrides\":[],\"properties\":[{\"default\":0,\"kind\":null,\"name\":\"open_modal\"},{\"default\":0,\"kind\":null,\"name\":\"close_modal\"}]},{\"extends\":null,\"module\":null,\"name\":\"MaterialTemplateActions1\",\"overrides\":[],\"properties\":[{\"default\":0,\"kind\":null,\"name\":\"open_modal\"},{\"default\":0,\"kind\":null,\"name\":\"close_modal\"}]}],\"roots\":{\"references\":[{\"attributes\":{\"coordinates\":null,\"data_source\":{\"id\":\"30537\"},\"glyph\":{\"id\":\"30540\"},\"group\":null,\"hover_glyph\":null,\"muted_glyph\":{\"id\":\"30542\"},\"nonselection_glyph\":{\"id\":\"30541\"},\"selection_glyph\":{\"id\":\"30560\"},\"view\":{\"id\":\"30544\"}},\"id\":\"30543\",\"type\":\"GlyphRenderer\"},{\"attributes\":{\"line_color\":\"#9467bd\",\"line_width\":2,\"x\":{\"field\":\"\\u0413\\u043e\\u0434\"},\"y\":{\"field\":\"\\u041e\\u0431\\u044a\\u0435\\u043c\"}},\"id\":\"30648\",\"type\":\"Line\"},{\"attributes\":{\"line_alpha\":0.1,\"line_color\":\"#30a2da\",\"line_width\":2,\"x\":{\"field\":\"\\u0413\\u043e\\u0434\"},\"y\":{\"field\":\"\\u041e\\u0431\\u044a\\u0435\\u043c\"}},\"id\":\"30498\",\"type\":\"Line\"},{\"attributes\":{\"label\":{\"value\":\"\\u041a\\u043e\\u043b\\u0438\\u0447\\u0435\\u0441\\u0442\\u0432\\u043e \\u043e\\u0440\\u0433\\u0430\\u043d\\u043e\\u0432 \\u043c\\u043e\\u043b\\u043e\\u0434\\u0435\\u0436\\u043d\\u043e\\u0433\\u043e \\u0441\\u0430\\u043c\\u043e\\u0443\\u043f\\u0440\\u0430\\u0432\\u043b\\u0435\\u043d\\u0438\\u044f\"},\"renderers\":[{\"id\":\"30651\"}]},\"id\":\"30675\",\"type\":\"LegendItem\"},{\"attributes\":{\"line_alpha\":0.2,\"line_color\":\"#30a2da\",\"line_width\":2,\"x\":{\"field\":\"\\u0413\\u043e\\u0434\"},\"y\":{\"field\":\"\\u041e\\u0431\\u044a\\u0435\\u043c\"}},\"id\":\"30499\",\"type\":\"Line\"},{\"attributes\":{\"data\":{\"Variable\":[\"\\u041e\\u0431\\u044a\\u0435\\u043c \\u0444\\u0438\\u043d\\u0430\\u043d\\u0441\\u0438\\u0440\\u043e\\u0432\\u0430\\u043d\\u0438\\u044f \\u043c\\u043e\\u043b\\u043e\\u0434\\u0435\\u0436\\u043d\\u043e\\u0439 \\u043f\\u043e\\u043b\\u0438\\u0442\\u0438\\u043a\\u0438 \\u0438\\u0437 \\u0431\\u044e\\u0434\\u0436\\u0435\\u0442\\u0430 \\u043e\\u0440\\u0433\\u0430\\u043d\\u043e\\u0432 \\u043c\\u0435\\u0441\\u0442\\u043d\\u043e\\u0433\\u043e \\u0441\\u0430\\u043c\\u043e\\u0443\\u043f\\u0440\\u0430\\u0432\\u043b\\u0435\\u043d\\u0438\\u044f\",\"\\u041e\\u0431\\u044a\\u0435\\u043c \\u0444\\u0438\\u043d\\u0430\\u043d\\u0441\\u0438\\u0440\\u043e\\u0432\\u0430\\u043d\\u0438\\u044f \\u043c\\u043e\\u043b\\u043e\\u0434\\u0435\\u0436\\u043d\\u043e\\u0439 \\u043f\\u043e\\u043b\\u0438\\u0442\\u0438\\u043a\\u0438 \\u0438\\u0437 \\u0431\\u044e\\u0434\\u0436\\u0435\\u0442\\u0430 \\u043e\\u0440\\u0433\\u0430\\u043d\\u043e\\u0432 \\u043c\\u0435\\u0441\\u0442\\u043d\\u043e\\u0433\\u043e \\u0441\\u0430\\u043c\\u043e\\u0443\\u043f\\u0440\\u0430\\u0432\\u043b\\u0435\\u043d\\u0438\\u044f\",\"\\u041e\\u0431\\u044a\\u0435\\u043c \\u0444\\u0438\\u043d\\u0430\\u043d\\u0441\\u0438\\u0440\\u043e\\u0432\\u0430\\u043d\\u0438\\u044f \\u043c\\u043e\\u043b\\u043e\\u0434\\u0435\\u0436\\u043d\\u043e\\u0439 \\u043f\\u043e\\u043b\\u0438\\u0442\\u0438\\u043a\\u0438 \\u0438\\u0437 \\u0431\\u044e\\u0434\\u0436\\u0435\\u0442\\u0430 \\u043e\\u0440\\u0433\\u0430\\u043d\\u043e\\u0432 \\u043c\\u0435\\u0441\\u0442\\u043d\\u043e\\u0433\\u043e \\u0441\\u0430\\u043c\\u043e\\u0443\\u043f\\u0440\\u0430\\u0432\\u043b\\u0435\\u043d\\u0438\\u044f\",\"\\u041e\\u0431\\u044a\\u0435\\u043c \\u0444\\u0438\\u043d\\u0430\\u043d\\u0441\\u0438\\u0440\\u043e\\u0432\\u0430\\u043d\\u0438\\u044f \\u043c\\u043e\\u043b\\u043e\\u0434\\u0435\\u0436\\u043d\\u043e\\u0439 \\u043f\\u043e\\u043b\\u0438\\u0442\\u0438\\u043a\\u0438 \\u0438\\u0437 \\u0431\\u044e\\u0434\\u0436\\u0435\\u0442\\u0430 \\u043e\\u0440\\u0433\\u0430\\u043d\\u043e\\u0432 \\u043c\\u0435\\u0441\\u0442\\u043d\\u043e\\u0433\\u043e \\u0441\\u0430\\u043c\\u043e\\u0443\\u043f\\u0440\\u0430\\u0432\\u043b\\u0435\\u043d\\u0438\\u044f\",\"\\u041e\\u0431\\u044a\\u0435\\u043c \\u0444\\u0438\\u043d\\u0430\\u043d\\u0441\\u0438\\u0440\\u043e\\u0432\\u0430\\u043d\\u0438\\u044f \\u043c\\u043e\\u043b\\u043e\\u0434\\u0435\\u0436\\u043d\\u043e\\u0439 \\u043f\\u043e\\u043b\\u0438\\u0442\\u0438\\u043a\\u0438 \\u0438\\u0437 \\u0431\\u044e\\u0434\\u0436\\u0435\\u0442\\u0430 \\u043e\\u0440\\u0433\\u0430\\u043d\\u043e\\u0432 \\u043c\\u0435\\u0441\\u0442\\u043d\\u043e\\u0433\\u043e \\u0441\\u0430\\u043c\\u043e\\u0443\\u043f\\u0440\\u0430\\u0432\\u043b\\u0435\\u043d\\u0438\\u044f\",\"\\u041e\\u0431\\u044a\\u0435\\u043c \\u0444\\u0438\\u043d\\u0430\\u043d\\u0441\\u0438\\u0440\\u043e\\u0432\\u0430\\u043d\\u0438\\u044f \\u043c\\u043e\\u043b\\u043e\\u0434\\u0435\\u0436\\u043d\\u043e\\u0439 \\u043f\\u043e\\u043b\\u0438\\u0442\\u0438\\u043a\\u0438 \\u0438\\u0437 \\u0431\\u044e\\u0434\\u0436\\u0435\\u0442\\u0430 \\u043e\\u0440\\u0433\\u0430\\u043d\\u043e\\u0432 \\u043c\\u0435\\u0441\\u0442\\u043d\\u043e\\u0433\\u043e \\u0441\\u0430\\u043c\\u043e\\u0443\\u043f\\u0440\\u0430\\u0432\\u043b\\u0435\\u043d\\u0438\\u044f\"],\"\\u0413\\u043e\\u0434\":[2016,2017,2018,2019,2020,2021],\"\\u041e\\u0431\\u044a\\u0435\\u043c\":{\"__ndarray__\":\"ZmZuXnsC6kHhejxYnUrtQSlcn5ObkPJB2c6V3ckEAkIAAFyTaqwRQgAAWIawkRBC\",\"dtype\":\"float64\",\"order\":\"little\",\"shape\":[6]}},\"selected\":{\"id\":\"30516\"},\"selection_policy\":{\"id\":\"30532\"}},\"id\":\"30515\",\"type\":\"ColumnDataSource\"},{\"attributes\":{\"line_color\":\"#30a2da\",\"line_width\":2,\"x\":{\"field\":\"\\u0413\\u043e\\u0434\"},\"y\":{\"field\":\"\\u041e\\u0431\\u044a\\u0435\\u043c\"}},\"id\":\"30497\",\"type\":\"Line\"},{\"attributes\":{\"line_alpha\":0.1,\"line_color\":\"#9467bd\",\"line_width\":2,\"x\":{\"field\":\"\\u0413\\u043e\\u0434\"},\"y\":{\"field\":\"\\u041e\\u0431\\u044a\\u0435\\u043c\"}},\"id\":\"30649\",\"type\":\"Line\"},{\"attributes\":{\"source\":{\"id\":\"30645\"}},\"id\":\"30652\",\"type\":\"CDSView\"},{\"attributes\":{\"label\":{\"value\":\"\\u0427\\u0438\\u0441\\u043b\\u0435\\u043d\\u043d\\u043e\\u0441\\u0442\\u044c \\u0443\\u0447\\u0430\\u0441\\u0442\\u043d\\u0438\\u043a\\u043e\\u0432 \\u043c\\u043e\\u043b\\u043e\\u0434\\u0435\\u0436\\u043d\\u044b\\u0445 \\u0444\\u043e\\u0440\\u0443\\u043c\\u043e\\u0432\"},\"renderers\":[{\"id\":\"30717\"}]},\"id\":\"30745\",\"type\":\"LegendItem\"},{\"attributes\":{\"line_color\":\"#17becf\",\"line_width\":2,\"x\":{\"field\":\"\\u0413\\u043e\\u0434\"},\"y\":{\"field\":\"\\u041e\\u0431\\u044a\\u0435\\u043c\"}},\"id\":\"30618\",\"type\":\"Line\"},{\"attributes\":{\"coordinates\":null,\"data_source\":{\"id\":\"30645\"},\"glyph\":{\"id\":\"30648\"},\"group\":null,\"hover_glyph\":null,\"muted_glyph\":{\"id\":\"30650\"},\"nonselection_glyph\":{\"id\":\"30649\"},\"selection_glyph\":{\"id\":\"30676\"},\"view\":{\"id\":\"30652\"}},\"id\":\"30651\",\"type\":\"GlyphRenderer\"},{\"attributes\":{\"line_color\":\"#e377c2\",\"line_width\":2,\"x\":{\"field\":\"\\u0413\\u043e\\u0434\"},\"y\":{\"field\":\"\\u041e\\u0431\\u044a\\u0435\\u043c\"}},\"id\":\"30784\",\"type\":\"Line\"},{\"attributes\":{\"click_policy\":\"mute\",\"coordinates\":null,\"group\":null,\"items\":[{\"id\":\"30513\"},{\"id\":\"30535\"},{\"id\":\"30559\"},{\"id\":\"30585\"},{\"id\":\"30613\"},{\"id\":\"30643\"},{\"id\":\"30675\"},{\"id\":\"30709\"},{\"id\":\"30745\"},{\"id\":\"30783\"},{\"id\":\"30823\"}],\"label_text_font_size\":\"8pt\",\"title\":\"Variable\"},\"id\":\"30512\",\"type\":\"Legend\"},{\"attributes\":{},\"id\":\"30672\",\"type\":\"UnionRenderers\"},{\"attributes\":{\"line_alpha\":0.2,\"line_color\":\"#9467bd\",\"line_width\":2,\"x\":{\"field\":\"\\u0413\\u043e\\u0434\"},\"y\":{\"field\":\"\\u041e\\u0431\\u044a\\u0435\\u043c\"}},\"id\":\"30650\",\"type\":\"Line\"},{\"attributes\":{},\"id\":\"30786\",\"type\":\"Selection\"},{\"attributes\":{\"source\":{\"id\":\"30494\"}},\"id\":\"30501\",\"type\":\"CDSView\"},{\"attributes\":{\"line_color\":\"#8c564b\",\"line_width\":2,\"x\":{\"field\":\"\\u0413\\u043e\\u0434\"},\"y\":{\"field\":\"\\u041e\\u0431\\u044a\\u0435\\u043c\"}},\"id\":\"30788\",\"type\":\"Line\"},{\"attributes\":{\"coordinates\":null,\"data_source\":{\"id\":\"30494\"},\"glyph\":{\"id\":\"30497\"},\"group\":null,\"hover_glyph\":null,\"muted_glyph\":{\"id\":\"30499\"},\"nonselection_glyph\":{\"id\":\"30498\"},\"selection_glyph\":{\"id\":\"30514\"},\"view\":{\"id\":\"30501\"}},\"id\":\"30500\",\"type\":\"GlyphRenderer\"},{\"attributes\":{\"line_color\":\"#e5ae38\",\"line_width\":2,\"x\":{\"field\":\"\\u0413\\u043e\\u0434\"},\"y\":{\"field\":\"\\u041e\\u0431\\u044a\\u0435\\u043c\"}},\"id\":\"30560\",\"type\":\"Line\"},{\"attributes\":{\"source\":{\"id\":\"30785\"}},\"id\":\"30792\",\"type\":\"CDSView\"},{\"attributes\":{\"line_alpha\":0.2,\"line_color\":\"#8c564b\",\"line_width\":2,\"x\":{\"field\":\"\\u0413\\u043e\\u0434\"},\"y\":{\"field\":\"\\u041e\\u0431\\u044a\\u0435\\u043c\"}},\"id\":\"30790\",\"type\":\"Line\"},{\"attributes\":{\"label\":{\"value\":\"\\u041e\\u0431\\u044a\\u0435\\u043c \\u0444\\u0438\\u043d\\u0430\\u043d\\u0441\\u0438\\u0440\\u043e\\u0432\\u0430\\u043d\\u0438\\u044f \\u043c\\u043e\\u043b\\u043e\\u0434\\u0435\\u0436\\u043d\\u044b\\u0445 \\u0444\\u043e\\u0440\\u0443\\u043c\\u043e\\u0432 \\u0438\\u0437 \\u0441\\u0440\\u0435\\u0434\\u0441\\u0442\\u0432 \\u043e\\u0440\\u0433\\u0430\\u043d\\u043e\\u0432 \\u0431\\u044e\\u0434\\u0436\\u0435\\u0442\\u043e\\u0432 \\u043c\\u0435\\u0441\\u0442\\u043d\\u043e\\u0433\\u043e \\u0441\\u0430\\u043c\\u043e\\u0443\\u043f\\u0440\\u0430\\u0432\\u043b\\u0435\\u043d\\u0438\\u044f\"},\"renderers\":[{\"id\":\"30791\"}]},\"id\":\"30823\",\"type\":\"LegendItem\"},{\"attributes\":{},\"id\":\"30562\",\"type\":\"Selection\"},{\"attributes\":{\"line_color\":\"#6d904f\",\"line_width\":2,\"x\":{\"field\":\"\\u0413\\u043e\\u0434\"},\"y\":{\"field\":\"\\u041e\\u0431\\u044a\\u0435\\u043c\"}},\"id\":\"30564\",\"type\":\"Line\"},{\"attributes\":{\"source\":{\"id\":\"30615\"}},\"id\":\"30622\",\"type\":\"CDSView\"},{\"attributes\":{\"source\":{\"id\":\"30561\"}},\"id\":\"30568\",\"type\":\"CDSView\"},{\"attributes\":{\"children\":[{\"id\":\"30458\"}],\"height\":650,\"margin\":[0,0,0,0],\"name\":\"Row79665\",\"sizing_mode\":\"fixed\",\"tags\":[\"embedded\"],\"width\":1920},\"id\":\"30444\",\"type\":\"Row\"},{\"attributes\":{},\"id\":\"30820\",\"type\":\"UnionRenderers\"},{\"attributes\":{\"line_alpha\":0.2,\"line_color\":\"#6d904f\",\"line_width\":2,\"x\":{\"field\":\"\\u0413\\u043e\\u0434\"},\"y\":{\"field\":\"\\u041e\\u0431\\u044a\\u0435\\u043c\"}},\"id\":\"30566\",\"type\":\"Line\"},{\"attributes\":{\"line_alpha\":0.1,\"line_color\":\"#8c564b\",\"line_width\":2,\"x\":{\"field\":\"\\u0413\\u043e\\u0434\"},\"y\":{\"field\":\"\\u041e\\u0431\\u044a\\u0435\\u043c\"}},\"id\":\"30789\",\"type\":\"Line\"},{\"attributes\":{\"label\":{\"value\":\"\\u041e\\u0431\\u044a\\u0435\\u043c \\u0433\\u0440\\u0430\\u043d\\u0442\\u043e\\u0432\\u044b\\u0445 \\u0441\\u0440\\u0435\\u0434\\u0441\\u0442\\u0432, \\u0432\\u044b\\u0434\\u0430\\u043d\\u043d\\u044b\\u0445 \\u0444\\u0438\\u0437\\u0438\\u0447\\u0435\\u0441\\u043a\\u0438\\u043c \\u0438 \\u044e\\u0440\\u0438\\u0434\\u0438\\u0447\\u0435\\u0441\\u043a\\u0438\\u043c \\u043b\\u0438\\u0446\\u0430\\u043c, \\u0432 \\u0440\\u0430\\u043c\\u043a\\u0430\\u0445 \\u0440\\u0435\\u0430\\u043b\\u0438\\u0437\\u0430\\u0446\\u0438\\u0438 \\u0433\\u043e\\u0441\\u0443\\u0434\\u0430\\u0440\\u0441\\u0442\\u0432\\u0435\\u043d\\u043d\\u043e\\u0439 \\u043c\\u043e\\u043b\\u043e\\u0434\\u0435\\u0436\\u043d\\u043e\\u0439 \\u043f\\u043e\\u043b\\u0438\\u0442\\u0438\\u043a\\u0438\"},\"renderers\":[{\"id\":\"30567\"}]},\"id\":\"30585\",\"type\":\"LegendItem\"},{\"attributes\":{\"data\":{\"Variable\":[\"\\u041a\\u043e\\u043b\\u0438\\u0447\\u0435\\u0441\\u0442\\u0432\\u043e \\u043c\\u043e\\u043b\\u043e\\u0434\\u0435\\u0436\\u043d\\u044b\\u0445 \\u0444\\u043e\\u0440\\u0443\\u043c\\u043e\\u0432, \\u043f\\u0440\\u043e\\u0448\\u0435\\u0434\\u0448\\u0438\\u0445 \\u043d\\u0430 \\u0442\\u0435\\u0440\\u0440\\u0438\\u0442\\u043e\\u0440\\u0438\\u0438 \\u0441\\u0443\\u0431\\u044a\\u0435\\u043a\\u0442\\u043e\\u0432 \\u0420\\u043e\\u0441\\u0441\\u0438\\u0439\\u0441\\u043a\\u043e\\u0439 \\u0424\\u0435\\u0434\\u0435\\u0440\\u0430\\u0446\\u0438\\u0438\",\"\\u041a\\u043e\\u043b\\u0438\\u0447\\u0435\\u0441\\u0442\\u0432\\u043e \\u043c\\u043e\\u043b\\u043e\\u0434\\u0435\\u0436\\u043d\\u044b\\u0445 \\u0444\\u043e\\u0440\\u0443\\u043c\\u043e\\u0432, \\u043f\\u0440\\u043e\\u0448\\u0435\\u0434\\u0448\\u0438\\u0445 \\u043d\\u0430 \\u0442\\u0435\\u0440\\u0440\\u0438\\u0442\\u043e\\u0440\\u0438\\u0438 \\u0441\\u0443\\u0431\\u044a\\u0435\\u043a\\u0442\\u043e\\u0432 \\u0420\\u043e\\u0441\\u0441\\u0438\\u0439\\u0441\\u043a\\u043e\\u0439 \\u0424\\u0435\\u0434\\u0435\\u0440\\u0430\\u0446\\u0438\\u0438\",\"\\u041a\\u043e\\u043b\\u0438\\u0447\\u0435\\u0441\\u0442\\u0432\\u043e \\u043c\\u043e\\u043b\\u043e\\u0434\\u0435\\u0436\\u043d\\u044b\\u0445 \\u0444\\u043e\\u0440\\u0443\\u043c\\u043e\\u0432, \\u043f\\u0440\\u043e\\u0448\\u0435\\u0434\\u0448\\u0438\\u0445 \\u043d\\u0430 \\u0442\\u0435\\u0440\\u0440\\u0438\\u0442\\u043e\\u0440\\u0438\\u0438 \\u0441\\u0443\\u0431\\u044a\\u0435\\u043a\\u0442\\u043e\\u0432 \\u0420\\u043e\\u0441\\u0441\\u0438\\u0439\\u0441\\u043a\\u043e\\u0439 \\u0424\\u0435\\u0434\\u0435\\u0440\\u0430\\u0446\\u0438\\u0438\",\"\\u041a\\u043e\\u043b\\u0438\\u0447\\u0435\\u0441\\u0442\\u0432\\u043e \\u043c\\u043e\\u043b\\u043e\\u0434\\u0435\\u0436\\u043d\\u044b\\u0445 \\u0444\\u043e\\u0440\\u0443\\u043c\\u043e\\u0432, \\u043f\\u0440\\u043e\\u0448\\u0435\\u0434\\u0448\\u0438\\u0445 \\u043d\\u0430 \\u0442\\u0435\\u0440\\u0440\\u0438\\u0442\\u043e\\u0440\\u0438\\u0438 \\u0441\\u0443\\u0431\\u044a\\u0435\\u043a\\u0442\\u043e\\u0432 \\u0420\\u043e\\u0441\\u0441\\u0438\\u0439\\u0441\\u043a\\u043e\\u0439 \\u0424\\u0435\\u0434\\u0435\\u0440\\u0430\\u0446\\u0438\\u0438\",\"\\u041a\\u043e\\u043b\\u0438\\u0447\\u0435\\u0441\\u0442\\u0432\\u043e \\u043c\\u043e\\u043b\\u043e\\u0434\\u0435\\u0436\\u043d\\u044b\\u0445 \\u0444\\u043e\\u0440\\u0443\\u043c\\u043e\\u0432, \\u043f\\u0440\\u043e\\u0448\\u0435\\u0434\\u0448\\u0438\\u0445 \\u043d\\u0430 \\u0442\\u0435\\u0440\\u0440\\u0438\\u0442\\u043e\\u0440\\u0438\\u0438 \\u0441\\u0443\\u0431\\u044a\\u0435\\u043a\\u0442\\u043e\\u0432 \\u0420\\u043e\\u0441\\u0441\\u0438\\u0439\\u0441\\u043a\\u043e\\u0439 \\u0424\\u0435\\u0434\\u0435\\u0440\\u0430\\u0446\\u0438\\u0438\",\"\\u041a\\u043e\\u043b\\u0438\\u0447\\u0435\\u0441\\u0442\\u0432\\u043e \\u043c\\u043e\\u043b\\u043e\\u0434\\u0435\\u0436\\u043d\\u044b\\u0445 \\u0444\\u043e\\u0440\\u0443\\u043c\\u043e\\u0432, \\u043f\\u0440\\u043e\\u0448\\u0435\\u0434\\u0448\\u0438\\u0445 \\u043d\\u0430 \\u0442\\u0435\\u0440\\u0440\\u0438\\u0442\\u043e\\u0440\\u0438\\u0438 \\u0441\\u0443\\u0431\\u044a\\u0435\\u043a\\u0442\\u043e\\u0432 \\u0420\\u043e\\u0441\\u0441\\u0438\\u0439\\u0441\\u043a\\u043e\\u0439 \\u0424\\u0435\\u0434\\u0435\\u0440\\u0430\\u0446\\u0438\\u0438\"],\"\\u0413\\u043e\\u0434\":[2016,2017,2018,2019,2020,2021],\"\\u041e\\u0431\\u044a\\u0435\\u043c\":{\"__ndarray__\":\"AAAAAABEmEAAAAAAAC6jQAAAAAAAWKdAAAAAAABAp0AAAAAAACSdQAAAAAAAVqBA\",\"dtype\":\"float64\",\"order\":\"little\",\"shape\":[6]}},\"selected\":{\"id\":\"30678\"},\"selection_policy\":{\"id\":\"30706\"}},\"id\":\"30677\",\"type\":\"ColumnDataSource\"},{\"attributes\":{\"coordinates\":null,\"data_source\":{\"id\":\"30785\"},\"glyph\":{\"id\":\"30788\"},\"group\":null,\"hover_glyph\":null,\"muted_glyph\":{\"id\":\"30790\"},\"nonselection_glyph\":{\"id\":\"30789\"},\"selection_glyph\":{\"id\":\"30824\"},\"view\":{\"id\":\"30792\"}},\"id\":\"30791\",\"type\":\"GlyphRenderer\"},{\"attributes\":{},\"id\":\"30582\",\"type\":\"UnionRenderers\"},{\"attributes\":{\"line_color\":\"#1f77b4\",\"line_width\":2,\"x\":{\"field\":\"\\u0413\\u043e\\u0434\"},\"y\":{\"field\":\"\\u041e\\u0431\\u044a\\u0435\\u043c\"}},\"id\":\"30714\",\"type\":\"Line\"},{\"attributes\":{\"line_alpha\":0.1,\"line_color\":\"#6d904f\",\"line_width\":2,\"x\":{\"field\":\"\\u0413\\u043e\\u0434\"},\"y\":{\"field\":\"\\u041e\\u0431\\u044a\\u0435\\u043c\"}},\"id\":\"30565\",\"type\":\"Line\"},{\"attributes\":{},\"id\":\"30509\",\"type\":\"UnionRenderers\"},{\"attributes\":{\"line_color\":\"#9467bd\",\"line_width\":2,\"x\":{\"field\":\"\\u0413\\u043e\\u0434\"},\"y\":{\"field\":\"\\u041e\\u0431\\u044a\\u0435\\u043c\"}},\"id\":\"30676\",\"type\":\"Line\"},{\"attributes\":{\"line_alpha\":0.2,\"line_color\":\"#d62728\",\"line_width\":2,\"x\":{\"field\":\"\\u0413\\u043e\\u0434\"},\"y\":{\"field\":\"\\u041e\\u0431\\u044a\\u0435\\u043c\"}},\"id\":\"30682\",\"type\":\"Line\"},{\"attributes\":{\"axis_label\":\"\\u0413\\u043e\\u0434\",\"coordinates\":null,\"formatter\":{\"id\":\"30489\"},\"group\":null,\"major_label_policy\":{\"id\":\"30490\"},\"ticker\":{\"id\":\"30468\"}},\"id\":\"30467\",\"type\":\"LinearAxis\"},{\"attributes\":{\"source\":{\"id\":\"30677\"}},\"id\":\"30684\",\"type\":\"CDSView\"},{\"attributes\":{\"coordinates\":null,\"data_source\":{\"id\":\"30561\"},\"glyph\":{\"id\":\"30564\"},\"group\":null,\"hover_glyph\":null,\"muted_glyph\":{\"id\":\"30566\"},\"nonselection_glyph\":{\"id\":\"30565\"},\"selection_glyph\":{\"id\":\"30586\"},\"view\":{\"id\":\"30568\"}},\"id\":\"30567\",\"type\":\"GlyphRenderer\"},{\"attributes\":{},\"id\":\"30646\",\"type\":\"Selection\"},{\"attributes\":{},\"id\":\"30712\",\"type\":\"Selection\"},{\"attributes\":{\"line_alpha\":0.2,\"line_color\":\"#1f77b4\",\"line_width\":2,\"x\":{\"field\":\"\\u0413\\u043e\\u0434\"},\"y\":{\"field\":\"\\u041e\\u0431\\u044a\\u0435\\u043c\"}},\"id\":\"30716\",\"type\":\"Line\"},{\"attributes\":{\"label\":{\"value\":\"\\u041a\\u043e\\u043b\\u0438\\u0447\\u0435\\u0441\\u0442\\u0432\\u043e \\u043c\\u043e\\u043b\\u043e\\u0434\\u0435\\u0436\\u043d\\u044b\\u0445 \\u0444\\u043e\\u0440\\u0443\\u043c\\u043e\\u0432, \\u043f\\u0440\\u043e\\u0448\\u0435\\u0434\\u0448\\u0438\\u0445 \\u043d\\u0430 \\u0442\\u0435\\u0440\\u0440\\u0438\\u0442\\u043e\\u0440\\u0438\\u0438 \\u0441\\u0443\\u0431\\u044a\\u0435\\u043a\\u0442\\u043e\\u0432 \\u0420\\u043e\\u0441\\u0441\\u0438\\u0439\\u0441\\u043a\\u043e\\u0439 \\u0424\\u0435\\u0434\\u0435\\u0440\\u0430\\u0446\\u0438\\u0438\"},\"renderers\":[{\"id\":\"30683\"}]},\"id\":\"30709\",\"type\":\"LegendItem\"},{\"attributes\":{\"line_color\":\"#8c564b\",\"line_width\":2,\"x\":{\"field\":\"\\u0413\\u043e\\u0434\"},\"y\":{\"field\":\"\\u041e\\u0431\\u044a\\u0435\\u043c\"}},\"id\":\"30824\",\"type\":\"Line\"},{\"attributes\":{},\"id\":\"30706\",\"type\":\"UnionRenderers\"},{\"attributes\":{\"line_color\":\"#d62728\",\"line_width\":2,\"x\":{\"field\":\"\\u0413\\u043e\\u0434\"},\"y\":{\"field\":\"\\u041e\\u0431\\u044a\\u0435\\u043c\"}},\"id\":\"30680\",\"type\":\"Line\"},{\"attributes\":{\"line_alpha\":0.1,\"line_color\":\"#d62728\",\"line_width\":2,\"x\":{\"field\":\"\\u0413\\u043e\\u0434\"},\"y\":{\"field\":\"\\u041e\\u0431\\u044a\\u0435\\u043c\"}},\"id\":\"30681\",\"type\":\"Line\"},{\"attributes\":{\"data\":{\"Variable\":[\"\\u041e\\u0431\\u044a\\u0435\\u043c \\u0433\\u0440\\u0430\\u043d\\u0442\\u043e\\u0432\\u044b\\u0445 \\u0441\\u0440\\u0435\\u0434\\u0441\\u0442\\u0432, \\u0432\\u044b\\u0434\\u0430\\u043d\\u043d\\u044b\\u0445 \\u0444\\u0438\\u0437\\u0438\\u0447\\u0435\\u0441\\u043a\\u0438\\u043c \\u0438 \\u044e\\u0440\\u0438\\u0434\\u0438\\u0447\\u0435\\u0441\\u043a\\u0438\\u043c \\u043b\\u0438\\u0446\\u0430\\u043c, \\u0432 \\u0440\\u0430\\u043c\\u043a\\u0430\\u0445 \\u0440\\u0435\\u0430\\u043b\\u0438\\u0437\\u0430\\u0446\\u0438\\u0438 \\u0433\\u043e\\u0441\\u0443\\u0434\\u0430\\u0440\\u0441\\u0442\\u0432\\u0435\\u043d\\u043d\\u043e\\u0439 \\u043c\\u043e\\u043b\\u043e\\u0434\\u0435\\u0436\\u043d\\u043e\\u0439 \\u043f\\u043e\\u043b\\u0438\\u0442\\u0438\\u043a\\u0438\",\"\\u041e\\u0431\\u044a\\u0435\\u043c \\u0433\\u0440\\u0430\\u043d\\u0442\\u043e\\u0432\\u044b\\u0445 \\u0441\\u0440\\u0435\\u0434\\u0441\\u0442\\u0432, \\u0432\\u044b\\u0434\\u0430\\u043d\\u043d\\u044b\\u0445 \\u0444\\u0438\\u0437\\u0438\\u0447\\u0435\\u0441\\u043a\\u0438\\u043c \\u0438 \\u044e\\u0440\\u0438\\u0434\\u0438\\u0447\\u0435\\u0441\\u043a\\u0438\\u043c \\u043b\\u0438\\u0446\\u0430\\u043c, \\u0432 \\u0440\\u0430\\u043c\\u043a\\u0430\\u0445 \\u0440\\u0435\\u0430\\u043b\\u0438\\u0437\\u0430\\u0446\\u0438\\u0438 \\u0433\\u043e\\u0441\\u0443\\u0434\\u0430\\u0440\\u0441\\u0442\\u0432\\u0435\\u043d\\u043d\\u043e\\u0439 \\u043c\\u043e\\u043b\\u043e\\u0434\\u0435\\u0436\\u043d\\u043e\\u0439 \\u043f\\u043e\\u043b\\u0438\\u0442\\u0438\\u043a\\u0438\",\"\\u041e\\u0431\\u044a\\u0435\\u043c \\u0433\\u0440\\u0430\\u043d\\u0442\\u043e\\u0432\\u044b\\u0445 \\u0441\\u0440\\u0435\\u0434\\u0441\\u0442\\u0432, \\u0432\\u044b\\u0434\\u0430\\u043d\\u043d\\u044b\\u0445 \\u0444\\u0438\\u0437\\u0438\\u0447\\u0435\\u0441\\u043a\\u0438\\u043c \\u0438 \\u044e\\u0440\\u0438\\u0434\\u0438\\u0447\\u0435\\u0441\\u043a\\u0438\\u043c \\u043b\\u0438\\u0446\\u0430\\u043c, \\u0432 \\u0440\\u0430\\u043c\\u043a\\u0430\\u0445 \\u0440\\u0435\\u0430\\u043b\\u0438\\u0437\\u0430\\u0446\\u0438\\u0438 \\u0433\\u043e\\u0441\\u0443\\u0434\\u0430\\u0440\\u0441\\u0442\\u0432\\u0435\\u043d\\u043d\\u043e\\u0439 \\u043c\\u043e\\u043b\\u043e\\u0434\\u0435\\u0436\\u043d\\u043e\\u0439 \\u043f\\u043e\\u043b\\u0438\\u0442\\u0438\\u043a\\u0438\",\"\\u041e\\u0431\\u044a\\u0435\\u043c \\u0433\\u0440\\u0430\\u043d\\u0442\\u043e\\u0432\\u044b\\u0445 \\u0441\\u0440\\u0435\\u0434\\u0441\\u0442\\u0432, \\u0432\\u044b\\u0434\\u0430\\u043d\\u043d\\u044b\\u0445 \\u0444\\u0438\\u0437\\u0438\\u0447\\u0435\\u0441\\u043a\\u0438\\u043c \\u0438 \\u044e\\u0440\\u0438\\u0434\\u0438\\u0447\\u0435\\u0441\\u043a\\u0438\\u043c \\u043b\\u0438\\u0446\\u0430\\u043c, \\u0432 \\u0440\\u0430\\u043c\\u043a\\u0430\\u0445 \\u0440\\u0435\\u0430\\u043b\\u0438\\u0437\\u0430\\u0446\\u0438\\u0438 \\u0433\\u043e\\u0441\\u0443\\u0434\\u0430\\u0440\\u0441\\u0442\\u0432\\u0435\\u043d\\u043d\\u043e\\u0439 \\u043c\\u043e\\u043b\\u043e\\u0434\\u0435\\u0436\\u043d\\u043e\\u0439 \\u043f\\u043e\\u043b\\u0438\\u0442\\u0438\\u043a\\u0438\",\"\\u041e\\u0431\\u044a\\u0435\\u043c \\u0433\\u0440\\u0430\\u043d\\u0442\\u043e\\u0432\\u044b\\u0445 \\u0441\\u0440\\u0435\\u0434\\u0441\\u0442\\u0432, \\u0432\\u044b\\u0434\\u0430\\u043d\\u043d\\u044b\\u0445 \\u0444\\u0438\\u0437\\u0438\\u0447\\u0435\\u0441\\u043a\\u0438\\u043c \\u0438 \\u044e\\u0440\\u0438\\u0434\\u0438\\u0447\\u0435\\u0441\\u043a\\u0438\\u043c \\u043b\\u0438\\u0446\\u0430\\u043c, \\u0432 \\u0440\\u0430\\u043c\\u043a\\u0430\\u0445 \\u0440\\u0435\\u0430\\u043b\\u0438\\u0437\\u0430\\u0446\\u0438\\u0438 \\u0433\\u043e\\u0441\\u0443\\u0434\\u0430\\u0440\\u0441\\u0442\\u0432\\u0435\\u043d\\u043d\\u043e\\u0439 \\u043c\\u043e\\u043b\\u043e\\u0434\\u0435\\u0436\\u043d\\u043e\\u0439 \\u043f\\u043e\\u043b\\u0438\\u0442\\u0438\\u043a\\u0438\",\"\\u041e\\u0431\\u044a\\u0435\\u043c \\u0433\\u0440\\u0430\\u043d\\u0442\\u043e\\u0432\\u044b\\u0445 \\u0441\\u0440\\u0435\\u0434\\u0441\\u0442\\u0432, \\u0432\\u044b\\u0434\\u0430\\u043d\\u043d\\u044b\\u0445 \\u0444\\u0438\\u0437\\u0438\\u0447\\u0435\\u0441\\u043a\\u0438\\u043c \\u0438 \\u044e\\u0440\\u0438\\u0434\\u0438\\u0447\\u0435\\u0441\\u043a\\u0438\\u043c \\u043b\\u0438\\u0446\\u0430\\u043c, \\u0432 \\u0440\\u0430\\u043c\\u043a\\u0430\\u0445 \\u0440\\u0435\\u0430\\u043b\\u0438\\u0437\\u0430\\u0446\\u0438\\u0438 \\u0433\\u043e\\u0441\\u0443\\u0434\\u0430\\u0440\\u0441\\u0442\\u0432\\u0435\\u043d\\u043d\\u043e\\u0439 \\u043c\\u043e\\u043b\\u043e\\u0434\\u0435\\u0436\\u043d\\u043e\\u0439 \\u043f\\u043e\\u043b\\u0438\\u0442\\u0438\\u043a\\u0438\"],\"\\u0413\\u043e\\u0434\":[2016,2017,2018,2019,2020,2021],\"\\u041e\\u0431\\u044a\\u0435\\u043c\":{\"__ndarray__\":\"H4W7+gHr0EE9CpdRNY/AQQAAAAM7fOZBAADQZTGG9UEAAGDn//z1QQAAoDdHyvFB\",\"dtype\":\"float64\",\"order\":\"little\",\"shape\":[6]}},\"selected\":{\"id\":\"30562\"},\"selection_policy\":{\"id\":\"30582\"}},\"id\":\"30561\",\"type\":\"ColumnDataSource\"},{\"attributes\":{},\"id\":\"30495\",\"type\":\"Selection\"},{\"attributes\":{\"coordinates\":null,\"data_source\":{\"id\":\"30677\"},\"glyph\":{\"id\":\"30680\"},\"group\":null,\"hover_glyph\":null,\"muted_glyph\":{\"id\":\"30682\"},\"nonselection_glyph\":{\"id\":\"30681\"},\"selection_glyph\":{\"id\":\"30710\"},\"view\":{\"id\":\"30684\"}},\"id\":\"30683\",\"type\":\"GlyphRenderer\"},{\"attributes\":{\"below\":[{\"id\":\"30467\"}],\"center\":[{\"id\":\"30470\"},{\"id\":\"30474\"},{\"id\":\"30512\"}],\"height\":650,\"left\":[{\"id\":\"30471\"}],\"margin\":[5,5,5,5],\"min_border_bottom\":10,\"min_border_left\":10,\"min_border_right\":10,\"min_border_top\":10,\"renderers\":[{\"id\":\"30500\"},{\"id\":\"30521\"},{\"id\":\"30543\"},{\"id\":\"30567\"},{\"id\":\"30593\"},{\"id\":\"30621\"},{\"id\":\"30651\"},{\"id\":\"30683\"},{\"id\":\"30717\"},{\"id\":\"30753\"},{\"id\":\"30791\"}],\"sizing_mode\":\"fixed\",\"title\":{\"id\":\"30459\"},\"toolbar\":{\"id\":\"30481\"},\"width\":1920,\"x_range\":{\"id\":\"30445\"},\"x_scale\":{\"id\":\"30463\"},\"y_range\":{\"id\":\"30446\"},\"y_scale\":{\"id\":\"30465\"}},\"id\":\"30458\",\"subtype\":\"Figure\",\"type\":\"Plot\"},{\"attributes\":{\"line_color\":\"#6d904f\",\"line_width\":2,\"x\":{\"field\":\"\\u0413\\u043e\\u0434\"},\"y\":{\"field\":\"\\u041e\\u0431\\u044a\\u0435\\u043c\"}},\"id\":\"30586\",\"type\":\"Line\"},{\"attributes\":{\"data\":{\"Variable\":[\"\\u041a\\u043e\\u043b\\u0438\\u0447\\u0435\\u0441\\u0442\\u0432\\u043e \\u0433\\u0440\\u0430\\u043d\\u0442\\u043e\\u0432, \\u0432\\u044b\\u0434\\u0430\\u043d\\u043d\\u044b\\u0445 \\u0444\\u0438\\u0437\\u0438\\u0447\\u0435\\u0441\\u043a\\u0438\\u043c \\u0438 \\u044e\\u0440\\u0438\\u0434\\u0438\\u0447\\u0435\\u0441\\u043a\\u0438\\u043c \\u043b\\u0438\\u0446\\u0430\\u043c, \\u0432 \\u0440\\u0430\\u043c\\u043a\\u0430\\u0445 \\u0440\\u0435\\u0430\\u043b\\u0438\\u0437\\u0430\\u0446\\u0438\\u0438 \\u0433\\u043e\\u0441\\u0443\\u0434\\u0430\\u0440\\u0441\\u0442\\u0432\\u0435\\u043d\\u043d\\u043e\\u0439 \\u043c\\u043e\\u043b\\u043e\\u0434\\u0435\\u0436\\u043d\\u043e\\u0439 \\u043f\\u043e\\u043b\\u0438\\u0442\\u0438\\u043a\\u0438\",\"\\u041a\\u043e\\u043b\\u0438\\u0447\\u0435\\u0441\\u0442\\u0432\\u043e \\u0433\\u0440\\u0430\\u043d\\u0442\\u043e\\u0432, \\u0432\\u044b\\u0434\\u0430\\u043d\\u043d\\u044b\\u0445 \\u0444\\u0438\\u0437\\u0438\\u0447\\u0435\\u0441\\u043a\\u0438\\u043c \\u0438 \\u044e\\u0440\\u0438\\u0434\\u0438\\u0447\\u0435\\u0441\\u043a\\u0438\\u043c \\u043b\\u0438\\u0446\\u0430\\u043c, \\u0432 \\u0440\\u0430\\u043c\\u043a\\u0430\\u0445 \\u0440\\u0435\\u0430\\u043b\\u0438\\u0437\\u0430\\u0446\\u0438\\u0438 \\u0433\\u043e\\u0441\\u0443\\u0434\\u0430\\u0440\\u0441\\u0442\\u0432\\u0435\\u043d\\u043d\\u043e\\u0439 \\u043c\\u043e\\u043b\\u043e\\u0434\\u0435\\u0436\\u043d\\u043e\\u0439 \\u043f\\u043e\\u043b\\u0438\\u0442\\u0438\\u043a\\u0438\",\"\\u041a\\u043e\\u043b\\u0438\\u0447\\u0435\\u0441\\u0442\\u0432\\u043e \\u0433\\u0440\\u0430\\u043d\\u0442\\u043e\\u0432, \\u0432\\u044b\\u0434\\u0430\\u043d\\u043d\\u044b\\u0445 \\u0444\\u0438\\u0437\\u0438\\u0447\\u0435\\u0441\\u043a\\u0438\\u043c \\u0438 \\u044e\\u0440\\u0438\\u0434\\u0438\\u0447\\u0435\\u0441\\u043a\\u0438\\u043c \\u043b\\u0438\\u0446\\u0430\\u043c, \\u0432 \\u0440\\u0430\\u043c\\u043a\\u0430\\u0445 \\u0440\\u0435\\u0430\\u043b\\u0438\\u0437\\u0430\\u0446\\u0438\\u0438 \\u0433\\u043e\\u0441\\u0443\\u0434\\u0430\\u0440\\u0441\\u0442\\u0432\\u0435\\u043d\\u043d\\u043e\\u0439 \\u043c\\u043e\\u043b\\u043e\\u0434\\u0435\\u0436\\u043d\\u043e\\u0439 \\u043f\\u043e\\u043b\\u0438\\u0442\\u0438\\u043a\\u0438\",\"\\u041a\\u043e\\u043b\\u0438\\u0447\\u0435\\u0441\\u0442\\u0432\\u043e \\u0433\\u0440\\u0430\\u043d\\u0442\\u043e\\u0432, \\u0432\\u044b\\u0434\\u0430\\u043d\\u043d\\u044b\\u0445 \\u0444\\u0438\\u0437\\u0438\\u0447\\u0435\\u0441\\u043a\\u0438\\u043c \\u0438 \\u044e\\u0440\\u0438\\u0434\\u0438\\u0447\\u0435\\u0441\\u043a\\u0438\\u043c \\u043b\\u0438\\u0446\\u0430\\u043c, \\u0432 \\u0440\\u0430\\u043c\\u043a\\u0430\\u0445 \\u0440\\u0435\\u0430\\u043b\\u0438\\u0437\\u0430\\u0446\\u0438\\u0438 \\u0433\\u043e\\u0441\\u0443\\u0434\\u0430\\u0440\\u0441\\u0442\\u0432\\u0435\\u043d\\u043d\\u043e\\u0439 \\u043c\\u043e\\u043b\\u043e\\u0434\\u0435\\u0436\\u043d\\u043e\\u0439 \\u043f\\u043e\\u043b\\u0438\\u0442\\u0438\\u043a\\u0438\",\"\\u041a\\u043e\\u043b\\u0438\\u0447\\u0435\\u0441\\u0442\\u0432\\u043e \\u0433\\u0440\\u0430\\u043d\\u0442\\u043e\\u0432, \\u0432\\u044b\\u0434\\u0430\\u043d\\u043d\\u044b\\u0445 \\u0444\\u0438\\u0437\\u0438\\u0447\\u0435\\u0441\\u043a\\u0438\\u043c \\u0438 \\u044e\\u0440\\u0438\\u0434\\u0438\\u0447\\u0435\\u0441\\u043a\\u0438\\u043c \\u043b\\u0438\\u0446\\u0430\\u043c, \\u0432 \\u0440\\u0430\\u043c\\u043a\\u0430\\u0445 \\u0440\\u0435\\u0430\\u043b\\u0438\\u0437\\u0430\\u0446\\u0438\\u0438 \\u0433\\u043e\\u0441\\u0443\\u0434\\u0430\\u0440\\u0441\\u0442\\u0432\\u0435\\u043d\\u043d\\u043e\\u0439 \\u043c\\u043e\\u043b\\u043e\\u0434\\u0435\\u0436\\u043d\\u043e\\u0439 \\u043f\\u043e\\u043b\\u0438\\u0442\\u0438\\u043a\\u0438\",\"\\u041a\\u043e\\u043b\\u0438\\u0447\\u0435\\u0441\\u0442\\u0432\\u043e \\u0433\\u0440\\u0430\\u043d\\u0442\\u043e\\u0432, \\u0432\\u044b\\u0434\\u0430\\u043d\\u043d\\u044b\\u0445 \\u0444\\u0438\\u0437\\u0438\\u0447\\u0435\\u0441\\u043a\\u0438\\u043c \\u0438 \\u044e\\u0440\\u0438\\u0434\\u0438\\u0447\\u0435\\u0441\\u043a\\u0438\\u043c \\u043b\\u0438\\u0446\\u0430\\u043c, \\u0432 \\u0440\\u0430\\u043c\\u043a\\u0430\\u0445 \\u0440\\u0435\\u0430\\u043b\\u0438\\u0437\\u0430\\u0446\\u0438\\u0438 \\u0433\\u043e\\u0441\\u0443\\u0434\\u0430\\u0440\\u0441\\u0442\\u0432\\u0435\\u043d\\u043d\\u043e\\u0439 \\u043c\\u043e\\u043b\\u043e\\u0434\\u0435\\u0436\\u043d\\u043e\\u0439 \\u043f\\u043e\\u043b\\u0438\\u0442\\u0438\\u043a\\u0438\"],\"\\u0413\\u043e\\u0434\":[2016,2017,2018,2019,2020,2021],\"\\u041e\\u0431\\u044a\\u0435\\u043c\":{\"__ndarray__\":\"AAAAAAD0uEAAAAAAAAu4QAAAAACAacJAAAAAAAAPxEAAAAAAgIXQQAAAAACAystA\",\"dtype\":\"float64\",\"order\":\"little\",\"shape\":[6]}},\"selected\":{\"id\":\"30538\"},\"selection_policy\":{\"id\":\"30556\"}},\"id\":\"30537\",\"type\":\"ColumnDataSource\"},{\"attributes\":{},\"id\":\"30463\",\"type\":\"LinearScale\"},{\"attributes\":{\"callback\":null,\"renderers\":[{\"id\":\"30500\"},{\"id\":\"30521\"},{\"id\":\"30543\"},{\"id\":\"30567\"},{\"id\":\"30593\"},{\"id\":\"30621\"},{\"id\":\"30651\"},{\"id\":\"30683\"},{\"id\":\"30717\"},{\"id\":\"30753\"},{\"id\":\"30791\"}],\"tags\":[\"hv_created\"],\"tooltips\":[[\"Variable\",\"@{Variable}\"],[\"\\u0413\\u043e\\u0434\",\"@{\\u0413\\u043e\\u0434}\"],[\"\\u041e\\u0431\\u044a\\u0435\\u043c\",\"@{\\u041e\\u0431\\u044a\\u0435\\u043c}\"]]},\"id\":\"30447\",\"type\":\"HoverTool\"},{\"attributes\":{},\"id\":\"30588\",\"type\":\"Selection\"},{\"attributes\":{\"line_color\":\"#8b8b8b\",\"line_width\":2,\"x\":{\"field\":\"\\u0413\\u043e\\u0434\"},\"y\":{\"field\":\"\\u041e\\u0431\\u044a\\u0435\\u043c\"}},\"id\":\"30590\",\"type\":\"Line\"},{\"attributes\":{\"end\":20874455068.9,\"reset_end\":20874455068.9,\"reset_start\":-1897676585.9,\"start\":-1897676585.9,\"tags\":[[[\"\\u041e\\u0431\\u044a\\u0435\\u043c\",\"\\u041e\\u0431\\u044a\\u0435\\u043c\",null]]]},\"id\":\"30446\",\"type\":\"Range1d\"},{\"attributes\":{\"source\":{\"id\":\"30587\"}},\"id\":\"30594\",\"type\":\"CDSView\"},{\"attributes\":{\"data\":{\"Variable\":[\"\\u041e\\u0431\\u044a\\u0435\\u043c \\u0444\\u0438\\u043d\\u0430\\u043d\\u0441\\u0438\\u0440\\u043e\\u0432\\u0430\\u043d\\u0438\\u044f \\u043c\\u043e\\u043b\\u043e\\u0434\\u0435\\u0436\\u043d\\u043e\\u0439 \\u043f\\u043e\\u043b\\u0438\\u0442\\u0438\\u043a\\u0438 \\u0438\\u0437 \\u0431\\u044e\\u0434\\u0436\\u0435\\u0442\\u0430 \\u0441\\u0443\\u0431\\u044a\\u0435\\u043a\\u0442\\u043e\\u0432 \\u0420\\u043e\\u0441\\u0441\\u0438\\u0439\\u0441\\u043a\\u043e\\u0439 \\u0424\\u0435\\u0434\\u0435\\u0440\\u0430\\u0446\\u0438\\u0438\",\"\\u041e\\u0431\\u044a\\u0435\\u043c \\u0444\\u0438\\u043d\\u0430\\u043d\\u0441\\u0438\\u0440\\u043e\\u0432\\u0430\\u043d\\u0438\\u044f \\u043c\\u043e\\u043b\\u043e\\u0434\\u0435\\u0436\\u043d\\u043e\\u0439 \\u043f\\u043e\\u043b\\u0438\\u0442\\u0438\\u043a\\u0438 \\u0438\\u0437 \\u0431\\u044e\\u0434\\u0436\\u0435\\u0442\\u0430 \\u0441\\u0443\\u0431\\u044a\\u0435\\u043a\\u0442\\u043e\\u0432 \\u0420\\u043e\\u0441\\u0441\\u0438\\u0439\\u0441\\u043a\\u043e\\u0439 \\u0424\\u0435\\u0434\\u0435\\u0440\\u0430\\u0446\\u0438\\u0438\",\"\\u041e\\u0431\\u044a\\u0435\\u043c \\u0444\\u0438\\u043d\\u0430\\u043d\\u0441\\u0438\\u0440\\u043e\\u0432\\u0430\\u043d\\u0438\\u044f \\u043c\\u043e\\u043b\\u043e\\u0434\\u0435\\u0436\\u043d\\u043e\\u0439 \\u043f\\u043e\\u043b\\u0438\\u0442\\u0438\\u043a\\u0438 \\u0438\\u0437 \\u0431\\u044e\\u0434\\u0436\\u0435\\u0442\\u0430 \\u0441\\u0443\\u0431\\u044a\\u0435\\u043a\\u0442\\u043e\\u0432 \\u0420\\u043e\\u0441\\u0441\\u0438\\u0439\\u0441\\u043a\\u043e\\u0439 \\u0424\\u0435\\u0434\\u0435\\u0440\\u0430\\u0446\\u0438\\u0438\",\"\\u041e\\u0431\\u044a\\u0435\\u043c \\u0444\\u0438\\u043d\\u0430\\u043d\\u0441\\u0438\\u0440\\u043e\\u0432\\u0430\\u043d\\u0438\\u044f \\u043c\\u043e\\u043b\\u043e\\u0434\\u0435\\u0436\\u043d\\u043e\\u0439 \\u043f\\u043e\\u043b\\u0438\\u0442\\u0438\\u043a\\u0438 \\u0438\\u0437 \\u0431\\u044e\\u0434\\u0436\\u0435\\u0442\\u0430 \\u0441\\u0443\\u0431\\u044a\\u0435\\u043a\\u0442\\u043e\\u0432 \\u0420\\u043e\\u0441\\u0441\\u0438\\u0439\\u0441\\u043a\\u043e\\u0439 \\u0424\\u0435\\u0434\\u0435\\u0440\\u0430\\u0446\\u0438\\u0438\",\"\\u041e\\u0431\\u044a\\u0435\\u043c \\u0444\\u0438\\u043d\\u0430\\u043d\\u0441\\u0438\\u0440\\u043e\\u0432\\u0430\\u043d\\u0438\\u044f \\u043c\\u043e\\u043b\\u043e\\u0434\\u0435\\u0436\\u043d\\u043e\\u0439 \\u043f\\u043e\\u043b\\u0438\\u0442\\u0438\\u043a\\u0438 \\u0438\\u0437 \\u0431\\u044e\\u0434\\u0436\\u0435\\u0442\\u0430 \\u0441\\u0443\\u0431\\u044a\\u0435\\u043a\\u0442\\u043e\\u0432 \\u0420\\u043e\\u0441\\u0441\\u0438\\u0439\\u0441\\u043a\\u043e\\u0439 \\u0424\\u0435\\u0434\\u0435\\u0440\\u0430\\u0446\\u0438\\u0438\",\"\\u041e\\u0431\\u044a\\u0435\\u043c \\u0444\\u0438\\u043d\\u0430\\u043d\\u0441\\u0438\\u0440\\u043e\\u0432\\u0430\\u043d\\u0438\\u044f \\u043c\\u043e\\u043b\\u043e\\u0434\\u0435\\u0436\\u043d\\u043e\\u0439 \\u043f\\u043e\\u043b\\u0438\\u0442\\u0438\\u043a\\u0438 \\u0438\\u0437 \\u0431\\u044e\\u0434\\u0436\\u0435\\u0442\\u0430 \\u0441\\u0443\\u0431\\u044a\\u0435\\u043a\\u0442\\u043e\\u0432 \\u0420\\u043e\\u0441\\u0441\\u0438\\u0439\\u0441\\u043a\\u043e\\u0439 \\u0424\\u0435\\u0434\\u0435\\u0440\\u0430\\u0446\\u0438\\u0438\"],\"\\u0413\\u043e\\u0434\":[2016,2017,2018,2019,2020,2021],\"\\u041e\\u0431\\u044a\\u0435\\u043c\":{\"__ndarray__\":\"hetJjtFj9UEAAF7UgzcAQuF6xlO8OQZCUrg3Tt+fB0IAAMAaE9kPQgAAMMKVhhFC\",\"dtype\":\"float64\",\"order\":\"little\",\"shape\":[6]}},\"selected\":{\"id\":\"30495\"},\"selection_policy\":{\"id\":\"30509\"}},\"id\":\"30494\",\"type\":\"ColumnDataSource\"},{\"attributes\":{\"line_alpha\":0.2,\"line_color\":\"#8b8b8b\",\"line_width\":2,\"x\":{\"field\":\"\\u0413\\u043e\\u0434\"},\"y\":{\"field\":\"\\u041e\\u0431\\u044a\\u0435\\u043c\"}},\"id\":\"30592\",\"type\":\"Line\"},{\"attributes\":{\"end\":2021.0,\"reset_end\":2021.0,\"reset_start\":2016.0,\"start\":2016.0,\"tags\":[[[\"\\u0413\\u043e\\u0434\",\"\\u0413\\u043e\\u0434\",null]]]},\"id\":\"30445\",\"type\":\"Range1d\"},{\"attributes\":{\"label\":{\"value\":\"\\u041a\\u043e\\u043b\\u0438\\u0447\\u0435\\u0441\\u0442\\u0432\\u043e \\u0440\\u0435\\u0433\\u0438\\u043e\\u043d\\u0430\\u043b\\u044c\\u043d\\u044b\\u0445 \\u043e\\u0431\\u0449\\u0435\\u0441\\u0442\\u0432\\u0435\\u043d\\u043d\\u044b\\u0445 \\u043e\\u0431\\u044a\\u0435\\u0434\\u0438\\u043d\\u0435\\u043d\\u0438\\u0439, \\u043f\\u043e\\u043b\\u044c\\u0437\\u0443\\u044e\\u0449\\u0438\\u0445\\u0441\\u044f \\u0433\\u043e\\u0441\\u0443\\u0434\\u0430\\u0440\\u0441\\u0442\\u0432\\u0435\\u043d\\u043d\\u043e\\u0439 \\u043f\\u043e\\u0434\\u0434\\u0435\\u0440\\u0436\\u043a\\u043e\\u0439\"},\"renderers\":[{\"id\":\"30593\"}]},\"id\":\"30613\",\"type\":\"LegendItem\"},{\"attributes\":{},\"id\":\"30610\",\"type\":\"UnionRenderers\"},{\"attributes\":{\"line_color\":\"#d62728\",\"line_width\":2,\"x\":{\"field\":\"\\u0413\\u043e\\u0434\"},\"y\":{\"field\":\"\\u041e\\u0431\\u044a\\u0435\\u043c\"}},\"id\":\"30710\",\"type\":\"Line\"},{\"attributes\":{\"line_alpha\":0.1,\"line_color\":\"#8b8b8b\",\"line_width\":2,\"x\":{\"field\":\"\\u0413\\u043e\\u0434\"},\"y\":{\"field\":\"\\u041e\\u0431\\u044a\\u0435\\u043c\"}},\"id\":\"30591\",\"type\":\"Line\"},{\"attributes\":{\"label\":{\"value\":\"\\u041e\\u0431\\u044a\\u0435\\u043c \\u0444\\u0438\\u043d\\u0430\\u043d\\u0441\\u0438\\u0440\\u043e\\u0432\\u0430\\u043d\\u0438\\u044f \\u043c\\u043e\\u043b\\u043e\\u0434\\u0435\\u0436\\u043d\\u043e\\u0439 \\u043f\\u043e\\u043b\\u0438\\u0442\\u0438\\u043a\\u0438 \\u0438\\u0437 \\u0431\\u044e\\u0434\\u0436\\u0435\\u0442\\u0430 \\u0441\\u0443\\u0431\\u044a\\u0435\\u043a\\u0442\\u043e\\u0432 \\u0420\\u043e\\u0441\\u0441\\u0438\\u0439\\u0441\\u043a\\u043e\\u0439 \\u0424\\u0435\\u0434\\u0435\\u0440\\u0430\\u0446\\u0438\\u0438\"},\"renderers\":[{\"id\":\"30500\"}]},\"id\":\"30513\",\"type\":\"LegendItem\"},{\"attributes\":{\"line_color\":\"#fc4f30\",\"line_width\":2,\"x\":{\"field\":\"\\u0413\\u043e\\u0434\"},\"y\":{\"field\":\"\\u041e\\u0431\\u044a\\u0435\\u043c\"}},\"id\":\"30518\",\"type\":\"Line\"},{\"attributes\":{\"line_color\":\"#30a2da\",\"line_width\":2,\"x\":{\"field\":\"\\u0413\\u043e\\u0434\"},\"y\":{\"field\":\"\\u041e\\u0431\\u044a\\u0435\\u043c\"}},\"id\":\"30514\",\"type\":\"Line\"},{\"attributes\":{\"coordinates\":null,\"data_source\":{\"id\":\"30587\"},\"glyph\":{\"id\":\"30590\"},\"group\":null,\"hover_glyph\":null,\"muted_glyph\":{\"id\":\"30592\"},\"nonselection_glyph\":{\"id\":\"30591\"},\"selection_glyph\":{\"id\":\"30614\"},\"view\":{\"id\":\"30594\"}},\"id\":\"30593\",\"type\":\"GlyphRenderer\"},{\"attributes\":{\"source\":{\"id\":\"30711\"}},\"id\":\"30718\",\"type\":\"CDSView\"},{\"attributes\":{},\"id\":\"30516\",\"type\":\"Selection\"},{\"attributes\":{\"source\":{\"id\":\"30515\"}},\"id\":\"30522\",\"type\":\"CDSView\"},{\"attributes\":{},\"id\":\"30742\",\"type\":\"UnionRenderers\"},{\"attributes\":{\"line_alpha\":0.2,\"line_color\":\"#fc4f30\",\"line_width\":2,\"x\":{\"field\":\"\\u0413\\u043e\\u0434\"},\"y\":{\"field\":\"\\u041e\\u0431\\u044a\\u0435\\u043c\"}},\"id\":\"30520\",\"type\":\"Line\"},{\"attributes\":{\"line_alpha\":0.1,\"line_color\":\"#1f77b4\",\"line_width\":2,\"x\":{\"field\":\"\\u0413\\u043e\\u0434\"},\"y\":{\"field\":\"\\u041e\\u0431\\u044a\\u0435\\u043c\"}},\"id\":\"30715\",\"type\":\"Line\"},{\"attributes\":{\"label\":{\"value\":\"\\u041e\\u0431\\u044a\\u0435\\u043c \\u0444\\u0438\\u043d\\u0430\\u043d\\u0441\\u0438\\u0440\\u043e\\u0432\\u0430\\u043d\\u0438\\u044f \\u043c\\u043e\\u043b\\u043e\\u0434\\u0435\\u0436\\u043d\\u043e\\u0439 \\u043f\\u043e\\u043b\\u0438\\u0442\\u0438\\u043a\\u0438 \\u0438\\u0437 \\u0431\\u044e\\u0434\\u0436\\u0435\\u0442\\u0430 \\u043e\\u0440\\u0433\\u0430\\u043d\\u043e\\u0432 \\u043c\\u0435\\u0441\\u0442\\u043d\\u043e\\u0433\\u043e \\u0441\\u0430\\u043c\\u043e\\u0443\\u043f\\u0440\\u0430\\u0432\\u043b\\u0435\\u043d\\u0438\\u044f\"},\"renderers\":[{\"id\":\"30521\"}]},\"id\":\"30535\",\"type\":\"LegendItem\"},{\"attributes\":{\"coordinates\":null,\"group\":null,\"text\":\"\\u0421\\u0442\\u0430\\u0442\\u0438\\u0441\\u0442\\u0438\\u043a\\u0430 \\u043f\\u043e \\u0433\\u043e\\u0434\\u0430\\u043c\",\"text_color\":\"black\",\"text_font_size\":\"12pt\"},\"id\":\"30459\",\"type\":\"Title\"},{\"attributes\":{\"label\":{\"value\":\"\\u041a\\u043e\\u043b\\u0438\\u0447\\u0435\\u0441\\u0442\\u0432\\u043e \\u0433\\u0440\\u0430\\u043d\\u0442\\u043e\\u0432, \\u0432\\u044b\\u0434\\u0430\\u043d\\u043d\\u044b\\u0445 \\u0444\\u0438\\u0437\\u0438\\u0447\\u0435\\u0441\\u043a\\u0438\\u043c \\u0438 \\u044e\\u0440\\u0438\\u0434\\u0438\\u0447\\u0435\\u0441\\u043a\\u0438\\u043c \\u043b\\u0438\\u0446\\u0430\\u043c, \\u0432 \\u0440\\u0430\\u043c\\u043a\\u0430\\u0445 \\u0440\\u0435\\u0430\\u043b\\u0438\\u0437\\u0430\\u0446\\u0438\\u0438 \\u0433\\u043e\\u0441\\u0443\\u0434\\u0430\\u0440\\u0441\\u0442\\u0432\\u0435\\u043d\\u043d\\u043e\\u0439 \\u043c\\u043e\\u043b\\u043e\\u0434\\u0435\\u0436\\u043d\\u043e\\u0439 \\u043f\\u043e\\u043b\\u0438\\u0442\\u0438\\u043a\\u0438\"},\"renderers\":[{\"id\":\"30543\"}]},\"id\":\"30559\",\"type\":\"LegendItem\"},{\"attributes\":{\"axis\":{\"id\":\"30467\"},\"coordinates\":null,\"grid_line_color\":null,\"group\":null,\"ticker\":null},\"id\":\"30470\",\"type\":\"Grid\"},{\"attributes\":{},\"id\":\"30532\",\"type\":\"UnionRenderers\"},{\"attributes\":{\"coordinates\":null,\"data_source\":{\"id\":\"30711\"},\"glyph\":{\"id\":\"30714\"},\"group\":null,\"hover_glyph\":null,\"muted_glyph\":{\"id\":\"30716\"},\"nonselection_glyph\":{\"id\":\"30715\"},\"selection_glyph\":{\"id\":\"30746\"},\"view\":{\"id\":\"30718\"}},\"id\":\"30717\",\"type\":\"GlyphRenderer\"},{\"attributes\":{},\"id\":\"30476\",\"type\":\"PanTool\"},{\"attributes\":{},\"id\":\"30465\",\"type\":\"LinearScale\"},{\"attributes\":{},\"id\":\"30616\",\"type\":\"Selection\"},{\"attributes\":{\"line_alpha\":0.1,\"line_color\":\"#fc4f30\",\"line_width\":2,\"x\":{\"field\":\"\\u0413\\u043e\\u0434\"},\"y\":{\"field\":\"\\u041e\\u0431\\u044a\\u0435\\u043c\"}},\"id\":\"30519\",\"type\":\"Line\"},{\"attributes\":{},\"id\":\"30477\",\"type\":\"WheelZoomTool\"},{\"attributes\":{},\"id\":\"30468\",\"type\":\"BasicTicker\"},{\"attributes\":{\"line_color\":\"#8b8b8b\",\"line_width\":2,\"x\":{\"field\":\"\\u0413\\u043e\\u0434\"},\"y\":{\"field\":\"\\u041e\\u0431\\u044a\\u0435\\u043c\"}},\"id\":\"30614\",\"type\":\"Line\"},{\"attributes\":{},\"id\":\"30490\",\"type\":\"AllLabels\"},{\"attributes\":{\"axis_label\":\"\\u041e\\u0431\\u044a\\u0435\\u043c\",\"coordinates\":null,\"formatter\":{\"id\":\"30492\"},\"group\":null,\"major_label_policy\":{\"id\":\"30493\"},\"ticker\":{\"id\":\"30472\"}},\"id\":\"30471\",\"type\":\"LinearAxis\"},{\"attributes\":{\"axis\":{\"id\":\"30471\"},\"coordinates\":null,\"dimension\":1,\"grid_line_color\":null,\"group\":null,\"ticker\":null},\"id\":\"30474\",\"type\":\"Grid\"},{\"attributes\":{\"coordinates\":null,\"data_source\":{\"id\":\"30515\"},\"glyph\":{\"id\":\"30518\"},\"group\":null,\"hover_glyph\":null,\"muted_glyph\":{\"id\":\"30520\"},\"nonselection_glyph\":{\"id\":\"30519\"},\"selection_glyph\":{\"id\":\"30536\"},\"view\":{\"id\":\"30522\"}},\"id\":\"30521\",\"type\":\"GlyphRenderer\"},{\"attributes\":{},\"id\":\"30472\",\"type\":\"BasicTicker\"},{\"attributes\":{},\"id\":\"30475\",\"type\":\"SaveTool\"},{\"attributes\":{\"overlay\":{\"id\":\"30480\"}},\"id\":\"30478\",\"type\":\"BoxZoomTool\"},{\"attributes\":{\"line_alpha\":0.2,\"line_color\":\"#17becf\",\"line_width\":2,\"x\":{\"field\":\"\\u0413\\u043e\\u0434\"},\"y\":{\"field\":\"\\u041e\\u0431\\u044a\\u0435\\u043c\"}},\"id\":\"30620\",\"type\":\"Line\"},{\"attributes\":{},\"id\":\"30479\",\"type\":\"ResetTool\"},{\"attributes\":{\"data\":{\"Variable\":[\"\\u041e\\u0431\\u044a\\u0435\\u043c \\u0444\\u0438\\u043d\\u0430\\u043d\\u0441\\u0438\\u0440\\u043e\\u0432\\u0430\\u043d\\u0438\\u044f \\u043c\\u043e\\u043b\\u043e\\u0434\\u0435\\u0436\\u043d\\u044b\\u0445 \\u0444\\u043e\\u0440\\u0443\\u043c\\u043e\\u0432 \\u0438\\u0437 \\u0441\\u0440\\u0435\\u0434\\u0441\\u0442\\u0432 \\u043e\\u0440\\u0433\\u0430\\u043d\\u043e\\u0432 \\u0431\\u044e\\u0434\\u0436\\u0435\\u0442\\u043e\\u0432 \\u043c\\u0435\\u0441\\u0442\\u043d\\u043e\\u0433\\u043e \\u0441\\u0430\\u043c\\u043e\\u0443\\u043f\\u0440\\u0430\\u0432\\u043b\\u0435\\u043d\\u0438\\u044f\",\"\\u041e\\u0431\\u044a\\u0435\\u043c \\u0444\\u0438\\u043d\\u0430\\u043d\\u0441\\u0438\\u0440\\u043e\\u0432\\u0430\\u043d\\u0438\\u044f \\u043c\\u043e\\u043b\\u043e\\u0434\\u0435\\u0436\\u043d\\u044b\\u0445 \\u0444\\u043e\\u0440\\u0443\\u043c\\u043e\\u0432 \\u0438\\u0437 \\u0441\\u0440\\u0435\\u0434\\u0441\\u0442\\u0432 \\u043e\\u0440\\u0433\\u0430\\u043d\\u043e\\u0432 \\u0431\\u044e\\u0434\\u0436\\u0435\\u0442\\u043e\\u0432 \\u043c\\u0435\\u0441\\u0442\\u043d\\u043e\\u0433\\u043e \\u0441\\u0430\\u043c\\u043e\\u0443\\u043f\\u0440\\u0430\\u0432\\u043b\\u0435\\u043d\\u0438\\u044f\",\"\\u041e\\u0431\\u044a\\u0435\\u043c \\u0444\\u0438\\u043d\\u0430\\u043d\\u0441\\u0438\\u0440\\u043e\\u0432\\u0430\\u043d\\u0438\\u044f \\u043c\\u043e\\u043b\\u043e\\u0434\\u0435\\u0436\\u043d\\u044b\\u0445 \\u0444\\u043e\\u0440\\u0443\\u043c\\u043e\\u0432 \\u0438\\u0437 \\u0441\\u0440\\u0435\\u0434\\u0441\\u0442\\u0432 \\u043e\\u0440\\u0433\\u0430\\u043d\\u043e\\u0432 \\u0431\\u044e\\u0434\\u0436\\u0435\\u0442\\u043e\\u0432 \\u043c\\u0435\\u0441\\u0442\\u043d\\u043e\\u0433\\u043e \\u0441\\u0430\\u043c\\u043e\\u0443\\u043f\\u0440\\u0430\\u0432\\u043b\\u0435\\u043d\\u0438\\u044f\",\"\\u041e\\u0431\\u044a\\u0435\\u043c \\u0444\\u0438\\u043d\\u0430\\u043d\\u0441\\u0438\\u0440\\u043e\\u0432\\u0430\\u043d\\u0438\\u044f \\u043c\\u043e\\u043b\\u043e\\u0434\\u0435\\u0436\\u043d\\u044b\\u0445 \\u0444\\u043e\\u0440\\u0443\\u043c\\u043e\\u0432 \\u0438\\u0437 \\u0441\\u0440\\u0435\\u0434\\u0441\\u0442\\u0432 \\u043e\\u0440\\u0433\\u0430\\u043d\\u043e\\u0432 \\u0431\\u044e\\u0434\\u0436\\u0435\\u0442\\u043e\\u0432 \\u043c\\u0435\\u0441\\u0442\\u043d\\u043e\\u0433\\u043e \\u0441\\u0430\\u043c\\u043e\\u0443\\u043f\\u0440\\u0430\\u0432\\u043b\\u0435\\u043d\\u0438\\u044f\",\"\\u041e\\u0431\\u044a\\u0435\\u043c \\u0444\\u0438\\u043d\\u0430\\u043d\\u0441\\u0438\\u0440\\u043e\\u0432\\u0430\\u043d\\u0438\\u044f \\u043c\\u043e\\u043b\\u043e\\u0434\\u0435\\u0436\\u043d\\u044b\\u0445 \\u0444\\u043e\\u0440\\u0443\\u043c\\u043e\\u0432 \\u0438\\u0437 \\u0441\\u0440\\u0435\\u0434\\u0441\\u0442\\u0432 \\u043e\\u0440\\u0433\\u0430\\u043d\\u043e\\u0432 \\u0431\\u044e\\u0434\\u0436\\u0435\\u0442\\u043e\\u0432 \\u043c\\u0435\\u0441\\u0442\\u043d\\u043e\\u0433\\u043e \\u0441\\u0430\\u043c\\u043e\\u0443\\u043f\\u0440\\u0430\\u0432\\u043b\\u0435\\u043d\\u0438\\u044f\",\"\\u041e\\u0431\\u044a\\u0435\\u043c \\u0444\\u0438\\u043d\\u0430\\u043d\\u0441\\u0438\\u0440\\u043e\\u0432\\u0430\\u043d\\u0438\\u044f \\u043c\\u043e\\u043b\\u043e\\u0434\\u0435\\u0436\\u043d\\u044b\\u0445 \\u0444\\u043e\\u0440\\u0443\\u043c\\u043e\\u0432 \\u0438\\u0437 \\u0441\\u0440\\u0435\\u0434\\u0441\\u0442\\u0432 \\u043e\\u0440\\u0433\\u0430\\u043d\\u043e\\u0432 \\u0431\\u044e\\u0434\\u0436\\u0435\\u0442\\u043e\\u0432 \\u043c\\u0435\\u0441\\u0442\\u043d\\u043e\\u0433\\u043e \\u0441\\u0430\\u043c\\u043e\\u0443\\u043f\\u0440\\u0430\\u0432\\u043b\\u0435\\u043d\\u0438\\u044f\"],\"\\u0413\\u043e\\u0434\":[2016,2017,2018,2019,2020,2021],\"\\u041e\\u0431\\u044a\\u0435\\u043c\":{\"__ndarray__\":\"FK5HPCZjkEFcj8KYtBmWQXE9CksJo5ZBzczMXezhnUHhehQyyNiIQQAAAIJUCp1B\",\"dtype\":\"float64\",\"order\":\"little\",\"shape\":[6]}},\"selected\":{\"id\":\"30786\"},\"selection_policy\":{\"id\":\"30820\"}},\"id\":\"30785\",\"type\":\"ColumnDataSource\"},{\"attributes\":{},\"id\":\"30678\",\"type\":\"Selection\"},{\"attributes\":{},\"id\":\"30640\",\"type\":\"UnionRenderers\"},{\"attributes\":{\"bottom_units\":\"screen\",\"coordinates\":null,\"fill_alpha\":0.5,\"fill_color\":\"lightgrey\",\"group\":null,\"left_units\":\"screen\",\"level\":\"overlay\",\"line_alpha\":1.0,\"line_color\":\"black\",\"line_dash\":[4,4],\"line_width\":2,\"right_units\":\"screen\",\"syncable\":false,\"top_units\":\"screen\"},\"id\":\"30480\",\"type\":\"BoxAnnotation\"},{\"attributes\":{\"label\":{\"value\":\"\\u041a\\u043e\\u043b\\u0438\\u0447\\u0435\\u0441\\u0442\\u0432\\u043e \\u043c\\u0435\\u0441\\u0442\\u043d\\u044b\\u0445 \\u043e\\u0431\\u0449\\u0435\\u0441\\u0442\\u0432\\u0435\\u043d\\u043d\\u044b\\u0445 \\u043e\\u0431\\u044a\\u0435\\u0434\\u0438\\u043d\\u0435\\u043d\\u0438\\u0439, \\u043f\\u043e\\u043b\\u044c\\u0437\\u0443\\u044e\\u0449\\u0438\\u0445\\u0441\\u044f \\u043f\\u043e\\u0434\\u0434\\u0435\\u0440\\u0436\\u043a\\u043e\\u0439\"},\"renderers\":[{\"id\":\"30621\"}]},\"id\":\"30643\",\"type\":\"LegendItem\"},{\"attributes\":{\"line_color\":\"#1f77b4\",\"line_width\":2,\"x\":{\"field\":\"\\u0413\\u043e\\u0434\"},\"y\":{\"field\":\"\\u041e\\u0431\\u044a\\u0435\\u043c\"}},\"id\":\"30746\",\"type\":\"Line\"},{\"attributes\":{\"data\":{\"Variable\":[\"\\u0427\\u0438\\u0441\\u043b\\u0435\\u043d\\u043d\\u043e\\u0441\\u0442\\u044c \\u0443\\u0447\\u0430\\u0441\\u0442\\u043d\\u0438\\u043a\\u043e\\u0432 \\u043c\\u043e\\u043b\\u043e\\u0434\\u0435\\u0436\\u043d\\u044b\\u0445 \\u0444\\u043e\\u0440\\u0443\\u043c\\u043e\\u0432\",\"\\u0427\\u0438\\u0441\\u043b\\u0435\\u043d\\u043d\\u043e\\u0441\\u0442\\u044c \\u0443\\u0447\\u0430\\u0441\\u0442\\u043d\\u0438\\u043a\\u043e\\u0432 \\u043c\\u043e\\u043b\\u043e\\u0434\\u0435\\u0436\\u043d\\u044b\\u0445 \\u0444\\u043e\\u0440\\u0443\\u043c\\u043e\\u0432\",\"\\u0427\\u0438\\u0441\\u043b\\u0435\\u043d\\u043d\\u043e\\u0441\\u0442\\u044c \\u0443\\u0447\\u0430\\u0441\\u0442\\u043d\\u0438\\u043a\\u043e\\u0432 \\u043c\\u043e\\u043b\\u043e\\u0434\\u0435\\u0436\\u043d\\u044b\\u0445 \\u0444\\u043e\\u0440\\u0443\\u043c\\u043e\\u0432\",\"\\u0427\\u0438\\u0441\\u043b\\u0435\\u043d\\u043d\\u043e\\u0441\\u0442\\u044c \\u0443\\u0447\\u0430\\u0441\\u0442\\u043d\\u0438\\u043a\\u043e\\u0432 \\u043c\\u043e\\u043b\\u043e\\u0434\\u0435\\u0436\\u043d\\u044b\\u0445 \\u0444\\u043e\\u0440\\u0443\\u043c\\u043e\\u0432\",\"\\u0427\\u0438\\u0441\\u043b\\u0435\\u043d\\u043d\\u043e\\u0441\\u0442\\u044c \\u0443\\u0447\\u0430\\u0441\\u0442\\u043d\\u0438\\u043a\\u043e\\u0432 \\u043c\\u043e\\u043b\\u043e\\u0434\\u0435\\u0436\\u043d\\u044b\\u0445 \\u0444\\u043e\\u0440\\u0443\\u043c\\u043e\\u0432\",\"\\u0427\\u0438\\u0441\\u043b\\u0435\\u043d\\u043d\\u043e\\u0441\\u0442\\u044c \\u0443\\u0447\\u0430\\u0441\\u0442\\u043d\\u0438\\u043a\\u043e\\u0432 \\u043c\\u043e\\u043b\\u043e\\u0434\\u0435\\u0436\\u043d\\u044b\\u0445 \\u0444\\u043e\\u0440\\u0443\\u043c\\u043e\\u0432\"],\"\\u0413\\u043e\\u0434\":[2016,2017,2018,2019,2020,2021],\"\\u041e\\u0431\\u044a\\u0435\\u043c\":{\"__ndarray__\":\"AAAAAADsFUEAAAAAPHIfQQAAAADaiCtBAAAAAED6LkEAAAAAOtkjQQAAAADxBjVB\",\"dtype\":\"float64\",\"order\":\"little\",\"shape\":[6]}},\"selected\":{\"id\":\"30712\"},\"selection_policy\":{\"id\":\"30742\"}},\"id\":\"30711\",\"type\":\"ColumnDataSource\"},{\"attributes\":{\"line_alpha\":0.1,\"line_color\":\"#17becf\",\"line_width\":2,\"x\":{\"field\":\"\\u0413\\u043e\\u0434\"},\"y\":{\"field\":\"\\u041e\\u0431\\u044a\\u0435\\u043c\"}},\"id\":\"30619\",\"type\":\"Line\"},{\"attributes\":{\"data\":{\"Variable\":[\"\\u041a\\u043e\\u043b\\u0438\\u0447\\u0435\\u0441\\u0442\\u0432\\u043e \\u043c\\u0435\\u0441\\u0442\\u043d\\u044b\\u0445 \\u043e\\u0431\\u0449\\u0435\\u0441\\u0442\\u0432\\u0435\\u043d\\u043d\\u044b\\u0445 \\u043e\\u0431\\u044a\\u0435\\u0434\\u0438\\u043d\\u0435\\u043d\\u0438\\u0439, \\u043f\\u043e\\u043b\\u044c\\u0437\\u0443\\u044e\\u0449\\u0438\\u0445\\u0441\\u044f \\u043f\\u043e\\u0434\\u0434\\u0435\\u0440\\u0436\\u043a\\u043e\\u0439\",\"\\u041a\\u043e\\u043b\\u0438\\u0447\\u0435\\u0441\\u0442\\u0432\\u043e \\u043c\\u0435\\u0441\\u0442\\u043d\\u044b\\u0445 \\u043e\\u0431\\u0449\\u0435\\u0441\\u0442\\u0432\\u0435\\u043d\\u043d\\u044b\\u0445 \\u043e\\u0431\\u044a\\u0435\\u0434\\u0438\\u043d\\u0435\\u043d\\u0438\\u0439, \\u043f\\u043e\\u043b\\u044c\\u0437\\u0443\\u044e\\u0449\\u0438\\u0445\\u0441\\u044f \\u043f\\u043e\\u0434\\u0434\\u0435\\u0440\\u0436\\u043a\\u043e\\u0439\",\"\\u041a\\u043e\\u043b\\u0438\\u0447\\u0435\\u0441\\u0442\\u0432\\u043e \\u043c\\u0435\\u0441\\u0442\\u043d\\u044b\\u0445 \\u043e\\u0431\\u0449\\u0435\\u0441\\u0442\\u0432\\u0435\\u043d\\u043d\\u044b\\u0445 \\u043e\\u0431\\u044a\\u0435\\u0434\\u0438\\u043d\\u0435\\u043d\\u0438\\u0439, \\u043f\\u043e\\u043b\\u044c\\u0437\\u0443\\u044e\\u0449\\u0438\\u0445\\u0441\\u044f \\u043f\\u043e\\u0434\\u0434\\u0435\\u0440\\u0436\\u043a\\u043e\\u0439\",\"\\u041a\\u043e\\u043b\\u0438\\u0447\\u0435\\u0441\\u0442\\u0432\\u043e \\u043c\\u0435\\u0441\\u0442\\u043d\\u044b\\u0445 \\u043e\\u0431\\u0449\\u0435\\u0441\\u0442\\u0432\\u0435\\u043d\\u043d\\u044b\\u0445 \\u043e\\u0431\\u044a\\u0435\\u0434\\u0438\\u043d\\u0435\\u043d\\u0438\\u0439, \\u043f\\u043e\\u043b\\u044c\\u0437\\u0443\\u044e\\u0449\\u0438\\u0445\\u0441\\u044f \\u043f\\u043e\\u0434\\u0434\\u0435\\u0440\\u0436\\u043a\\u043e\\u0439\",\"\\u041a\\u043e\\u043b\\u0438\\u0447\\u0435\\u0441\\u0442\\u0432\\u043e \\u043c\\u0435\\u0441\\u0442\\u043d\\u044b\\u0445 \\u043e\\u0431\\u0449\\u0435\\u0441\\u0442\\u0432\\u0435\\u043d\\u043d\\u044b\\u0445 \\u043e\\u0431\\u044a\\u0435\\u0434\\u0438\\u043d\\u0435\\u043d\\u0438\\u0439, \\u043f\\u043e\\u043b\\u044c\\u0437\\u0443\\u044e\\u0449\\u0438\\u0445\\u0441\\u044f \\u043f\\u043e\\u0434\\u0434\\u0435\\u0440\\u0436\\u043a\\u043e\\u0439\",\"\\u041a\\u043e\\u043b\\u0438\\u0447\\u0435\\u0441\\u0442\\u0432\\u043e \\u043c\\u0435\\u0441\\u0442\\u043d\\u044b\\u0445 \\u043e\\u0431\\u0449\\u0435\\u0441\\u0442\\u0432\\u0435\\u043d\\u043d\\u044b\\u0445 \\u043e\\u0431\\u044a\\u0435\\u0434\\u0438\\u043d\\u0435\\u043d\\u0438\\u0439, \\u043f\\u043e\\u043b\\u044c\\u0437\\u0443\\u044e\\u0449\\u0438\\u0445\\u0441\\u044f \\u043f\\u043e\\u0434\\u0434\\u0435\\u0440\\u0436\\u043a\\u043e\\u0439\"],\"\\u0413\\u043e\\u0434\":[2016,2017,2018,2019,2020,2021],\"\\u041e\\u0431\\u044a\\u0435\\u043c\":{\"__ndarray__\":\"AAAAAADAqkAAAAAAABisQAAAAAAAXqpAAAAAAACur0AAAAAAAN+wQAAAAAAAILBA\",\"dtype\":\"float64\",\"order\":\"little\",\"shape\":[6]}},\"selected\":{\"id\":\"30616\"},\"selection_policy\":{\"id\":\"30640\"}},\"id\":\"30615\",\"type\":\"ColumnDataSource\"},{\"attributes\":{},\"id\":\"30748\",\"type\":\"Selection\"},{\"attributes\":{\"line_color\":\"#e377c2\",\"line_width\":2,\"x\":{\"field\":\"\\u0413\\u043e\\u0434\"},\"y\":{\"field\":\"\\u041e\\u0431\\u044a\\u0435\\u043c\"}},\"id\":\"30750\",\"type\":\"Line\"},{\"attributes\":{\"coordinates\":null,\"data_source\":{\"id\":\"30615\"},\"glyph\":{\"id\":\"30618\"},\"group\":null,\"hover_glyph\":null,\"muted_glyph\":{\"id\":\"30620\"},\"nonselection_glyph\":{\"id\":\"30619\"},\"selection_glyph\":{\"id\":\"30644\"},\"view\":{\"id\":\"30622\"}},\"id\":\"30621\",\"type\":\"GlyphRenderer\"},{\"attributes\":{\"source\":{\"id\":\"30747\"}},\"id\":\"30754\",\"type\":\"CDSView\"},{\"attributes\":{\"tools\":[{\"id\":\"30447\"},{\"id\":\"30475\"},{\"id\":\"30476\"},{\"id\":\"30477\"},{\"id\":\"30478\"},{\"id\":\"30479\"}]},\"id\":\"30481\",\"type\":\"Toolbar\"},{\"attributes\":{\"line_alpha\":0.2,\"line_color\":\"#e377c2\",\"line_width\":2,\"x\":{\"field\":\"\\u0413\\u043e\\u0434\"},\"y\":{\"field\":\"\\u041e\\u0431\\u044a\\u0435\\u043c\"}},\"id\":\"30752\",\"type\":\"Line\"},{\"attributes\":{\"line_color\":\"#fc4f30\",\"line_width\":2,\"x\":{\"field\":\"\\u0413\\u043e\\u0434\"},\"y\":{\"field\":\"\\u041e\\u0431\\u044a\\u0435\\u043c\"}},\"id\":\"30536\",\"type\":\"Line\"},{\"attributes\":{\"label\":{\"value\":\"\\u041e\\u0431\\u044a\\u0435\\u043c \\u0444\\u0438\\u043d\\u0430\\u043d\\u0441\\u0438\\u0440\\u043e\\u0432\\u0430\\u043d\\u0438\\u044f \\u043c\\u043e\\u043b\\u043e\\u0434\\u0435\\u0436\\u043d\\u044b\\u0445 \\u0444\\u043e\\u0440\\u0443\\u043c\\u043e\\u0432 \\u0438\\u0437 \\u0441\\u0440\\u0435\\u0434\\u0441\\u0442\\u0432 \\u0431\\u044e\\u0434\\u0436\\u0435\\u0442\\u043e\\u0432 \\u0441\\u0443\\u0431\\u044a\\u0435\\u043a\\u0442\\u043e\\u0432 \\u0420\\u043e\\u0441\\u0441\\u0438\\u0439\\u0441\\u043a\\u043e\\u0439 \\u0424\\u0435\\u0434\\u0435\\u0440\\u0430\\u0446\\u0438\\u0438\"},\"renderers\":[{\"id\":\"30753\"}]},\"id\":\"30783\",\"type\":\"LegendItem\"},{\"attributes\":{},\"id\":\"30493\",\"type\":\"AllLabels\"},{\"attributes\":{},\"id\":\"30492\",\"type\":\"BasicTickFormatter\"},{\"attributes\":{},\"id\":\"30538\",\"type\":\"Selection\"},{\"attributes\":{\"line_color\":\"#e5ae38\",\"line_width\":2,\"x\":{\"field\":\"\\u0413\\u043e\\u0434\"},\"y\":{\"field\":\"\\u041e\\u0431\\u044a\\u0435\\u043c\"}},\"id\":\"30540\",\"type\":\"Line\"},{\"attributes\":{\"data\":{\"Variable\":[\"\\u041a\\u043e\\u043b\\u0438\\u0447\\u0435\\u0441\\u0442\\u0432\\u043e \\u0440\\u0435\\u0433\\u0438\\u043e\\u043d\\u0430\\u043b\\u044c\\u043d\\u044b\\u0445 \\u043e\\u0431\\u0449\\u0435\\u0441\\u0442\\u0432\\u0435\\u043d\\u043d\\u044b\\u0445 \\u043e\\u0431\\u044a\\u0435\\u0434\\u0438\\u043d\\u0435\\u043d\\u0438\\u0439, \\u043f\\u043e\\u043b\\u044c\\u0437\\u0443\\u044e\\u0449\\u0438\\u0445\\u0441\\u044f \\u0433\\u043e\\u0441\\u0443\\u0434\\u0430\\u0440\\u0441\\u0442\\u0432\\u0435\\u043d\\u043d\\u043e\\u0439 \\u043f\\u043e\\u0434\\u0434\\u0435\\u0440\\u0436\\u043a\\u043e\\u0439\",\"\\u041a\\u043e\\u043b\\u0438\\u0447\\u0435\\u0441\\u0442\\u0432\\u043e \\u0440\\u0435\\u0433\\u0438\\u043e\\u043d\\u0430\\u043b\\u044c\\u043d\\u044b\\u0445 \\u043e\\u0431\\u0449\\u0435\\u0441\\u0442\\u0432\\u0435\\u043d\\u043d\\u044b\\u0445 \\u043e\\u0431\\u044a\\u0435\\u0434\\u0438\\u043d\\u0435\\u043d\\u0438\\u0439, \\u043f\\u043e\\u043b\\u044c\\u0437\\u0443\\u044e\\u0449\\u0438\\u0445\\u0441\\u044f \\u0433\\u043e\\u0441\\u0443\\u0434\\u0430\\u0440\\u0441\\u0442\\u0432\\u0435\\u043d\\u043d\\u043e\\u0439 \\u043f\\u043e\\u0434\\u0434\\u0435\\u0440\\u0436\\u043a\\u043e\\u0439\",\"\\u041a\\u043e\\u043b\\u0438\\u0447\\u0435\\u0441\\u0442\\u0432\\u043e \\u0440\\u0435\\u0433\\u0438\\u043e\\u043d\\u0430\\u043b\\u044c\\u043d\\u044b\\u0445 \\u043e\\u0431\\u0449\\u0435\\u0441\\u0442\\u0432\\u0435\\u043d\\u043d\\u044b\\u0445 \\u043e\\u0431\\u044a\\u0435\\u0434\\u0438\\u043d\\u0435\\u043d\\u0438\\u0439, \\u043f\\u043e\\u043b\\u044c\\u0437\\u0443\\u044e\\u0449\\u0438\\u0445\\u0441\\u044f \\u0433\\u043e\\u0441\\u0443\\u0434\\u0430\\u0440\\u0441\\u0442\\u0432\\u0435\\u043d\\u043d\\u043e\\u0439 \\u043f\\u043e\\u0434\\u0434\\u0435\\u0440\\u0436\\u043a\\u043e\\u0439\",\"\\u041a\\u043e\\u043b\\u0438\\u0447\\u0435\\u0441\\u0442\\u0432\\u043e \\u0440\\u0435\\u0433\\u0438\\u043e\\u043d\\u0430\\u043b\\u044c\\u043d\\u044b\\u0445 \\u043e\\u0431\\u0449\\u0435\\u0441\\u0442\\u0432\\u0435\\u043d\\u043d\\u044b\\u0445 \\u043e\\u0431\\u044a\\u0435\\u0434\\u0438\\u043d\\u0435\\u043d\\u0438\\u0439, \\u043f\\u043e\\u043b\\u044c\\u0437\\u0443\\u044e\\u0449\\u0438\\u0445\\u0441\\u044f \\u0433\\u043e\\u0441\\u0443\\u0434\\u0430\\u0440\\u0441\\u0442\\u0432\\u0435\\u043d\\u043d\\u043e\\u0439 \\u043f\\u043e\\u0434\\u0434\\u0435\\u0440\\u0436\\u043a\\u043e\\u0439\",\"\\u041a\\u043e\\u043b\\u0438\\u0447\\u0435\\u0441\\u0442\\u0432\\u043e \\u0440\\u0435\\u0433\\u0438\\u043e\\u043d\\u0430\\u043b\\u044c\\u043d\\u044b\\u0445 \\u043e\\u0431\\u0449\\u0435\\u0441\\u0442\\u0432\\u0435\\u043d\\u043d\\u044b\\u0445 \\u043e\\u0431\\u044a\\u0435\\u0434\\u0438\\u043d\\u0435\\u043d\\u0438\\u0439, \\u043f\\u043e\\u043b\\u044c\\u0437\\u0443\\u044e\\u0449\\u0438\\u0445\\u0441\\u044f \\u0433\\u043e\\u0441\\u0443\\u0434\\u0430\\u0440\\u0441\\u0442\\u0432\\u0435\\u043d\\u043d\\u043e\\u0439 \\u043f\\u043e\\u0434\\u0434\\u0435\\u0440\\u0436\\u043a\\u043e\\u0439\",\"\\u041a\\u043e\\u043b\\u0438\\u0447\\u0435\\u0441\\u0442\\u0432\\u043e \\u0440\\u0435\\u0433\\u0438\\u043e\\u043d\\u0430\\u043b\\u044c\\u043d\\u044b\\u0445 \\u043e\\u0431\\u0449\\u0435\\u0441\\u0442\\u0432\\u0435\\u043d\\u043d\\u044b\\u0445 \\u043e\\u0431\\u044a\\u0435\\u0434\\u0438\\u043d\\u0435\\u043d\\u0438\\u0439, \\u043f\\u043e\\u043b\\u044c\\u0437\\u0443\\u044e\\u0449\\u0438\\u0445\\u0441\\u044f \\u0433\\u043e\\u0441\\u0443\\u0434\\u0430\\u0440\\u0441\\u0442\\u0432\\u0435\\u043d\\u043d\\u043e\\u0439 \\u043f\\u043e\\u0434\\u0434\\u0435\\u0440\\u0436\\u043a\\u043e\\u0439\"],\"\\u0413\\u043e\\u0434\":[2016,2017,2018,2019,2020,2021],\"\\u041e\\u0431\\u044a\\u0435\\u043c\":{\"__ndarray__\":\"AAAAAABImUAAAAAAAHCQQAAAAAAADJRAAAAAAAAzs0AAAAAAAFKyQAAAAAAAGJJA\",\"dtype\":\"float64\",\"order\":\"little\",\"shape\":[6]}},\"selected\":{\"id\":\"30588\"},\"selection_policy\":{\"id\":\"30610\"}},\"id\":\"30587\",\"type\":\"ColumnDataSource\"},{\"attributes\":{},\"id\":\"30780\",\"type\":\"UnionRenderers\"},{\"attributes\":{\"data\":{\"Variable\":[\"\\u041e\\u0431\\u044a\\u0435\\u043c \\u0444\\u0438\\u043d\\u0430\\u043d\\u0441\\u0438\\u0440\\u043e\\u0432\\u0430\\u043d\\u0438\\u044f \\u043c\\u043e\\u043b\\u043e\\u0434\\u0435\\u0436\\u043d\\u044b\\u0445 \\u0444\\u043e\\u0440\\u0443\\u043c\\u043e\\u0432 \\u0438\\u0437 \\u0441\\u0440\\u0435\\u0434\\u0441\\u0442\\u0432 \\u0431\\u044e\\u0434\\u0436\\u0435\\u0442\\u043e\\u0432 \\u0441\\u0443\\u0431\\u044a\\u0435\\u043a\\u0442\\u043e\\u0432 \\u0420\\u043e\\u0441\\u0441\\u0438\\u0439\\u0441\\u043a\\u043e\\u0439 \\u0424\\u0435\\u0434\\u0435\\u0440\\u0430\\u0446\\u0438\\u0438\",\"\\u041e\\u0431\\u044a\\u0435\\u043c \\u0444\\u0438\\u043d\\u0430\\u043d\\u0441\\u0438\\u0440\\u043e\\u0432\\u0430\\u043d\\u0438\\u044f \\u043c\\u043e\\u043b\\u043e\\u0434\\u0435\\u0436\\u043d\\u044b\\u0445 \\u0444\\u043e\\u0440\\u0443\\u043c\\u043e\\u0432 \\u0438\\u0437 \\u0441\\u0440\\u0435\\u0434\\u0441\\u0442\\u0432 \\u0431\\u044e\\u0434\\u0436\\u0435\\u0442\\u043e\\u0432 \\u0441\\u0443\\u0431\\u044a\\u0435\\u043a\\u0442\\u043e\\u0432 \\u0420\\u043e\\u0441\\u0441\\u0438\\u0439\\u0441\\u043a\\u043e\\u0439 \\u0424\\u0435\\u0434\\u0435\\u0440\\u0430\\u0446\\u0438\\u0438\",\"\\u041e\\u0431\\u044a\\u0435\\u043c \\u0444\\u0438\\u043d\\u0430\\u043d\\u0441\\u0438\\u0440\\u043e\\u0432\\u0430\\u043d\\u0438\\u044f \\u043c\\u043e\\u043b\\u043e\\u0434\\u0435\\u0436\\u043d\\u044b\\u0445 \\u0444\\u043e\\u0440\\u0443\\u043c\\u043e\\u0432 \\u0438\\u0437 \\u0441\\u0440\\u0435\\u0434\\u0441\\u0442\\u0432 \\u0431\\u044e\\u0434\\u0436\\u0435\\u0442\\u043e\\u0432 \\u0441\\u0443\\u0431\\u044a\\u0435\\u043a\\u0442\\u043e\\u0432 \\u0420\\u043e\\u0441\\u0441\\u0438\\u0439\\u0441\\u043a\\u043e\\u0439 \\u0424\\u0435\\u0434\\u0435\\u0440\\u0430\\u0446\\u0438\\u0438\",\"\\u041e\\u0431\\u044a\\u0435\\u043c \\u0444\\u0438\\u043d\\u0430\\u043d\\u0441\\u0438\\u0440\\u043e\\u0432\\u0430\\u043d\\u0438\\u044f \\u043c\\u043e\\u043b\\u043e\\u0434\\u0435\\u0436\\u043d\\u044b\\u0445 \\u0444\\u043e\\u0440\\u0443\\u043c\\u043e\\u0432 \\u0438\\u0437 \\u0441\\u0440\\u0435\\u0434\\u0441\\u0442\\u0432 \\u0431\\u044e\\u0434\\u0436\\u0435\\u0442\\u043e\\u0432 \\u0441\\u0443\\u0431\\u044a\\u0435\\u043a\\u0442\\u043e\\u0432 \\u0420\\u043e\\u0441\\u0441\\u0438\\u0439\\u0441\\u043a\\u043e\\u0439 \\u0424\\u0435\\u0434\\u0435\\u0440\\u0430\\u0446\\u0438\\u0438\",\"\\u041e\\u0431\\u044a\\u0435\\u043c \\u0444\\u0438\\u043d\\u0430\\u043d\\u0441\\u0438\\u0440\\u043e\\u0432\\u0430\\u043d\\u0438\\u044f \\u043c\\u043e\\u043b\\u043e\\u0434\\u0435\\u0436\\u043d\\u044b\\u0445 \\u0444\\u043e\\u0440\\u0443\\u043c\\u043e\\u0432 \\u0438\\u0437 \\u0441\\u0440\\u0435\\u0434\\u0441\\u0442\\u0432 \\u0431\\u044e\\u0434\\u0436\\u0435\\u0442\\u043e\\u0432 \\u0441\\u0443\\u0431\\u044a\\u0435\\u043a\\u0442\\u043e\\u0432 \\u0420\\u043e\\u0441\\u0441\\u0438\\u0439\\u0441\\u043a\\u043e\\u0439 \\u0424\\u0435\\u0434\\u0435\\u0440\\u0430\\u0446\\u0438\\u0438\",\"\\u041e\\u0431\\u044a\\u0435\\u043c \\u0444\\u0438\\u043d\\u0430\\u043d\\u0441\\u0438\\u0440\\u043e\\u0432\\u0430\\u043d\\u0438\\u044f \\u043c\\u043e\\u043b\\u043e\\u0434\\u0435\\u0436\\u043d\\u044b\\u0445 \\u0444\\u043e\\u0440\\u0443\\u043c\\u043e\\u0432 \\u0438\\u0437 \\u0441\\u0440\\u0435\\u0434\\u0441\\u0442\\u0432 \\u0431\\u044e\\u0434\\u0436\\u0435\\u0442\\u043e\\u0432 \\u0441\\u0443\\u0431\\u044a\\u0435\\u043a\\u0442\\u043e\\u0432 \\u0420\\u043e\\u0441\\u0441\\u0438\\u0439\\u0441\\u043a\\u043e\\u0439 \\u0424\\u0435\\u0434\\u0435\\u0440\\u0430\\u0446\\u0438\\u0438\"],\"\\u0413\\u043e\\u0434\":[2016,2017,2018,2019,2020,2021],\"\\u041e\\u0431\\u044a\\u0435\\u043c\":{\"__ndarray__\":\"ZmYmi5egx0FxPcrQbOvKQZqZma2vjtBBmpmZhIwD00FSuB6djtzKQTMzMx3QM9FB\",\"dtype\":\"float64\",\"order\":\"little\",\"shape\":[6]}},\"selected\":{\"id\":\"30748\"},\"selection_policy\":{\"id\":\"30780\"}},\"id\":\"30747\",\"type\":\"ColumnDataSource\"},{\"attributes\":{\"source\":{\"id\":\"30537\"}},\"id\":\"30544\",\"type\":\"CDSView\"},{\"attributes\":{\"line_alpha\":0.1,\"line_color\":\"#e377c2\",\"line_width\":2,\"x\":{\"field\":\"\\u0413\\u043e\\u0434\"},\"y\":{\"field\":\"\\u041e\\u0431\\u044a\\u0435\\u043c\"}},\"id\":\"30751\",\"type\":\"Line\"},{\"attributes\":{\"line_alpha\":0.2,\"line_color\":\"#e5ae38\",\"line_width\":2,\"x\":{\"field\":\"\\u0413\\u043e\\u0434\"},\"y\":{\"field\":\"\\u041e\\u0431\\u044a\\u0435\\u043c\"}},\"id\":\"30542\",\"type\":\"Line\"},{\"attributes\":{},\"id\":\"30489\",\"type\":\"BasicTickFormatter\"},{\"attributes\":{\"coordinates\":null,\"data_source\":{\"id\":\"30747\"},\"glyph\":{\"id\":\"30750\"},\"group\":null,\"hover_glyph\":null,\"muted_glyph\":{\"id\":\"30752\"},\"nonselection_glyph\":{\"id\":\"30751\"},\"selection_glyph\":{\"id\":\"30784\"},\"view\":{\"id\":\"30754\"}},\"id\":\"30753\",\"type\":\"GlyphRenderer\"},{\"attributes\":{},\"id\":\"30556\",\"type\":\"UnionRenderers\"},{\"attributes\":{\"data\":{\"Variable\":[\"\\u041a\\u043e\\u043b\\u0438\\u0447\\u0435\\u0441\\u0442\\u0432\\u043e \\u043e\\u0440\\u0433\\u0430\\u043d\\u043e\\u0432 \\u043c\\u043e\\u043b\\u043e\\u0434\\u0435\\u0436\\u043d\\u043e\\u0433\\u043e \\u0441\\u0430\\u043c\\u043e\\u0443\\u043f\\u0440\\u0430\\u0432\\u043b\\u0435\\u043d\\u0438\\u044f\",\"\\u041a\\u043e\\u043b\\u0438\\u0447\\u0435\\u0441\\u0442\\u0432\\u043e \\u043e\\u0440\\u0433\\u0430\\u043d\\u043e\\u0432 \\u043c\\u043e\\u043b\\u043e\\u0434\\u0435\\u0436\\u043d\\u043e\\u0433\\u043e \\u0441\\u0430\\u043c\\u043e\\u0443\\u043f\\u0440\\u0430\\u0432\\u043b\\u0435\\u043d\\u0438\\u044f\",\"\\u041a\\u043e\\u043b\\u0438\\u0447\\u0435\\u0441\\u0442\\u0432\\u043e \\u043e\\u0440\\u0433\\u0430\\u043d\\u043e\\u0432 \\u043c\\u043e\\u043b\\u043e\\u0434\\u0435\\u0436\\u043d\\u043e\\u0433\\u043e \\u0441\\u0430\\u043c\\u043e\\u0443\\u043f\\u0440\\u0430\\u0432\\u043b\\u0435\\u043d\\u0438\\u044f\",\"\\u041a\\u043e\\u043b\\u0438\\u0447\\u0435\\u0441\\u0442\\u0432\\u043e \\u043e\\u0440\\u0433\\u0430\\u043d\\u043e\\u0432 \\u043c\\u043e\\u043b\\u043e\\u0434\\u0435\\u0436\\u043d\\u043e\\u0433\\u043e \\u0441\\u0430\\u043c\\u043e\\u0443\\u043f\\u0440\\u0430\\u0432\\u043b\\u0435\\u043d\\u0438\\u044f\",\"\\u041a\\u043e\\u043b\\u0438\\u0447\\u0435\\u0441\\u0442\\u0432\\u043e \\u043e\\u0440\\u0433\\u0430\\u043d\\u043e\\u0432 \\u043c\\u043e\\u043b\\u043e\\u0434\\u0435\\u0436\\u043d\\u043e\\u0433\\u043e \\u0441\\u0430\\u043c\\u043e\\u0443\\u043f\\u0440\\u0430\\u0432\\u043b\\u0435\\u043d\\u0438\\u044f\",\"\\u041a\\u043e\\u043b\\u0438\\u0447\\u0435\\u0441\\u0442\\u0432\\u043e \\u043e\\u0440\\u0433\\u0430\\u043d\\u043e\\u0432 \\u043c\\u043e\\u043b\\u043e\\u0434\\u0435\\u0436\\u043d\\u043e\\u0433\\u043e \\u0441\\u0430\\u043c\\u043e\\u0443\\u043f\\u0440\\u0430\\u0432\\u043b\\u0435\\u043d\\u0438\\u044f\"],\"\\u0413\\u043e\\u0434\":[2016,2017,2018,2019,2020,2021],\"\\u041e\\u0431\\u044a\\u0435\\u043c\":{\"__ndarray__\":\"AAAAAACOrUAAAAAAAKWzQAAAAAAAobNAAAAAAABJskAAAAAAAHmxQAAAAAAA+bBA\",\"dtype\":\"float64\",\"order\":\"little\",\"shape\":[6]}},\"selected\":{\"id\":\"30646\"},\"selection_policy\":{\"id\":\"30672\"}},\"id\":\"30645\",\"type\":\"ColumnDataSource\"},{\"attributes\":{\"line_alpha\":0.1,\"line_color\":\"#e5ae38\",\"line_width\":2,\"x\":{\"field\":\"\\u0413\\u043e\\u0434\"},\"y\":{\"field\":\"\\u041e\\u0431\\u044a\\u0435\\u043c\"}},\"id\":\"30541\",\"type\":\"Line\"},{\"attributes\":{\"line_color\":\"#17becf\",\"line_width\":2,\"x\":{\"field\":\"\\u0413\\u043e\\u0434\"},\"y\":{\"field\":\"\\u041e\\u0431\\u044a\\u0435\\u043c\"}},\"id\":\"30644\",\"type\":\"Line\"}],\"root_ids\":[\"30444\"]},\"title\":\"Bokeh Application\",\"version\":\"2.4.3\"}};\n",
       "    var render_items = [{\"docid\":\"0bf9a06e-d568-4e13-8fd5-01fa00d393de\",\"root_ids\":[\"30444\"],\"roots\":{\"30444\":\"ec5318d2-501c-4718-949d-7782aa3f4d99\"}}];\n",
       "    root.Bokeh.embed.embed_items_notebook(docs_json, render_items);\n",
       "    for (const render_item of render_items) {\n",
       "      for (const root_id of render_item.root_ids) {\n",
       "\tconst id_el = document.getElementById(root_id)\n",
       "\tif (id_el.children.length && (id_el.children[0].className === 'bk-root')) {\n",
       "\t  const root_el = id_el.children[0]\n",
       "\t  root_el.id = root_el.id + '-rendered'\n",
       "\t}\n",
       "      }\n",
       "    }\n",
       "  }\n",
       "  if (root.Bokeh !== undefined && root.Bokeh.Panel !== undefined && ( root['Tabulator'] !== undefined) && ( root['Tabulator'] !== undefined) && ( root['Plotly'] !== undefined) && ( root['Plotly'] !== undefined) && ( root['Tabulator'] !== undefined) && ( root['Tabulator'] !== undefined) && ( root['Tabulator'] !== undefined) && ( root['Tabulator'] !== undefined) && ( root['Tabulator'] !== undefined)) {\n",
       "    embed_document(root);\n",
       "  } else {\n",
       "    var attempts = 0;\n",
       "    var timer = setInterval(function(root) {\n",
       "      if (root.Bokeh !== undefined && root.Bokeh.Panel !== undefined && (root['Tabulator'] !== undefined) && (root['Tabulator'] !== undefined) && (root['Plotly'] !== undefined) && (root['Plotly'] !== undefined) && (root['Tabulator'] !== undefined) && (root['Tabulator'] !== undefined) && (root['Tabulator'] !== undefined) && (root['Tabulator'] !== undefined) && (root['Tabulator'] !== undefined)) {\n",
       "        clearInterval(timer);\n",
       "        embed_document(root);\n",
       "      } else if (document.readyState == \"complete\") {\n",
       "        attempts++;\n",
       "        if (attempts > 200) {\n",
       "          clearInterval(timer);\n",
       "          console.log(\"Bokeh: ERROR: Unable to run BokehJS code because BokehJS library is missing\");\n",
       "        }\n",
       "      }\n",
       "    }, 25, root)\n",
       "  }\n",
       "})(window);</script>"
      ],
      "text/plain": [
       ":NdOverlay   [Variable]\n",
       "   :Curve   [Год]   (Объем)"
      ]
     },
     "execution_count": 327,
     "metadata": {
      "application/vnd.holoviews_exec.v0+json": {
       "id": "30444"
      }
     },
     "output_type": "execute_result"
    }
   ],
   "source": [
    "ans_plot_1"
   ]
  },
  {
   "cell_type": "code",
   "execution_count": null,
   "id": "2f61fff6",
   "metadata": {},
   "outputs": [],
   "source": []
  },
  {
   "cell_type": "code",
   "execution_count": null,
   "id": "3b485e0f",
   "metadata": {},
   "outputs": [],
   "source": []
  },
  {
   "cell_type": "code",
   "execution_count": null,
   "id": "734e4da0",
   "metadata": {},
   "outputs": [],
   "source": []
  },
  {
   "cell_type": "code",
   "execution_count": null,
   "id": "8740fd9f",
   "metadata": {
    "scrolled": false
   },
   "outputs": [],
   "source": [
    "grouped_r1_region"
   ]
  },
  {
   "cell_type": "code",
   "execution_count": null,
   "id": "589e85af",
   "metadata": {},
   "outputs": [],
   "source": []
  },
  {
   "cell_type": "code",
   "execution_count": null,
   "id": "b070deab",
   "metadata": {},
   "outputs": [],
   "source": []
  },
  {
   "cell_type": "code",
   "execution_count": null,
   "id": "84b20567",
   "metadata": {},
   "outputs": [],
   "source": [
    "ireg_df = grouped_r1_region.interactive()"
   ]
  },
  {
   "cell_type": "code",
   "execution_count": null,
   "id": "df20c3f4",
   "metadata": {},
   "outputs": [],
   "source": [
    "l = [i for i in grouped_r1_region.reset_index()['Регион']]"
   ]
  },
  {
   "cell_type": "code",
   "execution_count": null,
   "id": "6b684df9",
   "metadata": {
    "scrolled": true
   },
   "outputs": [],
   "source": [
    "reg_name_select = pn.widgets.Select(name='Выбор региона', options=l)"
   ]
  },
  {
   "cell_type": "code",
   "execution_count": null,
   "id": "9bc1d7c3",
   "metadata": {
    "scrolled": true
   },
   "outputs": [],
   "source": [
    "reg_name_select"
   ]
  },
  {
   "cell_type": "markdown",
   "id": "e950859b",
   "metadata": {},
   "source": [
    "### Доля грантов по стране"
   ]
  },
  {
   "cell_type": "code",
   "execution_count": null,
   "id": "169c9f03",
   "metadata": {
    "scrolled": true
   },
   "outputs": [],
   "source": [
    "da_1 = ireg_df[ireg_df.index==reg_name_select]\n",
    "da_1['доля грантов по стране']"
   ]
  },
  {
   "cell_type": "code",
   "execution_count": null,
   "id": "656c0d36",
   "metadata": {},
   "outputs": [],
   "source": []
  },
  {
   "cell_type": "code",
   "execution_count": null,
   "id": "0b40ecb3",
   "metadata": {},
   "outputs": [],
   "source": []
  },
  {
   "cell_type": "code",
   "execution_count": null,
   "id": "d828bd2d",
   "metadata": {},
   "outputs": [],
   "source": [
    "# Добавить столбцы доли расходов в % \n",
    "r2['Доля расходов на мер-я, %'] = r2['Расходы на мероприятия'] / r2['Всего объeм финансирования, руб'] * 100"
   ]
  },
  {
   "cell_type": "code",
   "execution_count": null,
   "id": "e54ff28a",
   "metadata": {},
   "outputs": [],
   "source": [
    "# удалить из r2  строки с маленькой буквы\n",
    "r2['Заглавная'] = r2['Наименование'].str.count(r'[А-Я]')"
   ]
  },
  {
   "cell_type": "code",
   "execution_count": null,
   "id": "d274d8e6",
   "metadata": {},
   "outputs": [],
   "source": [
    "r2 = r2[r2['Заглавная']==1]"
   ]
  },
  {
   "cell_type": "code",
   "execution_count": null,
   "id": "e87359e8",
   "metadata": {},
   "outputs": [],
   "source": [
    "r2['Регион/муниц структуры'] = r2['Наименование'].str.contains('Региональные').astype(int)"
   ]
  },
  {
   "cell_type": "code",
   "execution_count": null,
   "id": "8ed4635e",
   "metadata": {},
   "outputs": [],
   "source": [
    "r2['Регион/муниц структуры'][r2['Регион/муниц структуры']==1] = 'Региональные'\n",
    "r2['Регион/муниц структуры'][r2['Регион/муниц структуры']==0] = 'Муниципальные'\n",
    "r2.index = r2['Регион/муниц структуры']"
   ]
  },
  {
   "cell_type": "code",
   "execution_count": null,
   "id": "9686862e",
   "metadata": {},
   "outputs": [],
   "source": []
  },
  {
   "cell_type": "code",
   "execution_count": null,
   "id": "3f8c2153",
   "metadata": {},
   "outputs": [],
   "source": [
    "idf = r2.interactive()"
   ]
  },
  {
   "cell_type": "code",
   "execution_count": null,
   "id": "72263f60",
   "metadata": {
    "scrolled": true
   },
   "outputs": [],
   "source": [
    "idf"
   ]
  },
  {
   "cell_type": "code",
   "execution_count": null,
   "id": "6f7b948a",
   "metadata": {
    "scrolled": true
   },
   "outputs": [],
   "source": [
    "reg_name_select"
   ]
  },
  {
   "cell_type": "code",
   "execution_count": null,
   "id": "b47ef43a",
   "metadata": {},
   "outputs": [],
   "source": [
    "hvplot.extension('plotly')"
   ]
  },
  {
   "cell_type": "code",
   "execution_count": null,
   "id": "1bb90107",
   "metadata": {},
   "outputs": [],
   "source": [
    "pn.extension('plotly')"
   ]
  },
  {
   "cell_type": "code",
   "execution_count": null,
   "id": "4d845496",
   "metadata": {},
   "outputs": [],
   "source": [
    "pn.pane.Plotly()"
   ]
  },
  {
   "cell_type": "code",
   "execution_count": null,
   "id": "8b51a9df",
   "metadata": {},
   "outputs": [],
   "source": [
    "\n",
    "idf.hvplot.scatter('Кол-во структур, ед', labels=reg_name_select, widget_location='top')"
   ]
  },
  {
   "cell_type": "code",
   "execution_count": null,
   "id": "4159edd8",
   "metadata": {},
   "outputs": [],
   "source": []
  },
  {
   "cell_type": "code",
   "execution_count": null,
   "id": "847a9aac",
   "metadata": {},
   "outputs": [],
   "source": [
    "selected = reg_name_select.value"
   ]
  },
  {
   "cell_type": "code",
   "execution_count": null,
   "id": "5677439d",
   "metadata": {},
   "outputs": [],
   "source": [
    "selected"
   ]
  },
  {
   "cell_type": "code",
   "execution_count": null,
   "id": "271bea20",
   "metadata": {},
   "outputs": [],
   "source": [
    "import plotly.express as px\n",
    "fig = ppie(idf, values='Кол-во структур, ед', names=selected, title='Population of European continent')\n",
    "fig.show()"
   ]
  },
  {
   "cell_type": "code",
   "execution_count": null,
   "id": "04dabb78",
   "metadata": {},
   "outputs": [],
   "source": []
  },
  {
   "cell_type": "code",
   "execution_count": null,
   "id": "bc01288d",
   "metadata": {},
   "outputs": [],
   "source": []
  },
  {
   "cell_type": "markdown",
   "id": "659ca131",
   "metadata": {},
   "source": [
    "### End analytics graph block"
   ]
  },
  {
   "cell_type": "code",
   "execution_count": null,
   "id": "5c0db6f6",
   "metadata": {},
   "outputs": [],
   "source": [
    "df_p1   = form_m1['Р1']\n",
    "df_pp1  = form_m1['Раздел 1']"
   ]
  },
  {
   "cell_type": "code",
   "execution_count": null,
   "id": "54124714",
   "metadata": {},
   "outputs": [],
   "source": []
  },
  {
   "cell_type": "code",
   "execution_count": null,
   "id": "e2d50e66",
   "metadata": {},
   "outputs": [],
   "source": [
    "# data preprocessing"
   ]
  },
  {
   "cell_type": "code",
   "execution_count": null,
   "id": "5bdcb314",
   "metadata": {},
   "outputs": [],
   "source": [
    "df_p1.head()"
   ]
  },
  {
   "cell_type": "code",
   "execution_count": null,
   "id": "cfb1f358",
   "metadata": {
    "scrolled": true
   },
   "outputs": [],
   "source": [
    "df_p1.shape"
   ]
  },
  {
   "cell_type": "code",
   "execution_count": null,
   "id": "7e67b581",
   "metadata": {},
   "outputs": [],
   "source": [
    "df_p1 = df_p1.drop(columns=['Unnamed: 11', 'Unnamed: 12'])"
   ]
  },
  {
   "cell_type": "code",
   "execution_count": null,
   "id": "9e4929f3",
   "metadata": {
    "scrolled": true
   },
   "outputs": [],
   "source": [
    "df_p1.dtypes"
   ]
  },
  {
   "cell_type": "code",
   "execution_count": null,
   "id": "4ea1a296",
   "metadata": {
    "scrolled": false
   },
   "outputs": [],
   "source": [
    "df_p1.isna().sum()"
   ]
  },
  {
   "cell_type": "code",
   "execution_count": null,
   "id": "583668a9",
   "metadata": {},
   "outputs": [],
   "source": [
    "df_p1 = df_p1.fillna(0)"
   ]
  },
  {
   "cell_type": "code",
   "execution_count": null,
   "id": "43f67094",
   "metadata": {},
   "outputs": [],
   "source": [
    "# make interactive dataframe\n",
    "idf = df_p1.interactive()"
   ]
  },
  {
   "cell_type": "code",
   "execution_count": null,
   "id": "5f693457",
   "metadata": {},
   "outputs": [],
   "source": []
  },
  {
   "cell_type": "markdown",
   "id": "ff0a58f0",
   "metadata": {},
   "source": [
    "### Расходы по разным направлениям с выбором округа (одиночный или множественный)"
   ]
  },
  {
   "cell_type": "code",
   "execution_count": null,
   "id": "9e2e51c3",
   "metadata": {},
   "outputs": [],
   "source": [
    "df_p1['Год'].dtype"
   ]
  },
  {
   "cell_type": "code",
   "execution_count": null,
   "id": "319af5ce",
   "metadata": {},
   "outputs": [],
   "source": [
    "# define panel widgets\n",
    "year_slider = pn.widgets.IntSlider(name='Year slider', start=int(df_p1['Год'].min() - 1), end=int(df_p1['Год'].max()), step=1, value=int(df_p1['Год'].min()) - 1)"
   ]
  },
  {
   "cell_type": "code",
   "execution_count": null,
   "id": "c347d2d9",
   "metadata": {},
   "outputs": [],
   "source": []
  },
  {
   "cell_type": "code",
   "execution_count": null,
   "id": "dee75541",
   "metadata": {},
   "outputs": [],
   "source": [
    "districts = list(df_p1['Округ'].unique())"
   ]
  },
  {
   "cell_type": "code",
   "execution_count": null,
   "id": "65693b61",
   "metadata": {},
   "outputs": [],
   "source": [
    "districts"
   ]
  },
  {
   "cell_type": "code",
   "execution_count": null,
   "id": "334ed347",
   "metadata": {},
   "outputs": [],
   "source": []
  },
  {
   "cell_type": "code",
   "execution_count": null,
   "id": "d34ad948",
   "metadata": {
    "scrolled": true
   },
   "outputs": [],
   "source": [
    "# multiple choice buttons\n",
    "districts_buttons = pn.widgets.ToggleGroup(\n",
    "                        name='dstr_btn',\n",
    "                        options=districts,\n",
    "                        value=[districts],\n",
    "                        button_type='success'\n",
    "                    )"
   ]
  },
  {
   "cell_type": "code",
   "execution_count": null,
   "id": "fc93ee84",
   "metadata": {},
   "outputs": [],
   "source": []
  },
  {
   "cell_type": "code",
   "execution_count": null,
   "id": "09aa7bae",
   "metadata": {
    "scrolled": false
   },
   "outputs": [],
   "source": [
    "idf.columns"
   ]
  },
  {
   "cell_type": "code",
   "execution_count": null,
   "id": "e4b8ca36",
   "metadata": {
    "scrolled": false
   },
   "outputs": [],
   "source": [
    "idf.columns[3]"
   ]
  },
  {
   "cell_type": "code",
   "execution_count": null,
   "id": "a4ad3ffd",
   "metadata": {
    "scrolled": true
   },
   "outputs": [],
   "source": [
    "ipipeline_1 = idf[(idf['Округ'].isin(districts_buttons)) & (idf['Год'] == year_slider)] \\\n",
    "                .groupby('Направления реализации государственной молодeжной политики', as_index=True) \\\n",
    "                .agg({   'Бюджет СРФ, руб': 'sum',\n",
    "                         'Бюджет МО, руб': 'sum',\n",
    "                         'Кол-во грантов': 'sum',\n",
    "                         'Бюджет грантов, руб': 'sum',\n",
    "                         'Численность молодeжи, задействованной в программных мероприятиях по направлению': 'sum',\n",
    "                         'Количество детских и молодeжных общественных объединений, работающих по данному ': 'sum'}) \\\n",
    "                .rename(columns={'Направления реализации государственной молодeжной политики' : 'Направления реализации'})"
   ]
  },
  {
   "cell_type": "code",
   "execution_count": null,
   "id": "76a172b9",
   "metadata": {},
   "outputs": [],
   "source": []
  },
  {
   "cell_type": "code",
   "execution_count": null,
   "id": "b9c9bfd2",
   "metadata": {},
   "outputs": [],
   "source": [
    "# interactive table\n",
    "itable_1 = ipipeline_1.pipe(pn.widgets.Tabulator, pagination='remote', page_size=10)"
   ]
  },
  {
   "cell_type": "code",
   "execution_count": null,
   "id": "ba5c8012",
   "metadata": {},
   "outputs": [],
   "source": [
    "itable_1"
   ]
  },
  {
   "cell_type": "code",
   "execution_count": null,
   "id": "59945e69",
   "metadata": {},
   "outputs": [],
   "source": []
  },
  {
   "cell_type": "code",
   "execution_count": null,
   "id": "0eaa6583",
   "metadata": {},
   "outputs": [],
   "source": [
    "# add select button\n",
    "select = pn.widgets.Select(name='Выберите округ', options=districts)"
   ]
  },
  {
   "cell_type": "code",
   "execution_count": null,
   "id": "5c37bac4",
   "metadata": {
    "scrolled": true
   },
   "outputs": [],
   "source": [
    "ipipeline_2 = idf[idf['Округ'] == (select)] \\\n",
    "                .groupby('Направления реализации государственной молодeжной политики', as_index=True) \\\n",
    "                .agg({   'Бюджет СРФ, руб': 'sum',\n",
    "                         'Бюджет МО, руб': 'sum',\n",
    "                         'Кол-во грантов': 'sum',\n",
    "                         'Бюджет грантов, руб': 'sum',\n",
    "                         'Численность молодeжи, задействованной в программных мероприятиях по направлению': 'sum',\n",
    "                         'Количество детских и молодeжных общественных объединений, работающих по данному ': 'sum'}) \\\n",
    "                .rename(columns={'Направления реализации государственной молодeжной политики' : 'Направления реализации'})"
   ]
  },
  {
   "cell_type": "code",
   "execution_count": null,
   "id": "5aea0bc2",
   "metadata": {},
   "outputs": [],
   "source": [
    "itable_2 = ipipeline_2.pipe(pn.widgets.Tabulator, pagination='remote', page_size=10)"
   ]
  },
  {
   "cell_type": "code",
   "execution_count": null,
   "id": "5da6c810",
   "metadata": {
    "scrolled": true
   },
   "outputs": [],
   "source": [
    "itable_2"
   ]
  },
  {
   "cell_type": "markdown",
   "id": "d0e5cf15",
   "metadata": {},
   "source": [
    "### График расходов по округам с выбором типа бюджета"
   ]
  },
  {
   "cell_type": "code",
   "execution_count": null,
   "id": "43a990ee",
   "metadata": {},
   "outputs": [],
   "source": [
    "budget_types=sorted(list(df_p1.columns[5:9]))[:3]"
   ]
  },
  {
   "cell_type": "code",
   "execution_count": null,
   "id": "6614caa1",
   "metadata": {},
   "outputs": [],
   "source": [
    "budget_types"
   ]
  },
  {
   "cell_type": "code",
   "execution_count": null,
   "id": "de70585c",
   "metadata": {},
   "outputs": [],
   "source": [
    "# create budget selection \n",
    "select_budget = pn.widgets.Select(name='Выберите тип бюджета', options=budget_types)"
   ]
  },
  {
   "cell_type": "code",
   "execution_count": null,
   "id": "3802b3c5",
   "metadata": {},
   "outputs": [],
   "source": [
    "idf = df_p1.interactive()"
   ]
  },
  {
   "cell_type": "code",
   "execution_count": null,
   "id": "2e8e815d",
   "metadata": {
    "scrolled": true
   },
   "outputs": [],
   "source": [
    "idf.head()"
   ]
  },
  {
   "cell_type": "code",
   "execution_count": null,
   "id": "ed792481",
   "metadata": {
    "scrolled": true
   },
   "outputs": [],
   "source": [
    "ipipline_3 = idf.groupby('Округ', as_index=True).agg({select_budget : 'sum'})"
   ]
  },
  {
   "cell_type": "code",
   "execution_count": null,
   "id": "47bcd220",
   "metadata": {},
   "outputs": [],
   "source": [
    "ihvplot = ipipline_3.hvplot(x='Округ', y=select_budget, color=PALETTE, line_width=6, height=600)"
   ]
  },
  {
   "cell_type": "code",
   "execution_count": null,
   "id": "3385f9de",
   "metadata": {},
   "outputs": [],
   "source": [
    "ihvplot"
   ]
  },
  {
   "cell_type": "code",
   "execution_count": null,
   "id": "a0cc11f7",
   "metadata": {},
   "outputs": [],
   "source": []
  },
  {
   "cell_type": "code",
   "execution_count": null,
   "id": "d060934b",
   "metadata": {},
   "outputs": [],
   "source": []
  },
  {
   "cell_type": "code",
   "execution_count": null,
   "id": "f5d4f9d9",
   "metadata": {},
   "outputs": [],
   "source": []
  },
  {
   "cell_type": "markdown",
   "id": "15b13c4c",
   "metadata": {},
   "source": [
    "### Интерактивный раздел 1"
   ]
  },
  {
   "cell_type": "code",
   "execution_count": null,
   "id": "bfdc2088",
   "metadata": {},
   "outputs": [],
   "source": [
    "df_pp1 = form_m1['Раздел 1']"
   ]
  },
  {
   "cell_type": "code",
   "execution_count": null,
   "id": "095d90df",
   "metadata": {},
   "outputs": [],
   "source": [
    "list(df_pp1.iloc[3])"
   ]
  },
  {
   "cell_type": "code",
   "execution_count": null,
   "id": "e101a986",
   "metadata": {},
   "outputs": [],
   "source": [
    "df_pp1.columns = list(df_pp1.iloc[3])"
   ]
  },
  {
   "cell_type": "code",
   "execution_count": null,
   "id": "f9a6b7ad",
   "metadata": {},
   "outputs": [],
   "source": [
    "df_pp1 = df_pp1[4:].rename(columns={'Названия строк' : 'Направления'})"
   ]
  },
  {
   "cell_type": "code",
   "execution_count": null,
   "id": "30bebe8d",
   "metadata": {
    "scrolled": true
   },
   "outputs": [],
   "source": [
    "df_pp1.head()"
   ]
  },
  {
   "cell_type": "code",
   "execution_count": null,
   "id": "7c7cf9ef",
   "metadata": {},
   "outputs": [],
   "source": [
    "df_pp1 = df_pp1.set_index('Направления').head()"
   ]
  },
  {
   "cell_type": "code",
   "execution_count": null,
   "id": "52da240f",
   "metadata": {},
   "outputs": [],
   "source": [
    "idf = df_pp1.interactive()"
   ]
  },
  {
   "cell_type": "code",
   "execution_count": null,
   "id": "e7ad6492",
   "metadata": {},
   "outputs": [],
   "source": [
    "ipipeline_3 = idf"
   ]
  },
  {
   "cell_type": "code",
   "execution_count": null,
   "id": "472dd924",
   "metadata": {},
   "outputs": [],
   "source": [
    "# make interactive table\n",
    "pp1_pipeline = ipipeline_3.pipe(pn.widgets.Tabulator, pagination='remote', page_size = 10, sizing_mode='stretch_width') "
   ]
  },
  {
   "cell_type": "code",
   "execution_count": null,
   "id": "3833aa66",
   "metadata": {},
   "outputs": [],
   "source": [
    "pp1_pipeline"
   ]
  },
  {
   "cell_type": "code",
   "execution_count": null,
   "id": "c6d68fbe",
   "metadata": {},
   "outputs": [],
   "source": []
  },
  {
   "cell_type": "code",
   "execution_count": null,
   "id": "c2926426",
   "metadata": {},
   "outputs": [],
   "source": []
  },
  {
   "cell_type": "markdown",
   "id": "0841f610",
   "metadata": {},
   "source": [
    "### Р6"
   ]
  },
  {
   "cell_type": "code",
   "execution_count": null,
   "id": "8d1d6829",
   "metadata": {},
   "outputs": [],
   "source": [
    "df_p6 = form_m1['Р6']"
   ]
  },
  {
   "cell_type": "code",
   "execution_count": null,
   "id": "49a362ab",
   "metadata": {
    "scrolled": false
   },
   "outputs": [],
   "source": [
    "df_p6.isna().sum()"
   ]
  },
  {
   "cell_type": "code",
   "execution_count": null,
   "id": "d00fd290",
   "metadata": {},
   "outputs": [],
   "source": [
    "df_p6 = df_p6.fillna(0)"
   ]
  },
  {
   "cell_type": "code",
   "execution_count": null,
   "id": "f13246ae",
   "metadata": {},
   "outputs": [],
   "source": [
    "df_p6.head(3)"
   ]
  },
  {
   "cell_type": "code",
   "execution_count": null,
   "id": "25ae1de3",
   "metadata": {},
   "outputs": [],
   "source": [
    "df_p6.columns"
   ]
  },
  {
   "cell_type": "code",
   "execution_count": null,
   "id": "645bd09a",
   "metadata": {},
   "outputs": [],
   "source": []
  },
  {
   "cell_type": "markdown",
   "id": "ec1fce5a",
   "metadata": {},
   "source": [
    "  \n",
    " Будем считать, что запуск форума был удачным и его\n",
    " можно повторно запустить, если на него пришло много человек"
   ]
  },
  {
   "cell_type": "code",
   "execution_count": null,
   "id": "c3ffeea8",
   "metadata": {},
   "outputs": [],
   "source": [
    "df_p6.head(3)"
   ]
  },
  {
   "cell_type": "code",
   "execution_count": null,
   "id": "d64099c7",
   "metadata": {},
   "outputs": [],
   "source": [
    "idf = df_p6.interactive()"
   ]
  },
  {
   "cell_type": "code",
   "execution_count": null,
   "id": "ca26ab19",
   "metadata": {
    "scrolled": true
   },
   "outputs": [],
   "source": [
    "iscatter_select = pn.widgets.Select(name='Выбор форума', options=list(df_p6['Наименование'].unique())[:4])"
   ]
  },
  {
   "cell_type": "code",
   "execution_count": null,
   "id": "036c72e1",
   "metadata": {},
   "outputs": [],
   "source": [
    "# топ-10 по численности\n",
    "iscatter = idf[idf['Наименование'] == iscatter_select] \\\n",
    "            .groupby('Регион', as_index=True) \\\n",
    "            .agg({'Численность участников форумов соответствующего уровня, чел' : 'sum'}) \\\n",
    "            .rename(columns={'Численность участников форумов соответствующего уровня, чел' : 'Кол-во участников'}) \\\n",
    "            .sort_values('Кол-во участников', ascending=False) \\\n",
    "            .head(10)"
   ]
  },
  {
   "cell_type": "code",
   "execution_count": null,
   "id": "fbef1c6a",
   "metadata": {},
   "outputs": [],
   "source": [
    "#hvplot.help('scatter', generic=False, style=False)"
   ]
  },
  {
   "cell_type": "code",
   "execution_count": null,
   "id": "0da8266b",
   "metadata": {
    "scrolled": true
   },
   "outputs": [],
   "source": [
    "iscatter_plot = iscatter.hvplot.scatter(x='Регион', y='Кол-во участников', \n",
    "                  legend='top', height=800, width=1400, title=iscatter_select)"
   ]
  },
  {
   "cell_type": "code",
   "execution_count": null,
   "id": "cf995e02",
   "metadata": {},
   "outputs": [],
   "source": [
    "iscatter_plot"
   ]
  },
  {
   "cell_type": "code",
   "execution_count": null,
   "id": "5db64786",
   "metadata": {},
   "outputs": [],
   "source": []
  },
  {
   "cell_type": "code",
   "execution_count": null,
   "id": "568375ab",
   "metadata": {},
   "outputs": [],
   "source": []
  },
  {
   "cell_type": "markdown",
   "id": "6210c10d",
   "metadata": {},
   "source": [
    "# Models catboost"
   ]
  },
  {
   "cell_type": "code",
   "execution_count": null,
   "id": "d05b986f",
   "metadata": {},
   "outputs": [],
   "source": [
    "P1 = form_m1['Р1']"
   ]
  },
  {
   "cell_type": "code",
   "execution_count": null,
   "id": "4fa469e9",
   "metadata": {},
   "outputs": [],
   "source": [
    "P1 = P1.drop('Unnamed: 11', axis=1)"
   ]
  },
  {
   "cell_type": "code",
   "execution_count": null,
   "id": "4686f218",
   "metadata": {},
   "outputs": [],
   "source": [
    "P1 = P1.drop('Unnamed: 12', axis=1)"
   ]
  },
  {
   "cell_type": "code",
   "execution_count": null,
   "id": "cd712d17",
   "metadata": {},
   "outputs": [],
   "source": [
    "P1 = P1.drop('№ строки', axis=1)"
   ]
  },
  {
   "cell_type": "code",
   "execution_count": null,
   "id": "5a415857",
   "metadata": {},
   "outputs": [],
   "source": [
    "df = P1"
   ]
  },
  {
   "cell_type": "code",
   "execution_count": null,
   "id": "cb854ec6",
   "metadata": {},
   "outputs": [],
   "source": [
    "df = df.fillna(0)"
   ]
  },
  {
   "cell_type": "code",
   "execution_count": null,
   "id": "85d4af34",
   "metadata": {},
   "outputs": [],
   "source": [
    "cat_features = df.select_dtypes(include=['object']).columns.tolist()\n",
    "cat_features"
   ]
  },
  {
   "cell_type": "markdown",
   "id": "dab4fb15",
   "metadata": {},
   "source": [
    "### Преобразованиие данных в X и y"
   ]
  },
  {
   "cell_type": "code",
   "execution_count": null,
   "id": "363d4ccf",
   "metadata": {},
   "outputs": [],
   "source": [
    "X = df.drop(['Количество детских и молодeжных общественных объединений, работающих по данному '], axis=1)\n",
    "y_regression = df['Количество детских и молодeжных общественных объединений, работающих по данному ']"
   ]
  },
  {
   "cell_type": "markdown",
   "id": "3f96d26c",
   "metadata": {},
   "source": [
    "## Обучение и тестирование моделей"
   ]
  },
  {
   "cell_type": "code",
   "execution_count": null,
   "id": "f348ece1",
   "metadata": {},
   "outputs": [],
   "source": [
    "from sklearn.model_selection import train_test_split"
   ]
  },
  {
   "cell_type": "code",
   "execution_count": null,
   "id": "1b80bc0b",
   "metadata": {},
   "outputs": [],
   "source": [
    "import datetime\n",
    "import pandas as pd\n",
    "import numpy as np\n",
    "\n",
    "import matplotlib.pyplot as plt\n",
    "import seaborn as sns\n",
    "import plotly.express as px\n",
    "\n",
    "from catboost import CatBoostRegressor, CatBoostClassifier\n",
    "\n",
    "from sklearn.model_selection import *\n",
    "from sklearn.metrics import *\n",
    "\n",
    "pd.options.display.float_format = \"{:.1f}\".format\n",
    "sns.set_style(\"whitegrid\")\n",
    "plt.style.use(\"fivethirtyeight\") \n",
    "\n",
    "import warnings\n",
    "warnings.filterwarnings(\"ignore\")"
   ]
  },
  {
   "cell_type": "markdown",
   "id": "3c1aab56",
   "metadata": {},
   "source": [
    "### Подход №1: Регрессия"
   ]
  },
  {
   "cell_type": "code",
   "execution_count": null,
   "id": "b3e2dcdd",
   "metadata": {},
   "outputs": [],
   "source": [
    "X_train, X_val, y_train, y_val = train_test_split(X, y_regression, test_size=0.2, random_state=42)"
   ]
  },
  {
   "cell_type": "code",
   "execution_count": null,
   "id": "58f16034",
   "metadata": {},
   "outputs": [],
   "source": [
    "model_regression = CatBoostRegressor(\n",
    "    verbose=100,\n",
    "    cat_features=cat_features\n",
    ")\n",
    "\n",
    "model_regression.fit(X_train, y_train, eval_set=(X_val, y_val))"
   ]
  },
  {
   "cell_type": "code",
   "execution_count": null,
   "id": "18242e9e",
   "metadata": {},
   "outputs": [],
   "source": [
    "preds_test_regression = model_regression.predict(X_val[model_regression.feature_names_])"
   ]
  },
  {
   "cell_type": "markdown",
   "id": "fe1e78b8",
   "metadata": {},
   "source": [
    "# feature_importance"
   ]
  },
  {
   "cell_type": "code",
   "execution_count": null,
   "id": "fbf0d289",
   "metadata": {
    "scrolled": false
   },
   "outputs": [],
   "source": [
    "feature_importance = model_regression.feature_importances_\n",
    "sorted_idx = np.argsort(feature_importance)\n",
    "\n",
    "fig = plt.figure(figsize=(20, 8))\n",
    "plt.barh(range(len(sorted_idx)), feature_importance[sorted_idx], align='center')\n",
    "plt.yticks(range(len(sorted_idx)), np.array(X_val.columns)[sorted_idx])"
   ]
  },
  {
   "cell_type": "markdown",
   "id": "054b5b24",
   "metadata": {},
   "source": [
    "# Анализ"
   ]
  },
  {
   "cell_type": "code",
   "execution_count": null,
   "id": "d06e481f",
   "metadata": {},
   "outputs": [],
   "source": [
    "corr=df.corr()\n",
    "corr"
   ]
  },
  {
   "cell_type": "code",
   "execution_count": null,
   "id": "8146adf0",
   "metadata": {},
   "outputs": [],
   "source": [
    "plt.figure(figsize=(15,10))\n",
    "mask = np.zeros_like(corr, dtype=bool)\n",
    "mask[np.triu_indices_from(mask)] = True\n",
    "sns.heatmap(corr, linewidths=.5,annot=True,mask=mask)"
   ]
  },
  {
   "cell_type": "code",
   "execution_count": null,
   "id": "5886bfdc",
   "metadata": {},
   "outputs": [],
   "source": [
    "df.describe()"
   ]
  },
  {
   "cell_type": "code",
   "execution_count": null,
   "id": "7cad3a5b",
   "metadata": {},
   "outputs": [],
   "source": []
  },
  {
   "cell_type": "code",
   "execution_count": null,
   "id": "9834b1db",
   "metadata": {},
   "outputs": [],
   "source": []
  },
  {
   "cell_type": "code",
   "execution_count": null,
   "id": "c45c2265",
   "metadata": {},
   "outputs": [],
   "source": []
  },
  {
   "cell_type": "code",
   "execution_count": null,
   "id": "4a7e2beb",
   "metadata": {},
   "outputs": [],
   "source": []
  },
  {
   "cell_type": "markdown",
   "id": "19fb8705",
   "metadata": {},
   "source": [
    "### Making dashboard"
   ]
  },
  {
   "cell_type": "code",
   "execution_count": null,
   "id": "24a5142b",
   "metadata": {},
   "outputs": [],
   "source": [
    "#??pn.panel"
   ]
  },
  {
   "cell_type": "code",
   "execution_count": 328,
   "id": "bdc82c3b",
   "metadata": {},
   "outputs": [
    {
     "name": "stdout",
     "output_type": "stream",
     "text": [
      "Launching server at http://localhost:44569\n"
     ]
    },
    {
     "data": {
      "text/plain": [
       "<panel.io.server.Server at 0x7fe336e1e500>"
      ]
     },
     "execution_count": 328,
     "metadata": {},
     "output_type": "execute_result"
    }
   ],
   "source": [
    "# layout template\n",
    "template = pn.template.FastListTemplate(\n",
    "#    title='молодежный-бит хакатон', \n",
    "#    sidebar=[pn.pane.Markdown(\"# Дашборд\"), \n",
    "#             pn.pane.Markdown(\"#### Написать на русском\"), \n",
    "#             pn.pane.Markdown(\"## Настройки\"),\n",
    "#             pn.pane.Markdown(\"Регулировка года (на стадии разработки)\"), \n",
    "#             year_slider],\n",
    "    main=[pn.Row(pn.Column(ans_plot_1))],\n",
    "#pn.Row(pn.Column(fig, margin=(5, 5))),\n",
    "#          pn.Row(pn.Column(iscatter_select, iscatter_plot.panel(width = 500, height = 500, sizing_mode='scale_both'), margin=(0,0))),\n",
    "#          pn.Row(pn.Column(districts_buttons, itable_1.panel(width=300))),\n",
    "#          pn.Row(pn.Column(select_budget, ihvplot.panel(height=500, sizing_mode='scale_both'))),\n",
    "#          pn.Row(pn.Column(pp1_pipeline.panel(width=300), margin=(0,25)))],\n",
    "    accent_base_color=\"#88d8b0\",\n",
    "    header_background=\"#88d8b0\",\n",
    ")\n",
    "template.show()\n",
    "#template.servable();"
   ]
  },
  {
   "cell_type": "code",
   "execution_count": null,
   "id": "f6349fbf",
   "metadata": {},
   "outputs": [],
   "source": []
  },
  {
   "cell_type": "code",
   "execution_count": null,
   "id": "4925522c",
   "metadata": {},
   "outputs": [],
   "source": [
    "ans_plot_1"
   ]
  }
 ],
 "metadata": {
  "kernelspec": {
   "display_name": "youngbit_env",
   "language": "python",
   "name": "youngbit_env"
  },
  "language_info": {
   "codemirror_mode": {
    "name": "ipython",
    "version": 3
   },
   "file_extension": ".py",
   "mimetype": "text/x-python",
   "name": "python",
   "nbconvert_exporter": "python",
   "pygments_lexer": "ipython3",
   "version": "3.10.9"
  }
 },
 "nbformat": 4,
 "nbformat_minor": 5
}
