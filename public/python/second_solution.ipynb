{
 "cells": [
  {
   "cell_type": "code",
   "execution_count": 891,
   "id": "cb1357b5",
   "metadata": {},
   "outputs": [],
   "source": [
    "from sklearn.model_selection import train_test_split\n",
    "\n",
    "import datetime\n",
    "import pandas as pd\n",
    "import numpy as np\n",
    "\n",
    "import panel as pn\n",
    "pn.extension('tabulator', sizing_mode=\"stretch_width\")\n",
    "\n",
    "import hvplot.pandas\n",
    "import holoviews as hv\n",
    "hv.extension('bokeh')\n",
    "\n",
    "\n",
    "import matplotlib.pyplot as plt\n",
    "import seaborn as sns\n",
    "import plotly.express as px\n",
    "\n",
    "from catboost import CatBoostRegressor, CatBoostClassifier\n",
    "\n",
    "from sklearn.model_selection import *\n",
    "from sklearn.metrics import *\n",
    "\n",
    "pd.options.display.float_format = \"{:.1f}\".format\n",
    "sns.set_style(\"whitegrid\")\n",
    "plt.style.use(\"fivethirtyeight\") \n",
    "\n",
    "import warnings\n",
    "warnings.filterwarnings(\"ignore\")"
   ]
  },
  {
   "cell_type": "code",
   "execution_count": 892,
   "id": "66be91c0",
   "metadata": {},
   "outputs": [],
   "source": [
    "# for non-scientific output of floats\n",
    "pd.set_option('display.float_format', lambda x: '%.3f' % x)"
   ]
  },
  {
   "cell_type": "code",
   "execution_count": 893,
   "id": "0880528e",
   "metadata": {},
   "outputs": [],
   "source": [
    "pd.set_option('display.max_columns', None)"
   ]
  },
  {
   "cell_type": "code",
   "execution_count": 894,
   "id": "ab346571",
   "metadata": {},
   "outputs": [
    {
     "data": {
      "text/plain": [
       "'notebook'"
      ]
     },
     "execution_count": 894,
     "metadata": {},
     "output_type": "execute_result"
    }
   ],
   "source": [
    "def environment():\n",
    "    try:\n",
    "        get_ipython()\n",
    "        return \"notebook\"\n",
    "    except:\n",
    "        return \"server\"\n",
    "environment()\n"
   ]
  },
  {
   "cell_type": "code",
   "execution_count": 895,
   "id": "fcdf2afa",
   "metadata": {},
   "outputs": [
    {
     "data": {},
     "metadata": {},
     "output_type": "display_data"
    },
    {
     "data": {
      "application/vnd.holoviews_exec.v0+json": "",
      "text/html": [
       "<div id='26708'>\n",
       "  <div class=\"bk-root\" id=\"327cc34d-fb95-43f7-b482-7e4481b89c78\" data-root-id=\"26708\"></div>\n",
       "</div>\n",
       "<script type=\"application/javascript\">(function(root) {\n",
       "  function embed_document(root) {\n",
       "    var docs_json = {\"1ec58090-9fd6-427b-9b08-7bce26679f7f\":{\"defs\":[{\"extends\":null,\"module\":null,\"name\":\"ReactiveHTML1\",\"overrides\":[],\"properties\":[]},{\"extends\":null,\"module\":null,\"name\":\"FlexBox1\",\"overrides\":[],\"properties\":[{\"default\":\"flex-start\",\"kind\":null,\"name\":\"align_content\"},{\"default\":\"flex-start\",\"kind\":null,\"name\":\"align_items\"},{\"default\":\"row\",\"kind\":null,\"name\":\"flex_direction\"},{\"default\":\"wrap\",\"kind\":null,\"name\":\"flex_wrap\"},{\"default\":\"flex-start\",\"kind\":null,\"name\":\"justify_content\"}]},{\"extends\":null,\"module\":null,\"name\":\"GridStack1\",\"overrides\":[],\"properties\":[{\"default\":\"warn\",\"kind\":null,\"name\":\"mode\"},{\"default\":null,\"kind\":null,\"name\":\"ncols\"},{\"default\":null,\"kind\":null,\"name\":\"nrows\"},{\"default\":true,\"kind\":null,\"name\":\"allow_resize\"},{\"default\":true,\"kind\":null,\"name\":\"allow_drag\"},{\"default\":[],\"kind\":null,\"name\":\"state\"}]},{\"extends\":null,\"module\":null,\"name\":\"click1\",\"overrides\":[],\"properties\":[{\"default\":\"\",\"kind\":null,\"name\":\"terminal_output\"},{\"default\":\"\",\"kind\":null,\"name\":\"debug_name\"},{\"default\":0,\"kind\":null,\"name\":\"clears\"}]},{\"extends\":null,\"module\":null,\"name\":\"NotificationAreaBase1\",\"overrides\":[],\"properties\":[{\"default\":\"bottom-right\",\"kind\":null,\"name\":\"position\"},{\"default\":0,\"kind\":null,\"name\":\"_clear\"}]},{\"extends\":null,\"module\":null,\"name\":\"NotificationArea1\",\"overrides\":[],\"properties\":[{\"default\":[],\"kind\":null,\"name\":\"notifications\"},{\"default\":\"bottom-right\",\"kind\":null,\"name\":\"position\"},{\"default\":0,\"kind\":null,\"name\":\"_clear\"},{\"default\":[{\"background\":\"#ffc107\",\"icon\":{\"className\":\"fas fa-exclamation-triangle\",\"color\":\"white\",\"tagName\":\"i\"},\"type\":\"warning\"},{\"background\":\"#007bff\",\"icon\":{\"className\":\"fas fa-info-circle\",\"color\":\"white\",\"tagName\":\"i\"},\"type\":\"info\"}],\"kind\":null,\"name\":\"types\"}]},{\"extends\":null,\"module\":null,\"name\":\"Notification\",\"overrides\":[],\"properties\":[{\"default\":null,\"kind\":null,\"name\":\"background\"},{\"default\":3000,\"kind\":null,\"name\":\"duration\"},{\"default\":null,\"kind\":null,\"name\":\"icon\"},{\"default\":\"\",\"kind\":null,\"name\":\"message\"},{\"default\":null,\"kind\":null,\"name\":\"notification_type\"},{\"default\":false,\"kind\":null,\"name\":\"_destroyed\"}]},{\"extends\":null,\"module\":null,\"name\":\"TemplateActions1\",\"overrides\":[],\"properties\":[{\"default\":0,\"kind\":null,\"name\":\"open_modal\"},{\"default\":0,\"kind\":null,\"name\":\"close_modal\"}]},{\"extends\":null,\"module\":null,\"name\":\"MaterialTemplateActions1\",\"overrides\":[],\"properties\":[{\"default\":0,\"kind\":null,\"name\":\"open_modal\"},{\"default\":0,\"kind\":null,\"name\":\"close_modal\"}]}],\"roots\":{\"references\":[{\"attributes\":{\"client_comm_id\":\"9f28f7a1e0ec4e6babf3ef06d2527339\",\"comm_id\":\"d1da1e2a974f4e9296e6de26428299b4\",\"plot_id\":\"26708\"},\"id\":\"26712\",\"type\":\"panel.models.comm_manager.CommManager\"},{\"attributes\":{\"children\":[{\"id\":\"26709\"},{\"id\":\"26710\"},{\"id\":\"26711\"}],\"margin\":[0,0,0,0],\"name\":\"Row51811\",\"sizing_mode\":\"stretch_width\"},\"id\":\"26708\",\"type\":\"Row\"},{\"attributes\":{\"background\":\"#88d8b0\",\"height\":50,\"margin\":[5,5,5,5],\"name\":\"HSpacer51810\",\"sizing_mode\":\"stretch_width\"},\"id\":\"26711\",\"type\":\"Spacer\"},{\"attributes\":{\"background\":\"#ffcc5c\",\"height\":50,\"margin\":[5,5,5,5],\"name\":\"HSpacer51809\",\"sizing_mode\":\"stretch_width\"},\"id\":\"26710\",\"type\":\"Spacer\"},{\"attributes\":{\"background\":\"#ff6f69\",\"height\":50,\"margin\":[5,5,5,5],\"name\":\"HSpacer51808\",\"sizing_mode\":\"stretch_width\"},\"id\":\"26709\",\"type\":\"Spacer\"}],\"root_ids\":[\"26708\",\"26712\"]},\"title\":\"Bokeh Application\",\"version\":\"2.4.3\"}};\n",
       "    var render_items = [{\"docid\":\"1ec58090-9fd6-427b-9b08-7bce26679f7f\",\"root_ids\":[\"26708\"],\"roots\":{\"26708\":\"327cc34d-fb95-43f7-b482-7e4481b89c78\"}}];\n",
       "    root.Bokeh.embed.embed_items_notebook(docs_json, render_items);\n",
       "    for (const render_item of render_items) {\n",
       "      for (const root_id of render_item.root_ids) {\n",
       "\tconst id_el = document.getElementById(root_id)\n",
       "\tif (id_el.children.length && (id_el.children[0].className === 'bk-root')) {\n",
       "\t  const root_el = id_el.children[0]\n",
       "\t  root_el.id = root_el.id + '-rendered'\n",
       "\t}\n",
       "      }\n",
       "    }\n",
       "  }\n",
       "  if (root.Bokeh !== undefined && root.Bokeh.Panel !== undefined && ( root['Tabulator'] !== undefined) && ( root['Tabulator'] !== undefined) && ( root['Tabulator'] !== undefined) && ( root['Tabulator'] !== undefined) && ( root['Tabulator'] !== undefined) && ( root['Tabulator'] !== undefined) && ( root['Tabulator'] !== undefined) && ( root['Tabulator'] !== undefined) && ( root['Tabulator'] !== undefined) && ( root['Tabulator'] !== undefined) && ( root['Tabulator'] !== undefined)) {\n",
       "    embed_document(root);\n",
       "  } else {\n",
       "    var attempts = 0;\n",
       "    var timer = setInterval(function(root) {\n",
       "      if (root.Bokeh !== undefined && root.Bokeh.Panel !== undefined && (root['Tabulator'] !== undefined) && (root['Tabulator'] !== undefined) && (root['Tabulator'] !== undefined) && (root['Tabulator'] !== undefined) && (root['Tabulator'] !== undefined) && (root['Tabulator'] !== undefined) && (root['Tabulator'] !== undefined) && (root['Tabulator'] !== undefined) && (root['Tabulator'] !== undefined) && (root['Tabulator'] !== undefined) && (root['Tabulator'] !== undefined)) {\n",
       "        clearInterval(timer);\n",
       "        embed_document(root);\n",
       "      } else if (document.readyState == \"complete\") {\n",
       "        attempts++;\n",
       "        if (attempts > 200) {\n",
       "          clearInterval(timer);\n",
       "          console.log(\"Bokeh: ERROR: Unable to run BokehJS code because BokehJS library is missing\");\n",
       "        }\n",
       "      }\n",
       "    }, 25, root)\n",
       "  }\n",
       "})(window);</script>"
      ],
      "text/plain": [
       "Row(sizing_mode='stretch_width')\n",
       "    [0] HSpacer(background='#ff6f69', height=50)\n",
       "    [1] HSpacer(background='#ffcc5c', height=50)\n",
       "    [2] HSpacer(background='#88d8b0', height=50)"
      ]
     },
     "execution_count": 895,
     "metadata": {
      "application/vnd.holoviews_exec.v0+json": {
       "id": "26708"
      }
     },
     "output_type": "execute_result"
    }
   ],
   "source": [
    "PALETTE = [\"#ff6f69\", \"#ffcc5c\", \"#88d8b0\", ]\n",
    "pn.Row(\n",
    "    pn.layout.HSpacer(height=50, background=PALETTE[0]),\n",
    "    pn.layout.HSpacer(height=50, background=PALETTE[1]),\n",
    "    pn.layout.HSpacer(height=50, background=PALETTE[2]),\n",
    ")\n"
   ]
  },
  {
   "cell_type": "code",
   "execution_count": 896,
   "id": "2c298392",
   "metadata": {},
   "outputs": [],
   "source": [
    "form_m1 = pd.read_excel('../data/form_m1.xlsx', sheet_name=None)"
   ]
  },
  {
   "cell_type": "code",
   "execution_count": 897,
   "id": "5c0db6f6",
   "metadata": {},
   "outputs": [],
   "source": [
    "df_p1   = form_m1['Р1']\n",
    "df_pp1  = form_m1['Раздел 1']"
   ]
  },
  {
   "cell_type": "code",
   "execution_count": null,
   "id": "54124714",
   "metadata": {},
   "outputs": [],
   "source": []
  },
  {
   "cell_type": "code",
   "execution_count": 898,
   "id": "e2d50e66",
   "metadata": {},
   "outputs": [],
   "source": [
    "# data preprocessing"
   ]
  },
  {
   "cell_type": "code",
   "execution_count": 899,
   "id": "5bdcb314",
   "metadata": {},
   "outputs": [
    {
     "data": {
      "text/html": [
       "<div>\n",
       "<style scoped>\n",
       "    .dataframe tbody tr th:only-of-type {\n",
       "        vertical-align: middle;\n",
       "    }\n",
       "\n",
       "    .dataframe tbody tr th {\n",
       "        vertical-align: top;\n",
       "    }\n",
       "\n",
       "    .dataframe thead th {\n",
       "        text-align: right;\n",
       "    }\n",
       "</style>\n",
       "<table border=\"1\" class=\"dataframe\">\n",
       "  <thead>\n",
       "    <tr style=\"text-align: right;\">\n",
       "      <th></th>\n",
       "      <th>Регион</th>\n",
       "      <th>Округ</th>\n",
       "      <th>Год</th>\n",
       "      <th>Направления реализации государственной молодeжной политики</th>\n",
       "      <th>№ строки</th>\n",
       "      <th>Бюджет СРФ, руб</th>\n",
       "      <th>Бюджет МО, руб</th>\n",
       "      <th>Кол-во грантов</th>\n",
       "      <th>Бюджет грантов, руб</th>\n",
       "      <th>Численность молодeжи, задействованной в программных мероприятиях по направлению</th>\n",
       "      <th>Количество детских и молодeжных общественных объединений, работающих по данному</th>\n",
       "      <th>Unnamed: 11</th>\n",
       "      <th>Unnamed: 12</th>\n",
       "    </tr>\n",
       "  </thead>\n",
       "  <tbody>\n",
       "    <tr>\n",
       "      <th>0</th>\n",
       "      <td>Алтайский край</td>\n",
       "      <td>СФО</td>\n",
       "      <td>2021</td>\n",
       "      <td>Вовлечение молодeжи в инновационную деятельнос...</td>\n",
       "      <td>1</td>\n",
       "      <td>7176890.000</td>\n",
       "      <td>123085.000</td>\n",
       "      <td>4.000</td>\n",
       "      <td>35485.000</td>\n",
       "      <td>3845.000</td>\n",
       "      <td>44.000</td>\n",
       "      <td>NaN</td>\n",
       "      <td>NaN</td>\n",
       "    </tr>\n",
       "    <tr>\n",
       "      <th>1</th>\n",
       "      <td>Алтайский край</td>\n",
       "      <td>СФО</td>\n",
       "      <td>2021</td>\n",
       "      <td>биомедицина</td>\n",
       "      <td>2</td>\n",
       "      <td>0.000</td>\n",
       "      <td>0.000</td>\n",
       "      <td>0.000</td>\n",
       "      <td>0.000</td>\n",
       "      <td>0.000</td>\n",
       "      <td>0.000</td>\n",
       "      <td>NaN</td>\n",
       "      <td>NaN</td>\n",
       "    </tr>\n",
       "    <tr>\n",
       "      <th>2</th>\n",
       "      <td>Алтайский край</td>\n",
       "      <td>СФО</td>\n",
       "      <td>2021</td>\n",
       "      <td>промышленные технологии\\n      (нанотехн...</td>\n",
       "      <td>3</td>\n",
       "      <td>0.000</td>\n",
       "      <td>0.000</td>\n",
       "      <td>0.000</td>\n",
       "      <td>0.000</td>\n",
       "      <td>10.000</td>\n",
       "      <td>0.000</td>\n",
       "      <td>NaN</td>\n",
       "      <td>NaN</td>\n",
       "    </tr>\n",
       "    <tr>\n",
       "      <th>3</th>\n",
       "      <td>Алтайский край</td>\n",
       "      <td>СФО</td>\n",
       "      <td>2021</td>\n",
       "      <td>аэрокосмос</td>\n",
       "      <td>4</td>\n",
       "      <td>0.000</td>\n",
       "      <td>0.000</td>\n",
       "      <td>0.000</td>\n",
       "      <td>0.000</td>\n",
       "      <td>28.000</td>\n",
       "      <td>1.000</td>\n",
       "      <td>NaN</td>\n",
       "      <td>NaN</td>\n",
       "    </tr>\n",
       "    <tr>\n",
       "      <th>4</th>\n",
       "      <td>Алтайский край</td>\n",
       "      <td>СФО</td>\n",
       "      <td>2021</td>\n",
       "      <td>сельское хозяйство</td>\n",
       "      <td>5</td>\n",
       "      <td>0.000</td>\n",
       "      <td>1000.000</td>\n",
       "      <td>0.000</td>\n",
       "      <td>0.000</td>\n",
       "      <td>247.000</td>\n",
       "      <td>0.000</td>\n",
       "      <td>NaN</td>\n",
       "      <td>NaN</td>\n",
       "    </tr>\n",
       "  </tbody>\n",
       "</table>\n",
       "</div>"
      ],
      "text/plain": [
       "           Регион Округ   Год  \\\n",
       "0  Алтайский край   СФО  2021   \n",
       "1  Алтайский край   СФО  2021   \n",
       "2  Алтайский край   СФО  2021   \n",
       "3  Алтайский край   СФО  2021   \n",
       "4  Алтайский край   СФО  2021   \n",
       "\n",
       "  Направления реализации государственной молодeжной политики  № строки  \\\n",
       "0  Вовлечение молодeжи в инновационную деятельнос...                 1   \n",
       "1                                        биомедицина                 2   \n",
       "2        промышленные технологии\\n      (нанотехн...                 3   \n",
       "3                                         аэрокосмос                 4   \n",
       "4                                 сельское хозяйство                 5   \n",
       "\n",
       "   Бюджет СРФ, руб  Бюджет МО, руб  Кол-во грантов  Бюджет грантов, руб  \\\n",
       "0      7176890.000      123085.000           4.000            35485.000   \n",
       "1            0.000           0.000           0.000                0.000   \n",
       "2            0.000           0.000           0.000                0.000   \n",
       "3            0.000           0.000           0.000                0.000   \n",
       "4            0.000        1000.000           0.000                0.000   \n",
       "\n",
       "   Численность молодeжи, задействованной в программных мероприятиях по направлению  \\\n",
       "0                                           3845.000                                 \n",
       "1                                              0.000                                 \n",
       "2                                             10.000                                 \n",
       "3                                             28.000                                 \n",
       "4                                            247.000                                 \n",
       "\n",
       "   Количество детских и молодeжных общественных объединений, работающих по данному   \\\n",
       "0                                             44.000                                  \n",
       "1                                              0.000                                  \n",
       "2                                              0.000                                  \n",
       "3                                              1.000                                  \n",
       "4                                              0.000                                  \n",
       "\n",
       "   Unnamed: 11  Unnamed: 12  \n",
       "0          NaN          NaN  \n",
       "1          NaN          NaN  \n",
       "2          NaN          NaN  \n",
       "3          NaN          NaN  \n",
       "4          NaN          NaN  "
      ]
     },
     "execution_count": 899,
     "metadata": {},
     "output_type": "execute_result"
    }
   ],
   "source": [
    "df_p1.head()"
   ]
  },
  {
   "cell_type": "code",
   "execution_count": 900,
   "id": "cfb1f358",
   "metadata": {
    "scrolled": true
   },
   "outputs": [
    {
     "data": {
      "text/plain": [
       "(2295, 13)"
      ]
     },
     "execution_count": 900,
     "metadata": {},
     "output_type": "execute_result"
    }
   ],
   "source": [
    "df_p1.shape"
   ]
  },
  {
   "cell_type": "code",
   "execution_count": 901,
   "id": "7e67b581",
   "metadata": {},
   "outputs": [],
   "source": [
    "df_p1 = df_p1.drop(columns=['Unnamed: 11', 'Unnamed: 12'])"
   ]
  },
  {
   "cell_type": "code",
   "execution_count": 902,
   "id": "9e4929f3",
   "metadata": {
    "scrolled": true
   },
   "outputs": [
    {
     "data": {
      "text/plain": [
       "Регион                                                                               object\n",
       "Округ                                                                                object\n",
       "Год                                                                                   int64\n",
       "Направления реализации государственной молодeжной политики                           object\n",
       "№ строки                                                                              int64\n",
       "Бюджет СРФ, руб                                                                     float64\n",
       "Бюджет МО, руб                                                                      float64\n",
       "Кол-во грантов                                                                      float64\n",
       "Бюджет грантов, руб                                                                 float64\n",
       "Численность молодeжи, задействованной в программных мероприятиях по направлению     float64\n",
       "Количество детских и молодeжных общественных объединений, работающих по данному     float64\n",
       "dtype: object"
      ]
     },
     "execution_count": 902,
     "metadata": {},
     "output_type": "execute_result"
    }
   ],
   "source": [
    "df_p1.dtypes"
   ]
  },
  {
   "cell_type": "code",
   "execution_count": 903,
   "id": "4ea1a296",
   "metadata": {
    "scrolled": false
   },
   "outputs": [
    {
     "data": {
      "text/plain": [
       "Регион                                                                                0\n",
       "Округ                                                                                 0\n",
       "Год                                                                                   0\n",
       "Направления реализации государственной молодeжной политики                            0\n",
       "№ строки                                                                              0\n",
       "Бюджет СРФ, руб                                                                     385\n",
       "Бюджет МО, руб                                                                      306\n",
       "Кол-во грантов                                                                      442\n",
       "Бюджет грантов, руб                                                                 449\n",
       "Численность молодeжи, задействованной в программных мероприятиях по направлению     147\n",
       "Количество детских и молодeжных общественных объединений, работающих по данному     422\n",
       "dtype: int64"
      ]
     },
     "execution_count": 903,
     "metadata": {},
     "output_type": "execute_result"
    }
   ],
   "source": [
    "df_p1.isna().sum()"
   ]
  },
  {
   "cell_type": "code",
   "execution_count": 904,
   "id": "583668a9",
   "metadata": {},
   "outputs": [],
   "source": [
    "df_p1 = df_p1.fillna(0)"
   ]
  },
  {
   "cell_type": "code",
   "execution_count": 905,
   "id": "43f67094",
   "metadata": {},
   "outputs": [],
   "source": [
    "# make interactive dataframe\n",
    "idf = df_p1.interactive()"
   ]
  },
  {
   "cell_type": "code",
   "execution_count": null,
   "id": "5f693457",
   "metadata": {},
   "outputs": [],
   "source": []
  },
  {
   "cell_type": "markdown",
   "id": "ff0a58f0",
   "metadata": {},
   "source": [
    "### Расходы по разным направлениям с выбором округа (одиночный или множественный)"
   ]
  },
  {
   "cell_type": "code",
   "execution_count": 906,
   "id": "9e2e51c3",
   "metadata": {},
   "outputs": [
    {
     "data": {
      "text/plain": [
       "dtype('int64')"
      ]
     },
     "execution_count": 906,
     "metadata": {},
     "output_type": "execute_result"
    }
   ],
   "source": [
    "df_p1['Год'].dtype"
   ]
  },
  {
   "cell_type": "code",
   "execution_count": 907,
   "id": "319af5ce",
   "metadata": {},
   "outputs": [],
   "source": [
    "# define panel widgets\n",
    "year_slider = pn.widgets.IntSlider(name='Year slider', start=int(df_p1['Год'].min() - 1), end=int(df_p1['Год'].max()), step=1, value=int(df_p1['Год'].min()) - 1)"
   ]
  },
  {
   "cell_type": "code",
   "execution_count": null,
   "id": "c347d2d9",
   "metadata": {},
   "outputs": [],
   "source": []
  },
  {
   "cell_type": "code",
   "execution_count": 908,
   "id": "dee75541",
   "metadata": {},
   "outputs": [],
   "source": [
    "districts = list(df_p1['Округ'].unique())"
   ]
  },
  {
   "cell_type": "code",
   "execution_count": 909,
   "id": "65693b61",
   "metadata": {},
   "outputs": [
    {
     "data": {
      "text/plain": [
       "['СФО', 'ДФО', 'СЗФО', 'ЮФО', 'ЦФО', 'СКФО', 'ПФО', 'УФО']"
      ]
     },
     "execution_count": 909,
     "metadata": {},
     "output_type": "execute_result"
    }
   ],
   "source": [
    "districts"
   ]
  },
  {
   "cell_type": "code",
   "execution_count": null,
   "id": "334ed347",
   "metadata": {},
   "outputs": [],
   "source": []
  },
  {
   "cell_type": "code",
   "execution_count": 910,
   "id": "d34ad948",
   "metadata": {
    "scrolled": true
   },
   "outputs": [],
   "source": [
    "# multiple choice buttons\n",
    "districts_buttons = pn.widgets.ToggleGroup(\n",
    "                        name='dstr_btn',\n",
    "                        options=districts,\n",
    "                        value=[districts],\n",
    "                        button_type='success'\n",
    "                    )"
   ]
  },
  {
   "cell_type": "code",
   "execution_count": null,
   "id": "fc93ee84",
   "metadata": {},
   "outputs": [],
   "source": []
  },
  {
   "cell_type": "code",
   "execution_count": 911,
   "id": "09aa7bae",
   "metadata": {
    "scrolled": false
   },
   "outputs": [
    {
     "data": {},
     "metadata": {},
     "output_type": "display_data"
    },
    {
     "data": {
      "application/vnd.holoviews_exec.v0+json": "",
      "text/html": [
       "<div id='26713'>\n",
       "  <div class=\"bk-root\" id=\"2c7caee3-6181-4a0a-aea1-ed29718282cc\" data-root-id=\"26713\"></div>\n",
       "</div>\n",
       "<script type=\"application/javascript\">(function(root) {\n",
       "  function embed_document(root) {\n",
       "    var docs_json = {\"10775075-0922-402b-a315-76fe09f54716\":{\"defs\":[{\"extends\":null,\"module\":null,\"name\":\"ReactiveHTML1\",\"overrides\":[],\"properties\":[]},{\"extends\":null,\"module\":null,\"name\":\"FlexBox1\",\"overrides\":[],\"properties\":[{\"default\":\"flex-start\",\"kind\":null,\"name\":\"align_content\"},{\"default\":\"flex-start\",\"kind\":null,\"name\":\"align_items\"},{\"default\":\"row\",\"kind\":null,\"name\":\"flex_direction\"},{\"default\":\"wrap\",\"kind\":null,\"name\":\"flex_wrap\"},{\"default\":\"flex-start\",\"kind\":null,\"name\":\"justify_content\"}]},{\"extends\":null,\"module\":null,\"name\":\"GridStack1\",\"overrides\":[],\"properties\":[{\"default\":\"warn\",\"kind\":null,\"name\":\"mode\"},{\"default\":null,\"kind\":null,\"name\":\"ncols\"},{\"default\":null,\"kind\":null,\"name\":\"nrows\"},{\"default\":true,\"kind\":null,\"name\":\"allow_resize\"},{\"default\":true,\"kind\":null,\"name\":\"allow_drag\"},{\"default\":[],\"kind\":null,\"name\":\"state\"}]},{\"extends\":null,\"module\":null,\"name\":\"click1\",\"overrides\":[],\"properties\":[{\"default\":\"\",\"kind\":null,\"name\":\"terminal_output\"},{\"default\":\"\",\"kind\":null,\"name\":\"debug_name\"},{\"default\":0,\"kind\":null,\"name\":\"clears\"}]},{\"extends\":null,\"module\":null,\"name\":\"NotificationAreaBase1\",\"overrides\":[],\"properties\":[{\"default\":\"bottom-right\",\"kind\":null,\"name\":\"position\"},{\"default\":0,\"kind\":null,\"name\":\"_clear\"}]},{\"extends\":null,\"module\":null,\"name\":\"NotificationArea1\",\"overrides\":[],\"properties\":[{\"default\":[],\"kind\":null,\"name\":\"notifications\"},{\"default\":\"bottom-right\",\"kind\":null,\"name\":\"position\"},{\"default\":0,\"kind\":null,\"name\":\"_clear\"},{\"default\":[{\"background\":\"#ffc107\",\"icon\":{\"className\":\"fas fa-exclamation-triangle\",\"color\":\"white\",\"tagName\":\"i\"},\"type\":\"warning\"},{\"background\":\"#007bff\",\"icon\":{\"className\":\"fas fa-info-circle\",\"color\":\"white\",\"tagName\":\"i\"},\"type\":\"info\"}],\"kind\":null,\"name\":\"types\"}]},{\"extends\":null,\"module\":null,\"name\":\"Notification\",\"overrides\":[],\"properties\":[{\"default\":null,\"kind\":null,\"name\":\"background\"},{\"default\":3000,\"kind\":null,\"name\":\"duration\"},{\"default\":null,\"kind\":null,\"name\":\"icon\"},{\"default\":\"\",\"kind\":null,\"name\":\"message\"},{\"default\":null,\"kind\":null,\"name\":\"notification_type\"},{\"default\":false,\"kind\":null,\"name\":\"_destroyed\"}]},{\"extends\":null,\"module\":null,\"name\":\"TemplateActions1\",\"overrides\":[],\"properties\":[{\"default\":0,\"kind\":null,\"name\":\"open_modal\"},{\"default\":0,\"kind\":null,\"name\":\"close_modal\"}]},{\"extends\":null,\"module\":null,\"name\":\"MaterialTemplateActions1\",\"overrides\":[],\"properties\":[{\"default\":0,\"kind\":null,\"name\":\"open_modal\"},{\"default\":0,\"kind\":null,\"name\":\"close_modal\"}]}],\"roots\":{\"references\":[{\"attributes\":{\"client_comm_id\":\"9517370ab726433aae04959b63b864c4\",\"comm_id\":\"23519e2a92f449c184f88d27b6459bac\",\"plot_id\":\"26713\"},\"id\":\"26722\",\"type\":\"panel.models.comm_manager.CommManager\"},{\"attributes\":{\"children\":[{\"id\":\"26714\"}],\"margin\":[0,0,0,0],\"name\":\"Row51896\",\"sizing_mode\":\"stretch_width\"},\"id\":\"26713\",\"type\":\"Row\"},{\"attributes\":{\"children\":[{\"id\":\"26716\"},{\"id\":\"26717\"}],\"margin\":[0,0,0,0],\"name\":\"Row51894\",\"sizing_mode\":\"stretch_width\"},\"id\":\"26715\",\"type\":\"Row\"},{\"attributes\":{\"children\":[{\"id\":\"26719\"},{\"id\":\"26720\"}],\"margin\":[0,0,0,0],\"name\":\"Column51870\",\"sizing_mode\":\"stretch_width\"},\"id\":\"26718\",\"type\":\"Column\"},{\"attributes\":{\"margin\":[0,0,0,0],\"name\":\"Column51868\",\"sizing_mode\":\"stretch_width\"},\"id\":\"26716\",\"type\":\"Column\"},{\"attributes\":{\"margin\":[0,0,0,0],\"name\":\"Column51892\",\"sizing_mode\":\"stretch_width\"},\"id\":\"26719\",\"type\":\"Column\"},{\"attributes\":{\"margin\":[5,5,5,5],\"name\":\"interactive51869\",\"sizing_mode\":\"stretch_width\",\"text\":\"&lt;pre&gt;Index([&#x27;\\u0420\\u0435\\u0433\\u0438\\u043e\\u043d&#x27;, &#x27;\\u041e\\u043a\\u0440\\u0443\\u0433&#x27;, &#x27;\\u0413\\u043e\\u0434&#x27;,\\n       &#x27;\\u041d\\u0430\\u043f\\u0440\\u0430\\u0432\\u043b\\u0435\\u043d\\u0438\\u044f \\u0440\\u0435\\u0430\\u043b\\u0438\\u0437\\u0430\\u0446\\u0438\\u0438 \\u0433\\u043e\\u0441\\u0443\\u0434\\u0430\\u0440\\u0441\\u0442\\u0432\\u0435\\u043d\\u043d\\u043e\\u0439 \\u043c\\u043e\\u043b\\u043e\\u0434e\\u0436\\u043d\\u043e\\u0439 \\u043f\\u043e\\u043b\\u0438\\u0442\\u0438\\u043a\\u0438&#x27;,\\n       &#x27;\\u2116 \\u0441\\u0442\\u0440\\u043e\\u043a\\u0438&#x27;, &#x27;\\u0411\\u044e\\u0434\\u0436\\u0435\\u0442 \\u0421\\u0420\\u0424, \\u0440\\u0443\\u0431&#x27;, &#x27;\\u0411\\u044e\\u0434\\u0436\\u0435\\u0442 \\u041c\\u041e, \\u0440\\u0443\\u0431&#x27;, &#x27;\\u041a\\u043e\\u043b-\\u0432\\u043e \\u0433\\u0440\\u0430\\u043d\\u0442\\u043e\\u0432&#x27;,\\n       &#x27;\\u0411\\u044e\\u0434\\u0436\\u0435\\u0442 \\u0433\\u0440\\u0430\\u043d\\u0442\\u043e\\u0432, \\u0440\\u0443\\u0431&#x27;,\\n       &#x27;\\u0427\\u0438\\u0441\\u043b\\u0435\\u043d\\u043d\\u043e\\u0441\\u0442\\u044c \\u043c\\u043e\\u043b\\u043e\\u0434e\\u0436\\u0438, \\u0437\\u0430\\u0434\\u0435\\u0439\\u0441\\u0442\\u0432\\u043e\\u0432\\u0430\\u043d\\u043d\\u043e\\u0439 \\u0432 \\u043f\\u0440\\u043e\\u0433\\u0440\\u0430\\u043c\\u043c\\u043d\\u044b\\u0445 \\u043c\\u0435\\u0440\\u043e\\u043f\\u0440\\u0438\\u044f\\u0442\\u0438\\u044f\\u0445 \\u043f\\u043e \\u043d\\u0430\\u043f\\u0440\\u0430\\u0432\\u043b\\u0435\\u043d\\u0438\\u044e&#x27;,\\n       &#x27;\\u041a\\u043e\\u043b\\u0438\\u0447\\u0435\\u0441\\u0442\\u0432\\u043e \\u0434\\u0435\\u0442\\u0441\\u043a\\u0438\\u0445 \\u0438 \\u043c\\u043e\\u043b\\u043e\\u0434e\\u0436\\u043d\\u044b\\u0445 \\u043e\\u0431\\u0449\\u0435\\u0441\\u0442\\u0432\\u0435\\u043d\\u043d\\u044b\\u0445 \\u043e\\u0431\\u044a\\u0435\\u0434\\u0438\\u043d\\u0435\\u043d\\u0438\\u0439, \\u0440\\u0430\\u0431\\u043e\\u0442\\u0430\\u044e\\u0449\\u0438\\u0445 \\u043f\\u043e \\u0434\\u0430\\u043d\\u043d\\u043e\\u043c\\u0443 &#x27;],\\n      dtype=&#x27;object&#x27;)&lt;/pre&gt;\"},\"id\":\"26721\",\"type\":\"panel.models.markup.HTML\"},{\"attributes\":{\"margin\":[5,5,5,5],\"name\":\"HSpacer51893\",\"sizing_mode\":\"stretch_width\"},\"id\":\"26717\",\"type\":\"Spacer\"},{\"attributes\":{\"children\":[{\"id\":\"26715\"},{\"id\":\"26718\"}],\"margin\":[0,0,0,0],\"name\":\"Column51895\",\"sizing_mode\":\"stretch_width\"},\"id\":\"26714\",\"type\":\"Column\"},{\"attributes\":{\"children\":[{\"id\":\"26721\"}],\"margin\":[0,0,0,0],\"name\":\"Row51891\",\"sizing_mode\":\"stretch_width\"},\"id\":\"26720\",\"type\":\"Row\"}],\"root_ids\":[\"26713\",\"26722\"]},\"title\":\"Bokeh Application\",\"version\":\"2.4.3\"}};\n",
       "    var render_items = [{\"docid\":\"10775075-0922-402b-a315-76fe09f54716\",\"root_ids\":[\"26713\"],\"roots\":{\"26713\":\"2c7caee3-6181-4a0a-aea1-ed29718282cc\"}}];\n",
       "    root.Bokeh.embed.embed_items_notebook(docs_json, render_items);\n",
       "    for (const render_item of render_items) {\n",
       "      for (const root_id of render_item.root_ids) {\n",
       "\tconst id_el = document.getElementById(root_id)\n",
       "\tif (id_el.children.length && (id_el.children[0].className === 'bk-root')) {\n",
       "\t  const root_el = id_el.children[0]\n",
       "\t  root_el.id = root_el.id + '-rendered'\n",
       "\t}\n",
       "      }\n",
       "    }\n",
       "  }\n",
       "  if (root.Bokeh !== undefined && root.Bokeh.Panel !== undefined && ( root['Tabulator'] !== undefined) && ( root['Tabulator'] !== undefined) && ( root['Tabulator'] !== undefined) && ( root['Tabulator'] !== undefined) && ( root['Tabulator'] !== undefined) && ( root['Tabulator'] !== undefined) && ( root['Tabulator'] !== undefined) && ( root['Tabulator'] !== undefined) && ( root['Tabulator'] !== undefined) && ( root['Tabulator'] !== undefined) && ( root['Tabulator'] !== undefined)) {\n",
       "    embed_document(root);\n",
       "  } else {\n",
       "    var attempts = 0;\n",
       "    var timer = setInterval(function(root) {\n",
       "      if (root.Bokeh !== undefined && root.Bokeh.Panel !== undefined && (root['Tabulator'] !== undefined) && (root['Tabulator'] !== undefined) && (root['Tabulator'] !== undefined) && (root['Tabulator'] !== undefined) && (root['Tabulator'] !== undefined) && (root['Tabulator'] !== undefined) && (root['Tabulator'] !== undefined) && (root['Tabulator'] !== undefined) && (root['Tabulator'] !== undefined) && (root['Tabulator'] !== undefined) && (root['Tabulator'] !== undefined)) {\n",
       "        clearInterval(timer);\n",
       "        embed_document(root);\n",
       "      } else if (document.readyState == \"complete\") {\n",
       "        attempts++;\n",
       "        if (attempts > 200) {\n",
       "          clearInterval(timer);\n",
       "          console.log(\"Bokeh: ERROR: Unable to run BokehJS code because BokehJS library is missing\");\n",
       "        }\n",
       "      }\n",
       "    }, 25, root)\n",
       "  }\n",
       "})(window);</script>"
      ],
      "text/plain": [
       "<hvplot.interactive.Interactive at 0x7fb83e28ed70>"
      ]
     },
     "execution_count": 911,
     "metadata": {
      "application/vnd.holoviews_exec.v0+json": {
       "id": "26713"
      }
     },
     "output_type": "execute_result"
    }
   ],
   "source": [
    "idf.columns"
   ]
  },
  {
   "cell_type": "code",
   "execution_count": 912,
   "id": "e4b8ca36",
   "metadata": {
    "scrolled": false
   },
   "outputs": [
    {
     "data": {},
     "metadata": {},
     "output_type": "display_data"
    },
    {
     "data": {
      "application/vnd.holoviews_exec.v0+json": "",
      "text/html": [
       "<div id='26723'>\n",
       "  <div class=\"bk-root\" id=\"d46d091f-6bd2-4269-b09e-4abf158809b7\" data-root-id=\"26723\"></div>\n",
       "</div>\n",
       "<script type=\"application/javascript\">(function(root) {\n",
       "  function embed_document(root) {\n",
       "    var docs_json = {\"ad5fad67-ff10-4c7b-a050-a7dea04968d8\":{\"defs\":[{\"extends\":null,\"module\":null,\"name\":\"ReactiveHTML1\",\"overrides\":[],\"properties\":[]},{\"extends\":null,\"module\":null,\"name\":\"FlexBox1\",\"overrides\":[],\"properties\":[{\"default\":\"flex-start\",\"kind\":null,\"name\":\"align_content\"},{\"default\":\"flex-start\",\"kind\":null,\"name\":\"align_items\"},{\"default\":\"row\",\"kind\":null,\"name\":\"flex_direction\"},{\"default\":\"wrap\",\"kind\":null,\"name\":\"flex_wrap\"},{\"default\":\"flex-start\",\"kind\":null,\"name\":\"justify_content\"}]},{\"extends\":null,\"module\":null,\"name\":\"GridStack1\",\"overrides\":[],\"properties\":[{\"default\":\"warn\",\"kind\":null,\"name\":\"mode\"},{\"default\":null,\"kind\":null,\"name\":\"ncols\"},{\"default\":null,\"kind\":null,\"name\":\"nrows\"},{\"default\":true,\"kind\":null,\"name\":\"allow_resize\"},{\"default\":true,\"kind\":null,\"name\":\"allow_drag\"},{\"default\":[],\"kind\":null,\"name\":\"state\"}]},{\"extends\":null,\"module\":null,\"name\":\"click1\",\"overrides\":[],\"properties\":[{\"default\":\"\",\"kind\":null,\"name\":\"terminal_output\"},{\"default\":\"\",\"kind\":null,\"name\":\"debug_name\"},{\"default\":0,\"kind\":null,\"name\":\"clears\"}]},{\"extends\":null,\"module\":null,\"name\":\"NotificationAreaBase1\",\"overrides\":[],\"properties\":[{\"default\":\"bottom-right\",\"kind\":null,\"name\":\"position\"},{\"default\":0,\"kind\":null,\"name\":\"_clear\"}]},{\"extends\":null,\"module\":null,\"name\":\"NotificationArea1\",\"overrides\":[],\"properties\":[{\"default\":[],\"kind\":null,\"name\":\"notifications\"},{\"default\":\"bottom-right\",\"kind\":null,\"name\":\"position\"},{\"default\":0,\"kind\":null,\"name\":\"_clear\"},{\"default\":[{\"background\":\"#ffc107\",\"icon\":{\"className\":\"fas fa-exclamation-triangle\",\"color\":\"white\",\"tagName\":\"i\"},\"type\":\"warning\"},{\"background\":\"#007bff\",\"icon\":{\"className\":\"fas fa-info-circle\",\"color\":\"white\",\"tagName\":\"i\"},\"type\":\"info\"}],\"kind\":null,\"name\":\"types\"}]},{\"extends\":null,\"module\":null,\"name\":\"Notification\",\"overrides\":[],\"properties\":[{\"default\":null,\"kind\":null,\"name\":\"background\"},{\"default\":3000,\"kind\":null,\"name\":\"duration\"},{\"default\":null,\"kind\":null,\"name\":\"icon\"},{\"default\":\"\",\"kind\":null,\"name\":\"message\"},{\"default\":null,\"kind\":null,\"name\":\"notification_type\"},{\"default\":false,\"kind\":null,\"name\":\"_destroyed\"}]},{\"extends\":null,\"module\":null,\"name\":\"TemplateActions1\",\"overrides\":[],\"properties\":[{\"default\":0,\"kind\":null,\"name\":\"open_modal\"},{\"default\":0,\"kind\":null,\"name\":\"close_modal\"}]},{\"extends\":null,\"module\":null,\"name\":\"MaterialTemplateActions1\",\"overrides\":[],\"properties\":[{\"default\":0,\"kind\":null,\"name\":\"open_modal\"},{\"default\":0,\"kind\":null,\"name\":\"close_modal\"}]}],\"roots\":{\"references\":[{\"attributes\":{\"css_classes\":[\"markdown\"],\"margin\":[5,5,5,5],\"name\":\"interactive51951\",\"sizing_mode\":\"stretch_width\",\"text\":\"&lt;p&gt;\\u041d\\u0430\\u043f\\u0440\\u0430\\u0432\\u043b\\u0435\\u043d\\u0438\\u044f \\u0440\\u0435\\u0430\\u043b\\u0438\\u0437\\u0430\\u0446\\u0438\\u0438 \\u0433\\u043e\\u0441\\u0443\\u0434\\u0430\\u0440\\u0441\\u0442\\u0432\\u0435\\u043d\\u043d\\u043e\\u0439 \\u043c\\u043e\\u043b\\u043e\\u0434e\\u0436\\u043d\\u043e\\u0439 \\u043f\\u043e\\u043b\\u0438\\u0442\\u0438\\u043a\\u0438&lt;/p&gt;\"},\"id\":\"26731\",\"type\":\"panel.models.markup.HTML\"},{\"attributes\":{\"children\":[{\"id\":\"26729\"},{\"id\":\"26730\"}],\"margin\":[0,0,0,0],\"name\":\"Column51952\",\"sizing_mode\":\"stretch_width\"},\"id\":\"26728\",\"type\":\"Column\"},{\"attributes\":{\"children\":[{\"id\":\"26725\"},{\"id\":\"26728\"}],\"margin\":[0,0,0,0],\"name\":\"Column51977\",\"sizing_mode\":\"stretch_width\"},\"id\":\"26724\",\"type\":\"Column\"},{\"attributes\":{\"client_comm_id\":\"bd4c275f18944e79b4e90c405132b625\",\"comm_id\":\"49d0b45c0a8a4e2ab399ec92c525908a\",\"plot_id\":\"26723\"},\"id\":\"26732\",\"type\":\"panel.models.comm_manager.CommManager\"},{\"attributes\":{\"margin\":[0,0,0,0],\"name\":\"Column51974\",\"sizing_mode\":\"stretch_width\"},\"id\":\"26729\",\"type\":\"Column\"},{\"attributes\":{\"children\":[{\"id\":\"26731\"}],\"margin\":[0,0,0,0],\"name\":\"Row51973\",\"sizing_mode\":\"stretch_width\"},\"id\":\"26730\",\"type\":\"Row\"},{\"attributes\":{\"children\":[{\"id\":\"26726\"},{\"id\":\"26727\"}],\"margin\":[0,0,0,0],\"name\":\"Row51976\",\"sizing_mode\":\"stretch_width\"},\"id\":\"26725\",\"type\":\"Row\"},{\"attributes\":{\"children\":[{\"id\":\"26724\"}],\"margin\":[0,0,0,0],\"name\":\"Row51978\",\"sizing_mode\":\"stretch_width\"},\"id\":\"26723\",\"type\":\"Row\"},{\"attributes\":{\"margin\":[0,0,0,0],\"name\":\"Column51950\",\"sizing_mode\":\"stretch_width\"},\"id\":\"26726\",\"type\":\"Column\"},{\"attributes\":{\"margin\":[5,5,5,5],\"name\":\"HSpacer51975\",\"sizing_mode\":\"stretch_width\"},\"id\":\"26727\",\"type\":\"Spacer\"}],\"root_ids\":[\"26723\",\"26732\"]},\"title\":\"Bokeh Application\",\"version\":\"2.4.3\"}};\n",
       "    var render_items = [{\"docid\":\"ad5fad67-ff10-4c7b-a050-a7dea04968d8\",\"root_ids\":[\"26723\"],\"roots\":{\"26723\":\"d46d091f-6bd2-4269-b09e-4abf158809b7\"}}];\n",
       "    root.Bokeh.embed.embed_items_notebook(docs_json, render_items);\n",
       "    for (const render_item of render_items) {\n",
       "      for (const root_id of render_item.root_ids) {\n",
       "\tconst id_el = document.getElementById(root_id)\n",
       "\tif (id_el.children.length && (id_el.children[0].className === 'bk-root')) {\n",
       "\t  const root_el = id_el.children[0]\n",
       "\t  root_el.id = root_el.id + '-rendered'\n",
       "\t}\n",
       "      }\n",
       "    }\n",
       "  }\n",
       "  if (root.Bokeh !== undefined && root.Bokeh.Panel !== undefined && ( root['Tabulator'] !== undefined) && ( root['Tabulator'] !== undefined) && ( root['Tabulator'] !== undefined) && ( root['Tabulator'] !== undefined) && ( root['Tabulator'] !== undefined) && ( root['Tabulator'] !== undefined) && ( root['Tabulator'] !== undefined) && ( root['Tabulator'] !== undefined) && ( root['Tabulator'] !== undefined) && ( root['Tabulator'] !== undefined) && ( root['Tabulator'] !== undefined)) {\n",
       "    embed_document(root);\n",
       "  } else {\n",
       "    var attempts = 0;\n",
       "    var timer = setInterval(function(root) {\n",
       "      if (root.Bokeh !== undefined && root.Bokeh.Panel !== undefined && (root['Tabulator'] !== undefined) && (root['Tabulator'] !== undefined) && (root['Tabulator'] !== undefined) && (root['Tabulator'] !== undefined) && (root['Tabulator'] !== undefined) && (root['Tabulator'] !== undefined) && (root['Tabulator'] !== undefined) && (root['Tabulator'] !== undefined) && (root['Tabulator'] !== undefined) && (root['Tabulator'] !== undefined) && (root['Tabulator'] !== undefined)) {\n",
       "        clearInterval(timer);\n",
       "        embed_document(root);\n",
       "      } else if (document.readyState == \"complete\") {\n",
       "        attempts++;\n",
       "        if (attempts > 200) {\n",
       "          clearInterval(timer);\n",
       "          console.log(\"Bokeh: ERROR: Unable to run BokehJS code because BokehJS library is missing\");\n",
       "        }\n",
       "      }\n",
       "    }, 25, root)\n",
       "  }\n",
       "})(window);</script>"
      ],
      "text/plain": [
       "<hvplot.interactive.Interactive at 0x7fb83e28f430>"
      ]
     },
     "execution_count": 912,
     "metadata": {
      "application/vnd.holoviews_exec.v0+json": {
       "id": "26723"
      }
     },
     "output_type": "execute_result"
    }
   ],
   "source": [
    "idf.columns[3]"
   ]
  },
  {
   "cell_type": "code",
   "execution_count": 913,
   "id": "a4ad3ffd",
   "metadata": {
    "scrolled": true
   },
   "outputs": [],
   "source": [
    "ipipeline_1 = idf[(idf['Округ'].isin(districts_buttons)) & (idf['Год'] == year_slider)] \\\n",
    "                .groupby('Направления реализации государственной молодeжной политики', as_index=True) \\\n",
    "                .agg({   'Бюджет СРФ, руб': 'sum',\n",
    "                         'Бюджет МО, руб': 'sum',\n",
    "                         'Кол-во грантов': 'sum',\n",
    "                         'Бюджет грантов, руб': 'sum',\n",
    "                         'Численность молодeжи, задействованной в программных мероприятиях по направлению': 'sum',\n",
    "                         'Количество детских и молодeжных общественных объединений, работающих по данному ': 'sum'}) \\\n",
    "                .rename(columns={'Направления реализации государственной молодeжной политики' : 'Направления реализации'})"
   ]
  },
  {
   "cell_type": "code",
   "execution_count": null,
   "id": "76a172b9",
   "metadata": {},
   "outputs": [],
   "source": []
  },
  {
   "cell_type": "code",
   "execution_count": 914,
   "id": "b9c9bfd2",
   "metadata": {},
   "outputs": [],
   "source": [
    "# interactive table\n",
    "itable_1 = ipipeline_1.pipe(pn.widgets.Tabulator, pagination='remote', page_size=10)"
   ]
  },
  {
   "cell_type": "code",
   "execution_count": 915,
   "id": "ba5c8012",
   "metadata": {},
   "outputs": [
    {
     "data": {},
     "metadata": {},
     "output_type": "display_data"
    },
    {
     "data": {
      "application/vnd.holoviews_exec.v0+json": "",
      "text/html": [
       "<div id='26733'>\n",
       "  <div class=\"bk-root\" id=\"d21bfa40-3223-41d2-a963-4046c581304f\" data-root-id=\"26733\"></div>\n",
       "</div>\n",
       "<script type=\"application/javascript\">(function(root) {\n",
       "  function embed_document(root) {\n",
       "    var docs_json = {\"f076d815-0d94-4266-bd52-0035605fb8cd\":{\"defs\":[{\"extends\":null,\"module\":null,\"name\":\"ReactiveHTML1\",\"overrides\":[],\"properties\":[]},{\"extends\":null,\"module\":null,\"name\":\"FlexBox1\",\"overrides\":[],\"properties\":[{\"default\":\"flex-start\",\"kind\":null,\"name\":\"align_content\"},{\"default\":\"flex-start\",\"kind\":null,\"name\":\"align_items\"},{\"default\":\"row\",\"kind\":null,\"name\":\"flex_direction\"},{\"default\":\"wrap\",\"kind\":null,\"name\":\"flex_wrap\"},{\"default\":\"flex-start\",\"kind\":null,\"name\":\"justify_content\"}]},{\"extends\":null,\"module\":null,\"name\":\"GridStack1\",\"overrides\":[],\"properties\":[{\"default\":\"warn\",\"kind\":null,\"name\":\"mode\"},{\"default\":null,\"kind\":null,\"name\":\"ncols\"},{\"default\":null,\"kind\":null,\"name\":\"nrows\"},{\"default\":true,\"kind\":null,\"name\":\"allow_resize\"},{\"default\":true,\"kind\":null,\"name\":\"allow_drag\"},{\"default\":[],\"kind\":null,\"name\":\"state\"}]},{\"extends\":null,\"module\":null,\"name\":\"click1\",\"overrides\":[],\"properties\":[{\"default\":\"\",\"kind\":null,\"name\":\"terminal_output\"},{\"default\":\"\",\"kind\":null,\"name\":\"debug_name\"},{\"default\":0,\"kind\":null,\"name\":\"clears\"}]},{\"extends\":null,\"module\":null,\"name\":\"NotificationAreaBase1\",\"overrides\":[],\"properties\":[{\"default\":\"bottom-right\",\"kind\":null,\"name\":\"position\"},{\"default\":0,\"kind\":null,\"name\":\"_clear\"}]},{\"extends\":null,\"module\":null,\"name\":\"NotificationArea1\",\"overrides\":[],\"properties\":[{\"default\":[],\"kind\":null,\"name\":\"notifications\"},{\"default\":\"bottom-right\",\"kind\":null,\"name\":\"position\"},{\"default\":0,\"kind\":null,\"name\":\"_clear\"},{\"default\":[{\"background\":\"#ffc107\",\"icon\":{\"className\":\"fas fa-exclamation-triangle\",\"color\":\"white\",\"tagName\":\"i\"},\"type\":\"warning\"},{\"background\":\"#007bff\",\"icon\":{\"className\":\"fas fa-info-circle\",\"color\":\"white\",\"tagName\":\"i\"},\"type\":\"info\"}],\"kind\":null,\"name\":\"types\"}]},{\"extends\":null,\"module\":null,\"name\":\"Notification\",\"overrides\":[],\"properties\":[{\"default\":null,\"kind\":null,\"name\":\"background\"},{\"default\":3000,\"kind\":null,\"name\":\"duration\"},{\"default\":null,\"kind\":null,\"name\":\"icon\"},{\"default\":\"\",\"kind\":null,\"name\":\"message\"},{\"default\":null,\"kind\":null,\"name\":\"notification_type\"},{\"default\":false,\"kind\":null,\"name\":\"_destroyed\"}]},{\"extends\":null,\"module\":null,\"name\":\"TemplateActions1\",\"overrides\":[],\"properties\":[{\"default\":0,\"kind\":null,\"name\":\"open_modal\"},{\"default\":0,\"kind\":null,\"name\":\"close_modal\"}]},{\"extends\":null,\"module\":null,\"name\":\"MaterialTemplateActions1\",\"overrides\":[],\"properties\":[{\"default\":0,\"kind\":null,\"name\":\"open_modal\"},{\"default\":0,\"kind\":null,\"name\":\"close_modal\"}]}],\"roots\":{\"references\":[{\"attributes\":{\"format\":\"0,0.0[00000]\",\"text_align\":\"right\"},\"id\":\"26774\",\"type\":\"NumberFormatter\"},{\"attributes\":{},\"id\":\"26755\",\"type\":\"NumberEditor\"},{\"attributes\":{\"editor\":{\"id\":\"26775\"},\"field\":\"\\u041a\\u043e\\u043b\\u0438\\u0447\\u0435\\u0441\\u0442\\u0432\\u043e \\u0434\\u0435\\u0442\\u0441\\u043a\\u0438\\u0445 \\u0438 \\u043c\\u043e\\u043b\\u043e\\u0434e\\u0436\\u043d\\u044b\\u0445 \\u043e\\u0431\\u0449\\u0435\\u0441\\u0442\\u0432\\u0435\\u043d\\u043d\\u044b\\u0445 \\u043e\\u0431\\u044a\\u0435\\u0434\\u0438\\u043d\\u0435\\u043d\\u0438\\u0439, \\u0440\\u0430\\u0431\\u043e\\u0442\\u0430\\u044e\\u0449\\u0438\\u0445 \\u043f\\u043e \\u0434\\u0430\\u043d\\u043d\\u043e\\u043c\\u0443 \",\"formatter\":{\"id\":\"26774\"},\"title\":\"\\u041a\\u043e\\u043b\\u0438\\u0447\\u0435\\u0441\\u0442\\u0432\\u043e \\u0434\\u0435\\u0442\\u0441\\u043a\\u0438\\u0445 \\u0438 \\u043c\\u043e\\u043b\\u043e\\u0434e\\u0436\\u043d\\u044b\\u0445 \\u043e\\u0431\\u0449\\u0435\\u0441\\u0442\\u0432\\u0435\\u043d\\u043d\\u044b\\u0445 \\u043e\\u0431\\u044a\\u0435\\u0434\\u0438\\u043d\\u0435\\u043d\\u0438\\u0439, \\u0440\\u0430\\u0431\\u043e\\u0442\\u0430\\u044e\\u0449\\u0438\\u0445 \\u043f\\u043e \\u0434\\u0430\\u043d\\u043d\\u043e\\u043c\\u0443 \",\"width\":0},\"id\":\"26776\",\"type\":\"TableColumn\"},{\"attributes\":{\"editor\":{\"id\":\"26765\"},\"field\":\"\\u0411\\u044e\\u0434\\u0436\\u0435\\u0442 \\u0433\\u0440\\u0430\\u043d\\u0442\\u043e\\u0432, \\u0440\\u0443\\u0431\",\"formatter\":{\"id\":\"26764\"},\"title\":\"\\u0411\\u044e\\u0434\\u0436\\u0435\\u0442 \\u0433\\u0440\\u0430\\u043d\\u0442\\u043e\\u0432, \\u0440\\u0443\\u0431\",\"width\":0},\"id\":\"26766\",\"type\":\"TableColumn\"},{\"attributes\":{\"children\":[{\"id\":\"26734\"}],\"margin\":[0,0,0,0],\"name\":\"Row52454\",\"sizing_mode\":\"stretch_width\"},\"id\":\"26733\",\"type\":\"Row\"},{\"attributes\":{\"indices\":[]},\"id\":\"26742\",\"type\":\"Selection\"},{\"attributes\":{\"margin\":[5,5,5,5],\"name\":\"HSpacer52451\",\"sizing_mode\":\"stretch_width\"},\"id\":\"26739\",\"type\":\"Spacer\"},{\"attributes\":{\"editor\":{\"id\":\"26755\"},\"field\":\"\\u0411\\u044e\\u0434\\u0436\\u0435\\u0442 \\u041c\\u041e, \\u0440\\u0443\\u0431\",\"formatter\":{\"id\":\"26754\"},\"title\":\"\\u0411\\u044e\\u0434\\u0436\\u0435\\u0442 \\u041c\\u041e, \\u0440\\u0443\\u0431\",\"width\":0},\"id\":\"26756\",\"type\":\"TableColumn\"},{\"attributes\":{\"end\":2021,\"margin\":[5,10,5,10],\"sizing_mode\":\"stretch_width\",\"start\":2020,\"title\":\"Year slider\",\"value\":2020},\"id\":\"26738\",\"type\":\"Slider\"},{\"attributes\":{\"editor\":{\"id\":\"26760\"},\"field\":\"\\u041a\\u043e\\u043b-\\u0432\\u043e \\u0433\\u0440\\u0430\\u043d\\u0442\\u043e\\u0432\",\"formatter\":{\"id\":\"26759\"},\"title\":\"\\u041a\\u043e\\u043b-\\u0432\\u043e \\u0433\\u0440\\u0430\\u043d\\u0442\\u043e\\u0432\",\"width\":0},\"id\":\"26761\",\"type\":\"TableColumn\"},{\"attributes\":{\"editor\":{\"id\":\"26770\"},\"field\":\"\\u0427\\u0438\\u0441\\u043b\\u0435\\u043d\\u043d\\u043e\\u0441\\u0442\\u044c \\u043c\\u043e\\u043b\\u043e\\u0434e\\u0436\\u0438, \\u0437\\u0430\\u0434\\u0435\\u0439\\u0441\\u0442\\u0432\\u043e\\u0432\\u0430\\u043d\\u043d\\u043e\\u0439 \\u0432 \\u043f\\u0440\\u043e\\u0433\\u0440\\u0430\\u043c\\u043c\\u043d\\u044b\\u0445 \\u043c\\u0435\\u0440\\u043e\\u043f\\u0440\\u0438\\u044f\\u0442\\u0438\\u044f\\u0445 \\u043f\\u043e \\u043d\\u0430\\u043f\\u0440\\u0430\\u0432\\u043b\\u0435\\u043d\\u0438\\u044e\",\"formatter\":{\"id\":\"26769\"},\"title\":\"\\u0427\\u0438\\u0441\\u043b\\u0435\\u043d\\u043d\\u043e\\u0441\\u0442\\u044c \\u043c\\u043e\\u043b\\u043e\\u0434e\\u0436\\u0438, \\u0437\\u0430\\u0434\\u0435\\u0439\\u0441\\u0442\\u0432\\u043e\\u0432\\u0430\\u043d\\u043d\\u043e\\u0439 \\u0432 \\u043f\\u0440\\u043e\\u0433\\u0440\\u0430\\u043c\\u043c\\u043d\\u044b\\u0445 \\u043c\\u0435\\u0440\\u043e\\u043f\\u0440\\u0438\\u044f\\u0442\\u0438\\u044f\\u0445 \\u043f\\u043e \\u043d\\u0430\\u043f\\u0440\\u0430\\u0432\\u043b\\u0435\\u043d\\u0438\\u044e\",\"width\":0},\"id\":\"26771\",\"type\":\"TableColumn\"},{\"attributes\":{\"editor\":{\"id\":\"26750\"},\"field\":\"\\u0411\\u044e\\u0434\\u0436\\u0435\\u0442 \\u0421\\u0420\\u0424, \\u0440\\u0443\\u0431\",\"formatter\":{\"id\":\"26749\"},\"title\":\"\\u0411\\u044e\\u0434\\u0436\\u0435\\u0442 \\u0421\\u0420\\u0424, \\u0440\\u0443\\u0431\",\"width\":0},\"id\":\"26751\",\"type\":\"TableColumn\"},{\"attributes\":{\"children\":[{\"id\":\"26779\"}],\"margin\":[0,0,0,0],\"name\":\"Row52425\",\"sizing_mode\":\"stretch_width\"},\"id\":\"26740\",\"type\":\"Row\"},{\"attributes\":{},\"id\":\"26760\",\"type\":\"NumberEditor\"},{\"attributes\":{},\"id\":\"26775\",\"type\":\"NumberEditor\"},{\"attributes\":{\"children\":[{\"id\":\"26735\"},{\"id\":\"26740\"}],\"margin\":[0,0,0,0],\"name\":\"Column52453\",\"sizing_mode\":\"stretch_width\"},\"id\":\"26734\",\"type\":\"Column\"},{\"attributes\":{\"format\":\"0,0.0[00000]\",\"text_align\":\"right\"},\"id\":\"26749\",\"type\":\"NumberFormatter\"},{\"attributes\":{\"data\":{\"\\u0411\\u044e\\u0434\\u0436\\u0435\\u0442 \\u041c\\u041e, \\u0440\\u0443\\u0431\":{\"__ndarray__\":\"\",\"dtype\":\"float64\",\"order\":\"little\",\"shape\":[0]},\"\\u0411\\u044e\\u0434\\u0436\\u0435\\u0442 \\u0421\\u0420\\u0424, \\u0440\\u0443\\u0431\":{\"__ndarray__\":\"\",\"dtype\":\"float64\",\"order\":\"little\",\"shape\":[0]},\"\\u0411\\u044e\\u0434\\u0436\\u0435\\u0442 \\u0433\\u0440\\u0430\\u043d\\u0442\\u043e\\u0432, \\u0440\\u0443\\u0431\":{\"__ndarray__\":\"\",\"dtype\":\"float64\",\"order\":\"little\",\"shape\":[0]},\"\\u041a\\u043e\\u043b-\\u0432\\u043e \\u0433\\u0440\\u0430\\u043d\\u0442\\u043e\\u0432\":{\"__ndarray__\":\"\",\"dtype\":\"float64\",\"order\":\"little\",\"shape\":[0]},\"\\u041a\\u043e\\u043b\\u0438\\u0447\\u0435\\u0441\\u0442\\u0432\\u043e \\u0434\\u0435\\u0442\\u0441\\u043a\\u0438\\u0445 \\u0438 \\u043c\\u043e\\u043b\\u043e\\u0434e\\u0436\\u043d\\u044b\\u0445 \\u043e\\u0431\\u0449\\u0435\\u0441\\u0442\\u0432\\u0435\\u043d\\u043d\\u044b\\u0445 \\u043e\\u0431\\u044a\\u0435\\u0434\\u0438\\u043d\\u0435\\u043d\\u0438\\u0439, \\u0440\\u0430\\u0431\\u043e\\u0442\\u0430\\u044e\\u0449\\u0438\\u0445 \\u043f\\u043e \\u0434\\u0430\\u043d\\u043d\\u043e\\u043c\\u0443 \":{\"__ndarray__\":\"\",\"dtype\":\"float64\",\"order\":\"little\",\"shape\":[0]},\"\\u041d\\u0430\\u043f\\u0440\\u0430\\u0432\\u043b\\u0435\\u043d\\u0438\\u044f \\u0440\\u0435\\u0430\\u043b\\u0438\\u0437\\u0430\\u0446\\u0438\\u0438 \\u0433\\u043e\\u0441\\u0443\\u0434\\u0430\\u0440\\u0441\\u0442\\u0432\\u0435\\u043d\\u043d\\u043e\\u0439 \\u043c\\u043e\\u043b\\u043e\\u0434e\\u0436\\u043d\\u043e\\u0439 \\u043f\\u043e\\u043b\\u0438\\u0442\\u0438\\u043a\\u0438\":[],\"\\u0427\\u0438\\u0441\\u043b\\u0435\\u043d\\u043d\\u043e\\u0441\\u0442\\u044c \\u043c\\u043e\\u043b\\u043e\\u0434e\\u0436\\u0438, \\u0437\\u0430\\u0434\\u0435\\u0439\\u0441\\u0442\\u0432\\u043e\\u0432\\u0430\\u043d\\u043d\\u043e\\u0439 \\u0432 \\u043f\\u0440\\u043e\\u0433\\u0440\\u0430\\u043c\\u043c\\u043d\\u044b\\u0445 \\u043c\\u0435\\u0440\\u043e\\u043f\\u0440\\u0438\\u044f\\u0442\\u0438\\u044f\\u0445 \\u043f\\u043e \\u043d\\u0430\\u043f\\u0440\\u0430\\u0432\\u043b\\u0435\\u043d\\u0438\\u044e\":{\"__ndarray__\":\"\",\"dtype\":\"float64\",\"order\":\"little\",\"shape\":[0]}},\"selected\":{\"id\":\"26742\"},\"selection_policy\":{\"id\":\"26781\"}},\"id\":\"26741\",\"type\":\"ColumnDataSource\"},{\"attributes\":{},\"id\":\"26745\",\"type\":\"CellEditor\"},{\"attributes\":{},\"id\":\"26743\",\"type\":\"StringFormatter\"},{\"attributes\":{\"button_type\":\"success\",\"labels\":[\"\\u0421\\u0424\\u041e\",\"\\u0414\\u0424\\u041e\",\"\\u0421\\u0417\\u0424\\u041e\",\"\\u042e\\u0424\\u041e\",\"\\u0426\\u0424\\u041e\",\"\\u0421\\u041a\\u0424\\u041e\",\"\\u041f\\u0424\\u041e\",\"\\u0423\\u0424\\u041e\"],\"margin\":[5,10,5,10],\"sizing_mode\":\"stretch_width\"},\"id\":\"26737\",\"type\":\"CheckboxButtonGroup\"},{\"attributes\":{},\"id\":\"26765\",\"type\":\"NumberEditor\"},{\"attributes\":{\"client_comm_id\":\"49c6d95866444afcb31eb7a03cebb198\",\"comm_id\":\"c2928e98ce2641048f9e45f6f2e22d80\",\"plot_id\":\"26733\"},\"id\":\"26787\",\"type\":\"panel.models.comm_manager.CommManager\"},{\"attributes\":{\"columns\":[{\"id\":\"26746\"},{\"id\":\"26751\"},{\"id\":\"26756\"},{\"id\":\"26761\"},{\"id\":\"26766\"},{\"id\":\"26771\"},{\"id\":\"26776\"}],\"configuration\":{\"columns\":[{\"field\":\"\\u041d\\u0430\\u043f\\u0440\\u0430\\u0432\\u043b\\u0435\\u043d\\u0438\\u044f \\u0440\\u0435\\u0430\\u043b\\u0438\\u0437\\u0430\\u0446\\u0438\\u0438 \\u0433\\u043e\\u0441\\u0443\\u0434\\u0430\\u0440\\u0441\\u0442\\u0432\\u0435\\u043d\\u043d\\u043e\\u0439 \\u043c\\u043e\\u043b\\u043e\\u0434e\\u0436\\u043d\\u043e\\u0439 \\u043f\\u043e\\u043b\\u0438\\u0442\\u0438\\u043a\\u0438\"},{\"field\":\"\\u0411\\u044e\\u0434\\u0436\\u0435\\u0442 \\u0421\\u0420\\u0424, \\u0440\\u0443\\u0431\",\"sorter\":\"number\"},{\"field\":\"\\u0411\\u044e\\u0434\\u0436\\u0435\\u0442 \\u041c\\u041e, \\u0440\\u0443\\u0431\",\"sorter\":\"number\"},{\"field\":\"\\u041a\\u043e\\u043b-\\u0432\\u043e \\u0433\\u0440\\u0430\\u043d\\u0442\\u043e\\u0432\",\"sorter\":\"number\"},{\"field\":\"\\u0411\\u044e\\u0434\\u0436\\u0435\\u0442 \\u0433\\u0440\\u0430\\u043d\\u0442\\u043e\\u0432, \\u0440\\u0443\\u0431\",\"sorter\":\"number\"},{\"field\":\"\\u0427\\u0438\\u0441\\u043b\\u0435\\u043d\\u043d\\u043e\\u0441\\u0442\\u044c \\u043c\\u043e\\u043b\\u043e\\u0434e\\u0436\\u0438, \\u0437\\u0430\\u0434\\u0435\\u0439\\u0441\\u0442\\u0432\\u043e\\u0432\\u0430\\u043d\\u043d\\u043e\\u0439 \\u0432 \\u043f\\u0440\\u043e\\u0433\\u0440\\u0430\\u043c\\u043c\\u043d\\u044b\\u0445 \\u043c\\u0435\\u0440\\u043e\\u043f\\u0440\\u0438\\u044f\\u0442\\u0438\\u044f\\u0445 \\u043f\\u043e \\u043d\\u0430\\u043f\\u0440\\u0430\\u0432\\u043b\\u0435\\u043d\\u0438\\u044e\",\"sorter\":\"number\"},{\"field\":\"\\u041a\\u043e\\u043b\\u0438\\u0447\\u0435\\u0441\\u0442\\u0432\\u043e \\u0434\\u0435\\u0442\\u0441\\u043a\\u0438\\u0445 \\u0438 \\u043c\\u043e\\u043b\\u043e\\u0434e\\u0436\\u043d\\u044b\\u0445 \\u043e\\u0431\\u0449\\u0435\\u0441\\u0442\\u0432\\u0435\\u043d\\u043d\\u044b\\u0445 \\u043e\\u0431\\u044a\\u0435\\u0434\\u0438\\u043d\\u0435\\u043d\\u0438\\u0439, \\u0440\\u0430\\u0431\\u043e\\u0442\\u0430\\u044e\\u0449\\u0438\\u0445 \\u043f\\u043e \\u0434\\u0430\\u043d\\u043d\\u043e\\u043c\\u0443 \",\"sorter\":\"number\"}],\"dataTree\":false,\"selectable\":true},\"indexes\":[\"\\u041d\\u0430\\u043f\\u0440\\u0430\\u0432\\u043b\\u0435\\u043d\\u0438\\u044f \\u0440\\u0435\\u0430\\u043b\\u0438\\u0437\\u0430\\u0446\\u0438\\u0438 \\u0433\\u043e\\u0441\\u0443\\u0434\\u0430\\u0440\\u0441\\u0442\\u0432\\u0435\\u043d\\u043d\\u043e\\u0439 \\u043c\\u043e\\u043b\\u043e\\u0434e\\u0436\\u043d\\u043e\\u0439 \\u043f\\u043e\\u043b\\u0438\\u0442\\u0438\\u043a\\u0438\"],\"layout\":\"fit_data_table\",\"margin\":[5,10,5,10],\"max_page\":1,\"name\":\"\",\"page\":1,\"page_size\":10,\"pagination\":\"remote\",\"select_mode\":true,\"selectable_rows\":null,\"sizing_mode\":\"stretch_width\",\"source\":{\"id\":\"26741\"},\"subscribed_events\":[\"cell-click\",\"table-edit\"],\"theme_url\":\"https://cdn.jsdelivr.net/npm/@holoviz/panel@0.14.3/dist/bundled/datatabulator/tabulator-tables@5.3.2/dist/css/\"},\"id\":\"26779\",\"type\":\"panel.models.tabulator.DataTabulator\"},{\"attributes\":{\"children\":[{\"id\":\"26736\"},{\"id\":\"26739\"}],\"margin\":[0,0,0,0],\"name\":\"Row52452\",\"sizing_mode\":\"stretch_width\"},\"id\":\"26735\",\"type\":\"Row\"},{\"attributes\":{},\"id\":\"26750\",\"type\":\"NumberEditor\"},{\"attributes\":{\"editor\":{\"id\":\"26745\"},\"field\":\"\\u041d\\u0430\\u043f\\u0440\\u0430\\u0432\\u043b\\u0435\\u043d\\u0438\\u044f \\u0440\\u0435\\u0430\\u043b\\u0438\\u0437\\u0430\\u0446\\u0438\\u0438 \\u0433\\u043e\\u0441\\u0443\\u0434\\u0430\\u0440\\u0441\\u0442\\u0432\\u0435\\u043d\\u043d\\u043e\\u0439 \\u043c\\u043e\\u043b\\u043e\\u0434e\\u0436\\u043d\\u043e\\u0439 \\u043f\\u043e\\u043b\\u0438\\u0442\\u0438\\u043a\\u0438\",\"formatter\":{\"id\":\"26743\"},\"title\":\"\\u041d\\u0430\\u043f\\u0440\\u0430\\u0432\\u043b\\u0435\\u043d\\u0438\\u044f \\u0440\\u0435\\u0430\\u043b\\u0438\\u0437\\u0430\\u0446\\u0438\\u0438 \\u0433\\u043e\\u0441\\u0443\\u0434\\u0430\\u0440\\u0441\\u0442\\u0432\\u0435\\u043d\\u043d\\u043e\\u0439 \\u043c\\u043e\\u043b\\u043e\\u0434e\\u0436\\u043d\\u043e\\u0439 \\u043f\\u043e\\u043b\\u0438\\u0442\\u0438\\u043a\\u0438\",\"width\":0},\"id\":\"26746\",\"type\":\"TableColumn\"},{\"attributes\":{\"children\":[{\"id\":\"26737\"},{\"id\":\"26738\"}],\"margin\":[0,0,0,0],\"name\":\"Column52420\",\"sizing_mode\":\"stretch_width\"},\"id\":\"26736\",\"type\":\"Column\"},{\"attributes\":{\"format\":\"0,0.0[00000]\",\"text_align\":\"right\"},\"id\":\"26764\",\"type\":\"NumberFormatter\"},{\"attributes\":{\"format\":\"0,0.0[00000]\",\"text_align\":\"right\"},\"id\":\"26759\",\"type\":\"NumberFormatter\"},{\"attributes\":{\"format\":\"0,0.0[00000]\",\"text_align\":\"right\"},\"id\":\"26769\",\"type\":\"NumberFormatter\"},{\"attributes\":{},\"id\":\"26770\",\"type\":\"NumberEditor\"},{\"attributes\":{\"format\":\"0,0.0[00000]\",\"text_align\":\"right\"},\"id\":\"26754\",\"type\":\"NumberFormatter\"},{\"attributes\":{},\"id\":\"26781\",\"type\":\"UnionRenderers\"}],\"root_ids\":[\"26733\",\"26787\"]},\"title\":\"Bokeh Application\",\"version\":\"2.4.3\"}};\n",
       "    var render_items = [{\"docid\":\"f076d815-0d94-4266-bd52-0035605fb8cd\",\"root_ids\":[\"26733\"],\"roots\":{\"26733\":\"d21bfa40-3223-41d2-a963-4046c581304f\"}}];\n",
       "    root.Bokeh.embed.embed_items_notebook(docs_json, render_items);\n",
       "    for (const render_item of render_items) {\n",
       "      for (const root_id of render_item.root_ids) {\n",
       "\tconst id_el = document.getElementById(root_id)\n",
       "\tif (id_el.children.length && (id_el.children[0].className === 'bk-root')) {\n",
       "\t  const root_el = id_el.children[0]\n",
       "\t  root_el.id = root_el.id + '-rendered'\n",
       "\t}\n",
       "      }\n",
       "    }\n",
       "  }\n",
       "  if (root.Bokeh !== undefined && root.Bokeh.Panel !== undefined && ( root['Tabulator'] !== undefined) && ( root['Tabulator'] !== undefined) && ( root['Tabulator'] !== undefined) && ( root['Tabulator'] !== undefined) && ( root['Tabulator'] !== undefined) && ( root['Tabulator'] !== undefined) && ( root['Tabulator'] !== undefined) && ( root['Tabulator'] !== undefined) && ( root['Tabulator'] !== undefined) && ( root['Tabulator'] !== undefined) && ( root['Tabulator'] !== undefined)) {\n",
       "    embed_document(root);\n",
       "  } else {\n",
       "    var attempts = 0;\n",
       "    var timer = setInterval(function(root) {\n",
       "      if (root.Bokeh !== undefined && root.Bokeh.Panel !== undefined && (root['Tabulator'] !== undefined) && (root['Tabulator'] !== undefined) && (root['Tabulator'] !== undefined) && (root['Tabulator'] !== undefined) && (root['Tabulator'] !== undefined) && (root['Tabulator'] !== undefined) && (root['Tabulator'] !== undefined) && (root['Tabulator'] !== undefined) && (root['Tabulator'] !== undefined) && (root['Tabulator'] !== undefined) && (root['Tabulator'] !== undefined)) {\n",
       "        clearInterval(timer);\n",
       "        embed_document(root);\n",
       "      } else if (document.readyState == \"complete\") {\n",
       "        attempts++;\n",
       "        if (attempts > 200) {\n",
       "          clearInterval(timer);\n",
       "          console.log(\"Bokeh: ERROR: Unable to run BokehJS code because BokehJS library is missing\");\n",
       "        }\n",
       "      }\n",
       "    }, 25, root)\n",
       "  }\n",
       "})(window);</script>"
      ],
      "text/plain": [
       "<hvplot.interactive.Interactive at 0x7fb83e0d8a00>"
      ]
     },
     "execution_count": 915,
     "metadata": {
      "application/vnd.holoviews_exec.v0+json": {
       "id": "26733"
      }
     },
     "output_type": "execute_result"
    }
   ],
   "source": [
    "itable_1"
   ]
  },
  {
   "cell_type": "code",
   "execution_count": null,
   "id": "59945e69",
   "metadata": {},
   "outputs": [],
   "source": []
  },
  {
   "cell_type": "code",
   "execution_count": 916,
   "id": "0eaa6583",
   "metadata": {},
   "outputs": [],
   "source": [
    "# add select button\n",
    "select = pn.widgets.Select(name='Выберите округ', options=districts)"
   ]
  },
  {
   "cell_type": "code",
   "execution_count": 917,
   "id": "5c37bac4",
   "metadata": {
    "scrolled": true
   },
   "outputs": [],
   "source": [
    "ipipeline_2 = idf[idf['Округ'] == (select)] \\\n",
    "                .groupby('Направления реализации государственной молодeжной политики', as_index=True) \\\n",
    "                .agg({   'Бюджет СРФ, руб': 'sum',\n",
    "                         'Бюджет МО, руб': 'sum',\n",
    "                         'Кол-во грантов': 'sum',\n",
    "                         'Бюджет грантов, руб': 'sum',\n",
    "                         'Численность молодeжи, задействованной в программных мероприятиях по направлению': 'sum',\n",
    "                         'Количество детских и молодeжных общественных объединений, работающих по данному ': 'sum'}) \\\n",
    "                .rename(columns={'Направления реализации государственной молодeжной политики' : 'Направления реализации'})"
   ]
  },
  {
   "cell_type": "code",
   "execution_count": 918,
   "id": "5aea0bc2",
   "metadata": {},
   "outputs": [],
   "source": [
    "itable_2 = ipipeline_2.pipe(pn.widgets.Tabulator, pagination='remote', page_size=10)"
   ]
  },
  {
   "cell_type": "code",
   "execution_count": 919,
   "id": "5da6c810",
   "metadata": {
    "scrolled": true
   },
   "outputs": [
    {
     "data": {},
     "metadata": {},
     "output_type": "display_data"
    },
    {
     "data": {
      "application/vnd.holoviews_exec.v0+json": "",
      "text/html": [
       "<div id='26798'>\n",
       "  <div class=\"bk-root\" id=\"314e32f7-3dd6-4cb3-bec2-e031f56b110f\" data-root-id=\"26798\"></div>\n",
       "</div>\n",
       "<script type=\"application/javascript\">(function(root) {\n",
       "  function embed_document(root) {\n",
       "    var docs_json = {\"c098e349-afce-48c0-9488-4e7fd37c9974\":{\"defs\":[{\"extends\":null,\"module\":null,\"name\":\"ReactiveHTML1\",\"overrides\":[],\"properties\":[]},{\"extends\":null,\"module\":null,\"name\":\"FlexBox1\",\"overrides\":[],\"properties\":[{\"default\":\"flex-start\",\"kind\":null,\"name\":\"align_content\"},{\"default\":\"flex-start\",\"kind\":null,\"name\":\"align_items\"},{\"default\":\"row\",\"kind\":null,\"name\":\"flex_direction\"},{\"default\":\"wrap\",\"kind\":null,\"name\":\"flex_wrap\"},{\"default\":\"flex-start\",\"kind\":null,\"name\":\"justify_content\"}]},{\"extends\":null,\"module\":null,\"name\":\"GridStack1\",\"overrides\":[],\"properties\":[{\"default\":\"warn\",\"kind\":null,\"name\":\"mode\"},{\"default\":null,\"kind\":null,\"name\":\"ncols\"},{\"default\":null,\"kind\":null,\"name\":\"nrows\"},{\"default\":true,\"kind\":null,\"name\":\"allow_resize\"},{\"default\":true,\"kind\":null,\"name\":\"allow_drag\"},{\"default\":[],\"kind\":null,\"name\":\"state\"}]},{\"extends\":null,\"module\":null,\"name\":\"click1\",\"overrides\":[],\"properties\":[{\"default\":\"\",\"kind\":null,\"name\":\"terminal_output\"},{\"default\":\"\",\"kind\":null,\"name\":\"debug_name\"},{\"default\":0,\"kind\":null,\"name\":\"clears\"}]},{\"extends\":null,\"module\":null,\"name\":\"NotificationAreaBase1\",\"overrides\":[],\"properties\":[{\"default\":\"bottom-right\",\"kind\":null,\"name\":\"position\"},{\"default\":0,\"kind\":null,\"name\":\"_clear\"}]},{\"extends\":null,\"module\":null,\"name\":\"NotificationArea1\",\"overrides\":[],\"properties\":[{\"default\":[],\"kind\":null,\"name\":\"notifications\"},{\"default\":\"bottom-right\",\"kind\":null,\"name\":\"position\"},{\"default\":0,\"kind\":null,\"name\":\"_clear\"},{\"default\":[{\"background\":\"#ffc107\",\"icon\":{\"className\":\"fas fa-exclamation-triangle\",\"color\":\"white\",\"tagName\":\"i\"},\"type\":\"warning\"},{\"background\":\"#007bff\",\"icon\":{\"className\":\"fas fa-info-circle\",\"color\":\"white\",\"tagName\":\"i\"},\"type\":\"info\"}],\"kind\":null,\"name\":\"types\"}]},{\"extends\":null,\"module\":null,\"name\":\"Notification\",\"overrides\":[],\"properties\":[{\"default\":null,\"kind\":null,\"name\":\"background\"},{\"default\":3000,\"kind\":null,\"name\":\"duration\"},{\"default\":null,\"kind\":null,\"name\":\"icon\"},{\"default\":\"\",\"kind\":null,\"name\":\"message\"},{\"default\":null,\"kind\":null,\"name\":\"notification_type\"},{\"default\":false,\"kind\":null,\"name\":\"_destroyed\"}]},{\"extends\":null,\"module\":null,\"name\":\"TemplateActions1\",\"overrides\":[],\"properties\":[{\"default\":0,\"kind\":null,\"name\":\"open_modal\"},{\"default\":0,\"kind\":null,\"name\":\"close_modal\"}]},{\"extends\":null,\"module\":null,\"name\":\"MaterialTemplateActions1\",\"overrides\":[],\"properties\":[{\"default\":0,\"kind\":null,\"name\":\"open_modal\"},{\"default\":0,\"kind\":null,\"name\":\"close_modal\"}]}],\"roots\":{\"references\":[{\"attributes\":{},\"id\":\"26819\",\"type\":\"NumberEditor\"},{\"attributes\":{\"editor\":{\"id\":\"26829\"},\"field\":\"\\u0411\\u044e\\u0434\\u0436\\u0435\\u0442 \\u0433\\u0440\\u0430\\u043d\\u0442\\u043e\\u0432, \\u0440\\u0443\\u0431\",\"formatter\":{\"id\":\"26828\"},\"title\":\"\\u0411\\u044e\\u0434\\u0436\\u0435\\u0442 \\u0433\\u0440\\u0430\\u043d\\u0442\\u043e\\u0432, \\u0440\\u0443\\u0431\",\"width\":0},\"id\":\"26830\",\"type\":\"TableColumn\"},{\"attributes\":{\"format\":\"0,0.0[00000]\",\"text_align\":\"right\"},\"id\":\"26828\",\"type\":\"NumberFormatter\"},{\"attributes\":{},\"id\":\"26807\",\"type\":\"StringFormatter\"},{\"attributes\":{\"children\":[{\"id\":\"26802\"}],\"margin\":[0,0,0,0],\"name\":\"Column52790\",\"sizing_mode\":\"stretch_width\"},\"id\":\"26801\",\"type\":\"Column\"},{\"attributes\":{\"children\":[{\"id\":\"26843\"}],\"margin\":[0,0,0,0],\"name\":\"Row52795\",\"sizing_mode\":\"stretch_width\"},\"id\":\"26804\",\"type\":\"Row\"},{\"attributes\":{\"editor\":{\"id\":\"26824\"},\"field\":\"\\u041a\\u043e\\u043b-\\u0432\\u043e \\u0433\\u0440\\u0430\\u043d\\u0442\\u043e\\u0432\",\"formatter\":{\"id\":\"26823\"},\"title\":\"\\u041a\\u043e\\u043b-\\u0432\\u043e \\u0433\\u0440\\u0430\\u043d\\u0442\\u043e\\u0432\",\"width\":0},\"id\":\"26825\",\"type\":\"TableColumn\"},{\"attributes\":{\"columns\":[{\"id\":\"26810\"},{\"id\":\"26815\"},{\"id\":\"26820\"},{\"id\":\"26825\"},{\"id\":\"26830\"},{\"id\":\"26835\"},{\"id\":\"26840\"}],\"configuration\":{\"columns\":[{\"field\":\"\\u041d\\u0430\\u043f\\u0440\\u0430\\u0432\\u043b\\u0435\\u043d\\u0438\\u044f \\u0440\\u0435\\u0430\\u043b\\u0438\\u0437\\u0430\\u0446\\u0438\\u0438 \\u0433\\u043e\\u0441\\u0443\\u0434\\u0430\\u0440\\u0441\\u0442\\u0432\\u0435\\u043d\\u043d\\u043e\\u0439 \\u043c\\u043e\\u043b\\u043e\\u0434e\\u0436\\u043d\\u043e\\u0439 \\u043f\\u043e\\u043b\\u0438\\u0442\\u0438\\u043a\\u0438\"},{\"field\":\"\\u0411\\u044e\\u0434\\u0436\\u0435\\u0442 \\u0421\\u0420\\u0424, \\u0440\\u0443\\u0431\",\"sorter\":\"number\"},{\"field\":\"\\u0411\\u044e\\u0434\\u0436\\u0435\\u0442 \\u041c\\u041e, \\u0440\\u0443\\u0431\",\"sorter\":\"number\"},{\"field\":\"\\u041a\\u043e\\u043b-\\u0432\\u043e \\u0433\\u0440\\u0430\\u043d\\u0442\\u043e\\u0432\",\"sorter\":\"number\"},{\"field\":\"\\u0411\\u044e\\u0434\\u0436\\u0435\\u0442 \\u0433\\u0440\\u0430\\u043d\\u0442\\u043e\\u0432, \\u0440\\u0443\\u0431\",\"sorter\":\"number\"},{\"field\":\"\\u0427\\u0438\\u0441\\u043b\\u0435\\u043d\\u043d\\u043e\\u0441\\u0442\\u044c \\u043c\\u043e\\u043b\\u043e\\u0434e\\u0436\\u0438, \\u0437\\u0430\\u0434\\u0435\\u0439\\u0441\\u0442\\u0432\\u043e\\u0432\\u0430\\u043d\\u043d\\u043e\\u0439 \\u0432 \\u043f\\u0440\\u043e\\u0433\\u0440\\u0430\\u043c\\u043c\\u043d\\u044b\\u0445 \\u043c\\u0435\\u0440\\u043e\\u043f\\u0440\\u0438\\u044f\\u0442\\u0438\\u044f\\u0445 \\u043f\\u043e \\u043d\\u0430\\u043f\\u0440\\u0430\\u0432\\u043b\\u0435\\u043d\\u0438\\u044e\",\"sorter\":\"number\"},{\"field\":\"\\u041a\\u043e\\u043b\\u0438\\u0447\\u0435\\u0441\\u0442\\u0432\\u043e \\u0434\\u0435\\u0442\\u0441\\u043a\\u0438\\u0445 \\u0438 \\u043c\\u043e\\u043b\\u043e\\u0434e\\u0436\\u043d\\u044b\\u0445 \\u043e\\u0431\\u0449\\u0435\\u0441\\u0442\\u0432\\u0435\\u043d\\u043d\\u044b\\u0445 \\u043e\\u0431\\u044a\\u0435\\u0434\\u0438\\u043d\\u0435\\u043d\\u0438\\u0439, \\u0440\\u0430\\u0431\\u043e\\u0442\\u0430\\u044e\\u0449\\u0438\\u0445 \\u043f\\u043e \\u0434\\u0430\\u043d\\u043d\\u043e\\u043c\\u0443 \",\"sorter\":\"number\"}],\"dataTree\":false,\"selectable\":true},\"indexes\":[\"\\u041d\\u0430\\u043f\\u0440\\u0430\\u0432\\u043b\\u0435\\u043d\\u0438\\u044f \\u0440\\u0435\\u0430\\u043b\\u0438\\u0437\\u0430\\u0446\\u0438\\u0438 \\u0433\\u043e\\u0441\\u0443\\u0434\\u0430\\u0440\\u0441\\u0442\\u0432\\u0435\\u043d\\u043d\\u043e\\u0439 \\u043c\\u043e\\u043b\\u043e\\u0434e\\u0436\\u043d\\u043e\\u0439 \\u043f\\u043e\\u043b\\u0438\\u0442\\u0438\\u043a\\u0438\"],\"layout\":\"fit_data_table\",\"margin\":[5,10,5,10],\"max_page\":3,\"name\":\"\",\"page\":1,\"page_size\":10,\"pagination\":\"remote\",\"select_mode\":true,\"selectable_rows\":null,\"sizing_mode\":\"stretch_width\",\"source\":{\"id\":\"26805\"},\"styles\":{\"data\":{},\"id\":\"a34d55d9f89343eb9d385783a01a874b\"},\"subscribed_events\":[\"cell-click\",\"table-edit\"],\"theme_url\":\"https://cdn.jsdelivr.net/npm/@holoviz/panel@0.14.3/dist/bundled/datatabulator/tabulator-tables@5.3.2/dist/css/\"},\"id\":\"26843\",\"type\":\"panel.models.tabulator.DataTabulator\"},{\"attributes\":{\"format\":\"0,0.0[00000]\",\"text_align\":\"right\"},\"id\":\"26818\",\"type\":\"NumberFormatter\"},{\"attributes\":{\"editor\":{\"id\":\"26839\"},\"field\":\"\\u041a\\u043e\\u043b\\u0438\\u0447\\u0435\\u0441\\u0442\\u0432\\u043e \\u0434\\u0435\\u0442\\u0441\\u043a\\u0438\\u0445 \\u0438 \\u043c\\u043e\\u043b\\u043e\\u0434e\\u0436\\u043d\\u044b\\u0445 \\u043e\\u0431\\u0449\\u0435\\u0441\\u0442\\u0432\\u0435\\u043d\\u043d\\u044b\\u0445 \\u043e\\u0431\\u044a\\u0435\\u0434\\u0438\\u043d\\u0435\\u043d\\u0438\\u0439, \\u0440\\u0430\\u0431\\u043e\\u0442\\u0430\\u044e\\u0449\\u0438\\u0445 \\u043f\\u043e \\u0434\\u0430\\u043d\\u043d\\u043e\\u043c\\u0443 \",\"formatter\":{\"id\":\"26838\"},\"title\":\"\\u041a\\u043e\\u043b\\u0438\\u0447\\u0435\\u0441\\u0442\\u0432\\u043e \\u0434\\u0435\\u0442\\u0441\\u043a\\u0438\\u0445 \\u0438 \\u043c\\u043e\\u043b\\u043e\\u0434e\\u0436\\u043d\\u044b\\u0445 \\u043e\\u0431\\u0449\\u0435\\u0441\\u0442\\u0432\\u0435\\u043d\\u043d\\u044b\\u0445 \\u043e\\u0431\\u044a\\u0435\\u0434\\u0438\\u043d\\u0435\\u043d\\u0438\\u0439, \\u0440\\u0430\\u0431\\u043e\\u0442\\u0430\\u044e\\u0449\\u0438\\u0445 \\u043f\\u043e \\u0434\\u0430\\u043d\\u043d\\u043e\\u043c\\u0443 \",\"width\":0},\"id\":\"26840\",\"type\":\"TableColumn\"},{\"attributes\":{\"format\":\"0,0.0[00000]\",\"text_align\":\"right\"},\"id\":\"26833\",\"type\":\"NumberFormatter\"},{\"attributes\":{\"children\":[{\"id\":\"26801\"},{\"id\":\"26803\"}],\"margin\":[0,0,0,0],\"name\":\"Row52819\",\"sizing_mode\":\"stretch_width\"},\"id\":\"26800\",\"type\":\"Row\"},{\"attributes\":{\"children\":[{\"id\":\"26800\"},{\"id\":\"26804\"}],\"margin\":[0,0,0,0],\"name\":\"Column52820\",\"sizing_mode\":\"stretch_width\"},\"id\":\"26799\",\"type\":\"Column\"},{\"attributes\":{},\"id\":\"26814\",\"type\":\"NumberEditor\"},{\"attributes\":{\"format\":\"0,0.0[00000]\",\"text_align\":\"right\"},\"id\":\"26813\",\"type\":\"NumberFormatter\"},{\"attributes\":{},\"id\":\"26839\",\"type\":\"NumberEditor\"},{\"attributes\":{\"editor\":{\"id\":\"26814\"},\"field\":\"\\u0411\\u044e\\u0434\\u0436\\u0435\\u0442 \\u0421\\u0420\\u0424, \\u0440\\u0443\\u0431\",\"formatter\":{\"id\":\"26813\"},\"title\":\"\\u0411\\u044e\\u0434\\u0436\\u0435\\u0442 \\u0421\\u0420\\u0424, \\u0440\\u0443\\u0431\",\"width\":0},\"id\":\"26815\",\"type\":\"TableColumn\"},{\"attributes\":{\"format\":\"0,0.0[00000]\",\"text_align\":\"right\"},\"id\":\"26823\",\"type\":\"NumberFormatter\"},{\"attributes\":{},\"id\":\"26824\",\"type\":\"NumberEditor\"},{\"attributes\":{\"margin\":[5,10,5,10],\"options\":[\"\\u0421\\u0424\\u041e\",\"\\u0414\\u0424\\u041e\",\"\\u0421\\u0417\\u0424\\u041e\",\"\\u042e\\u0424\\u041e\",\"\\u0426\\u0424\\u041e\",\"\\u0421\\u041a\\u0424\\u041e\",\"\\u041f\\u0424\\u041e\",\"\\u0423\\u0424\\u041e\"],\"sizing_mode\":\"stretch_width\",\"title\":\"\\u0412\\u044b\\u0431\\u0435\\u0440\\u0438\\u0442\\u0435 \\u043e\\u043a\\u0440\\u0443\\u0433\",\"value\":\"\\u0421\\u0424\\u041e\"},\"id\":\"26802\",\"type\":\"panel.models.widgets.CustomSelect\"},{\"attributes\":{\"client_comm_id\":\"a70e7b7641d4433ca25cf45ce638db70\",\"comm_id\":\"c51ffcf8c8bd4e96a9d6d854bfdd3890\",\"plot_id\":\"26798\"},\"id\":\"26851\",\"type\":\"panel.models.comm_manager.CommManager\"},{\"attributes\":{\"children\":[{\"id\":\"26799\"}],\"margin\":[0,0,0,0],\"name\":\"Row52821\",\"sizing_mode\":\"stretch_width\"},\"id\":\"26798\",\"type\":\"Row\"},{\"attributes\":{\"editor\":{\"id\":\"26809\"},\"field\":\"\\u041d\\u0430\\u043f\\u0440\\u0430\\u0432\\u043b\\u0435\\u043d\\u0438\\u044f \\u0440\\u0435\\u0430\\u043b\\u0438\\u0437\\u0430\\u0446\\u0438\\u0438 \\u0433\\u043e\\u0441\\u0443\\u0434\\u0430\\u0440\\u0441\\u0442\\u0432\\u0435\\u043d\\u043d\\u043e\\u0439 \\u043c\\u043e\\u043b\\u043e\\u0434e\\u0436\\u043d\\u043e\\u0439 \\u043f\\u043e\\u043b\\u0438\\u0442\\u0438\\u043a\\u0438\",\"formatter\":{\"id\":\"26807\"},\"title\":\"\\u041d\\u0430\\u043f\\u0440\\u0430\\u0432\\u043b\\u0435\\u043d\\u0438\\u044f \\u0440\\u0435\\u0430\\u043b\\u0438\\u0437\\u0430\\u0446\\u0438\\u0438 \\u0433\\u043e\\u0441\\u0443\\u0434\\u0430\\u0440\\u0441\\u0442\\u0432\\u0435\\u043d\\u043d\\u043e\\u0439 \\u043c\\u043e\\u043b\\u043e\\u0434e\\u0436\\u043d\\u043e\\u0439 \\u043f\\u043e\\u043b\\u0438\\u0442\\u0438\\u043a\\u0438\",\"width\":0},\"id\":\"26810\",\"type\":\"TableColumn\"},{\"attributes\":{\"editor\":{\"id\":\"26834\"},\"field\":\"\\u0427\\u0438\\u0441\\u043b\\u0435\\u043d\\u043d\\u043e\\u0441\\u0442\\u044c \\u043c\\u043e\\u043b\\u043e\\u0434e\\u0436\\u0438, \\u0437\\u0430\\u0434\\u0435\\u0439\\u0441\\u0442\\u0432\\u043e\\u0432\\u0430\\u043d\\u043d\\u043e\\u0439 \\u0432 \\u043f\\u0440\\u043e\\u0433\\u0440\\u0430\\u043c\\u043c\\u043d\\u044b\\u0445 \\u043c\\u0435\\u0440\\u043e\\u043f\\u0440\\u0438\\u044f\\u0442\\u0438\\u044f\\u0445 \\u043f\\u043e \\u043d\\u0430\\u043f\\u0440\\u0430\\u0432\\u043b\\u0435\\u043d\\u0438\\u044e\",\"formatter\":{\"id\":\"26833\"},\"title\":\"\\u0427\\u0438\\u0441\\u043b\\u0435\\u043d\\u043d\\u043e\\u0441\\u0442\\u044c \\u043c\\u043e\\u043b\\u043e\\u0434e\\u0436\\u0438, \\u0437\\u0430\\u0434\\u0435\\u0439\\u0441\\u0442\\u0432\\u043e\\u0432\\u0430\\u043d\\u043d\\u043e\\u0439 \\u0432 \\u043f\\u0440\\u043e\\u0433\\u0440\\u0430\\u043c\\u043c\\u043d\\u044b\\u0445 \\u043c\\u0435\\u0440\\u043e\\u043f\\u0440\\u0438\\u044f\\u0442\\u0438\\u044f\\u0445 \\u043f\\u043e \\u043d\\u0430\\u043f\\u0440\\u0430\\u0432\\u043b\\u0435\\u043d\\u0438\\u044e\",\"width\":0},\"id\":\"26835\",\"type\":\"TableColumn\"},{\"attributes\":{},\"id\":\"26845\",\"type\":\"UnionRenderers\"},{\"attributes\":{},\"id\":\"26834\",\"type\":\"NumberEditor\"},{\"attributes\":{\"margin\":[5,5,5,5],\"name\":\"HSpacer52818\",\"sizing_mode\":\"stretch_width\"},\"id\":\"26803\",\"type\":\"Spacer\"},{\"attributes\":{\"editor\":{\"id\":\"26819\"},\"field\":\"\\u0411\\u044e\\u0434\\u0436\\u0435\\u0442 \\u041c\\u041e, \\u0440\\u0443\\u0431\",\"formatter\":{\"id\":\"26818\"},\"title\":\"\\u0411\\u044e\\u0434\\u0436\\u0435\\u0442 \\u041c\\u041e, \\u0440\\u0443\\u0431\",\"width\":0},\"id\":\"26820\",\"type\":\"TableColumn\"},{\"attributes\":{\"data\":{\"\\u0411\\u044e\\u0434\\u0436\\u0435\\u0442 \\u041c\\u041e, \\u0440\\u0443\\u0431\":{\"__ndarray__\":\"AAAAAAAAAAAAAAAAAHDHQAAAAEBG91BBAAAAYPfUb0EAAAAAzm9HQQAAAAA38mFBAAAAAPoTQ0EAAAAAALQUQQAAAFhWBYFBAAAAALMNO0E=\",\"dtype\":\"float64\",\"order\":\"little\",\"shape\":[10]},\"\\u0411\\u044e\\u0434\\u0436\\u0435\\u0442 \\u0421\\u0420\\u0424, \\u0440\\u0443\\u0431\":{\"__ndarray__\":\"AAAAAAAAAAAAAAAAAGvMQAAAAAA/YzVBAAAAEEz2hUEAAAAA8fNwQQAAAEB+BVBBAAAAAND0/EAAAAAANMwzQQAAAEA3wmlBAAAAAOKeS0E=\",\"dtype\":\"float64\",\"order\":\"little\",\"shape\":[10]},\"\\u0411\\u044e\\u0434\\u0436\\u0435\\u0442 \\u0433\\u0440\\u0430\\u043d\\u0442\\u043e\\u0432, \\u0440\\u0443\\u0431\":{\"__ndarray__\":\"AAAAAABqCEEAAAAAAAAAAAAAAIC9hlpBAAAAgGzlVkEAAAAAlmdIQQAAAAAoDytBAAAAAFBgQEEAAACAWz5BQQAAAEAMrGpBAAAAAK85XEE=\",\"dtype\":\"float64\",\"order\":\"little\",\"shape\":[10]},\"\\u041a\\u043e\\u043b-\\u0432\\u043e \\u0433\\u0440\\u0430\\u043d\\u0442\\u043e\\u0432\":{\"__ndarray__\":\"AAAAAAAA8D8AAAAAAAAAAAAAAAAAADFAAAAAAACAUkAAAAAAAABeQAAAAAAAACpAAAAAAAAAM0AAAAAAAAAIQAAAAAAAAEdAAAAAAAAAHEA=\",\"dtype\":\"float64\",\"order\":\"little\",\"shape\":[10]},\"\\u041a\\u043e\\u043b\\u0438\\u0447\\u0435\\u0441\\u0442\\u0432\\u043e \\u0434\\u0435\\u0442\\u0441\\u043a\\u0438\\u0445 \\u0438 \\u043c\\u043e\\u043b\\u043e\\u0434e\\u0436\\u043d\\u044b\\u0445 \\u043e\\u0431\\u0449\\u0435\\u0441\\u0442\\u0432\\u0435\\u043d\\u043d\\u044b\\u0445 \\u043e\\u0431\\u044a\\u0435\\u0434\\u0438\\u043d\\u0435\\u043d\\u0438\\u0439, \\u0440\\u0430\\u0431\\u043e\\u0442\\u0430\\u044e\\u0449\\u0438\\u0445 \\u043f\\u043e \\u0434\\u0430\\u043d\\u043d\\u043e\\u043c\\u0443 \":{\"__ndarray__\":\"AAAAAAAACEAAAAAAAAAkQAAAAAAA4qNAAAAAAABQgEAAAAAAABiBQAAAAAAAsHhAAAAAAAD4ikAAAAAAAMBgQAAAAAAAVqpAAAAAAAAAbkA=\",\"dtype\":\"float64\",\"order\":\"little\",\"shape\":[10]},\"\\u041d\\u0430\\u043f\\u0440\\u0430\\u0432\\u043b\\u0435\\u043d\\u0438\\u044f \\u0440\\u0435\\u0430\\u043b\\u0438\\u0437\\u0430\\u0446\\u0438\\u0438 \\u0433\\u043e\\u0441\\u0443\\u0434\\u0430\\u0440\\u0441\\u0442\\u0432\\u0435\\u043d\\u043d\\u043e\\u0439 \\u043c\\u043e\\u043b\\u043e\\u0434e\\u0436\\u043d\\u043e\\u0439 \\u043f\\u043e\\u043b\\u0438\\u0442\\u0438\\u043a\\u0438\":[\"      \\u0430\\u044d\\u0440\\u043e\\u043a\\u043e\\u0441\\u043c\\u043e\\u0441\",\"      \\u0431\\u0438\\u043e\\u043c\\u0435\\u0434\\u0438\\u0446\\u0438\\u043d\\u0430\",\"      \\u0432\\u043e\\u043b\\u043e\\u043d\\u0442e\\u0440\\u0441\\u043a\\u0438\\u0445 \\u043e\\u0431\\u044a\\u0435\\u0434\\u0438\\u043d\\u0435\\u043d\\u0438\\u0439 \\u0432 \\u0441\\u0444\\u0435\\u0440\\u0435\\n      \\u043f\\u0430\\u0442\\u0440\\u0438\\u043e\\u0442\\u0438\\u0447\\u0435\\u0441\\u043a\\u043e\\u0433\\u043e \\u0432\\u043e\\u0441\\u043f\\u0438\\u0442\\u0430\\u043d\\u0438\\u044f \\u0434\\u0435\\u0442\\u0435\\u0439\\n      \\u0438 \\u043c\\u043e\\u043b\\u043e\\u0434e\\u0436\\u0438\",\"      \\u0434\\u0440\\u0443\\u0433\\u0438\\u0435\",\"      \\u0434\\u0440\\u0443\\u0433\\u043e\\u0435\",\"      \\u0438\\u043d\\u0444\\u043e\\u0440\\u043c\\u0430\\u0446\\u0438\\u043e\\u043d\\u043d\\u044b\\u0435 \\u0442\\u0435\\u0445\\u043d\\u043e\\u043b\\u043e\\u0433\\u0438\\u0438 - IT\\n      (\\u0432 \\u0442\\u043e\\u043c \\u0447\\u0438\\u0441\\u043b\\u0435 \\u0440\\u043e\\u0431\\u043e\\u0442\\u043e\\u0442\\u0435\\u0445\\u043d\\u0438\\u043a\\u0430)\",\"      \\u0438\\u0441\\u0442\\u043e\\u0440\\u0438\\u043a\\u043e-\\u043a\\u0440\\u0430\\u0435\\u0432\\u0435\\u0434\\u0447\\u0435\\u0441\\u043a\\u0438\\u0445 \\u043a\\u0440\\u0443\\u0436\\u043a\\u043e\\u0432 \\u0438 \\u043e\\u0431\\u044a\\u0435\\u0434\\u0438\\u043d\\u0435\\u043d\\u0438\\u0439 \\u0438\\u0441\\u0442\\u043e\\u0440\\u0438\\u0447\\u0435\\u0441\\u043a\\u043e\\u0439 \\u0440\\u0435\\u043a\\u043e\\u043d\\u0441\\u0442\\u0440\\u0443\\u043a\\u0446\\u0438\\u0438\",\"      \\u043c\\u043e\\u043b\\u043e\\u0434e\\u0436\\u043d\\u044b\\u0445 \\u043a\\u0430\\u0437\\u0430\\u0447\\u044c\\u0438\\u0445 \\u043e\\u0431\\u044a\\u0435\\u0434\\u0438\\u043d\\u0435\\u043d\\u0438\\u0439\",\"      \\u043d\\u0430 \\u0440\\u0430\\u0437\\u0432\\u0438\\u0442\\u0438\\u0435 \\u0438 \\u043c\\u0435\\u0440\\u043e\\u043f\\u0440\\u0438\\u044f\\u0442\\u0438\\u044f\\n      \\u0432\\u043e\\u0435\\u043d\\u043d\\u043e-\\u043f\\u0430\\u0442\\u0440\\u0438\\u043e\\u0442\\u0438\\u0447\\u0435\\u0441\\u043a\\u0438\\u0445 \\u043a\\u043b\\u0443\\u0431\\u043e\\u0432\",\"      \\u043f\\u043e\\u0438\\u0441\\u043a\\u043e\\u0432\\u044b\\u0445 \\u043e\\u0442\\u0440\\u044f\\u0434\\u043e\\u0432 \\u0438 \\u043e\\u0431\\u044a\\u0435\\u0434\\u0438\\u043d\\u0435\\u043d\\u0438\\u0439\"],\"\\u0427\\u0438\\u0441\\u043b\\u0435\\u043d\\u043d\\u043e\\u0441\\u0442\\u044c \\u043c\\u043e\\u043b\\u043e\\u0434e\\u0436\\u0438, \\u0437\\u0430\\u0434\\u0435\\u0439\\u0441\\u0442\\u0432\\u043e\\u0432\\u0430\\u043d\\u043d\\u043e\\u0439 \\u0432 \\u043f\\u0440\\u043e\\u0433\\u0440\\u0430\\u043c\\u043c\\u043d\\u044b\\u0445 \\u043c\\u0435\\u0440\\u043e\\u043f\\u0440\\u0438\\u044f\\u0442\\u0438\\u044f\\u0445 \\u043f\\u043e \\u043d\\u0430\\u043f\\u0440\\u0430\\u0432\\u043b\\u0435\\u043d\\u0438\\u044e\":{\"__ndarray__\":\"AAAAAAAIiEAAAAAAAACOQAAAAABIUANBAAAAAIuCN0EAAAAAIOrpQAAAAAAA491AAAAAAED33kAAAAAAAES9QAAAAAD4kQNBAAAAAIA+z0A=\",\"dtype\":\"float64\",\"order\":\"little\",\"shape\":[10]}},\"selected\":{\"id\":\"26806\"},\"selection_policy\":{\"id\":\"26845\"}},\"id\":\"26805\",\"type\":\"ColumnDataSource\"},{\"attributes\":{\"indices\":[]},\"id\":\"26806\",\"type\":\"Selection\"},{\"attributes\":{},\"id\":\"26809\",\"type\":\"CellEditor\"},{\"attributes\":{},\"id\":\"26829\",\"type\":\"NumberEditor\"},{\"attributes\":{\"format\":\"0,0.0[00000]\",\"text_align\":\"right\"},\"id\":\"26838\",\"type\":\"NumberFormatter\"}],\"root_ids\":[\"26798\",\"26851\"]},\"title\":\"Bokeh Application\",\"version\":\"2.4.3\"}};\n",
       "    var render_items = [{\"docid\":\"c098e349-afce-48c0-9488-4e7fd37c9974\",\"root_ids\":[\"26798\"],\"roots\":{\"26798\":\"314e32f7-3dd6-4cb3-bec2-e031f56b110f\"}}];\n",
       "    root.Bokeh.embed.embed_items_notebook(docs_json, render_items);\n",
       "    for (const render_item of render_items) {\n",
       "      for (const root_id of render_item.root_ids) {\n",
       "\tconst id_el = document.getElementById(root_id)\n",
       "\tif (id_el.children.length && (id_el.children[0].className === 'bk-root')) {\n",
       "\t  const root_el = id_el.children[0]\n",
       "\t  root_el.id = root_el.id + '-rendered'\n",
       "\t}\n",
       "      }\n",
       "    }\n",
       "  }\n",
       "  if (root.Bokeh !== undefined && root.Bokeh.Panel !== undefined && ( root['Tabulator'] !== undefined) && ( root['Tabulator'] !== undefined) && ( root['Tabulator'] !== undefined) && ( root['Tabulator'] !== undefined) && ( root['Tabulator'] !== undefined) && ( root['Tabulator'] !== undefined) && ( root['Tabulator'] !== undefined) && ( root['Tabulator'] !== undefined) && ( root['Tabulator'] !== undefined) && ( root['Tabulator'] !== undefined) && ( root['Tabulator'] !== undefined)) {\n",
       "    embed_document(root);\n",
       "  } else {\n",
       "    var attempts = 0;\n",
       "    var timer = setInterval(function(root) {\n",
       "      if (root.Bokeh !== undefined && root.Bokeh.Panel !== undefined && (root['Tabulator'] !== undefined) && (root['Tabulator'] !== undefined) && (root['Tabulator'] !== undefined) && (root['Tabulator'] !== undefined) && (root['Tabulator'] !== undefined) && (root['Tabulator'] !== undefined) && (root['Tabulator'] !== undefined) && (root['Tabulator'] !== undefined) && (root['Tabulator'] !== undefined) && (root['Tabulator'] !== undefined) && (root['Tabulator'] !== undefined)) {\n",
       "        clearInterval(timer);\n",
       "        embed_document(root);\n",
       "      } else if (document.readyState == \"complete\") {\n",
       "        attempts++;\n",
       "        if (attempts > 200) {\n",
       "          clearInterval(timer);\n",
       "          console.log(\"Bokeh: ERROR: Unable to run BokehJS code because BokehJS library is missing\");\n",
       "        }\n",
       "      }\n",
       "    }, 25, root)\n",
       "  }\n",
       "})(window);</script>"
      ],
      "text/plain": [
       "<hvplot.interactive.Interactive at 0x7fb7eb169480>"
      ]
     },
     "execution_count": 919,
     "metadata": {
      "application/vnd.holoviews_exec.v0+json": {
       "id": "26798"
      }
     },
     "output_type": "execute_result"
    }
   ],
   "source": [
    "itable_2"
   ]
  },
  {
   "cell_type": "markdown",
   "id": "d0e5cf15",
   "metadata": {},
   "source": [
    "### График расходов по округам с выбором типа бюджета"
   ]
  },
  {
   "cell_type": "code",
   "execution_count": 920,
   "id": "43a990ee",
   "metadata": {},
   "outputs": [],
   "source": [
    "budget_types=sorted(list(df_p1.columns[5:9]))[:3]"
   ]
  },
  {
   "cell_type": "code",
   "execution_count": 921,
   "id": "6614caa1",
   "metadata": {},
   "outputs": [
    {
     "data": {
      "text/plain": [
       "['Бюджет МО, руб', 'Бюджет СРФ, руб', 'Бюджет грантов, руб']"
      ]
     },
     "execution_count": 921,
     "metadata": {},
     "output_type": "execute_result"
    }
   ],
   "source": [
    "budget_types"
   ]
  },
  {
   "cell_type": "code",
   "execution_count": 922,
   "id": "de70585c",
   "metadata": {},
   "outputs": [],
   "source": [
    "# create budget selection \n",
    "select_budget = pn.widgets.Select(name='Выберите тип бюджета', options=budget_types)"
   ]
  },
  {
   "cell_type": "code",
   "execution_count": 923,
   "id": "3802b3c5",
   "metadata": {},
   "outputs": [],
   "source": [
    "idf = df_p1.interactive()"
   ]
  },
  {
   "cell_type": "code",
   "execution_count": 924,
   "id": "2e8e815d",
   "metadata": {
    "scrolled": true
   },
   "outputs": [
    {
     "data": {},
     "metadata": {},
     "output_type": "display_data"
    },
    {
     "data": {
      "application/vnd.holoviews_exec.v0+json": "",
      "text/html": [
       "<div id='26862'>\n",
       "  <div class=\"bk-root\" id=\"824ad02a-42c3-4176-b9ac-81e4d8a8e84d\" data-root-id=\"26862\"></div>\n",
       "</div>\n",
       "<script type=\"application/javascript\">(function(root) {\n",
       "  function embed_document(root) {\n",
       "    var docs_json = {\"41656d19-e2c7-4177-a808-590477672c87\":{\"defs\":[{\"extends\":null,\"module\":null,\"name\":\"ReactiveHTML1\",\"overrides\":[],\"properties\":[]},{\"extends\":null,\"module\":null,\"name\":\"FlexBox1\",\"overrides\":[],\"properties\":[{\"default\":\"flex-start\",\"kind\":null,\"name\":\"align_content\"},{\"default\":\"flex-start\",\"kind\":null,\"name\":\"align_items\"},{\"default\":\"row\",\"kind\":null,\"name\":\"flex_direction\"},{\"default\":\"wrap\",\"kind\":null,\"name\":\"flex_wrap\"},{\"default\":\"flex-start\",\"kind\":null,\"name\":\"justify_content\"}]},{\"extends\":null,\"module\":null,\"name\":\"GridStack1\",\"overrides\":[],\"properties\":[{\"default\":\"warn\",\"kind\":null,\"name\":\"mode\"},{\"default\":null,\"kind\":null,\"name\":\"ncols\"},{\"default\":null,\"kind\":null,\"name\":\"nrows\"},{\"default\":true,\"kind\":null,\"name\":\"allow_resize\"},{\"default\":true,\"kind\":null,\"name\":\"allow_drag\"},{\"default\":[],\"kind\":null,\"name\":\"state\"}]},{\"extends\":null,\"module\":null,\"name\":\"click1\",\"overrides\":[],\"properties\":[{\"default\":\"\",\"kind\":null,\"name\":\"terminal_output\"},{\"default\":\"\",\"kind\":null,\"name\":\"debug_name\"},{\"default\":0,\"kind\":null,\"name\":\"clears\"}]},{\"extends\":null,\"module\":null,\"name\":\"NotificationAreaBase1\",\"overrides\":[],\"properties\":[{\"default\":\"bottom-right\",\"kind\":null,\"name\":\"position\"},{\"default\":0,\"kind\":null,\"name\":\"_clear\"}]},{\"extends\":null,\"module\":null,\"name\":\"NotificationArea1\",\"overrides\":[],\"properties\":[{\"default\":[],\"kind\":null,\"name\":\"notifications\"},{\"default\":\"bottom-right\",\"kind\":null,\"name\":\"position\"},{\"default\":0,\"kind\":null,\"name\":\"_clear\"},{\"default\":[{\"background\":\"#ffc107\",\"icon\":{\"className\":\"fas fa-exclamation-triangle\",\"color\":\"white\",\"tagName\":\"i\"},\"type\":\"warning\"},{\"background\":\"#007bff\",\"icon\":{\"className\":\"fas fa-info-circle\",\"color\":\"white\",\"tagName\":\"i\"},\"type\":\"info\"}],\"kind\":null,\"name\":\"types\"}]},{\"extends\":null,\"module\":null,\"name\":\"Notification\",\"overrides\":[],\"properties\":[{\"default\":null,\"kind\":null,\"name\":\"background\"},{\"default\":3000,\"kind\":null,\"name\":\"duration\"},{\"default\":null,\"kind\":null,\"name\":\"icon\"},{\"default\":\"\",\"kind\":null,\"name\":\"message\"},{\"default\":null,\"kind\":null,\"name\":\"notification_type\"},{\"default\":false,\"kind\":null,\"name\":\"_destroyed\"}]},{\"extends\":null,\"module\":null,\"name\":\"TemplateActions1\",\"overrides\":[],\"properties\":[{\"default\":0,\"kind\":null,\"name\":\"open_modal\"},{\"default\":0,\"kind\":null,\"name\":\"close_modal\"}]},{\"extends\":null,\"module\":null,\"name\":\"MaterialTemplateActions1\",\"overrides\":[],\"properties\":[{\"default\":0,\"kind\":null,\"name\":\"open_modal\"},{\"default\":0,\"kind\":null,\"name\":\"close_modal\"}]}],\"roots\":{\"references\":[{\"attributes\":{\"children\":[{\"id\":\"26868\"},{\"id\":\"26869\"}],\"margin\":[0,0,0,0],\"name\":\"Column52912\",\"sizing_mode\":\"stretch_width\"},\"id\":\"26867\",\"type\":\"Column\"},{\"attributes\":{\"margin\":[0,0,0,0],\"name\":\"Column52910\",\"sizing_mode\":\"stretch_width\"},\"id\":\"26865\",\"type\":\"Column\"},{\"attributes\":{\"children\":[{\"id\":\"26870\"}],\"margin\":[0,0,0,0],\"name\":\"Row52933\",\"sizing_mode\":\"stretch_width\"},\"id\":\"26869\",\"type\":\"Row\"},{\"attributes\":{\"children\":[{\"id\":\"26863\"}],\"margin\":[0,0,0,0],\"name\":\"Row52938\",\"sizing_mode\":\"stretch_width\"},\"id\":\"26862\",\"type\":\"Row\"},{\"attributes\":{\"margin\":[5,5,5,5],\"name\":\"HSpacer52935\",\"sizing_mode\":\"stretch_width\"},\"id\":\"26866\",\"type\":\"Spacer\"},{\"attributes\":{\"margin\":[0,0,0,0],\"name\":\"Column52934\",\"sizing_mode\":\"stretch_width\"},\"id\":\"26868\",\"type\":\"Column\"},{\"attributes\":{\"children\":[{\"id\":\"26864\"},{\"id\":\"26867\"}],\"margin\":[0,0,0,0],\"name\":\"Column52937\",\"sizing_mode\":\"stretch_width\"},\"id\":\"26863\",\"type\":\"Column\"},{\"attributes\":{\"client_comm_id\":\"ebccd88dbab24323800d8b142325a1c6\",\"comm_id\":\"3df041cd5f444e02a9ba99ff9a55940e\",\"plot_id\":\"26862\"},\"id\":\"26871\",\"type\":\"panel.models.comm_manager.CommManager\"},{\"attributes\":{\"children\":[{\"id\":\"26865\"},{\"id\":\"26866\"}],\"margin\":[0,0,0,0],\"name\":\"Row52936\",\"sizing_mode\":\"stretch_width\"},\"id\":\"26864\",\"type\":\"Row\"},{\"attributes\":{\"margin\":[5,5,5,5],\"name\":\"DataFrame52931\",\"sizing_mode\":\"stretch_width\",\"text\":\"&lt;table class=&quot;dataframe panel-df&quot;&gt;\\n  &lt;thead&gt;\\n    &lt;tr style=&quot;text-align: right;&quot;&gt;\\n      &lt;th&gt;&lt;/th&gt;\\n      &lt;th&gt;\\u0420\\u0435\\u0433\\u0438\\u043e\\u043d&lt;/th&gt;\\n      &lt;th&gt;\\u041e\\u043a\\u0440\\u0443\\u0433&lt;/th&gt;\\n      &lt;th&gt;\\u0413\\u043e\\u0434&lt;/th&gt;\\n      &lt;th&gt;\\u041d\\u0430\\u043f\\u0440\\u0430\\u0432\\u043b\\u0435\\u043d\\u0438\\u044f \\u0440\\u0435\\u0430\\u043b\\u0438\\u0437\\u0430\\u0446\\u0438\\u0438 \\u0433\\u043e\\u0441\\u0443\\u0434\\u0430\\u0440\\u0441\\u0442\\u0432\\u0435\\u043d\\u043d\\u043e\\u0439 \\u043c\\u043e\\u043b\\u043e\\u0434e\\u0436\\u043d\\u043e\\u0439 \\u043f\\u043e\\u043b\\u0438\\u0442\\u0438\\u043a\\u0438&lt;/th&gt;\\n      &lt;th&gt;\\u2116 \\u0441\\u0442\\u0440\\u043e\\u043a\\u0438&lt;/th&gt;\\n      &lt;th&gt;\\u0411\\u044e\\u0434\\u0436\\u0435\\u0442 \\u0421\\u0420\\u0424, \\u0440\\u0443\\u0431&lt;/th&gt;\\n      &lt;th&gt;\\u0411\\u044e\\u0434\\u0436\\u0435\\u0442 \\u041c\\u041e, \\u0440\\u0443\\u0431&lt;/th&gt;\\n      &lt;th&gt;\\u041a\\u043e\\u043b-\\u0432\\u043e \\u0433\\u0440\\u0430\\u043d\\u0442\\u043e\\u0432&lt;/th&gt;\\n      &lt;th&gt;\\u0411\\u044e\\u0434\\u0436\\u0435\\u0442 \\u0433\\u0440\\u0430\\u043d\\u0442\\u043e\\u0432, \\u0440\\u0443\\u0431&lt;/th&gt;\\n      &lt;th&gt;\\u0427\\u0438\\u0441\\u043b\\u0435\\u043d\\u043d\\u043e\\u0441\\u0442\\u044c \\u043c\\u043e\\u043b\\u043e\\u0434e\\u0436\\u0438, \\u0437\\u0430\\u0434\\u0435\\u0439\\u0441\\u0442\\u0432\\u043e\\u0432\\u0430\\u043d\\u043d\\u043e\\u0439 \\u0432 \\u043f\\u0440\\u043e\\u0433\\u0440\\u0430\\u043c\\u043c\\u043d\\u044b\\u0445 \\u043c\\u0435\\u0440\\u043e\\u043f\\u0440\\u0438\\u044f\\u0442\\u0438\\u044f\\u0445 \\u043f\\u043e \\u043d\\u0430\\u043f\\u0440\\u0430\\u0432\\u043b\\u0435\\u043d\\u0438\\u044e&lt;/th&gt;\\n      &lt;th&gt;\\u041a\\u043e\\u043b\\u0438\\u0447\\u0435\\u0441\\u0442\\u0432\\u043e \\u0434\\u0435\\u0442\\u0441\\u043a\\u0438\\u0445 \\u0438 \\u043c\\u043e\\u043b\\u043e\\u0434e\\u0436\\u043d\\u044b\\u0445 \\u043e\\u0431\\u0449\\u0435\\u0441\\u0442\\u0432\\u0435\\u043d\\u043d\\u044b\\u0445 \\u043e\\u0431\\u044a\\u0435\\u0434\\u0438\\u043d\\u0435\\u043d\\u0438\\u0439, \\u0440\\u0430\\u0431\\u043e\\u0442\\u0430\\u044e\\u0449\\u0438\\u0445 \\u043f\\u043e \\u0434\\u0430\\u043d\\u043d\\u043e\\u043c\\u0443&lt;/th&gt;\\n    &lt;/tr&gt;\\n  &lt;/thead&gt;\\n  &lt;tbody&gt;\\n    &lt;tr&gt;\\n      &lt;th&gt;0&lt;/th&gt;\\n      &lt;td&gt;\\u0410\\u043b\\u0442\\u0430\\u0439\\u0441\\u043a\\u0438\\u0439 \\u043a\\u0440\\u0430\\u0439&lt;/td&gt;\\n      &lt;td&gt;\\u0421\\u0424\\u041e&lt;/td&gt;\\n      &lt;td&gt;2021&lt;/td&gt;\\n      &lt;td&gt;\\u0412\\u043e\\u0432\\u043b\\u0435\\u0447\\u0435\\u043d\\u0438\\u0435 \\u043c\\u043e\\u043b\\u043e\\u0434e\\u0436\\u0438 \\u0432 \\u0438\\u043d\\u043d\\u043e\\u0432\\u0430\\u0446\\u0438\\u043e\\u043d\\u043d\\u0443\\u044e \\u0434\\u0435\\u044f\\u0442\\u0435\\u043b\\u044c\\u043d\\u043e\\u0441\\u0442\\u044c \\u0438 \\u043d\\u0430\\u0443\\u0447\\u043d\\u043e-\\u0442\\u0435\\u0445\\u043d\\u0438\\u0447\\u0435\\u0441\\u043a\\u043e\\u0435 \\u0442\\u0432\\u043e\\u0440\\u0447\\u0435\\u0441\\u0442\\u0432\\u043e, \\u0432 \\u0442\\u043e\\u043c \\u0447\\u0438\\u0441\\u043b\\u0435:&lt;/td&gt;\\n      &lt;td&gt;1&lt;/td&gt;\\n      &lt;td&gt;7176890.000&lt;/td&gt;\\n      &lt;td&gt;123085.000&lt;/td&gt;\\n      &lt;td&gt;4.000&lt;/td&gt;\\n      &lt;td&gt;35485.000&lt;/td&gt;\\n      &lt;td&gt;3845.000&lt;/td&gt;\\n      &lt;td&gt;44.000&lt;/td&gt;\\n    &lt;/tr&gt;\\n    &lt;tr&gt;\\n      &lt;th&gt;1&lt;/th&gt;\\n      &lt;td&gt;\\u0410\\u043b\\u0442\\u0430\\u0439\\u0441\\u043a\\u0438\\u0439 \\u043a\\u0440\\u0430\\u0439&lt;/td&gt;\\n      &lt;td&gt;\\u0421\\u0424\\u041e&lt;/td&gt;\\n      &lt;td&gt;2021&lt;/td&gt;\\n      &lt;td&gt;\\u0431\\u0438\\u043e\\u043c\\u0435\\u0434\\u0438\\u0446\\u0438\\u043d\\u0430&lt;/td&gt;\\n      &lt;td&gt;2&lt;/td&gt;\\n      &lt;td&gt;0.000&lt;/td&gt;\\n      &lt;td&gt;0.000&lt;/td&gt;\\n      &lt;td&gt;0.000&lt;/td&gt;\\n      &lt;td&gt;0.000&lt;/td&gt;\\n      &lt;td&gt;0.000&lt;/td&gt;\\n      &lt;td&gt;0.000&lt;/td&gt;\\n    &lt;/tr&gt;\\n    &lt;tr&gt;\\n      &lt;th&gt;2&lt;/th&gt;\\n      &lt;td&gt;\\u0410\\u043b\\u0442\\u0430\\u0439\\u0441\\u043a\\u0438\\u0439 \\u043a\\u0440\\u0430\\u0439&lt;/td&gt;\\n      &lt;td&gt;\\u0421\\u0424\\u041e&lt;/td&gt;\\n      &lt;td&gt;2021&lt;/td&gt;\\n      &lt;td&gt;\\u043f\\u0440\\u043e\\u043c\\u044b\\u0448\\u043b\\u0435\\u043d\\u043d\\u044b\\u0435 \\u0442\\u0435\\u0445\\u043d\\u043e\\u043b\\u043e\\u0433\\u0438\\u0438\\\\n      (\\u043d\\u0430\\u043d\\u043e\\u0442\\u0435\\u0445\\u043d\\u043e\\u043b\\u043e\\u0433\\u0438\\u0438, \\u043a\\u043e\\u043c\\u043f\\u043e\\u0437\\u0438\\u0442\\u044b, \\u043f\\u0440.)&lt;/td&gt;\\n      &lt;td&gt;3&lt;/td&gt;\\n      &lt;td&gt;0.000&lt;/td&gt;\\n      &lt;td&gt;0.000&lt;/td&gt;\\n      &lt;td&gt;0.000&lt;/td&gt;\\n      &lt;td&gt;0.000&lt;/td&gt;\\n      &lt;td&gt;10.000&lt;/td&gt;\\n      &lt;td&gt;0.000&lt;/td&gt;\\n    &lt;/tr&gt;\\n    &lt;tr&gt;\\n      &lt;th&gt;3&lt;/th&gt;\\n      &lt;td&gt;\\u0410\\u043b\\u0442\\u0430\\u0439\\u0441\\u043a\\u0438\\u0439 \\u043a\\u0440\\u0430\\u0439&lt;/td&gt;\\n      &lt;td&gt;\\u0421\\u0424\\u041e&lt;/td&gt;\\n      &lt;td&gt;2021&lt;/td&gt;\\n      &lt;td&gt;\\u0430\\u044d\\u0440\\u043e\\u043a\\u043e\\u0441\\u043c\\u043e\\u0441&lt;/td&gt;\\n      &lt;td&gt;4&lt;/td&gt;\\n      &lt;td&gt;0.000&lt;/td&gt;\\n      &lt;td&gt;0.000&lt;/td&gt;\\n      &lt;td&gt;0.000&lt;/td&gt;\\n      &lt;td&gt;0.000&lt;/td&gt;\\n      &lt;td&gt;28.000&lt;/td&gt;\\n      &lt;td&gt;1.000&lt;/td&gt;\\n    &lt;/tr&gt;\\n    &lt;tr&gt;\\n      &lt;th&gt;4&lt;/th&gt;\\n      &lt;td&gt;\\u0410\\u043b\\u0442\\u0430\\u0439\\u0441\\u043a\\u0438\\u0439 \\u043a\\u0440\\u0430\\u0439&lt;/td&gt;\\n      &lt;td&gt;\\u0421\\u0424\\u041e&lt;/td&gt;\\n      &lt;td&gt;2021&lt;/td&gt;\\n      &lt;td&gt;\\u0441\\u0435\\u043b\\u044c\\u0441\\u043a\\u043e\\u0435 \\u0445\\u043e\\u0437\\u044f\\u0439\\u0441\\u0442\\u0432\\u043e&lt;/td&gt;\\n      &lt;td&gt;5&lt;/td&gt;\\n      &lt;td&gt;0.000&lt;/td&gt;\\n      &lt;td&gt;1000.000&lt;/td&gt;\\n      &lt;td&gt;0.000&lt;/td&gt;\\n      &lt;td&gt;0.000&lt;/td&gt;\\n      &lt;td&gt;247.000&lt;/td&gt;\\n      &lt;td&gt;0.000&lt;/td&gt;\\n    &lt;/tr&gt;\\n  &lt;/tbody&gt;\\n&lt;/table&gt;\"},\"id\":\"26870\",\"type\":\"panel.models.markup.HTML\"}],\"root_ids\":[\"26862\",\"26871\"]},\"title\":\"Bokeh Application\",\"version\":\"2.4.3\"}};\n",
       "    var render_items = [{\"docid\":\"41656d19-e2c7-4177-a808-590477672c87\",\"root_ids\":[\"26862\"],\"roots\":{\"26862\":\"824ad02a-42c3-4176-b9ac-81e4d8a8e84d\"}}];\n",
       "    root.Bokeh.embed.embed_items_notebook(docs_json, render_items);\n",
       "    for (const render_item of render_items) {\n",
       "      for (const root_id of render_item.root_ids) {\n",
       "\tconst id_el = document.getElementById(root_id)\n",
       "\tif (id_el.children.length && (id_el.children[0].className === 'bk-root')) {\n",
       "\t  const root_el = id_el.children[0]\n",
       "\t  root_el.id = root_el.id + '-rendered'\n",
       "\t}\n",
       "      }\n",
       "    }\n",
       "  }\n",
       "  if (root.Bokeh !== undefined && root.Bokeh.Panel !== undefined && ( root['Tabulator'] !== undefined) && ( root['Tabulator'] !== undefined) && ( root['Tabulator'] !== undefined) && ( root['Tabulator'] !== undefined) && ( root['Tabulator'] !== undefined) && ( root['Tabulator'] !== undefined) && ( root['Tabulator'] !== undefined) && ( root['Tabulator'] !== undefined) && ( root['Tabulator'] !== undefined) && ( root['Tabulator'] !== undefined) && ( root['Tabulator'] !== undefined)) {\n",
       "    embed_document(root);\n",
       "  } else {\n",
       "    var attempts = 0;\n",
       "    var timer = setInterval(function(root) {\n",
       "      if (root.Bokeh !== undefined && root.Bokeh.Panel !== undefined && (root['Tabulator'] !== undefined) && (root['Tabulator'] !== undefined) && (root['Tabulator'] !== undefined) && (root['Tabulator'] !== undefined) && (root['Tabulator'] !== undefined) && (root['Tabulator'] !== undefined) && (root['Tabulator'] !== undefined) && (root['Tabulator'] !== undefined) && (root['Tabulator'] !== undefined) && (root['Tabulator'] !== undefined) && (root['Tabulator'] !== undefined)) {\n",
       "        clearInterval(timer);\n",
       "        embed_document(root);\n",
       "      } else if (document.readyState == \"complete\") {\n",
       "        attempts++;\n",
       "        if (attempts > 200) {\n",
       "          clearInterval(timer);\n",
       "          console.log(\"Bokeh: ERROR: Unable to run BokehJS code because BokehJS library is missing\");\n",
       "        }\n",
       "      }\n",
       "    }, 25, root)\n",
       "  }\n",
       "})(window);</script>"
      ],
      "text/plain": [
       "<hvplot.interactive.Interactive at 0x7fb83941be80>"
      ]
     },
     "execution_count": 924,
     "metadata": {
      "application/vnd.holoviews_exec.v0+json": {
       "id": "26862"
      }
     },
     "output_type": "execute_result"
    }
   ],
   "source": [
    "idf.head()"
   ]
  },
  {
   "cell_type": "code",
   "execution_count": 925,
   "id": "ed792481",
   "metadata": {
    "scrolled": true
   },
   "outputs": [],
   "source": [
    "ipipline_3 = idf.groupby('Округ', as_index=True).agg({select_budget : 'sum'})"
   ]
  },
  {
   "cell_type": "code",
   "execution_count": 926,
   "id": "47bcd220",
   "metadata": {},
   "outputs": [],
   "source": [
    "ihvplot = ipipline_3.hvplot(x='Округ', y=select_budget, color=PALETTE, line_width=6, height=600)"
   ]
  },
  {
   "cell_type": "code",
   "execution_count": 927,
   "id": "3385f9de",
   "metadata": {},
   "outputs": [
    {
     "data": {},
     "metadata": {},
     "output_type": "display_data"
    },
    {
     "data": {},
     "metadata": {},
     "output_type": "display_data"
    },
    {
     "data": {
      "application/vnd.holoviews_exec.v0+json": "",
      "text/html": [
       "<div id='26872'>\n",
       "  <div class=\"bk-root\" id=\"38db6b87-4a8d-40b7-820a-d67584784bca\" data-root-id=\"26872\"></div>\n",
       "</div>\n",
       "<script type=\"application/javascript\">(function(root) {\n",
       "  function embed_document(root) {\n",
       "    var docs_json = {\"bbc76231-3fc9-477a-8bd7-21cf9817138d\":{\"defs\":[{\"extends\":null,\"module\":null,\"name\":\"ReactiveHTML1\",\"overrides\":[],\"properties\":[]},{\"extends\":null,\"module\":null,\"name\":\"FlexBox1\",\"overrides\":[],\"properties\":[{\"default\":\"flex-start\",\"kind\":null,\"name\":\"align_content\"},{\"default\":\"flex-start\",\"kind\":null,\"name\":\"align_items\"},{\"default\":\"row\",\"kind\":null,\"name\":\"flex_direction\"},{\"default\":\"wrap\",\"kind\":null,\"name\":\"flex_wrap\"},{\"default\":\"flex-start\",\"kind\":null,\"name\":\"justify_content\"}]},{\"extends\":null,\"module\":null,\"name\":\"GridStack1\",\"overrides\":[],\"properties\":[{\"default\":\"warn\",\"kind\":null,\"name\":\"mode\"},{\"default\":null,\"kind\":null,\"name\":\"ncols\"},{\"default\":null,\"kind\":null,\"name\":\"nrows\"},{\"default\":true,\"kind\":null,\"name\":\"allow_resize\"},{\"default\":true,\"kind\":null,\"name\":\"allow_drag\"},{\"default\":[],\"kind\":null,\"name\":\"state\"}]},{\"extends\":null,\"module\":null,\"name\":\"click1\",\"overrides\":[],\"properties\":[{\"default\":\"\",\"kind\":null,\"name\":\"terminal_output\"},{\"default\":\"\",\"kind\":null,\"name\":\"debug_name\"},{\"default\":0,\"kind\":null,\"name\":\"clears\"}]},{\"extends\":null,\"module\":null,\"name\":\"NotificationAreaBase1\",\"overrides\":[],\"properties\":[{\"default\":\"bottom-right\",\"kind\":null,\"name\":\"position\"},{\"default\":0,\"kind\":null,\"name\":\"_clear\"}]},{\"extends\":null,\"module\":null,\"name\":\"NotificationArea1\",\"overrides\":[],\"properties\":[{\"default\":[],\"kind\":null,\"name\":\"notifications\"},{\"default\":\"bottom-right\",\"kind\":null,\"name\":\"position\"},{\"default\":0,\"kind\":null,\"name\":\"_clear\"},{\"default\":[{\"background\":\"#ffc107\",\"icon\":{\"className\":\"fas fa-exclamation-triangle\",\"color\":\"white\",\"tagName\":\"i\"},\"type\":\"warning\"},{\"background\":\"#007bff\",\"icon\":{\"className\":\"fas fa-info-circle\",\"color\":\"white\",\"tagName\":\"i\"},\"type\":\"info\"}],\"kind\":null,\"name\":\"types\"}]},{\"extends\":null,\"module\":null,\"name\":\"Notification\",\"overrides\":[],\"properties\":[{\"default\":null,\"kind\":null,\"name\":\"background\"},{\"default\":3000,\"kind\":null,\"name\":\"duration\"},{\"default\":null,\"kind\":null,\"name\":\"icon\"},{\"default\":\"\",\"kind\":null,\"name\":\"message\"},{\"default\":null,\"kind\":null,\"name\":\"notification_type\"},{\"default\":false,\"kind\":null,\"name\":\"_destroyed\"}]},{\"extends\":null,\"module\":null,\"name\":\"TemplateActions1\",\"overrides\":[],\"properties\":[{\"default\":0,\"kind\":null,\"name\":\"open_modal\"},{\"default\":0,\"kind\":null,\"name\":\"close_modal\"}]},{\"extends\":null,\"module\":null,\"name\":\"MaterialTemplateActions1\",\"overrides\":[],\"properties\":[{\"default\":0,\"kind\":null,\"name\":\"open_modal\"},{\"default\":0,\"kind\":null,\"name\":\"close_modal\"}]}],\"roots\":{\"references\":[{\"attributes\":{\"axis_label\":\"\\u0411\\u044e\\u0434\\u0436\\u0435\\u0442 \\u041c\\u041e, \\u0440\\u0443\\u0431\",\"coordinates\":null,\"formatter\":{\"id\":\"26923\"},\"group\":null,\"major_label_policy\":{\"id\":\"26924\"},\"ticker\":{\"id\":\"26894\"}},\"id\":\"26893\",\"type\":\"LinearAxis\"},{\"attributes\":{\"children\":[{\"id\":\"26876\"}],\"margin\":[0,0,0,0],\"name\":\"Column53200\",\"sizing_mode\":\"stretch_width\"},\"id\":\"26875\",\"type\":\"Column\"},{\"attributes\":{\"coordinates\":null,\"data_source\":{\"id\":\"26910\"},\"glyph\":{\"id\":\"26913\"},\"group\":null,\"hover_glyph\":null,\"muted_glyph\":{\"id\":\"26915\"},\"nonselection_glyph\":{\"id\":\"26914\"},\"selection_glyph\":{\"id\":\"26918\"},\"view\":{\"id\":\"26917\"}},\"id\":\"26916\",\"type\":\"GlyphRenderer\"},{\"attributes\":{},\"id\":\"26891\",\"type\":\"CategoricalTicker\"},{\"attributes\":{\"children\":[{\"id\":\"26873\"}],\"margin\":[0,0,0,0],\"name\":\"Row53212\",\"sizing_mode\":\"stretch_width\"},\"id\":\"26872\",\"type\":\"Row\"},{\"attributes\":{\"margin\":[5,5,5,5],\"name\":\"HSpacer53204\",\"sizing_mode\":\"stretch_width\"},\"id\":\"26877\",\"type\":\"Spacer\"},{\"attributes\":{},\"id\":\"26898\",\"type\":\"PanTool\"},{\"attributes\":{\"axis\":{\"id\":\"26890\"},\"coordinates\":null,\"grid_line_color\":null,\"group\":null,\"ticker\":null},\"id\":\"26892\",\"type\":\"Grid\"},{\"attributes\":{\"children\":[{\"id\":\"26874\"},{\"id\":\"26881\"}],\"margin\":[0,0,0,0],\"name\":\"Column53211\",\"sizing_mode\":\"stretch_width\"},\"id\":\"26873\",\"type\":\"Column\"},{\"attributes\":{\"line_color\":\"#ff6f69\",\"line_width\":6,\"x\":{\"field\":\"\\u041e\\u043a\\u0440\\u0443\\u0433\"},\"y\":{\"field\":\"\\u0411\\u044e\\u0434\\u0436\\u0435\\u0442 \\u041c\\u041e, \\u0440\\u0443\\u0431\"}},\"id\":\"26913\",\"type\":\"Line\"},{\"attributes\":{},\"id\":\"26923\",\"type\":\"BasicTickFormatter\"},{\"attributes\":{},\"id\":\"26911\",\"type\":\"Selection\"},{\"attributes\":{\"client_comm_id\":\"9d4f9d7de909416f97367205be565499\",\"comm_id\":\"dd5f504489384a18a13e0265be038920\",\"plot_id\":\"26872\"},\"id\":\"26965\",\"type\":\"panel.models.comm_manager.CommManager\"},{\"attributes\":{\"margin\":[5,10,5,10],\"options\":[\"\\u0411\\u044e\\u0434\\u0436\\u0435\\u0442 \\u041c\\u041e, \\u0440\\u0443\\u0431\",\"\\u0411\\u044e\\u0434\\u0436\\u0435\\u0442 \\u0421\\u0420\\u0424, \\u0440\\u0443\\u0431\",\"\\u0411\\u044e\\u0434\\u0436\\u0435\\u0442 \\u0433\\u0440\\u0430\\u043d\\u0442\\u043e\\u0432, \\u0440\\u0443\\u0431\"],\"sizing_mode\":\"stretch_width\",\"title\":\"\\u0412\\u044b\\u0431\\u0435\\u0440\\u0438\\u0442\\u0435 \\u0442\\u0438\\u043f \\u0431\\u044e\\u0434\\u0436\\u0435\\u0442\\u0430\",\"value\":\"\\u0411\\u044e\\u0434\\u0436\\u0435\\u0442 \\u041c\\u041e, \\u0440\\u0443\\u0431\"},\"id\":\"26876\",\"type\":\"panel.models.widgets.CustomSelect\"},{\"attributes\":{\"coordinates\":null,\"group\":null,\"text_color\":\"black\",\"text_font_size\":\"12pt\"},\"id\":\"26882\",\"type\":\"Title\"},{\"attributes\":{\"tools\":[{\"id\":\"26880\"},{\"id\":\"26897\"},{\"id\":\"26898\"},{\"id\":\"26899\"},{\"id\":\"26900\"},{\"id\":\"26901\"}]},\"id\":\"26903\",\"type\":\"Toolbar\"},{\"attributes\":{},\"id\":\"26894\",\"type\":\"BasicTicker\"},{\"attributes\":{\"line_color\":\"#ff6f69\",\"line_width\":6,\"x\":{\"field\":\"\\u041e\\u043a\\u0440\\u0443\\u0433\"},\"y\":{\"field\":\"\\u0411\\u044e\\u0434\\u0436\\u0435\\u0442 \\u041c\\u041e, \\u0440\\u0443\\u0431\"}},\"id\":\"26918\",\"type\":\"Line\"},{\"attributes\":{\"source\":{\"id\":\"26910\"}},\"id\":\"26917\",\"type\":\"CDSView\"},{\"attributes\":{\"children\":[{\"id\":\"26875\"},{\"id\":\"26877\"}],\"margin\":[0,0,0,0],\"name\":\"Row53205\",\"sizing_mode\":\"stretch_width\"},\"id\":\"26874\",\"type\":\"Row\"},{\"attributes\":{\"data\":{\"\\u0411\\u044e\\u0434\\u0436\\u0435\\u0442 \\u041c\\u041e, \\u0440\\u0443\\u0431\":{\"__ndarray__\":\"AAAA1qrbtEEAAAAWLIPIQc3MjJrz0LlBAAAAkFlHdUEAAICdrFHIQQAAwIevatZBAAAA/14iyEEAAAD6mnm6QQ==\",\"dtype\":\"float64\",\"order\":\"little\",\"shape\":[8]},\"\\u0411\\u044e\\u0434\\u0436\\u0435\\u0442_\\u041c\\u041e_comma_\\u0440\\u0443\\u0431\":{\"__ndarray__\":\"AAAA1qrbtEEAAAAWLIPIQc3MjJrz0LlBAAAAkFlHdUEAAICdrFHIQQAAwIevatZBAAAA/14iyEEAAAD6mnm6QQ==\",\"dtype\":\"float64\",\"order\":\"little\",\"shape\":[8]},\"\\u041e\\u043a\\u0440\\u0443\\u0433\":[\"\\u0414\\u0424\\u041e\",\"\\u041f\\u0424\\u041e\",\"\\u0421\\u0417\\u0424\\u041e\",\"\\u0421\\u041a\\u0424\\u041e\",\"\\u0421\\u0424\\u041e\",\"\\u0423\\u0424\\u041e\",\"\\u0426\\u0424\\u041e\",\"\\u042e\\u0424\\u041e\"]},\"selected\":{\"id\":\"26911\"},\"selection_policy\":{\"id\":\"26932\"}},\"id\":\"26910\",\"type\":\"ColumnDataSource\"},{\"attributes\":{},\"id\":\"26899\",\"type\":\"WheelZoomTool\"},{\"attributes\":{\"overlay\":{\"id\":\"26902\"}},\"id\":\"26900\",\"type\":\"BoxZoomTool\"},{\"attributes\":{},\"id\":\"26897\",\"type\":\"SaveTool\"},{\"attributes\":{},\"id\":\"26888\",\"type\":\"LinearScale\"},{\"attributes\":{},\"id\":\"26901\",\"type\":\"ResetTool\"},{\"attributes\":{},\"id\":\"26924\",\"type\":\"AllLabels\"},{\"attributes\":{\"factors\":[\"\\u0414\\u0424\\u041e\",\"\\u041f\\u0424\\u041e\",\"\\u0421\\u0417\\u0424\\u041e\",\"\\u0421\\u041a\\u0424\\u041e\",\"\\u0421\\u0424\\u041e\",\"\\u0423\\u0424\\u041e\",\"\\u0426\\u0424\\u041e\",\"\\u042e\\u0424\\u041e\"],\"tags\":[[[\"\\u041e\\u043a\\u0440\\u0443\\u0433\",\"\\u041e\\u043a\\u0440\\u0443\\u0433\",null]]]},\"id\":\"26878\",\"type\":\"FactorRange\"},{\"attributes\":{\"bottom_units\":\"screen\",\"coordinates\":null,\"fill_alpha\":0.5,\"fill_color\":\"lightgrey\",\"group\":null,\"left_units\":\"screen\",\"level\":\"overlay\",\"line_alpha\":1.0,\"line_color\":\"black\",\"line_dash\":[4,4],\"line_width\":2,\"right_units\":\"screen\",\"syncable\":false,\"top_units\":\"screen\"},\"id\":\"26902\",\"type\":\"BoxAnnotation\"},{\"attributes\":{},\"id\":\"26920\",\"type\":\"CategoricalTickFormatter\"},{\"attributes\":{},\"id\":\"26886\",\"type\":\"CategoricalScale\"},{\"attributes\":{\"line_alpha\":0.1,\"line_color\":\"#ff6f69\",\"line_width\":6,\"x\":{\"field\":\"\\u041e\\u043a\\u0440\\u0443\\u0433\"},\"y\":{\"field\":\"\\u0411\\u044e\\u0434\\u0436\\u0435\\u0442 \\u041c\\u041e, \\u0440\\u0443\\u0431\"}},\"id\":\"26914\",\"type\":\"Line\"},{\"attributes\":{\"below\":[{\"id\":\"26890\"}],\"center\":[{\"id\":\"26892\"},{\"id\":\"26896\"}],\"left\":[{\"id\":\"26893\"}],\"margin\":[5,5,5,5],\"min_border_bottom\":10,\"min_border_left\":10,\"min_border_right\":10,\"min_border_top\":10,\"renderers\":[{\"id\":\"26916\"}],\"sizing_mode\":\"fixed\",\"title\":{\"id\":\"26882\"},\"toolbar\":{\"id\":\"26903\"},\"width\":700,\"x_range\":{\"id\":\"26878\"},\"x_scale\":{\"id\":\"26886\"},\"y_range\":{\"id\":\"26879\"},\"y_scale\":{\"id\":\"26888\"}},\"id\":\"26881\",\"subtype\":\"Figure\",\"type\":\"Plot\"},{\"attributes\":{\"axis_label\":\"\\u041e\\u043a\\u0440\\u0443\\u0433\",\"coordinates\":null,\"formatter\":{\"id\":\"26920\"},\"group\":null,\"major_label_policy\":{\"id\":\"26921\"},\"ticker\":{\"id\":\"26891\"}},\"id\":\"26890\",\"type\":\"CategoricalAxis\"},{\"attributes\":{\"callback\":null,\"renderers\":[{\"id\":\"26916\"}],\"tags\":[\"hv_created\"],\"tooltips\":[[\"\\u041e\\u043a\\u0440\\u0443\\u0433\",\"@{\\u041e\\u043a\\u0440\\u0443\\u0433}\"],[\"\\u0411\\u044e\\u0434\\u0436\\u0435\\u0442 \\u041c\\u041e, \\u0440\\u0443\\u0431\",\"@{\\u0411\\u044e\\u0434\\u0436\\u0435\\u0442_\\u041c\\u041e_comma_\\u0440\\u0443\\u0431}\"]]},\"id\":\"26880\",\"type\":\"HoverTool\"},{\"attributes\":{},\"id\":\"26932\",\"type\":\"UnionRenderers\"},{\"attributes\":{\"end\":1652566982.0,\"reset_end\":1652566982.0,\"reset_start\":-125892622.0,\"start\":-125892622.0,\"tags\":[[[\"\\u0411\\u044e\\u0434\\u0436\\u0435\\u0442 \\u041c\\u041e, \\u0440\\u0443\\u0431\",\"\\u0411\\u044e\\u0434\\u0436\\u0435\\u0442 \\u041c\\u041e, \\u0440\\u0443\\u0431\",null]]]},\"id\":\"26879\",\"type\":\"Range1d\"},{\"attributes\":{},\"id\":\"26921\",\"type\":\"AllLabels\"},{\"attributes\":{\"axis\":{\"id\":\"26893\"},\"coordinates\":null,\"dimension\":1,\"grid_line_color\":null,\"group\":null,\"ticker\":null},\"id\":\"26896\",\"type\":\"Grid\"},{\"attributes\":{\"line_alpha\":0.2,\"line_color\":\"#ff6f69\",\"line_width\":6,\"x\":{\"field\":\"\\u041e\\u043a\\u0440\\u0443\\u0433\"},\"y\":{\"field\":\"\\u0411\\u044e\\u0434\\u0436\\u0435\\u0442 \\u041c\\u041e, \\u0440\\u0443\\u0431\"}},\"id\":\"26915\",\"type\":\"Line\"}],\"root_ids\":[\"26872\",\"26965\"]},\"title\":\"Bokeh Application\",\"version\":\"2.4.3\"}};\n",
       "    var render_items = [{\"docid\":\"bbc76231-3fc9-477a-8bd7-21cf9817138d\",\"root_ids\":[\"26872\"],\"roots\":{\"26872\":\"38db6b87-4a8d-40b7-820a-d67584784bca\"}}];\n",
       "    root.Bokeh.embed.embed_items_notebook(docs_json, render_items);\n",
       "    for (const render_item of render_items) {\n",
       "      for (const root_id of render_item.root_ids) {\n",
       "\tconst id_el = document.getElementById(root_id)\n",
       "\tif (id_el.children.length && (id_el.children[0].className === 'bk-root')) {\n",
       "\t  const root_el = id_el.children[0]\n",
       "\t  root_el.id = root_el.id + '-rendered'\n",
       "\t}\n",
       "      }\n",
       "    }\n",
       "  }\n",
       "  if (root.Bokeh !== undefined && root.Bokeh.Panel !== undefined && ( root['Tabulator'] !== undefined) && ( root['Tabulator'] !== undefined) && ( root['Tabulator'] !== undefined) && ( root['Tabulator'] !== undefined) && ( root['Tabulator'] !== undefined) && ( root['Tabulator'] !== undefined) && ( root['Tabulator'] !== undefined) && ( root['Tabulator'] !== undefined) && ( root['Tabulator'] !== undefined) && ( root['Tabulator'] !== undefined) && ( root['Tabulator'] !== undefined)) {\n",
       "    embed_document(root);\n",
       "  } else {\n",
       "    var attempts = 0;\n",
       "    var timer = setInterval(function(root) {\n",
       "      if (root.Bokeh !== undefined && root.Bokeh.Panel !== undefined && (root['Tabulator'] !== undefined) && (root['Tabulator'] !== undefined) && (root['Tabulator'] !== undefined) && (root['Tabulator'] !== undefined) && (root['Tabulator'] !== undefined) && (root['Tabulator'] !== undefined) && (root['Tabulator'] !== undefined) && (root['Tabulator'] !== undefined) && (root['Tabulator'] !== undefined) && (root['Tabulator'] !== undefined) && (root['Tabulator'] !== undefined)) {\n",
       "        clearInterval(timer);\n",
       "        embed_document(root);\n",
       "      } else if (document.readyState == \"complete\") {\n",
       "        attempts++;\n",
       "        if (attempts > 200) {\n",
       "          clearInterval(timer);\n",
       "          console.log(\"Bokeh: ERROR: Unable to run BokehJS code because BokehJS library is missing\");\n",
       "        }\n",
       "      }\n",
       "    }, 25, root)\n",
       "  }\n",
       "})(window);</script>"
      ],
      "text/plain": [
       "<hvplot.interactive.Interactive at 0x7fb83941b070>"
      ]
     },
     "execution_count": 927,
     "metadata": {
      "application/vnd.holoviews_exec.v0+json": {
       "id": "26872"
      }
     },
     "output_type": "execute_result"
    }
   ],
   "source": [
    "ihvplot"
   ]
  },
  {
   "cell_type": "code",
   "execution_count": null,
   "id": "a0cc11f7",
   "metadata": {},
   "outputs": [],
   "source": []
  },
  {
   "cell_type": "code",
   "execution_count": null,
   "id": "d060934b",
   "metadata": {},
   "outputs": [],
   "source": []
  },
  {
   "cell_type": "code",
   "execution_count": null,
   "id": "f5d4f9d9",
   "metadata": {},
   "outputs": [],
   "source": []
  },
  {
   "cell_type": "markdown",
   "id": "15b13c4c",
   "metadata": {},
   "source": [
    "### Интерактивный раздел 1"
   ]
  },
  {
   "cell_type": "code",
   "execution_count": 928,
   "id": "bfdc2088",
   "metadata": {},
   "outputs": [],
   "source": [
    "df_pp1 = form_m1['Раздел 1']"
   ]
  },
  {
   "cell_type": "code",
   "execution_count": 929,
   "id": "095d90df",
   "metadata": {},
   "outputs": [
    {
     "data": {
      "text/plain": [
       "['Названия строк',\n",
       " 'Сумма по полю Бюджет СРФ, руб',\n",
       " 'Сумма по полю Бюджет МО, руб',\n",
       " 'Сумма по полю Кол-во грантов',\n",
       " 'Сумма по полю Бюджет грантов, руб',\n",
       " 'Сумма по полю Численность молодeжи, задействованной в программных мероприятиях по направлению',\n",
       " 'Сумма по полю Количество детских и молодeжных общественных объединений, работающих по данному ']"
      ]
     },
     "execution_count": 929,
     "metadata": {},
     "output_type": "execute_result"
    }
   ],
   "source": [
    "list(df_pp1.iloc[3])"
   ]
  },
  {
   "cell_type": "code",
   "execution_count": 930,
   "id": "e101a986",
   "metadata": {},
   "outputs": [],
   "source": [
    "df_pp1.columns = list(df_pp1.iloc[3])"
   ]
  },
  {
   "cell_type": "code",
   "execution_count": 931,
   "id": "f9a6b7ad",
   "metadata": {},
   "outputs": [],
   "source": [
    "df_pp1 = df_pp1[4:].rename(columns={'Названия строк' : 'Направления'})"
   ]
  },
  {
   "cell_type": "code",
   "execution_count": 932,
   "id": "30bebe8d",
   "metadata": {
    "scrolled": true
   },
   "outputs": [
    {
     "data": {
      "text/html": [
       "<div>\n",
       "<style scoped>\n",
       "    .dataframe tbody tr th:only-of-type {\n",
       "        vertical-align: middle;\n",
       "    }\n",
       "\n",
       "    .dataframe tbody tr th {\n",
       "        vertical-align: top;\n",
       "    }\n",
       "\n",
       "    .dataframe thead th {\n",
       "        text-align: right;\n",
       "    }\n",
       "</style>\n",
       "<table border=\"1\" class=\"dataframe\">\n",
       "  <thead>\n",
       "    <tr style=\"text-align: right;\">\n",
       "      <th></th>\n",
       "      <th>Направления</th>\n",
       "      <th>Сумма по полю Бюджет СРФ, руб</th>\n",
       "      <th>Сумма по полю Бюджет МО, руб</th>\n",
       "      <th>Сумма по полю Кол-во грантов</th>\n",
       "      <th>Сумма по полю Бюджет грантов, руб</th>\n",
       "      <th>Сумма по полю Численность молодeжи, задействованной в программных мероприятиях по направлению</th>\n",
       "      <th>Сумма по полю Количество детских и молодeжных общественных объединений, работающих по данному</th>\n",
       "    </tr>\n",
       "  </thead>\n",
       "  <tbody>\n",
       "    <tr>\n",
       "      <th>4</th>\n",
       "      <td>Вовлечение молодeжи в инновационную деятельнос...</td>\n",
       "      <td>982469474</td>\n",
       "      <td>170598050</td>\n",
       "      <td>1117</td>\n",
       "      <td>553443996</td>\n",
       "      <td>1737632</td>\n",
       "      <td>9337</td>\n",
       "    </tr>\n",
       "    <tr>\n",
       "      <th>5</th>\n",
       "      <td>биомедицина</td>\n",
       "      <td>35173484</td>\n",
       "      <td>3195230</td>\n",
       "      <td>55</td>\n",
       "      <td>13311837</td>\n",
       "      <td>22418</td>\n",
       "      <td>105</td>\n",
       "    </tr>\n",
       "    <tr>\n",
       "      <th>6</th>\n",
       "      <td>промышленные технологии\\n      (нанотехн...</td>\n",
       "      <td>59792583</td>\n",
       "      <td>2824921</td>\n",
       "      <td>116</td>\n",
       "      <td>29842264</td>\n",
       "      <td>125784</td>\n",
       "      <td>214</td>\n",
       "    </tr>\n",
       "    <tr>\n",
       "      <th>7</th>\n",
       "      <td>аэрокосмос</td>\n",
       "      <td>19111750</td>\n",
       "      <td>975286</td>\n",
       "      <td>40</td>\n",
       "      <td>2601965</td>\n",
       "      <td>34937</td>\n",
       "      <td>79</td>\n",
       "    </tr>\n",
       "    <tr>\n",
       "      <th>8</th>\n",
       "      <td>сельское хозяйство</td>\n",
       "      <td>170691937</td>\n",
       "      <td>15548670</td>\n",
       "      <td>140</td>\n",
       "      <td>361437104</td>\n",
       "      <td>63359</td>\n",
       "      <td>506</td>\n",
       "    </tr>\n",
       "  </tbody>\n",
       "</table>\n",
       "</div>"
      ],
      "text/plain": [
       "                                         Направления  \\\n",
       "4  Вовлечение молодeжи в инновационную деятельнос...   \n",
       "5                                        биомедицина   \n",
       "6        промышленные технологии\\n      (нанотехн...   \n",
       "7                                         аэрокосмос   \n",
       "8                                 сельское хозяйство   \n",
       "\n",
       "  Сумма по полю Бюджет СРФ, руб Сумма по полю Бюджет МО, руб  \\\n",
       "4                     982469474                    170598050   \n",
       "5                      35173484                      3195230   \n",
       "6                      59792583                      2824921   \n",
       "7                      19111750                       975286   \n",
       "8                     170691937                     15548670   \n",
       "\n",
       "  Сумма по полю Кол-во грантов Сумма по полю Бюджет грантов, руб  \\\n",
       "4                         1117                         553443996   \n",
       "5                           55                          13311837   \n",
       "6                          116                          29842264   \n",
       "7                           40                           2601965   \n",
       "8                          140                         361437104   \n",
       "\n",
       "  Сумма по полю Численность молодeжи, задействованной в программных мероприятиях по направлению  \\\n",
       "4                                            1737632                                              \n",
       "5                                              22418                                              \n",
       "6                                             125784                                              \n",
       "7                                              34937                                              \n",
       "8                                              63359                                              \n",
       "\n",
       "  Сумма по полю Количество детских и молодeжных общественных объединений, работающих по данному   \n",
       "4                                               9337                                              \n",
       "5                                                105                                              \n",
       "6                                                214                                              \n",
       "7                                                 79                                              \n",
       "8                                                506                                              "
      ]
     },
     "execution_count": 932,
     "metadata": {},
     "output_type": "execute_result"
    }
   ],
   "source": [
    "df_pp1.head()"
   ]
  },
  {
   "cell_type": "code",
   "execution_count": 933,
   "id": "7c7cf9ef",
   "metadata": {},
   "outputs": [],
   "source": [
    "df_pp1 = df_pp1.set_index('Направления').head()"
   ]
  },
  {
   "cell_type": "code",
   "execution_count": 934,
   "id": "52da240f",
   "metadata": {},
   "outputs": [],
   "source": [
    "idf = df_pp1.interactive()"
   ]
  },
  {
   "cell_type": "code",
   "execution_count": 935,
   "id": "e7ad6492",
   "metadata": {},
   "outputs": [],
   "source": [
    "ipipeline_3 = idf"
   ]
  },
  {
   "cell_type": "code",
   "execution_count": 936,
   "id": "472dd924",
   "metadata": {},
   "outputs": [],
   "source": [
    "# make interactive table\n",
    "pp1_pipeline = ipipeline_3.pipe(pn.widgets.Tabulator, pagination='remote', page_size = 10, sizing_mode='stretch_width') "
   ]
  },
  {
   "cell_type": "code",
   "execution_count": 937,
   "id": "3833aa66",
   "metadata": {},
   "outputs": [
    {
     "data": {},
     "metadata": {},
     "output_type": "display_data"
    },
    {
     "data": {
      "application/vnd.holoviews_exec.v0+json": "",
      "text/html": [
       "<div id='27016'>\n",
       "  <div class=\"bk-root\" id=\"528712e6-2260-4710-a295-9ec286da5240\" data-root-id=\"27016\"></div>\n",
       "</div>\n",
       "<script type=\"application/javascript\">(function(root) {\n",
       "  function embed_document(root) {\n",
       "    var docs_json = {\"445b716f-f092-49ec-b174-15633e2527ca\":{\"defs\":[{\"extends\":null,\"module\":null,\"name\":\"ReactiveHTML1\",\"overrides\":[],\"properties\":[]},{\"extends\":null,\"module\":null,\"name\":\"FlexBox1\",\"overrides\":[],\"properties\":[{\"default\":\"flex-start\",\"kind\":null,\"name\":\"align_content\"},{\"default\":\"flex-start\",\"kind\":null,\"name\":\"align_items\"},{\"default\":\"row\",\"kind\":null,\"name\":\"flex_direction\"},{\"default\":\"wrap\",\"kind\":null,\"name\":\"flex_wrap\"},{\"default\":\"flex-start\",\"kind\":null,\"name\":\"justify_content\"}]},{\"extends\":null,\"module\":null,\"name\":\"GridStack1\",\"overrides\":[],\"properties\":[{\"default\":\"warn\",\"kind\":null,\"name\":\"mode\"},{\"default\":null,\"kind\":null,\"name\":\"ncols\"},{\"default\":null,\"kind\":null,\"name\":\"nrows\"},{\"default\":true,\"kind\":null,\"name\":\"allow_resize\"},{\"default\":true,\"kind\":null,\"name\":\"allow_drag\"},{\"default\":[],\"kind\":null,\"name\":\"state\"}]},{\"extends\":null,\"module\":null,\"name\":\"click1\",\"overrides\":[],\"properties\":[{\"default\":\"\",\"kind\":null,\"name\":\"terminal_output\"},{\"default\":\"\",\"kind\":null,\"name\":\"debug_name\"},{\"default\":0,\"kind\":null,\"name\":\"clears\"}]},{\"extends\":null,\"module\":null,\"name\":\"NotificationAreaBase1\",\"overrides\":[],\"properties\":[{\"default\":\"bottom-right\",\"kind\":null,\"name\":\"position\"},{\"default\":0,\"kind\":null,\"name\":\"_clear\"}]},{\"extends\":null,\"module\":null,\"name\":\"NotificationArea1\",\"overrides\":[],\"properties\":[{\"default\":[],\"kind\":null,\"name\":\"notifications\"},{\"default\":\"bottom-right\",\"kind\":null,\"name\":\"position\"},{\"default\":0,\"kind\":null,\"name\":\"_clear\"},{\"default\":[{\"background\":\"#ffc107\",\"icon\":{\"className\":\"fas fa-exclamation-triangle\",\"color\":\"white\",\"tagName\":\"i\"},\"type\":\"warning\"},{\"background\":\"#007bff\",\"icon\":{\"className\":\"fas fa-info-circle\",\"color\":\"white\",\"tagName\":\"i\"},\"type\":\"info\"}],\"kind\":null,\"name\":\"types\"}]},{\"extends\":null,\"module\":null,\"name\":\"Notification\",\"overrides\":[],\"properties\":[{\"default\":null,\"kind\":null,\"name\":\"background\"},{\"default\":3000,\"kind\":null,\"name\":\"duration\"},{\"default\":null,\"kind\":null,\"name\":\"icon\"},{\"default\":\"\",\"kind\":null,\"name\":\"message\"},{\"default\":null,\"kind\":null,\"name\":\"notification_type\"},{\"default\":false,\"kind\":null,\"name\":\"_destroyed\"}]},{\"extends\":null,\"module\":null,\"name\":\"TemplateActions1\",\"overrides\":[],\"properties\":[{\"default\":0,\"kind\":null,\"name\":\"open_modal\"},{\"default\":0,\"kind\":null,\"name\":\"close_modal\"}]},{\"extends\":null,\"module\":null,\"name\":\"MaterialTemplateActions1\",\"overrides\":[],\"properties\":[{\"default\":0,\"kind\":null,\"name\":\"open_modal\"},{\"default\":0,\"kind\":null,\"name\":\"close_modal\"}]}],\"roots\":{\"references\":[{\"attributes\":{\"margin\":[0,0,0,0],\"name\":\"Column53521\",\"sizing_mode\":\"stretch_width\"},\"id\":\"27019\",\"type\":\"Column\"},{\"attributes\":{\"data\":{\"\\u041d\\u0430\\u043f\\u0440\\u0430\\u0432\\u043b\\u0435\\u043d\\u0438\\u044f\":[\"\\u0412\\u043e\\u0432\\u043b\\u0435\\u0447\\u0435\\u043d\\u0438\\u0435 \\u043c\\u043e\\u043b\\u043e\\u0434e\\u0436\\u0438 \\u0432 \\u0438\\u043d\\u043d\\u043e\\u0432\\u0430\\u0446\\u0438\\u043e\\u043d\\u043d\\u0443\\u044e \\u0434\\u0435\\u044f\\u0442\\u0435\\u043b\\u044c\\u043d\\u043e\\u0441\\u0442\\u044c \\u0438 \\u043d\\u0430\\u0443\\u0447\\u043d\\u043e-\\u0442\\u0435\\u0445\\u043d\\u0438\\u0447\\u0435\\u0441\\u043a\\u043e\\u0435 \\u0442\\u0432\\u043e\\u0440\\u0447\\u0435\\u0441\\u0442\\u0432\\u043e, \\u0432 \\u0442\\u043e\\u043c \\u0447\\u0438\\u0441\\u043b\\u0435:\",\"      \\u0431\\u0438\\u043e\\u043c\\u0435\\u0434\\u0438\\u0446\\u0438\\u043d\\u0430\",\"      \\u043f\\u0440\\u043e\\u043c\\u044b\\u0448\\u043b\\u0435\\u043d\\u043d\\u044b\\u0435 \\u0442\\u0435\\u0445\\u043d\\u043e\\u043b\\u043e\\u0433\\u0438\\u0438\\n      (\\u043d\\u0430\\u043d\\u043e\\u0442\\u0435\\u0445\\u043d\\u043e\\u043b\\u043e\\u0433\\u0438\\u0438, \\u043a\\u043e\\u043c\\u043f\\u043e\\u0437\\u0438\\u0442\\u044b, \\u043f\\u0440.)\",\"      \\u0430\\u044d\\u0440\\u043e\\u043a\\u043e\\u0441\\u043c\\u043e\\u0441\",\"      \\u0441\\u0435\\u043b\\u044c\\u0441\\u043a\\u043e\\u0435 \\u0445\\u043e\\u0437\\u044f\\u0439\\u0441\\u0442\\u0432\\u043e\"],\"\\u0421\\u0443\\u043c\\u043c\\u0430 \\u043f\\u043e \\u043f\\u043e\\u043b\\u044e \\u0411\\u044e\\u0434\\u0436\\u0435\\u0442 \\u041c\\u041e, \\u0440\\u0443\\u0431\":[170598050,3195230,2824921,975286,15548670],\"\\u0421\\u0443\\u043c\\u043c\\u0430 \\u043f\\u043e \\u043f\\u043e\\u043b\\u044e \\u0411\\u044e\\u0434\\u0436\\u0435\\u0442 \\u0421\\u0420\\u0424, \\u0440\\u0443\\u0431\":[982469474,35173484,59792583,19111750,170691937],\"\\u0421\\u0443\\u043c\\u043c\\u0430 \\u043f\\u043e \\u043f\\u043e\\u043b\\u044e \\u0411\\u044e\\u0434\\u0436\\u0435\\u0442 \\u0433\\u0440\\u0430\\u043d\\u0442\\u043e\\u0432, \\u0440\\u0443\\u0431\":[553443996,13311837,29842264,2601965,361437104],\"\\u0421\\u0443\\u043c\\u043c\\u0430 \\u043f\\u043e \\u043f\\u043e\\u043b\\u044e \\u041a\\u043e\\u043b-\\u0432\\u043e \\u0433\\u0440\\u0430\\u043d\\u0442\\u043e\\u0432\":[1117,55,116,40,140],\"\\u0421\\u0443\\u043c\\u043c\\u0430 \\u043f\\u043e \\u043f\\u043e\\u043b\\u044e \\u041a\\u043e\\u043b\\u0438\\u0447\\u0435\\u0441\\u0442\\u0432\\u043e \\u0434\\u0435\\u0442\\u0441\\u043a\\u0438\\u0445 \\u0438 \\u043c\\u043e\\u043b\\u043e\\u0434e\\u0436\\u043d\\u044b\\u0445 \\u043e\\u0431\\u0449\\u0435\\u0441\\u0442\\u0432\\u0435\\u043d\\u043d\\u044b\\u0445 \\u043e\\u0431\\u044a\\u0435\\u0434\\u0438\\u043d\\u0435\\u043d\\u0438\\u0439, \\u0440\\u0430\\u0431\\u043e\\u0442\\u0430\\u044e\\u0449\\u0438\\u0445 \\u043f\\u043e \\u0434\\u0430\\u043d\\u043d\\u043e\\u043c\\u0443 \":[9337,105,214,79,506],\"\\u0421\\u0443\\u043c\\u043c\\u0430 \\u043f\\u043e \\u043f\\u043e\\u043b\\u044e \\u0427\\u0438\\u0441\\u043b\\u0435\\u043d\\u043d\\u043e\\u0441\\u0442\\u044c \\u043c\\u043e\\u043b\\u043e\\u0434e\\u0436\\u0438, \\u0437\\u0430\\u0434\\u0435\\u0439\\u0441\\u0442\\u0432\\u043e\\u0432\\u0430\\u043d\\u043d\\u043e\\u0439 \\u0432 \\u043f\\u0440\\u043e\\u0433\\u0440\\u0430\\u043c\\u043c\\u043d\\u044b\\u0445 \\u043c\\u0435\\u0440\\u043e\\u043f\\u0440\\u0438\\u044f\\u0442\\u0438\\u044f\\u0445 \\u043f\\u043e \\u043d\\u0430\\u043f\\u0440\\u0430\\u0432\\u043b\\u0435\\u043d\\u0438\\u044e\":[1737632,22418,125784,34937,63359]},\"selected\":{\"id\":\"27025\"},\"selection_policy\":{\"id\":\"27064\"}},\"id\":\"27024\",\"type\":\"ColumnDataSource\"},{\"attributes\":{},\"id\":\"27064\",\"type\":\"UnionRenderers\"},{\"attributes\":{},\"id\":\"27038\",\"type\":\"StringEditor\"},{\"attributes\":{},\"id\":\"27052\",\"type\":\"StringFormatter\"},{\"attributes\":{},\"id\":\"27053\",\"type\":\"StringEditor\"},{\"attributes\":{\"editor\":{\"id\":\"27053\"},\"field\":\"\\u0421\\u0443\\u043c\\u043c\\u0430 \\u043f\\u043e \\u043f\\u043e\\u043b\\u044e \\u0427\\u0438\\u0441\\u043b\\u0435\\u043d\\u043d\\u043e\\u0441\\u0442\\u044c \\u043c\\u043e\\u043b\\u043e\\u0434e\\u0436\\u0438, \\u0437\\u0430\\u0434\\u0435\\u0439\\u0441\\u0442\\u0432\\u043e\\u0432\\u0430\\u043d\\u043d\\u043e\\u0439 \\u0432 \\u043f\\u0440\\u043e\\u0433\\u0440\\u0430\\u043c\\u043c\\u043d\\u044b\\u0445 \\u043c\\u0435\\u0440\\u043e\\u043f\\u0440\\u0438\\u044f\\u0442\\u0438\\u044f\\u0445 \\u043f\\u043e \\u043d\\u0430\\u043f\\u0440\\u0430\\u0432\\u043b\\u0435\\u043d\\u0438\\u044e\",\"formatter\":{\"id\":\"27052\"},\"title\":\"\\u0421\\u0443\\u043c\\u043c\\u0430 \\u043f\\u043e \\u043f\\u043e\\u043b\\u044e \\u0427\\u0438\\u0441\\u043b\\u0435\\u043d\\u043d\\u043e\\u0441\\u0442\\u044c \\u043c\\u043e\\u043b\\u043e\\u0434e\\u0436\\u0438, \\u0437\\u0430\\u0434\\u0435\\u0439\\u0441\\u0442\\u0432\\u043e\\u0432\\u0430\\u043d\\u043d\\u043e\\u0439 \\u0432 \\u043f\\u0440\\u043e\\u0433\\u0440\\u0430\\u043c\\u043c\\u043d\\u044b\\u0445 \\u043c\\u0435\\u0440\\u043e\\u043f\\u0440\\u0438\\u044f\\u0442\\u0438\\u044f\\u0445 \\u043f\\u043e \\u043d\\u0430\\u043f\\u0440\\u0430\\u0432\\u043b\\u0435\\u043d\\u0438\\u044e\",\"width\":0},\"id\":\"27054\",\"type\":\"TableColumn\"},{\"attributes\":{},\"id\":\"27057\",\"type\":\"StringFormatter\"},{\"attributes\":{},\"id\":\"27058\",\"type\":\"StringEditor\"},{\"attributes\":{\"indices\":[]},\"id\":\"27025\",\"type\":\"Selection\"},{\"attributes\":{\"editor\":{\"id\":\"27058\"},\"field\":\"\\u0421\\u0443\\u043c\\u043c\\u0430 \\u043f\\u043e \\u043f\\u043e\\u043b\\u044e \\u041a\\u043e\\u043b\\u0438\\u0447\\u0435\\u0441\\u0442\\u0432\\u043e \\u0434\\u0435\\u0442\\u0441\\u043a\\u0438\\u0445 \\u0438 \\u043c\\u043e\\u043b\\u043e\\u0434e\\u0436\\u043d\\u044b\\u0445 \\u043e\\u0431\\u0449\\u0435\\u0441\\u0442\\u0432\\u0435\\u043d\\u043d\\u044b\\u0445 \\u043e\\u0431\\u044a\\u0435\\u0434\\u0438\\u043d\\u0435\\u043d\\u0438\\u0439, \\u0440\\u0430\\u0431\\u043e\\u0442\\u0430\\u044e\\u0449\\u0438\\u0445 \\u043f\\u043e \\u0434\\u0430\\u043d\\u043d\\u043e\\u043c\\u0443 \",\"formatter\":{\"id\":\"27057\"},\"title\":\"\\u0421\\u0443\\u043c\\u043c\\u0430 \\u043f\\u043e \\u043f\\u043e\\u043b\\u044e \\u041a\\u043e\\u043b\\u0438\\u0447\\u0435\\u0441\\u0442\\u0432\\u043e \\u0434\\u0435\\u0442\\u0441\\u043a\\u0438\\u0445 \\u0438 \\u043c\\u043e\\u043b\\u043e\\u0434e\\u0436\\u043d\\u044b\\u0445 \\u043e\\u0431\\u0449\\u0435\\u0441\\u0442\\u0432\\u0435\\u043d\\u043d\\u044b\\u0445 \\u043e\\u0431\\u044a\\u0435\\u0434\\u0438\\u043d\\u0435\\u043d\\u0438\\u0439, \\u0440\\u0430\\u0431\\u043e\\u0442\\u0430\\u044e\\u0449\\u0438\\u0445 \\u043f\\u043e \\u0434\\u0430\\u043d\\u043d\\u043e\\u043c\\u0443 \",\"width\":0},\"id\":\"27059\",\"type\":\"TableColumn\"},{\"attributes\":{},\"id\":\"27028\",\"type\":\"CellEditor\"},{\"attributes\":{\"children\":[{\"id\":\"27017\"}],\"margin\":[0,0,0,0],\"name\":\"Row53543\",\"sizing_mode\":\"stretch_width\"},\"id\":\"27016\",\"type\":\"Row\"},{\"attributes\":{\"margin\":[5,5,5,5],\"name\":\"HSpacer53540\",\"sizing_mode\":\"stretch_width\"},\"id\":\"27020\",\"type\":\"Spacer\"},{\"attributes\":{\"children\":[{\"id\":\"27022\"},{\"id\":\"27023\"}],\"margin\":[0,0,0,0],\"name\":\"Column53523\",\"sizing_mode\":\"stretch_width\"},\"id\":\"27021\",\"type\":\"Column\"},{\"attributes\":{\"children\":[{\"id\":\"27062\"}],\"margin\":[0,0,0,0],\"name\":\"Row53538\",\"sizing_mode\":\"stretch_width\"},\"id\":\"27023\",\"type\":\"Row\"},{\"attributes\":{\"margin\":[0,0,0,0],\"name\":\"Column53539\",\"sizing_mode\":\"stretch_width\"},\"id\":\"27022\",\"type\":\"Column\"},{\"attributes\":{\"editor\":{\"id\":\"27028\"},\"field\":\"\\u041d\\u0430\\u043f\\u0440\\u0430\\u0432\\u043b\\u0435\\u043d\\u0438\\u044f\",\"formatter\":{\"id\":\"27026\"},\"title\":\"\\u041d\\u0430\\u043f\\u0440\\u0430\\u0432\\u043b\\u0435\\u043d\\u0438\\u044f\",\"width\":0},\"id\":\"27029\",\"type\":\"TableColumn\"},{\"attributes\":{},\"id\":\"27026\",\"type\":\"StringFormatter\"},{\"attributes\":{\"children\":[{\"id\":\"27019\"},{\"id\":\"27020\"}],\"margin\":[0,0,0,0],\"name\":\"Row53541\",\"sizing_mode\":\"stretch_width\"},\"id\":\"27018\",\"type\":\"Row\"},{\"attributes\":{\"editor\":{\"id\":\"27033\"},\"field\":\"\\u0421\\u0443\\u043c\\u043c\\u0430 \\u043f\\u043e \\u043f\\u043e\\u043b\\u044e \\u0411\\u044e\\u0434\\u0436\\u0435\\u0442 \\u0421\\u0420\\u0424, \\u0440\\u0443\\u0431\",\"formatter\":{\"id\":\"27032\"},\"title\":\"\\u0421\\u0443\\u043c\\u043c\\u0430 \\u043f\\u043e \\u043f\\u043e\\u043b\\u044e \\u0411\\u044e\\u0434\\u0436\\u0435\\u0442 \\u0421\\u0420\\u0424, \\u0440\\u0443\\u0431\",\"width\":0},\"id\":\"27034\",\"type\":\"TableColumn\"},{\"attributes\":{},\"id\":\"27042\",\"type\":\"StringFormatter\"},{\"attributes\":{},\"id\":\"27043\",\"type\":\"StringEditor\"},{\"attributes\":{},\"id\":\"27033\",\"type\":\"StringEditor\"},{\"attributes\":{\"editor\":{\"id\":\"27043\"},\"field\":\"\\u0421\\u0443\\u043c\\u043c\\u0430 \\u043f\\u043e \\u043f\\u043e\\u043b\\u044e \\u041a\\u043e\\u043b-\\u0432\\u043e \\u0433\\u0440\\u0430\\u043d\\u0442\\u043e\\u0432\",\"formatter\":{\"id\":\"27042\"},\"title\":\"\\u0421\\u0443\\u043c\\u043c\\u0430 \\u043f\\u043e \\u043f\\u043e\\u043b\\u044e \\u041a\\u043e\\u043b-\\u0432\\u043e \\u0433\\u0440\\u0430\\u043d\\u0442\\u043e\\u0432\",\"width\":0},\"id\":\"27044\",\"type\":\"TableColumn\"},{\"attributes\":{},\"id\":\"27032\",\"type\":\"StringFormatter\"},{\"attributes\":{\"client_comm_id\":\"b0d2fe94a7784b7ba5811fa619fcc14a\",\"comm_id\":\"e99e86129a8b444f8dc5f3a4ec628bd5\",\"plot_id\":\"27016\"},\"id\":\"27070\",\"type\":\"panel.models.comm_manager.CommManager\"},{\"attributes\":{},\"id\":\"27037\",\"type\":\"StringFormatter\"},{\"attributes\":{\"columns\":[{\"id\":\"27029\"},{\"id\":\"27034\"},{\"id\":\"27039\"},{\"id\":\"27044\"},{\"id\":\"27049\"},{\"id\":\"27054\"},{\"id\":\"27059\"}],\"configuration\":{\"columns\":[{\"field\":\"\\u041d\\u0430\\u043f\\u0440\\u0430\\u0432\\u043b\\u0435\\u043d\\u0438\\u044f\"},{\"field\":\"\\u0421\\u0443\\u043c\\u043c\\u0430 \\u043f\\u043e \\u043f\\u043e\\u043b\\u044e \\u0411\\u044e\\u0434\\u0436\\u0435\\u0442 \\u0421\\u0420\\u0424, \\u0440\\u0443\\u0431\"},{\"field\":\"\\u0421\\u0443\\u043c\\u043c\\u0430 \\u043f\\u043e \\u043f\\u043e\\u043b\\u044e \\u0411\\u044e\\u0434\\u0436\\u0435\\u0442 \\u041c\\u041e, \\u0440\\u0443\\u0431\"},{\"field\":\"\\u0421\\u0443\\u043c\\u043c\\u0430 \\u043f\\u043e \\u043f\\u043e\\u043b\\u044e \\u041a\\u043e\\u043b-\\u0432\\u043e \\u0433\\u0440\\u0430\\u043d\\u0442\\u043e\\u0432\"},{\"field\":\"\\u0421\\u0443\\u043c\\u043c\\u0430 \\u043f\\u043e \\u043f\\u043e\\u043b\\u044e \\u0411\\u044e\\u0434\\u0436\\u0435\\u0442 \\u0433\\u0440\\u0430\\u043d\\u0442\\u043e\\u0432, \\u0440\\u0443\\u0431\"},{\"field\":\"\\u0421\\u0443\\u043c\\u043c\\u0430 \\u043f\\u043e \\u043f\\u043e\\u043b\\u044e \\u0427\\u0438\\u0441\\u043b\\u0435\\u043d\\u043d\\u043e\\u0441\\u0442\\u044c \\u043c\\u043e\\u043b\\u043e\\u0434e\\u0436\\u0438, \\u0437\\u0430\\u0434\\u0435\\u0439\\u0441\\u0442\\u0432\\u043e\\u0432\\u0430\\u043d\\u043d\\u043e\\u0439 \\u0432 \\u043f\\u0440\\u043e\\u0433\\u0440\\u0430\\u043c\\u043c\\u043d\\u044b\\u0445 \\u043c\\u0435\\u0440\\u043e\\u043f\\u0440\\u0438\\u044f\\u0442\\u0438\\u044f\\u0445 \\u043f\\u043e \\u043d\\u0430\\u043f\\u0440\\u0430\\u0432\\u043b\\u0435\\u043d\\u0438\\u044e\"},{\"field\":\"\\u0421\\u0443\\u043c\\u043c\\u0430 \\u043f\\u043e \\u043f\\u043e\\u043b\\u044e \\u041a\\u043e\\u043b\\u0438\\u0447\\u0435\\u0441\\u0442\\u0432\\u043e \\u0434\\u0435\\u0442\\u0441\\u043a\\u0438\\u0445 \\u0438 \\u043c\\u043e\\u043b\\u043e\\u0434e\\u0436\\u043d\\u044b\\u0445 \\u043e\\u0431\\u0449\\u0435\\u0441\\u0442\\u0432\\u0435\\u043d\\u043d\\u044b\\u0445 \\u043e\\u0431\\u044a\\u0435\\u0434\\u0438\\u043d\\u0435\\u043d\\u0438\\u0439, \\u0440\\u0430\\u0431\\u043e\\u0442\\u0430\\u044e\\u0449\\u0438\\u0445 \\u043f\\u043e \\u0434\\u0430\\u043d\\u043d\\u043e\\u043c\\u0443 \"}],\"dataTree\":false,\"selectable\":true},\"indexes\":[\"\\u041d\\u0430\\u043f\\u0440\\u0430\\u0432\\u043b\\u0435\\u043d\\u0438\\u044f\"],\"layout\":\"fit_data_table\",\"margin\":[5,10,5,10],\"max_page\":1,\"name\":\"\",\"page\":1,\"page_size\":10,\"pagination\":\"remote\",\"select_mode\":true,\"selectable_rows\":null,\"sizing_mode\":\"stretch_width\",\"source\":{\"id\":\"27024\"},\"styles\":{\"data\":{},\"id\":\"f40be24375d345309b5584b9c0b580c3\"},\"subscribed_events\":[\"cell-click\",\"table-edit\"],\"theme_url\":\"https://cdn.jsdelivr.net/npm/@holoviz/panel@0.14.3/dist/bundled/datatabulator/tabulator-tables@5.3.2/dist/css/\"},\"id\":\"27062\",\"type\":\"panel.models.tabulator.DataTabulator\"},{\"attributes\":{},\"id\":\"27047\",\"type\":\"StringFormatter\"},{\"attributes\":{\"editor\":{\"id\":\"27038\"},\"field\":\"\\u0421\\u0443\\u043c\\u043c\\u0430 \\u043f\\u043e \\u043f\\u043e\\u043b\\u044e \\u0411\\u044e\\u0434\\u0436\\u0435\\u0442 \\u041c\\u041e, \\u0440\\u0443\\u0431\",\"formatter\":{\"id\":\"27037\"},\"title\":\"\\u0421\\u0443\\u043c\\u043c\\u0430 \\u043f\\u043e \\u043f\\u043e\\u043b\\u044e \\u0411\\u044e\\u0434\\u0436\\u0435\\u0442 \\u041c\\u041e, \\u0440\\u0443\\u0431\",\"width\":0},\"id\":\"27039\",\"type\":\"TableColumn\"},{\"attributes\":{\"children\":[{\"id\":\"27018\"},{\"id\":\"27021\"}],\"margin\":[0,0,0,0],\"name\":\"Column53542\",\"sizing_mode\":\"stretch_width\"},\"id\":\"27017\",\"type\":\"Column\"},{\"attributes\":{},\"id\":\"27048\",\"type\":\"StringEditor\"},{\"attributes\":{\"editor\":{\"id\":\"27048\"},\"field\":\"\\u0421\\u0443\\u043c\\u043c\\u0430 \\u043f\\u043e \\u043f\\u043e\\u043b\\u044e \\u0411\\u044e\\u0434\\u0436\\u0435\\u0442 \\u0433\\u0440\\u0430\\u043d\\u0442\\u043e\\u0432, \\u0440\\u0443\\u0431\",\"formatter\":{\"id\":\"27047\"},\"title\":\"\\u0421\\u0443\\u043c\\u043c\\u0430 \\u043f\\u043e \\u043f\\u043e\\u043b\\u044e \\u0411\\u044e\\u0434\\u0436\\u0435\\u0442 \\u0433\\u0440\\u0430\\u043d\\u0442\\u043e\\u0432, \\u0440\\u0443\\u0431\",\"width\":0},\"id\":\"27049\",\"type\":\"TableColumn\"}],\"root_ids\":[\"27016\",\"27070\"]},\"title\":\"Bokeh Application\",\"version\":\"2.4.3\"}};\n",
       "    var render_items = [{\"docid\":\"445b716f-f092-49ec-b174-15633e2527ca\",\"root_ids\":[\"27016\"],\"roots\":{\"27016\":\"528712e6-2260-4710-a295-9ec286da5240\"}}];\n",
       "    root.Bokeh.embed.embed_items_notebook(docs_json, render_items);\n",
       "    for (const render_item of render_items) {\n",
       "      for (const root_id of render_item.root_ids) {\n",
       "\tconst id_el = document.getElementById(root_id)\n",
       "\tif (id_el.children.length && (id_el.children[0].className === 'bk-root')) {\n",
       "\t  const root_el = id_el.children[0]\n",
       "\t  root_el.id = root_el.id + '-rendered'\n",
       "\t}\n",
       "      }\n",
       "    }\n",
       "  }\n",
       "  if (root.Bokeh !== undefined && root.Bokeh.Panel !== undefined && ( root['Tabulator'] !== undefined) && ( root['Tabulator'] !== undefined) && ( root['Tabulator'] !== undefined) && ( root['Tabulator'] !== undefined) && ( root['Tabulator'] !== undefined) && ( root['Tabulator'] !== undefined) && ( root['Tabulator'] !== undefined) && ( root['Tabulator'] !== undefined) && ( root['Tabulator'] !== undefined) && ( root['Tabulator'] !== undefined) && ( root['Tabulator'] !== undefined)) {\n",
       "    embed_document(root);\n",
       "  } else {\n",
       "    var attempts = 0;\n",
       "    var timer = setInterval(function(root) {\n",
       "      if (root.Bokeh !== undefined && root.Bokeh.Panel !== undefined && (root['Tabulator'] !== undefined) && (root['Tabulator'] !== undefined) && (root['Tabulator'] !== undefined) && (root['Tabulator'] !== undefined) && (root['Tabulator'] !== undefined) && (root['Tabulator'] !== undefined) && (root['Tabulator'] !== undefined) && (root['Tabulator'] !== undefined) && (root['Tabulator'] !== undefined) && (root['Tabulator'] !== undefined) && (root['Tabulator'] !== undefined)) {\n",
       "        clearInterval(timer);\n",
       "        embed_document(root);\n",
       "      } else if (document.readyState == \"complete\") {\n",
       "        attempts++;\n",
       "        if (attempts > 200) {\n",
       "          clearInterval(timer);\n",
       "          console.log(\"Bokeh: ERROR: Unable to run BokehJS code because BokehJS library is missing\");\n",
       "        }\n",
       "      }\n",
       "    }, 25, root)\n",
       "  }\n",
       "})(window);</script>"
      ],
      "text/plain": [
       "<hvplot.interactive.Interactive at 0x7fb8393104f0>"
      ]
     },
     "execution_count": 937,
     "metadata": {
      "application/vnd.holoviews_exec.v0+json": {
       "id": "27016"
      }
     },
     "output_type": "execute_result"
    }
   ],
   "source": [
    "pp1_pipeline"
   ]
  },
  {
   "cell_type": "code",
   "execution_count": null,
   "id": "c6d68fbe",
   "metadata": {},
   "outputs": [],
   "source": []
  },
  {
   "cell_type": "code",
   "execution_count": null,
   "id": "c2926426",
   "metadata": {},
   "outputs": [],
   "source": []
  },
  {
   "cell_type": "markdown",
   "id": "0841f610",
   "metadata": {},
   "source": [
    "### Р6"
   ]
  },
  {
   "cell_type": "code",
   "execution_count": 938,
   "id": "8d1d6829",
   "metadata": {},
   "outputs": [],
   "source": [
    "df_p6 = form_m1['Р6']"
   ]
  },
  {
   "cell_type": "code",
   "execution_count": 939,
   "id": "49a362ab",
   "metadata": {
    "scrolled": false
   },
   "outputs": [
    {
     "data": {
      "text/plain": [
       "Регион                                                                               0\n",
       "Округ                                                                                0\n",
       "Год                                                                                  0\n",
       "Наименование                                                                         0\n",
       "№ строки                                                                             0\n",
       "Количество форумов соответствующего уровня, прошедших на территории субъекта Рос    43\n",
       "Численность участников форумов соответствующего уровня, чел                         27\n",
       "Объeм рег. финансирования (в том числе посредством финансирования транспортных и    48\n",
       "Объeм мун. финансирования (в том числе посредством финансирования транспортных и    58\n",
       "dtype: int64"
      ]
     },
     "execution_count": 939,
     "metadata": {},
     "output_type": "execute_result"
    }
   ],
   "source": [
    "df_p6.isna().sum()"
   ]
  },
  {
   "cell_type": "code",
   "execution_count": 940,
   "id": "d00fd290",
   "metadata": {},
   "outputs": [],
   "source": [
    "df_p6 = df_p6.fillna(0)"
   ]
  },
  {
   "cell_type": "code",
   "execution_count": 941,
   "id": "f13246ae",
   "metadata": {},
   "outputs": [
    {
     "data": {
      "text/html": [
       "<div>\n",
       "<style scoped>\n",
       "    .dataframe tbody tr th:only-of-type {\n",
       "        vertical-align: middle;\n",
       "    }\n",
       "\n",
       "    .dataframe tbody tr th {\n",
       "        vertical-align: top;\n",
       "    }\n",
       "\n",
       "    .dataframe thead th {\n",
       "        text-align: right;\n",
       "    }\n",
       "</style>\n",
       "<table border=\"1\" class=\"dataframe\">\n",
       "  <thead>\n",
       "    <tr style=\"text-align: right;\">\n",
       "      <th></th>\n",
       "      <th>Регион</th>\n",
       "      <th>Округ</th>\n",
       "      <th>Год</th>\n",
       "      <th>Наименование</th>\n",
       "      <th>№ строки</th>\n",
       "      <th>Количество форумов соответствующего уровня, прошедших на территории субъекта Рос</th>\n",
       "      <th>Численность участников форумов соответствующего уровня, чел</th>\n",
       "      <th>Объeм рег. финансирования (в том числе посредством финансирования транспортных и</th>\n",
       "      <th>Объeм мун. финансирования (в том числе посредством финансирования транспортных и</th>\n",
       "    </tr>\n",
       "  </thead>\n",
       "  <tbody>\n",
       "    <tr>\n",
       "      <th>0</th>\n",
       "      <td>Республика Адыгея</td>\n",
       "      <td>ЮФО</td>\n",
       "      <td>2021</td>\n",
       "      <td>Всероссийские молодeжные форумы</td>\n",
       "      <td>55</td>\n",
       "      <td>0.000</td>\n",
       "      <td>0.000</td>\n",
       "      <td>54000.000</td>\n",
       "      <td>0.000</td>\n",
       "    </tr>\n",
       "    <tr>\n",
       "      <th>1</th>\n",
       "      <td>Республика Адыгея</td>\n",
       "      <td>ЮФО</td>\n",
       "      <td>2021</td>\n",
       "      <td>Окружные молодeжные форумы</td>\n",
       "      <td>56</td>\n",
       "      <td>2.000</td>\n",
       "      <td>300.000</td>\n",
       "      <td>0.000</td>\n",
       "      <td>0.000</td>\n",
       "    </tr>\n",
       "    <tr>\n",
       "      <th>2</th>\n",
       "      <td>Республика Адыгея</td>\n",
       "      <td>ЮФО</td>\n",
       "      <td>2021</td>\n",
       "      <td>Региональные и межрегиональные молодeжные форумы</td>\n",
       "      <td>57</td>\n",
       "      <td>6.000</td>\n",
       "      <td>900.000</td>\n",
       "      <td>343460.000</td>\n",
       "      <td>0.000</td>\n",
       "    </tr>\n",
       "  </tbody>\n",
       "</table>\n",
       "</div>"
      ],
      "text/plain": [
       "              Регион Округ   Год  \\\n",
       "0  Республика Адыгея   ЮФО  2021   \n",
       "1  Республика Адыгея   ЮФО  2021   \n",
       "2  Республика Адыгея   ЮФО  2021   \n",
       "\n",
       "                                       Наименование  № строки  \\\n",
       "0                   Всероссийские молодeжные форумы        55   \n",
       "1                        Окружные молодeжные форумы        56   \n",
       "2  Региональные и межрегиональные молодeжные форумы        57   \n",
       "\n",
       "   Количество форумов соответствующего уровня, прошедших на территории субъекта Рос  \\\n",
       "0                                              0.000                                  \n",
       "1                                              2.000                                  \n",
       "2                                              6.000                                  \n",
       "\n",
       "   Численность участников форумов соответствующего уровня, чел  \\\n",
       "0                                              0.000             \n",
       "1                                            300.000             \n",
       "2                                            900.000             \n",
       "\n",
       "   Объeм рег. финансирования (в том числе посредством финансирования транспортных и  \\\n",
       "0                                          54000.000                                  \n",
       "1                                              0.000                                  \n",
       "2                                         343460.000                                  \n",
       "\n",
       "   Объeм мун. финансирования (в том числе посредством финансирования транспортных и  \n",
       "0                                              0.000                                 \n",
       "1                                              0.000                                 \n",
       "2                                              0.000                                 "
      ]
     },
     "execution_count": 941,
     "metadata": {},
     "output_type": "execute_result"
    }
   ],
   "source": [
    "df_p6.head(3)"
   ]
  },
  {
   "cell_type": "code",
   "execution_count": 942,
   "id": "25ae1de3",
   "metadata": {},
   "outputs": [
    {
     "data": {
      "text/plain": [
       "Index(['Регион', 'Округ', 'Год', 'Наименование', '№ строки',\n",
       "       'Количество форумов соответствующего уровня, прошедших на территории субъекта Рос',\n",
       "       'Численность участников форумов соответствующего уровня, чел',\n",
       "       'Объeм рег. финансирования (в том числе посредством финансирования транспортных и',\n",
       "       'Объeм мун. финансирования (в том числе посредством финансирования транспортных и'],\n",
       "      dtype='object')"
      ]
     },
     "execution_count": 942,
     "metadata": {},
     "output_type": "execute_result"
    }
   ],
   "source": [
    "df_p6.columns"
   ]
  },
  {
   "cell_type": "code",
   "execution_count": null,
   "id": "645bd09a",
   "metadata": {},
   "outputs": [],
   "source": []
  },
  {
   "cell_type": "markdown",
   "id": "ec1fce5a",
   "metadata": {},
   "source": [
    "  \n",
    " Будем считать, что запуск форума был удачным и его\n",
    " можно повторно запустить, если на него пришло много человек"
   ]
  },
  {
   "cell_type": "code",
   "execution_count": 943,
   "id": "c3ffeea8",
   "metadata": {},
   "outputs": [
    {
     "data": {
      "text/html": [
       "<div>\n",
       "<style scoped>\n",
       "    .dataframe tbody tr th:only-of-type {\n",
       "        vertical-align: middle;\n",
       "    }\n",
       "\n",
       "    .dataframe tbody tr th {\n",
       "        vertical-align: top;\n",
       "    }\n",
       "\n",
       "    .dataframe thead th {\n",
       "        text-align: right;\n",
       "    }\n",
       "</style>\n",
       "<table border=\"1\" class=\"dataframe\">\n",
       "  <thead>\n",
       "    <tr style=\"text-align: right;\">\n",
       "      <th></th>\n",
       "      <th>Регион</th>\n",
       "      <th>Округ</th>\n",
       "      <th>Год</th>\n",
       "      <th>Наименование</th>\n",
       "      <th>№ строки</th>\n",
       "      <th>Количество форумов соответствующего уровня, прошедших на территории субъекта Рос</th>\n",
       "      <th>Численность участников форумов соответствующего уровня, чел</th>\n",
       "      <th>Объeм рег. финансирования (в том числе посредством финансирования транспортных и</th>\n",
       "      <th>Объeм мун. финансирования (в том числе посредством финансирования транспортных и</th>\n",
       "    </tr>\n",
       "  </thead>\n",
       "  <tbody>\n",
       "    <tr>\n",
       "      <th>0</th>\n",
       "      <td>Республика Адыгея</td>\n",
       "      <td>ЮФО</td>\n",
       "      <td>2021</td>\n",
       "      <td>Всероссийские молодeжные форумы</td>\n",
       "      <td>55</td>\n",
       "      <td>0.000</td>\n",
       "      <td>0.000</td>\n",
       "      <td>54000.000</td>\n",
       "      <td>0.000</td>\n",
       "    </tr>\n",
       "    <tr>\n",
       "      <th>1</th>\n",
       "      <td>Республика Адыгея</td>\n",
       "      <td>ЮФО</td>\n",
       "      <td>2021</td>\n",
       "      <td>Окружные молодeжные форумы</td>\n",
       "      <td>56</td>\n",
       "      <td>2.000</td>\n",
       "      <td>300.000</td>\n",
       "      <td>0.000</td>\n",
       "      <td>0.000</td>\n",
       "    </tr>\n",
       "    <tr>\n",
       "      <th>2</th>\n",
       "      <td>Республика Адыгея</td>\n",
       "      <td>ЮФО</td>\n",
       "      <td>2021</td>\n",
       "      <td>Региональные и межрегиональные молодeжные форумы</td>\n",
       "      <td>57</td>\n",
       "      <td>6.000</td>\n",
       "      <td>900.000</td>\n",
       "      <td>343460.000</td>\n",
       "      <td>0.000</td>\n",
       "    </tr>\n",
       "  </tbody>\n",
       "</table>\n",
       "</div>"
      ],
      "text/plain": [
       "              Регион Округ   Год  \\\n",
       "0  Республика Адыгея   ЮФО  2021   \n",
       "1  Республика Адыгея   ЮФО  2021   \n",
       "2  Республика Адыгея   ЮФО  2021   \n",
       "\n",
       "                                       Наименование  № строки  \\\n",
       "0                   Всероссийские молодeжные форумы        55   \n",
       "1                        Окружные молодeжные форумы        56   \n",
       "2  Региональные и межрегиональные молодeжные форумы        57   \n",
       "\n",
       "   Количество форумов соответствующего уровня, прошедших на территории субъекта Рос  \\\n",
       "0                                              0.000                                  \n",
       "1                                              2.000                                  \n",
       "2                                              6.000                                  \n",
       "\n",
       "   Численность участников форумов соответствующего уровня, чел  \\\n",
       "0                                              0.000             \n",
       "1                                            300.000             \n",
       "2                                            900.000             \n",
       "\n",
       "   Объeм рег. финансирования (в том числе посредством финансирования транспортных и  \\\n",
       "0                                          54000.000                                  \n",
       "1                                              0.000                                  \n",
       "2                                         343460.000                                  \n",
       "\n",
       "   Объeм мун. финансирования (в том числе посредством финансирования транспортных и  \n",
       "0                                              0.000                                 \n",
       "1                                              0.000                                 \n",
       "2                                              0.000                                 "
      ]
     },
     "execution_count": 943,
     "metadata": {},
     "output_type": "execute_result"
    }
   ],
   "source": [
    "df_p6.head(3)"
   ]
  },
  {
   "cell_type": "code",
   "execution_count": 944,
   "id": "d64099c7",
   "metadata": {},
   "outputs": [],
   "source": [
    "idf = df_p6.interactive()"
   ]
  },
  {
   "cell_type": "code",
   "execution_count": 945,
   "id": "ca26ab19",
   "metadata": {
    "scrolled": true
   },
   "outputs": [],
   "source": [
    "iscatter_select = pn.widgets.Select(name='Выбор форума', options=list(df_p6['Наименование'].unique())[:4])"
   ]
  },
  {
   "cell_type": "code",
   "execution_count": 946,
   "id": "036c72e1",
   "metadata": {},
   "outputs": [],
   "source": [
    "# топ-10 по численности\n",
    "iscatter = idf[idf['Наименование'] == iscatter_select] \\\n",
    "            .groupby('Регион', as_index=True) \\\n",
    "            .agg({'Численность участников форумов соответствующего уровня, чел' : 'sum'}) \\\n",
    "            .rename(columns={'Численность участников форумов соответствующего уровня, чел' : 'Кол-во участников'}) \\\n",
    "            .sort_values('Кол-во участников', ascending=False) \\\n",
    "            .head(10)"
   ]
  },
  {
   "cell_type": "code",
   "execution_count": 947,
   "id": "fbef1c6a",
   "metadata": {},
   "outputs": [],
   "source": [
    "#hvplot.help('scatter', generic=False, style=False)"
   ]
  },
  {
   "cell_type": "code",
   "execution_count": 948,
   "id": "0da8266b",
   "metadata": {
    "scrolled": true
   },
   "outputs": [],
   "source": [
    "iscatter_plot = iscatter.hvplot.scatter(x='Регион', y='Кол-во участников', \n",
    "                  legend='top', height=800, width=1400, title=iscatter_select)"
   ]
  },
  {
   "cell_type": "code",
   "execution_count": 949,
   "id": "cf995e02",
   "metadata": {},
   "outputs": [
    {
     "data": {},
     "metadata": {},
     "output_type": "display_data"
    },
    {
     "data": {},
     "metadata": {},
     "output_type": "display_data"
    },
    {
     "data": {
      "application/vnd.holoviews_exec.v0+json": "",
      "text/html": [
       "<div id='27081'>\n",
       "  <div class=\"bk-root\" id=\"03dc3479-d279-44b9-9c7a-84cb2187c727\" data-root-id=\"27081\"></div>\n",
       "</div>\n",
       "<script type=\"application/javascript\">(function(root) {\n",
       "  function embed_document(root) {\n",
       "    var docs_json = {\"c11b403b-b201-4b02-a3fe-5661649c6acf\":{\"defs\":[{\"extends\":null,\"module\":null,\"name\":\"ReactiveHTML1\",\"overrides\":[],\"properties\":[]},{\"extends\":null,\"module\":null,\"name\":\"FlexBox1\",\"overrides\":[],\"properties\":[{\"default\":\"flex-start\",\"kind\":null,\"name\":\"align_content\"},{\"default\":\"flex-start\",\"kind\":null,\"name\":\"align_items\"},{\"default\":\"row\",\"kind\":null,\"name\":\"flex_direction\"},{\"default\":\"wrap\",\"kind\":null,\"name\":\"flex_wrap\"},{\"default\":\"flex-start\",\"kind\":null,\"name\":\"justify_content\"}]},{\"extends\":null,\"module\":null,\"name\":\"GridStack1\",\"overrides\":[],\"properties\":[{\"default\":\"warn\",\"kind\":null,\"name\":\"mode\"},{\"default\":null,\"kind\":null,\"name\":\"ncols\"},{\"default\":null,\"kind\":null,\"name\":\"nrows\"},{\"default\":true,\"kind\":null,\"name\":\"allow_resize\"},{\"default\":true,\"kind\":null,\"name\":\"allow_drag\"},{\"default\":[],\"kind\":null,\"name\":\"state\"}]},{\"extends\":null,\"module\":null,\"name\":\"click1\",\"overrides\":[],\"properties\":[{\"default\":\"\",\"kind\":null,\"name\":\"terminal_output\"},{\"default\":\"\",\"kind\":null,\"name\":\"debug_name\"},{\"default\":0,\"kind\":null,\"name\":\"clears\"}]},{\"extends\":null,\"module\":null,\"name\":\"NotificationAreaBase1\",\"overrides\":[],\"properties\":[{\"default\":\"bottom-right\",\"kind\":null,\"name\":\"position\"},{\"default\":0,\"kind\":null,\"name\":\"_clear\"}]},{\"extends\":null,\"module\":null,\"name\":\"NotificationArea1\",\"overrides\":[],\"properties\":[{\"default\":[],\"kind\":null,\"name\":\"notifications\"},{\"default\":\"bottom-right\",\"kind\":null,\"name\":\"position\"},{\"default\":0,\"kind\":null,\"name\":\"_clear\"},{\"default\":[{\"background\":\"#ffc107\",\"icon\":{\"className\":\"fas fa-exclamation-triangle\",\"color\":\"white\",\"tagName\":\"i\"},\"type\":\"warning\"},{\"background\":\"#007bff\",\"icon\":{\"className\":\"fas fa-info-circle\",\"color\":\"white\",\"tagName\":\"i\"},\"type\":\"info\"}],\"kind\":null,\"name\":\"types\"}]},{\"extends\":null,\"module\":null,\"name\":\"Notification\",\"overrides\":[],\"properties\":[{\"default\":null,\"kind\":null,\"name\":\"background\"},{\"default\":3000,\"kind\":null,\"name\":\"duration\"},{\"default\":null,\"kind\":null,\"name\":\"icon\"},{\"default\":\"\",\"kind\":null,\"name\":\"message\"},{\"default\":null,\"kind\":null,\"name\":\"notification_type\"},{\"default\":false,\"kind\":null,\"name\":\"_destroyed\"}]},{\"extends\":null,\"module\":null,\"name\":\"TemplateActions1\",\"overrides\":[],\"properties\":[{\"default\":0,\"kind\":null,\"name\":\"open_modal\"},{\"default\":0,\"kind\":null,\"name\":\"close_modal\"}]},{\"extends\":null,\"module\":null,\"name\":\"MaterialTemplateActions1\",\"overrides\":[],\"properties\":[{\"default\":0,\"kind\":null,\"name\":\"open_modal\"},{\"default\":0,\"kind\":null,\"name\":\"close_modal\"}]}],\"roots\":{\"references\":[{\"attributes\":{\"below\":[{\"id\":\"27099\"}],\"center\":[{\"id\":\"27101\"},{\"id\":\"27105\"}],\"height\":800,\"left\":[{\"id\":\"27102\"}],\"margin\":[5,5,5,5],\"min_border_bottom\":10,\"min_border_left\":10,\"min_border_right\":10,\"min_border_top\":10,\"renderers\":[{\"id\":\"27125\"}],\"sizing_mode\":\"fixed\",\"title\":{\"id\":\"27091\"},\"toolbar\":{\"id\":\"27112\"},\"width\":1400,\"x_range\":{\"id\":\"27087\"},\"x_scale\":{\"id\":\"27095\"},\"y_range\":{\"id\":\"27088\"},\"y_scale\":{\"id\":\"27097\"}},\"id\":\"27090\",\"subtype\":\"Figure\",\"type\":\"Plot\"},{\"attributes\":{\"overlay\":{\"id\":\"27111\"}},\"id\":\"27109\",\"type\":\"BoxZoomTool\"},{\"attributes\":{},\"id\":\"27132\",\"type\":\"BasicTickFormatter\"},{\"attributes\":{\"data\":{\"\\u041a\\u043e\\u043b-\\u0432\\u043e \\u0443\\u0447\\u0430\\u0441\\u0442\\u043d\\u0438\\u043a\\u043e\\u0432\":{\"__ndarray__\":\"AAAAAABkyUAAAAAAANu8QAAAAAAANblAAAAAAACysEAAAAAAAFCmQAAAAAAAiKNAAAAAAAAAmUAAAAAAAEiSQAAAAAAArJBAAAAAAABAj0A=\",\"dtype\":\"float64\",\"order\":\"little\",\"shape\":[10]},\"\\u041a\\u043e\\u043b_hyphen_minus_\\u0432\\u043e_\\u0443\\u0447\\u0430\\u0441\\u0442\\u043d\\u0438\\u043a\\u043e\\u0432\":{\"__ndarray__\":\"AAAAAABkyUAAAAAAANu8QAAAAAAANblAAAAAAACysEAAAAAAAFCmQAAAAAAAiKNAAAAAAAAAmUAAAAAAAEiSQAAAAAAArJBAAAAAAABAj0A=\",\"dtype\":\"float64\",\"order\":\"little\",\"shape\":[10]},\"\\u0420\\u0435\\u0433\\u0438\\u043e\\u043d\":[\"\\u0412\\u043e\\u0440\\u043e\\u043d\\u0435\\u0436\\u0441\\u043a\\u0430\\u044f \\u043e\\u0431\\u043b\\u0430\\u0441\\u0442\\u044c\",\"\\u0421\\u0430\\u043d\\u043a\\u0442-\\u041f\\u0435\\u0442\\u0435\\u0440\\u0431\\u0443\\u0440\\u0433\",\"\\u0421\\u0430\\u043c\\u0430\\u0440\\u0441\\u043a\\u0430\\u044f \\u043e\\u0431\\u043b\\u0430\\u0441\\u0442\\u044c\",\"\\u0420\\u0435\\u0441\\u043f\\u0443\\u0431\\u043b\\u0438\\u043a\\u0430 \\u041a\\u0440\\u044b\\u043c\",\"\\u0420\\u0435\\u0441\\u043f\\u0443\\u0431\\u043b\\u0438\\u043a\\u0430 \\u0422\\u0430\\u0442\\u0430\\u0440\\u0441\\u0442\\u0430\\u043d\",\"\\u0420\\u0435\\u0441\\u043f\\u0443\\u0431\\u043b\\u0438\\u043a\\u0430 \\u0418\\u043d\\u0433\\u0443\\u0448\\u0435\\u0442\\u0438\\u044f\",\"\\u0423\\u043b\\u044c\\u044f\\u043d\\u043e\\u0432\\u0441\\u043a\\u0430\\u044f \\u043e\\u0431\\u043b\\u0430\\u0441\\u0442\\u044c\",\"\\u0420\\u0435\\u0441\\u043f\\u0443\\u0431\\u043b\\u0438\\u043a\\u0430 \\u0414\\u0430\\u0433\\u0435\\u0441\\u0442\\u0430\\u043d\",\"\\u042f\\u0440\\u043e\\u0441\\u043b\\u0430\\u0432\\u0441\\u043a\\u0430\\u044f \\u043e\\u0431\\u043b\\u0430\\u0441\\u0442\\u044c\",\"\\u0422\\u043e\\u043c\\u0441\\u043a\\u0430\\u044f \\u043e\\u0431\\u043b\\u0430\\u0441\\u0442\\u044c\"]},\"selected\":{\"id\":\"27120\"},\"selection_policy\":{\"id\":\"27141\"}},\"id\":\"27119\",\"type\":\"ColumnDataSource\"},{\"attributes\":{\"bottom_units\":\"screen\",\"coordinates\":null,\"fill_alpha\":0.5,\"fill_color\":\"lightgrey\",\"group\":null,\"left_units\":\"screen\",\"level\":\"overlay\",\"line_alpha\":1.0,\"line_color\":\"black\",\"line_dash\":[4,4],\"line_width\":2,\"right_units\":\"screen\",\"syncable\":false,\"top_units\":\"screen\"},\"id\":\"27111\",\"type\":\"BoxAnnotation\"},{\"attributes\":{\"angle\":{\"value\":0.0},\"fill_alpha\":{\"value\":1.0},\"fill_color\":{\"value\":\"#30a2da\"},\"hatch_alpha\":{\"value\":1.0},\"hatch_color\":{\"value\":\"#30a2da\"},\"hatch_scale\":{\"value\":12.0},\"hatch_weight\":{\"value\":1.0},\"line_alpha\":{\"value\":1.0},\"line_cap\":{\"value\":\"butt\"},\"line_color\":{\"value\":\"#30a2da\"},\"line_dash\":{\"value\":[]},\"line_dash_offset\":{\"value\":0},\"line_join\":{\"value\":\"bevel\"},\"line_width\":{\"value\":1},\"marker\":{\"value\":\"circle\"},\"size\":{\"value\":5.477225575051661},\"x\":{\"field\":\"\\u0420\\u0435\\u0433\\u0438\\u043e\\u043d\"},\"y\":{\"field\":\"\\u041a\\u043e\\u043b-\\u0432\\u043e \\u0443\\u0447\\u0430\\u0441\\u0442\\u043d\\u0438\\u043a\\u043e\\u0432\"}},\"id\":\"27127\",\"type\":\"Scatter\"},{\"attributes\":{\"end\":14200.0,\"reset_end\":14200.0,\"reset_start\":-200.0,\"start\":-200.0,\"tags\":[[[\"\\u041a\\u043e\\u043b-\\u0432\\u043e \\u0443\\u0447\\u0430\\u0441\\u0442\\u043d\\u0438\\u043a\\u043e\\u0432\",\"\\u041a\\u043e\\u043b-\\u0432\\u043e \\u0443\\u0447\\u0430\\u0441\\u0442\\u043d\\u0438\\u043a\\u043e\\u0432\",null]]]},\"id\":\"27088\",\"type\":\"Range1d\"},{\"attributes\":{\"axis_label\":\"\\u0420\\u0435\\u0433\\u0438\\u043e\\u043d\",\"coordinates\":null,\"formatter\":{\"id\":\"27129\"},\"group\":null,\"major_label_policy\":{\"id\":\"27130\"},\"ticker\":{\"id\":\"27100\"}},\"id\":\"27099\",\"type\":\"CategoricalAxis\"},{\"attributes\":{\"fill_alpha\":{\"value\":0.1},\"fill_color\":{\"value\":\"#30a2da\"},\"hatch_alpha\":{\"value\":0.1},\"hatch_color\":{\"value\":\"#30a2da\"},\"line_alpha\":{\"value\":0.1},\"line_color\":{\"value\":\"#30a2da\"},\"size\":{\"value\":5.477225575051661},\"x\":{\"field\":\"\\u0420\\u0435\\u0433\\u0438\\u043e\\u043d\"},\"y\":{\"field\":\"\\u041a\\u043e\\u043b-\\u0432\\u043e \\u0443\\u0447\\u0430\\u0441\\u0442\\u043d\\u0438\\u043a\\u043e\\u0432\"}},\"id\":\"27123\",\"type\":\"Scatter\"},{\"attributes\":{\"axis\":{\"id\":\"27099\"},\"coordinates\":null,\"grid_line_color\":null,\"group\":null,\"ticker\":null},\"id\":\"27101\",\"type\":\"Grid\"},{\"attributes\":{\"callback\":null,\"renderers\":[{\"id\":\"27125\"}],\"tags\":[\"hv_created\"],\"tooltips\":[[\"\\u0420\\u0435\\u0433\\u0438\\u043e\\u043d\",\"@{\\u0420\\u0435\\u0433\\u0438\\u043e\\u043d}\"],[\"\\u041a\\u043e\\u043b-\\u0432\\u043e \\u0443\\u0447\\u0430\\u0441\\u0442\\u043d\\u0438\\u043a\\u043e\\u0432\",\"@{\\u041a\\u043e\\u043b_hyphen_minus_\\u0432\\u043e_\\u0443\\u0447\\u0430\\u0441\\u0442\\u043d\\u0438\\u043a\\u043e\\u0432}\"]]},\"id\":\"27089\",\"type\":\"HoverTool\"},{\"attributes\":{},\"id\":\"27095\",\"type\":\"CategoricalScale\"},{\"attributes\":{},\"id\":\"27100\",\"type\":\"CategoricalTicker\"},{\"attributes\":{},\"id\":\"27097\",\"type\":\"LinearScale\"},{\"attributes\":{\"source\":{\"id\":\"27119\"}},\"id\":\"27126\",\"type\":\"CDSView\"},{\"attributes\":{\"axis\":{\"id\":\"27102\"},\"coordinates\":null,\"dimension\":1,\"grid_line_color\":null,\"group\":null,\"ticker\":null},\"id\":\"27105\",\"type\":\"Grid\"},{\"attributes\":{},\"id\":\"27129\",\"type\":\"CategoricalTickFormatter\"},{\"attributes\":{\"children\":[{\"id\":\"27085\"}],\"margin\":[0,0,0,0],\"name\":\"Column54056\",\"sizing_mode\":\"stretch_width\"},\"id\":\"27084\",\"type\":\"Column\"},{\"attributes\":{},\"id\":\"27107\",\"type\":\"PanTool\"},{\"attributes\":{},\"id\":\"27103\",\"type\":\"BasicTicker\"},{\"attributes\":{\"factors\":[\"\\u0412\\u043e\\u0440\\u043e\\u043d\\u0435\\u0436\\u0441\\u043a\\u0430\\u044f \\u043e\\u0431\\u043b\\u0430\\u0441\\u0442\\u044c\",\"\\u0421\\u0430\\u043d\\u043a\\u0442-\\u041f\\u0435\\u0442\\u0435\\u0440\\u0431\\u0443\\u0440\\u0433\",\"\\u0421\\u0430\\u043c\\u0430\\u0440\\u0441\\u043a\\u0430\\u044f \\u043e\\u0431\\u043b\\u0430\\u0441\\u0442\\u044c\",\"\\u0420\\u0435\\u0441\\u043f\\u0443\\u0431\\u043b\\u0438\\u043a\\u0430 \\u041a\\u0440\\u044b\\u043c\",\"\\u0420\\u0435\\u0441\\u043f\\u0443\\u0431\\u043b\\u0438\\u043a\\u0430 \\u0422\\u0430\\u0442\\u0430\\u0440\\u0441\\u0442\\u0430\\u043d\",\"\\u0420\\u0435\\u0441\\u043f\\u0443\\u0431\\u043b\\u0438\\u043a\\u0430 \\u0418\\u043d\\u0433\\u0443\\u0448\\u0435\\u0442\\u0438\\u044f\",\"\\u0423\\u043b\\u044c\\u044f\\u043d\\u043e\\u0432\\u0441\\u043a\\u0430\\u044f \\u043e\\u0431\\u043b\\u0430\\u0441\\u0442\\u044c\",\"\\u0420\\u0435\\u0441\\u043f\\u0443\\u0431\\u043b\\u0438\\u043a\\u0430 \\u0414\\u0430\\u0433\\u0435\\u0441\\u0442\\u0430\\u043d\",\"\\u042f\\u0440\\u043e\\u0441\\u043b\\u0430\\u0432\\u0441\\u043a\\u0430\\u044f \\u043e\\u0431\\u043b\\u0430\\u0441\\u0442\\u044c\",\"\\u0422\\u043e\\u043c\\u0441\\u043a\\u0430\\u044f \\u043e\\u0431\\u043b\\u0430\\u0441\\u0442\\u044c\"],\"tags\":[[[\"\\u0420\\u0435\\u0433\\u0438\\u043e\\u043d\",\"\\u0420\\u0435\\u0433\\u0438\\u043e\\u043d\",null]]]},\"id\":\"27087\",\"type\":\"FactorRange\"},{\"attributes\":{\"children\":[{\"id\":\"27082\"}],\"margin\":[0,0,0,0],\"name\":\"Row54068\",\"sizing_mode\":\"stretch_width\"},\"id\":\"27081\",\"type\":\"Row\"},{\"attributes\":{\"axis_label\":\"\\u041a\\u043e\\u043b-\\u0432\\u043e \\u0443\\u0447\\u0430\\u0441\\u0442\\u043d\\u0438\\u043a\\u043e\\u0432\",\"coordinates\":null,\"formatter\":{\"id\":\"27132\"},\"group\":null,\"major_label_policy\":{\"id\":\"27133\"},\"ticker\":{\"id\":\"27103\"}},\"id\":\"27102\",\"type\":\"LinearAxis\"},{\"attributes\":{\"margin\":[5,5,5,5],\"name\":\"HSpacer54060\",\"sizing_mode\":\"stretch_width\"},\"id\":\"27086\",\"type\":\"Spacer\"},{\"attributes\":{\"children\":[{\"id\":\"27083\"},{\"id\":\"27090\"}],\"margin\":[0,0,0,0],\"name\":\"Column54067\",\"sizing_mode\":\"stretch_width\"},\"id\":\"27082\",\"type\":\"Column\"},{\"attributes\":{\"coordinates\":null,\"group\":null,\"text\":\"\\u0412\\u0441\\u0435\\u0440\\u043e\\u0441\\u0441\\u0438\\u0439\\u0441\\u043a\\u0438\\u0435 \\u043c\\u043e\\u043b\\u043e\\u0434e\\u0436\\u043d\\u044b\\u0435 \\u0444\\u043e\\u0440\\u0443\\u043c\\u044b\",\"text_color\":\"black\",\"text_font_size\":\"12pt\"},\"id\":\"27091\",\"type\":\"Title\"},{\"attributes\":{\"coordinates\":null,\"data_source\":{\"id\":\"27119\"},\"glyph\":{\"id\":\"27122\"},\"group\":null,\"hover_glyph\":null,\"muted_glyph\":{\"id\":\"27124\"},\"nonselection_glyph\":{\"id\":\"27123\"},\"selection_glyph\":{\"id\":\"27127\"},\"view\":{\"id\":\"27126\"}},\"id\":\"27125\",\"type\":\"GlyphRenderer\"},{\"attributes\":{\"fill_alpha\":{\"value\":0.2},\"fill_color\":{\"value\":\"#30a2da\"},\"hatch_alpha\":{\"value\":0.2},\"hatch_color\":{\"value\":\"#30a2da\"},\"line_alpha\":{\"value\":0.2},\"line_color\":{\"value\":\"#30a2da\"},\"size\":{\"value\":5.477225575051661},\"x\":{\"field\":\"\\u0420\\u0435\\u0433\\u0438\\u043e\\u043d\"},\"y\":{\"field\":\"\\u041a\\u043e\\u043b-\\u0432\\u043e \\u0443\\u0447\\u0430\\u0441\\u0442\\u043d\\u0438\\u043a\\u043e\\u0432\"}},\"id\":\"27124\",\"type\":\"Scatter\"},{\"attributes\":{\"margin\":[5,10,5,10],\"options\":[\"\\u0412\\u0441\\u0435\\u0440\\u043e\\u0441\\u0441\\u0438\\u0439\\u0441\\u043a\\u0438\\u0435 \\u043c\\u043e\\u043b\\u043e\\u0434e\\u0436\\u043d\\u044b\\u0435 \\u0444\\u043e\\u0440\\u0443\\u043c\\u044b\",\"\\u041e\\u043a\\u0440\\u0443\\u0436\\u043d\\u044b\\u0435 \\u043c\\u043e\\u043b\\u043e\\u0434e\\u0436\\u043d\\u044b\\u0435 \\u0444\\u043e\\u0440\\u0443\\u043c\\u044b\",\"\\u0420\\u0435\\u0433\\u0438\\u043e\\u043d\\u0430\\u043b\\u044c\\u043d\\u044b\\u0435 \\u0438 \\u043c\\u0435\\u0436\\u0440\\u0435\\u0433\\u0438\\u043e\\u043d\\u0430\\u043b\\u044c\\u043d\\u044b\\u0435 \\u043c\\u043e\\u043b\\u043e\\u0434e\\u0436\\u043d\\u044b\\u0435 \\u0444\\u043e\\u0440\\u0443\\u043c\\u044b\",\"\\u041c\\u0443\\u043d\\u0438\\u0446\\u0438\\u043f\\u0430\\u043b\\u044c\\u043d\\u044b\\u0435 \\u0438 \\u043c\\u0435\\u0436\\u043c\\u0443\\u043d\\u0438\\u0446\\u0438\\u043f\\u0430\\u043b\\u044c\\u043d\\u044b\\u0435 \\u043c\\u043e\\u043b\\u043e\\u0434e\\u0436\\u043d\\u044b\\u0435 \\u0444\\u043e\\u0440\\u0443\\u043c\\u044b\"],\"sizing_mode\":\"stretch_width\",\"title\":\"\\u0412\\u044b\\u0431\\u043e\\u0440 \\u0444\\u043e\\u0440\\u0443\\u043c\\u0430\",\"value\":\"\\u0412\\u0441\\u0435\\u0440\\u043e\\u0441\\u0441\\u0438\\u0439\\u0441\\u043a\\u0438\\u0435 \\u043c\\u043e\\u043b\\u043e\\u0434e\\u0436\\u043d\\u044b\\u0435 \\u0444\\u043e\\u0440\\u0443\\u043c\\u044b\"},\"id\":\"27085\",\"type\":\"panel.models.widgets.CustomSelect\"},{\"attributes\":{\"children\":[{\"id\":\"27084\"},{\"id\":\"27086\"}],\"margin\":[0,0,0,0],\"name\":\"Row54061\",\"sizing_mode\":\"stretch_width\"},\"id\":\"27083\",\"type\":\"Row\"},{\"attributes\":{},\"id\":\"27133\",\"type\":\"AllLabels\"},{\"attributes\":{\"fill_color\":{\"value\":\"#30a2da\"},\"hatch_color\":{\"value\":\"#30a2da\"},\"line_color\":{\"value\":\"#30a2da\"},\"size\":{\"value\":5.477225575051661},\"x\":{\"field\":\"\\u0420\\u0435\\u0433\\u0438\\u043e\\u043d\"},\"y\":{\"field\":\"\\u041a\\u043e\\u043b-\\u0432\\u043e \\u0443\\u0447\\u0430\\u0441\\u0442\\u043d\\u0438\\u043a\\u043e\\u0432\"}},\"id\":\"27122\",\"type\":\"Scatter\"},{\"attributes\":{},\"id\":\"27110\",\"type\":\"ResetTool\"},{\"attributes\":{},\"id\":\"27141\",\"type\":\"UnionRenderers\"},{\"attributes\":{},\"id\":\"27106\",\"type\":\"SaveTool\"},{\"attributes\":{\"tools\":[{\"id\":\"27089\"},{\"id\":\"27106\"},{\"id\":\"27107\"},{\"id\":\"27108\"},{\"id\":\"27109\"},{\"id\":\"27110\"}]},\"id\":\"27112\",\"type\":\"Toolbar\"},{\"attributes\":{},\"id\":\"27130\",\"type\":\"AllLabels\"},{\"attributes\":{},\"id\":\"27120\",\"type\":\"Selection\"},{\"attributes\":{\"client_comm_id\":\"d8fa7b8484d444eda1df7d4ebac69c87\",\"comm_id\":\"7dd6b30bbf874b0c9f08a2a18f3341b1\",\"plot_id\":\"27081\"},\"id\":\"27174\",\"type\":\"panel.models.comm_manager.CommManager\"},{\"attributes\":{},\"id\":\"27108\",\"type\":\"WheelZoomTool\"}],\"root_ids\":[\"27081\",\"27174\"]},\"title\":\"Bokeh Application\",\"version\":\"2.4.3\"}};\n",
       "    var render_items = [{\"docid\":\"c11b403b-b201-4b02-a3fe-5661649c6acf\",\"root_ids\":[\"27081\"],\"roots\":{\"27081\":\"03dc3479-d279-44b9-9c7a-84cb2187c727\"}}];\n",
       "    root.Bokeh.embed.embed_items_notebook(docs_json, render_items);\n",
       "    for (const render_item of render_items) {\n",
       "      for (const root_id of render_item.root_ids) {\n",
       "\tconst id_el = document.getElementById(root_id)\n",
       "\tif (id_el.children.length && (id_el.children[0].className === 'bk-root')) {\n",
       "\t  const root_el = id_el.children[0]\n",
       "\t  root_el.id = root_el.id + '-rendered'\n",
       "\t}\n",
       "      }\n",
       "    }\n",
       "  }\n",
       "  if (root.Bokeh !== undefined && root.Bokeh.Panel !== undefined && ( root['Tabulator'] !== undefined) && ( root['Tabulator'] !== undefined) && ( root['Tabulator'] !== undefined) && ( root['Tabulator'] !== undefined) && ( root['Tabulator'] !== undefined) && ( root['Tabulator'] !== undefined) && ( root['Tabulator'] !== undefined) && ( root['Tabulator'] !== undefined) && ( root['Tabulator'] !== undefined) && ( root['Tabulator'] !== undefined) && ( root['Tabulator'] !== undefined)) {\n",
       "    embed_document(root);\n",
       "  } else {\n",
       "    var attempts = 0;\n",
       "    var timer = setInterval(function(root) {\n",
       "      if (root.Bokeh !== undefined && root.Bokeh.Panel !== undefined && (root['Tabulator'] !== undefined) && (root['Tabulator'] !== undefined) && (root['Tabulator'] !== undefined) && (root['Tabulator'] !== undefined) && (root['Tabulator'] !== undefined) && (root['Tabulator'] !== undefined) && (root['Tabulator'] !== undefined) && (root['Tabulator'] !== undefined) && (root['Tabulator'] !== undefined) && (root['Tabulator'] !== undefined) && (root['Tabulator'] !== undefined)) {\n",
       "        clearInterval(timer);\n",
       "        embed_document(root);\n",
       "      } else if (document.readyState == \"complete\") {\n",
       "        attempts++;\n",
       "        if (attempts > 200) {\n",
       "          clearInterval(timer);\n",
       "          console.log(\"Bokeh: ERROR: Unable to run BokehJS code because BokehJS library is missing\");\n",
       "        }\n",
       "      }\n",
       "    }, 25, root)\n",
       "  }\n",
       "})(window);</script>"
      ],
      "text/plain": [
       "<hvplot.interactive.Interactive at 0x7fb83935c640>"
      ]
     },
     "execution_count": 949,
     "metadata": {
      "application/vnd.holoviews_exec.v0+json": {
       "id": "27081"
      }
     },
     "output_type": "execute_result"
    }
   ],
   "source": [
    "iscatter_plot"
   ]
  },
  {
   "cell_type": "code",
   "execution_count": null,
   "id": "5db64786",
   "metadata": {},
   "outputs": [],
   "source": []
  },
  {
   "cell_type": "code",
   "execution_count": null,
   "id": "568375ab",
   "metadata": {},
   "outputs": [],
   "source": []
  },
  {
   "cell_type": "markdown",
   "id": "6210c10d",
   "metadata": {},
   "source": [
    "# Models catboost"
   ]
  },
  {
   "cell_type": "code",
   "execution_count": 950,
   "id": "d05b986f",
   "metadata": {},
   "outputs": [],
   "source": [
    "P1 = form_m1['Р1']"
   ]
  },
  {
   "cell_type": "code",
   "execution_count": 951,
   "id": "4fa469e9",
   "metadata": {},
   "outputs": [],
   "source": [
    "P1 = P1.drop('Unnamed: 11', axis=1)"
   ]
  },
  {
   "cell_type": "code",
   "execution_count": 952,
   "id": "4686f218",
   "metadata": {},
   "outputs": [],
   "source": [
    "P1 = P1.drop('Unnamed: 12', axis=1)"
   ]
  },
  {
   "cell_type": "code",
   "execution_count": 953,
   "id": "cd712d17",
   "metadata": {},
   "outputs": [],
   "source": [
    "P1 = P1.drop('№ строки', axis=1)"
   ]
  },
  {
   "cell_type": "code",
   "execution_count": 954,
   "id": "5a415857",
   "metadata": {},
   "outputs": [],
   "source": [
    "df = P1"
   ]
  },
  {
   "cell_type": "code",
   "execution_count": 955,
   "id": "cb854ec6",
   "metadata": {},
   "outputs": [],
   "source": [
    "df = df.fillna(0)"
   ]
  },
  {
   "cell_type": "code",
   "execution_count": 956,
   "id": "85d4af34",
   "metadata": {},
   "outputs": [
    {
     "data": {
      "text/plain": [
       "['Регион',\n",
       " 'Округ',\n",
       " 'Направления реализации государственной молодeжной политики']"
      ]
     },
     "execution_count": 956,
     "metadata": {},
     "output_type": "execute_result"
    }
   ],
   "source": [
    "cat_features = df.select_dtypes(include=['object']).columns.tolist()\n",
    "cat_features"
   ]
  },
  {
   "cell_type": "markdown",
   "id": "dab4fb15",
   "metadata": {},
   "source": [
    "### Преобразованиие данных в X и y"
   ]
  },
  {
   "cell_type": "code",
   "execution_count": 957,
   "id": "363d4ccf",
   "metadata": {},
   "outputs": [],
   "source": [
    "X = df.drop(['Количество детских и молодeжных общественных объединений, работающих по данному '], axis=1)\n",
    "y_regression = df['Количество детских и молодeжных общественных объединений, работающих по данному ']"
   ]
  },
  {
   "cell_type": "markdown",
   "id": "3f96d26c",
   "metadata": {},
   "source": [
    "## Обучение и тестирование моделей"
   ]
  },
  {
   "cell_type": "code",
   "execution_count": 958,
   "id": "f348ece1",
   "metadata": {},
   "outputs": [],
   "source": [
    "from sklearn.model_selection import train_test_split"
   ]
  },
  {
   "cell_type": "code",
   "execution_count": 959,
   "id": "1b80bc0b",
   "metadata": {},
   "outputs": [],
   "source": [
    "import datetime\n",
    "import pandas as pd\n",
    "import numpy as np\n",
    "\n",
    "import matplotlib.pyplot as plt\n",
    "import seaborn as sns\n",
    "import plotly.express as px\n",
    "\n",
    "from catboost import CatBoostRegressor, CatBoostClassifier\n",
    "\n",
    "from sklearn.model_selection import *\n",
    "from sklearn.metrics import *\n",
    "\n",
    "pd.options.display.float_format = \"{:.1f}\".format\n",
    "sns.set_style(\"whitegrid\")\n",
    "plt.style.use(\"fivethirtyeight\") \n",
    "\n",
    "import warnings\n",
    "warnings.filterwarnings(\"ignore\")"
   ]
  },
  {
   "cell_type": "markdown",
   "id": "3c1aab56",
   "metadata": {},
   "source": [
    "### Подход №1: Регрессия"
   ]
  },
  {
   "cell_type": "code",
   "execution_count": 960,
   "id": "b3e2dcdd",
   "metadata": {},
   "outputs": [],
   "source": [
    "X_train, X_val, y_train, y_val = train_test_split(X, y_regression, test_size=0.2, random_state=42)"
   ]
  },
  {
   "cell_type": "code",
   "execution_count": 961,
   "id": "58f16034",
   "metadata": {},
   "outputs": [
    {
     "name": "stdout",
     "output_type": "stream",
     "text": [
      "Learning rate set to 0.056018\n",
      "0:\tlearn: 929.6415169\ttest: 879.2215631\tbest: 879.2215631 (0)\ttotal: 6.32ms\tremaining: 6.31s\n",
      "100:\tlearn: 714.1821584\ttest: 863.8938694\tbest: 862.7996070 (74)\ttotal: 417ms\tremaining: 3.71s\n",
      "200:\tlearn: 568.9023986\ttest: 867.0724713\tbest: 862.5310868 (120)\ttotal: 587ms\tremaining: 2.33s\n",
      "300:\tlearn: 415.9822076\ttest: 870.6408400\tbest: 862.5310868 (120)\ttotal: 765ms\tremaining: 1.78s\n",
      "400:\tlearn: 348.2948774\ttest: 874.6994197\tbest: 862.5310868 (120)\ttotal: 942ms\tremaining: 1.41s\n",
      "500:\tlearn: 306.8356715\ttest: 878.6161781\tbest: 862.5310868 (120)\ttotal: 1.13s\tremaining: 1.12s\n",
      "600:\tlearn: 260.9969871\ttest: 888.8254703\tbest: 862.5310868 (120)\ttotal: 1.31s\tremaining: 871ms\n",
      "700:\tlearn: 241.9164157\ttest: 892.3683514\tbest: 862.5310868 (120)\ttotal: 1.5s\tremaining: 641ms\n",
      "800:\tlearn: 218.5141038\ttest: 897.0638050\tbest: 862.5310868 (120)\ttotal: 1.72s\tremaining: 426ms\n",
      "900:\tlearn: 205.5294980\ttest: 898.4634617\tbest: 862.5310868 (120)\ttotal: 1.92s\tremaining: 211ms\n",
      "999:\tlearn: 192.5334682\ttest: 899.0694957\tbest: 862.5310868 (120)\ttotal: 2.11s\tremaining: 0us\n",
      "\n",
      "bestTest = 862.5310868\n",
      "bestIteration = 120\n",
      "\n",
      "Shrink model to first 121 iterations.\n"
     ]
    },
    {
     "data": {
      "text/plain": [
       "<catboost.core.CatBoostRegressor at 0x7fb839559720>"
      ]
     },
     "execution_count": 961,
     "metadata": {},
     "output_type": "execute_result"
    }
   ],
   "source": [
    "model_regression = CatBoostRegressor(\n",
    "    verbose=100,\n",
    "    cat_features=cat_features\n",
    ")\n",
    "\n",
    "model_regression.fit(X_train, y_train, eval_set=(X_val, y_val))"
   ]
  },
  {
   "cell_type": "code",
   "execution_count": 962,
   "id": "18242e9e",
   "metadata": {},
   "outputs": [],
   "source": [
    "preds_test_regression = model_regression.predict(X_val[model_regression.feature_names_])"
   ]
  },
  {
   "cell_type": "markdown",
   "id": "fe1e78b8",
   "metadata": {},
   "source": [
    "# feature_importance"
   ]
  },
  {
   "cell_type": "code",
   "execution_count": 963,
   "id": "fbf0d289",
   "metadata": {
    "scrolled": false
   },
   "outputs": [
    {
     "data": {
      "text/plain": [
       "([<matplotlib.axis.YTick at 0x7fb8393d89a0>,\n",
       "  <matplotlib.axis.YTick at 0x7fb8393d8340>,\n",
       "  <matplotlib.axis.YTick at 0x7fb8393db940>,\n",
       "  <matplotlib.axis.YTick at 0x7fb839209150>,\n",
       "  <matplotlib.axis.YTick at 0x7fb839209c00>,\n",
       "  <matplotlib.axis.YTick at 0x7fb83920a110>,\n",
       "  <matplotlib.axis.YTick at 0x7fb83920abc0>,\n",
       "  <matplotlib.axis.YTick at 0x7fb83920b670>,\n",
       "  <matplotlib.axis.YTick at 0x7fb83920bdc0>],\n",
       " [Text(0, 0, 'Год'),\n",
       "  Text(0, 1, 'Бюджет СРФ, руб'),\n",
       "  Text(0, 2, 'Округ'),\n",
       "  Text(0, 3, 'Бюджет МО, руб'),\n",
       "  Text(0, 4, 'Кол-во грантов'),\n",
       "  Text(0, 5, 'Численность молодeжи, задействованной в программных мероприятиях по направлению'),\n",
       "  Text(0, 6, 'Регион'),\n",
       "  Text(0, 7, 'Бюджет грантов, руб'),\n",
       "  Text(0, 8, 'Направления реализации государственной молодeжной политики')])"
      ]
     },
     "execution_count": 963,
     "metadata": {},
     "output_type": "execute_result"
    },
    {
     "data": {
      "image/png": "[encoded data removed]",
      "text/plain": [
       "<Figure size 2000x800 with 1 Axes>"
      ]
     },
     "metadata": {},
     "output_type": "display_data"
    }
   ],
   "source": [
    "feature_importance = model_regression.feature_importances_\n",
    "sorted_idx = np.argsort(feature_importance)\n",
    "\n",
    "fig = plt.figure(figsize=(20, 8))\n",
    "plt.barh(range(len(sorted_idx)), feature_importance[sorted_idx], align='center')\n",
    "plt.yticks(range(len(sorted_idx)), np.array(X_val.columns)[sorted_idx])"
   ]
  },
  {
   "cell_type": "markdown",
   "id": "054b5b24",
   "metadata": {},
   "source": [
    "# Анализ"
   ]
  },
  {
   "cell_type": "code",
   "execution_count": 964,
   "id": "d06e481f",
   "metadata": {},
   "outputs": [
    {
     "data": {
      "text/html": [
       "<div>\n",
       "<style scoped>\n",
       "    .dataframe tbody tr th:only-of-type {\n",
       "        vertical-align: middle;\n",
       "    }\n",
       "\n",
       "    .dataframe tbody tr th {\n",
       "        vertical-align: top;\n",
       "    }\n",
       "\n",
       "    .dataframe thead th {\n",
       "        text-align: right;\n",
       "    }\n",
       "</style>\n",
       "<table border=\"1\" class=\"dataframe\">\n",
       "  <thead>\n",
       "    <tr style=\"text-align: right;\">\n",
       "      <th></th>\n",
       "      <th>Год</th>\n",
       "      <th>Бюджет СРФ, руб</th>\n",
       "      <th>Бюджет МО, руб</th>\n",
       "      <th>Кол-во грантов</th>\n",
       "      <th>Бюджет грантов, руб</th>\n",
       "      <th>Численность молодeжи, задействованной в программных мероприятиях по направлению</th>\n",
       "      <th>Количество детских и молодeжных общественных объединений, работающих по данному</th>\n",
       "    </tr>\n",
       "  </thead>\n",
       "  <tbody>\n",
       "    <tr>\n",
       "      <th>Год</th>\n",
       "      <td>NaN</td>\n",
       "      <td>NaN</td>\n",
       "      <td>NaN</td>\n",
       "      <td>NaN</td>\n",
       "      <td>NaN</td>\n",
       "      <td>NaN</td>\n",
       "      <td>NaN</td>\n",
       "    </tr>\n",
       "    <tr>\n",
       "      <th>Бюджет СРФ, руб</th>\n",
       "      <td>NaN</td>\n",
       "      <td>1.0</td>\n",
       "      <td>0.1</td>\n",
       "      <td>0.0</td>\n",
       "      <td>0.1</td>\n",
       "      <td>0.2</td>\n",
       "      <td>0.0</td>\n",
       "    </tr>\n",
       "    <tr>\n",
       "      <th>Бюджет МО, руб</th>\n",
       "      <td>NaN</td>\n",
       "      <td>0.1</td>\n",
       "      <td>1.0</td>\n",
       "      <td>0.0</td>\n",
       "      <td>0.0</td>\n",
       "      <td>0.3</td>\n",
       "      <td>0.1</td>\n",
       "    </tr>\n",
       "    <tr>\n",
       "      <th>Кол-во грантов</th>\n",
       "      <td>NaN</td>\n",
       "      <td>0.0</td>\n",
       "      <td>0.0</td>\n",
       "      <td>1.0</td>\n",
       "      <td>0.1</td>\n",
       "      <td>0.0</td>\n",
       "      <td>0.0</td>\n",
       "    </tr>\n",
       "    <tr>\n",
       "      <th>Бюджет грантов, руб</th>\n",
       "      <td>NaN</td>\n",
       "      <td>0.1</td>\n",
       "      <td>0.0</td>\n",
       "      <td>0.1</td>\n",
       "      <td>1.0</td>\n",
       "      <td>0.1</td>\n",
       "      <td>0.0</td>\n",
       "    </tr>\n",
       "    <tr>\n",
       "      <th>Численность молодeжи, задействованной в программных мероприятиях по направлению</th>\n",
       "      <td>NaN</td>\n",
       "      <td>0.2</td>\n",
       "      <td>0.3</td>\n",
       "      <td>0.0</td>\n",
       "      <td>0.1</td>\n",
       "      <td>1.0</td>\n",
       "      <td>0.1</td>\n",
       "    </tr>\n",
       "    <tr>\n",
       "      <th>Количество детских и молодeжных общественных объединений, работающих по данному</th>\n",
       "      <td>NaN</td>\n",
       "      <td>0.0</td>\n",
       "      <td>0.1</td>\n",
       "      <td>0.0</td>\n",
       "      <td>0.0</td>\n",
       "      <td>0.1</td>\n",
       "      <td>1.0</td>\n",
       "    </tr>\n",
       "  </tbody>\n",
       "</table>\n",
       "</div>"
      ],
      "text/plain": [
       "                                                    Год  Бюджет СРФ, руб  \\\n",
       "Год                                                 NaN              NaN   \n",
       "Бюджет СРФ, руб                                     NaN              1.0   \n",
       "Бюджет МО, руб                                      NaN              0.1   \n",
       "Кол-во грантов                                      NaN              0.0   \n",
       "Бюджет грантов, руб                                 NaN              0.1   \n",
       "Численность молодeжи, задействованной в програм...  NaN              0.2   \n",
       "Количество детских и молодeжных общественных об...  NaN              0.0   \n",
       "\n",
       "                                                    Бюджет МО, руб  \\\n",
       "Год                                                            NaN   \n",
       "Бюджет СРФ, руб                                                0.1   \n",
       "Бюджет МО, руб                                                 1.0   \n",
       "Кол-во грантов                                                 0.0   \n",
       "Бюджет грантов, руб                                            0.0   \n",
       "Численность молодeжи, задействованной в програм...             0.3   \n",
       "Количество детских и молодeжных общественных об...             0.1   \n",
       "\n",
       "                                                    Кол-во грантов  \\\n",
       "Год                                                            NaN   \n",
       "Бюджет СРФ, руб                                                0.0   \n",
       "Бюджет МО, руб                                                 0.0   \n",
       "Кол-во грантов                                                 1.0   \n",
       "Бюджет грантов, руб                                            0.1   \n",
       "Численность молодeжи, задействованной в програм...             0.0   \n",
       "Количество детских и молодeжных общественных об...             0.0   \n",
       "\n",
       "                                                    Бюджет грантов, руб  \\\n",
       "Год                                                                 NaN   \n",
       "Бюджет СРФ, руб                                                     0.1   \n",
       "Бюджет МО, руб                                                      0.0   \n",
       "Кол-во грантов                                                      0.1   \n",
       "Бюджет грантов, руб                                                 1.0   \n",
       "Численность молодeжи, задействованной в програм...                  0.1   \n",
       "Количество детских и молодeжных общественных об...                  0.0   \n",
       "\n",
       "                                                    Численность молодeжи, задействованной в программных мероприятиях по направлению  \\\n",
       "Год                                                                                               NaN                                 \n",
       "Бюджет СРФ, руб                                                                                   0.2                                 \n",
       "Бюджет МО, руб                                                                                    0.3                                 \n",
       "Кол-во грантов                                                                                    0.0                                 \n",
       "Бюджет грантов, руб                                                                               0.1                                 \n",
       "Численность молодeжи, задействованной в програм...                                                1.0                                 \n",
       "Количество детских и молодeжных общественных об...                                                0.1                                 \n",
       "\n",
       "                                                    Количество детских и молодeжных общественных объединений, работающих по данному   \n",
       "Год                                                                                               NaN                                 \n",
       "Бюджет СРФ, руб                                                                                   0.0                                 \n",
       "Бюджет МО, руб                                                                                    0.1                                 \n",
       "Кол-во грантов                                                                                    0.0                                 \n",
       "Бюджет грантов, руб                                                                               0.0                                 \n",
       "Численность молодeжи, задействованной в програм...                                                0.1                                 \n",
       "Количество детских и молодeжных общественных об...                                                1.0                                 "
      ]
     },
     "execution_count": 964,
     "metadata": {},
     "output_type": "execute_result"
    }
   ],
   "source": [
    "corr=df.corr()\n",
    "corr"
   ]
  },
  {
   "cell_type": "code",
   "execution_count": 965,
   "id": "8146adf0",
   "metadata": {},
   "outputs": [
    {
     "data": {
      "text/plain": [
       "<Axes: >"
      ]
     },
     "execution_count": 965,
     "metadata": {},
     "output_type": "execute_result"
    },
    {
     "data": {
      "image/png": "[encoded data removed]",
      "text/plain": [
       "<Figure size 1500x1000 with 2 Axes>"
      ]
     },
     "metadata": {},
     "output_type": "display_data"
    }
   ],
   "source": [
    "plt.figure(figsize=(15,10))\n",
    "mask = np.zeros_like(corr, dtype=bool)\n",
    "mask[np.triu_indices_from(mask)] = True\n",
    "sns.heatmap(corr, linewidths=.5,annot=True,mask=mask)"
   ]
  },
  {
   "cell_type": "code",
   "execution_count": 966,
   "id": "5886bfdc",
   "metadata": {},
   "outputs": [
    {
     "data": {
      "text/html": [
       "<div>\n",
       "<style scoped>\n",
       "    .dataframe tbody tr th:only-of-type {\n",
       "        vertical-align: middle;\n",
       "    }\n",
       "\n",
       "    .dataframe tbody tr th {\n",
       "        vertical-align: top;\n",
       "    }\n",
       "\n",
       "    .dataframe thead th {\n",
       "        text-align: right;\n",
       "    }\n",
       "</style>\n",
       "<table border=\"1\" class=\"dataframe\">\n",
       "  <thead>\n",
       "    <tr style=\"text-align: right;\">\n",
       "      <th></th>\n",
       "      <th>Год</th>\n",
       "      <th>Бюджет СРФ, руб</th>\n",
       "      <th>Бюджет МО, руб</th>\n",
       "      <th>Кол-во грантов</th>\n",
       "      <th>Бюджет грантов, руб</th>\n",
       "      <th>Численность молодeжи, задействованной в программных мероприятиях по направлению</th>\n",
       "      <th>Количество детских и молодeжных общественных объединений, работающих по данному</th>\n",
       "    </tr>\n",
       "  </thead>\n",
       "  <tbody>\n",
       "    <tr>\n",
       "      <th>count</th>\n",
       "      <td>2295.0</td>\n",
       "      <td>2295.0</td>\n",
       "      <td>2295.0</td>\n",
       "      <td>2295.0</td>\n",
       "      <td>2295.0</td>\n",
       "      <td>2295.0</td>\n",
       "      <td>2295.0</td>\n",
       "    </tr>\n",
       "    <tr>\n",
       "      <th>mean</th>\n",
       "      <td>2021.0</td>\n",
       "      <td>7518926.6</td>\n",
       "      <td>2266770.6</td>\n",
       "      <td>6.2</td>\n",
       "      <td>2080830.9</td>\n",
       "      <td>37561.1</td>\n",
       "      <td>126.8</td>\n",
       "    </tr>\n",
       "    <tr>\n",
       "      <th>std</th>\n",
       "      <td>0.0</td>\n",
       "      <td>54222180.2</td>\n",
       "      <td>14784797.4</td>\n",
       "      <td>120.8</td>\n",
       "      <td>24736296.8</td>\n",
       "      <td>114352.0</td>\n",
       "      <td>923.0</td>\n",
       "    </tr>\n",
       "    <tr>\n",
       "      <th>min</th>\n",
       "      <td>2021.0</td>\n",
       "      <td>0.0</td>\n",
       "      <td>0.0</td>\n",
       "      <td>0.0</td>\n",
       "      <td>0.0</td>\n",
       "      <td>0.0</td>\n",
       "      <td>0.0</td>\n",
       "    </tr>\n",
       "    <tr>\n",
       "      <th>25%</th>\n",
       "      <td>2021.0</td>\n",
       "      <td>0.0</td>\n",
       "      <td>0.0</td>\n",
       "      <td>0.0</td>\n",
       "      <td>0.0</td>\n",
       "      <td>280.0</td>\n",
       "      <td>0.0</td>\n",
       "    </tr>\n",
       "    <tr>\n",
       "      <th>50%</th>\n",
       "      <td>2021.0</td>\n",
       "      <td>105490.0</td>\n",
       "      <td>80865.0</td>\n",
       "      <td>0.0</td>\n",
       "      <td>0.0</td>\n",
       "      <td>4296.0</td>\n",
       "      <td>12.0</td>\n",
       "    </tr>\n",
       "    <tr>\n",
       "      <th>75%</th>\n",
       "      <td>2021.0</td>\n",
       "      <td>1857643.0</td>\n",
       "      <td>777091.0</td>\n",
       "      <td>2.0</td>\n",
       "      <td>499989.5</td>\n",
       "      <td>27394.0</td>\n",
       "      <td>78.0</td>\n",
       "    </tr>\n",
       "    <tr>\n",
       "      <th>max</th>\n",
       "      <td>2021.0</td>\n",
       "      <td>1418314800.0</td>\n",
       "      <td>537510446.0</td>\n",
       "      <td>5735.0</td>\n",
       "      <td>1135202650.0</td>\n",
       "      <td>2000265.0</td>\n",
       "      <td>34141.0</td>\n",
       "    </tr>\n",
       "  </tbody>\n",
       "</table>\n",
       "</div>"
      ],
      "text/plain": [
       "         Год  Бюджет СРФ, руб  Бюджет МО, руб  Кол-во грантов  \\\n",
       "count 2295.0           2295.0          2295.0          2295.0   \n",
       "mean  2021.0        7518926.6       2266770.6             6.2   \n",
       "std      0.0       54222180.2      14784797.4           120.8   \n",
       "min   2021.0              0.0             0.0             0.0   \n",
       "25%   2021.0              0.0             0.0             0.0   \n",
       "50%   2021.0         105490.0         80865.0             0.0   \n",
       "75%   2021.0        1857643.0        777091.0             2.0   \n",
       "max   2021.0     1418314800.0     537510446.0          5735.0   \n",
       "\n",
       "       Бюджет грантов, руб  \\\n",
       "count               2295.0   \n",
       "mean             2080830.9   \n",
       "std             24736296.8   \n",
       "min                    0.0   \n",
       "25%                    0.0   \n",
       "50%                    0.0   \n",
       "75%               499989.5   \n",
       "max           1135202650.0   \n",
       "\n",
       "       Численность молодeжи, задействованной в программных мероприятиях по направлению  \\\n",
       "count                                             2295.0                                 \n",
       "mean                                             37561.1                                 \n",
       "std                                             114352.0                                 \n",
       "min                                                  0.0                                 \n",
       "25%                                                280.0                                 \n",
       "50%                                               4296.0                                 \n",
       "75%                                              27394.0                                 \n",
       "max                                            2000265.0                                 \n",
       "\n",
       "       Количество детских и молодeжных общественных объединений, работающих по данному   \n",
       "count                                             2295.0                                 \n",
       "mean                                               126.8                                 \n",
       "std                                                923.0                                 \n",
       "min                                                  0.0                                 \n",
       "25%                                                  0.0                                 \n",
       "50%                                                 12.0                                 \n",
       "75%                                                 78.0                                 \n",
       "max                                              34141.0                                 "
      ]
     },
     "execution_count": 966,
     "metadata": {},
     "output_type": "execute_result"
    }
   ],
   "source": [
    "df.describe()"
   ]
  },
  {
   "cell_type": "code",
   "execution_count": null,
   "id": "7cad3a5b",
   "metadata": {},
   "outputs": [],
   "source": []
  },
  {
   "cell_type": "code",
   "execution_count": null,
   "id": "9834b1db",
   "metadata": {},
   "outputs": [],
   "source": []
  },
  {
   "cell_type": "code",
   "execution_count": null,
   "id": "c45c2265",
   "metadata": {},
   "outputs": [],
   "source": []
  },
  {
   "cell_type": "code",
   "execution_count": null,
   "id": "4a7e2beb",
   "metadata": {},
   "outputs": [],
   "source": []
  },
  {
   "cell_type": "markdown",
   "id": "19fb8705",
   "metadata": {},
   "source": [
    "### Making dashboard"
   ]
  },
  {
   "cell_type": "code",
   "execution_count": 967,
   "id": "24a5142b",
   "metadata": {},
   "outputs": [],
   "source": [
    "#??pn.panel"
   ]
  },
  {
   "cell_type": "code",
   "execution_count": 968,
   "id": "bdc82c3b",
   "metadata": {},
   "outputs": [
    {
     "name": "stdout",
     "output_type": "stream",
     "text": [
      "Launching server at http://localhost:44223\n"
     ]
    },
    {
     "data": {
      "text/plain": [
       "<panel.io.server.Server at 0x7fb839056950>"
      ]
     },
     "execution_count": 968,
     "metadata": {},
     "output_type": "execute_result"
    }
   ],
   "source": [
    "# layout template\n",
    "template = pn.template.FastListTemplate(\n",
    "    title='молодежный-бит хакатон', \n",
    "    sidebar=[pn.pane.Markdown(\"# Дашборд\"), \n",
    "             pn.pane.Markdown(\"#### Написать на русском\"), \n",
    "             pn.pane.Markdown(\"## Настройки\"),\n",
    "             pn.pane.Markdown(\"Регулировка года (на стадии разработки)\"), \n",
    "             year_slider],\n",
    "    main=[pn.Row(pn.Column(fig, margin=(5, 5))),\n",
    "          pn.Row(pn.Column(iscatter_select, iscatter_plot.panel(width = 500, height = 500, sizing_mode='scale_both'), margin=(0,0))),\n",
    "          pn.Row(pn.Column(districts_buttons, itable_1.panel(width=300))),\n",
    "          pn.Row(pn.Column(select_budget, ihvplot.panel(height=500, sizing_mode='scale_both'))),\n",
    "          pn.Row(pn.Column(pp1_pipeline.panel(width=300), margin=(0,25)))],\n",
    "    accent_base_color=\"#88d8b0\",\n",
    "    header_background=\"#88d8b0\",\n",
    ")\n",
    "template.show()\n",
    "#template.servable();"
   ]
  },
  {
   "cell_type": "code",
   "execution_count": null,
   "id": "f6349fbf",
   "metadata": {},
   "outputs": [],
   "source": []
  },
  {
   "cell_type": "code",
   "execution_count": null,
   "id": "4925522c",
   "metadata": {},
   "outputs": [],
   "source": []
  }
 ],
 "metadata": {
  "kernelspec": {
   "display_name": "youngbit_env",
   "language": "python",
   "name": "youngbit_env"
  },
  "language_info": {
   "codemirror_mode": {
    "name": "ipython",
    "version": 3
   },
   "file_extension": ".py",
   "mimetype": "text/x-python",
   "name": "python",
   "nbconvert_exporter": "python",
   "pygments_lexer": "ipython3",
   "version": "3.10.9"
  }
 },
 "nbformat": 4,
 "nbformat_minor": 5
}
